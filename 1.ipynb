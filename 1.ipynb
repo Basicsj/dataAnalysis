{
  "nbformat": 4,
  "nbformat_minor": 0,
  "metadata": {
    "colab": {
      "provenance": [],
      "toc_visible": true,
      "authorship_tag": "ABX9TyMkAFOpb0VbVSnrRQn4QPsF",
      "include_colab_link": true
    },
    "kernelspec": {
      "name": "python3",
      "display_name": "Python 3"
    },
    "language_info": {
      "name": "python"
    }
  },
  "cells": [
    {
      "cell_type": "markdown",
      "metadata": {
        "id": "view-in-github",
        "colab_type": "text"
      },
      "source": [
        "<a href=\"https://colab.research.google.com/github/Basicsj/dataAnalysis/blob/main/1.ipynb\" target=\"_parent\"><img src=\"https://colab.research.google.com/assets/colab-badge.svg\" alt=\"Open In Colab\"/></a>"
      ]
    },
    {
      "cell_type": "markdown",
      "source": [],
      "metadata": {
        "id": "Bsfzw90bzJh3"
      }
    },
    {
      "cell_type": "code",
      "execution_count": null,
      "metadata": {
        "id": "BFlTODPxqFkz"
      },
      "outputs": [],
      "source": []
    },
    {
      "cell_type": "markdown",
      "source": [
        "### 1.파이썬 자료형과 연산"
      ],
      "metadata": {
        "id": "qeKdhZq-qT_x"
      }
    },
    {
      "cell_type": "code",
      "source": [
        "a = 10              # number\n",
        "b = '파이썬'        #string\n",
        "print( a + b )"
      ],
      "metadata": {
        "id": "YuPjUtM1tjJq",
        "colab": {
          "base_uri": "https://localhost:8080/",
          "height": 184
        },
        "outputId": "bb3be275-4cba-4129-dd1f-1113658f20ce"
      },
      "execution_count": null,
      "outputs": [
        {
          "output_type": "error",
          "ename": "TypeError",
          "evalue": "unsupported operand type(s) for +: 'int' and 'str'",
          "traceback": [
            "\u001b[0;31m---------------------------------------------------------------------------\u001b[0m",
            "\u001b[0;31mTypeError\u001b[0m                                 Traceback (most recent call last)",
            "\u001b[0;32m<ipython-input-3-ad7cbf944011>\u001b[0m in \u001b[0;36m<cell line: 3>\u001b[0;34m()\u001b[0m\n\u001b[1;32m      1\u001b[0m \u001b[0ma\u001b[0m \u001b[0;34m=\u001b[0m \u001b[0;36m10\u001b[0m              \u001b[0;31m# number\u001b[0m\u001b[0;34m\u001b[0m\u001b[0;34m\u001b[0m\u001b[0m\n\u001b[1;32m      2\u001b[0m \u001b[0mb\u001b[0m \u001b[0;34m=\u001b[0m \u001b[0;34m'파이썬'\u001b[0m        \u001b[0;31m#string\u001b[0m\u001b[0;34m\u001b[0m\u001b[0;34m\u001b[0m\u001b[0m\n\u001b[0;32m----> 3\u001b[0;31m \u001b[0mprint\u001b[0m\u001b[0;34m(\u001b[0m \u001b[0ma\u001b[0m \u001b[0;34m+\u001b[0m \u001b[0mb\u001b[0m \u001b[0;34m)\u001b[0m\u001b[0;34m\u001b[0m\u001b[0;34m\u001b[0m\u001b[0m\n\u001b[0m",
            "\u001b[0;31mTypeError\u001b[0m: unsupported operand type(s) for +: 'int' and 'str'"
          ]
        }
      ]
    },
    {
      "cell_type": "markdown",
      "source": [
        "#오류"
      ],
      "metadata": {
        "id": "w-yhGA9Wy68c"
      }
    },
    {
      "cell_type": "markdown",
      "source": [
        "1. 파이썬 버전 출력"
      ],
      "metadata": {
        "id": "5yPvDKcCzLk0"
      }
    },
    {
      "cell_type": "code",
      "source": [
        "!python -V"
      ],
      "metadata": {
        "colab": {
          "base_uri": "https://localhost:8080/"
        },
        "id": "_RErG0F4zP2a",
        "outputId": "3c2065f6-3684-4912-b39f-7bd131a44f9a"
      },
      "execution_count": null,
      "outputs": [
        {
          "output_type": "stream",
          "name": "stdout",
          "text": [
            "Python 3.10.12\n"
          ]
        }
      ]
    },
    {
      "cell_type": "code",
      "source": [
        "import sys\n",
        "sys.version\n",
        "print('---',sys.version)"
      ],
      "metadata": {
        "colab": {
          "base_uri": "https://localhost:8080/"
        },
        "id": "wuLCJd4KzTbj",
        "outputId": "12da2514-d0ef-4434-fb67-245f8cf2125a"
      },
      "execution_count": null,
      "outputs": [
        {
          "output_type": "stream",
          "name": "stdout",
          "text": [
            "--- 3.10.12 (main, Nov 20 2023, 15:14:05) [GCC 11.4.0]\n"
          ]
        }
      ]
    },
    {
      "cell_type": "code",
      "source": [
        "import sys\n",
        "print('---',sys.version)\n",
        "sys.version"
      ],
      "metadata": {
        "colab": {
          "base_uri": "https://localhost:8080/",
          "height": 54
        },
        "id": "-DwqmSQpzmjr",
        "outputId": "61992de5-29c2-4cea-c82c-1bfa4a0012b0"
      },
      "execution_count": null,
      "outputs": [
        {
          "output_type": "stream",
          "name": "stdout",
          "text": [
            "--- 3.10.12 (main, Nov 20 2023, 15:14:05) [GCC 11.4.0]\n"
          ]
        },
        {
          "output_type": "execute_result",
          "data": {
            "text/plain": [
              "'3.10.12 (main, Nov 20 2023, 15:14:05) [GCC 11.4.0]'"
            ],
            "application/vnd.google.colaboratory.intrinsic+json": {
              "type": "string"
            }
          },
          "metadata": {},
          "execution_count": 8
        }
      ]
    },
    {
      "cell_type": "code",
      "source": [
        "# 2. 파이썬 설치 위치\n",
        "import sys\n",
        "print(sys.executable)"
      ],
      "metadata": {
        "colab": {
          "base_uri": "https://localhost:8080/"
        },
        "id": "sUHSUcQz0FLc",
        "outputId": "fe551442-3acb-478c-c941-9bf669483551"
      },
      "execution_count": null,
      "outputs": [
        {
          "output_type": "stream",
          "name": "stdout",
          "text": [
            "/usr/bin/python3\n"
          ]
        }
      ]
    },
    {
      "cell_type": "code",
      "source": [
        "# 2. 파이썬 설치 위치 - 한번 import sys 했으면 다음엔 안넣어줘도 됨\n",
        "print(sys.executable)"
      ],
      "metadata": {
        "colab": {
          "base_uri": "https://localhost:8080/"
        },
        "id": "vYY23gg212xS",
        "outputId": "33838b24-d85e-4bc5-ce1b-e384badcf8a9"
      },
      "execution_count": null,
      "outputs": [
        {
          "output_type": "stream",
          "name": "stdout",
          "text": [
            "/usr/bin/python3\n"
          ]
        }
      ]
    },
    {
      "cell_type": "code",
      "source": [
        "# 물리적 폴더 위치\n",
        "import os\n",
        "os.getcwd()"
      ],
      "metadata": {
        "colab": {
          "base_uri": "https://localhost:8080/",
          "height": 35
        },
        "id": "Lz5ceGXN0oKC",
        "outputId": "08fe0bd7-6c5f-48a4-b2fa-67338deb0ae8"
      },
      "execution_count": null,
      "outputs": [
        {
          "output_type": "execute_result",
          "data": {
            "text/plain": [
              "'/content'"
            ],
            "application/vnd.google.colaboratory.intrinsic+json": {
              "type": "string"
            }
          },
          "metadata": {},
          "execution_count": 11
        }
      ]
    },
    {
      "cell_type": "code",
      "source": [
        "10+3*4"
      ],
      "metadata": {
        "colab": {
          "base_uri": "https://localhost:8080/"
        },
        "id": "U-3jvEN42EfR",
        "outputId": "8d5ab6cf-368f-4f74-b60d-074443d0f17b"
      },
      "execution_count": null,
      "outputs": [
        {
          "output_type": "execute_result",
          "data": {
            "text/plain": [
              "22"
            ]
          },
          "metadata": {},
          "execution_count": 12
        }
      ]
    },
    {
      "cell_type": "code",
      "source": [
        "# ✓ 문제1: 10 + 3 x 4 결과 출력\n",
        "print(10 + 3 * 4)\n",
        "# ✓ 문제2: 아이폰 15대를 가지고 있다. 아이폰의 가격이 130만원 일 때 총 금액은?\n",
        "iphone = 15\n",
        "price = 1300000\n",
        "print(iphone*price)\n",
        "# ✓ 문제3: 주어진 임의의 자연수가 홀수인지 짝수인지 판별하는 방법은?\n",
        "x = 10\n",
        "if x % 2 == 0:\n",
        "  print('짝수')\n",
        "else :\n",
        "  print('홀수')\n",
        "# ✓ 문제4: 2x2x2x5x5x5x5x3x3x3x3을 제곱형태로 나타낸 후 그 결과 출력\n",
        "print(2**3 * 5**4 *3 **4)"
      ],
      "metadata": {
        "colab": {
          "base_uri": "https://localhost:8080/"
        },
        "id": "LQKcLwGI3V2p",
        "outputId": "6a9a52f0-0f5d-4c57-9173-1b181eb0daa9"
      },
      "execution_count": null,
      "outputs": [
        {
          "output_type": "stream",
          "name": "stdout",
          "text": [
            "22\n",
            "19500000\n",
            "짝수\n",
            "405000\n"
          ]
        }
      ]
    },
    {
      "cell_type": "code",
      "source": [
        "# ✓ 문제3: 주어진 임의의 자연수가 홀수인지 짝수인지 판별하는 방법은?\n",
        "x = 10\n",
        "print('짝수') if x%2 == 0 else print('홀수')"
      ],
      "metadata": {
        "colab": {
          "base_uri": "https://localhost:8080/"
        },
        "id": "NZT8Y8it3qIu",
        "outputId": "e6e61b79-8d9f-49a6-b41f-687997723a60"
      },
      "execution_count": null,
      "outputs": [
        {
          "output_type": "stream",
          "name": "stdout",
          "text": [
            "짝수\n"
          ]
        }
      ]
    },
    {
      "cell_type": "markdown",
      "source": [
        "### 파이썬 자료형(Data Type) 확인 함수 : type()"
      ],
      "metadata": {
        "id": "R49bhFi-91oM"
      }
    },
    {
      "cell_type": "code",
      "source": [
        "print( type( 123 ) )\n",
        "print( type( 3.14 ) )\n",
        "print( type( \"123\" ) )\n",
        "print( type( [123] ) )\n",
        "print( type( ( 123, ) ))\n",
        "print( type( {'123' : 123 }) )\n",
        "print( type( {23} ) )\n",
        "print( type( True ) )"
      ],
      "metadata": {
        "colab": {
          "base_uri": "https://localhost:8080/"
        },
        "id": "5J5qz87I67Gl",
        "outputId": "eca2d84e-8132-4ed7-83c4-dee98252711c"
      },
      "execution_count": null,
      "outputs": [
        {
          "output_type": "stream",
          "name": "stdout",
          "text": [
            "<class 'int'>\n",
            "<class 'float'>\n",
            "<class 'str'>\n",
            "<class 'list'>\n",
            "<class 'tuple'>\n",
            "<class 'dict'>\n",
            "<class 'set'>\n",
            "<class 'bool'>\n"
          ]
        }
      ]
    },
    {
      "cell_type": "code",
      "source": [],
      "metadata": {
        "id": "gmhUpNkM-Q2M"
      },
      "execution_count": null,
      "outputs": []
    },
    {
      "cell_type": "markdown",
      "source": [
        "# 2.표준 입출력"
      ],
      "metadata": {
        "id": "xywJI45vCgh6"
      }
    },
    {
      "cell_type": "markdown",
      "source": [
        "#문자열 데이터를 숫자로 변환하기"
      ],
      "metadata": {
        "id": "HtWYoPynDEnY"
      }
    },
    {
      "cell_type": "code",
      "source": [
        "a= input( '숫자를 입력하세요: ')\n",
        "print( type(a) )\n",
        "a = int(a)    # 정수로 변환하는 함수 : int()\n",
        "print( type(a) )"
      ],
      "metadata": {
        "colab": {
          "base_uri": "https://localhost:8080/"
        },
        "id": "fnOIoSS3DHvR",
        "outputId": "51b16de1-892b-46ae-93a4-288247748b0e"
      },
      "execution_count": null,
      "outputs": [
        {
          "output_type": "stream",
          "name": "stdout",
          "text": [
            "숫자를 입력하세요:100\n",
            "<class 'str'>\n",
            "<class 'int'>\n"
          ]
        }
      ]
    },
    {
      "cell_type": "code",
      "source": [
        "# a= input( '숫자를 입력하세요: ')\n",
        "# a = int(a)\n",
        "\n",
        "a = int(input( '숫자를 입력하세요: '))"
      ],
      "metadata": {
        "colab": {
          "base_uri": "https://localhost:8080/"
        },
        "id": "EjiRaISJDT87",
        "outputId": "76940940-db38-4a39-ac60-de32884aebb2"
      },
      "execution_count": null,
      "outputs": [
        {
          "name": "stdout",
          "output_type": "stream",
          "text": [
            "숫자를 입력하세요: 100\n",
            "숫자를 입력하세요: 100\n"
          ]
        }
      ]
    },
    {
      "cell_type": "code",
      "source": [
        "# 문자열 포맷팅\n",
        "a = input( '키보드로 입력해 주세요.' )\n",
        "print( '변수 a의 값은', a, '입니다.' )\n",
        "print( '변수 a의 값은 %s 입니다.' % a )\n",
        "print( f'변수 a의 값은 {a} 입니다.' )"
      ],
      "metadata": {
        "colab": {
          "base_uri": "https://localhost:8080/"
        },
        "id": "MfvpwLYoEVCR",
        "outputId": "b073353e-dcbe-4371-9d8a-b2f433ae204f"
      },
      "execution_count": null,
      "outputs": [
        {
          "output_type": "stream",
          "name": "stdout",
          "text": [
            "키보드로 입력해 주세요.사과\n",
            "변수 a의 값은 사과 입니다.\n",
            "변수 a의 값은 사과 입니다.\n",
            "변수 a의 값은 사과 입니다.\n"
          ]
        }
      ]
    },
    {
      "cell_type": "markdown",
      "source": [
        "# 실습문제"
      ],
      "metadata": {
        "id": "ZPYeTdVtG0mV"
      }
    },
    {
      "cell_type": "code",
      "source": [
        "num1 = int(input( '첫 번째 숫자: ' ))\n",
        "num2 = int(input( '두 번째 숫자: ' ))\n",
        "print('-' * 30)\n",
        "print( f'덧셈:  {num1} + {num2} = {num1+num2:10}')\n",
        "print( f'뺄셈:  {num1} - {num2} = {num1-num2:>10}')  # > : 오른쪽 정렬   10은 10자를 의미\n",
        "print( f'곱셈:  {num1} * {num2} = {num1*num2:<10}')  # > : 왼쪽 정렬\n",
        "print( f'몫:   {num1} // {num2} = {num1//num2:^10}')  # > : 가운데 정렬\n",
        "print( f'나머지:{num1} % {num2} = {num1%num2:10}')"
      ],
      "metadata": {
        "colab": {
          "base_uri": "https://localhost:8080/"
        },
        "id": "OGFoeLg1G4W8",
        "outputId": "be714a59-4dd4-4bdd-adda-5d589bbfec75"
      },
      "execution_count": null,
      "outputs": [
        {
          "output_type": "stream",
          "name": "stdout",
          "text": [
            "첫 번째 숫자: 50\n",
            "두 번째 숫자: 3\n",
            "------------------------------\n",
            "덧셈:  50 + 3 =         53\n",
            "뺄셈:  50 - 3 =         47\n",
            "곱셈:  50 * 3 = 150       \n",
            "몫:   50 // 3 =     16    \n",
            "나머지:50 % 3 =          2\n"
          ]
        }
      ]
    },
    {
      "cell_type": "code",
      "source": [
        "# 정렬\n",
        "val = input( '첫 번째 숫자: ' )\n",
        "print(f'a의 값: {val:>10}')  # > : val값을 10자리로 오른쪽 정렬\n",
        "print(f'a의 값: {val:<10}')  # < : val값을 10자리로 왼쪽 정렬\n",
        "print(f'a의 값: {val:^10}')  # ^ : val값을 10자리로 가운데 정렬"
      ],
      "metadata": {
        "colab": {
          "base_uri": "https://localhost:8080/"
        },
        "id": "-13ekvygHrLr",
        "outputId": "6b064e79-800c-4bca-e1e0-1df7931f5f1d"
      },
      "execution_count": null,
      "outputs": [
        {
          "output_type": "stream",
          "name": "stdout",
          "text": [
            "첫 번째 숫자: 12345\n",
            "a의 값:      12345\n",
            "a의 값: 12345     \n",
            "a의 값:   12345   \n"
          ]
        }
      ]
    },
    {
      "cell_type": "markdown",
      "source": [
        "#속력계산 실습 : 시간은 속력 분의 거리"
      ],
      "metadata": {
        "id": "UejnwCQBL3qc"
      }
    },
    {
      "cell_type": "code",
      "source": [
        "velocity = float(input('속력을 입력해 주세요(km/h) : '))\n",
        "distance = float(input('거리를 입력해 주세요(km) : '))\n",
        "print('-' * 30)\n",
        "print( f'속력 : {velocity} km/h' )   #{velocity:.1f} => 다른 소수점 표현방법 ->소수점 자리 제약시 사용\n",
        "print( f'거리 : {distance} km' )\n",
        "print( f'시간 : {distance / velocity} h' )"
      ],
      "metadata": {
        "colab": {
          "base_uri": "https://localhost:8080/"
        },
        "id": "MRupfj5BLAkJ",
        "outputId": "cc6817ea-35ba-4664-ce52-f7230e1fc9bf"
      },
      "execution_count": null,
      "outputs": [
        {
          "output_type": "stream",
          "name": "stdout",
          "text": [
            "속력을 입력해 주세요(km/h) : 100\n",
            "거리를 입력해 주세요(km) : 340\n",
            "------------------------------\n",
            "속력 : 100.0 km/h\n",
            "거리 : 340.0 km\n",
            "시간 : 3.4 h\n"
          ]
        }
      ]
    },
    {
      "cell_type": "markdown",
      "source": [
        "### 내장된 수학함수"
      ],
      "metadata": {
        "id": "eOLEtOqkOuxb"
      }
    },
    {
      "cell_type": "code",
      "source": [
        "import math\n",
        "\n",
        "print(f'원주율: {math.pi}')\n",
        "print(f'절대값: {abs(-10)}')\n"
      ],
      "metadata": {
        "colab": {
          "base_uri": "https://localhost:8080/"
        },
        "id": "uEzzZsmCM63k",
        "outputId": "95c5acfd-c83f-4f86-c236-337dc5ce63dc"
      },
      "execution_count": null,
      "outputs": [
        {
          "output_type": "stream",
          "name": "stdout",
          "text": [
            "원주율: 3.141592653589793\n",
            "절대값: 10\n"
          ]
        }
      ]
    },
    {
      "cell_type": "markdown",
      "source": [
        "#### 실습문제"
      ],
      "metadata": {
        "id": "dkf7VlgiP86E"
      }
    },
    {
      "cell_type": "code",
      "source": [
        "import math\n",
        "# ✓ 문제1: 반지름이 4인 원의 넓이 출력\n",
        "r = 4\n",
        "print(f'원의 넓이 : {round(math.pi * math.pow(r,2), 4)}')\n",
        "# ✓ 문제2: 3.14 곱하기 2 나누기 7의 값을 반올림하여 계산 결과 출력\n",
        "print(f'계산결과: {round(3.14 *2 / 7)}')\n",
        "# ✓ 문제3: 원주율을 3.14로 만들어서 반지름이 4인 원의 둘레의 길이 출력\n",
        "print(f'원의 둘레: {2 * 3.14 * r}')\n"
      ],
      "metadata": {
        "colab": {
          "base_uri": "https://localhost:8080/"
        },
        "id": "QBUwnfqyQb8q",
        "outputId": "057ff4f6-2d45-4b05-af0a-799c35cad907"
      },
      "execution_count": null,
      "outputs": [
        {
          "output_type": "stream",
          "name": "stdout",
          "text": [
            "원의 넓이 : 50.2655\n",
            "계산결과: 1\n",
            "원의 둘레: 25.12\n"
          ]
        }
      ]
    },
    {
      "cell_type": "code",
      "source": [
        "import math\n",
        "# ✓ 문제1: 반지름이 4인 원의 넓이 출력\n",
        "r = 4\n",
        "pi = math.pi\n",
        "print(f'원의 넓이 : {round(pi * math.pow(r,2), 4)}')\n",
        "# ✓ 문제2: 3.14 곱하기 2 나누기 7의 값을 반올림하여 계산 결과 출력\n",
        "pi = 3.14\n",
        "print(f'계산결과: {round(pi*2 / 7)}')\n",
        "# ✓ 문제3: 원주율을 3.14로 만들어서 반지름이 4인 원의 둘레의 길이 출력\n",
        "print(f'원의 둘레: {2 * 3.14 * r}')"
      ],
      "metadata": {
        "colab": {
          "base_uri": "https://localhost:8080/"
        },
        "id": "J_FI_ojfRg9X",
        "outputId": "a36301e6-5fe8-49fb-9a05-5b57e1ae3600"
      },
      "execution_count": null,
      "outputs": [
        {
          "output_type": "stream",
          "name": "stdout",
          "text": [
            "원의 넓이 : 50.2655\n",
            "계산결과: 1\n",
            "원의 둘레: 25.12\n"
          ]
        }
      ]
    },
    {
      "cell_type": "markdown",
      "source": [
        "## [실습문제] 숫자 입력받아 계산하기\n",
        "\n",
        "a + aa + aaa = ?"
      ],
      "metadata": {
        "id": "Ay0qClzwG_DV"
      }
    },
    {
      "cell_type": "code",
      "source": [
        "a = input( '1~9까지의 정수 1개 입력: ')\n",
        "#aa = int(a+a)\n",
        "#aaa = int(a+a+a)\n",
        "print( int(a) + int(a+a) + int(a+a+a) )"
      ],
      "metadata": {
        "id": "Ya4XOFRgS-oV",
        "colab": {
          "base_uri": "https://localhost:8080/"
        },
        "outputId": "7280dd78-88cb-484e-c0b3-3f60f3656844"
      },
      "execution_count": null,
      "outputs": [
        {
          "output_type": "stream",
          "name": "stdout",
          "text": [
            "1~9까지의 정수 1개 입력: 7\n",
            "861\n"
          ]
        }
      ]
    },
    {
      "cell_type": "code",
      "source": [
        "a = input( '1~9까지의 정수 1개 입력: ')\n",
        "print(f'{a} + {a*2} + {a*3} = {int(a) + int(a*2) + int(a*3)}')"
      ],
      "metadata": {
        "colab": {
          "base_uri": "https://localhost:8080/"
        },
        "id": "8kzzY5GRKsAG",
        "outputId": "6236abd8-9b78-4aa5-eefa-2e33affdd000"
      },
      "execution_count": null,
      "outputs": [
        {
          "output_type": "stream",
          "name": "stdout",
          "text": [
            "1~9까지의 정수 1개 입력: 7\n",
            "7 + 77 + 777 = 861\n"
          ]
        }
      ]
    },
    {
      "cell_type": "code",
      "source": [
        "a= int(input('정수를 입력하세요(1~9):'))\n",
        "a10= a*10+a\n",
        "a100= a*100+a10\n",
        "sum=a+a10+a100\n",
        "print(f'{a}+{a10}+{a100}={sum}')"
      ],
      "metadata": {
        "colab": {
          "base_uri": "https://localhost:8080/"
        },
        "id": "Kr_Vj1pGMcig",
        "outputId": "7cdde617-c575-47ab-f0b1-99a6d3bb7eaf"
      },
      "execution_count": null,
      "outputs": [
        {
          "output_type": "stream",
          "name": "stdout",
          "text": [
            "정수를 입력하세요(1~9):7\n",
            "7+77+777=861\n"
          ]
        }
      ]
    },
    {
      "cell_type": "code",
      "source": [
        "a = input('정수를 입력하세요(1~9): ')\n",
        "a1 = int(a)\n",
        "a2 = int(a*2)\n",
        "a3 = int(a*3)\n",
        "sum1 = a1 + a2 + a3\n",
        "print(f'{a1} + {a2} + {a3} = {sum1}')"
      ],
      "metadata": {
        "colab": {
          "base_uri": "https://localhost:8080/"
        },
        "id": "zVwoa1Q0MwwU",
        "outputId": "5d03c983-12fb-46e3-a78c-4ca46a24f72c"
      },
      "execution_count": null,
      "outputs": [
        {
          "output_type": "stream",
          "name": "stdout",
          "text": [
            "정수를 입력하세요(1~9): 7\n",
            "7 + 77 + 777 = 861\n"
          ]
        }
      ]
    },
    {
      "cell_type": "code",
      "source": [
        "a = input('1~9까지의 정수 중 1개 입력: ')\n",
        "add = int(a) + int(a+a) + int(a+a+a)\n",
        "print(add)"
      ],
      "metadata": {
        "colab": {
          "base_uri": "https://localhost:8080/"
        },
        "id": "TkWLdD0PM1eU",
        "outputId": "a789be77-5283-4d21-fb52-88138a5ff928"
      },
      "execution_count": null,
      "outputs": [
        {
          "output_type": "stream",
          "name": "stdout",
          "text": [
            "1~9까지의 정수 중 1개 입력: 7\n",
            "861\n"
          ]
        }
      ]
    },
    {
      "cell_type": "code",
      "source": [
        "eval('7 + 77 + 777')\n",
        "calc = f'{a} + {a*2} + {a*3}'\n",
        "print( f'{calc} = {eval(calc)}')"
      ],
      "metadata": {
        "colab": {
          "base_uri": "https://localhost:8080/"
        },
        "id": "pNNSSD-cM3lr",
        "outputId": "fc6b22bf-c57c-444b-9e67-8f74e2806430"
      },
      "execution_count": null,
      "outputs": [
        {
          "output_type": "stream",
          "name": "stdout",
          "text": [
            "7 + 77 + 777 = 861\n"
          ]
        }
      ]
    },
    {
      "cell_type": "code",
      "source": [
        "a = input(\"정수를 입력하세요\")\n",
        "print(a ,' + ', a*2, ' + ', a*3, '=',int(a)+int(a*2)+int(a*3))"
      ],
      "metadata": {
        "colab": {
          "base_uri": "https://localhost:8080/"
        },
        "id": "uP0f7seaNB42",
        "outputId": "24b05014-42d7-4459-9268-bec9e2bbf0f5"
      },
      "execution_count": null,
      "outputs": [
        {
          "output_type": "stream",
          "name": "stdout",
          "text": [
            "정수를 입력하세요7\n",
            "7  +  77  +  777 = 861\n"
          ]
        }
      ]
    }
  ]
}