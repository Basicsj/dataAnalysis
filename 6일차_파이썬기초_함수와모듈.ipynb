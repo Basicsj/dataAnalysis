{
  "nbformat": 4,
  "nbformat_minor": 0,
  "metadata": {
    "colab": {
      "provenance": [],
      "toc_visible": true,
      "authorship_tag": "ABX9TyPphNfiqEW1cgAKkIWXSVy/",
      "include_colab_link": true
    },
    "kernelspec": {
      "name": "python3",
      "display_name": "Python 3"
    },
    "language_info": {
      "name": "python"
    }
  },
  "cells": [
    {
      "cell_type": "markdown",
      "metadata": {
        "id": "view-in-github",
        "colab_type": "text"
      },
      "source": [
        "<a href=\"https://colab.research.google.com/github/Basicsj/dataAnalysis/blob/main/6%EC%9D%BC%EC%B0%A8_%ED%8C%8C%EC%9D%B4%EC%8D%AC%EA%B8%B0%EC%B4%88_%ED%95%A8%EC%88%98%EC%99%80%EB%AA%A8%EB%93%88.ipynb\" target=\"_parent\"><img src=\"https://colab.research.google.com/assets/colab-badge.svg\" alt=\"Open In Colab\"/></a>"
      ]
    },
    {
      "cell_type": "markdown",
      "source": [
        "# 5. 함수와 모듈"
      ],
      "metadata": {
        "id": "pc_nFbcszOj0"
      }
    },
    {
      "cell_type": "markdown",
      "source": [
        "## 5-1. 함수정의"
      ],
      "metadata": {
        "id": "EHDKf6tVzVxQ"
      }
    },
    {
      "cell_type": "markdown",
      "source": [
        "### [실습문제] 암스트롱 찾기"
      ],
      "metadata": {
        "id": "FS5A2vf-UWl7"
      }
    },
    {
      "cell_type": "code",
      "execution_count": 3,
      "metadata": {
        "id": "b8S8dJqIzK_j",
        "colab": {
          "base_uri": "https://localhost:8080/"
        },
        "outputId": "f085dbbe-5542-43bf-9beb-d47c490561bc"
      },
      "outputs": [
        {
          "output_type": "stream",
          "name": "stdout",
          "text": [
            "[153] is armstrong number\n",
            "[370] is armstrong number\n",
            "[371] is armstrong number\n",
            "[407] is armstrong number\n"
          ]
        }
      ],
      "source": [
        "def is_armstrongNumber(n):\n",
        "    _1, _2, _3 = int(str(n)[0]), int(str(n)[1]), int(str(n)[2])\n",
        "    if _1**3+_2**3+_3**3 == n:\n",
        "        return True\n",
        "    else:\n",
        "        return False\n",
        "\n",
        "for n in range(100, 1000):\n",
        "    if is_armstrongNumber(n):\n",
        "        print(f\"[{n}] is armstrong number\")"
      ]
    },
    {
      "cell_type": "code",
      "source": [
        "def coffeemachine(coffee1, coffee2, coffee3):\n",
        "    total = 2500*coffee1 + 3000*coffee2 + 3000*coffee3\n",
        "    print(f\"지불하실 총 금액은 {total:,}원 입니다.\")\n",
        "\n",
        "    while True:\n",
        "        print('------------------------')\n",
        "        money = int(input('돈을 넣어 주세요: '))\n",
        "        change = money - total   # 거스름돈\n",
        "        if change < 0:\n",
        "            print(f\"돈이 부족합니다. {abs(change):,}원을 더 넣어주세요.\")\n",
        "            total = total - money\n",
        "        else:\n",
        "            print(f\"거스름돈은 {change:,}입니다. 커피 맛있게 드세요~\")\n",
        "            break\n",
        "\n",
        "menu = '''[커피 주문 머신 메뉴]\n",
        "-----------------------------\n",
        "- 아메리카노: 2500원\n",
        "- 카페라테:   3000원\n",
        "- 카페모카:   3000원\n",
        "-----------------------------\n",
        "원하시는 커피종류와 잔수를 입력하세요.'''\n",
        "print(menu)\n",
        "coffee1 = int(input('아메리카노 몇잔: '))\n",
        "coffee2 = int(input('카페라테   몇잔: '))\n",
        "coffee3 = int(input('카페모카   몇잔: '))\n",
        "\n",
        "coffeemachine(coffee1, coffee2, coffee3)   # 함수호출"
      ],
      "metadata": {
        "colab": {
          "base_uri": "https://localhost:8080/"
        },
        "id": "b1JN5ii9W_wa",
        "outputId": "3fd57724-958f-4972-f339-e657b4f4aefb"
      },
      "execution_count": 4,
      "outputs": [
        {
          "output_type": "stream",
          "name": "stdout",
          "text": [
            "[커피 주문 머신 메뉴]\n",
            "-----------------------------\n",
            "- 아메리카노: 2500원\n",
            "- 카페라테:   3000원\n",
            "- 카페모카:   3000원\n",
            "-----------------------------\n",
            "원하시는 커피종류와 잔수를 입력하세요.\n",
            "아메리카노 몇잔: 1\n",
            "카페라테   몇잔: 1\n",
            "카페모카   몇잔: 1\n",
            "지불하실 총 금액은 8,500원 입니다.\n",
            "------------------------\n",
            "돈을 넣어 주세요: 9000\n",
            "거스름돈은 500입니다. 커피 맛있게 드세요~\n"
          ]
        }
      ]
    },
    {
      "cell_type": "code",
      "source": [
        "def coffeemachine():\n",
        "    menu = '''[커피 주문 머신 메뉴]\n",
        "    -----------------------------\n",
        "    - 아메리카노: 2500원\n",
        "    - 카페라테:   3000원\n",
        "    - 카페모카:   3000원\n",
        "    -----------------------------\n",
        "    원하시는 커피종류와 잔수를 입력하세요.'''\n",
        "    print(menu)\n",
        "    coffee1 = int(input('아메리카노 몇잔: '))\n",
        "    coffee2 = int(input('카페라테   몇잔: '))\n",
        "    coffee3 = int(input('카페모카   몇잔: '))\n",
        "\n",
        "    total = 2500*coffee1 + 3000*coffee2 + 3000*coffee3\n",
        "    print(f\"지불하실 총 금액은 {total:,}원 입니다.\")\n",
        "\n",
        "    while True:\n",
        "        print('------------------------')\n",
        "        money = int(input('돈을 넣어 주세요: '))\n",
        "        change = money - total   # 거스름돈\n",
        "        if change < 0:\n",
        "            print(f\"돈이 부족합니다. {abs(change):,}원을 더 넣어주세요.\")\n",
        "            total = total - money\n",
        "        else:\n",
        "            print(f\"거스름돈은 {change:,}입니다. 커피 맛있게 드세요~\")\n",
        "            break\n",
        "\n",
        "\n",
        "coffeemachine()   # 함수호출"
      ],
      "metadata": {
        "colab": {
          "base_uri": "https://localhost:8080/"
        },
        "id": "CzqgO3J4XvWq",
        "outputId": "492323b3-e3df-43a3-faf9-d8bf5b96ce8c"
      },
      "execution_count": 5,
      "outputs": [
        {
          "output_type": "stream",
          "name": "stdout",
          "text": [
            "[커피 주문 머신 메뉴]\n",
            "    -----------------------------\n",
            "    - 아메리카노: 2500원\n",
            "    - 카페라테:   3000원\n",
            "    - 카페모카:   3000원\n",
            "    -----------------------------\n",
            "    원하시는 커피종류와 잔수를 입력하세요.\n",
            "아메리카노 몇잔: 1\n",
            "카페라테   몇잔: 1\n",
            "카페모카   몇잔: 1\n",
            "지불하실 총 금액은 8,500원 입니다.\n",
            "------------------------\n",
            "돈을 넣어 주세요: 8000\n",
            "돈이 부족합니다. 500원을 더 넣어주세요.\n",
            "------------------------\n",
            "돈을 넣어 주세요: 200\n",
            "돈이 부족합니다. 300원을 더 넣어주세요.\n",
            "------------------------\n",
            "돈을 넣어 주세요: 400\n",
            "거스름돈은 100입니다. 커피 맛있게 드세요~\n"
          ]
        }
      ]
    },
    {
      "cell_type": "code",
      "source": [
        "print('호텔관리 시스템입니다.')    ## 변수는 앞부분에서 선언하면 전역변수가 되므로 가급적 앞부분에 기재해 주는 것이 좋다\n",
        "menu = '''\n",
        "1. 체크인\n",
        "2. 체크아웃\n",
        "3. 입실현황\n",
        "0. 종료'''\n",
        "number = int(input('호텔 방의 개수는(입력): '))\n",
        "hotel = [0 for _ in range(number)]\n",
        "print(f\"방 현황: {hotel} (0:빈방, 1:입실중)\")\n",
        "\n",
        "def check_in():\n",
        "    num = int(input(f'체크-in하실 방 호수(1~{len(hotel)}): '))\n",
        "    if hotel[num-1]:   # 이미 입실 중일 때\n",
        "        print(f\"{num}번 방은 이미 입실 중입니다.\")\n",
        "    else:\n",
        "        hotel[num-1] = 1\n",
        "\n",
        "def check_out():\n",
        "    num = int(input(f'체크-out하실 방 호수(1~{len(hotel)}): '))\n",
        "    if hotel[num-1]: # 체크아웃 처리\n",
        "        hotel[num-1] = 0    # 빈 방 상태로 만듦\n",
        "    else:\n",
        "        print(f'{hotel[num]}번 방은 빈 방입니다. 빈 방은 체크-out하실 수 없습니다.')\n",
        "\n",
        "def room_view():\n",
        "    for idx, room in enumerate(hotel): #[0, 0, 0]\n",
        "        if room == 0:\n",
        "            print(f\"{idx+1}호: 빈방\")\n",
        "        elif room == 1:\n",
        "            print(f\"{idx+1}호: 입실중\")\n",
        "\n",
        "while True:\n",
        "    print('-------------------')\n",
        "    print(menu)\n",
        "    select = input('-->메뉴 선택: ')\n",
        "    if select == '0':\n",
        "        break\n",
        "\n",
        "    elif select == '1': # 체크인\n",
        "        check_in()\n",
        "        continue\n",
        "\n",
        "    elif select == '2': # 체크아웃\n",
        "        check_out()\n",
        "\n",
        "\n",
        "    elif select == '3': # 현황보기\n",
        "        room_view()\n",
        "\n",
        "\n",
        "\n",
        "print('-------------------')\n",
        "print('프로그램 종료!')"
      ],
      "metadata": {
        "colab": {
          "base_uri": "https://localhost:8080/"
        },
        "id": "ypNuQmmmYBPT",
        "outputId": "467346e6-276e-4871-961c-213b1352da0b"
      },
      "execution_count": 7,
      "outputs": [
        {
          "output_type": "stream",
          "name": "stdout",
          "text": [
            "호텔관리 시스템입니다.\n",
            "호텔 방의 개수는(입력): 3\n",
            "방 현황: [0, 0, 0] (0:빈방, 1:입실중)\n",
            "-------------------\n",
            "\n",
            "1. 체크인\n",
            "2. 체크아웃\n",
            "3. 입실현황\n",
            "0. 종료\n",
            "-->메뉴 선택: 1\n",
            "체크-in하실 방 호수(1~3): 1\n",
            "-------------------\n",
            "\n",
            "1. 체크인\n",
            "2. 체크아웃\n",
            "3. 입실현황\n",
            "0. 종료\n",
            "-->메뉴 선택: 3\n",
            "1호: 입실중\n",
            "2호: 빈방\n",
            "3호: 빈방\n",
            "-------------------\n",
            "\n",
            "1. 체크인\n",
            "2. 체크아웃\n",
            "3. 입실현황\n",
            "0. 종료\n",
            "-->메뉴 선택: 1\n",
            "체크-in하실 방 호수(1~3): 2\n",
            "-------------------\n",
            "\n",
            "1. 체크인\n",
            "2. 체크아웃\n",
            "3. 입실현황\n",
            "0. 종료\n",
            "-->메뉴 선택: 3\n",
            "1호: 입실중\n",
            "2호: 입실중\n",
            "3호: 빈방\n",
            "-------------------\n",
            "\n",
            "1. 체크인\n",
            "2. 체크아웃\n",
            "3. 입실현황\n",
            "0. 종료\n",
            "-->메뉴 선택: 1\n",
            "체크-in하실 방 호수(1~3): 1\n",
            "1번 방은 이미 입실 중입니다.\n",
            "-------------------\n",
            "\n",
            "1. 체크인\n",
            "2. 체크아웃\n",
            "3. 입실현황\n",
            "0. 종료\n",
            "-->메뉴 선택: 0\n",
            "-------------------\n",
            "프로그램 종료!\n"
          ]
        }
      ]
    },
    {
      "cell_type": "markdown",
      "source": [
        "### [실습문제] lambda & map() 사용하기"
      ],
      "metadata": {
        "id": "AYBVLWgndrpr"
      }
    },
    {
      "cell_type": "code",
      "source": [
        "myList = [1, 2, 3, 4, 5, 6, 7, 8, 9, 10]\n",
        "# 3의 배수만 문자열로 변환하기\n",
        "\n",
        "# func = lambda x : str(x) if x%3==0  else x\n",
        "# myList = list(map(func, myList ))\n",
        "# myList\n",
        "\n",
        "myList = list(map(lambda x : str(x) if x%3==0  else x, myList ))\n",
        "myList"
      ],
      "metadata": {
        "colab": {
          "base_uri": "https://localhost:8080/"
        },
        "id": "k5Fi5NkMdwNt",
        "outputId": "5a7162af-c832-4ca4-a301-eecafdd25995"
      },
      "execution_count": 14,
      "outputs": [
        {
          "output_type": "execute_result",
          "data": {
            "text/plain": [
              "[1, 2, '3', 4, 5, '6', 7, 8, '9', 10]"
            ]
          },
          "metadata": {},
          "execution_count": 14
        }
      ]
    },
    {
      "cell_type": "code",
      "source": [
        "mylist1 = [1, 2, 3, 4, 5]\n",
        "mylist2 = [2, 4, 6, 8, 10]\n",
        "mylist3 = [1, 1, 1, 1, 1]\n",
        "func = lambda x, y, z : x*y*z\n",
        "mylist = list(map(func, mylist1, mylist2, mylist3))\n",
        "mylist\n"
      ],
      "metadata": {
        "colab": {
          "base_uri": "https://localhost:8080/"
        },
        "id": "_fQo9NbWf2c1",
        "outputId": "b275c56a-712a-47db-bd61-acdcf5c3b174"
      },
      "execution_count": 16,
      "outputs": [
        {
          "output_type": "execute_result",
          "data": {
            "text/plain": [
              "[2, 8, 18, 32, 50]"
            ]
          },
          "metadata": {},
          "execution_count": 16
        }
      ]
    }
  ]
}