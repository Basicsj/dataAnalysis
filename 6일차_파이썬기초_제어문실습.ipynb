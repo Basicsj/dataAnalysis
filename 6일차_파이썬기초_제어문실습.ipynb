{
  "nbformat": 4,
  "nbformat_minor": 0,
  "metadata": {
    "colab": {
      "provenance": [],
      "toc_visible": true,
      "authorship_tag": "ABX9TyMDYwHpuP0HduwC87HJOZqw",
      "include_colab_link": true
    },
    "kernelspec": {
      "name": "python3",
      "display_name": "Python 3"
    },
    "language_info": {
      "name": "python"
    }
  },
  "cells": [
    {
      "cell_type": "markdown",
      "metadata": {
        "id": "view-in-github",
        "colab_type": "text"
      },
      "source": [
        "<a href=\"https://colab.research.google.com/github/Basicsj/dataAnalysis/blob/main/6%EC%9D%BC%EC%B0%A8_%ED%8C%8C%EC%9D%B4%EC%8D%AC%EA%B8%B0%EC%B4%88_%EC%A0%9C%EC%96%B4%EB%AC%B8%EC%8B%A4%EC%8A%B5.ipynb\" target=\"_parent\"><img src=\"https://colab.research.google.com/assets/colab-badge.svg\" alt=\"Open In Colab\"/></a>"
      ]
    },
    {
      "cell_type": "markdown",
      "source": [
        "# 제어문(저건문, 반복문) 실습문제 풀이"
      ],
      "metadata": {
        "id": "iJRKgj0OJbVc"
      }
    },
    {
      "cell_type": "markdown",
      "source": [
        "### [실습문제] while 반복문(퀴즈 맞히기)"
      ],
      "metadata": {
        "id": "i1XPaDRXKOvs"
      }
    },
    {
      "cell_type": "code",
      "source": [
        "print('프로그램을 작성할 때 일정한 구간의 명령을\\n 반복해서 실행하도록 구성한 구문을 무엇이라 할까요?')\n",
        "while True:\n",
        "    answer = input('정답: ')\n",
        "    if answer =='반복문':\n",
        "        print('정답~')\n",
        "        break                # break : 완전히 빠져나가는거, continue : continue 밑으로 안가고 continue 위부분을 반복, pass\n",
        "    elif answer == '반복':\n",
        "        print('좀 더 고맨해 보세요~')\n",
        "        continue\n",
        "    print('오답')\n",
        "print('프로그램 종료!')"
      ],
      "metadata": {
        "colab": {
          "base_uri": "https://localhost:8080/",
          "height": 447
        },
        "id": "qzEgJ3miKTtb",
        "outputId": "1094945c-7a4e-4955-a391-0b65641fd2f4"
      },
      "execution_count": 6,
      "outputs": [
        {
          "output_type": "stream",
          "name": "stdout",
          "text": [
            "프로그램을 작성할 때 일정한 구간의 명령을\n",
            " 반복해서 실행하도록 구성한 구문을 무엇이라 할까요?\n",
            "정답: 제어\n",
            "오답\n"
          ]
        },
        {
          "output_type": "error",
          "ename": "KeyboardInterrupt",
          "evalue": "Interrupted by user",
          "traceback": [
            "\u001b[0;31m---------------------------------------------------------------------------\u001b[0m",
            "\u001b[0;31mKeyboardInterrupt\u001b[0m                         Traceback (most recent call last)",
            "\u001b[0;32m<ipython-input-6-6546b8e1d564>\u001b[0m in \u001b[0;36m<cell line: 2>\u001b[0;34m()\u001b[0m\n\u001b[1;32m      1\u001b[0m \u001b[0mprint\u001b[0m\u001b[0;34m(\u001b[0m\u001b[0;34m'프로그램을 작성할 때 일정한 구간의 명령을\\n 반복해서 실행하도록 구성한 구문을 무엇이라 할까요?'\u001b[0m\u001b[0;34m)\u001b[0m\u001b[0;34m\u001b[0m\u001b[0;34m\u001b[0m\u001b[0m\n\u001b[1;32m      2\u001b[0m \u001b[0;32mwhile\u001b[0m \u001b[0;32mTrue\u001b[0m\u001b[0;34m:\u001b[0m\u001b[0;34m\u001b[0m\u001b[0;34m\u001b[0m\u001b[0m\n\u001b[0;32m----> 3\u001b[0;31m     \u001b[0manswer\u001b[0m \u001b[0;34m=\u001b[0m \u001b[0minput\u001b[0m\u001b[0;34m(\u001b[0m\u001b[0;34m'정답: '\u001b[0m\u001b[0;34m)\u001b[0m\u001b[0;34m\u001b[0m\u001b[0;34m\u001b[0m\u001b[0m\n\u001b[0m\u001b[1;32m      4\u001b[0m     \u001b[0;32mif\u001b[0m \u001b[0manswer\u001b[0m \u001b[0;34m==\u001b[0m\u001b[0;34m'반복문'\u001b[0m\u001b[0;34m:\u001b[0m\u001b[0;34m\u001b[0m\u001b[0;34m\u001b[0m\u001b[0m\n\u001b[1;32m      5\u001b[0m         \u001b[0mprint\u001b[0m\u001b[0;34m(\u001b[0m\u001b[0;34m'정답~'\u001b[0m\u001b[0;34m)\u001b[0m\u001b[0;34m\u001b[0m\u001b[0;34m\u001b[0m\u001b[0m\n",
            "\u001b[0;32m/usr/local/lib/python3.10/dist-packages/ipykernel/kernelbase.py\u001b[0m in \u001b[0;36mraw_input\u001b[0;34m(self, prompt)\u001b[0m\n\u001b[1;32m    849\u001b[0m                 \u001b[0;34m\"raw_input was called, but this frontend does not support input requests.\"\u001b[0m\u001b[0;34m\u001b[0m\u001b[0;34m\u001b[0m\u001b[0m\n\u001b[1;32m    850\u001b[0m             )\n\u001b[0;32m--> 851\u001b[0;31m         return self._input_request(str(prompt),\n\u001b[0m\u001b[1;32m    852\u001b[0m             \u001b[0mself\u001b[0m\u001b[0;34m.\u001b[0m\u001b[0m_parent_ident\u001b[0m\u001b[0;34m,\u001b[0m\u001b[0;34m\u001b[0m\u001b[0;34m\u001b[0m\u001b[0m\n\u001b[1;32m    853\u001b[0m             \u001b[0mself\u001b[0m\u001b[0;34m.\u001b[0m\u001b[0m_parent_header\u001b[0m\u001b[0;34m,\u001b[0m\u001b[0;34m\u001b[0m\u001b[0;34m\u001b[0m\u001b[0m\n",
            "\u001b[0;32m/usr/local/lib/python3.10/dist-packages/ipykernel/kernelbase.py\u001b[0m in \u001b[0;36m_input_request\u001b[0;34m(self, prompt, ident, parent, password)\u001b[0m\n\u001b[1;32m    893\u001b[0m             \u001b[0;32mexcept\u001b[0m \u001b[0mKeyboardInterrupt\u001b[0m\u001b[0;34m:\u001b[0m\u001b[0;34m\u001b[0m\u001b[0;34m\u001b[0m\u001b[0m\n\u001b[1;32m    894\u001b[0m                 \u001b[0;31m# re-raise KeyboardInterrupt, to truncate traceback\u001b[0m\u001b[0;34m\u001b[0m\u001b[0;34m\u001b[0m\u001b[0m\n\u001b[0;32m--> 895\u001b[0;31m                 \u001b[0;32mraise\u001b[0m \u001b[0mKeyboardInterrupt\u001b[0m\u001b[0;34m(\u001b[0m\u001b[0;34m\"Interrupted by user\"\u001b[0m\u001b[0;34m)\u001b[0m \u001b[0;32mfrom\u001b[0m \u001b[0;32mNone\u001b[0m\u001b[0;34m\u001b[0m\u001b[0;34m\u001b[0m\u001b[0m\n\u001b[0m\u001b[1;32m    896\u001b[0m             \u001b[0;32mexcept\u001b[0m \u001b[0mException\u001b[0m \u001b[0;32mas\u001b[0m \u001b[0me\u001b[0m\u001b[0;34m:\u001b[0m\u001b[0;34m\u001b[0m\u001b[0;34m\u001b[0m\u001b[0m\n\u001b[1;32m    897\u001b[0m                 \u001b[0mself\u001b[0m\u001b[0;34m.\u001b[0m\u001b[0mlog\u001b[0m\u001b[0;34m.\u001b[0m\u001b[0mwarning\u001b[0m\u001b[0;34m(\u001b[0m\u001b[0;34m\"Invalid Message:\"\u001b[0m\u001b[0;34m,\u001b[0m \u001b[0mexc_info\u001b[0m\u001b[0;34m=\u001b[0m\u001b[0;32mTrue\u001b[0m\u001b[0;34m)\u001b[0m\u001b[0;34m\u001b[0m\u001b[0;34m\u001b[0m\u001b[0m\n",
            "\u001b[0;31mKeyboardInterrupt\u001b[0m: Interrupted by user"
          ]
        }
      ]
    },
    {
      "cell_type": "markdown",
      "source": [
        "## [실습문제] 금리 계산하기"
      ],
      "metadata": {
        "id": "v6T8CBCFMkxy"
      }
    },
    {
      "cell_type": "code",
      "source": [
        "seed, target = 1000, 2000\n",
        "balance, interest = 1000, 0.035\n",
        "year = 0\n",
        "\n",
        "while balance <= target:\n",
        "    balance = balance + balance * interest\n",
        "    year += 1     # year = year + 1\n",
        "    print(f\"year:{year}, balance:{round(balance)}\")\n",
        "print(f\"{seed}원이 {target}이 되는데 {year}년이 걸립니다\")\n",
        "\n"
      ],
      "metadata": {
        "colab": {
          "base_uri": "https://localhost:8080/"
        },
        "id": "wQoezZVpM6C6",
        "outputId": "f853b151-468b-45cf-8ea7-d8b44528f647"
      },
      "execution_count": 11,
      "outputs": [
        {
          "output_type": "stream",
          "name": "stdout",
          "text": [
            "year:1, balance:1035\n",
            "year:2, balance:1071\n",
            "year:3, balance:1109\n",
            "year:4, balance:1148\n",
            "year:5, balance:1188\n",
            "year:6, balance:1229\n",
            "year:7, balance:1272\n",
            "year:8, balance:1317\n",
            "year:9, balance:1363\n",
            "year:10, balance:1411\n",
            "year:11, balance:1460\n",
            "year:12, balance:1511\n",
            "year:13, balance:1564\n",
            "year:14, balance:1619\n",
            "year:15, balance:1675\n",
            "year:16, balance:1734\n",
            "year:17, balance:1795\n",
            "year:18, balance:1857\n",
            "year:19, balance:1923\n",
            "year:20, balance:1990\n",
            "year:21, balance:2059\n",
            "1000원이 2000이 되는데 21년이 걸립니다\n"
          ]
        }
      ]
    },
    {
      "cell_type": "markdown",
      "source": [
        "### [실습문제] 1~N까지 3의 배수 합계 구하기"
      ],
      "metadata": {
        "id": "oZoJ47C1J4U3"
      }
    },
    {
      "cell_type": "code",
      "source": [
        "result = sum([ i for i in range(1,1001) if i%3==0 ])\n",
        "print(f\"{result:,}\")"
      ],
      "metadata": {
        "colab": {
          "base_uri": "https://localhost:8080/"
        },
        "id": "M_krKFE0PyYB",
        "outputId": "11c7998f-b3d6-4dec-b1e9-477b35d17635"
      },
      "execution_count": 15,
      "outputs": [
        {
          "output_type": "stream",
          "name": "stdout",
          "text": [
            "166,833\n"
          ]
        }
      ]
    },
    {
      "cell_type": "markdown",
      "source": [
        "## [실습문제] 숫자 입력 받아 별 출력하기"
      ],
      "metadata": {
        "id": "aF1mQYP0RCAh"
      }
    },
    {
      "cell_type": "code",
      "source": [
        "star = '*'\n",
        "numbers = input('숫자 입력 여려 개 입력(0-9) : ')\n",
        "for number in numbers:\n",
        "    for _ in range(int(number)*2):\n",
        "        print(star, end='')\n",
        "    print()                       # 아무것도 안쓰면 enter의 효과가 있다\n",
        "print('-'*30)\n",
        "numbers = input('숫자 입력 여려 개 입력(0-9) : ')\n",
        "for number in numbers:\n",
        "    print('*'*int(number)*2)"
      ],
      "metadata": {
        "colab": {
          "base_uri": "https://localhost:8080/"
        },
        "id": "gHljuM11RGZx",
        "outputId": "26a55482-8bb1-422d-96f4-3fc7bdcc5806"
      },
      "execution_count": 27,
      "outputs": [
        {
          "output_type": "stream",
          "name": "stdout",
          "text": [
            "숫자 입력 여려 개 입력(0-9) : 23\n",
            "****\n",
            "******\n",
            "------------------------------\n",
            "숫자 입력 여려 개 입력(0-9) : 23\n",
            "****\n",
            "******\n"
          ]
        }
      ]
    },
    {
      "cell_type": "markdown",
      "source": [
        "## [실습문제] 커피 자동주문 프로그램 만들기"
      ],
      "metadata": {
        "id": "_DsMtfaeVCU0"
      }
    },
    {
      "cell_type": "code",
      "source": [
        "menu = '''[커피 주문 머신 메뉴]\n",
        "-----------------------------\n",
        "- 아메리카노: 2500원\n",
        "- 카페라테:   3000원\n",
        "- 카페모카:   3000원\n",
        "-----------------------------\n",
        "원하시는 커피종류와 잔수를 입력하세요.'''\n",
        "print(menu)\n",
        "coffee1 = int(input('아메리카노 몇잔: '))\n",
        "coffee2 = int(input('카페라테   몇잔: '))\n",
        "coffee3 = int(input('카페모카   몇잔: '))\n",
        "\n",
        "total = 2500*coffee1 + 3000*coffee2 + 3000*coffee3\n",
        "print(f\"지불하실 총 금액은 {total:,}원 입니다.\")\n",
        "\n",
        "while True:\n",
        "    print('-'*30)\n",
        "    money = int(input('돈을 넣어 주세요: '))\n",
        "\n",
        "    change = money - total   # 거스름돈\n",
        "    if change <0:\n",
        "        print(f\"돈이 부족합니다. {abs(change):,}원을 더 넣어주세요.\")\n",
        "        total = total - money\n",
        "    else:\n",
        "        print(f\"거스름돈은 {change:,}입니다. 커피 맛있게 드세요~\")\n",
        "        break"
      ],
      "metadata": {
        "colab": {
          "base_uri": "https://localhost:8080/"
        },
        "id": "KyjsUzYoVH9x",
        "outputId": "82bfae03-57ec-4355-dc0a-ef3a6ec11d77"
      },
      "execution_count": 30,
      "outputs": [
        {
          "output_type": "stream",
          "name": "stdout",
          "text": [
            "[커피 주문 머신 메뉴]\n",
            "-----------------------------\n",
            "- 아메리카노: 2500원\n",
            "- 카페라테:   3000원\n",
            "- 카페모카:   3000원\n",
            "-----------------------------\n",
            "원하시는 커피종류와 잔수를 입력하세요.\n",
            "아메리카노 몇잔: 1\n",
            "카페라테   몇잔: 1\n",
            "카페모카   몇잔: 2\n",
            "지불하실 총 금액은 11,500원 입니다.\n",
            "------------------------------\n",
            "돈을 넣어 주세요: 10000\n",
            "돈이 부족합니다. 1,500원을 더 넣어주세요.\n",
            "------------------------------\n",
            "돈을 넣어 주세요: 1000\n",
            "돈이 부족합니다. 500원을 더 넣어주세요.\n",
            "------------------------------\n",
            "돈을 넣어 주세요: 1000\n",
            "거스름돈은 500입니다. 커피 맛있게 드세요~\n"
          ]
        }
      ]
    },
    {
      "cell_type": "markdown",
      "source": [
        "## [실습문제] 호텔 관리 프로그램\n",
        "    => elif 사용해서 다시 만들어보자!!"
      ],
      "metadata": {
        "id": "2KVz6QSkajX8"
      }
    },
    {
      "cell_type": "code",
      "source": [
        "'''<<메뉴 설명 >>\n",
        "1.체크인\n",
        "    방 호수(1번부터시작)를입력 받습니다.\n",
        "    방이이미입실중이면\"입실중인방은체크인하실수없습니다.\"를 출력하세요.\n",
        "    빈방인경우\"입실완료!\"를출력하고메뉴로 돌아갑니다.\n",
        "    2.체크아웃\n",
        "    방호수(1번부터시작)를입력받습니다.\n",
        "    방이빈방이면\"빈방은체크아웃하실수없습니다.\"를출력하세요.\n",
        "    체크인상태인경우\"퇴실완료!\"를출력하고메뉴로돌아갑니다.\n",
        "3.'방호수-상태'를출력합니다.\n",
        "    출력예)\n",
        "    1호:빈방\n",
        "    2호:입실중\n",
        "    3호:입실중\n",
        "    4호:빈방\n",
        "    5호:빈방\n",
        "0.종료\n",
        "    반복을종료하고'영업종료'를출력합니다.\n",
        "'''"
      ],
      "metadata": {
        "colab": {
          "base_uri": "https://localhost:8080/"
        },
        "id": "02KTjt8wa3VR",
        "outputId": "3ce856fa-0896-4e65-8745-03f9a32c0c17"
      },
      "execution_count": 47,
      "outputs": [
        {
          "output_type": "stream",
          "name": "stdout",
          "text": [
            "방 개수를 입력해 주세요: 5\n",
            "0,0,0,0,0,"
          ]
        }
      ]
    },
    {
      "cell_type": "code",
      "source": [
        "print('호텔관리 시스템입니다.')\n",
        "menu = '''1. 체크인\n",
        "2. 체크아웃\n",
        "3. 입실현황\n",
        "0. 종료'''\n",
        "print(menu)\n",
        "\n",
        "number = int(input('호텔 방의 개수는(입력): '))\n",
        "hotel = [ 0 for _ in range(number)]\n",
        "print(f\"방 현황: {hotel} (0:빈방, 1:입실중)\")\n",
        "\n",
        "while True:\n",
        "    print(f'-----------------------------\\n{menu}')\n",
        "    select = input('-->메뉴 선택')\n",
        "    if select == '0':\n",
        "        break\n",
        "    if select == '1':   # 체크인\n",
        "        num = int(input(f'체크-in하실 방 호수(1~{len(hotel)}): '))           # pass의 기능: 아래의 순서로 내려가게 할때 사용\n",
        "        if hotel[num-1]:    # 이미 입실 중일 때, 앞에 ! 붙이면 not의미\n",
        "            print(f\"{num}번 방은 이미 입실 중입니다.\")\n",
        "\n",
        "        else:\n",
        "            hotel[num-1] = 1\n",
        "        continue   # continue : 밑으로 내려가지마\n",
        "\n",
        "    if select == '2': #체크아웃\n",
        "        num = int(input(f'체크-out하실 방 호수(1~{len(hotel)}): '))           # pass의 기능: 아래의 순서로 내려가게 할때 사용\n",
        "        if hotel[num-1]:    # 이미 입실 중이므로 체크아웃 처리\n",
        "            hotel[num-1] = 0    # 빈 방 상태로 만듦\n",
        "\n",
        "        else:\n",
        "            print(f\"{hotel[num-1]}번 방은 빈 방입니다. 빈 방은 체크-out하실 수 없습니다.\")\n",
        "        continue\n",
        "\n",
        "    if select == '3': #현황보기\n",
        "        for idx, room in enumerate(hotel):   #[0,0,0]\n",
        "            if room == 0:\n",
        "                print(f\"{idx+1}호: 빈방\")\n",
        "            elif room == 1:\n",
        "                print(f\"{idx+1}호: 입실중\")\n",
        "\n",
        "print('----------------------------')\n",
        "print('프로그램 종료!')"
      ],
      "metadata": {
        "colab": {
          "base_uri": "https://localhost:8080/",
          "height": 1000
        },
        "id": "GtRS0pyXe0qh",
        "outputId": "4e35c963-6419-4bd2-d8c4-4b7cd4e15606"
      },
      "execution_count": 67,
      "outputs": [
        {
          "output_type": "stream",
          "name": "stdout",
          "text": [
            "호텔관리 시스템입니다.\n",
            "1. 체크인\n",
            "2. 체크아웃\n",
            "3. 입실현황\n",
            "0. 종료\n",
            "호텔 방의 개수는(입력): 3\n",
            "방 현황: [0, 0, 0] (0:빈방, 1:입실중)\n",
            "-----------------------------\n",
            "1. 체크인\n",
            "2. 체크아웃\n",
            "3. 입실현황\n",
            "0. 종료\n",
            "-->메뉴 선택1\n",
            "체크-in하실 방 호수(1~3): 1\n",
            "-----------------------------\n",
            "1. 체크인\n",
            "2. 체크아웃\n",
            "3. 입실현황\n",
            "0. 종료\n",
            "-->메뉴 선택3\n",
            "1호: 입실중\n",
            "2호: 빈방\n",
            "3호: 빈방\n",
            "-----------------------------\n",
            "1. 체크인\n",
            "2. 체크아웃\n",
            "3. 입실현황\n",
            "0. 종료\n",
            "-->메뉴 선택1\n",
            "체크-in하실 방 호수(1~3): 2\n",
            "-----------------------------\n",
            "1. 체크인\n",
            "2. 체크아웃\n",
            "3. 입실현황\n",
            "0. 종료\n",
            "-->메뉴 선택3\n",
            "1호: 입실중\n",
            "2호: 입실중\n",
            "3호: 빈방\n",
            "-----------------------------\n",
            "1. 체크인\n",
            "2. 체크아웃\n",
            "3. 입실현황\n",
            "0. 종료\n",
            "-->메뉴 선택2\n",
            "체크-out하실 방 호수(1~3): 1\n",
            "-----------------------------\n",
            "1. 체크인\n",
            "2. 체크아웃\n",
            "3. 입실현황\n",
            "0. 종료\n",
            "-->메뉴 선택3\n",
            "1호: 빈방\n",
            "2호: 입실중\n",
            "3호: 빈방\n",
            "-----------------------------\n",
            "1. 체크인\n",
            "2. 체크아웃\n",
            "3. 입실현황\n",
            "0. 종료\n"
          ]
        },
        {
          "output_type": "error",
          "ename": "KeyboardInterrupt",
          "evalue": "Interrupted by user",
          "traceback": [
            "\u001b[0;31m---------------------------------------------------------------------------\u001b[0m",
            "\u001b[0;31mKeyboardInterrupt\u001b[0m                         Traceback (most recent call last)",
            "\u001b[0;32m<ipython-input-67-c15ceea25529>\u001b[0m in \u001b[0;36m<cell line: 12>\u001b[0;34m()\u001b[0m\n\u001b[1;32m     12\u001b[0m \u001b[0;32mwhile\u001b[0m \u001b[0;32mTrue\u001b[0m\u001b[0;34m:\u001b[0m\u001b[0;34m\u001b[0m\u001b[0;34m\u001b[0m\u001b[0m\n\u001b[1;32m     13\u001b[0m     \u001b[0mprint\u001b[0m\u001b[0;34m(\u001b[0m\u001b[0;34mf'-----------------------------\\n{menu}'\u001b[0m\u001b[0;34m)\u001b[0m\u001b[0;34m\u001b[0m\u001b[0;34m\u001b[0m\u001b[0m\n\u001b[0;32m---> 14\u001b[0;31m     \u001b[0mselect\u001b[0m \u001b[0;34m=\u001b[0m \u001b[0minput\u001b[0m\u001b[0;34m(\u001b[0m\u001b[0;34m'-->메뉴 선택'\u001b[0m\u001b[0;34m)\u001b[0m\u001b[0;34m\u001b[0m\u001b[0;34m\u001b[0m\u001b[0m\n\u001b[0m\u001b[1;32m     15\u001b[0m     \u001b[0;32mif\u001b[0m \u001b[0mselect\u001b[0m \u001b[0;34m==\u001b[0m \u001b[0;34m'0'\u001b[0m\u001b[0;34m:\u001b[0m\u001b[0;34m\u001b[0m\u001b[0;34m\u001b[0m\u001b[0m\n\u001b[1;32m     16\u001b[0m         \u001b[0;32mbreak\u001b[0m\u001b[0;34m\u001b[0m\u001b[0;34m\u001b[0m\u001b[0m\n",
            "\u001b[0;32m/usr/local/lib/python3.10/dist-packages/ipykernel/kernelbase.py\u001b[0m in \u001b[0;36mraw_input\u001b[0;34m(self, prompt)\u001b[0m\n\u001b[1;32m    849\u001b[0m                 \u001b[0;34m\"raw_input was called, but this frontend does not support input requests.\"\u001b[0m\u001b[0;34m\u001b[0m\u001b[0;34m\u001b[0m\u001b[0m\n\u001b[1;32m    850\u001b[0m             )\n\u001b[0;32m--> 851\u001b[0;31m         return self._input_request(str(prompt),\n\u001b[0m\u001b[1;32m    852\u001b[0m             \u001b[0mself\u001b[0m\u001b[0;34m.\u001b[0m\u001b[0m_parent_ident\u001b[0m\u001b[0;34m,\u001b[0m\u001b[0;34m\u001b[0m\u001b[0;34m\u001b[0m\u001b[0m\n\u001b[1;32m    853\u001b[0m             \u001b[0mself\u001b[0m\u001b[0;34m.\u001b[0m\u001b[0m_parent_header\u001b[0m\u001b[0;34m,\u001b[0m\u001b[0;34m\u001b[0m\u001b[0;34m\u001b[0m\u001b[0m\n",
            "\u001b[0;32m/usr/local/lib/python3.10/dist-packages/ipykernel/kernelbase.py\u001b[0m in \u001b[0;36m_input_request\u001b[0;34m(self, prompt, ident, parent, password)\u001b[0m\n\u001b[1;32m    893\u001b[0m             \u001b[0;32mexcept\u001b[0m \u001b[0mKeyboardInterrupt\u001b[0m\u001b[0;34m:\u001b[0m\u001b[0;34m\u001b[0m\u001b[0;34m\u001b[0m\u001b[0m\n\u001b[1;32m    894\u001b[0m                 \u001b[0;31m# re-raise KeyboardInterrupt, to truncate traceback\u001b[0m\u001b[0;34m\u001b[0m\u001b[0;34m\u001b[0m\u001b[0m\n\u001b[0;32m--> 895\u001b[0;31m                 \u001b[0;32mraise\u001b[0m \u001b[0mKeyboardInterrupt\u001b[0m\u001b[0;34m(\u001b[0m\u001b[0;34m\"Interrupted by user\"\u001b[0m\u001b[0;34m)\u001b[0m \u001b[0;32mfrom\u001b[0m \u001b[0;32mNone\u001b[0m\u001b[0;34m\u001b[0m\u001b[0;34m\u001b[0m\u001b[0m\n\u001b[0m\u001b[1;32m    896\u001b[0m             \u001b[0;32mexcept\u001b[0m \u001b[0mException\u001b[0m \u001b[0;32mas\u001b[0m \u001b[0me\u001b[0m\u001b[0;34m:\u001b[0m\u001b[0;34m\u001b[0m\u001b[0;34m\u001b[0m\u001b[0m\n\u001b[1;32m    897\u001b[0m                 \u001b[0mself\u001b[0m\u001b[0;34m.\u001b[0m\u001b[0mlog\u001b[0m\u001b[0;34m.\u001b[0m\u001b[0mwarning\u001b[0m\u001b[0;34m(\u001b[0m\u001b[0;34m\"Invalid Message:\"\u001b[0m\u001b[0;34m,\u001b[0m \u001b[0mexc_info\u001b[0m\u001b[0;34m=\u001b[0m\u001b[0;32mTrue\u001b[0m\u001b[0;34m)\u001b[0m\u001b[0;34m\u001b[0m\u001b[0;34m\u001b[0m\u001b[0m\n",
            "\u001b[0;31mKeyboardInterrupt\u001b[0m: Interrupted by user"
          ]
        }
      ]
    },
    {
      "cell_type": "markdown",
      "source": [
        "#6. 난수"
      ],
      "metadata": {
        "id": "_OvOF8BXprMo"
      }
    },
    {
      "cell_type": "markdown",
      "source": [
        "##6-1."
      ],
      "metadata": {
        "id": "307YRE2JpyTh"
      }
    },
    {
      "cell_type": "code",
      "source": [
        "import random\n",
        "\n",
        "dice=[0,0,0,0,0,0]\n",
        "for _ in range(100) :\n",
        "    x = random.randint(1,6)\n",
        "    dice[x-1] +=1\n",
        "print(f\"숫자별 개수 : {dice}\")\n",
        "maxValue = max(dice)\n",
        "max_dice = [idx+1 for dix, v in enumerate(dice)if v==maxValue]  # 한줄표현법\n",
        "# max_dice = []\n",
        "# for idx, v in enumerate(dice):\n",
        "#     if v == maxValue:\n",
        "#         max_dice.append(idx+1)\n",
        "\n",
        "print(f\"가장 많이 나온 주사위 숫자:[{dice.index(max(dice))+1}],횟수: {max(dice)}\")"
      ],
      "metadata": {
        "colab": {
          "base_uri": "https://localhost:8080/"
        },
        "id": "EOYQahF9tYCj",
        "outputId": "0f8223ad-3487-42eb-c2e3-c1e7165d5de4"
      },
      "execution_count": 126,
      "outputs": [
        {
          "output_type": "stream",
          "name": "stdout",
          "text": [
            "숫자별 개수 : [14, 18, 16, 17, 15, 20]\n",
            "가장 많이 나온 주사위 숫자:[6],횟수: 20\n"
          ]
        }
      ]
    },
    {
      "cell_type": "code",
      "source": [
        "import random\n",
        "\n",
        "dice = [0,0,0,0,0,0]\n",
        "\n",
        "for i in range(0,100) :\n",
        "    a=random.randint(1,6)\n",
        "    dice[a-1] = dice[a-1]+1\n",
        "print(dice)\n",
        "list_max= max(dice)\n",
        "print(f\"가장 많이 나온 주사위 숫자:[{dice.index(list_max)+1}],횟수: {list_max}\")"
      ],
      "metadata": {
        "colab": {
          "base_uri": "https://localhost:8080/"
        },
        "id": "NF4WexoSp44p",
        "outputId": "8ed6168c-92b2-4f51-9237-5be394ce04e5"
      },
      "execution_count": 80,
      "outputs": [
        {
          "output_type": "stream",
          "name": "stdout",
          "text": [
            "[11, 23, 13, 14, 20, 19]\n",
            "가장 많이 나온 주사위 숫자:[2],횟수: 23\n"
          ]
        }
      ]
    },
    {
      "cell_type": "code",
      "source": [
        "# 주사위별 빈도수 구하기\n",
        "import random\n",
        "\n",
        "dice = [0, 0, 0, 0, 0, 0]\n",
        "\n",
        "for _ in range(100):\n",
        "  x = random.randint(1, 6)\n",
        "  for i in range(1, 7):\n",
        "    if x == i:\n",
        "      dice[x-1] += 1\n",
        "\n",
        "print(f\"숫자별 개수 : {dice}\")\n",
        "print(f\"가장많이 나온 숫자: [{dice.index(max(dice))+1}], 횟수: {max(dice)}\")"
      ],
      "metadata": {
        "id": "EzP3ZK8atEsZ"
      },
      "execution_count": null,
      "outputs": []
    },
    {
      "cell_type": "code",
      "source": [
        "import random\n",
        "dice=[0,0,0,0,0,0]\n",
        "for _ in range(0,100) :\n",
        "    a=random.randint(1,6)\n",
        "    # dice[a-1] +=1   # dice[a-1] = dice[a-1] + 1\n",
        "    dice[a-1] = dice[a-1] + 1\n",
        "print(dice)\n",
        "list_max= max(dice)\n",
        "print(f\"가장 많이 나온 주사위 숫자:[{dice.index(list_max)+1}],횟수: {list_max}\")"
      ],
      "metadata": {
        "colab": {
          "base_uri": "https://localhost:8080/"
        },
        "id": "bb03a7Ypt0IH",
        "outputId": "3e462c4a-3ebe-47d6-fc94-bb71122ddc08"
      },
      "execution_count": 128,
      "outputs": [
        {
          "output_type": "stream",
          "name": "stdout",
          "text": [
            "[23, 20, 9, 9, 25, 14]\n",
            "가장 많이 나온 주사위 숫자:[5],횟수: 25\n"
          ]
        }
      ]
    },
    {
      "cell_type": "code",
      "source": [
        "import random\n",
        "x = range(1, 46)\n",
        "print(x)\n",
        "x = list(range(1, 46))\n",
        "print(x)\n",
        "a = random.sample(x, 6)   # 보통 list함수를 써야 리스트로 반환하나 sample은 바로 리스트로 반환\n",
        "a"
      ],
      "metadata": {
        "colab": {
          "base_uri": "https://localhost:8080/"
        },
        "id": "tIw3OLTDrcfD",
        "outputId": "67b6854b-12e9-45a2-a215-b521fbf2accb"
      },
      "execution_count": 74,
      "outputs": [
        {
          "output_type": "stream",
          "name": "stdout",
          "text": [
            "range(1, 46)\n",
            "[1, 2, 3, 4, 5, 6, 7, 8, 9, 10, 11, 12, 13, 14, 15, 16, 17, 18, 19, 20, 21, 22, 23, 24, 25, 26, 27, 28, 29, 30, 31, 32, 33, 34, 35, 36, 37, 38, 39, 40, 41, 42, 43, 44, 45]\n"
          ]
        },
        {
          "output_type": "execute_result",
          "data": {
            "text/plain": [
              "[29, 34, 15, 25, 38, 19]"
            ]
          },
          "metadata": {},
          "execution_count": 74
        }
      ]
    },
    {
      "cell_type": "code",
      "source": [
        "import random\n",
        "\n",
        "print(f\"로또번호 출력: {sorted(random.sample(range(1,46), 6))}\")"
      ],
      "metadata": {
        "colab": {
          "base_uri": "https://localhost:8080/"
        },
        "id": "oVVEYH0vseAi",
        "outputId": "b2188010-db98-4a05-a6d5-7fdc0e5dbc39"
      },
      "execution_count": 79,
      "outputs": [
        {
          "output_type": "stream",
          "name": "stdout",
          "text": [
            "로또번호 출력: [3, 13, 19, 27, 30, 38]\n"
          ]
        }
      ]
    }
  ]
}