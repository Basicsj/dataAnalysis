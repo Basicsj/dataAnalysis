{
  "cells": [
    {
      "cell_type": "markdown",
      "metadata": {
        "id": "view-in-github",
        "colab_type": "text"
      },
      "source": [
        "<a href=\"https://colab.research.google.com/github/Basicsj/dataAnalysis/blob/main/2_%EB%8D%B0%EC%9D%B4%ED%84%B0%EB%B6%84%EC%84%9D_01_%EA%B8%B0%EC%88%A0%ED%86%B5%EA%B3%84%EA%B8%B0%EC%B4%88_%EB%B0%B0%ED%8F%AC_SJ%EC%88%98%EC%97%85%EC%B6%94%EA%B0%80.ipynb\" target=\"_parent\"><img src=\"https://colab.research.google.com/assets/colab-badge.svg\" alt=\"Open In Colab\"/></a>"
      ]
    },
    {
      "cell_type": "markdown",
      "id": "d019c073",
      "metadata": {
        "id": "d019c073"
      },
      "source": [
        "# 데이터 분석\n",
        "\n",
        "## 1. 기술통계기초"
      ]
    },
    {
      "cell_type": "code",
      "source": [
        "# 코드 실행 후 재시작\n",
        "!sudo apt-get install -y fonts-nanum\n",
        "!sudo fc-cache -fv\n",
        "!rm ~/.cache/matplotlib -rf"
      ],
      "metadata": {
        "colab": {
          "base_uri": "https://localhost:8080/"
        },
        "id": "HhZW2VvJwi4R",
        "outputId": "74691f80-5e3e-4ba2-c6c3-b8f0f25cbe38"
      },
      "id": "HhZW2VvJwi4R",
      "execution_count": 9,
      "outputs": [
        {
          "output_type": "stream",
          "name": "stdout",
          "text": [
            "Reading package lists... Done\n",
            "Building dependency tree... Done\n",
            "Reading state information... Done\n",
            "The following NEW packages will be installed:\n",
            "  fonts-nanum\n",
            "0 upgraded, 1 newly installed, 0 to remove and 45 not upgraded.\n",
            "Need to get 10.3 MB of archives.\n",
            "After this operation, 34.1 MB of additional disk space will be used.\n",
            "Get:1 http://archive.ubuntu.com/ubuntu jammy/universe amd64 fonts-nanum all 20200506-1 [10.3 MB]\n",
            "Fetched 10.3 MB in 1s (12.1 MB/s)\n",
            "debconf: unable to initialize frontend: Dialog\n",
            "debconf: (No usable dialog-like program is installed, so the dialog based frontend cannot be used. at /usr/share/perl5/Debconf/FrontEnd/Dialog.pm line 78, <> line 1.)\n",
            "debconf: falling back to frontend: Readline\n",
            "debconf: unable to initialize frontend: Readline\n",
            "debconf: (This frontend requires a controlling tty.)\n",
            "debconf: falling back to frontend: Teletype\n",
            "dpkg-preconfigure: unable to re-open stdin: \n",
            "Selecting previously unselected package fonts-nanum.\n",
            "(Reading database ... 121752 files and directories currently installed.)\n",
            "Preparing to unpack .../fonts-nanum_20200506-1_all.deb ...\n",
            "Unpacking fonts-nanum (20200506-1) ...\n",
            "Setting up fonts-nanum (20200506-1) ...\n",
            "Processing triggers for fontconfig (2.13.1-4.2ubuntu5) ...\n",
            "/usr/share/fonts: caching, new cache contents: 0 fonts, 1 dirs\n",
            "/usr/share/fonts/truetype: caching, new cache contents: 0 fonts, 3 dirs\n",
            "/usr/share/fonts/truetype/humor-sans: caching, new cache contents: 1 fonts, 0 dirs\n",
            "/usr/share/fonts/truetype/liberation: caching, new cache contents: 16 fonts, 0 dirs\n",
            "/usr/share/fonts/truetype/nanum: caching, new cache contents: 12 fonts, 0 dirs\n",
            "/usr/local/share/fonts: caching, new cache contents: 0 fonts, 0 dirs\n",
            "/root/.local/share/fonts: skipping, no such directory\n",
            "/root/.fonts: skipping, no such directory\n",
            "/usr/share/fonts/truetype: skipping, looped directory detected\n",
            "/usr/share/fonts/truetype/humor-sans: skipping, looped directory detected\n",
            "/usr/share/fonts/truetype/liberation: skipping, looped directory detected\n",
            "/usr/share/fonts/truetype/nanum: skipping, looped directory detected\n",
            "/var/cache/fontconfig: cleaning cache directory\n",
            "/root/.cache/fontconfig: not cleaning non-existent cache directory\n",
            "/root/.fontconfig: not cleaning non-existent cache directory\n",
            "fc-cache: succeeded\n"
          ]
        }
      ]
    },
    {
      "cell_type": "markdown",
      "id": "0c52a67e",
      "metadata": {
        "id": "0c52a67e"
      },
      "source": [
        "----------------------------------"
      ]
    },
    {
      "cell_type": "markdown",
      "id": "89e2259e",
      "metadata": {
        "id": "89e2259e"
      },
      "source": [
        "### 라이브러리 설치하기"
      ]
    },
    {
      "cell_type": "code",
      "execution_count": null,
      "id": "7d9a2eb3",
      "metadata": {
        "id": "7d9a2eb3"
      },
      "outputs": [],
      "source": [
        "# SciPy는 과학, 수학, 엔지니어링 등에 사용되는 고급 계산 기능을 제공 라이브러리\n",
        "!pip install scipy"
      ]
    },
    {
      "cell_type": "code",
      "execution_count": null,
      "id": "1a9009d1",
      "metadata": {
        "id": "1a9009d1"
      },
      "outputs": [],
      "source": [
        "# 수치 데이터 분석 라이브러리\n",
        "!pip install numpy"
      ]
    },
    {
      "cell_type": "code",
      "execution_count": null,
      "id": "a63d87de",
      "metadata": {
        "id": "a63d87de"
      },
      "outputs": [],
      "source": [
        "# 데이터를 표 형태로 보여주는 데이터 분석 라이브러리\n",
        "!pip install pandas"
      ]
    },
    {
      "cell_type": "code",
      "execution_count": null,
      "id": "ea109e26",
      "metadata": {
        "id": "ea109e26",
        "scrolled": true
      },
      "outputs": [],
      "source": [
        "# 데이터를 다양한 그래프로 보여주는 시각화 라이브러리\n",
        "!pip install matplotlib"
      ]
    },
    {
      "cell_type": "code",
      "execution_count": null,
      "id": "69b70be7",
      "metadata": {
        "id": "69b70be7"
      },
      "outputs": [],
      "source": [
        "# 통계 그래프 시각화 라이브러리\n",
        "!pip install seaborn"
      ]
    },
    {
      "cell_type": "code",
      "execution_count": null,
      "id": "844a16c7",
      "metadata": {
        "id": "844a16c7"
      },
      "outputs": [],
      "source": [
        "!pip install plotly"
      ]
    },
    {
      "cell_type": "code",
      "execution_count": null,
      "id": "c2fb69b6",
      "metadata": {
        "scrolled": true,
        "id": "c2fb69b6"
      },
      "outputs": [],
      "source": [
        "# 통계 모델 라이브러리\n",
        "!pip install statsmodels"
      ]
    },
    {
      "cell_type": "code",
      "execution_count": null,
      "id": "19ea0f8e",
      "metadata": {
        "id": "19ea0f8e"
      },
      "outputs": [],
      "source": [
        "# 머신러닝 라이브러리(사이킷런)\n",
        "!pip install sklearn"
      ]
    },
    {
      "cell_type": "code",
      "execution_count": null,
      "id": "7e86e68f",
      "metadata": {
        "id": "7e86e68f"
      },
      "outputs": [],
      "source": [
        "# 엑셀 시트 사용을 위한 라이브러리\n",
        "!pip install openpyxl"
      ]
    },
    {
      "cell_type": "markdown",
      "id": "1e01e87e",
      "metadata": {
        "id": "1e01e87e"
      },
      "source": [
        "----------"
      ]
    },
    {
      "cell_type": "markdown",
      "id": "1ab82cff",
      "metadata": {
        "id": "1ab82cff"
      },
      "source": [
        "### 라이브러리 설치 확인하기\n",
        "아래 코드를 실행한 후 오류 메시지가 없으면 성공적으로 설치된 것입니다."
      ]
    },
    {
      "cell_type": "code",
      "execution_count": 1,
      "id": "06fd45bd",
      "metadata": {
        "colab": {
          "base_uri": "https://localhost:8080/",
          "height": 35
        },
        "id": "06fd45bd",
        "outputId": "c949ef13-f582-4757-98e8-4e65ab142c1c"
      },
      "outputs": [
        {
          "output_type": "execute_result",
          "data": {
            "text/plain": [
              "'1.11.4'"
            ],
            "application/vnd.google.colaboratory.intrinsic+json": {
              "type": "string"
            }
          },
          "metadata": {},
          "execution_count": 1
        }
      ],
      "source": [
        "import scipy as sp\n",
        "sp.__version__"
      ]
    },
    {
      "cell_type": "code",
      "execution_count": 2,
      "id": "6786b404",
      "metadata": {
        "colab": {
          "base_uri": "https://localhost:8080/",
          "height": 35
        },
        "id": "6786b404",
        "outputId": "56d8e03e-cd58-4d88-f1a5-573eb837e54f",
        "scrolled": true
      },
      "outputs": [
        {
          "output_type": "execute_result",
          "data": {
            "text/plain": [
              "'1.25.2'"
            ],
            "application/vnd.google.colaboratory.intrinsic+json": {
              "type": "string"
            }
          },
          "metadata": {},
          "execution_count": 2
        }
      ],
      "source": [
        "import numpy as np\n",
        "np.__version__"
      ]
    },
    {
      "cell_type": "code",
      "execution_count": 3,
      "id": "59557988",
      "metadata": {
        "colab": {
          "base_uri": "https://localhost:8080/",
          "height": 35
        },
        "id": "59557988",
        "outputId": "109e9e5f-8450-467f-d21c-38983538e6d9"
      },
      "outputs": [
        {
          "output_type": "execute_result",
          "data": {
            "text/plain": [
              "'2.0.3'"
            ],
            "application/vnd.google.colaboratory.intrinsic+json": {
              "type": "string"
            }
          },
          "metadata": {},
          "execution_count": 3
        }
      ],
      "source": [
        "import pandas  as pd\n",
        "pd.__version__"
      ]
    },
    {
      "cell_type": "code",
      "execution_count": 4,
      "id": "e4d9be5b",
      "metadata": {
        "colab": {
          "base_uri": "https://localhost:8080/",
          "height": 35
        },
        "id": "e4d9be5b",
        "outputId": "2e172687-d03b-4566-9ebc-e19b5e1df3fd"
      },
      "outputs": [
        {
          "output_type": "execute_result",
          "data": {
            "text/plain": [
              "'3.7.1'"
            ],
            "application/vnd.google.colaboratory.intrinsic+json": {
              "type": "string"
            }
          },
          "metadata": {},
          "execution_count": 4
        }
      ],
      "source": [
        "import matplotlib as plt\n",
        "plt.__version__"
      ]
    },
    {
      "cell_type": "code",
      "execution_count": 5,
      "id": "6cd4f004",
      "metadata": {
        "colab": {
          "base_uri": "https://localhost:8080/",
          "height": 35
        },
        "id": "6cd4f004",
        "outputId": "152c1bbc-e49c-4ac7-b0fb-3a0d102d026c"
      },
      "outputs": [
        {
          "output_type": "execute_result",
          "data": {
            "text/plain": [
              "'0.13.1'"
            ],
            "application/vnd.google.colaboratory.intrinsic+json": {
              "type": "string"
            }
          },
          "metadata": {},
          "execution_count": 5
        }
      ],
      "source": [
        "import seaborn as sns\n",
        "sns.__version__"
      ]
    },
    {
      "cell_type": "code",
      "execution_count": 6,
      "id": "afd0a7cb",
      "metadata": {
        "colab": {
          "base_uri": "https://localhost:8080/",
          "height": 35
        },
        "id": "afd0a7cb",
        "outputId": "20b9e97e-2ca4-4fbe-9c98-b8515b80ae4a"
      },
      "outputs": [
        {
          "output_type": "execute_result",
          "data": {
            "text/plain": [
              "'5.15.0'"
            ],
            "application/vnd.google.colaboratory.intrinsic+json": {
              "type": "string"
            }
          },
          "metadata": {},
          "execution_count": 6
        }
      ],
      "source": [
        "import plotly\n",
        "plotly.__version__"
      ]
    },
    {
      "cell_type": "markdown",
      "id": "3dae5378",
      "metadata": {
        "id": "3dae5378"
      },
      "source": [
        "---------------------------------------------"
      ]
    },
    {
      "cell_type": "markdown",
      "id": "1faaf002",
      "metadata": {
        "id": "1faaf002"
      },
      "source": [
        "### [실습] Scipy 라이브러리로 이항분포 구현하기"
      ]
    },
    {
      "cell_type": "code",
      "execution_count": 4,
      "id": "2ec3a08f",
      "metadata": {
        "colab": {
          "base_uri": "https://localhost:8080/"
        },
        "id": "2ec3a08f",
        "outputId": "3c1d9f4a-f066-4a9c-9785-92ab12810a08"
      },
      "outputs": [
        {
          "output_type": "stream",
          "name": "stdout",
          "text": [
            "(array([ 0,  1,  2,  3,  4,  5,  6,  7,  8,  9, 10]), <function Bin.<locals>.f at 0x783532515b40>)\n"
          ]
        }
      ],
      "source": [
        "#scipy패키지의 special모듈에 있는 comb함수 사용\n",
        "# ex) 동전을 던졌을때 확률 계산등\n",
        "import numpy as np\n",
        "from scipy.special import comb\n",
        "\n",
        "def Bin(n, p):\n",
        "    x_set = np.arange(n+1)\n",
        "\n",
        "    def f(x):\n",
        "        if x in x_set:\n",
        "            return comb(n,x) * p**x * (1-p)**(n-x)\n",
        "        else:\n",
        "            return 0\n",
        "\n",
        "    return x_set, f\n",
        "\n",
        "n, p = 10, 5/4\n",
        "X = Bin(n, p)\n",
        "print(X)"
      ]
    },
    {
      "cell_type": "code",
      "execution_count": 7,
      "id": "e7e3b05a",
      "metadata": {
        "scrolled": true,
        "colab": {
          "base_uri": "https://localhost:8080/",
          "height": 332
        },
        "id": "e7e3b05a",
        "outputId": "9812c0a1-ba76-443e-ecc2-95281c8ae012"
      },
      "outputs": [
        {
          "output_type": "display_data",
          "data": {
            "text/plain": [
              "<Figure size 500x300 with 1 Axes>"
            ],
            "image/png": "[encoded data removed]"
          },
          "metadata": {}
        }
      ],
      "source": [
        "import numpy as np\n",
        "import scipy as sp\n",
        "import scipy.stats\n",
        "import matplotlib.pyplot as plt   # 그래프를 그려주는 matplotlib 의 pyplot에서 대부분 그래프가 다 있다.\n",
        "\n",
        "plt.rcParams['figure.figsize'] = (5,3)\n",
        "plt.rcParams['font.family'] = 'Malgun Gothic'        # '맑은 고딕'으로 설정\n",
        "plt.rcParams['font.family'] =  'NanumBarunGothic'    # 코랩에서 설치한 한글폰트\n",
        "plt.rcParams['axes.unicode_minus'] = False           # 그래프에서 (-)숫자표시\n",
        "\n",
        "n = 5\n",
        "mu = 0.25\n",
        "rv = sp.stats.binom(n, mu)\n",
        "\n",
        "xx = np.arange(n)\n",
        "plt.bar(xx, rv.pmf(xx), align='center')    # (x, y , 센터로 맞추기)\n",
        "plt.xlabel('표본값')\n",
        "plt.ylabel('$P(x)$')                       # $~$ : 숫자쓸때 서식줄때\n",
        "plt.title('이항분포의 확률질량함수')\n",
        "plt.grid()                                 # 그래프안의 격자모양\n",
        "plt.show()"
      ]
    },
    {
      "cell_type": "markdown",
      "id": "abfe31f9",
      "metadata": {
        "id": "abfe31f9"
      },
      "source": [
        "### [실습] Scipy 라이브러리로 다항분포 구현하기"
      ]
    },
    {
      "cell_type": "code",
      "execution_count": 8,
      "id": "ee66de7b",
      "metadata": {
        "scrolled": true,
        "colab": {
          "base_uri": "https://localhost:8080/",
          "height": 442
        },
        "id": "ee66de7b",
        "outputId": "e29ef4f0-f6a8-429a-c3ee-2a8e420e17ac"
      },
      "outputs": [
        {
          "output_type": "stream",
          "name": "stdout",
          "text": [
            "[[19  9 19 20 16 17]\n",
            " [14 14 21 14 14 23]\n",
            " [18 23  7 17 20 15]\n",
            " [18 18 14 21 16 13]\n",
            " [17 13 16 20 17 17]\n",
            " [16 18 17 18 16 15]]\n"
          ]
        },
        {
          "output_type": "display_data",
          "data": {
            "text/plain": [
              "<Figure size 500x300 with 1 Axes>"
            ],
            "image/png": "[encoded data removed]"
          },
          "metadata": {}
        }
      ],
      "source": [
        "# 주사위를 N번 던져 각 면이 나오는 횟수 집합의 분포\n",
        "N = 100\n",
        "mu = [1/6, 1/6, 1/6, 1/6, 1/6, 1/6]\n",
        "rv = sp.stats.multinomial(N, mu) # 다항분포\n",
        "\n",
        "np.random.seed(10)\n",
        "X = rv.rvs(100)\n",
        "print(X[:6])  # 6개만 보여주기\n",
        "\n",
        "plt.boxplot(X)\n",
        "plt.xlabel('클래스')\n",
        "plt.ylabel('표본값')\n",
        "plt.title('다항분포의 시뮬레이션 결과')\n",
        "plt.grid()\n",
        "plt.show()                     # o는 이상치 data"
      ]
    },
    {
      "cell_type": "markdown",
      "id": "46ee9996",
      "metadata": {
        "id": "46ee9996"
      },
      "source": [
        "### [실습] 이항분포 N(표본)을 늘리면 정규분포화 된다."
      ]
    },
    {
      "cell_type": "code",
      "execution_count": 9,
      "id": "bb88b516",
      "metadata": {
        "scrolled": true,
        "colab": {
          "base_uri": "https://localhost:8080/",
          "height": 522
        },
        "id": "bb88b516",
        "outputId": "5165f1f1-c6ca-4b04-996a-a967c224d41e"
      },
      "outputs": [
        {
          "output_type": "display_data",
          "data": {
            "text/plain": [
              "<Figure size 1000x600 with 1 Axes>"
            ],
            "image/png": "[encoded data removed]"
          },
          "metadata": {}
        }
      ],
      "source": [
        "import numpy as np\n",
        "import matplotlib.pyplot as plt\n",
        "from scipy import stats, integrate\n",
        "\n",
        "# 기대값:평균\n",
        "def E(X, g=lambda x:x):\n",
        "    x_range, f = X\n",
        "\n",
        "    def integrand(x):\n",
        "        return g(x) * f(x)\n",
        "\n",
        "    return integrate.quad(integrand, -np.inf, np.inf)[0]\n",
        "\n",
        "# 확률\n",
        "def get_prob(X, a, b):\n",
        "    x_range, f = X\n",
        "\n",
        "    prob_sum = np.round(integrate.quad(f, a, b), 4)\n",
        "\n",
        "    print(f'확률: {prob_sum[0]}')\n",
        "\n",
        "\n",
        "def plot_prob_bi(X):\n",
        "    x_set, f = X\n",
        "    prob = np.array([ f(x_k) for x_k in x_set])\n",
        "\n",
        "    fig = plt.figure(figsize=(10,6))\n",
        "    ax  = fig.add_subplot(111) # (1,1,1)\n",
        "\n",
        "    ax.bar(x_set, prob, label='prob')\n",
        "    ax.set_xticks(np.append(x_set, E(X)))   #x축의 값 출력\n",
        "    ax.set_ylim(0, prob.max()*1.2)          #y축의 한계 지정\n",
        "    ax.legend()\n",
        "\n",
        "    plt.show()\n",
        "\n",
        "n = 100    # n의 개수를 크게 해보기 --> 그래프가 종모양으로 변경됨\n",
        "p = 0.25   # 0.3, 0.5, 0.7 변경해보기    -> \" p=0.25 \" 확률값\n",
        "X = Bin(n,p)   # 이항분포에서  n의 개수를 늘리면?\n",
        "plot_prob_bi(X)"
      ]
    },
    {
      "cell_type": "markdown",
      "id": "22c92842",
      "metadata": {
        "id": "22c92842"
      },
      "source": [
        "### [실습] Scipy 라이브러리로 정규분포 구현하기"
      ]
    },
    {
      "cell_type": "code",
      "execution_count": 10,
      "id": "0e62c132",
      "metadata": {
        "scrolled": true,
        "colab": {
          "base_uri": "https://localhost:8080/",
          "height": 332
        },
        "id": "0e62c132",
        "outputId": "8c428786-f247-41a6-8528-8c25aefda9ca"
      },
      "outputs": [
        {
          "output_type": "display_data",
          "data": {
            "text/plain": [
              "<Figure size 500x300 with 1 Axes>"
            ],
            "image/png": "[encoded data removed]"
          },
          "metadata": {}
        }
      ],
      "source": [
        "import scipy as sp\n",
        "import seaborn as sns\n",
        "import matplotlib.pyplot as plt\n",
        "\n",
        "# 워닝 메시지 안나오게 하는 방법\n",
        "import warnings\n",
        "warnings.filterwarnings('ignore')\n",
        "\n",
        "np.random.seed(0)   # 랜덤 초기\n",
        "mu, std = 0, 1      # 평균, 표준편차\n",
        "rv = sp.stats.norm(mu, std)     #  정규분포\n",
        "X = rv.rvs(1000)                #  표본 반영\n",
        "# print(x)\n",
        "\n",
        "sns.distplot(X, rug=True, kde=False, fit=sp.stats.norm)\n",
        "plt.title('랜덤 표본 생성 결과')\n",
        "plt.xlabel('표본값')\n",
        "plt.ylabel('$P(x)$')\n",
        "plt.grid()\n",
        "plt.show()"
      ]
    },
    {
      "cell_type": "markdown",
      "id": "142dba18",
      "metadata": {
        "id": "142dba18"
      },
      "source": [
        "### [실습] 정규분포를 이용한 확률 구하기\n",
        "남자 고등학생 키의 평균이 170cm이고 표준편차가 5cm라면, 우연히 만난 남자 고등학생의 키는 N(170, 5^2)를 따른 다고 할 수 있다. 이 사실을 바탕으로 우연히 만난 남자 고등학생의 키가 165cm이상 175cm 이하일 확률은?"
      ]
    },
    {
      "cell_type": "code",
      "execution_count": 11,
      "id": "07687afb",
      "metadata": {
        "colab": {
          "base_uri": "https://localhost:8080/"
        },
        "id": "07687afb",
        "outputId": "edeea1f1-9a98-42ad-ae4d-68f0a4cf95c8"
      },
      "outputs": [
        {
          "output_type": "stream",
          "name": "stdout",
          "text": [
            "확률: 0.6827\n"
          ]
        }
      ],
      "source": [
        "import numpy as np\n",
        "import matplotlib.pyplot as plt\n",
        "from scipy import stats, integrate\n",
        "\n",
        "# 확률\n",
        "def get_prob(X, a, b):\n",
        "    x_range, f = X\n",
        "\n",
        "    prob_sum = np.round(integrate.quad(f, a, b), 4)\n",
        "\n",
        "    print(f'확률: {prob_sum[0]}')\n",
        "\n",
        "#𝑍 ~ N(0,1) 정규화를 따른 정규분포\n",
        "def N(mu, sigma):\n",
        "    x_range = [-np.inf, np.inf]\n",
        "    def f(x):\n",
        "        return 1 / np.sqrt(2 * np.pi * sigma**2) *\\\n",
        "                    np.exp(-(x-mu)**2 / (2 * sigma**2))\n",
        "    return x_range, f\n",
        "\n",
        "mu, sigma = 170, 5\n",
        "X = N(mu, sigma)\n",
        "\n",
        "a, b = 165, 175\n",
        "get_prob(X, a, b)"
      ]
    },
    {
      "cell_type": "markdown",
      "id": "48a44588",
      "metadata": {
        "id": "48a44588"
      },
      "source": [
        "-----------------"
      ]
    },
    {
      "cell_type": "markdown",
      "id": "5aac1a65",
      "metadata": {
        "id": "5aac1a65"
      },
      "source": [
        "## 2.Numpy를 이용한 기술통계"
      ]
    },
    {
      "cell_type": "markdown",
      "id": "c849e3b9",
      "metadata": {
        "id": "c849e3b9"
      },
      "source": [
        "numpy는 아래와 같은 데이터 집합에 대해 간단한 통계를 계산하는 함수(통계량)를 제공한다.\n",
        "\n",
        "- 데이터의 개수(count)\n",
        " - 최댓값(maximum) : 데이터 중에서 가장 큰 값\n",
        " - 최솟값(minimum) : 데이터 중에서 가장 작은 값\n",
        "\n",
        "\n",
        "### 대표값\n",
        "데이터 분포의 중심 위치\n",
        " - 평균(mean, average): 평균을 통계용어->표본 평균(sample average, sample mean)\n",
        " - 중앙값(median) : 데이터를 크기대로 정렬하였을 때 가장 가운데에 있는 수\n",
        " - 최빈값(mode):\n",
        "\n",
        "### 산포도\n",
        "중심으로부터 데이터가 흩어져 있는 정도(변이도)를 수치적으로 측정\n",
        " - 분산(variance): 표본 분산, 데이터와 표본 평균간의 거리의 제곱의 평균, 표본 분산이 작으면 데이터가 모여있는 것이고 크면 흩어져 있는 것\n",
        " - 표준편차(standard deviation) : 표본 분산의 양의 제곱근 값\n",
        " - 사분위수(quartile) : 데이터를 가장 작은 수부터 가장 큰 수까지 크기가 커지는 순서대로 정렬하였을 때 1/4, 2/4, 3/4 위치에 있는 수\n",
        " - 변동계수(coefficient of variation): 두 집단 비교\n",
        " - 왜도(skewness) : 분포의 대칭이나 비대칭의 정도를 표시하는 척도\n",
        " - 첨도(kurtosis) : 뽀족함의 정도를 나타내는 척도"
      ]
    },
    {
      "cell_type": "code",
      "execution_count": 14,
      "id": "5b164d18",
      "metadata": {
        "colab": {
          "base_uri": "https://localhost:8080/"
        },
        "id": "5b164d18",
        "outputId": "2873364f-ea41-455e-ae82-c706f7564f16"
      },
      "outputs": [
        {
          "output_type": "stream",
          "name": "stdout",
          "text": [
            "[18, 5, 10, 23, 19, -8, 10, 0, 0, 5, 2, 15, 8, 2, 5, 4, 15, -1, 4, -7, -24, 7, 9, -6, 23, -13]\n",
            "[ 18   5  10  23  19  -8  10   0   0   5   2  15   8   2   5   4  15  -1\n",
            "   4  -7 -24   7   9  -6  23 -13]\n"
          ]
        }
      ],
      "source": [
        "datas = [18,5,10,23,19,-8,10,0,0,5,2,15,8,2,5,4,15,-1,4,-7,-24,7,9,-6,23,-13]\n",
        "print(datas)\n",
        "\n",
        "\n",
        "# list -> numpy 데이터로 변환\n",
        "import numpy as np\n",
        "x = np.array(datas)\n",
        "print(x)         # 콤마가 없다\n"
      ]
    },
    {
      "cell_type": "markdown",
      "id": "a0497239",
      "metadata": {
        "id": "a0497239"
      },
      "source": [
        "### - 길이/개수(len)"
      ]
    },
    {
      "cell_type": "code",
      "execution_count": 15,
      "id": "04c6c5c7",
      "metadata": {
        "colab": {
          "base_uri": "https://localhost:8080/"
        },
        "id": "04c6c5c7",
        "outputId": "c44226be-51dd-421a-cf94-80c986c4c87a"
      },
      "outputs": [
        {
          "output_type": "stream",
          "name": "stdout",
          "text": [
            "길이 : 26\n"
          ]
        }
      ],
      "source": [
        "print( f\"길이 : {len(x)}\" )\n"
      ]
    },
    {
      "cell_type": "markdown",
      "id": "f34a4f31",
      "metadata": {
        "id": "f34a4f31"
      },
      "source": [
        "### - 최대값(maximum)"
      ]
    },
    {
      "cell_type": "code",
      "execution_count": 16,
      "id": "d370743e",
      "metadata": {
        "colab": {
          "base_uri": "https://localhost:8080/"
        },
        "id": "d370743e",
        "outputId": "7581fc12-b655-4a01-80bd-7cd21cfb7bc0"
      },
      "outputs": [
        {
          "output_type": "stream",
          "name": "stdout",
          "text": [
            "최댓값 : 23\n"
          ]
        }
      ],
      "source": [
        "print( f\"최댓값 : {np.max(x)}\" )\n"
      ]
    },
    {
      "cell_type": "markdown",
      "id": "115b1276",
      "metadata": {
        "id": "115b1276"
      },
      "source": [
        "### - 최솟값(minimum)"
      ]
    },
    {
      "cell_type": "code",
      "execution_count": 17,
      "id": "47eb2bc6",
      "metadata": {
        "colab": {
          "base_uri": "https://localhost:8080/"
        },
        "id": "47eb2bc6",
        "outputId": "83bda06a-03b2-4607-97c2-c24d4a70c571"
      },
      "outputs": [
        {
          "output_type": "stream",
          "name": "stdout",
          "text": [
            "최소값 : -24\n"
          ]
        }
      ],
      "source": [
        "print( f\"최소값 : {np.min(x)}\" )\n"
      ]
    },
    {
      "cell_type": "markdown",
      "id": "feb3b096",
      "metadata": {
        "id": "feb3b096"
      },
      "source": [
        "### - 배열의 최대값 인덱스(argmax)\n",
        "- 동일한 값이 있을 경우 첫 번째 인덱스"
      ]
    },
    {
      "cell_type": "code",
      "execution_count": 19,
      "id": "3476ef32",
      "metadata": {
        "scrolled": true,
        "colab": {
          "base_uri": "https://localhost:8080/"
        },
        "id": "3476ef32",
        "outputId": "652f50e8-37ca-47d6-caec-15141da915af"
      },
      "outputs": [
        {
          "output_type": "stream",
          "name": "stdout",
          "text": [
            "최댓값의 인덱스 : 3\n"
          ]
        }
      ],
      "source": [
        "print( f\"최댓값의 인덱스 : {np.argmax(x)}\" )\n"
      ]
    },
    {
      "cell_type": "markdown",
      "id": "2e0d9d0d",
      "metadata": {
        "id": "2e0d9d0d"
      },
      "source": [
        "### - 배열의 최소값 인덱스(argmin)\n",
        "- 동일한 값이 있을 경우 첫 번째 인덱스"
      ]
    },
    {
      "cell_type": "code",
      "execution_count": 20,
      "id": "14dca3fc",
      "metadata": {
        "scrolled": true,
        "colab": {
          "base_uri": "https://localhost:8080/"
        },
        "id": "14dca3fc",
        "outputId": "94cac775-4ded-42e6-bc29-42eb34ca59f7"
      },
      "outputs": [
        {
          "output_type": "stream",
          "name": "stdout",
          "text": [
            "최소값의  인덱스 : 20\n"
          ]
        }
      ],
      "source": [
        "print( f\"최소값의  인덱스 : {np.argmin(x)}\" )\n"
      ]
    },
    {
      "cell_type": "markdown",
      "id": "2f63dee4",
      "metadata": {
        "id": "2f63dee4"
      },
      "source": [
        "----------"
      ]
    },
    {
      "cell_type": "markdown",
      "id": "380fd23b",
      "metadata": {
        "id": "380fd23b"
      },
      "source": [
        "## 대표값\n",
        "데이터 분포의 중심 위치"
      ]
    },
    {
      "cell_type": "markdown",
      "id": "6ef50d49",
      "metadata": {
        "id": "6ef50d49"
      },
      "source": [
        "### - 평균(average)"
      ]
    },
    {
      "cell_type": "code",
      "execution_count": 21,
      "id": "9aa8933d",
      "metadata": {
        "colab": {
          "base_uri": "https://localhost:8080/"
        },
        "id": "9aa8933d",
        "outputId": "a2305cbd-70b4-4dcc-93ce-2af8f6142b4f"
      },
      "outputs": [
        {
          "output_type": "stream",
          "name": "stdout",
          "text": [
            "평균 : 4.8076923076923075\n"
          ]
        }
      ],
      "source": [
        "print( f\"평균 : {np.mean(x)}\" )"
      ]
    },
    {
      "cell_type": "markdown",
      "id": "9f94da69",
      "metadata": {
        "id": "9f94da69"
      },
      "source": [
        "### - 중앙값(median)"
      ]
    },
    {
      "cell_type": "code",
      "execution_count": 22,
      "id": "5e2a2f4f",
      "metadata": {
        "colab": {
          "base_uri": "https://localhost:8080/"
        },
        "id": "5e2a2f4f",
        "outputId": "a4f96be7-78cc-406a-c50f-70e7af91a77a"
      },
      "outputs": [
        {
          "output_type": "stream",
          "name": "stdout",
          "text": [
            "중앙값 : 5.0\n"
          ]
        }
      ],
      "source": [
        "print( f\"중앙값 : {np.median(x)}\" )"
      ]
    },
    {
      "cell_type": "markdown",
      "id": "875fd4f7",
      "metadata": {
        "id": "875fd4f7"
      },
      "source": [
        "### - 최빈값(mode)"
      ]
    },
    {
      "cell_type": "code",
      "execution_count": 28,
      "id": "72f64466",
      "metadata": {
        "scrolled": true,
        "colab": {
          "base_uri": "https://localhost:8080/"
        },
        "id": "72f64466",
        "outputId": "e5fe4cdb-ff1c-4223-89fd-e4c3256ee1ef"
      },
      "outputs": [
        {
          "output_type": "stream",
          "name": "stdout",
          "text": [
            "[-24 -13  -8  -7  -6  -1   0   2   4   5   7   8   9  10  15  18  19  23] [1 1 1 1 1 1 2 2 2 3 1 1 1 2 2 1 1 2]\n"
          ]
        },
        {
          "output_type": "execute_result",
          "data": {
            "text/plain": [
              "5"
            ]
          },
          "metadata": {},
          "execution_count": 28
        }
      ],
      "source": [
        "values, counts = np.unique(x, return_counts=True)\n",
        "print(values, counts)\n",
        "idx = np.argmax(counts)\n",
        "values[idx]"
      ]
    },
    {
      "cell_type": "markdown",
      "id": "7bdf75d3",
      "metadata": {
        "id": "7bdf75d3"
      },
      "source": [
        "### - 히스토그램 그리기"
      ]
    },
    {
      "cell_type": "code",
      "execution_count": 35,
      "id": "bbc42d21",
      "metadata": {
        "colab": {
          "base_uri": "https://localhost:8080/",
          "height": 309
        },
        "id": "bbc42d21",
        "outputId": "98591076-ae0a-42a6-a399-a4f7910b211b"
      },
      "outputs": [
        {
          "output_type": "stream",
          "name": "stdout",
          "text": [
            "[1 0 1 3 1 6 6 2 4] [-25 -20 -15 -10  -5   0   5  10  15  20]\n"
          ]
        },
        {
          "output_type": "display_data",
          "data": {
            "text/plain": [
              "<Figure size 500x300 with 1 Axes>"
            ],
            "image/png": "[encoded data removed]"
          },
          "metadata": {}
        }
      ],
      "source": [
        "bins = np.arange(-25, 25, 5)\n",
        "hist, bins = np.histogram(x, bins)\n",
        "print(hist, bins)\n",
        "\n",
        "import matplotlib.pyplot as plt\n",
        "plt.hist(x, edgecolor = 'w', color = 'r')    # 기본은 파란색이라 빨간색 하고 싶으면 color = 'r' 을 해준다\n",
        "plt.show()"
      ]
    },
    {
      "cell_type": "markdown",
      "id": "1a22fd51",
      "metadata": {
        "id": "1a22fd51"
      },
      "source": [
        "### [실습문제] 조선조 왕의 수명 데이터\n",
        " 1. 왕들의　평균　수명\n",
        " 2. 수명이　가장　짧은　왕,　나이\n",
        " 3. 수명이　가장　긴　왕，　나이\n",
        " 4. 왕들의　중앙값（나이）\n",
        " 5. 왕들의　최빈값（나이）"
      ]
    },
    {
      "cell_type": "code",
      "execution_count": 36,
      "id": "5e174be4",
      "metadata": {
        "scrolled": true,
        "colab": {
          "base_uri": "https://localhost:8080/"
        },
        "id": "5e174be4",
        "outputId": "ea9d82b0-1a4a-4741-f651-e7b6e549f013"
      },
      "outputs": [
        {
          "output_type": "stream",
          "name": "stdout",
          "text": [
            "#조선의 왕: ['태조', '정종', '태종', '세종', '문종', '단종', '세조', '예종', '성종', '연산군', '중종', '인종', '명종', '선조', '광해군', '인조', '효종', '현종', '숙종', '경종', '영조', '정조', '순조', '헌종', '철종', '고종', '순종']\n",
            "#왕들의 나이: [73, 62, 45, 53, 38, 16, 51, 28, 37, 30, 56, 30, 33, 56, 66, 54, 40, 33, 59, 36, 82, 48, 44, 22, 32, 67, 52]\n",
            "#데이터별 빈도: [(16, 1), (22, 1), (28, 1), (30, 2), (32, 1), (33, 2), (36, 1), (37, 1), (38, 1), (40, 1), (44, 1), (45, 1), (48, 1), (51, 1), (52, 1), (53, 1), (54, 1), (56, 2), (59, 1), (62, 1), (66, 1), (67, 1), (73, 1), (82, 1)]\n",
            "\n",
            "#1.왕들의 평균나이   : 46세\n",
            "2.수명이 가장 짧은 왕: 단종, 16세\n",
            "3.수명이 가장 긴 왕  : 영조, 82세\n",
            "4.왕들의 중앙값(나이): 45세\n",
            "5.왕들의 최빈값(나이): ['30세 ', '33세 ', '56세 '] \n"
          ]
        }
      ],
      "source": [
        "import numpy as np\n",
        "# 키가 중복되면 안됨\n",
        "data = {'태조':73, '정종':62, '태종':45, '세종':53, '문종':38,\n",
        "        '단종':16, '세조':51, '예종':28, '성종':37, '연산군':30,\n",
        "        '중종':56, '인종':30, '명종':33, '선조':56, '광해군':66,\n",
        "        '인조':54, '효종':40, '현종':33, '숙종':59, '경종': 36,\n",
        "        '영조':82, '정조':48, '순조':44, '헌종':22, '철종':32,\n",
        "        '고종':67, '순종':52}\n",
        "\n",
        "def get_data_count(datas):\n",
        "    '''데이터별 빈도'''\n",
        "    values = sorted( list(set(datas)) )            # 고유값 리스트\n",
        "    counts = [ datas.count(i) for i in values ]   # 빈도수 리스트\n",
        "#     print(f'#데이터별 빈도: {list(zip(values, counts))}')\n",
        "    return values, counts\n",
        "\n",
        "\n",
        "def get_mode_value(datas):\n",
        "    '''최다 빈도'''\n",
        "    values, counts = get_data_count(datas)\n",
        "    maxs = [(k, v) for k, v in zip(values, counts) if max(counts)== v]\n",
        "    return maxs\n",
        "\n",
        "\n",
        "names= list(data.keys())\n",
        "ages = list(data.values())\n",
        "\n",
        "x_ = np.mean(ages)               # 평균값\n",
        "me = np.median(ages)             # 중앙값\n",
        "mo = get_mode_value(ages)        # 최빈값\n",
        "\n",
        "print(f'#조선의 왕: {names}')\n",
        "print(f'#왕들의 나이: {ages}')\n",
        "\n",
        "values, counts = get_data_count(ages)\n",
        "print(f'#데이터별 빈도: {list(zip(values, counts))}')\n",
        "\n",
        "print()\n",
        "print(f'#1.왕들의 평균나이   : {round(x_)}세')\n",
        "\n",
        "idx = ages.index( min(ages) ) # 값이 여러 개가 아니라는 가정\n",
        "print(f'2.수명이 가장 짧은 왕: {names[idx]}, {ages[idx]}세')\n",
        "\n",
        "idx = ages.index( max(ages) )\n",
        "print(f'3.수명이 가장 긴 왕  : {names[idx]}, {ages[idx]}세')\n",
        "\n",
        "print(f'4.왕들의 중앙값(나이): {round(me)}세')\n",
        "\n",
        "print(f\"5.왕들의 최빈값(나이): {[f'{k}세 ' for k, v in mo ] } \")"
      ]
    },
    {
      "cell_type": "markdown",
      "id": "5580fe92",
      "metadata": {
        "id": "5580fe92"
      },
      "source": [
        "### [실습문제] 산술평균, 중앙값, 최빈값 사이의 관계 설명\n",
        "벤처기업에 근무하는 직원  30명의 연령 자료에 대한 산술평균, 중앙값, 최빈값 사이의 관계 설명하기"
      ]
    },
    {
      "cell_type": "code",
      "execution_count": 40,
      "id": "39fda502",
      "metadata": {
        "colab": {
          "base_uri": "https://localhost:8080/",
          "height": 306
        },
        "id": "39fda502",
        "outputId": "4c32c51f-ae88-4d22-e595-1a7f8f53d386"
      },
      "outputs": [
        {
          "output_type": "stream",
          "name": "stdout",
          "text": [
            "계급수(K):6, R:28, 계급간격(w):5, 계급시작값(s):15.5\n",
            "계급:[15.5 20.5 25.5 30.5 35.5 40.5 45.5]\n"
          ]
        },
        {
          "output_type": "execute_result",
          "data": {
            "text/plain": [
              "             도수      상대도수  누적도수     누적상대도수   계급값\n",
              "계급간격                                            \n",
              "15.5 ~ 20.5   1  0.033333     1   0.033333  18.0\n",
              "20.5 ~ 25.5   7  0.233333     8   8.000000  23.0\n",
              "25.5 ~ 30.5  12  0.400000    20  20.000000  28.0\n",
              "30.5 ~ 35.5   4  0.133333    24  24.000000  33.0\n",
              "35.5 ~ 40.5   4  0.133333    28  28.000000  38.0\n",
              "40.5 ~ 45.5   2  0.066667    30  30.000000  43.0"
            ],
            "text/html": [
              "\n",
              "  <div id=\"df-19e923a9-efdd-479f-9ca6-315adcbb0970\" class=\"colab-df-container\">\n",
              "    <div>\n",
              "<style scoped>\n",
              "    .dataframe tbody tr th:only-of-type {\n",
              "        vertical-align: middle;\n",
              "    }\n",
              "\n",
              "    .dataframe tbody tr th {\n",
              "        vertical-align: top;\n",
              "    }\n",
              "\n",
              "    .dataframe thead th {\n",
              "        text-align: right;\n",
              "    }\n",
              "</style>\n",
              "<table border=\"1\" class=\"dataframe\">\n",
              "  <thead>\n",
              "    <tr style=\"text-align: right;\">\n",
              "      <th></th>\n",
              "      <th>도수</th>\n",
              "      <th>상대도수</th>\n",
              "      <th>누적도수</th>\n",
              "      <th>누적상대도수</th>\n",
              "      <th>계급값</th>\n",
              "    </tr>\n",
              "    <tr>\n",
              "      <th>계급간격</th>\n",
              "      <th></th>\n",
              "      <th></th>\n",
              "      <th></th>\n",
              "      <th></th>\n",
              "      <th></th>\n",
              "    </tr>\n",
              "  </thead>\n",
              "  <tbody>\n",
              "    <tr>\n",
              "      <th>15.5 ~ 20.5</th>\n",
              "      <td>1</td>\n",
              "      <td>0.033333</td>\n",
              "      <td>1</td>\n",
              "      <td>0.033333</td>\n",
              "      <td>18.0</td>\n",
              "    </tr>\n",
              "    <tr>\n",
              "      <th>20.5 ~ 25.5</th>\n",
              "      <td>7</td>\n",
              "      <td>0.233333</td>\n",
              "      <td>8</td>\n",
              "      <td>8.000000</td>\n",
              "      <td>23.0</td>\n",
              "    </tr>\n",
              "    <tr>\n",
              "      <th>25.5 ~ 30.5</th>\n",
              "      <td>12</td>\n",
              "      <td>0.400000</td>\n",
              "      <td>20</td>\n",
              "      <td>20.000000</td>\n",
              "      <td>28.0</td>\n",
              "    </tr>\n",
              "    <tr>\n",
              "      <th>30.5 ~ 35.5</th>\n",
              "      <td>4</td>\n",
              "      <td>0.133333</td>\n",
              "      <td>24</td>\n",
              "      <td>24.000000</td>\n",
              "      <td>33.0</td>\n",
              "    </tr>\n",
              "    <tr>\n",
              "      <th>35.5 ~ 40.5</th>\n",
              "      <td>4</td>\n",
              "      <td>0.133333</td>\n",
              "      <td>28</td>\n",
              "      <td>28.000000</td>\n",
              "      <td>38.0</td>\n",
              "    </tr>\n",
              "    <tr>\n",
              "      <th>40.5 ~ 45.5</th>\n",
              "      <td>2</td>\n",
              "      <td>0.066667</td>\n",
              "      <td>30</td>\n",
              "      <td>30.000000</td>\n",
              "      <td>43.0</td>\n",
              "    </tr>\n",
              "  </tbody>\n",
              "</table>\n",
              "</div>\n",
              "    <div class=\"colab-df-buttons\">\n",
              "\n",
              "  <div class=\"colab-df-container\">\n",
              "    <button class=\"colab-df-convert\" onclick=\"convertToInteractive('df-19e923a9-efdd-479f-9ca6-315adcbb0970')\"\n",
              "            title=\"Convert this dataframe to an interactive table.\"\n",
              "            style=\"display:none;\">\n",
              "\n",
              "  <svg xmlns=\"http://www.w3.org/2000/svg\" height=\"24px\" viewBox=\"0 -960 960 960\">\n",
              "    <path d=\"M120-120v-720h720v720H120Zm60-500h600v-160H180v160Zm220 220h160v-160H400v160Zm0 220h160v-160H400v160ZM180-400h160v-160H180v160Zm440 0h160v-160H620v160ZM180-180h160v-160H180v160Zm440 0h160v-160H620v160Z\"/>\n",
              "  </svg>\n",
              "    </button>\n",
              "\n",
              "  <style>\n",
              "    .colab-df-container {\n",
              "      display:flex;\n",
              "      gap: 12px;\n",
              "    }\n",
              "\n",
              "    .colab-df-convert {\n",
              "      background-color: #E8F0FE;\n",
              "      border: none;\n",
              "      border-radius: 50%;\n",
              "      cursor: pointer;\n",
              "      display: none;\n",
              "      fill: #1967D2;\n",
              "      height: 32px;\n",
              "      padding: 0 0 0 0;\n",
              "      width: 32px;\n",
              "    }\n",
              "\n",
              "    .colab-df-convert:hover {\n",
              "      background-color: #E2EBFA;\n",
              "      box-shadow: 0px 1px 2px rgba(60, 64, 67, 0.3), 0px 1px 3px 1px rgba(60, 64, 67, 0.15);\n",
              "      fill: #174EA6;\n",
              "    }\n",
              "\n",
              "    .colab-df-buttons div {\n",
              "      margin-bottom: 4px;\n",
              "    }\n",
              "\n",
              "    [theme=dark] .colab-df-convert {\n",
              "      background-color: #3B4455;\n",
              "      fill: #D2E3FC;\n",
              "    }\n",
              "\n",
              "    [theme=dark] .colab-df-convert:hover {\n",
              "      background-color: #434B5C;\n",
              "      box-shadow: 0px 1px 3px 1px rgba(0, 0, 0, 0.15);\n",
              "      filter: drop-shadow(0px 1px 2px rgba(0, 0, 0, 0.3));\n",
              "      fill: #FFFFFF;\n",
              "    }\n",
              "  </style>\n",
              "\n",
              "    <script>\n",
              "      const buttonEl =\n",
              "        document.querySelector('#df-19e923a9-efdd-479f-9ca6-315adcbb0970 button.colab-df-convert');\n",
              "      buttonEl.style.display =\n",
              "        google.colab.kernel.accessAllowed ? 'block' : 'none';\n",
              "\n",
              "      async function convertToInteractive(key) {\n",
              "        const element = document.querySelector('#df-19e923a9-efdd-479f-9ca6-315adcbb0970');\n",
              "        const dataTable =\n",
              "          await google.colab.kernel.invokeFunction('convertToInteractive',\n",
              "                                                    [key], {});\n",
              "        if (!dataTable) return;\n",
              "\n",
              "        const docLinkHtml = 'Like what you see? Visit the ' +\n",
              "          '<a target=\"_blank\" href=https://colab.research.google.com/notebooks/data_table.ipynb>data table notebook</a>'\n",
              "          + ' to learn more about interactive tables.';\n",
              "        element.innerHTML = '';\n",
              "        dataTable['output_type'] = 'display_data';\n",
              "        await google.colab.output.renderOutput(dataTable, element);\n",
              "        const docLink = document.createElement('div');\n",
              "        docLink.innerHTML = docLinkHtml;\n",
              "        element.appendChild(docLink);\n",
              "      }\n",
              "    </script>\n",
              "  </div>\n",
              "\n",
              "\n",
              "<div id=\"df-83ddcb6e-2993-4a21-a9da-46d72d542650\">\n",
              "  <button class=\"colab-df-quickchart\" onclick=\"quickchart('df-83ddcb6e-2993-4a21-a9da-46d72d542650')\"\n",
              "            title=\"Suggest charts\"\n",
              "            style=\"display:none;\">\n",
              "\n",
              "<svg xmlns=\"http://www.w3.org/2000/svg\" height=\"24px\"viewBox=\"0 0 24 24\"\n",
              "     width=\"24px\">\n",
              "    <g>\n",
              "        <path d=\"M19 3H5c-1.1 0-2 .9-2 2v14c0 1.1.9 2 2 2h14c1.1 0 2-.9 2-2V5c0-1.1-.9-2-2-2zM9 17H7v-7h2v7zm4 0h-2V7h2v10zm4 0h-2v-4h2v4z\"/>\n",
              "    </g>\n",
              "</svg>\n",
              "  </button>\n",
              "\n",
              "<style>\n",
              "  .colab-df-quickchart {\n",
              "      --bg-color: #E8F0FE;\n",
              "      --fill-color: #1967D2;\n",
              "      --hover-bg-color: #E2EBFA;\n",
              "      --hover-fill-color: #174EA6;\n",
              "      --disabled-fill-color: #AAA;\n",
              "      --disabled-bg-color: #DDD;\n",
              "  }\n",
              "\n",
              "  [theme=dark] .colab-df-quickchart {\n",
              "      --bg-color: #3B4455;\n",
              "      --fill-color: #D2E3FC;\n",
              "      --hover-bg-color: #434B5C;\n",
              "      --hover-fill-color: #FFFFFF;\n",
              "      --disabled-bg-color: #3B4455;\n",
              "      --disabled-fill-color: #666;\n",
              "  }\n",
              "\n",
              "  .colab-df-quickchart {\n",
              "    background-color: var(--bg-color);\n",
              "    border: none;\n",
              "    border-radius: 50%;\n",
              "    cursor: pointer;\n",
              "    display: none;\n",
              "    fill: var(--fill-color);\n",
              "    height: 32px;\n",
              "    padding: 0;\n",
              "    width: 32px;\n",
              "  }\n",
              "\n",
              "  .colab-df-quickchart:hover {\n",
              "    background-color: var(--hover-bg-color);\n",
              "    box-shadow: 0 1px 2px rgba(60, 64, 67, 0.3), 0 1px 3px 1px rgba(60, 64, 67, 0.15);\n",
              "    fill: var(--button-hover-fill-color);\n",
              "  }\n",
              "\n",
              "  .colab-df-quickchart-complete:disabled,\n",
              "  .colab-df-quickchart-complete:disabled:hover {\n",
              "    background-color: var(--disabled-bg-color);\n",
              "    fill: var(--disabled-fill-color);\n",
              "    box-shadow: none;\n",
              "  }\n",
              "\n",
              "  .colab-df-spinner {\n",
              "    border: 2px solid var(--fill-color);\n",
              "    border-color: transparent;\n",
              "    border-bottom-color: var(--fill-color);\n",
              "    animation:\n",
              "      spin 1s steps(1) infinite;\n",
              "  }\n",
              "\n",
              "  @keyframes spin {\n",
              "    0% {\n",
              "      border-color: transparent;\n",
              "      border-bottom-color: var(--fill-color);\n",
              "      border-left-color: var(--fill-color);\n",
              "    }\n",
              "    20% {\n",
              "      border-color: transparent;\n",
              "      border-left-color: var(--fill-color);\n",
              "      border-top-color: var(--fill-color);\n",
              "    }\n",
              "    30% {\n",
              "      border-color: transparent;\n",
              "      border-left-color: var(--fill-color);\n",
              "      border-top-color: var(--fill-color);\n",
              "      border-right-color: var(--fill-color);\n",
              "    }\n",
              "    40% {\n",
              "      border-color: transparent;\n",
              "      border-right-color: var(--fill-color);\n",
              "      border-top-color: var(--fill-color);\n",
              "    }\n",
              "    60% {\n",
              "      border-color: transparent;\n",
              "      border-right-color: var(--fill-color);\n",
              "    }\n",
              "    80% {\n",
              "      border-color: transparent;\n",
              "      border-right-color: var(--fill-color);\n",
              "      border-bottom-color: var(--fill-color);\n",
              "    }\n",
              "    90% {\n",
              "      border-color: transparent;\n",
              "      border-bottom-color: var(--fill-color);\n",
              "    }\n",
              "  }\n",
              "</style>\n",
              "\n",
              "  <script>\n",
              "    async function quickchart(key) {\n",
              "      const quickchartButtonEl =\n",
              "        document.querySelector('#' + key + ' button');\n",
              "      quickchartButtonEl.disabled = true;  // To prevent multiple clicks.\n",
              "      quickchartButtonEl.classList.add('colab-df-spinner');\n",
              "      try {\n",
              "        const charts = await google.colab.kernel.invokeFunction(\n",
              "            'suggestCharts', [key], {});\n",
              "      } catch (error) {\n",
              "        console.error('Error during call to suggestCharts:', error);\n",
              "      }\n",
              "      quickchartButtonEl.classList.remove('colab-df-spinner');\n",
              "      quickchartButtonEl.classList.add('colab-df-quickchart-complete');\n",
              "    }\n",
              "    (() => {\n",
              "      let quickchartButtonEl =\n",
              "        document.querySelector('#df-83ddcb6e-2993-4a21-a9da-46d72d542650 button');\n",
              "      quickchartButtonEl.style.display =\n",
              "        google.colab.kernel.accessAllowed ? 'block' : 'none';\n",
              "    })();\n",
              "  </script>\n",
              "</div>\n",
              "\n",
              "  <div id=\"id_83bc8c4d-d745-437a-a4de-54ec9acb93ee\">\n",
              "    <style>\n",
              "      .colab-df-generate {\n",
              "        background-color: #E8F0FE;\n",
              "        border: none;\n",
              "        border-radius: 50%;\n",
              "        cursor: pointer;\n",
              "        display: none;\n",
              "        fill: #1967D2;\n",
              "        height: 32px;\n",
              "        padding: 0 0 0 0;\n",
              "        width: 32px;\n",
              "      }\n",
              "\n",
              "      .colab-df-generate:hover {\n",
              "        background-color: #E2EBFA;\n",
              "        box-shadow: 0px 1px 2px rgba(60, 64, 67, 0.3), 0px 1px 3px 1px rgba(60, 64, 67, 0.15);\n",
              "        fill: #174EA6;\n",
              "      }\n",
              "\n",
              "      [theme=dark] .colab-df-generate {\n",
              "        background-color: #3B4455;\n",
              "        fill: #D2E3FC;\n",
              "      }\n",
              "\n",
              "      [theme=dark] .colab-df-generate:hover {\n",
              "        background-color: #434B5C;\n",
              "        box-shadow: 0px 1px 3px 1px rgba(0, 0, 0, 0.15);\n",
              "        filter: drop-shadow(0px 1px 2px rgba(0, 0, 0, 0.3));\n",
              "        fill: #FFFFFF;\n",
              "      }\n",
              "    </style>\n",
              "    <button class=\"colab-df-generate\" onclick=\"generateWithVariable('df')\"\n",
              "            title=\"Generate code using this dataframe.\"\n",
              "            style=\"display:none;\">\n",
              "\n",
              "  <svg xmlns=\"http://www.w3.org/2000/svg\" height=\"24px\"viewBox=\"0 0 24 24\"\n",
              "       width=\"24px\">\n",
              "    <path d=\"M7,19H8.4L18.45,9,17,7.55,7,17.6ZM5,21V16.75L18.45,3.32a2,2,0,0,1,2.83,0l1.4,1.43a1.91,1.91,0,0,1,.58,1.4,1.91,1.91,0,0,1-.58,1.4L9.25,21ZM18.45,9,17,7.55Zm-12,3A5.31,5.31,0,0,0,4.9,8.1,5.31,5.31,0,0,0,1,6.5,5.31,5.31,0,0,0,4.9,4.9,5.31,5.31,0,0,0,6.5,1,5.31,5.31,0,0,0,8.1,4.9,5.31,5.31,0,0,0,12,6.5,5.46,5.46,0,0,0,6.5,12Z\"/>\n",
              "  </svg>\n",
              "    </button>\n",
              "    <script>\n",
              "      (() => {\n",
              "      const buttonEl =\n",
              "        document.querySelector('#id_83bc8c4d-d745-437a-a4de-54ec9acb93ee button.colab-df-generate');\n",
              "      buttonEl.style.display =\n",
              "        google.colab.kernel.accessAllowed ? 'block' : 'none';\n",
              "\n",
              "      buttonEl.onclick = () => {\n",
              "        google.colab.notebook.generateWithVariable('df');\n",
              "      }\n",
              "      })();\n",
              "    </script>\n",
              "  </div>\n",
              "\n",
              "    </div>\n",
              "  </div>\n"
            ],
            "application/vnd.google.colaboratory.intrinsic+json": {
              "type": "dataframe",
              "variable_name": "df",
              "summary": "{\n  \"name\": \"df\",\n  \"rows\": 6,\n  \"fields\": [\n    {\n      \"column\": \"\\uacc4\\uae09\\uac04\\uaca9\",\n      \"properties\": {\n        \"dtype\": \"string\",\n        \"num_unique_values\": 6,\n        \"samples\": [\n          \"15.5 ~ 20.5\",\n          \"20.5 ~ 25.5\",\n          \"40.5 ~ 45.5\"\n        ],\n        \"semantic_type\": \"\",\n        \"description\": \"\"\n      }\n    },\n    {\n      \"column\": \"\\ub3c4\\uc218\",\n      \"properties\": {\n        \"dtype\": \"number\",\n        \"std\": 4,\n        \"min\": 1,\n        \"max\": 12,\n        \"num_unique_values\": 5,\n        \"samples\": [\n          7,\n          2,\n          12\n        ],\n        \"semantic_type\": \"\",\n        \"description\": \"\"\n      }\n    },\n    {\n      \"column\": \"\\uc0c1\\ub300\\ub3c4\\uc218\",\n      \"properties\": {\n        \"dtype\": \"number\",\n        \"std\": 0.13333333333333333,\n        \"min\": 0.03333333333333333,\n        \"max\": 0.4,\n        \"num_unique_values\": 5,\n        \"samples\": [\n          0.23333333333333334,\n          0.06666666666666667,\n          0.4\n        ],\n        \"semantic_type\": \"\",\n        \"description\": \"\"\n      }\n    },\n    {\n      \"column\": \"\\ub204\\uc801\\ub3c4\\uc218\",\n      \"properties\": {\n        \"dtype\": \"number\",\n        \"std\": 11,\n        \"min\": 1,\n        \"max\": 30,\n        \"num_unique_values\": 6,\n        \"samples\": [\n          1,\n          8,\n          30\n        ],\n        \"semantic_type\": \"\",\n        \"description\": \"\"\n      }\n    },\n    {\n      \"column\": \"\\ub204\\uc801\\uc0c1\\ub300\\ub3c4\\uc218\",\n      \"properties\": {\n        \"dtype\": \"number\",\n        \"std\": 11.883703438213502,\n        \"min\": 0.03333333333333333,\n        \"max\": 30.0,\n        \"num_unique_values\": 6,\n        \"samples\": [\n          0.03333333333333333,\n          8.0,\n          30.0\n        ],\n        \"semantic_type\": \"\",\n        \"description\": \"\"\n      }\n    },\n    {\n      \"column\": \"\\uacc4\\uae09\\uac12\",\n      \"properties\": {\n        \"dtype\": \"number\",\n        \"std\": 9.354143466934854,\n        \"min\": 18.0,\n        \"max\": 43.0,\n        \"num_unique_values\": 6,\n        \"samples\": [\n          18.0,\n          23.0,\n          43.0\n        ],\n        \"semantic_type\": \"\",\n        \"description\": \"\"\n      }\n    }\n  ]\n}"
            }
          },
          "metadata": {},
          "execution_count": 40
        }
      ],
      "source": [
        "import math\n",
        "import numpy as np\n",
        "import pandas as pd\n",
        "import matplotlib.pyplot as plt\n",
        "\n",
        "# 그래프 기본 설정\n",
        "plt.rcParams['figure.figsize'] = (5, 3)        # (가로,세로) 인치 단위\n",
        "plt.rcParams['axes.unicode_minus'] = False    # 그래프 눈금 값에서 (-)숫자표시\n",
        "plt.rcParams['lines.linewidth'] = 2            # 선 굵기\n",
        "plt.rcParams['font.family'] =  'NanumBarunGothic'\n",
        "\n",
        "\n",
        "def makeFrequencyTable(datas, k=5):\n",
        "    # 도수분포표 만들기 사전 과정   => 통계에서 만드는 과정이 있는데 그 부분을 함수화한 것이 아래와 같음\n",
        "    # k = 5                               # 1.계급 수\n",
        "    R = round(max(datas) - min(datas), 6) # 2.R : 최대측정값 - 최소측정값\n",
        "    w = math.ceil(R/k)                    # 3.계급 간격\n",
        "    s = min(datas) - 0.5                  # 4.시작 계급값\n",
        "    bins = np.arange(s, max(datas)+w+1, step=w)  #계급\n",
        "    index = [f'{bins[i]} ~ {bins[i+1]}' for i in range(len(bins)) if i<(len(bins)-1) ] # 계급 구간(index)\n",
        "    hist, bins = np.histogram(datas, bins)  # 계급 구간별 도수 데이터\n",
        "    print(f'계급수(K):{k}, R:{R}, 계급간격(w):{w}, 계급시작값(s):{s}')\n",
        "    print(f'계급:{bins}')\n",
        "\n",
        "\n",
        "    # 도수분포표 만들기\n",
        "    df = pd.DataFrame(hist, index=index, columns=['도수'])\n",
        "    df.index.name = '계급간격'\n",
        "\n",
        "    df['상대도수'] = [x/sum(hist) for x in hist]\n",
        "    df['누적도수'] = [sum(hist[:i+1]) if i>0 else hist[i] for i in range(k)]\n",
        "    df['누적상대도수'] = [sum(hist[:i+1]) if i>0 else df['상대도수'].values[i] for i in range(k)]\n",
        "    df['계급값'] = [ (bins[x]+bins[x+1])/2 for x in range(k)]\n",
        "\n",
        "    return df\n",
        "\n",
        "\n",
        "datas = [31, 27, 25, 24, 21, 44, 36, 29, 35, 28,\n",
        "         16, 26, 21, 37, 26, 22, 30, 29, 40, 33,\n",
        "         35, 26, 22, 42, 25, 28, 39, 30, 27, 30]\n",
        "\n",
        "# 도수분포표 만들기\n",
        "df =  makeFrequencyTable(datas, k=6)\n",
        "df\n",
        "\n",
        "\n",
        "# 도수 : 계급에 들어가는 값의 개수\n",
        "# 상대도수 : 전체를 1로 봤을때 차지하는 비율\n",
        "# 계급값 : 계급을 대표하는 값\n",
        "# 누적상대도수는 1이 되어야함"
      ]
    },
    {
      "cell_type": "code",
      "execution_count": 41,
      "id": "e208afe8",
      "metadata": {
        "scrolled": true,
        "colab": {
          "base_uri": "https://localhost:8080/",
          "height": 332
        },
        "id": "e208afe8",
        "outputId": "e3a4dbbf-974a-4344-e3c4-f5d2d2e6024d"
      },
      "outputs": [
        {
          "output_type": "display_data",
          "data": {
            "text/plain": [
              "<Figure size 500x300 with 1 Axes>"
            ],
            "image/png": "[encoded data removed]"
          },
          "metadata": {}
        }
      ],
      "source": [
        "def make_histogram(datas, x, y, width=10):\n",
        "    fig = plt.bar(x,y, width=width, edgecolor='w') # 막대그래프\n",
        "    plt.xticks(ticks=x, labels=x)\n",
        "\n",
        "    x_ = np.mean(datas)      # 평균값\n",
        "    me = round(np.median(datas))    # 중앙값\n",
        "    from collections import Counter\n",
        "    counts = Counter(datas)\n",
        "    mo = counts.most_common(1)[0][0]  # 최빈값\n",
        "\n",
        "    plt.axvline(x_, 0, max(y),                      # 그래프그릴때 선그려줄때 vline(버디컬 라인)추가\n",
        "                c='red', label=f'mean({x_})')     # # 평균값 표시\n",
        "    plt.annotate('평균', xy=(x_, 10), xytext=(50,10),  # 그래프에 주석등 넣는 기능\n",
        "                 fontsize=12,\n",
        "                 arrowprops=dict(facecolor='black', width=1, shrink=0.1, headwidth=5))\n",
        "\n",
        "    plt.axvline(me, 0, max(y),\n",
        "                c='green', label=f'median({me})') # 중앙값 표시\n",
        "\n",
        "    plt.axvline(mo, 0, max(y),\n",
        "                c='violet', label=f'mode({mo})')  # 최빈값 표시\n",
        "\n",
        "    plt.title('(도수)히스토그램')\n",
        "    plt.xlabel('계급값')\n",
        "    plt.ylabel('도수')\n",
        "\n",
        "    plt.legend()\n",
        "    plt.show()\n",
        "\n",
        "\n",
        "# 히스토그램 만들기\n",
        "x = df['계급값']\n",
        "y = df['도수']\n",
        "make_histogram(datas, x, y)"
      ]
    },
    {
      "cell_type": "code",
      "execution_count": 42,
      "id": "86591001",
      "metadata": {
        "colab": {
          "base_uri": "https://localhost:8080/",
          "height": 309
        },
        "id": "86591001",
        "outputId": "3f803987-ec63-4d18-9bc9-271655a7da0e"
      },
      "outputs": [
        {
          "output_type": "execute_result",
          "data": {
            "text/plain": [
              "<Axes: ylabel='Count'>"
            ]
          },
          "metadata": {},
          "execution_count": 42
        },
        {
          "output_type": "display_data",
          "data": {
            "text/plain": [
              "<Figure size 500x300 with 1 Axes>"
            ],
            "image/png": "[encoded data removed]"
          },
          "metadata": {}
        }
      ],
      "source": [
        "# seaborn 라이브러리로 히스토그램 그리기\n",
        "import seaborn as sns\n",
        "sns.histplot(datas, kde=True, bins=5)         #(datas, , , ) datas 뒷부분은 옵션에 해당됨"
      ]
    },
    {
      "cell_type": "markdown",
      "id": "6ebc92e2",
      "metadata": {
        "id": "6ebc92e2"
      },
      "source": [
        "-------"
      ]
    },
    {
      "cell_type": "markdown",
      "id": "d77a5f76",
      "metadata": {
        "id": "d77a5f76"
      },
      "source": [
        "## 산포도\n",
        "중심으로부터 데이터가 흩어져 있는 정도(변이도)를 수치적으로 측정"
      ]
    },
    {
      "cell_type": "code",
      "execution_count": 43,
      "id": "6355e22a",
      "metadata": {
        "colab": {
          "base_uri": "https://localhost:8080/"
        },
        "id": "6355e22a",
        "outputId": "45d577f7-f920-4f45-95d0-7ada65c6e856"
      },
      "outputs": [
        {
          "output_type": "stream",
          "name": "stdout",
          "text": [
            "[ 18   5  10  23  19  -8  10   0   0   5   2  15   8   2   5   4  15  -1\n",
            "   4  -7 -24   7   9  -6  23 -13]\n"
          ]
        }
      ],
      "source": [
        "import numpy as np\n",
        "\n",
        "x = np.array([18,5,10,23,19,-8,10,0,0,5,2,15,8,2,5,4,15,-1,4,-7,-24,7,9,-6,23,-13])\n",
        "print(x)"
      ]
    },
    {
      "cell_type": "markdown",
      "id": "c01e3de1",
      "metadata": {
        "id": "c01e3de1"
      },
      "source": [
        "### - 분산(variance)\n",
        "평균을 중심으로 밀집되거나 퍼짐 정도를 나타내는 척도"
      ]
    },
    {
      "cell_type": "code",
      "execution_count": 44,
      "id": "c460c850",
      "metadata": {
        "colab": {
          "base_uri": "https://localhost:8080/"
        },
        "id": "c460c850",
        "outputId": "63de533c-bc93-4511-b508-20bc0c731f23"
      },
      "outputs": [
        {
          "output_type": "stream",
          "name": "stdout",
          "text": [
            "분산: 115.23224852071006\n"
          ]
        }
      ],
      "source": [
        "print(f\"분산: {np.var(x)}\")"
      ]
    },
    {
      "cell_type": "markdown",
      "id": "20cd7c7c",
      "metadata": {
        "id": "20cd7c7c"
      },
      "source": [
        "### - 표준 편차(standard deviation)"
      ]
    },
    {
      "cell_type": "code",
      "execution_count": 45,
      "id": "edac23c6",
      "metadata": {
        "colab": {
          "base_uri": "https://localhost:8080/"
        },
        "id": "edac23c6",
        "outputId": "3ca3c28b-7585-4878-8c90-67eb6c60eb4a"
      },
      "outputs": [
        {
          "output_type": "stream",
          "name": "stdout",
          "text": [
            "표준편차: 10.734628476137871\n"
          ]
        }
      ],
      "source": [
        "print(f\"표준편차: {np.std(x)}\")"
      ]
    },
    {
      "cell_type": "markdown",
      "id": "ce3c3884",
      "metadata": {
        "id": "ce3c3884"
      },
      "source": [
        " ### - 사분위수(quartile)\n",
        " - 백분위수(percentile): 수집한 자료를 크기순으로 나열할 때, 1%씩 등간격으로 구분하는 척도\n",
        " - 사분위수(quartiles): 수집한 자룔를 크기순으로 나열하여 4등분하는 척도, Q1, Q2, Q3, Q4 <br>\n",
        " - 자동 정렬 후 계산"
      ]
    },
    {
      "cell_type": "code",
      "execution_count": 58,
      "id": "2a6d5128",
      "metadata": {
        "colab": {
          "base_uri": "https://localhost:8080/"
        },
        "id": "2a6d5128",
        "outputId": "617dc88b-6049-46c7-c460-2a6d3a63915d"
      },
      "outputs": [
        {
          "output_type": "stream",
          "name": "stdout",
          "text": [
            "  0%: -24.0\n",
            " 25% 1사분위: 0.0\n",
            " 50% 2사분위: 5.0\n",
            " 75% 3사분위: 10.0\n",
            " 100% 4사분위: 23.0\n"
          ]
        }
      ],
      "source": [
        "print(f\"  0%: {np.percentile(x,0)}\")    # 0% 해당하는 수\n",
        "print(f\" 25% 1사분위: {np.percentile(x,25)}\")  # 25%,  1사분위 수\n",
        "print(f\" 50% 2사분위: {np.percentile(x,50)}\")  # 50%, 2사분위 수\n",
        "print(f\" 75% 3사분위: {np.percentile(x,75)}\")  # 75%, 3사분위 수\n",
        "print(f\" 100% 4사분위: {np.percentile(x,100)}\")  # 100%,  최대값"
      ]
    },
    {
      "cell_type": "markdown",
      "id": "9d6c5717",
      "metadata": {
        "id": "9d6c5717"
      },
      "source": [
        "### - 변동계수(coefficient of variation)\n",
        " - 측정단위가 동일한 두 자료집단: 평균이 큰 차이를 보이는 두 자료집단\n",
        " - 측정단위가 서로 다른 두 자료집단: 산포의 척도를 비교할 때 많이 사용한다."
      ]
    },
    {
      "cell_type": "code",
      "execution_count": 53,
      "id": "e4ffd378",
      "metadata": {
        "colab": {
          "base_uri": "https://localhost:8080/"
        },
        "id": "e4ffd378",
        "outputId": "c2494572-0c88-4b32-9c11-4e4d5ba6af0f"
      },
      "outputs": [
        {
          "output_type": "stream",
          "name": "stdout",
          "text": [
            "mean: 163.50 std: 5.39\n",
            "#A 변동계수:  3.3\n",
            "mean: 12.03 std: 1.03\n",
            "#B 변동계수:  8.52\n"
          ]
        }
      ],
      "source": [
        "def get_cov(S, ddof=0):\n",
        "    M   = np.mean(S)            # 평균\n",
        "    STD = np.std(S, ddof=ddof)  # 표준편차\n",
        "    cov =  STD / M * 100        #변동계수\n",
        "    print('mean: %.2f'%M, 'std: %.2f'%STD) #소수점 2자리로 표현\n",
        "\n",
        "    return ( np.std(S, ddof=ddof) / np.mean(S) )* 100  #변동계수\n",
        "\n",
        "A = [171, 164, 167, 156, 159, 164]\n",
        "B = [11.5, 12.2, 12.0, 12.4, 13.6, 10.5]\n",
        "\n",
        "print(f'#A 변동계수: ', round(get_cov(A, ddof=1), 2))\n",
        "print(f'#B 변동계수: ', round(get_cov(B, ddof=1), 2) )"
      ]
    },
    {
      "cell_type": "markdown",
      "id": "7ac5f31b",
      "metadata": {
        "id": "7ac5f31b"
      },
      "source": [
        "### - 왜도(skewness)\n",
        "- 분포의 대칭이나 비대칭의 정도를 표시하는 척도\n",
        "- 정규분포로부터 얼마나 멀어져있는지를 보는 수치(왜도=0, 완전한 정규분포)\n",
        "- $\\alpha = 0$ :   완전한 정규분포\n",
        "- $\\alpha > 0$ :   왼쪽으로 치우친 분포\n",
        "- $\\alpha < 0$ :   오른쪽으로 치우친 분포"
      ]
    },
    {
      "cell_type": "markdown",
      "id": "145d4ce3",
      "metadata": {
        "id": "145d4ce3"
      },
      "source": [
        "### - 첨도(kurtosis)\n",
        "- 뽀족함의 정도를 나타내는 척도\n",
        "- 정규뷴포상에서 평균을 중심으로 집중화된 정도를 나타냄\n",
        "- $\\beta = 3$ :   뽀족한 정도가 정규분포와 같다\n",
        "- $\\beta > 3$ :   표준정규분포보다 정점이 높고 뽀족하다, 꼬리가 더 두꺼워짐\n",
        "- $\\beta < 3$ :   표준정규분포보다 정점이 낮고 완만하다, 꼬리가 더 얇아짐"
      ]
    },
    {
      "cell_type": "code",
      "execution_count": 55,
      "id": "709d6485",
      "metadata": {
        "scrolled": true,
        "colab": {
          "base_uri": "https://localhost:8080/"
        },
        "id": "709d6485",
        "outputId": "48962bd9-aea3-4552-fee9-faee2c99c8eb"
      },
      "outputs": [
        {
          "output_type": "stream",
          "name": "stdout",
          "text": [
            "Skewness:  0.3687197545758706\n",
            "Kurtosis:  -0.3854868247756933\n"
          ]
        }
      ],
      "source": [
        "# 왜도 & 첨도 구하기:  수학적 방법\n",
        "import numpy as np\n",
        "\n",
        "def skew_kurtosis(data):\n",
        "    mean = np.mean(data)\n",
        "    var = np.var(data)\n",
        "    std = np.sqrt(var)\n",
        "\n",
        "    # skewness\n",
        "    skew = np.sum((data - mean)**3) / (len(data) * std**3)\n",
        "    # kurtosis\n",
        "    kurt = np.sum((data - mean)**4) / (len(data) * std**4) - 3\n",
        "\n",
        "    return skew, kurt\n",
        "\n",
        "datas = [31, 27, 25, 24, 21, 44, 36, 29, 35, 28,\n",
        "         16, 26, 21, 37, 26, 22, 30, 29, 40, 33,\n",
        "         35, 26, 22, 42, 25, 28, 39, 30, 27, 30]\n",
        "\n",
        "skew, kurt = skew_kurtosis(datas)\n",
        "print(\"Skewness: \", skew)\n",
        "print(\"Kurtosis: \", kurt)"
      ]
    },
    {
      "cell_type": "markdown",
      "id": "d0ed56e9",
      "metadata": {
        "id": "d0ed56e9"
      },
      "source": [
        "### [실습문제] 산포도 구하기\n",
        "다음은 어느 정유회사에서 생산하는 자동차용 휘발유의 옥탄가 자료이다. 평균, 분산, 표준편차, 왜도, 첨도, 분포 형태 설명"
      ]
    },
    {
      "cell_type": "code",
      "execution_count": 69,
      "id": "83399012",
      "metadata": {
        "colab": {
          "base_uri": "https://localhost:8080/"
        },
        "id": "83399012",
        "outputId": "c602f8bc-4dac-42f1-94f6-228bf89c8e1e"
      },
      "outputs": [
        {
          "output_type": "stream",
          "name": "stdout",
          "text": [
            "평균: 90.91886792452831\n",
            "분산: 13.741153435386261\n",
            "표준편차: 3.706906181087709\n",
            "Skewness:  0.25305990239555537\n",
            "Kurtosis:  0.17783815800195413\n"
          ]
        }
      ],
      "source": [
        "import numpy as np\n",
        "import matplotlib.pyplot as plt\n",
        "\n",
        "datas=[ 90.7, 90.0, 92.2, 91.0, 88.5, 87.8, 83.4, 82.1, 88.6, 100.2,\n",
        "        95.6, 93.3, 88.2, 91.0, 92.7, 93.2, 91.0, 93.4, 85.3, 88.6,\n",
        "        96.1, 98.9, 89.9, 89.8, 91.1, 89.7, 88.2, 93.7, 84.3, 97.9,\n",
        "        87.9, 90.1, 88.3, 93.3, 95.4, 91.6, 88.9, 92.6, 97.4, 87.4,\n",
        "        86.7, 90.4, 91.1, 92.6, 88.8, 89.3, 89.8, 89.2, 88.6, 89.0,\n",
        "        96.1, 95.6, 92.2 ]\n",
        "\n",
        "\n",
        "mean = np.mean(datas)\n",
        "print(f\"평균: {mean}\")\n",
        "\n",
        "var = np.var(datas)\n",
        "print(f\"분산: {var}\")\n",
        "\n",
        "STD = np.std(datas)\n",
        "print(f\"표준편차: {STD}\")\n",
        "\n",
        "def skew_kur(data):\n",
        "    mean = np.mean(data)\n",
        "    var = np.var(data)\n",
        "    std = np.sqrt(var)\n",
        "\n",
        "    # skewness\n",
        "    skew = np.sum((data - mean)**3) / (len(data) * std**3)\n",
        "    # kurtosis\n",
        "    kurt = np.sum((data - mean)**4) / (len(data) * std**4) - 3\n",
        "\n",
        "    return skew, kurt\n",
        "\n",
        "\n",
        "skew, kurt = skew_kur(datas)\n",
        "print(\"Skewness: \", skew)\n",
        "print(\"Kurtosis: \", kurt)\n"
      ]
    },
    {
      "cell_type": "code",
      "execution_count": 72,
      "id": "56a065e2",
      "metadata": {
        "scrolled": true,
        "colab": {
          "base_uri": "https://localhost:8080/",
          "height": 369
        },
        "id": "56a065e2",
        "outputId": "c3ffa8c1-a8eb-4be0-85fb-09105033473c"
      },
      "outputs": [
        {
          "output_type": "stream",
          "name": "stdout",
          "text": [
            "계급수(K):5, R:18.1, 계급간격(w):4, 계급시작값(s):81.6\n",
            "계급:[ 81.6  85.6  89.6  93.6  97.6 101.6]\n"
          ]
        },
        {
          "output_type": "display_data",
          "data": {
            "text/plain": [
              "<Figure size 500x300 with 1 Axes>"
            ],
            "image/png": "[encoded data removed]"
          },
          "metadata": {}
        }
      ],
      "source": [
        "# 도수분포표 만들기\n",
        "df =  makeFrequencyTable(datas, k=5)\n",
        "x, y = df['계급값'], df['도수']\n",
        "make_histogram(datas, x, y, width=5)\n"
      ]
    },
    {
      "cell_type": "code",
      "execution_count": 74,
      "id": "eaf480b4",
      "metadata": {
        "colab": {
          "base_uri": "https://localhost:8080/",
          "height": 291
        },
        "id": "eaf480b4",
        "outputId": "da7c9729-e79d-4769-df1d-559b875face5"
      },
      "outputs": [
        {
          "output_type": "display_data",
          "data": {
            "text/plain": [
              "<Figure size 500x300 with 1 Axes>"
            ],
            "image/png": "[encoded data removed]"
          },
          "metadata": {}
        }
      ],
      "source": [
        "# seaborn 라이브러리로 히스토그램 그리기\n",
        "import seaborn as sns\n",
        "sns.histplot(datas, kde=True, bins=5)\n",
        "plt.show()     #객체 이름 안보이게 하는 방법"
      ]
    },
    {
      "cell_type": "markdown",
      "id": "2a4c2c1a",
      "metadata": {
        "id": "2a4c2c1a"
      },
      "source": [
        "### [실습문제] 변동계수 비교하기\n",
        "- data1 : 1부터 10 사이의 정수 100개 무작위 추출\n",
        "- data2 : 평균 1 이고, 표준편차가 1인 정규분포를 이루는 100개 무작위 추출"
      ]
    },
    {
      "cell_type": "code",
      "execution_count": 71,
      "id": "208f326f",
      "metadata": {
        "id": "208f326f"
      },
      "outputs": [],
      "source": [
        "import numpy as np\n",
        "\n",
        "# 데이터 집단 만들기\n",
        "# 1부터 10 사이의 정수 100개 무작위 추출\n",
        "# 평균 1, 표준편차 1인 정규분포에서 100개 무작위 추출\n",
        "\n"
      ]
    },
    {
      "cell_type": "markdown",
      "id": "27291366",
      "metadata": {
        "id": "27291366"
      },
      "source": [
        "### [실습문제] 사분위수를 이용하여 위치 확인하기\n",
        "- 사분위수를 구하시오\n",
        "- 상자그림을 그리시오."
      ]
    },
    {
      "cell_type": "code",
      "execution_count": null,
      "id": "3da1e23b",
      "metadata": {
        "id": "3da1e23b"
      },
      "outputs": [],
      "source": [
        "import numpy as np\n",
        "\n",
        "datas = [26, 31, 27, 38, 42, 26, 18, 17, 25, 29,\n",
        "         39, 38, 38, 40, 46, 38, 39, 41, 41, 40,\n",
        "         26, 19, 39, 28, 45, 34, 21, 41, 30, 30,\n",
        "         12, 22, 48, 34, 29, 26, 29, 58, 43, 16,\n",
        "         42, 44, 38, 44, 28, 43, 39, 42, 39, 46]\n",
        "\n",
        "print(sorted(datas))\n",
        "\n",
        "Q1 =   # 1사분위\n",
        "Q2 =   # 2사분위\n",
        "Q3 =   # 3사분위\n",
        "Q4 =   # 4사분위\n",
        "\n",
        "print('1사분위(Q1: 25%):', Q1 )\n",
        "print('2사분위(Q2: 50%):', Q2 )\n",
        "print('3사분위(Q3: 75%):', Q3 )\n",
        "print('4사분위(Q4:100%):', Q4 )"
      ]
    },
    {
      "cell_type": "markdown",
      "id": "0553808c",
      "metadata": {
        "id": "0553808c"
      },
      "source": [
        "### 상자그림\n",
        " - Box Plot: 사분위수를 이용하여 수집한 자료에 포함된 **특이값**을 알려주는 그림\n",
        " - 두 개 이상의 자료 집단을 비교할 때 매우 유용\n",
        " - https://matplotlib.org/stable/api/_as_gen/matplotlib.pyplot.boxplot.html"
      ]
    },
    {
      "cell_type": "code",
      "execution_count": null,
      "id": "7ce273c7",
      "metadata": {
        "id": "7ce273c7"
      },
      "outputs": [],
      "source": [
        ""
      ]
    },
    {
      "cell_type": "markdown",
      "id": "adfea130",
      "metadata": {
        "id": "adfea130"
      },
      "source": [
        "### [실습문제] 위치척도와 상자그림"
      ]
    },
    {
      "cell_type": "code",
      "execution_count": 75,
      "id": "ef7372fa",
      "metadata": {
        "colab": {
          "base_uri": "https://localhost:8080/",
          "height": 475
        },
        "id": "ef7372fa",
        "outputId": "0da9842f-e92c-45eb-b54e-feb73e953450"
      },
      "outputs": [
        {
          "output_type": "stream",
          "name": "stdout",
          "text": [
            "data1: [56, 90, 88, 87, 68, 32, 76, 54, 100, 41]\n",
            "data2: [8, 51, 70, 86, 2, 77, 81, 75, 64, 89]\n",
            "data3: [15, 55, 64, 95, 67, 67, 51, 58, 57, 89]\n",
            "\n",
            "ext_outlier      : []\n",
            "mid_outlier      : []\n",
            "ext_outlier      : []\n",
            "mid_outlier      : [8, 2]\n",
            "ext_outlier      : [15]\n",
            "mid_outlier      : [95, 89]\n"
          ]
        },
        {
          "output_type": "display_data",
          "data": {
            "text/plain": [
              "<Figure size 500x300 with 1 Axes>"
            ],
            "image/png": "[encoded data removed]"
          },
          "metadata": {}
        }
      ],
      "source": [
        "import numpy as np\n",
        "import matplotlib.pyplot as plt\n",
        "\n",
        "def get_outlier_data(datas):\n",
        "    Q1 = np.percentile(datas, 25).astype('int') # 1사분위 (편의상 정수로 만듦)\n",
        "    Q3 = np.percentile(datas, 75).astype('int')  # 3사분위\n",
        "    IQR = Q3 - Q1\n",
        "    fl = Q1 - 1.5*IQR  # lower inner fence\n",
        "    fu = Q3 + 1.5*IQR  # upper inner fence\n",
        "    fL = Q1 - 3*IQR    # lower outer fence\n",
        "    fU = Q3 + 3*IQR    # upper outer fence\n",
        "    mid_outlier = [x for x in datas if (fL<=x<=fl) or (fu<=x<=fU)] # mid ouetlier(보통 특이값)\n",
        "    ext_outlier = [x for x in datas if (fL>=x) or (fU<=x)]         # extreme outlier(특이값)\n",
        "#     print(f\"ordered data     : {sorted(datas)} \")\n",
        "#     print(f'lower inner fence: {fl}')\n",
        "#     print(f'upper inner fence: {fu}')\n",
        "#     print(f'lower outer fence: {fL}')\n",
        "    print(f'ext_outlier      : {ext_outlier}')\n",
        "    print(f'mid_outlier      : {mid_outlier}')\n",
        "\n",
        "\n",
        "\n",
        "data1 = [56,  90,  88,  87,  68,  32,  76,  54, 100,  41]  # 특이값 미 포함\n",
        "data2 = [8, 51, 70, 86,  2, 77, 81, 75, 64, 89]    # (보통)특이값 포함\n",
        "data3 = [15, 55, 64, 95, 67, 67, 51, 58, 57, 89]   # (보통)특이값 + 특이값 포함\n",
        "print(f'data1: {data1}')\n",
        "print(f'data2: {data2}')\n",
        "print(f'data3: {data3}')\n",
        "print()\n",
        "\n",
        "# outlier 값 찾기\n",
        "get_outlier_data(data1)\n",
        "get_outlier_data(data2)\n",
        "get_outlier_data(data3)\n",
        "\n",
        "# 상자그림 그리기\n",
        "plt.boxplot([data1, data2, data3], showmeans=True)\n",
        "plt.grid()\n",
        "plt.show()"
      ]
    },
    {
      "cell_type": "markdown",
      "id": "152f2e72",
      "metadata": {
        "id": "152f2e72"
      },
      "source": [
        "---------------"
      ]
    },
    {
      "cell_type": "markdown",
      "id": "29166f0d",
      "metadata": {
        "id": "29166f0d"
      },
      "source": [
        "### [실습문제] 산점도와 상관계수\n",
        "학생 건강검사 자료(2019년도 학생 건강검사 표본통계, 교육부) 중 서울지역 초등학교 3학년 남학생에 대한 표본에 대해 키와 몸무게를 이용하여 산점도를 나타내고 상관계수를 계산하시오."
      ]
    },
    {
      "cell_type": "code",
      "execution_count": null,
      "id": "30bb7f68",
      "metadata": {
        "id": "30bb7f68"
      },
      "outputs": [],
      "source": [
        "# 1. 데이터 확인\n",
        "\n"
      ]
    },
    {
      "cell_type": "code",
      "execution_count": null,
      "id": "c9e5c6a0",
      "metadata": {
        "scrolled": true,
        "id": "c9e5c6a0"
      },
      "outputs": [],
      "source": [
        "# 2. 산점도로 확인\n",
        "\n"
      ]
    },
    {
      "cell_type": "code",
      "execution_count": null,
      "id": "21c6b950",
      "metadata": {
        "id": "21c6b950"
      },
      "outputs": [],
      "source": [
        "# 상관계수(method='pearson') 확인\n"
      ]
    },
    {
      "cell_type": "markdown",
      "id": "8ae81d78",
      "metadata": {
        "id": "8ae81d78"
      },
      "source": [
        "----"
      ]
    },
    {
      "cell_type": "markdown",
      "id": "1842bf9a",
      "metadata": {
        "id": "1842bf9a"
      },
      "source": [
        "### **회귀분석(regression analysis)**\n",
        "- 변수가 **다른 변수에 영향을 미치는 관계를 식별**하기 위한 통계적 방법\n",
        "- 두 변수 간의 관계를 파악하여 **한 변수의 값으로부터 그에 대응하는 다른 변수의 값을 예측**하고자 할 때 사용하는 통계적 방법\n",
        "<br><br>\n",
        "- **독립변수(independent variable)** : 다른 변수에 영향을 주는 변수, 설명변수(explanatory variable)\n",
        "- **종속변수(dependent variable)** : 영향을 받는 변수, 반응변수(response variable)"
      ]
    },
    {
      "cell_type": "markdown",
      "id": "e9adbf01",
      "metadata": {
        "id": "e9adbf01"
      },
      "source": [
        "### 단순선형회귀모형(simple linear regression model) : 직선회귀모형\n",
        "\n",
        " - $y_i = a + bx_i + e_i$   $(e_i ~ N(0,\\sigma^2), i=1,2,...,n)$ <br><br>\n",
        " - $a, b$ : 모회귀계수\n",
        " - $x_i$  : 독립변수(설명변수), $y_i$:종속변수(반응변수)\n",
        " - $e_i$  : $N(0,\\sigma^2)$을 따르는 확률변수(오차항) <br><br>\n",
        " -- **==> 모회귀계수 $a, b$를 추정함으로서 회귀직선을 추정할 수 있다!**"
      ]
    },
    {
      "cell_type": "markdown",
      "id": "cc5fb8ea",
      "metadata": {
        "id": "cc5fb8ea"
      },
      "source": [
        "### [실습문제] 단순 회귀분석"
      ]
    },
    {
      "cell_type": "code",
      "execution_count": 77,
      "id": "6bb4855b",
      "metadata": {
        "colab": {
          "base_uri": "https://localhost:8080/",
          "height": 854
        },
        "id": "6bb4855b",
        "outputId": "a0daab6c-0340-44a3-f3ec-6b561d6947fc"
      },
      "outputs": [
        {
          "output_type": "execute_result",
          "data": {
            "text/plain": [
              "     father  daughter\n",
              "0    199.39   175.768\n",
              "1    199.39   175.260\n",
              "2    199.39   175.260\n",
              "3    191.77   166.370\n",
              "4    191.77   166.370\n",
              "..      ...       ...\n",
              "428  157.48   154.940\n",
              "429  158.75   144.780\n",
              "430  173.99   162.560\n",
              "431  173.99   161.290\n",
              "432  173.99   160.020\n",
              "\n",
              "[433 rows x 2 columns]"
            ],
            "text/html": [
              "\n",
              "  <div id=\"df-86209f2f-37f7-4b30-be34-83abbea02d2d\" class=\"colab-df-container\">\n",
              "    <div>\n",
              "<style scoped>\n",
              "    .dataframe tbody tr th:only-of-type {\n",
              "        vertical-align: middle;\n",
              "    }\n",
              "\n",
              "    .dataframe tbody tr th {\n",
              "        vertical-align: top;\n",
              "    }\n",
              "\n",
              "    .dataframe thead th {\n",
              "        text-align: right;\n",
              "    }\n",
              "</style>\n",
              "<table border=\"1\" class=\"dataframe\">\n",
              "  <thead>\n",
              "    <tr style=\"text-align: right;\">\n",
              "      <th></th>\n",
              "      <th>father</th>\n",
              "      <th>daughter</th>\n",
              "    </tr>\n",
              "  </thead>\n",
              "  <tbody>\n",
              "    <tr>\n",
              "      <th>0</th>\n",
              "      <td>199.39</td>\n",
              "      <td>175.768</td>\n",
              "    </tr>\n",
              "    <tr>\n",
              "      <th>1</th>\n",
              "      <td>199.39</td>\n",
              "      <td>175.260</td>\n",
              "    </tr>\n",
              "    <tr>\n",
              "      <th>2</th>\n",
              "      <td>199.39</td>\n",
              "      <td>175.260</td>\n",
              "    </tr>\n",
              "    <tr>\n",
              "      <th>3</th>\n",
              "      <td>191.77</td>\n",
              "      <td>166.370</td>\n",
              "    </tr>\n",
              "    <tr>\n",
              "      <th>4</th>\n",
              "      <td>191.77</td>\n",
              "      <td>166.370</td>\n",
              "    </tr>\n",
              "    <tr>\n",
              "      <th>...</th>\n",
              "      <td>...</td>\n",
              "      <td>...</td>\n",
              "    </tr>\n",
              "    <tr>\n",
              "      <th>428</th>\n",
              "      <td>157.48</td>\n",
              "      <td>154.940</td>\n",
              "    </tr>\n",
              "    <tr>\n",
              "      <th>429</th>\n",
              "      <td>158.75</td>\n",
              "      <td>144.780</td>\n",
              "    </tr>\n",
              "    <tr>\n",
              "      <th>430</th>\n",
              "      <td>173.99</td>\n",
              "      <td>162.560</td>\n",
              "    </tr>\n",
              "    <tr>\n",
              "      <th>431</th>\n",
              "      <td>173.99</td>\n",
              "      <td>161.290</td>\n",
              "    </tr>\n",
              "    <tr>\n",
              "      <th>432</th>\n",
              "      <td>173.99</td>\n",
              "      <td>160.020</td>\n",
              "    </tr>\n",
              "  </tbody>\n",
              "</table>\n",
              "<p>433 rows × 2 columns</p>\n",
              "</div>\n",
              "    <div class=\"colab-df-buttons\">\n",
              "\n",
              "  <div class=\"colab-df-container\">\n",
              "    <button class=\"colab-df-convert\" onclick=\"convertToInteractive('df-86209f2f-37f7-4b30-be34-83abbea02d2d')\"\n",
              "            title=\"Convert this dataframe to an interactive table.\"\n",
              "            style=\"display:none;\">\n",
              "\n",
              "  <svg xmlns=\"http://www.w3.org/2000/svg\" height=\"24px\" viewBox=\"0 -960 960 960\">\n",
              "    <path d=\"M120-120v-720h720v720H120Zm60-500h600v-160H180v160Zm220 220h160v-160H400v160Zm0 220h160v-160H400v160ZM180-400h160v-160H180v160Zm440 0h160v-160H620v160ZM180-180h160v-160H180v160Zm440 0h160v-160H620v160Z\"/>\n",
              "  </svg>\n",
              "    </button>\n",
              "\n",
              "  <style>\n",
              "    .colab-df-container {\n",
              "      display:flex;\n",
              "      gap: 12px;\n",
              "    }\n",
              "\n",
              "    .colab-df-convert {\n",
              "      background-color: #E8F0FE;\n",
              "      border: none;\n",
              "      border-radius: 50%;\n",
              "      cursor: pointer;\n",
              "      display: none;\n",
              "      fill: #1967D2;\n",
              "      height: 32px;\n",
              "      padding: 0 0 0 0;\n",
              "      width: 32px;\n",
              "    }\n",
              "\n",
              "    .colab-df-convert:hover {\n",
              "      background-color: #E2EBFA;\n",
              "      box-shadow: 0px 1px 2px rgba(60, 64, 67, 0.3), 0px 1px 3px 1px rgba(60, 64, 67, 0.15);\n",
              "      fill: #174EA6;\n",
              "    }\n",
              "\n",
              "    .colab-df-buttons div {\n",
              "      margin-bottom: 4px;\n",
              "    }\n",
              "\n",
              "    [theme=dark] .colab-df-convert {\n",
              "      background-color: #3B4455;\n",
              "      fill: #D2E3FC;\n",
              "    }\n",
              "\n",
              "    [theme=dark] .colab-df-convert:hover {\n",
              "      background-color: #434B5C;\n",
              "      box-shadow: 0px 1px 3px 1px rgba(0, 0, 0, 0.15);\n",
              "      filter: drop-shadow(0px 1px 2px rgba(0, 0, 0, 0.3));\n",
              "      fill: #FFFFFF;\n",
              "    }\n",
              "  </style>\n",
              "\n",
              "    <script>\n",
              "      const buttonEl =\n",
              "        document.querySelector('#df-86209f2f-37f7-4b30-be34-83abbea02d2d button.colab-df-convert');\n",
              "      buttonEl.style.display =\n",
              "        google.colab.kernel.accessAllowed ? 'block' : 'none';\n",
              "\n",
              "      async function convertToInteractive(key) {\n",
              "        const element = document.querySelector('#df-86209f2f-37f7-4b30-be34-83abbea02d2d');\n",
              "        const dataTable =\n",
              "          await google.colab.kernel.invokeFunction('convertToInteractive',\n",
              "                                                    [key], {});\n",
              "        if (!dataTable) return;\n",
              "\n",
              "        const docLinkHtml = 'Like what you see? Visit the ' +\n",
              "          '<a target=\"_blank\" href=https://colab.research.google.com/notebooks/data_table.ipynb>data table notebook</a>'\n",
              "          + ' to learn more about interactive tables.';\n",
              "        element.innerHTML = '';\n",
              "        dataTable['output_type'] = 'display_data';\n",
              "        await google.colab.output.renderOutput(dataTable, element);\n",
              "        const docLink = document.createElement('div');\n",
              "        docLink.innerHTML = docLinkHtml;\n",
              "        element.appendChild(docLink);\n",
              "      }\n",
              "    </script>\n",
              "  </div>\n",
              "\n",
              "\n",
              "<div id=\"df-5c838354-3e4c-46a2-8ad1-7fc9e8505682\">\n",
              "  <button class=\"colab-df-quickchart\" onclick=\"quickchart('df-5c838354-3e4c-46a2-8ad1-7fc9e8505682')\"\n",
              "            title=\"Suggest charts\"\n",
              "            style=\"display:none;\">\n",
              "\n",
              "<svg xmlns=\"http://www.w3.org/2000/svg\" height=\"24px\"viewBox=\"0 0 24 24\"\n",
              "     width=\"24px\">\n",
              "    <g>\n",
              "        <path d=\"M19 3H5c-1.1 0-2 .9-2 2v14c0 1.1.9 2 2 2h14c1.1 0 2-.9 2-2V5c0-1.1-.9-2-2-2zM9 17H7v-7h2v7zm4 0h-2V7h2v10zm4 0h-2v-4h2v4z\"/>\n",
              "    </g>\n",
              "</svg>\n",
              "  </button>\n",
              "\n",
              "<style>\n",
              "  .colab-df-quickchart {\n",
              "      --bg-color: #E8F0FE;\n",
              "      --fill-color: #1967D2;\n",
              "      --hover-bg-color: #E2EBFA;\n",
              "      --hover-fill-color: #174EA6;\n",
              "      --disabled-fill-color: #AAA;\n",
              "      --disabled-bg-color: #DDD;\n",
              "  }\n",
              "\n",
              "  [theme=dark] .colab-df-quickchart {\n",
              "      --bg-color: #3B4455;\n",
              "      --fill-color: #D2E3FC;\n",
              "      --hover-bg-color: #434B5C;\n",
              "      --hover-fill-color: #FFFFFF;\n",
              "      --disabled-bg-color: #3B4455;\n",
              "      --disabled-fill-color: #666;\n",
              "  }\n",
              "\n",
              "  .colab-df-quickchart {\n",
              "    background-color: var(--bg-color);\n",
              "    border: none;\n",
              "    border-radius: 50%;\n",
              "    cursor: pointer;\n",
              "    display: none;\n",
              "    fill: var(--fill-color);\n",
              "    height: 32px;\n",
              "    padding: 0;\n",
              "    width: 32px;\n",
              "  }\n",
              "\n",
              "  .colab-df-quickchart:hover {\n",
              "    background-color: var(--hover-bg-color);\n",
              "    box-shadow: 0 1px 2px rgba(60, 64, 67, 0.3), 0 1px 3px 1px rgba(60, 64, 67, 0.15);\n",
              "    fill: var(--button-hover-fill-color);\n",
              "  }\n",
              "\n",
              "  .colab-df-quickchart-complete:disabled,\n",
              "  .colab-df-quickchart-complete:disabled:hover {\n",
              "    background-color: var(--disabled-bg-color);\n",
              "    fill: var(--disabled-fill-color);\n",
              "    box-shadow: none;\n",
              "  }\n",
              "\n",
              "  .colab-df-spinner {\n",
              "    border: 2px solid var(--fill-color);\n",
              "    border-color: transparent;\n",
              "    border-bottom-color: var(--fill-color);\n",
              "    animation:\n",
              "      spin 1s steps(1) infinite;\n",
              "  }\n",
              "\n",
              "  @keyframes spin {\n",
              "    0% {\n",
              "      border-color: transparent;\n",
              "      border-bottom-color: var(--fill-color);\n",
              "      border-left-color: var(--fill-color);\n",
              "    }\n",
              "    20% {\n",
              "      border-color: transparent;\n",
              "      border-left-color: var(--fill-color);\n",
              "      border-top-color: var(--fill-color);\n",
              "    }\n",
              "    30% {\n",
              "      border-color: transparent;\n",
              "      border-left-color: var(--fill-color);\n",
              "      border-top-color: var(--fill-color);\n",
              "      border-right-color: var(--fill-color);\n",
              "    }\n",
              "    40% {\n",
              "      border-color: transparent;\n",
              "      border-right-color: var(--fill-color);\n",
              "      border-top-color: var(--fill-color);\n",
              "    }\n",
              "    60% {\n",
              "      border-color: transparent;\n",
              "      border-right-color: var(--fill-color);\n",
              "    }\n",
              "    80% {\n",
              "      border-color: transparent;\n",
              "      border-right-color: var(--fill-color);\n",
              "      border-bottom-color: var(--fill-color);\n",
              "    }\n",
              "    90% {\n",
              "      border-color: transparent;\n",
              "      border-bottom-color: var(--fill-color);\n",
              "    }\n",
              "  }\n",
              "</style>\n",
              "\n",
              "  <script>\n",
              "    async function quickchart(key) {\n",
              "      const quickchartButtonEl =\n",
              "        document.querySelector('#' + key + ' button');\n",
              "      quickchartButtonEl.disabled = true;  // To prevent multiple clicks.\n",
              "      quickchartButtonEl.classList.add('colab-df-spinner');\n",
              "      try {\n",
              "        const charts = await google.colab.kernel.invokeFunction(\n",
              "            'suggestCharts', [key], {});\n",
              "      } catch (error) {\n",
              "        console.error('Error during call to suggestCharts:', error);\n",
              "      }\n",
              "      quickchartButtonEl.classList.remove('colab-df-spinner');\n",
              "      quickchartButtonEl.classList.add('colab-df-quickchart-complete');\n",
              "    }\n",
              "    (() => {\n",
              "      let quickchartButtonEl =\n",
              "        document.querySelector('#df-5c838354-3e4c-46a2-8ad1-7fc9e8505682 button');\n",
              "      quickchartButtonEl.style.display =\n",
              "        google.colab.kernel.accessAllowed ? 'block' : 'none';\n",
              "    })();\n",
              "  </script>\n",
              "</div>\n",
              "\n",
              "  <div id=\"id_0bafc9db-05a2-440d-8f37-7d89c52953d1\">\n",
              "    <style>\n",
              "      .colab-df-generate {\n",
              "        background-color: #E8F0FE;\n",
              "        border: none;\n",
              "        border-radius: 50%;\n",
              "        cursor: pointer;\n",
              "        display: none;\n",
              "        fill: #1967D2;\n",
              "        height: 32px;\n",
              "        padding: 0 0 0 0;\n",
              "        width: 32px;\n",
              "      }\n",
              "\n",
              "      .colab-df-generate:hover {\n",
              "        background-color: #E2EBFA;\n",
              "        box-shadow: 0px 1px 2px rgba(60, 64, 67, 0.3), 0px 1px 3px 1px rgba(60, 64, 67, 0.15);\n",
              "        fill: #174EA6;\n",
              "      }\n",
              "\n",
              "      [theme=dark] .colab-df-generate {\n",
              "        background-color: #3B4455;\n",
              "        fill: #D2E3FC;\n",
              "      }\n",
              "\n",
              "      [theme=dark] .colab-df-generate:hover {\n",
              "        background-color: #434B5C;\n",
              "        box-shadow: 0px 1px 3px 1px rgba(0, 0, 0, 0.15);\n",
              "        filter: drop-shadow(0px 1px 2px rgba(0, 0, 0, 0.3));\n",
              "        fill: #FFFFFF;\n",
              "      }\n",
              "    </style>\n",
              "    <button class=\"colab-df-generate\" onclick=\"generateWithVariable('df')\"\n",
              "            title=\"Generate code using this dataframe.\"\n",
              "            style=\"display:none;\">\n",
              "\n",
              "  <svg xmlns=\"http://www.w3.org/2000/svg\" height=\"24px\"viewBox=\"0 0 24 24\"\n",
              "       width=\"24px\">\n",
              "    <path d=\"M7,19H8.4L18.45,9,17,7.55,7,17.6ZM5,21V16.75L18.45,3.32a2,2,0,0,1,2.83,0l1.4,1.43a1.91,1.91,0,0,1,.58,1.4,1.91,1.91,0,0,1-.58,1.4L9.25,21ZM18.45,9,17,7.55Zm-12,3A5.31,5.31,0,0,0,4.9,8.1,5.31,5.31,0,0,0,1,6.5,5.31,5.31,0,0,0,4.9,4.9,5.31,5.31,0,0,0,6.5,1,5.31,5.31,0,0,0,8.1,4.9,5.31,5.31,0,0,0,12,6.5,5.46,5.46,0,0,0,6.5,12Z\"/>\n",
              "  </svg>\n",
              "    </button>\n",
              "    <script>\n",
              "      (() => {\n",
              "      const buttonEl =\n",
              "        document.querySelector('#id_0bafc9db-05a2-440d-8f37-7d89c52953d1 button.colab-df-generate');\n",
              "      buttonEl.style.display =\n",
              "        google.colab.kernel.accessAllowed ? 'block' : 'none';\n",
              "\n",
              "      buttonEl.onclick = () => {\n",
              "        google.colab.notebook.generateWithVariable('df');\n",
              "      }\n",
              "      })();\n",
              "    </script>\n",
              "  </div>\n",
              "\n",
              "    </div>\n",
              "  </div>\n"
            ],
            "application/vnd.google.colaboratory.intrinsic+json": {
              "type": "dataframe",
              "variable_name": "df",
              "summary": "{\n  \"name\": \"df\",\n  \"rows\": 433,\n  \"fields\": [\n    {\n      \"column\": \"father\",\n      \"properties\": {\n        \"dtype\": \"number\",\n        \"std\": 6.710420555249304,\n        \"min\": 157.48,\n        \"max\": 199.39000000000001,\n        \"num_unique_values\": 34,\n        \"samples\": [\n          179.07,\n          175.768,\n          167.64000000000001\n        ],\n        \"semantic_type\": \"\",\n        \"description\": \"\"\n      }\n    },\n    {\n      \"column\": \"daughter\",\n      \"properties\": {\n        \"dtype\": \"number\",\n        \"std\": 6.020611791477937,\n        \"min\": 142.24,\n        \"max\": 179.07,\n        \"num_unique_values\": 43,\n        \"samples\": [\n          153.67000000000002,\n          165.608,\n          157.48\n        ],\n        \"semantic_type\": \"\",\n        \"description\": \"\"\n      }\n    }\n  ]\n}"
            }
          },
          "metadata": {},
          "execution_count": 77
        },
        {
          "output_type": "display_data",
          "data": {
            "text/plain": [
              "<google.colab._quickchart_helpers.SectionTitle at 0x783523d322f0>"
            ],
            "text/html": [
              "<h4 class=\"colab-quickchart-section-title\">Distributions</h4>\n",
              "<style>\n",
              "  .colab-quickchart-section-title {\n",
              "      clear: both;\n",
              "  }\n",
              "</style>"
            ]
          },
          "metadata": {}
        },
        {
          "output_type": "display_data",
          "data": {
            "text/plain": [
              "from matplotlib import pyplot as plt\n",
              "df['father'].plot(kind='hist', bins=20, title='father')\n",
              "plt.gca().spines[['top', 'right',]].set_visible(False)"
            ],
            "text/html": [
              "      <div class=\"colab-quickchart-chart-with-code\" id=\"chart-5365d75e-586d-4b38-b3fd-93244ba2d974\">\n",
              "        <img style=\"width: 180px;\" src=\"data:image/png;base64,iVBORw0KGgoAAAANSUhEUgAAAbsAAAEjCAYAAACrXK8wAAAAOXRFWHRTb2Z0d2FyZQBNYXRwbG90\n",
              "bGliIHZlcnNpb24zLjcuMSwgaHR0cHM6Ly9tYXRwbG90bGliLm9yZy/bCgiHAAAACXBIWXMAAA9h\n",
              "AAAPYQGoP6dpAAAfaElEQVR4nO3deXAUZf7H8U/IwLCoCYQAISIJKGIIEQIhnP7WFTbIEXcFl0vl\n",
              "UC4FRFmuoLuCiAHPcllRMVQWRJEFCWAsLBaI1oJCRJYr4AEhsZxFkcOEI0zIzPP7g3KWkYAwzEGa\n",
              "96vqqZrpfrrnO48ZPj49Pd1hxhgjAAAsrFqoCwAAINAIOwCA5RF2AADLI+wAAJZH2AEALI+wAwBY\n",
              "HmEHALA8wg4AYHmEHRAixhiNHTtWjRo10ujRo0NdDmBphB0QIjk5OVq7dq327NmjefPmXbDf9u3b\n",
              "9fe//91rWXx8vN57771AlwhYBmEHhMjevXuVmpqqiIgIVat24Y9iZWEH4PIQdkCInDlzRjabLdRl\n",
              "ANcEwg4IgV69eunFF1/U0qVLFRMTo6VLlyotLU2NGzdW/fr1dc8996ikpERjx47V+PHjtW/fPsXE\n",
              "xKhfv36efTgcDvXs2VP16tVT8+bNtX79eq91/fr1U8OGDdWoUSP16NFDe/fulSRNnz5dXbp00cMP\n",
              "P6z69etr5MiRQX//QNAZACHx9NNPmyFDhhhjjHnppZdMXl6eqaioMGVlZaZLly7mueeeM8YYk52d\n",
              "bZo3b+61bVxcnKlfv75Zv369McaYhQsXmsaNGxtjjDl9+rRp166dWbdunTHGGLfbbebNm2cSEhI8\n",
              "ryvJvPHGG8YYY8rKygL+XoFQ4xgKcBWYMGGCjhw5onXr1unAgQM6c+aM9u3bd9FtRo4cqbvuukuS\n",
              "dN9992nIkCE6evSo1qxZox07duj+++/39DXG6NSpUyopKZEktWjRQqNGjZIk1axZM0DvCrh6EHbA\n",
              "VWDMmDFav369+vTpo7i4OMXFxcnlcl10mxYtWnge16pVS5JUWlqq4uJipaSkaNOmTRfc9qabbvJP\n",
              "4UAVQdgBIZaXl6d33nlH3333na6//npJ0o4dO3Tq1KmLbhcWFlbp8oYNG2rv3r06deqUJwSBax0n\n",
              "qAAhdvr0ablcLh05ckSSlJubq7ffftuzvlatWiotLdXp06e1f//+X93ffffdp4iICD366KM6fvy4\n",
              "JOmbb77Rm2++GZg3AFQBhB0QYmlpaXrggQfUpk0bNWzYUEuXLtWDDz7oWd+1a1c1atRItWvX1j33\n",
              "3CO3233R/d1www1av369SktL1axZM8XExOi+++7TddddF+i3Aly1wowxJtRFAAAQSMzsAACWR9gB\n",
              "ACyPsAMAWB5hBwCwPMIOAGB5hB0AwPICHnZOp1MjR45UmzZt1KFDB/3ud7/Trl279MMPP6h79+5K\n",
              "SkpScnKytmzZEuhSAADXqICHXVZWlg4ePKjPP/9cmzdv1sMPP6xHHnlEjz32mLp166Zdu3bpjTfe\n",
              "UL9+/VRRUXHJ+3311VcDWDUAwEoCHnYNGzbUiRMnVFZWJkk6evSo6tWrp9zcXI0YMUKS1L59e0VF\n",
              "RWnr1q2XvN/i4uKA1AsAsJ6AXwi6T58+2rt3r2JiYlSnTh3deOONWrp0qZKTk1W7dm1Pv7i4OBUV\n",
              "FalDhw7n7cPpdMrpdHot+7UrwgMA8LOAz+w2bNigVatWqaioSN9++6169eql4cOHKzw83KufzWa7\n",
              "4DX/MjMzFRkZ6dXy8/MDXToAwCICHnYrVqzQwIEDFR0drbCwMD3++OPauHGjjh8/7jm0KUkOh0Ox\n",
              "sbGV7iMjI0MlJSVeLTU1NdClAwAsIuBh16RJE3300UcqLy+XJK1atUq33HKLunXrpkWLFkmSdu7c\n",
              "qQMHDlR6CFOS7Ha7IiIivNovZ4YAAFxIwL+zGzdunAoLC9WuXTvZ7XbVqlVL7777riIiIvTQQw8p\n",
              "KytLNptNq1atUs2aNQNdDgDgGhTwsKtRo4Zee+21StetX78+0C8PAABXUAEAWB9hBwCwPMIOAGB5\n",
              "Af/ODsD54qd+6Jf9FM3u5Zf9AFbHzA4AYHmEHQDA8gg7AIDlEXYAAMsj7AAAlkfYAQAsj7ADAFge\n",
              "YQcAsDzCDgBgeYQdAMDyCDsAgOURdgAAyyPsAACWR9gBACyPsAMAWB5hBwCwvIDfvDUrK0tZWVme\n",
              "5y6XS4cPH9bu3bv10EMPaffu3ZKkOXPmqHfv3oEuBwBwDQp42A0fPlzDhw/3PH/33XeVl5enZ555\n",
              "RtHR0SooKFBhYaE6deqkPXv2KCoqKtAlAQCuMQEPu1968cUXtWTJEqWnp2v58uWSpKZNm6pjx45a\n",
              "u3atBgwYcN42TqdTTqfTa5nL5QpKvQCAqi+o39l99NFHiouLU/PmzVVcXKz4+HjPuri4OBUVFVW6\n",
              "XWZmpiIjI71afn5+cIoGAFR5QQ27OXPmaPLkyZIkt9ut8PBwzzqbzSa3213pdhkZGSopKfFqqamp\n",
              "QakZAFD1BS3s8vPz5XK51LFjR0lSbGysHA6HZ73D4VBsbGyl29rtdkVERHi1c4MSAICLCVrYzZkz\n",
              "R5MmTfI8T09PV3Z2tqSzQZeXl6e0tLRglQMAuIYE5QSVr7/+Wl9//bXXTwtmzpypYcOGKSUlRdLZ\n",
              "nyhcaGYHAMCVCErY3Xrrrdq1a5fXsjp16mjlypXBeHkAwDWOK6gAACyPsAMAWB5hBwCwPMIOAGB5\n",
              "hB0AwPIIOwCA5RF2AADLI+wAAJZH2AEALI+wAwBYHmEHALA8wg4AYHmEHQDA8gg7AIDlEXYAAMsj\n",
              "7AAAlkfYAQAsj7ADAFgeYQcAsLyghJ3b7VZGRoaSkpLUrl07TZgwQS6XS2PGjFGLFi2UkJCgBQsW\n",
              "BKMUAMA1yBaMF5k8ebISExO1a9cuSdJPP/2k+fPnq7i4WAUFBTp27JiSk5PVqVMnJSQkBKMkAMA1\n",
              "JOAzuyNHjujrr7/WF198oXbt2ulPf/qTTpw4oZycHI0cOVJhYWGKiopSnz59tGrVqkCXAwC4BgU8\n",
              "7LZt26Z///vfGjRokD7//HN17dpVAwYMUHFxseLj4z394uLiVFRUVOk+nE6nSktLvZrL5Qp06QAA\n",
              "iwh42B0+fFj/93//p06dOkmSRo4cqe3bt6u8vFzh4eGefjabTW63u9J9ZGZmKjIy0qvl5+cHunQA\n",
              "gEUEPOzq16+viIgI7xetVk3R0dFyOByeZQ6HQ7GxsZXuIyMjQyUlJV4tNTU1oHUDAKwj4GHXuXNn\n",
              "bdq0yXOIcuHChWrTpo369++v7OxsSVJpaamWLVum9PT0Svdht9sVERHh1c6dFQIAcDEBPxuzZs2a\n",
              "WrRokf7whz8oPDxc0dHRWrhwoWJiYjR69Gi1adNG0tnZW9u2bQNdDmAp8VM/9Mt+imb38st+gKtV\n",
              "UH560KVLF+3YseO85T/P7AAACCSuoAIAsLygzOyAq4G/DvkBqHqY2QEALI+wAwBYHmEHALA8wg4A\n",
              "YHmEHQDA8gg7AIDlEXYAAMsj7AAAlkfYAQAsj7ADAFgeYQcAsDzCDgBgeYQdAMDyCDsAgOURdgAA\n",
              "yyPsAACWR9gBACyPsAMAWF5Qwi4+Pl4dOnTwtOnTp8vlcmnMmDFq0aKFEhIStGDBgmCUAgC4BtmC\n",
              "9UKbN2/2ev7666+ruLhYBQUFOnbsmJKTk9WpUyclJCQEqyQAwDUiKDO7atWqqWPHjmrVqpVGjBih\n",
              "77//Xjk5ORo5cqTCwsIUFRWlPn36aNWqVZVu73Q6VVpa6tVcLlcwSgcAWEBQwm737t367LPPlJ+f\n",
              "r+joaPXr10/FxcWKj4/39ImLi1NRUVGl22dmZioyMtKr5efnB6N0AIAFBCXsatWqJUmy2+2aOXOm\n",
              "tm7dqvLycoWHh3v62Gw2ud3uSrfPyMhQSUmJV0tNTQ1G6QAACwjad3ZeL2qzKTY2Vg6HQ4mJiZIk\n",
              "h8Oh2NjYSvvb7XbZ7XavZecGJQAAF+PTzO7n79cqKip+te+uXbu0detWz/PZs2crPT1d9957r7Kz\n",
              "syVJpaWlWrZsmdLT030pBwCAi/Ip7IYPH66cnBy1aNFC48eP17Zt2y7Y9/rrr9df/vIXJScnKykp\n",
              "Sfv27dO8efM0btw41axZU23atNGdd96pjIwMtW3b1uc3AgDAhfh0GLNnz57q2bOnzpw5o7Vr1+qV\n",
              "V17Rrl279MADD2jYsGGqW7eup2+TJk20Zs2aSvfz88wOAIBAuqITVPbu3av169dry5Yt6tKli6pX\n",
              "r67u3btryZIl/qoPAIAr5tPM7uWXX9aiRYtUs2ZNjRo1Ss8++6znjMvRo0crJSVFAwcO9GuhAAD4\n",
              "yqew++abb/SPf/xDrVu3Pm+d3W7XuHHjrrQuAAD8xqfDmKdOndJ1113neb5jxw7df//9nucjR468\n",
              "8soAAPATn8Lum2++UbNmzTzPW7VqpcLCQr8VBQCAP/kUdmfOnPG62klFRYVOnz7tt6IAAPAnn8Iu\n",
              "LS1NAwYMUH5+vr744gsNGTJE3bp183dtAAD4hU9hN2PGDLVq1Urjxo3T6NGjdfPNN+u5557zd20A\n",
              "APiFT2dj2mw2Pfnkk3ryySf9XQ8AAH7n08xu1apVat68uWrUqKHw8HBVq1aNCzMDAK5aPoXdtGnT\n",
              "9N577+nEiRMqLy/XmTNnVF5e7u/aAADwC58OY9auXVvJycn+rgUAgIDwaWbXt29fPf300yopKZHb\n",
              "7fY0AACuRj7N7CZOnChJmjlzpsLCwmSMUVhYmFwul1+LAwDAH3wKO2ZxAICqxKfDmKWlpZoyZYoG\n",
              "Dx4sSdqzZ482b97s18IAAPAXn8Lu4YcfVt26dVVQUCBJiomJ0aRJk/xaGAAA/uJT2DkcDk2ePFk1\n",
              "atSQJEVFRamiosKvhQEA4C8+hV21at6blZWVyel0+qUgAAD8zaewS09P14gRI1RaWqrly5erd+/e\n",
              "6tevn79rAwDAL3wKuylTpujOO+9Uy5YttWzZMg0ePFhTp0791e1efvllVa9eXZL0ww8/qHv37kpK\n",
              "SlJycrK2bNniSykAAPwqn396MHDgQA0cONBr2S8Pb54rPz9fO3fu1I033ihJeuyxx9StWzdNmjRJ\n",
              "W7ZsUb9+/bR//37ZbD6VBADABfk0s7PZbKpevfp57UJKSko0depUvfrqq5Ikl8ul3NxcjRgxQpLU\n",
              "vn17RUVFaevWrZVu73Q6VVpa6tX4ATsA4FJd8Y/Kjx8/rrlz51407EaNGqVZs2YpMjJSknTo0CHZ\n",
              "7XbVrl3b0ycuLk5FRUXq0KHDedtnZmZqxowZXssq6wcAQGV8mtmd64YbbtC0adO0YsWKStfPmzdP\n",
              "LVu2VMeOHT3L3G73ebcEstlsF7wyS0ZGhkpKSrxaamrqlZYOALhG+OULsv/+978qLS2tdF1eXp6K\n",
              "i4uVm5srSTp48KDS09N19OhRlZWV6Te/+Y2ks7/di42NrXQfdrtddrvdaxn3zwMAXCqfwu6mm25S\n",
              "WFiYJKmiokJOp1OvvPJKpX2XLVvm9Tw+Pl7btm1T7969tWjRIo0aNUo7d+7UgQMHODQJAAgIn8Ju\n",
              "48aN/9uBzaaYmJjLnmm99tpreuihh5SVlSWbzaZVq1apZs2avpQDAMBF+RR2+/fv93r+1Vdfndfn\n",
              "rrvuqnTboqIiSWdPSFm/fr0vLw8AwGXxKezGjx+vwsJCJScny+Vy6T//+Y9atWqlWrVqSZLCwsIu\n",
              "GHYAAASbT2HXqlUrLVmyRC1btpQkbd++Xc8995z++c9/+rU4AAD8waefHuzfv98TdJLUunVrORwO\n",
              "vxUFAIA/+RR2LpdLn376qef5rl27dPr0ab8VBQCAP/l0GHP+/Pnq16+fatSooRo1aujgwYNavHix\n",
              "v2sDAMAvfAq71q1b68svv9TGjRt1/fXX67bbbvOcnAIAwNXGp8OYH3/8seLj4zV06FC1adNG27Zt\n",
              "06xZs/xdGwAAfuFT2E2bNk2ffvqpGjRoIEnq0qWLcnJy/FoYAAD+4lPYhYeHq1GjRl7LuA8dAOBq\n",
              "5VPY1ahRQ99//73n+pjbt29XjRo1/FoYAAD+4tN0LDMzUz169NB3332n3r17a8eOHedd8BkAgKuF\n",
              "T2G3du1affLJJ9q0aZOkszdSrVOnjl8LAwDAX3w6jLl69WpFRESoR48e6tGjB0EHALiq+TSzu+OO\n",
              "OzRlyhQNHjzYc/NVSWratKnfCgMAwF98CrsVK1ZIkteFn8PCwlRYWOifqgBUOfFTP/TLfopm9/LL\n",
              "foBz+RR2Bw4c8HcdAAAEzGV9Z9epUyfP40GDBvm9GAAAAuGyws4Y43nM7A4AUFX4dDYmAABVyWWF\n",
              "XVhYmIwxcrvdXo9/bpWpqKjQ+PHjlZSUpA4dOqhr16768ssv5XK5NGbMGLVo0UIJCQlasGCBX94Q\n",
              "AAC/dFknqGzevNlzDUxjjNfjsLAwuVyu87YpLy9X69at9eqrr0qS3nrrLU2bNk2///3vVVxcrIKC\n",
              "Ah07dkzJycnq1KmTEhISrvQ9wQ84sw6AlVzWzM7tdsvlcsnlclX6uDK1atXSsGHDJJ29w/m+ffvU\n",
              "tGlT5eTkaOTIkQoLC1NUVJT69OmjVatWXfk7AgDgF4J2q4KcnByNGjVKt956qz766CO1bdtW8fHx\n",
              "nvVxcXH68ssvK93W6XTK6XR6LbtQuAIA8EtBO0Hl3nvv1ffff6/evXtr4MCBcrvdCg8P96y32WwX\n",
              "/N4vMzNTkZGRXi0/Pz9YpQMAqrigno1ZrVo1jR49Whs2bFBsbKwcDodnncPhUGxsbKXbZWRkqKSk\n",
              "xKulpqYGq2wAQBUX8LDbsmWL1q1b53n+wQcfKDk5Wenp6crOzpYklZaWatmyZUpPT690H3a7XRER\n",
              "EV7t3FkhAAAXE/Dv7G6++WY9/vjjmjJliqpXr67IyEgtXLhQjRo10ujRo9WmTRtJZ2dvbdu2DXQ5\n",
              "AIBrUMDDLjo6WosXL6503c8zOwAAAokrqAAALI+wAwBYHmEHALA8wg4AYHmEHQDA8gg7AIDlEXYA\n",
              "AMsj7AAAlkfYAQAsL2i3+AGuhL9uJgvg2sTMDgBgeYQdAMDyCDsAgOURdgAAyyPsAACWR9gBACyP\n",
              "sAMAWB5hBwCwPMIOAGB5hB0AwPICHnbl5eV66qmn1Lp1a6Wmpqp79+46dOiQTp48qf79+ysxMVGJ\n",
              "iYnKzc0NdCkAgGtUwK+NefDgQTVo0EDbtm1TtWrVNGnSJL3yyityu92Kjo5WQUGBCgsL1alTJ+3Z\n",
              "s0dRUVGBLgkAcI0J+MwuLi5O48aNU7VqZ1+qbt26OnPmjHJycjRq1ChJUtOmTdWxY0etXbu20n04\n",
              "nU6VlpZ6NZfLFejSAQAWEdS7Hnz77bfKysrSunXrNHfuXMXHx3vWxcXFqaioqNLtMjMzNWPGDK9l\n",
              "HTp0CGClVRt3CAAAb0E7QaWkpER9+/bVvHnzFB8fL7fbrfDwcM96m80mt9td6bYZGRkqKSnxaqmp\n",
              "qcEqHQBQxQUl7E6cOKHevXtr4sSJSktLkyTFxsbK4XB4+jgcDsXGxla6vd1uV0REhFc7NygBALiY\n",
              "gIddWVmZ0tPTNXToUPXv39+zPD09XdnZ2ZLOBl1eXp4nCAEA8KeAf2e3YMEC5efnq6ysTG+99ZYk\n",
              "qVWrVpo9e7aGDRumlJQUSVJWVtYFZ3YAAFyJgIfd2LFjNXbs2ErXrVy5MtAvDwAAV1ABAFgfYQcA\n",
              "sDzCDgBgeYQdAMDyCDsAgOURdgAAyyPsAACWR9gBACyPsAMAWB5hBwCwPMIOAGB5Qb15KwAEg79u\n",
              "YFw0u5df9oPQY2YHALA8wg4AYHmEHQDA8gg7AIDlEXYAAMvjbEwElL/OigOAK8HMDgBgeUEJuxMn\n",
              "TmjEiBEKCwtTRUWFJOnkyZPq37+/EhMTlZiYqNzc3GCUAgC4BgXlMOYLL7ygu+++W1lZWZ5lzzzz\n",
              "jKKjo1VQUKDCwkJ16tRJe/bsUVRUVDBKuipxyA/gc4DACErYzZgx47xlOTk5Wr58uSSpadOm6tix\n",
              "o9auXasBAwYEoyQAwDUkZCeoFBcXKz4+3vM8Li5ORUVFlfZ1Op1yOp1ey1wuVwCrAwBYSchOUHG7\n",
              "3QoPD/c8t9lscrvdlfbNzMxUZGSkV8vPzw9WqQCAKi5kYRcbGyuHw+F57nA4FBsbW2nfjIwMlZSU\n",
              "eLXU1NRglQoAqOJCFnbp6enKzs6WdDbo8vLylJaWVmlfu92uiIgIr3burBAAgIsJ2Xd2M2fO1LBh\n",
              "w5SSkiJJysrKuuDMDgCAKxHUsDPGeB7XqVNHK1euDObLAwCuUVwuDAC/bbsAbgJrHVwuDABgeYQd\n",
              "AMDyCDsAgOURdgAAyyPsAACWR9gBACyPsAMAWB5hBwCwPMIOAGB5hB0AwPIIOwCA5RF2AADLI+wA\n",
              "AJZH2AEALO+av8WPP27hwe07AFxrqtq/nczsAACWR9gBACzvmj+MCQCBVtUO+VkRMzsAgOWFPOxW\n",
              "r16txMREJSYmasCAATp16lSoSwIAWExIw+7w4cMaMWKEcnNzVVBQoKioKD377LOhLAkAYEEhDbu1\n",
              "a9eqc+fOatKkiSRp1KhRWrFixXn9nE6nSktLvZrL5Qp2uQCAKirMGGNC9eKZmZn68ccf9fLLL0uS\n",
              "fvrpJ8XExOj06dNe/aZPn64ZM2Z4LbvtttvUo0ePoNV6qVwul/Lz85Wamqrw8PBQl1PlMZ7+xXj6\n",
              "F+PpX76OZ1xcnMaPH3/RPiENu1mzZumnn37SCy+8IEk6ceKEoqKiVF5e7tXP6XTK6XR6LbPb7bLb\n",
              "7UGr9VKVlpYqMjJSJSUlioiICHU5VR7j6V+Mp38xnv4VyPEM6U8PYmNjVVBQ4HnucDgUGxt7Xr+r\n",
              "NdgAAFVDSL+zS0tLU15eng4ePChJysrKUnp6eihLAgBYUEhndjfeeKNeeukl9ezZUzabTc2bN9fr\n",
              "r78eypIAABYU8iuoDBo0SIMGDQp1GX5jt9v19NNPc9jVTxhP/2I8/Yvx9K9AjmdIT1ABACAYQn4F\n",
              "FQAAAo2wAwBYHmEHALA8wg4AYHmEnQ9OnDihESNGKCwsTBUVFZ7l27dvV+fOnZWSkqK2bdvqq6++\n",
              "kiR99tlnSk5OVlJSku6++24dOnQoVKVflSobzw4dOni1hg0bauHChZK4U8avqWw8161bp/bt26tj\n",
              "x45q3bq1pk+f7uk/f/58JSQkqEWLFho7dqzcbneIKr86VTaeBw4cUI8ePdSuXTulpKRo7dq1nv6M\n",
              "54WVl5frqaeeUuvWrZWamqru3bvr0KFDOnnypPr37+/5XOfm5nq28dvn3eCy/fWvfzXLly83ksyZ\n",
              "M2eMMcYUFxebu+++2xw8eNAYY4zT6TSnTp0yZ86cMY0aNTJbtmwxxhgzZ84cM3DgwJDVfjWqbDzP\n",
              "5XK5TGJioikqKjI//vijqV+/viksLDTGGPPII4+YjIyMYJd8VatsPOvVq+f5Gzx16pRJSkoy//rX\n",
              "v8zu3btN48aNzZEjR4zb7Ta9evUyb775ZijLv+pUNp6//e1vzeLFi40xxhw9etQkJyeb06dPM56/\n",
              "oqioyPztb38zLpfLGGPMxIkTzdSpU83kyZPNo48+aowxZv/+/aZBgwbmyJEjfv28E3ZX4Nw//okT\n",
              "J5oXX3zR3HXXXaZ9+/bm9ddfN8YYs2nTJpOcnOzZ5tixY6ZWrVqe/9j4nwuF3YoVK8ygQYOMMca8\n",
              "88475t577/Ws2759u2nevHnQaqxKzh3PpKQk88EHHxhjjDl06JBJSEgw27ZtM7NmzTJPPPGEZ5uV\n",
              "K1ea7t27h6Teq92543ndddeZ48ePe9Y9+OCDZv369YznZcrMzDR//vOfTbNmzcyOHTs8y//4xz+a\n",
              "JUuW+PXzzmFMP/n000+1fft2rVmzRh9++KHmzp2rdevWqbi4WPHx8Z5+tWvXVvXq1TmUeRmef/55\n",
              "TZ48WZLOG8+4uDgVFRWFprAqJDc3V0888YSaNm2qJk2aKCMjQ8nJyYynj26//Xa9//77kqTCwkJt\n",
              "2LBBP/zwA+N5Gb799ltlZWVp7NixFxw3f44nYecnhw8f1oQJE1SjRg3VrVtXgwcP1po1a+R2u8+7\n",
              "VYXNZuM4/iX65JNPFBERoVatWknSeePJWF6aIUOGKCMjQ4WFhdqzZ48yMzO1Z88extNHixYt0vvv\n",
              "v6/U1FTNmjVLd9xxh6KjoxnPS1RSUqK+fftq3rx5io+Pv+C4+XM8Q365MKuoX7++1y0pwsLCZLPZ\n",
              "FBsbK4fD4Vl+6tQpnTx5UvXq1QtFmVXOnDlzPLM66dLvlIH/OXz4sLZt26a8vDxJUuPGjdWjRw+t\n",
              "Xr36vL9PxvPS3HLLLVq9erUkyRij1q1b6/bbb9fGjRsZz19x4sQJ9e7dWxMnTlRaWpokef4Ob731\n",
              "Vklnx61ly5Yyxvjt887Mzk/S09M1d+5cSdLx48f19ttvq0ePHurYsaMKCws9/8Gys7PVrVs3Va9e\n",
              "PZTlVgk7d+7UoUOH1LVrV88y7pRx+WrXrq3w8HB9/PHHks7+Y7NhwwY1a9ZMvXv31vvvv6/jx4/L\n",
              "GKMFCxYwnpegpKTE8zgzM1Nt27ZVgwYNGM9fUVZWpvT0dA0dOlT9+/f3LE9PT1d2draks4GWl5en\n",
              "tLQ0v37emdn5yYQJE/TII48oKSlJkjRixAjdeeedkqTFixdr6NChkqSYmBi99dZbIaqyann++ec1\n",
              "adIkr2XcKePy2Ww25eTkaMqUKTLGqKysTH369FHfvn0lSaNGjdIdd9whm82mzp0767HHHgtxxVe/\n",
              "+fPna8mSJTLGKCUlxfM/uu3atWM8L2LBggXKz89XWVmZ59/BVq1aafbs2Ro2bJhSUlIknQ21n2dw\n",
              "/vq8cyFoAIDlcRgTAGB5hB0AwPIIOwCA5RF2AADLI+wAAJZH2AEALI+wAwBYHmEHALA8wg4AYHmE\n",
              "HQDA8gg7AIDlEXYAAMv7f2khTEvLk34+AAAAAElFTkSuQmCC\n",
              "\">\n",
              "      </div>\n",
              "      <script type=\"text/javascript\">\n",
              "        (() => {\n",
              "          const chartElement = document.getElementById(\"chart-5365d75e-586d-4b38-b3fd-93244ba2d974\");\n",
              "          async function getCodeForChartHandler(event) {\n",
              "            const chartCodeResponse =  await google.colab.kernel.invokeFunction(\n",
              "                'getCodeForChart', [\"chart-5365d75e-586d-4b38-b3fd-93244ba2d974\"], {});\n",
              "            const responseJson = chartCodeResponse.data['application/json'];\n",
              "            await google.colab.notebook.addCell(responseJson.code, 'code');\n",
              "          }\n",
              "          chartElement.onclick = getCodeForChartHandler;\n",
              "        })();\n",
              "      </script>\n",
              "      <style>\n",
              "        .colab-quickchart-chart-with-code  {\n",
              "            display: block;\n",
              "            float: left;\n",
              "            border: 1px solid transparent;\n",
              "        }\n",
              "\n",
              "        .colab-quickchart-chart-with-code:hover {\n",
              "            cursor: pointer;\n",
              "            border: 1px solid #aaa;\n",
              "        }\n",
              "      </style>"
            ]
          },
          "metadata": {}
        },
        {
          "output_type": "display_data",
          "data": {
            "text/plain": [
              "from matplotlib import pyplot as plt\n",
              "df['daughter'].plot(kind='hist', bins=20, title='daughter')\n",
              "plt.gca().spines[['top', 'right',]].set_visible(False)"
            ],
            "text/html": [
              "      <div class=\"colab-quickchart-chart-with-code\" id=\"chart-f2bb8a8b-0a29-4ffc-8276-edf200b1e5ea\">\n",
              "        <img style=\"width: 180px;\" src=\"data:image/png;base64,iVBORw0KGgoAAAANSUhEUgAAAbwAAAEjCAYAAABJgLRJAAAAOXRFWHRTb2Z0d2FyZQBNYXRwbG90\n",
              "bGliIHZlcnNpb24zLjcuMSwgaHR0cHM6Ly9tYXRwbG90bGliLm9yZy/bCgiHAAAACXBIWXMAAA9h\n",
              "AAAPYQGoP6dpAAAfnUlEQVR4nO3deXAUZeLG8WfIJIPhiIQrRjABVI4AIYQjBHUpi+XOukBxroKs\n",
              "QKDkUEQw6E9BkIA3paIiyrGeC0tEobQQje6CQhaQK4i6hqBEEBBICITJMe/vD4qRgXANcyT091PV\n",
              "VZme7p6HNvD49vRhM8YYAQBwjasS7AAAAAQChQcAsAQKDwBgCRQeAMASKDwAgCVQeAAAS6DwAACW\n",
              "QOEBACyBwgMAWAKFB/jZ+++/r9jYWL9+xpdffqmqVate8P1jx45p+vTpKiws9GsOoCKj8AALOHbs\n",
              "mGbMmEHhwdIoPACAJVB4gI998803at26tSIjI5WYmKjt27dLklwul5588km1bt1aN9xwgxo2bKgX\n",
              "X3xRUvmHJL/88kuPQ6FLly5Vs2bNVKdOHd1xxx2aMmWKunTp4rFORkaGmjVrpnr16iklJUVHjx7V\n",
              "u+++q/bt20uSWrdurQYNGkiSysrK9Oyzz6px48aKjo5WXFycFi9eLEnKzc2VzWbTM888o8aNG6tG\n",
              "jRq+31FAgNmDHQC4lhw4cEBdu3bVwoULNXjwYP3444/q1auXpNMFc+jQIa1evVoNGzbUzp07FR8f\n",
              "rwEDBlxyu+vXr9fYsWP12WefKTk5WV9//bX+8pe/qGXLlu5lSkpK9Prrr+vf//63IiMj1bt3b734\n",
              "4ouaMWOGkpOT1ahRI23fvl1RUVGSpFmzZqmwsFA7d+5UeHi4cnJy1LlzZzVv3lz169eXJK1du1bb\n",
              "tm1TaGioH/YWEFiM8AAf+sc//qGEhAQNGTJENptNt956qx588EFJUmhoqF566SUVFhbqX//6lz79\n",
              "9FOFhoYqJyfnsrY7YMAAJScnS5KSk5M1fvx4j2VcLpdeeeUV1atXT3a7XXfddZe+/fbbcrdXXFys\n",
              "p59+WkuWLFHjxo0VFRWl5ORknTx5Ups3b3YvN2vWLNWoUeOiJ8QAlQUjPMCH9uzZo5tvvtljXu3a\n",
              "td3v/fWvf9VNN92k2267TdHR0YqIiFBZWVm52zr7UZU///yzOnbs6PF+TEyMx+uwsDA1adLE/To8\n",
              "PFwFBQXlbvvw4cM6efKktm7dqltuueW893NzcyVJDRs2vMCfFKh8KDzAh2rVqnXeiO3XX3+VJE2f\n",
              "Pl3t2rXTm2++Ken0Ic77779fklSjRg0VFxerpKTEffjwhx9+cG+jdu3aysvLK3e7Z9hstsvOGRkZ\n",
              "qbCwMG3evLncwgOuRRzSBHyob9++Wrt2rT755BNJUnZ2tvvElFOnTunYsWMqLS3VyZMndf/997sv\n",
              "E2jatKlq1qyp999/X5K0c+dOzZ07173dQYMG6b333tPGjRslSbt27dJrr7122bnCw8MlSQcPHtSR\n",
              "I0dUVFSk8ePHa9q0adq2bZsk6fjx43r55Zf1+++/X91OACooCg/woXbt2mnx4sUaO3as6tatqxEj\n",
              "Ruiuu+6SJM2YMUN5eXmqV6+eWrdurfbt26tu3bqSpOrVq+vtt9/WzJkzVbduXY0bN04PPPCAe7t9\n",
              "+vTRnDlzdPfdd6tu3boaOXKkhg4detmjunr16umee+5Rp06dFBcXp19++UWzZ8/Wvffeq/79+6tu\n",
              "3bpq2bKltm3bpmrVqvl8vwAVgc2c/UUBgErjueee8xhNArg4RnhAJbV9+/bzTpABcGEUHlAJHD58\n",
              "WB988IGKi4vlcrm0evVqLVu2TEOGDAl2NKDS4CxNoBKoUqWK3nrrLY0fP17FxcVq0KCBFi5c6L4u\n",
              "D8Cl8R0eAMASOKQJALAECg8AYAkUHgDAEipt4c2bNy/YEQAAlUilLby9e/cGOwIAoBKptIUHAMCV\n",
              "oPAAAJZA4QEALIHCAwBYAoUHALAECg8AYAkUHgDAEig8AIAlUHgAAEvgeXjAFYp9ZPVVbyN3Tm8f\n",
              "JAFwJRjhAQAsgcIDAFgChQcAsISAFJ7L5VJaWppatWql9u3ba9KkSSorK9P999+vFi1aqHnz5nrz\n",
              "zTcDEQUAYFEBOWllypQpiouL044dOyRJx44d04IFC7R3715lZ2fr6NGjSkhIUHJyspo3bx6ISAAA\n",
              "i/H7CO/333/XDz/8oM2bN6t9+/YaMGCACgsLlZGRodGjR8tmsykyMlL9+vXTypUry92G0+lUQUGB\n",
              "x1RWVubv6ACAa4jfR3hbtmzRf/7zH61evVovv/yyXnvtNQ0ePFiHDh1SbGyse7mYmBjt3r273G2k\n",
              "p6drxowZHvOSkpL8GRuwFC61gBX4fYR3+PBh3XHHHUpOTpYkjR49Wlu3blVxcbFCQkLcy9ntdrlc\n",
              "rnK3kZaWpvz8fI+pQ4cO/o4OALiG+H2EV69ePdWsWdNjXpUqVVSnTh3l5eUpLi5OkpSXl6fo6Ohy\n",
              "t+FwOORwODzmnV2WAABcit9HeJ07d9b69euVm5srSVqyZInatm2rQYMGadGiRZKkgoICLVu2TCkp\n",
              "Kf6OAwCwKL+P8KpWraqlS5fqrrvuUkhIiOrUqaMlS5YoKipKY8aMUdu2bSWdPmyZmJjo7zgAAIsK\n",
              "yGUJt912m7Zt23be/DMjPAAA/I07rQAALIHCAwBYAoUHALAECg8AYAkUHgDAEnjiOYAKhducwV8Y\n",
              "4QEALIHCAwBYAoUHALAECg8AYAkUHgDAEig8AIAlUHgAAEug8AAAlkDhAQAsgcIDAFgChQcAsAQK\n",
              "DwBgCRQeAMASKDwAgCVQeAAAS6DwAACWQOEBACyBwgMAWAKFBwCwBAoPAGAJ9kB8SGxsrKKiotyv\n",
              "e/Toof/7v//ThAkTlJmZKWOMJk+erPvuuy8QcQD4Qewjq4MdAbiogBSeJG3YsMHj9auvvqq9e/cq\n",
              "OztbR48eVUJCgpKTk9W8efNARQIAWEhADmlWqVJFnTp1Unx8vEaNGqUDBw4oIyNDo0ePls1mU2Rk\n",
              "pPr166eVK1cGIg4AwIICMsLbuXOnwsPD5XQ6NX36dA0cOFC//fabYmNj3cvExMRo9+7d5a7vdDrl\n",
              "dDo95pWVlfkzMgDgGhOQEV54eLgkyeFwaObMmdq0aZOKi4sVEhLiXsZut8vlcpW7fnp6uiIiIjym\n",
              "rKysQEQHAFwjgnKWpt1uV3R0tPLy8tzz8vLyFB0dXe7yaWlpys/P95g6dOgQqLgAgGuA3wtvx44d\n",
              "2rRpk/v1nDlzlJKSor59+2rRokWSpIKCAi1btkwpKSnlbsPhcKhmzZoe09mjQwAALsXv3+FVr15d\n",
              "U6ZM0YEDB1RaWqrExETNnz9fVatW1ZgxY9S2bVtJp0dxiYmJ/o4DALAovxdeo0aN9Mknn5T73pkR\n",
              "HgAA/sadVgAAlkDhAQAsIWB3WgHwB1/dhit3Tm+fbAewAkZ4AABLoPAAAJZA4QEALIHCAwBYAoUH\n",
              "ALAECg8AYAkUHgDAEig8AIAlUHgAAEug8AAAlkDhAQAsgcIDAFgChQcAsAQKDwBgCRQeAMASKDwA\n",
              "gCVQeAAAS6DwAACWQOEBACyBwgMAWAKFBwCwBAoPAGAJFB4AwBIoPACAJQS08J5//nmFhoZKkn77\n",
              "7Td1795drVq1UkJCgjZu3BjIKAAAiwlY4WVlZWn79u268cYbJUkTJkxQ165dtWPHDr322msaOHCg\n",
              "SktLAxUHAGAxASm8/Px8PfLII5o3b54kqaysTKtWrdKoUaMkSR07dlRkZKQ2bdpU7vpOp1MFBQUe\n",
              "U1lZWSCiAwCuEQEpvNTUVD311FOKiIiQJB08eFAOh0PXX3+9e5mYmBjl5uaWu356eroiIiI8pqys\n",
              "rAAkBwBcK/xeePPnz1fLli3VqVMn9zyXy6WQkBCP5ex2u1wuV7nbSEtLU35+vsfUoUMHv+YGAFxb\n",
              "7N6s1K9fPw0fPly9e/eW3X7xTWRmZmrv3r1atWqVJGn//v1KSUnRkSNHVFRUpOuuu06SlJeXp+jo\n",
              "6HK34XA45HA4POadW5gAAFyMVyO8kSNHKiMjQy1atNDEiRO1ZcuWCy67bNkyZWVlacOGDdqwYYNu\n",
              "uOEGbdmyRT179tTSpUslSdu3b9eePXuUlJTk3Z8CAIBL8GqE16tXL/Xq1UslJSVas2aNXnjhBe3Y\n",
              "sUN33323RowYodq1a19yG6+88or+/ve/a+HChbLb7Vq5cqWqVq3qTRwAAC7Jq8I747vvvtPnn3+u\n",
              "jRs3qlu3bgoNDVX37t310EMPaciQIeWuc+bElJiYGH3++edX8/EAAFw2rwrv+eef19KlS1W1alWl\n",
              "pqZq1qxZCg8PlySNGTNG7dq1u2DhAQAQDF4V3o8//qjFixerTZs2573ncDg0fvz4q80FAIBPeXXS\n",
              "ysmTJ1WtWjX3623btulvf/ub+/Xo0aOvPhkAAD7kVeH9+OOPuuWWW9yv4+PjlZOT47NQAAD4mleF\n",
              "V1JS4nGReGlpqU6dOuWzUAAA+JpXhdetWzcNHjxYWVlZ2rx5s4YPH66uXbv6OhsAAD7jVeHNmDFD\n",
              "8fHxGj9+vMaMGaMmTZpo9uzZvs4GAIDPeHWWpt1u16OPPqpHH33U13kAAPALr0Z4K1euVNOmTRUW\n",
              "FqaQkBBVqVKFe1sCACo0rwpv2rRpev/991VYWKji4mKVlJSouLjY19kAAPAZrw5pXn/99UpISPB1\n",
              "FgAA/MarEV7//v31xBNPKD8/Xy6Xyz0BAFBReTXCmzx5siRp5syZstlsMsbIZrOprKzMp+EAAPAV\n",
              "rwqP0RwAoLLx6pBmQUGBpk6dqmHDhkmSdu3apQ0bNvg0GAAAvuRV4d13332qXbu2srOzJUlRUVF6\n",
              "+OGHfRoMAABf8qrw8vLyNGXKFIWFhUmSIiMjVVpa6tNgAAD4kleFV6WK52pFRUVyOp0+CQQAgD94\n",
              "VXgpKSkaNWqUCgoKtHz5cvXp00cDBw70dTYAAHzGq7M0p06dqnfeeUcFBQVatmyZhg0bpuHDh/s6\n",
              "GwAAPuP1ZQlDhgzRkCFDPOade6gTAICKwuunJdhstvPmc+E5AKCiuuoLz48fP66XXnpJoaGhPgsF\n",
              "AICvXfUxyBo1amjatGlasWKFL/IAAOAXPvnS7ddff1VBQYEvNgUAgF94dUizYcOG7u/wSktL5XQ6\n",
              "9cILL/g0GAAAvuRV4a1bt+6PDdjtioqKuuATz0tLS/XQQw/piy++ULVq1VStWjW98soruuWWWzRh\n",
              "wgRlZmbKGKPJkyfrvvvu8+5PAQDAJXhVeD/99JPH6++///68Ze68805JUnFxsdq0aaN58+ZJkt54\n",
              "4w1NmzZNf/7zn7V3715lZ2fr6NGjSkhIUHJyspo3b+5NJAAALsqrwps4caJycnKUkJCgsrIyffvt\n",
              "t4qPj1d4eLgkyWazuQsvPDxcI0aMkHT6soX//e9/aty4sTIyMjRu3DjZbDZFRkaqX79+WrlyJYUH\n",
              "APALrwovPj5e7733nlq2bClJ2rp1q2bPnq1//vOfF1wnIyNDqampuvXWW/Xpp58qMTFRsbGx7vdj\n",
              "YmK0e/fuctd1Op3n3auTa/4AAFfCq7M0f/rpJ3fZSVKbNm2Ul5d30XX69u2rAwcOqE+fPhoyZIhc\n",
              "LpfH9352u/2CD5ZNT09XRESEx5SVleVNdACARXlVeGVlZfr666/dr3fs2KFTp05d+sOqVNGYMWP0\n",
              "xRdfKDo62qMk8/LyFB0dXe56aWlpys/P95g6dOjgTXQAgEV5dUhzwYIFGjhwoMLCwhQWFqb9+/fr\n",
              "7bffLnfZjRs36vjx4+ratask6eOPP1ZCQoJSUlK0aNEidevWzX0T6g8++KDcbTgcDjkcDo95Fzor\n",
              "FACA8nhVeG3atNHu3bu1bt06Va9eXc2aNXOfsHKuJk2a6IEHHtDUqVMVGhqqiIgILVmyRA0aNNCY\n",
              "MWPUtm1bSadHcYmJid7/SQAAuAivCu/LL7/UsGHDZLfblZOTo3Xr1umrr77So48+et6yderUueDo\n",
              "b9GiRd58PAAAV8yr7/CmTZumr7/+WvXr15ck3XbbbcrIyPBpMAAAfMmrwgsJCVGDBg085tntXg0W\n",
              "AQAICK8KLywsTAcOHHDfT3Pr1q0KCwvzaTAAAHzJq2FZenq6evbsqX379qlPnz7atm2bli1b5uts\n",
              "AAD4jFeFt2bNGn311Vdav369JCkpKUm1atXyaTAAAHzJq8L76KOP9Nhjj6lnz56+zgMAFUbsI6t9\n",
              "sp3cOb19sh1cHa8K7/bbb9fUqVM1bNgwXXfdde75jRs39lkwAAB8yavCW7FihSR53CzaZrMpJyfH\n",
              "N6kAAPAxrwpvz549vs4BAIBfXdFlCcnJye6fhw4d6vMwAAD4yxUVnjHG/TOjPABAZeLVhecAAFQ2\n",
              "V/Qdns1mkzFGxhiPn8+oUoX+BABUTFdUeBs2bHDfM9MY4/GzzWZTWVmZ7xMCuCBfXScGWMEVFZ7L\n",
              "5fJXDgAA/IpjkAAAS6DwAACWQOEBACyBwgMAWAKFBwCwBK/upQkEmi9Ov+cRLYC1McIDAFgChQcA\n",
              "sAQKDwBgCRQeAMASKDwAgCVQeAAAS/B74RUXF+uxxx5TmzZt1KFDB3Xv3l0HDx7UiRMnNGjQIMXF\n",
              "xSkuLk6rVq3ydxQAgIX5/Tq8/fv3q379+tqyZYuqVKmihx9+WC+88IJcLpfq1Kmj7Oxs5eTkKDk5\n",
              "Wbt27VJkZKS/IwEALMjvI7yYmBiNHz/e/XDY2rVrq6SkRBkZGUpNTZUkNW7cWJ06ddKaNWvK3YbT\n",
              "6VRBQYHHxLP3AABXIqDf4f38889auHChxo0bp7179yo2Ntb9XkxMjHJzc8tdLz09XRERER5TVlZW\n",
              "YEIDAK4JASu8/Px89e/fX/Pnz1dsbKxcLpdCQkLc79vt9gs+YDYtLU35+fkeU4cOHQIVHQBwDQhI\n",
              "4RUWFqpPnz6aPHmyunXrJkmKjo5WXl6ee5m8vDxFR0eXu77D4VDNmjU9prPLEgCAS/F74RUVFSkl\n",
              "JUX33nuvBg0a5J6fkpKiRYsWSTpddpmZme4yBADA1/x+luabb76prKwsFRUV6Y033pAkxcfHa86c\n",
              "ORoxYoTatWsnSVq4cOEFR3iovHzxlAMA8AW/F964ceM0bty4ct/78MMP/f3xAABI4k4rAACLoPAA\n",
              "AJZA4QEALIHCAwBYAoUHALAECg8AYAkUHgDAEig8AIAlUHgAAEug8AAAlkDhAQAsgcIDAFiC328e\n",
              "DQCBxlM6UB5GeAAAS6DwAACWQOEBACyBwgMAWAKFBwCwBAoPAGAJFB4AwBIoPACAJVB4AABLoPAA\n",
              "AJbArcUAwM98cauz3Dm9fZDE2hjhAQAsgcIDAFhCQAqvsLBQo0aNks1mU2lpqSTpxIkTGjRokOLi\n",
              "4hQXF6dVq1YFIgoAwKICUnjPPPOMevTo4THvySefVJ06dZSdna2PP/5YI0eO1JEjRwIRBwBgQQE5\n",
              "aWXGjBnnzcvIyNDy5cslSY0bN1anTp20Zs0aDR48OBCRAAAWE7SzNPfu3avY2Fj365iYGOXm5pa7\n",
              "rNPplNPp9JhXVlbmx3QAgGtN0ArP5XIpJCTkjyB2u1wuV7nLpqennzdKTEpK8ms+XHt4CjYqM1/9\n",
              "/lr58oagnaUZHR2tvLw89+u8vDxFR0eXu2xaWpry8/M9pg4dOgQqKgDgGhC0wktJSdGiRYsknS67\n",
              "zMxMdevWrdxlHQ6Hatas6TGdPToEAOBSgnZIc+bMmRoxYoTatWsnSVq4cOEFR3gAAFytgBaeMcb9\n",
              "c61atfThhx8G8uMBABbGnVYAAJZA4QEALIHCAwBYAoUHALAECg8AYAkUHgDAEig8AIAlUHgAAEug\n",
              "8AAAlkDhAQAsgcIDAFgChQcAsAQKDwBgCUF7PBAAoPLyxRPYA/30dUZ4AABLoPAAAJZA4QEALIHC\n",
              "AwBYAoUHALAECg8AYAlclgAAFuKLywkqK0Z4AABLoPAAAJbAIU0fqGiHCAJ99wIAqAwY4QEALIHC\n",
              "AwBYAoUHALCEoH+H99FHHyktLU2S1KpVK7311lsKDw8P2OdXtO/fKgr2C4BrTVBHeIcPH9aoUaO0\n",
              "atUqZWdnKzIyUrNmzQpmJADANSqohbdmzRp17txZjRo1kiSlpqZqxYoV5y3ndDpVUFDgMZWVlQU6\n",
              "LgCgErMZY0ywPjw9PV2HDh3S888/L0k6duyYoqKidOrUKY/lpk+frhkzZnjMa9asmXr27BmwrFej\n",
              "rKxMWVlZ6tChg0JCQoId54qRP7jIHzyVObtknfwxMTGaOHHiJbcX1MJ76qmndOzYMT3zzDOSpMLC\n",
              "QkVGRqq4uNhjOafTKafT6THP4XDI4XAELOvVKCgoUEREhPLz81WzZs1gx7li5A8u8gdPZc4ukf9c\n",
              "QT1pJTo6WtnZ2e7XeXl5io6OPm+5ylRuAICKKajf4XXr1k2ZmZnav3+/JGnhwoVKSUkJZiQAwDUq\n",
              "qCO8G2+8Uc8995x69eolu92upk2b6tVXXw1mJADANSro1+ENHTpUQ4cODXYMv3I4HHriiScq7WFZ\n",
              "8gcX+YOnMmeXyH+uoJ60AgBAoHBrMQCAJVB4AABLoPAAAJZA4QEALIHC85HCwkKNGjVKNptNpaWl\n",
              "Hu8dPXpUN998s6ZPn+6e53A4lJSU5J5ef/31ACf2VF7+xYsXq0GDBh459+3bJ0n65ptvlJCQoFat\n",
              "WqlHjx46ePBgpcnepUsXJSQkuOenpqYGLbt04d+drVu3qnPnzmrXrp0SExP1/fffS6pY+1668vyV\n",
              "Yf+f/XuTlJSkG264QUuWLJF0+gkvcXFxiouL0+DBg3Xy5Mlgxr/i/LGxsR7vnf3vUjCUl3/t2rXq\n",
              "2LGjOnXqpDZt2nhkXLBggZo3b64WLVpo3Lhxcrlcl/9hBj7x+OOPm+XLlxtJpqSkxOO9QYMGmUmT\n",
              "JpknnnjCPS8mJiawAS+hvPyLFi3yyHxGSUmJadCggdm4caMxxpi5c+eaIUOGBDKuhyvJbowxf/rT\n",
              "n8yePXsCF/ASysu/d+9e06NHD7N//35jjDFOp9OcPHmywu17Y64svzGVY/+frayszMTFxZnc3Fxz\n",
              "6NAhU69ePZOTk2OMMWbs2LEmLS0t0JE9XEl+YyrHvz1169Z1/46fPHnStGrVynz22Wdm586d5qab\n",
              "bjK///67cblcpnfv3ub111+/7M+i8Hzs3F+6F1980cybN++8f4CrVq1qOnbsaNq0aWMmTZpk8vPz\n",
              "g5D2fOeWRsOGDU1CQoK5/fbbzXvvvWeMMWb9+vUmISHBvc7Ro0dNeHi4KSsrC0rmMy4nuzHGdOnS\n",
              "xSQmJprWrVubwYMHmx9++CFYkT2cnX/y5Mnm2WefNXfeeafp2LGjefXVV40xFXffG3N5+Y2pHPv/\n",
              "bCtWrDBDhw41xhjzzjvvmL59+7rf27p1q2natGnAMl7M5eQ3xphGjRqZpKQk07p1azNy5Ej3/5QE\n",
              "29n5W7VqZT7++GNjjDEHDx40zZs3N1u2bDFPPfWUefDBB93rfPjhh6Z79+6X/xm+jYyz/6Nt2rTJ\n",
              "/Zfj3MI7ceKEMcaYgoICM2zYMHPPPfcEPGt5zs5fVFRkXC6XMcaYHTt2mIYNG5q1a9ead9991+Mv\n",
              "vTHGREREBP0vzuVkN+aPfV9aWmpeeukl06RJE1NcXByc0Gc5O39ycrK5++67jdPpNIcPHzYtWrQw\n",
              "n332WYXd98ZcXn5jKsf+P1tSUpLZunWrMcaY2bNne/yDe/ToUeNwOAKW8WIuJ78xf+z/U6dOmUce\n",
              "ecTcfvvtAct4MeceIbj55ptNo0aNTLVq1czSpUuNMcaMHj3azJs3z73Ot99+e0X/w8F3eH5y/Phx\n",
              "PfDAAxf8bu7MU91r1Kih2bNna9WqVYGMd1mqVq0qm80mSWrZsqVSU1O1evVquVyu8x7VYbfbr+xY\n",
              "up9dKLv0x74PCQnRuHHjZLPZ9N133wUta3kOHz6sSZMmKSwsTLVr19awYcP0ySefVIp9L104v1Q5\n",
              "9v8ZX331lWrWrKn4+HhJOm//V8R9f7Zz80t/7H+Hw6GZM2dq06ZNys/PD1bEcg0fPlxpaWnKycnR\n",
              "rl27lJ6erl27dl31/g/6rcWuVTt37tShQ4fcN8M+dOiQnE6n9u/ff14JulyuSvHojjM5o6OjlZeX\n",
              "555/8uRJnThxQnXr1g1iuou72D6uiPu/Xr16HplsNpvsdnul2fcXyl+eirj/z5g7d66mTJnifn25\n",
              "T3ipKM7NXx673e4uwYrg8OHD2rJlizIzMyVJN910k3r27KmPPvrovN//K97/vh2UQhc4rHD2Ic11\n",
              "69aZ77//3hhz+gvlUaNGmWnTpgUy5gWdnf/dd981RUVFxhhj9u3bZxo3bmyys7NNUVGRqV+/vtm5\n",
              "c6cxxpiXX37Z9OnTJ2iZz7ic7L/88otZs2aNe52lS5ea5OTkoOQ919n5586dayZOnGiMOX3Yu2XL\n",
              "liYzM7PC7ntjLi9/Zdn/xhizbds2k5iY6LHMvn37TFRUlPn111+NMae/qxw3blxAc17I5eTfvn27\n",
              "+e9//+t+PXPmTI/v94LpTP6SkhJTq1Ytk5mZaYwx5vjx46ZNmzZm+fLlJisry9x6662moKDAuFwu\n",
              "M2DAAPPss89e9mcwwguC6667TqNHj9bx48fldDrVvXt3Pf7448GOdZ7ffvtNHTt2VGhoqEpLSzVv\n",
              "3jy1aNFCkvT222/r3nvvlSRFRUXpjTfeCGLS810o+5EjR7RgwQI9/PDDkk6for1s2bIgpz3fpEmT\n",
              "NHbsWLVq1UqSNGrUKHXp0kVSxd/30oXzV5b9L0lPP/20O+cZlekJL+Xlr169uqZMmaIDBw6otLRU\n",
              "iYmJmj9/fpASls9utysjI0NTp06VMUZFRUXq16+f+vfvL0lKTU3V7bffLrvdrs6dO2vChAmXvW1u\n",
              "Hg0AsAROWgEAWAKFBwCwBAoPAGAJFB4AwBIoPACAJVB4AABLoPAAAJZA4QEALIHCAwBYAoUHALAE\n",
              "Cg8AYAkUHgDAEv4fTy+vWOi/C10AAAAASUVORK5CYII=\n",
              "\">\n",
              "      </div>\n",
              "      <script type=\"text/javascript\">\n",
              "        (() => {\n",
              "          const chartElement = document.getElementById(\"chart-f2bb8a8b-0a29-4ffc-8276-edf200b1e5ea\");\n",
              "          async function getCodeForChartHandler(event) {\n",
              "            const chartCodeResponse =  await google.colab.kernel.invokeFunction(\n",
              "                'getCodeForChart', [\"chart-f2bb8a8b-0a29-4ffc-8276-edf200b1e5ea\"], {});\n",
              "            const responseJson = chartCodeResponse.data['application/json'];\n",
              "            await google.colab.notebook.addCell(responseJson.code, 'code');\n",
              "          }\n",
              "          chartElement.onclick = getCodeForChartHandler;\n",
              "        })();\n",
              "      </script>\n",
              "      <style>\n",
              "        .colab-quickchart-chart-with-code  {\n",
              "            display: block;\n",
              "            float: left;\n",
              "            border: 1px solid transparent;\n",
              "        }\n",
              "\n",
              "        .colab-quickchart-chart-with-code:hover {\n",
              "            cursor: pointer;\n",
              "            border: 1px solid #aaa;\n",
              "        }\n",
              "      </style>"
            ]
          },
          "metadata": {}
        },
        {
          "output_type": "display_data",
          "data": {
            "text/plain": [
              "<google.colab._quickchart_helpers.SectionTitle at 0x783523fd30a0>"
            ],
            "text/html": [
              "<h4 class=\"colab-quickchart-section-title\">2-d distributions</h4>\n",
              "<style>\n",
              "  .colab-quickchart-section-title {\n",
              "      clear: both;\n",
              "  }\n",
              "</style>"
            ]
          },
          "metadata": {}
        },
        {
          "output_type": "display_data",
          "data": {
            "text/plain": [
              "from matplotlib import pyplot as plt\n",
              "df.plot(kind='scatter', x='father', y='daughter', s=32, alpha=.8)\n",
              "plt.gca().spines[['top', 'right',]].set_visible(False)"
            ],
            "text/html": [
              "      <div class=\"colab-quickchart-chart-with-code\" id=\"chart-bcf8dc4c-9c54-41a0-8a42-669f8161681d\">\n",
              "        <img style=\"width: 180px;\" src=\"data:image/png;base64,iVBORw0KGgoAAAANSUhEUgAAAcIAAAEeCAYAAAAZ5BURAAAAOXRFWHRTb2Z0d2FyZQBNYXRwbG90\n",
              "bGliIHZlcnNpb24zLjcuMSwgaHR0cHM6Ly9tYXRwbG90bGliLm9yZy/bCgiHAAAACXBIWXMAAA9h\n",
              "AAAPYQGoP6dpAABjE0lEQVR4nO2deXxU5fX/P3eZLZlJQkIWA0gCiAoEiCAQcKGuoNJWQMUFpd9v\n",
              "EbW01bhU+lMqX1Cstvr1ixUXqlZRa1UUq2KLaytbtIjKLkLYIRskM5PMnbnL74+bmcyeeydzZzLJ\n",
              "efc1xczcOfd5nntnzjzPc875MIqiKCAIgiCIXgqb7gYQBEEQRDohR0gQBEH0asgREgRBEL0acoQE\n",
              "QRBEr4YcIUEQBNGrIUdIEARB9GrIERIEQRC9GnKEBEEQRK+GHCFBEATRq+mRjvCJJ55IdxMIgiCI\n",
              "DKFHOsL9+/enuwkEQRBEhpASR+hyuTB37lwwDANRFAEAH330EcaPH4+qqiqMHj0aDzzwQOD4Z599\n",
              "FmeeeSaGDRuG+fPnQ5blVDSTIAiC6IWkxBE++uijmDJlSshz1113HZYtW4YNGzZgw4YNWLVqFT76\n",
              "6CNs27YNDz74INatW4dt27ahtrYWK1asSEUzCYIgiF4In4qTLFq0KOK5kpIS1NXVAVBnjKIooqCg\n",
              "AKtXr8aMGTOQn58PAJg7dy6WL1+Om2++OaptQRAgCELIc5IkJbkHBEEQRE8lbXuE7733Hu644w4M\n",
              "GjQI5eXlWLBgASorK7F//36UlZUFjhs4cCBqa2tj2lm6dClyc3NDHjU1NcZ3gCAIXXh8EhpcAjy+\n",
              "7v9DtbnVi93HnWhu9aa7KUQKSMmMMBo33XQTFixYgP/6r//CgQMHMGXKFIwZMwayLIPjuI4G8nzc\n",
              "PcIFCxaguro65Ln777/fsHYTBKGPeqeAlRtr8eHW42jzSbCZOEwdUYIbqgair92S7uaFsPNoCxau\n",
              "3ooth5ohywpYlkHlgDws/ukIDC12pLt5hEGkxRE2NDRg8+bN+PTTTwEAp556KqZOnYp3330XpaWl\n",
              "OHz4cODYw4cPo7S0NKYti8UCiyX0wxTsSAmCSB/1TgG/fO1r7KlzwspzMPMs3IKIlZv2Y+O+Jjx5\n",
              "XWW3cYY7j7bg6mc2wOkRwTIAwzKQJBk1+5owc/l6vHnrRHKGPZS0LI3m5eWB4zh89tlnANQ9wk8+\n",
              "+QSnnXYarrjiCrz11ltwOp1QFAV//vOfMW3atHQ0kyCILrJyYy321DlRaLegT7YZ2RYefbLNKLRb\n",
              "sKfOiZUbuk+q08LVW+H0iDBzDMw8BxPLwsxzMHMMnB4R97+zNd1NJAwiLTNCnufx9ttv4ze/+Q0U\n",
              "RUFbWxumT5+OGTNmAADmzZuHc889FzzPY9KkSfjVr36VjmYSBNEFPD4JH249DivPgedCf3PzHAsL\n",
              "z2HNtmO4ZfJgWE3pXcVpbvViy6FmsAzAsqFtZVkWrCzh64Mn0dzqRW6WOU2tJIwipY5QUZTAf59/\n",
              "/vnYuHFj1OOqq6sj9v0IgsgsXIKINp8EMx994cnCs2jzSnAJYtod4XGnAFlWwLBM1NcZloEsKzju\n",
              "FMgR9kB6ZGUZgiDSj93Cw2bi4BWjB7sJogybmYPdkraYvQDFDgtYloEiK1FfV9oDZ4od3WM/k0gu\n",
              "5AgJgjAEq4nDlBHF8IgSRCnUGYqSDEGUMHV4SdpngwCQm2XG6P65kBVERKnLsgxZASoH5NFssIdC\n",
              "jpAgCMOYXVWGIUUO1LsENLoEtLT50OgSUO8ScFqRAzdUDdRkJxU5iEuurIDDysMrKfCKEnyyDK8o\n",
              "wSspcFh5LP7pCMPOTaSX9K9JEATRY+lrt2DRj4dh4Ttb8XVYbt6inwzvNHUilTmIQ4sdePPWibj/\n",
              "na34+uBJyLICjmMxlvIIezyMEhzB0kOorq7GY489lu5mEESvJziP0MyzMHEsfJIMryhjSJEjbh5h\n",
              "tBxEryjDI0qdvrerNLd6cdwpoNhhoeXQXgAtjRIEYRjBeYQF2RbkWE0oyLZoyiNMZw5ibpYZQ4sd\n",
              "5AR7CeQICYIwBK15hNH2/bryXoLQCzlCgiAMQU8eYTLfSxB6IUdIEIQhdCWPMJNyEInMhxwhQRCG\n",
              "0JU8wnTnIGaSZBTRdejnFEEQhjG7qgyb9p3AnjonLDwHC89CEFVH1lkeYVfemyiZJBlFJA+aERIE\n",
              "YRh97RY8eV0lbhg/EHYrD1FWYLfyuGH8QCzrJP2hK+9NBH+6xiubDsAtiOBZJiAZNf/Vr9HgEpJ6\n",
              "PqL7QHmEBEGkBI9PDW6xW3jdS5pdea9WHl+7C69sOoBCuyUkUlWUZNS7BNwwfiBuv3ioIecm0gvN\n",
              "CAkig8mkvSyriUNfuyUhR9aV92qB0jW6F6m+r2mPkCAyENrLSi6ZJBnVk0nXfU0zQoLIMGgvK/lQ\n",
              "ukb6Sed9TY6QIDKM4NJj2VYOChRkW7mUlB5LF0YvlaU7XYMIva8dNh4cAzhsfErua/p5QxAZhH8v\n",
              "CzLw/XEnxKBQN55lkGczYc22Y7hl8uAe8aWdyqWydKRrECr++5oFg9pGNzw+GQoABoDNzCHbzBt6\n",
              "X5MjJIgMwiWIaHJ70dDqjXhNlBU0uL1gGKZH7GVFU5/wL5Vt3NeUdPUJf7rGyg37sWbbMbR5Jdit\n",
              "PK4a3p/2Xg3GJYhobvOhwSUgeD6uAGj1SvB4JXCscfd1Shyhy+XCHXfcgRUrVsDn84HneUyYMCHk\n",
              "mP379+Phhx/GTTfdhLKyMpSUlARemzJlCh544IFUNJUgujV2C48md/y9khOtQo/YywpeKvNHcmZb\n",
              "1KVK/1JZstMZ+totuP3iobhl8mDD0zWIDuwWHidbO5wgw3S8piiADKC5zWvYfZ2ST8ujjz6KKVOm\n",
              "YMWKFYHnNm7cGPhvWZYxcuRITJ48OerrBEGotLR5IXWS+SvK6nFWky01jTIArekMP5tUBp+sJN1h\n",
              "WU0cOcAUIvgk+NpvbCbsNQbqzNAryhB8UubOCBctWhT39dWrV2PUqFEYOFBdg2dZFlVVVWhtbcW4\n",
              "ceOwePHikBkiQfRW9jW2aj6uKCdzHWFn6Qw8Cxw92Ybpy9fDJymUPpLhHHcK6jRQUdS9waAfe4H/\n",
              "ZBgcdwqGaER2i6jRRx55BPfcc0/g761bt2LDhg2oqalB3759cfXVV8d8ryAIaGlpCXlIEiW9Ej2T\n",
              "8oKspB7XXYmXziBKMo42e+D2ivB4JUof6QEUOyzgWAYcowZ9BcO3P8+xDIodxvzISbsj/Pzzz5GT\n",
              "k4NRo0YFnsvKUj/EFosFixcvxldffYXm5uao71+6dClyc3NDHjU1NSlpO0HoIRkpAEU5NpTmdnwZ\n",
              "MIy6dBS8p9Ivz9otZ4N6+h+eziArSuDfeqcAn6Sgj82MfLslpcr1hDHkZpkxun8uZAXgGMBiYgMP\n",
              "jgFkBagckGfIbBBIca1RhmECwTJ+LrvsMtx555248MILo75HFEXk5+ejsbERJpMp4nVBECAIob8A\n",
              "77//fjzxxBPJbTxBJEiyUwA27WvEdc9thBQl95tjgVfnTsD48oIktDw5JNr/BpeAm1/6D3YcbQ7s\n",
              "HwGAJCvgOQZDCu0R+4dNbi/sVh6rfzGJ9vgyjN3HnZi5fD2cHhEsAzAsA0VWICuAw8rjzVsnYmix\n",
              "w5Bzp3VG+O2336Kuri7ECX733Xf46quvAn8//PDDmDZtWlQnCKizxpycnJAHx9EHgOgeGFEtY3x5\n",
              "AV6dOwH98qwhz/fLs3ZLJ5ho/xXFP+MND58AWCbyOYCU6zOZocUOvHnrRIwrzwfHsYACcByLceX5\n",
              "hjpBIM15hI888gjuvvvukOfsdjvuueceHDt2DKIoYsyYMXjqqafS1EKC6BpGpQCMLy/AunsvRF1L\n",
              "G/Y1tqK8IKtbLod2pf8rN9Zif6MbAwuywLIMZEUBA2BPnQs+SUaj24vinNAfA4Iow27le0T6SG9k\n",
              "aLEDr8+rQnOrF8edAoodFsOWQ4NJ6d0Svgq7cuXKiGPKy8uxZs2aVDWJIAxDawpAV6plFOXYuqUD\n",
              "BLrW/2jv9c8C87LMaHAJaG7zodBhCTzvL4V21fD+tCya4eRmmVPiAP3QzyaCMIjermjQlf7He2+B\n",
              "3YyWNh+8koxGlxdZZo5KoRFdghwhQRiEPwXALYjIjhIT0tOX8brS/3jv5VkWfbLN8IoyHDYegk+m\n",
              "UmhEl+iZn0CC6Ab4UwBe2XQAoiRHqJ739GW8rvS/s/f6JBmzJwykUmhEUiBHSBBR8PikpHzBBisa\n",
              "mDkWJo6FT5LhleSkLOPpaaeeY5MVrBDcfxPLgGNZSLIMn6x02n8tY2dUKTQjgjWSdU8RyYccIUEE\n",
              "keycv752Cxb9eBgWvrMVXx9qhiwrYFkGlQPysOgnwxNextPTTj3H7jzagoWrt2JLWFsX/3REQuHr\n",
              "fe0W3H7hEFT/bQuONHekSvTLs+L2i0+L23+jxi4eye4/kD7VdUI7KU2oTxXV1dV47LHH0t0MIsOI\n",
              "JvvjFWV4RAlDihwJyf4E2zTzQbMaUU6Kzc7aqefYnUdbcPUzG5Ka0Bxhk2GgKNpsGjF2utqahP4b\n",
              "cU8RySftJdYIorsQnPPWJ9uclNJdwTYLsi3IsZpQkG1Jms3O2qnn2IWrt8LpEWHmGJh5DiaWhZnn\n",
              "YOYYOD0i7n9nq+62RtjktNs0Yux0tTUJ/TfiniKSDzlCgoD2nDc9dULTbVPPsc2tXmw51AyWUdVf\n",
              "gmFZFiwDfH3wJJqjCALHois2jRg7o9oai1T3gUgccoQEAX05b5liU8+xx50CZFkBw0YvXcawDGRZ\n",
              "UeVyNNIVm0aMnVFtjUWq+0AkDjlCgkB82R9AzXmzmTldOX/ptqnn2GKHBWz7nlg0lPbAET0yOF2x\n",
              "acTYGdXWWKS6D0TikCMkCETK/gTjz3mbOrxEV9h7uE1JluHxSZBkOWk2RVmGxytCjGJTT5+CZXBk\n",
              "WYaiKIGHLMuQFGBEaQ4sOtoaYRPtNqHa7Exa57yhBWjziUm7HnraGoyWtkbDiHuKMAb6KUIQ7QTn\n",
              "rVl4Dhae7XLprtlVZfh0Zz22H22BGDTbMLEMhpXmJGzzk5312H6kGUHqROBZYHhpbohNPX1acmUF\n",
              "pj+1Di5BQpAuOACAZYCjzR785Ml1ukL/VZvr1eU/KdSmw8Jj8U9HhDwXnGrgEkS0emXUNrqRazMb\n",
              "XkptyZUVHTJAshQRNRreVi0YcU8RyYdmhATRTl+7BU9eV4kbxg+E3cpDlBXYrTxuGD8QyxIMc29w\n",
              "Ctjb4ApxggDgkxX8UO9Ck1t78EWwzX0N7nC/AlEGfqh3h9jU06c+WWYMLrRHKIQDqjq4mWd1S0j1\n",
              "yTJjUGF2VNXx8sJs5Gd3zLDCJZssPIu8LBMYMGj2+AIl2bpyPeJhhAyQEfcUkXwoj5AgopCsKiBX\n",
              "P70eX9aegJljwARp6CmKAq+kYFx5Pl6fV5W4zSAHo8jxbXbWp8fX7sIrmw6g0G4B0z4DbPGI4Bl1\n",
              "MpefbUZxjhWiJKPeJeCG8QM7lZAKtgkGHeXSFETYCD42vKRanUvAjMp+qL7k9JQsJVJlmd4FzQgJ\n",
              "IgpWE4e+dkuXvrDCQ/IZhgk8kpqS0P5TtjOb8foUHurPMAxavVJQ24HmNh9kRdEc+h9uk2dZWE08\n",
              "eJbtNNVDVhSIkhw4n5Xn8Pn3DZrHqavkZpkxtNiRVCmgZNxThDHQHiFBGISekHytX7gBmwwDnyRD\n",
              "Clpy5VjVyeq1CUSG+suyoirEt6vDqxVhAFlRwDKMJgkpvekDbT4JLMvgWHMbWjxiQKE+12aCzcT1\n",
              "aMkqIr3QjJAgDMKwlAQGEGUlYt/R/xzLQJdNIDLUn2UZMAygtE83FUUBw3SI42oJ/deb6mFiGRxr\n",
              "8aCpVZ15AqrjbXR7cbTFAxPHUKoBYQjkCDMcj09Cg0vIiOoUza1e7D7u1LUU2N2JN/5GhOTnZpnR\n",
              "1x7/+MIE9rXCQ/19kgwzp84u1XQKdWbGMkynof/+MQEQYlNWFIiyHFj2DE/1KLCb4RNl8IyqOcix\n",
              "jLqMygA+UU7psqIR92omfVZ7G/TzKkPJpIr2RlT0Tzdaxz/ZIfkenwQz3+EMos01TRwLj0/S7TRm\n",
              "V5Xh798cxY5jzpDnJUkBzzKwmVk0ub0xQ/+jjcn5Q/uiNM+GPXWukJmhmWdx5ikd6SMen4Qmtxcm\n",
              "joHU/sPBX6BbUQATx6Cx3YkY6QxJfaJ3QjPCDCQ8zJxnGd1h7anCX9H/y9oTkCQZYABJklGzrwkz\n",
              "l6/H7uPOzo10M/SMf7JD8l2CCLcQf0bhFhIr2/XxtuPY2+CO+pooK3B6pJih/7HG5M3Nh7G33h0x\n",
              "Iw4PVncJIrySglPybMjPNqtLsIq6FJufbcYpeVZ4JcXQcmRG3KuZ9FntzaRkRuhyuXDHHXdgxYoV\n",
              "8Pl84HkeEyZMCDlm//79ePjhh3HTTTfh3XffxYIFCwAAFRUVeP7555GVlZWKpmYEwRXt/WHm2RY1\n",
              "zNxf0b6zsPZUEVzRPxDlyKq/+P0V/fWmD6QbveM/tNiB1+dVJSUk327h0eSO/+V5olVIaC/tvtXf\n",
              "xX3d2ebF+nsviDojizUmnpNtcAsiCrLNKM61BmZZsqxgf6M7MFb+/US3IKI4x4pChyUQmMMyDJrc\n",
              "XtitxpYjM+JezaTPam8mJTPCRx99FFOmTAl5buPGjYHH+vXrUVBQgMmTJ6OhoQFz587Fe++9h23b\n",
              "tiE/Px9LlixJRTMzgkyqaG9ERf9005XxT0ZIfkubNyKRPhxRVo/Tw566Fviix7QE8MnAoRORM8ZY\n",
              "YyIrCpyCqu3nbJ/J8RwLlmEixipqObL2fsbbk0zWvhupT/RuUjIjXLRoUdzXV69ejVGjRmHgwIF4\n",
              "9dVXMWnSJJSXlwMA5s2bh2uuuQYPPfRQ1PcKggBBCP2FLEk998bSE5Ke7jBzI9IH0k26x39fY6vm\n",
              "44pybJrtbjnYrPm4IUU5Ic/FGhO5fX+PYdtTL2QFLNdxL4SP1eyqMvz7+0bsONoMX5C3N3FMROm4\n",
              "ZO+7GXGvpvteIbTTLfYIH3nkEdxzzz0A1CXSsrKywGsDBw5EbW1tzPcuXboUubm5IY+amhqDW5w+\n",
              "MqmivRHpA+km3eNfXqBti0DrcX5GD8hN+LhYY8Iy7SkYcnvqRZiTCR8rf96gP3fRDwMmJCjIiH03\n",
              "Up/o3aTdEX7++efIycnBqFGjAKjr8RzX8euI5/mIjfZgFixYgObm5pDHuHHjDG93usikivadKRok\n",
              "kj6QKmItuXVl/PUs48U6tijHhtLcji9jJujhp1+eVddsEACGFOXA1Mm3gZljImaDQOwxYRkGDguv\n",
              "Rsi2f9kH0iiijNXKjbXY3+jGwIIsnF7iwGnFdpxe4sDAgqzAfqL/OP++m8PGg2MAh43vkup7KtQn\n",
              "gqvldLfPam8n7T9Ffv/73wdmgwBQWlqKbdu2Bf4+fPgwSktLY77fYrHAYgn9lRbsSHsimVTRPp6i\n",
              "gd3CJVTR30i0LLnpHX89y3hajn18ViWufXYjZCUyfYJlgMeuGZ1Q35fOGIm73vg25usPTa+I+Vqs\n",
              "MZEBZFt4uAQfTh7zBY4PX+6Mtp/mT95nOSawn/azSWX4cOtxsGBQ2+iGxydDgfpDwGbmkG3msWbb\n",
              "MdwyebBuB2OU+oTW5V4ifaR1Rvjtt9+irq4OF154YeC5Sy65BJ9++imOHj0KAFixYgWmTZuWriZ2\n",
              "SzKpon0sRQOeZTC40B6iPpButC656Rl/Pct4Wo/NtZpgjbHvZOVZ9Elwht0v14YYW2RgGWBAfuzl\n",
              "1lhjMuOsfhhUmA2WCW1v+HKn1v20404BzW0+NLgEtLU7QUD9QdDqldDoEtDc6ksozcII9Qmty71E\n",
              "eknrjPCRRx7B3XffHfJcv3798Mc//hGXXXYZeJ7H6aefjuXLl6ephd2XvnYLbr94KG6ZPLhbV7Rf\n",
              "ubEWh0+24bQiOxgG8EkKTJwaPHH4ZFu3Ch/XE+qudfz12NR67MLVW9Hmk2HhGIDp+LKFArT55IRT\n",
              "Uu58Ywv8W2TBX9sKAFkBql/fgnX3XhjtrTHHZPlne3DkZBsGFmSpaRPtKRHx0ieyo/yO80swFTss\n",
              "ONkqwL94GSTooQbkAGhu8ya875bMVBcgdLk3Xv+J9JLSGaGiKOD5jht05cqVuOaaayKOu+666/D1\n",
              "11/jyy+/xMqVK+FwZGb1kVTQnSvahy93cSwLq4kDF0V9IN0kGuquR9Ehnk2tx9a1tIWE+bOMOq4s\n",
              "w3YpJaWupQ1HmtUZJxO88ch0OJvDJz2oa2nr1JZ/TACE9Ill1JJpmtMn2gneTwMQWGIMn7z6//aK\n",
              "MoQu3lPJSHUJv6bx+k+kl7QHyxA9F73qA+nEiLbqsan12H2NrZrD/PWgJy1DK3rHdHZVGYYUOVDv\n",
              "EtDk9sItiGhye1HvEgJ7r8edQsAzK/7/a38ElhoZRnf/jSCT7v/eDjlCwjAyKXzciLbqVV/Qcmx5\n",
              "+xJbslNSjEjL0DumWvZeix0WcCwDjkHUfWeOUeWoukNKTibd/70dcoSEYWRSqocRbdVjU+uxRTm2\n",
              "pIf5A6FpGWFlQAN/603LSGRM/fuMq38xCatum4jVv5iE2y8eGlhqDU5z4BjAYmIDD45Bt0rJyaT7\n",
              "v7dDjpAwlODlrganByfcXjQ4PSHLXamiszy+4LbWNbfieLMHdc2tXWprsM1jJ1tx5EQrjp2MblPL\n",
              "0iCghvk7rDy8kgKPT4LQvsfolZSEw/wBNS3Dvz2pKB0PAODY6GkZesa00SXghNuLRpege0yDzxPc\n",
              "f69PlYzy+uQu9z8YrTJMevof75oS6YXm5ISh9LVbcPuFQ1D9ty2BYAxAnV3cfvFpKUn10JrH19du\n",
              "wfTRpfh/73wXUnfTzDGYMaZfQm3ta7egqrwPNu5tjHhtzsSCiPM/eV0lVm7YjzXbjqHNq6o9XDW8\n",
              "f0hbhxY78PNJ5Xjs4+8BhOYS3nzeoITlgsaXF+Dnk8rxzL/3Rbx287mDML68IPC3njFVr/83ONLs\n",
              "CTwf6/qH2zVxDPrazWhweeGTlMB5/nDVKDzw7jbVptxh87FrRndJ2kurDJOe/mu5pkR6YZRwPZQe\n",
              "QHV1NR577LF0N4NAh7SN06MWX/ZrzPmTlBPNz9KKPzdvT50TVp6DmWfhFWV4RAlDihx4Mijvb823\n",
              "R3Hrq5tj2nr2xjG4ZFiJrvOv+PwHLFmzM+brv5s2DD+bVB7xvMcnxUzLeH3TAfzm7dhKEX+4aiRm\n",
              "jhmgq5167OoZ0+DrzwBgWECRVecdfv3D7XIsg6PNbWrKDc/ilBwrJFlBq09dauRZBlYTF1Cz8Epy\n",
              "xPn1EHGvhiXU+9uqp//BxLumRHqhpVHCUIKlbcw8BxPHwsxzMHNMQNrGSIJz8/pkm5Ft4dEn2xy1\n",
              "HNfdb26Ja+vO1+O/Ho0H4zhBAFj83vaoz8dLy+hMLum3q+K/HgutdvWMafD1t5g4mDmu/d/I6x9u\n",
              "t80nQVbUGbkkK2jzSeiTbQYLtDsrBgV2C/pkmVFgt3SpxFp4W808BxMb/V7V0/9gunOqU2+HHCFh\n",
              "GOmWYdKTx3ewyQWXN74OkVNQj9PK9iMnO60eIivqcVrRIpfklRTsqWvRbFOP3e1HTmoe0/DrH1xr\n",
              "Nvz6h18rWVHQ3OZrL9atHtvc5oMoyyHSTnLQglZXcvO03qt1LW0krdQDIUdIGIYeaRsj0JPHteOY\n",
              "Ngen9TgA2LTvRFKPA/TJJelB6/Gb9p3QPKb+6w8G8IpSez1W9eFrV4D3X//waxWQcGrPGWSgViMS\n",
              "JTlC2inW+fWg9V7d19hKuYE9EHKEhGGkW4ZJTx7XmSV2TTa1HgcA48v7JPU4oGtySck4fnx5H81j\n",
              "WuywgGEASQYkJST3HaKsQJLV3PhihyXiWgUknNpnfApUKSeeY3VJO2lF671aXpBFuYE9EHKEGU6y\n",
              "FLqNsBshwxT0v2TJMB1scuGf249FXbLUk8c1IN8Ouzn+x8FhUY8LJt44DSvNiygDFg7LqMeFE8vu\n",
              "kKIcTTajySXFa6tWGaZhpXmaxzQ3y4xCe8e1VYtPh9YHLWqv5Rl+rViGQa7N1D7rU++VXJsJPMuG\n",
              "SDuxQca6kpsX9V5VIu/VohxbSnIDtaZvEMmBfrZkKMlW6DbKrirDtF5dKpJCf23bLYnnfK359iju\n",
              "fnNLyL6ew8Lhj9eMDons1COZ9NisStz80n9invOPQXl0Wsdp4bRhWPT36AExAHD/FcNC/u7Mrscn\n",
              "oTjHimMtnhgWgSKHNVC/U09btcowaR1Tj0+CmefQXg+8I1E/qLC3iWcDbQ23azOzYFvVvUkTz8Jm\n",
              "4tDk9kKGGsUpKwqa3N6kyZDFu1cdQfeqkTJoWtM3iORCM8IMxAiFbqPs9skyY1BhNsK3VHgWGFSY\n",
              "nZAMkz/NITy4xSlIuPml/+Cf248FntMjmVQ5oA+GFmVHPefQomycdaq6hKlnnEoc1rh96deno1KL\n",
              "Frta9578x+lp6/lDizCoMHoJtUGFWZh8ehEA7WPqEkR4OonAEXxyoK3hdhWFwan5WRhXno8BfWxQ\n",
              "ANitPG6cMBBv3joRN1aVJVWGrONejSzdVh50rxolg+ZP3/iy9gSk9j1USZJRs68JM5evx+7jzoTs\n",
              "Ep1DeYQZyONrd+GVTQdC5HoAdWmm3iXghvEDE5J2McJusE0wgCjK4HlV6y1RmyMWrokb4emwcPhu\n",
              "0ZSI5zvL4wpuq6jIEHwyLCYWPMOGtFXPOOlpqxa7t0wejNGL/gGPGPtjazOx+HrhJbCaOF1tDem/\n",
              "LKPNJ8NmYsGzbMxrFW9MPT4Jlf/zT7T55KjLuQoAm4nD1wsvjvreYLuxzpPM3LyIe1WS1TGLc68m\n",
              "8/xXP70eX9aegJljQiJXZVmtmjOuPD8heS2ic2hGmGEkKheUDrvhNnmWhdXMg++CDFNX0hz0SCaZ\n",
              "OQ7ZFh5mjgtpa3Or15CUjGjpA6IkQ1aUELstbd4QGSKGCXq02/TLEHVFBspq4tEnywyriU/4Wgk+\n",
              "NVIUaF8NDZJ28rtxQZSiSiaFX6tY1y5ZuXlR71VT5/dqss6f7lSj3g7tEWYYelIC9Hw4jbBrhE09\n",
              "aQ7hgS1a2sqxDI63eNDc5gsI3ubaTLCZOxTSjUjJsJlNaPNJYFkGx5rb0OIRQ89v4gIyTO3hlFAA\n",
              "MEETw3AZovz2pHStof56rpWWfcfjTiFU4DfKJJZpPy7dRbKN+lxpRU+qUbrHqidCM8IMwyhpl3TL\n",
              "EGnFiDQHQG2riVNLejW5vWqiNoNAQMbRkx6YOTXVw4iUDLuFh4llcKzFg6ZWXyBRXFYUNLq9ONri\n",
              "gYlTw/e1yhAZIQNlt/Ca9x2LHRZwHAu2vW3Ber88y4AFwHEsSSYh/alGvR1yhBlGeJh58BJaV8K3\n",
              "w+36JBluQYRPkpMmQ+SVJLg8PnglqVObscLHE01z0NLWgmwzfJKiyvlICiRRhtz+t09SUGBXQ/2T\n",
              "mZKRbWZR6LCp57eb4RNl8AzAsyw4VlU05xnAJ8roa7eEyDBx7X7Q/9UZLkMUdfyF6OMffmyrz4cm\n",
              "t4BWny/iWK0lxvwpCUp720ycGiRl4tS/FcROn0l1+oBRnyuthKdvBJOsVCMiNrQ0moHMrirDv79v\n",
              "xI6jzYH9IgAwcQyGl+YmHL49u6oMa7cfx85jTgT/MGUZ4IxTchKWIfrHtuPYcSw04o0BcOYpkaHm\n",
              "WsLH9aQ5aMXjk9DoVr90hbDQeUlSwACBHLxkpmTYzDx+8uQ6XDysCHVOASaOgdT+ZegvUK4o6rVt\n",
              "DJIhuuzxf4W0U2lvNw+EpKTMrirDP7cfx86jzpByb9HGf3ZVGd795kjEtQKAQX2zcEPVQM37jrdM\n",
              "HgyricOSKyvw0ye/QGtE9KiCLBMbkT6TzvQBoz5XWllyZQVmLl+v1lGVpYii38mQlyKik5IZocvl\n",
              "wty5c8EwDESxI/x7y5YtmDRpEsaOHYsxY8Zg165dAIDJkyejsrISEyZMwIQJEzBv3rxUNDNj8O8d\n",
              "MWGxeAyYTmtbxuP7Y84IJwios4ydR1vwQ7328mLBNqOFfSsAdh5zhtjUGj6uNc1BDy5BRINTiDl+\n",
              "CoCG9lJgesLntx+KX7pMkhW4BRGv1hzE0WYPinKsyM82q4niilphJT/bjFPyrPBKClyCiL+s24dY\n",
              "SRQigFc2dhR9/v6YE7uOOSP6FW38P952HPsaWqPa3dvQis921enaSwOARqcAT4zlRo8o40TQjC/d\n",
              "6QNGfa60MrTYgTdvnYhx5fng2qNVOY7FuPJ8w1VaejspmRE++uijmDJlClasWBF47sCBA1iwYAHe\n",
              "eustlJSUwOv1QpI6IrLefvttlJWVpaJ5GcfKjbXY3+jGwIIsVYJGUcAy6mb6/kY3Vm7Yn1D6xJ1v\n",
              "bIlwgn5kBah+fQvW3XthwjaDK4ooSqTN4Or/gcg5Vp0d+av/vz6vCis31qKp1YczSxyQFBkenwyr\n",
              "iQXXnuaQSP/tFh7Nnvg5es0eMbBH5FdSv2Xy4Ljh8//7yZ64Nk+0+tC/TxayRQnNrT40t/pQ1jcb\n",
              "hQ5L4LqyDIMmtxd2q7pH9UrNwbg2/7JhPxb9RJ09RIy/AjVqM8r4a1Gf+PaBS2EzcXALIrKjbFcJ\n",
              "ogy7lQ+MU8j5g45TkPj1NwqjPld6GFrswOvzqtDc6sVxp4Di9so7hLGkZEa4aNEizJgxI+S5ZcuW\n",
              "4aKLLsL111+PCRMm4Pnnn4fNpiYXMwyDmTNnYtSoUbj22mvx/fffp6KZGUH40hTLqPtILMN0KX2i\n",
              "rqUtIJwbEpLPdDiwwyc9qGtpS9hmMOE2E63+b+F55NrMsPCJh/kDwN56bbON8OPihc9vOdCkyabb\n",
              "64OZ55Bl4dDqE+EVpZDrGrxH9dW+SIHfaHyxuy76+Lf/Gz7+WtUnDp1wa94jjTh/0CPR658qpZJk\n",
              "fa4SJTfLjKHFDnKCKSJte4Tr16/HoEGDsGbNGjidTpx33nkYMmQILrroIrz//vvIysqCJElYvnw5\n",
              "pk6dih07dsBkMkXYEQQBghBa8SR4ZtnTMCrMe19j9CWxaMcV5dg6P1CnzT5Z5qRX/9fTfz1KEdFq\n",
              "g0bjiz3anJbLIyHbbEJ+tgleUUa9U4DNzEfde1z2sbYfhWt31MGksf/7GltxsEnbtdpysFnzHqkR\n",
              "19+o9IF0p08Q6SVtUaMNDQ2orq6G2WxGQUEBbrzxRqxZswYAkJWllnniOA7z588HwzDYsWNHVDtL\n",
              "ly5Fbm5uyKOmpiZl/Ug1RoV5lxdEL62V6HF6baa7+r8RShHnDCnQdJzdqn6xihIwoI8N1407Nebe\n",
              "48VnFmmyefGZRbrGX4+qhdY9UiOuf3dQKiF6Hmm7qkVFRcjJ6aiQzzAMeD56c2RZDjk2mAULFqC6\n",
              "ujrkufvvvz95De1m+MO8X9l0oKMEVDv+pamrhvfX/au1KMeG0lwLjjQLUROfAaBfnlXzbDCazfA9\n",
              "onCbo/vn4svaE5BlOaLElKwAY4Oq//v7z7bPFPz/Jtp/v1JEvKAIFsCgQu0BC6NPzdd0XLbZ1HHt\n",
              "xvTH7RcPxTXj+mPHMRfOLLGHpIKcM1SbI/Qfp3X8i3JsMLGIuzxqYhn076MGKfn3SK8bPwD7GltR\n",
              "XpAVcW9EXP+wPeLg8wParn/4bDBZe2lGfa6CSWY5NiK56J4RtrVp3yOKx7Rp07Bs2TIAgNPpxMsv\n",
              "v4ypU6fi0KFDWLt2beC4l19+GSUlJTEDZywWC3JyckIeHNezb7LZVWUYUuRAvUtAk9sLtyCiye1F\n",
              "vUvoUvX7x2dVIsbKFFgGeCyBtIRgm8F6dNFsLrmyAg4rD6+kwCtK8MkyvKIEr6SEhI/PrirDqfnZ\n",
              "qG10Y9cxJ76vc2HXMSdqG90oK8hOuP8Lpw2L+3qOTU11+N+1uzUXIL/rkvjBFX2yTCHX7owSByYu\n",
              "/QjnPvI5bn7pPzj3kc8x6eGPsal9b9Djk5BrjX9/51q5wF6WnvFfOmNkXLsOa0f/N/7QgKufXo9z\n",
              "HvkM1z+3Cec88hmueWZDRGTn47Mq4fcpitLxAACOTez6A+0Rpk+vx9kPfYzLnvg3zn7o46jn14NR\n",
              "n6t6p4DH1+7CT55ch+lPrdd9DxHGo9sRjh07Niknrq6uhtvtRkVFBSZOnIi5c+di8uTJyMrKwrPP\n",
              "PovRo0dj9OjReOutt/DGG28k5Zw9BaOq3w/qa8cZJTkRzpBlgDNKcjC4UF+SeodNR0TRZQbAGSWO\n",
              "EJtaw8eNCnO/YmQpBhZEn/GyUAMY9KpxzL/gtJjOsG+2GQ6rKXDtbqoaiF+8tjkQYOLn8EkPrntu\n",
              "Izbta4RLEGGOsXLix2LiA+kLesY/2xTfLs+xcAsiXtxQi+v/vAk1GtIcxpcX4NW5E9AvL1SFo1+e\n",
              "Fa/OnYDx5R3Lx1qvv1FpFkZ8roxSiiGSi271icsvvxzPPfccSktLjWpTl+np6hPBGFV9X4FavNnM\n",
              "s2CQuFJEqE0FgijDwrNgwMS1GW/JK9hmeJh7stQ3vJKEo80etHllmNuT3POzzSjOsSasxrHlQBO+\n",
              "2NOIc4YUYPSp+RHXbuLSj6JG2QYvI35852QMX/hhuFxeCDzLYOuiSyPUJzob/86UMhgAI/rlYk+d\n",
              "E20+GRwDmPmOe64zlYS6lraYy6jhxLv+qVBpSNbnyiilGCK56N4jFAQBI0eOxI9+9KNAugMAvPTS\n",
              "S0ltGKENf3msrhKtYogp6IMbXjEkcZsd741nMzfLHHXPJ5pNv0o5yzEJtTOaXZZlIMkA3/5lK8sy\n",
              "mtt8KHRYolZQ0cLoU/ND9g2Dr11nqSaKos4M99Y74zpBABBlBS1tXgBmzeNf72zrVClDgZrq4dcY\n",
              "lBVAURQw/vFnWbCyFEhzCL9+/r1ILcS6/p2mWcQ5vx6S8bnSW4WHSB+6HeHs2bMxe/ZsI9pCpJFM\n",
              "UZ9IlfqGLCvtASbql7xa7gyB2Weyw+m1phpoTfPY19iKwYVs0pUy2gQ57vKz0WkOmaTSQCkZmYNu\n",
              "R3jTTTdh+/bt2LNnD3784x9DEITAL0Iic/GHj2utGNKTbEazy7IMmHb1CUCt+emv8tKV88RCa6qB\n",
              "1vSN8oIsXWOlVSnDZmHjRtcqsmKoooQ/zUKS5KgRDkafXw9G3atE8tEdLPOnP/0J119/Pe655x4A\n",
              "wDfffIMbb7wx6Q0jUkt49f1gkqU+0V1tRrPLMgxyrHxADUBRVF3A8Eovyfol7081ACJ1+4L3CIeV\n",
              "5qHYEX+mU5KjqlToGSstShkM1FQPq8m/JI2QH8GpUEnIJJUGo+5VIvnodoQvvvgiampq0KeP+st0\n",
              "3LhxqK2tTXa7CI3UtbRh075GXaXPYhEcPt7g9OCE24sGp6dL4ePhNhucQlJt6glz70zaJ9ju8eY2\n",
              "NT8RamkxlgFsZjbiPB6fFFCl6Iw9dS148z8HsaeuJerrWlMNzj2tb9zznDNEfd3jk3D5yFIM6mvX\n",
              "dE0fm1UZ126hw4wmtxdWEweOBSQFnaY5BKNnrOIRnGYh+CR4Jan93/jn10Oy2mpUSgaRXHTPyW02\n",
              "W0Sps/BfZoTxbNjTgDvf2BISat8vz4rHrhkdEpKuh752C26/cAiq/xZp9/aLT0sofLyv3YI5VQNx\n",
              "1xvfoMHb8aXisHD42TllCdt88rpKrNywH2u2HUObV4LdyuOq4f1DFNL9aJX26Wu34OIzCrFpb2PE\n",
              "0l9elhmKwsBu5XDV8P6YWlGClzfEV2j38/qmA7hv9XchyepmjsFD0yswc8yAwHPjywuw/PqzcOff\n",
              "voFTCB2rP7ZfV49PwneHnXBYWDiFyM+d3cLi64Mn8eiHO/HRjjq0+SQoiqJ+sQfZjHZNLxlWgpuq\n",
              "BuAvGyKLeudaOVhNPGxmDleN6Y+qIQV47J+78fXBk5DblyPHxpBL0qJmr4ehxQ48d+NY3PH6Fhxp\n",
              "9gByR58eu2Z0l1Qakt1WvfcqkR50p09cddVV+OUvf4l7770X69evx9NPP421a9firbfeMqqNuunp\n",
              "6RMb9jTghuc3QYry+4NjEZGfpRV/fpbTIwaWvRSlQw8tESkYo9rqp7Mw94g+hWm8Bffp9U0H8Ju3\n",
              "Yysw/G7aMFw77lQ4PSJ++drX2FPnhJXnYOZZeEUZHlHCkCIHngzKOevM5h+uGhlwhv6csz11TvAs\n",
              "wDAsFEWGKCNgFwAufexfaIxTfJpnGeTYTMgycQADHD7RFiLeC6BL/Q8e584quwT3qbOx0kqwTXN7\n",
              "hK8sK/BKcsI2jWprMFRZpvuie2l02bJleOihh7B582bk5OTgb3/7G5588kkj2kbE4M43tgQcS7hC\n",
              "hCSr0jaJECyDY+Y5mDgWZp6DmWMCMjjdpa1+4qk/AFH6xMbuU2cyREs/2KFLoV2Lzd+u6ng92G6h\n",
              "w4a+7f8G27Vb+LhOEFDTJwrtZvTJVpcyQwR5GabL/Q+mM5UEPWOllWCbBXYL+mSZUWC3dMmmUW0N\n",
              "prN7lUgfuh3hiRMn8OGHH6KpqQlHjx7F2rVr8cUXXxjRNiIKeqSN9GCEDI5RbdWKnj5plSHafuSk\n",
              "ptwwj0/SbHNPXUtEzpmsKBAlGbKihNg9dMKtuf+SLKOtfTm648eHokbAJtj/WPub0dCaR6dnH84I\n",
              "m0baJTID3Y7wv//7vwGoChHZ2dngOA4PPPBAsttFxECPtI0e9ORnacWotmpFT5+2HIyvJO9n074T\n",
              "mnPDtNrccrA5kHPGsgyONbdhT50LP9S7safOheMtHvAsgzavpNmmR5ThkxTNOX962qoVvWr26bJp\n",
              "pF0iM9AcLDN79mwwDIMffvghJF3C6/VCFOnmSBVGyCUBxuRnGdVWrejpk1YZovHlffDXmoOacsP0\n",
              "SBvZLTxMLIODJ9sgyWqUKgO1fFyj2wuOZTCgj02zTSvPgmMZzTl/etqqlUzOI02WXSIz0DwjvOii\n",
              "i3DhhRfC4XDgwgsvDDymTZuGf/zjH0a2kQhCa76ZHrkkIPH8rHhh5l1pq9bw9XjpI3r6NKQoB6ZO\n",
              "Pg1mjsGw0ryQ3LDgJczw3LAhRTkRxa7DYQH075MNq4lDgd0MnyiDZwCeVR0Zz7LgGcAnyuhrt2BI\n",
              "UXQ5sgi7DAOGYQI5fx1pGOrzifZf6/mByDy6eGPVJZty12wa1VYic9D88+amm24CoKZPXH311YY1\n",
              "iOicx2dV4rrnNkKSIx1MuLSNHpZcWYGZy9erEZayFBFhGZyfpTXMXG9btdrVmj6ip09LZ4zEXW98\n",
              "G3N8HppeAUDNDfv3943YcbQZvqDCnyaOwfDS3EBumMcnoTjHimMtnpg2GQaYtuwLXDq8GHVOAab2\n",
              "At+yLAeidhVFtd3oEnCwSVsptH0NLohy5GxQgSpx1JX+60HrWOm1+cWeRuw42hIipGvmWZx5Sk7C\n",
              "uXlGtJXIDHTvEVZWVuKWW27BJZdcggsuuCDwIFKHHmkbPWiVwdEjLaOnrVrt+lMy4skV6e0TAIwo\n",
              "zQ3MoMKxmliM7J8HQLsMlEsQ4YuheO5HVgCXR8SrNQdxtNmDohwr8rPNaik3RZ3Z5WebcUqeFV5J\n",
              "0VwTVPHXSIU6C1SXWtFp/y0xJjwWDoH+68EIySz/D6rwzC+dmWBR7Roh70V0f3QveF977bW49tpr\n",
              "MX369B4vgNudGV9egHX3XqhL2kYLQ4sdeH1eVdz8sOAwc3+EXbZFLRvlDzMPlpbR2latdsNTMvwo\n",
              "SkdKxrp7L9TVJ0BNtRB8MiycmuPhL7ANRYHgk3H/O1vx+rwqrNxYi/2NbgwsyIqQgdrf6A60U0uq\n",
              "gwIg326GKMlobvWhudWHsr7ZKHRYAnZZhkGT2wu7ldNcE3RAvg0WngtpW51TwGUVJbjrktNj9t8r\n",
              "ARaOgSQrauMY1ZF6JSXQfz1oHatEbJYVZAdyCP3/JmrTqLYSmYFuR8iyLO68804j2kIkgB5pGz3o\n",
              "kUHy05m0TLy2arU7Y0ypJrmiupa2iHPF6hMQPdXCX2AbDBOQ96lraYtIc4jV/3qntrQQryTByvPI\n",
              "snBo9YrwihLMPBc4v3+P6qrh/VHosIFj0KkUk8WvE9juzHiOhdXEoab2BCxR9rnC+x+WbZKQvJER\n",
              "kllRbXLJl+FKRluJzEG3Ixw9ejQ+++wzTJ482YDmEN2dVMkgxbKrdWlwX2Orrh8IWlMt9jW2os0n\n",
              "gWMZHG/xoLnNF1hSy7WZYDPrlzYSfDKsPJCfbYJXlFHvFGAz87DwLARRdYL+upQuQUSB3YK6OGks\n",
              "LIBjzW1wCVJo20xczGtjhLxRJstwJcsukRlocoTnnntuoMq8z+fDRRddhBEjRiAnpyOC7F//+pcx\n",
              "LSS6FekOX9e6NGhU+kh5QRZMHIODTa2Q/XtK7cuoTW4v2Fbg1PwsXdJGlvZ9SVECBvSxYcrwEqzd\n",
              "WRe1LqXHJ8Fh5dHkFhBr+1EGcLJNjJmCEe3aGJE+Q+kTRKag6aouWbLE6HYQ3Yw9dS3YcrAZowfk\n",
              "hoTM+8PMX9l0AKIkhyxjBi/hRfvVHK/WYrjd8D0av90B+XaU5lpwpFmIiEL1EyslI1afgI5Uiy9r\n",
              "T6iySwgOnlCDWsYOyENRjg0F2WbsrXfDzDEdMkQMo0ZkSgoK2sto+aWN4im/MwCsPN8xdmP64/aL\n",
              "h2LueYOi7mdaTVzg/BaOgdieNM8A4DkGQvuaKR9STUdNl/CKMnJtpvAmRO2/2h9/gI0S6L8eeaPw\n",
              "ayorCjyiDCvPgmWYuPeKVpt67j89dsP3HhO1GwzVGu2+aHKE559/fuC/oylNhJevIjIXLUoJs6vK\n",
              "sGnfCeypc8LCc1GX8ILRmhKhNSz+8VmVmPXMxqiRfAwiUzK0qj8subICP172b3jESMtWnsHin46A\n",
              "xyeh0e0Ncjodx/qdkT//0Wri8NisStz80n+iDzY6pI38Yze1ogSPr90Vc6z852eAgNPzIwX9LSoA\n",
              "60/BkBVIiuowvz3UjGnLvsDlFadEjP+SKyvw0z+tQ6tXQnjiRZaZS0jeaHZVGdZ8dww7jjlDnmcA\n",
              "DC22J5w+oef+02PXiPSJZCtaEMlHtwfjeR4mkynkwXEcSkpKMHv2bNTV1UW8x+VyYe7cuWAYJqQK\n",
              "zZYtWzBp0iSMHTsWY8aMwa5duwAAGzZsQGVlJSoqKjBlypSoNonk41cfCK856ZUU3PXGt3jzP6o8\n",
              "j19a5obxA2G38hBlBXYrjxvGD8SysAr9elIttIbFy5ISESjjJ/x5rX0CgK9rT0R1ggDgERV8e+gk\n",
              "XIIIj09uT1gPP7kaYOHxyYFSXAfq49cG9bYvud0wfiAe+PEw/O7d7XHHyiWIaHJ50UlZUPTJUkWE\n",
              "FUWB2O4E/coTLk/08W90CoHapOG0eSWc0FFn1s+Xe5uwuy5yr1QBsOu4C5sPnNBtU8/9pwcj0if0\n",
              "3P9E+tAtw/Tggw/CarXitttuA8MweOmll7B3715UV1fj6aefxjfffBMhyfS73/0OI0eOxMyZM+Hz\n",
              "+cDzPA4cOIB58+bhhRdeQElJCbxeLyRJgslkQnl5Od566y2MGzcOjzzyCLZs2YJXX31Vcxt7ugyT\n",
              "UZz22/fjFl42cwx2P3hZyHOdLfc8vnYXXtl0ICQlAlCXsepdAm4YPzAQkh58bPjSVPCxE5d+1BE5\n",
              "GnQu/43cL88aSJ/Q0yctx377wKWYuPRjnGzzwcyxCNQwa//XK8nok2XGunsvgNXEofze9+N+ibIA\n",
              "ti+eAquJ0zRWt0wejDPu/zCORZXhperS7/EWD060+mBiGUjtS81DiuwRYwogZFyjETyuWhmxcE3c\n",
              "pWGHhcN3i6boshlMMpcbI+6/oKX58LFKxGZn9z+RPnTPCN99913ceeedsNlssFqtuPnmm7FhwwYU\n",
              "FRVh4cKFOHDgQMR7Fi1ahBkzZoQ8t2zZMlx00UW4/vrrMWHCBDz//POw2WyoqalBYWEhxo0bBwC4\n",
              "+eabsXr16pjiv4IgoKWlJeQhSVQhXi+Jqg/Ek5bRU9E//FiWYUL+9R97sMkVmj4R9AhXtNDTJ63H\n",
              "7q13duwLQp0tMAwTMYsAgO1HTnY6k5AB7K13ah6rvfXO6IbCcAvq7M2vwwio+5y5NlPEmHp8UoRS\n",
              "SPgD0K8UcrDJFdcJAoBTkDRXy4lGtPsvEXX5qPcfG3n/dQelDCL56A6B8ng8aGlpCUSMtrS04MSJ\n",
              "juUNJtaaVRjr16/HoEGDsGbNGjidTpx33nkYMmQI6uvrUVZWFjguLy8PJpMJdXV1KCkpibCzdOlS\n",
              "LFq0KOS5CRMm6O1Wr0eP+oDWepN6K/onO33iYJM2VQs9igqb9p2A1cTBzLEQZQUMo4SUQjO35+u5\n",
              "BBGb9mlb9tu07wSKcmya+q/VZr3LC0Fsl10CICsKrDyLguyOYJfg8dejFKI1LUXrtdpxzIUB+doi\n",
              "bOPRlb24TEr1IJKP7hnh3LlzMWrUKPzyl79EdXU1xo4dizlz5gAAduzYgdxcbdXpGxoaUF1dDbPZ\n",
              "jIKCAtx4441Ys2YNZFmOqFjD83zMGeGCBQvQ3Nwc8vDPJgntGKk+4I0R5y+IMmxmDnYLr/lYPekT\n",
              "evqkR33C3i7YGq0UWp9scyDMfnx5H102tfRfq80rK/vBYeUDUa8F2Wacmp8VMjMJHn8jlEK0Xiut\n",
              "x8Wjq3txeu5VrRhhkzAG3Y5w/vz5+Pvf/44zzjgD/fv3x0svvYTq6moAwJlnnom1a9dqslNUVBSS\n",
              "h8gwDHieR2lpKQ4fPhx4vrW1FW63G4WFhVHtWCwW5OTkhDyo9Jt+UqE+EEx4Rf/wY1t9PjS5BbT6\n",
              "fCHH+tMngM4VLfT0Sa/6hE+SUZBtxpAiOwYXZWNIkR0F2Wb4JDnQp2GleZrGaVhpXqdj5RElnH9a\n",
              "XwwqdGhq55KfjsS788/BnIkDkWvjUZBtjppq4G9ruFJI+APQr2riTx+Jh8PCJWU22FV1eT33qlbC\n",
              "bYqyDI9XhCjLpGjRzdDtCJ9//nnU1NTAZrMhLy8P27dvx/PPP6/7xNOmTcOyZcsAAE6nEy+//DKm\n",
              "Tp2Kqqoq7N27F9u2bQMAvPDCC7joootgMkXPfyKSx9IZI+O+nqj6wJAiB+pdAprcXrgFEU1uL+pd\n",
              "QkSo++yqMjisPHYcc+KHulYcPunBD3Wt2HHMiRwrH5I+4f9OD/+yDle00NMnrccG9+lkqw+CT8bJ\n",
              "Vl9Enzw+CX2z4+fd9c02B/aIoo1Vg1PA/qZWtAoS3v/uGH7y5DpMPqNIUzutJg7zzh+C04pzNI3/\n",
              "47MqY8pGRUtL0cJjsyrjvv7HBJVSgknWXpyee1Urs6vKcEquDbuPO7HjqBPf17vVf+uc6JdnI0WL\n",
              "boJuR/jvf/878Pjggw9wxx134O2339Z94urqarjdblRUVGDixImYO3cuJk+eDKvVipUrV2LOnDk4\n",
              "++yz8eGHH+K5557TbZ/Qz/lDizCob/Slr0F9szD59PhfwNHQE+r+8bbj2NcQfa9qb0MrPtulptHo\n",
              "UbQ4f2gRBhdmR7U5uDA7pE9a+6+1Ty5BVItXx0GSlcAeabhdQZRxss0HRVGQZzPBwrNwCyI27m2K\n",
              "azMnKGlez/jnWk2wmaPPTmxmDn10JNP7uWRYCZ69cQwcYbIWDguHZ28cg0uGRe776yVZ6vJGpGU0\n",
              "OAXsa3BH1IYVZeCHejea3PpTUojkozt9Ipxdu3bhvvvuwxtvvJGsNnUZSp9IjOBQb58sw+OVYTWz\n",
              "MLFsUkK9Owt1TyR9ozNFi+A+SYqCVq+ELDMHjmHipm/4ZAltXhk2MwsTy8Xsf7w+eXySplSHne3p\n",
              "E+Hv/eM/d2LV5sMoclhDZjpbDzfHjUaNlZLQ2fhf/fR6fFl7IlAxR4b6S1lR1Io548rzdatPBHOw\n",
              "yYUdx1w4s8SelOVQAO0FBgT87IUv0SpI6BNlBq4qd/BY/YtJuop7JyMtI2RMg+q4KnJyxpRIDl3e\n",
              "pT399NOjpkwQmUX48hLPsQiuxpWM6vv+vcBo6El1CN6n1KNowSNIlQGhfQKQUP/j9enQifjJ9MHH\n",
              "Rdt7/dfuRthMfIgT9IpSpykZ/pSEcGcTr63R1Df8RzJB6ht61CfCGZCfPAcYHiHq8vjg8ak/XKym\n",
              "jq+1RMuuxRsrrUQbUz8Mm5wxJZKDbkf4ySefBP5bkiRs3ryZglN6AOkO9c6U9A09/e9Kn2K13dOJ\n",
              "0K8fvSkJRqhPGIU/QnRPnRNWnoOZV/cBWzwiahtb0ddugc3EJaXsWlfIpDHt7eh2hIsXL+54M8/j\n",
              "tNNO01X1heiepLv6vpHpG1r7lOz+d6VPsdpujeGow9GbkmCE+oRRRBdw5mG3cDh0sg1eUYaJYyOU\n",
              "O1JNJo1pb0f3t9qnn35qRDu6FZlUJb4z1XWthFffZxjAJykwcQwUBTGXl/SM1fYjJ7Fp3wmML+8T\n",
              "kVrgT1/obI8wfOYUr/96FQWCj20TfXB7ZGRbWdh4U0L9T7RPfs4bWoBVmw/DIXUsj5p5LlDVLRbZ\n",
              "Zlb3EmSk+kTQiwpiqk+k+rMSL0LUauaRn21BloXDi3PODqiApIvwMQ1eHpVlOSFFD8IYdDvCv//9\n",
              "7/if//kfNDU1hRRD3rt3b1Iblg4yqUr8zqMtWLh6K7Ycag58uVcOyMPin47A0GJHQjZnV5Xh0531\n",
              "2H60BWJQtKOJZTCsNCdkeUnPWK34/Ac8uGZnyJc3ywD3XzEMP5tUHnhu6YyRuOuNb2O2LzjVQWv/\n",
              "9SgKzK4qw5tfHQpRSqh3AYAH/fOsCfVfT5/C7boEEa1eGbWNbuTazMgyq8t9Zp6BEKM4OAD86Izi\n",
              "mK/FI1R9IpRw9Yl0fVa0LHcLPhmWJOzxJYMlV1Zg5vL1aqk7WQLDqmogsgI4rHxCih5E8tGdPnH/\n",
              "/ffjr3/9K4YNG4bdu3fjrrvuwn/9138Z0baUkklV4ncebcHVz2zAl7Un1GUXBpAkGTX7mjBz+Xrs\n",
              "Pq6tHmU4DU4BextcIU4QAHyygh/qXYFQbz1jteLzH7AkzAkC6gxj0d+344V1+wLPzRwzAH+4aiTM\n",
              "XOieiplj8IerRgYkk/T0X4+iwMr1tTjc7Ik6NodOevDXmgO6+y/FcVjhhNu18CzyskxgwKDZ44Mg\n",
              "ysi2cGo1mzhs2tuUUP1KWVbi5hHGamcqPyuZVq1laLEDb946EePK88FxLKAAHMdiXHk+3rx1YsI/\n",
              "WonkotsRZmVlYfDgwbDZbJAkCbfddhvWrFljRNtSSlcrU6SShau3wukRYeYYmHkOJpaFmedg5hg4\n",
              "PSLuf2drwnbdggQLx8DKs4GHhWPgFqSAXT1j9eCanXHPufi97SF/zxwzALsfvAwfVZ+LP1w1Eh9V\n",
              "n4vdD14Wohuop/8rN9Zif6MbAwuycHqJA6cV23F6iQMDC7Kwv9Ed0tb//WRP3Lb+4Z+7dff/vtXf\n",
              "xbX521Udr0ez29duwcCCLGSZOVxeUYIXfnY22joJr61vl2vSy8LVW9Hqbb/+JhYWnlX/5Ri0ehO7\n",
              "/snGiAowRjO02IHX51Xhy99eiA9+fS6+/O2FeH1eFTnBboRuR2i323Hw4EGMHTsWy5cvx9GjR3Hk\n",
              "yBEj2pYyMqlKfLyQbJZlwTIIhGR3xS7DMIFHsN26ljbNY6VJfUFR9w7DGVKUg5ljBkTdE9Tafz2K\n",
              "AlsOxE9S91Ozt0Fz//WkhHR2D1p5Dp9/34DDGguJH2rSlrrhJ+L6g1E1F5H49TcKIyrApILcLDOG\n",
              "FjtoT7AbotsRPvroo2hqasKtt96K1atX48wzz8Svf/1rI9qWMpJVmSIV6AnJNsLuvsZWzWOlR30h\n",
              "2e087hR0Xdcv9jRqOv+nu+o7ten2+PDNoZNY/4M2m1sONmtua02ttrH6WoeiBmDM9TcKo4R5id6L\n",
              "poX0c889N6q8kqIoqKiowKpVq3D77bcnu20pI92pA3owKiRbq93ygizNY6VHfSHZ7Sx2WGAxcZrb\n",
              "es6QAvzhn52f/0enF+KTnfVRbXq8Ig6eaIVPUnDdc5sQw6dEMHpAruZ7UGs79YwpYMz1N5K+dgtu\n",
              "v3gobpk8OGMivInui6YZ4ZIlS7B48WIsXrwYw4cPx9ChQ7Fw4ULcd999KC8vx+DBg41up6Fk0r6D\n",
              "PyRbVhAhTeUPya5MICRbq92iHJvmsRpWmhcz+MIPy0CzSoOeduZmmXVd19Gn5ms6/7hBfaPa9HhF\n",
              "/NDghk9SA04YRg0+6QwTqy4Da23r6FPzkz6mgDHXPxXEE4YmCK1ocoTnn39+4LFz506sWLECF110\n",
              "ES699FK8+OKL2L17t9HtNJxM2ndYcmUFHFYeXkmBV5Tgk2V4RQleSelSSLZWu3rGauG0YXHPef8V\n",
              "8V/vSjv1tvWuS+LXUfW/Hmyz0SWgpc2H2kY3ZEWNrrTwbCCApzOnFawkobWtiY5pZ8rtEeMqdf36\n",
              "E0QmoLvo9umnn45vv/0WFou6LiKKIs466yx8+23sXKlUk2jR7QaXgJUb9mPNtmNo80qwmTlMHd49\n",
              "8wh3H3fi/ne24uuDJ5OWR6jHrp6xevLj7/GHtZE/lu66ZCjmX3Caoe3U29bfrf4Of9kQWTv3pqqB\n",
              "WPSTDge761gLFr6zFV8faoYoqTMmQHWC/vQGBQoEnxw1YIgBkJdlQlGONaQYtNa2vrBuHxa/tx3B\n",
              "k85ouZmAvpy/TXsbUP36NyFpJP3yrHjsmtEhqh6Z9FkhiM7Q7QgfeughrFq1CrNmzYLZbMaqVasw\n",
              "fPhw/OlPfzKqjbrpqvpEb6wsk6jdzsYquC4kq8gQFQY8o0BmWAwpcuDJLgY36Ol/Z2315yc6PWKI\n",
              "82KgJj/7876C+2TmWSgKcLTdcbAMYObUqNtwRziwwAZJVpPTLby6zybKClbdNjFiDLTeg/Gq9QDR\n",
              "63J6RVXoN3z8g481cQw4loUky/BJSsxrlUmfFYKIhe4d7d/+9reYMGECPvzwQ7S1teHnP/85rr32\n",
              "WiPaljaSUXk+VeRmmQ0Jx9Zqt7OxilYXElD3k/w5Z12RdtLT/87aGpyfGF4Oy5+f+Pq8qog+ibKM\n",
              "Y80eKFDTQURZLU0XDAMgy8yDD7IbL7BE6z04rDQv7n5g9Lqc0cc/kWuVSZ8VgohFQqFdF1xwAS64\n",
              "4IJkt4XoYWjNz+yKtFOy6DQ/sV0yJ1oeHc+ysJlYtLYnDUqyAp5T2nPxAEkBrCY2xAkmKg8UTmd6\n",
              "iFrHH0DGXCuCSDbpzwcgeizplnbSQ1fz6Pr1seGHejVgRgEgSgoURd075Fi1r01ur1oLMwnyQFr2\n",
              "/dItQ0UQmYLuhHqC0Eom1YX059EpMVIelPaAHH8eXXifrCYegwuzA3VSFXTUlHx17gTMmVietORv\n",
              "rbU+9Yx/Jl0rgkg2dFdHIZMCAIxqazLshssggQFEUQbPq8WHk7E0mCzCJXMk/9SOATiWCUjm+PPo\n",
              "okk78SyLHJsJM8/qh+ljBoQE8IwvL8CMMaXYccyFM0u6ptQevJfnH1OHjYdD4UP28vSOf/Cx4XuE\n",
              "3elaEUSySYkjdLlcuOOOO7BixQr4fD7wPI8XX3wR9913H/r37x847s0330T//v0xefJkNDc3B1I0\n",
              "Ro0ahWeeecbwdmaSDJNRbU223dlVZfhkZz22H2lGkAoSeBYRMkjpZsmVFZj2f/+CENxQRV3mtHII\n",
              "yaOLJ+308/MGh4zVhj0NuPONLTjS3FH2LlpKghb8+34sGNQ2uuFpj0plANjMHLLNfMhenp7xn11V\n",
              "hk37TmBPnRMWnkvaMi5BdHdS4ggfffRRTJkyBStWrAh5/uc//zkeeOCBqO95++23UVZWZnzj2okW\n",
              "Zu5fbtq4r6nLYf7JxKi2GmG3wSlgX4M75EsYAEQZ+KHejSa3t9uM69e1JyDEqBXtkYBvD53E0GJH\n",
              "mLRTR8eiSTtt2NOAG57fhLAiLDh80oPrntuIV+dO0OUMXYKI5jYfGlwCgk0qAFq9EjxeCRzLBPby\n",
              "9Iy/v4ZncH5gulXeCSIVpGSPcNGiRZgxY0bE888//zzOOussnHfeefjrX/8aeJ5hGMycOROjRo3C\n",
              "tddei++//97wNmaSDJNRbTXCrirtJAakffwPVdopcckoI9AqmaRH2unON7YEnCDDdDwAQJKB6te3\n",
              "6Gqj3cLjZGuHEwy3KQNobvMG9vL0jr+/hufqX0zCqtsmYvUvJuH2i4eSEyR6NGkLlpk1axb279+P\n",
              "zZs346mnnsI999yDjz/+GADw/vvv46uvvsLmzZsxadIkTJ06FT6fL6odQRDQ0tIS8pAkfRIwmSTD\n",
              "ZFRbjbAbTdrH/7+uSEYZgVbJpO1HTmqWdqpraQssh4bXrPf/ffikB3UtbZrbKfikwHJseHyr/2+v\n",
              "KEPwSV0af6rhSfQm0uYIrVZrQNFixIgRmDdvHt5//30AqvgvAHAch/nz54NhGOzYsSOqnaVLlyI3\n",
              "NzfkUVNTo6stmSTDZFRbjbBrlGSUEWzRKFu0ad8JzeO0r1GbdqDW4wB1TMF0RKZC6XgEVj8ZBsed\n",
              "QkaNP0Gkk26TPiHLMnJycnS/tmDBAjQ3N4c8xo0bp+vcmRQ6blRbjbCrNSVBr2SUEYwekKvpuPHl\n",
              "fTSPU3lBliabWo8D1DHlWAYcA/BhDo5vf55rH9NMGn+CSCdpc4SvvfYaPB61PuPhw4fx4osv4uqr\n",
              "r8ahQ4ewdu3awHEvv/wySkpKYgbOWCwW5OTkhDw4Tt9yTibJMBnV1nC7oizD4xUhynLCdrsiGdXc\n",
              "6sXu486ULZsOKcqBqZNPg5ljMKw0T/P4F+XYUJqrOhlFiXwAavRoUY5NczuDx5RjAIuJDTw4BiFj\n",
              "apRkF0H0NNI2xTl+/DjGjx8Pk8kEURTxxBNPYNiwYWhqasKzzz6Lu+++GwBQVlaGN954w/D2ZFLo\n",
              "uFFtNSLVYcmVFZi5fD2cHhGsLIFpn6HICqJKRu082oKFq7diy6HmpKpqaGHpjJG4643YKioPTa8A\n",
              "oG/8H59ViWuf3YhokzKWAR67ZrTudoaOqRJ3TPWOP0H0RnSrT2QCvUGGyYi27jzagplPb4i6D2i3\n",
              "8Fh128SEnJFWyaRg9QeWQcSXtl/9wUje/M9B/HbVd/AG/RIwcwweml6BmWMGBJ7TOv71TgE3PV+D\n",
              "ncdaIiSTzijJwUv/PS6h66VHhsooyS6C6CmQI4xCb60sc/XT6/Fl7QmYOSYkwEKRFXglBePK8/H6\n",
              "vKqE7XcmmRR8/nD1h2ScXw976lqw5WAzRg/IxZCi6PvTQOfj//jaXXhl0wEU2i1QoEZ0mnkWDIB6\n",
              "l4Abxg/skvqGHhkqoyS7CCLTSX/0Rzckk6RlktXWeOoLDMsE1BeaW70Jf4nGk0zSqv7QlfPrYUhR\n",
              "TlwH6Cfe+EdLSTEFpaYkQ9FBjwyVUZJdBJHpdJuoUSK9pDvUPt3nN4JMSsshiN4MOUICQPpTHdJ9\n",
              "fiNIRVqOxyehwSV0i2IPBJGp0NJohpOsfZ9w9YXwPUK/+kJXznGwyRVTfSH8/OF7hLHOb9R+bry2\n",
              "aj1/uPqDHkWHzvrlL46+ZusxuAUJ2RYOl404JW6wlJ57JZP2yQmiq5AjzFCMSDNYcmUFpj+1Xl2q\n",
              "C6vSbLckHmq/5tujuPvNLXB5O2ZGDguHP14zGpcMKwk5v9ZQf6PUN7S2Vev59aa6aLFb7xRwy8r/\n",
              "YMeRFniDchmf/dde/HtPA56ZPSakDXrulUxSYCGIZEFRoxmIUWkG9U4B//2XL7H9SDOCV/N4FhhW\n",
              "movn55yt+8twzbdHceurm2O+/uyNY0IcjJZQ/2gqGV5RhkeUMKTIkbD6hta26j2/nlQLLXaXvLcd\n",
              "f9lQGxgfhmGgKErg759NLMNvLx8GQN+9YtS4EkR3hxxhBmJUmkFwqH+4iGuiof4jFq4JmV2F47Bw\n",
              "+G7RlIjn4y3jBbczfLmxKykJWtua6Pn1pFrEsnvL5MGY9PAnONHqhZljA/V6AUBRFHglGX2yzFh3\n",
              "7wWwmjhd94pR40oQ3R0KlskwOk0zSFDRITzUn2dZWM08eJZNWH3iYJMrrmMBAKcg4WCTK+L53Cwz\n",
              "hhY7ou4JGqG+obWte+paEj5/PEUHrf06crIVLR5fu/RSaIQtwzBgGKDF40OjS9B1r2SSAgtBJBty\n",
              "hBmGUWkGRoT67zgW6eC6chxgXEqC1jZsOdicVvWPVq/fEUW//oHnGX33CqV6EL0ZcoQZhlFpBkaE\n",
              "+p9ZEjvaMpHjAONSErS2YfSA3LSqfwzokwWHhYeiKAjf1fA/l2M1oSBbn/pEJimwEESyIUeYYRil\n",
              "KGCEqsWAfDvs5vi3mMPCxU1PSEU79bR1SFFOStQ/YtnNzTJjxph+YBkGPkmBKMuQZPVfn6SAZRjM\n",
              "OKsfrCZO172SSQosBJFsyBFmIEuurIDDysMrKfCKEnyyDK8owSspXVIUmF1VhiFFDtS7BDS5vXAL\n",
              "IprcXtS7hIRVLR6bVRn39T8moL5gRDv1tNWo82u1O+/8IRg1IA9mnoGiALKiQFEAM89g9IA83Hz+\n",
              "4IBNPfeKUf0iiO4ORY1mKEYpChihavHP7cdw5+tb4BQ6Ai2i5ealu5162mrU+bXa9R/3/tajaBUk\n",
              "ZFk4XB4joV7PvZJJCiwEkSzIEWY4RikKGFFZRGu1Fj1058oyXUGrXT3np8oyBBEd2vnOcIxSFDBC\n",
              "gWNAfvIcoB+jlEK0ttWo82u1q+f8eu6VTFJgIYiuQnuEBEEQRK+GHCFBEATRqyFHSBAEQfRqyBES\n",
              "USGdO4IgegspcYQulwtz584FwzAQRbVE04svvoj+/ftjwoQJgcehQ4cAABs2bEBlZSUqKiowZcoU\n",
              "1NXVpaKZBFQFgsfX7sJPnlyH6U+tx0+eXIf/XbsbDa7MUYYnCILQQ0oc4aOPPoopUyIVBn7+859j\n",
              "48aNgUf//v0hiiKuvvpqPPPMM/juu+9wwQUX4Pbbb09FM3s9fhmeVzYdgFsQwbMM3IKIlZv2Y/6r\n",
              "X5MzJAiiR5KS9IlFixZFff7555/Hu+++C7vdjttuuw2zZs1CTU0NCgsLMW7cOADAzTffjH79+kWo\n",
              "lvsRBAGCEPoFLUm0nJcIKzfWYk+dM0SGJ9uiltjaU+fEyg37SYaHIIgeR9r2CGfNmoX9+/dj8+bN\n",
              "eOqpp3DPPffg448/xv79+1FWVhY4Li8vDyaTKeby6NKlS5GbmxvyqKmpSVEveg4kw0MQRG8lbY7Q\n",
              "arUG9NRGjBiBefPm4f3334csy+C40ERenucjigb7WbBgAZqbm0Me/tkkoR2S4SEIorfSbSrLyLKM\n",
              "nJwclJaW4vDhw4HnW1tb4Xa7UVhYGPV9FosFFktoDcRwR0p0jl+Gxy2IyI5SUlIQZditPMnwEATR\n",
              "40jbjPC1116Dx+MBABw+fBgvvvgirr76alRVVWHv3r3Ytm0bAOCFF17ARRddBJPJlK6m9gpIhocg\n",
              "iN5K2n7eHz9+HOPHj4fJZIIoinjiiScwbNgwAMDKlSsxZ84cAEBJSQmee+65dDWzVzG7qgyb9p3A\n",
              "njonLDwHC89CEFUnSDI8BEH0VEh9ggiBZHgIguht0IYPEUJfuwW3XzwUt0weTDI8BEH0CsgRElEh\n",
              "GR6CIHoLVGuUIAiC6NWQIyQIgiB6NeQIiZRBihYEQXRHaI+QMJx6p4CVG2vx4dbjaPNJsJk4TB1B\n",
              "kagEQXQPaEZIGAopWhAE0d0hR0gYSrCiRZ9sM7ItPPpkm1FotwQULQiCINIJOULCMEjRgiCITIAc\n",
              "IWEYpGhBEEQmQI6QMAy/ooVXjC6hJYgybGaOFC0Igkgr5AgJwyBFC4IgMgH6KU4YSqKKFh6fRLVO\n",
              "CYJICeQICUPpa7fgyesqQxQt7FYeVw3vHzWPkHIOCYJINeQICcPRqmjhzzncU+eEledg5tlAzuHG\n",
              "fU148rpKcoYEQSQd2iMkUobVxKGv3RJzqZNyDgmCSAfkCIluAeUcEgSRLsgREt0CyjkkCCJdkCMk\n",
              "ugWUc0gQRLpIiSN0uVyYO3cuGIaBKIb+oj9x4gSGDBmCBx54IPCcxWLBhAkTAo9nnnkmFc1MCJIW\n",
              "0k68saKcQ4Ig0kVKfl4/+uijmDJlClasWBHx2q233oqf/OQnIc+dcsop2LhxYyqaljAU5q8drWOV\n",
              "aM4hQRBEV2AURVFSdjKGgc/nA8+r/veJJ54AwzDIyclBbW1tYFZos9kwatQoCIKACy64AL/73e+Q\n",
              "k5Oj+TzV1dV47LHHjOgCgOhh/l5RhkeUMKTIQWH+QegdqwaXEJJzaDNzmDqcfmAQBGEcadtw+c9/\n",
              "/oPPP/8cq1atwosvvhjyWmNjI7KysuB0OjF//nzMnz8fL730UlQ7giBAEEI17STJ2GXK4DB/f4Rj\n",
              "tkVdwvOH+d9+8VBD25Ap6B0rrTmHBEEQySItwTJOpxO33357zL2/rKwsAIDD4cBDDz2E9957L6at\n",
              "pUuXIjc3N+RRU1NjSLsBCvPXQ1fGqrOcQ4IgiGSRlhnh1q1bUV9fj2nTpgEA6uvrIQgCjh49GuEc\n",
              "ZVmOuyy6YMECVFdXhzx3//33J7/R7egJ8+/tX+I0VgRBZAJpcYRVVVXYuXNn4O8XX3wxsEe4bt06\n",
              "FBYWYujQoZBlGYsXL8b1118f05bFYoHFErp3xHHGfan6w/zdgojsKFtWgijDbuUpzB80VgRBZAbd\n",
              "Lo/QZrPh5ptvxpgxYzBy5Eg4HA4sXLgw3c0KQGH+2qGxIggiE0jpT/FYAapz5swJ/PdZZ52Fzz77\n",
              "LDUNShAK89cOjRVBEN2dbjcjzAT80kI3jB8Iu5WHKCuwW3ncMH4gllHqRAg0VgRBdHdSmkeYKozO\n",
              "IwyGBGS1Q2NFEER3hKIUuojVxNGXukZorAiC6I7Q0ihBEATRqyFHSBAEQfRqyBESRBRIVYQgeg+0\n",
              "R0gQQZCqCEH0PmhGSBDt+JUyXtl0AG5BBM8ycAsiVm7aj/mvfo0Gl9C5EYIgMg5yhATRTrBSRp9s\n",
              "M7ItPPpkm1FotwSUMgiC6HmQIyQIkKoIQfRmyBESBPQpZRAE0bMgR0gQ6FDK8Ipy1NcFUYbNzJFS\n",
              "BkH0QMgREgRIKYMgejP085Yg2iGlDILondCMkCDaIaUMguid0IyQIILoa7fg9ouH4pbJg0kpgyB6\n",
              "CeQICSIKpJRBEL0HWholCIIgejXkCAmCIIheDTlCgiAIoldDjpAgCILo1TCKoijpbkSymT59OsrK\n",
              "ytLdjAgkSUJNTQ3GjRsHjqNAjK5C45lcaDyTC41ncklkPAcOHIhf//rXnR7XIx1hd6WlpQW5ublo\n",
              "bm5GTk5OupuT8dB4Jhcaz+RC45lcjBxPWholCIIgejXkCAmCIIheDTlCgiAIoldDjjCFWCwW/O53\n",
              "v4PFQjUrkwGNZ3Kh8UwuNJ7JxcjxpGAZgiAIoldDM0KCIAiiV0OOkCAIgujVkCMkCIIgejXkCAmC\n",
              "IIheDTnCJOJyuTB37lwwDANRFAPPb9myBZMmTcLYsWMxZswY7Nq1CwCwYcMGVFZWoqKiAlOmTEFd\n",
              "XV26mt4tiTaeEyZMCHmccsop+Mtf/gIAePfddzF8+HAMHz4cs2bNQmtrazqb3+2INp4fffQRxo8f\n",
              "j6qqKowePRoPPPBA4Phnn30WZ555JoYNG4b58+dDluU0tbx7Em089+3bh6lTp+Lss8/G2LFj8c9/\n",
              "/jNwPI1nfLxeL+677z6MHj0a48aNw6WXXoq6ujq43W5cc801gc/2e++9F3hP0j7zCpE0Fi5cqLz5\n",
              "5psKAMXn8ymKoij79+9XpkyZohw9elRRFEURBEFpbW1VfD6f0r9/f2XTpk2KoijK73//e+Xaa69N\n",
              "W9u7I9HGMxhJkpThw4crtbW1Sn19vVJUVKTs3btXURRFufXWW5UFCxakusndmmjjWVhYGLgHW1tb\n",
              "lYqKCmXt2rXK1q1blVNPPVVpbGxUZFlWLr/8cuWZZ55JZ/O7HdHG8/zzz1dWrlypKIqiNDU1KZWV\n",
              "lYrH46Hx1EBtba3yf//3f4okSYqiKMpdd92l3Hvvvco999yj3HbbbYqiKMoPP/ygFBcXK42NjUn9\n",
              "zJMjNIDgD8Zdd92l/OEPf1AuuOACZfz48cry5csVRVGUdevWKZWVlYH3nDhxQsnKygrcBEQHsRzh\n",
              "qlWrlOuuu05RFEV55ZVXlCuvvDLw2pYtW5TTTz89ZW3MJILHs6KiQvn73/+uKIqi1NXVKWeeeaay\n",
              "efNm5cEHH1TuuOOOwHveeecd5dJLL01Le7s7weOZnZ2tOJ3OwGuzZ89WPv74YxrPBFi6dKly5513\n",
              "KqeddpryzTffBJ7/6U9/qrz22mtJ/czT0qjBrF+/Hlu2bMGaNWvw/vvvY9myZfjoo4+wf//+EIWM\n",
              "vLw8mEwmWh7VwSOPPIJ77rkHACLGc+DAgaitrU1PwzKI9957D3fccQcGDRqE8vJyLFiwAJWVlTSe\n",
              "CTJy5Ei89dZbAIC9e/fik08+wfHjx2k8dXLgwAGsWLEC8+fPjzl2yRxTcoQG09DQgOrqapjNZhQU\n",
              "FODGG2/EmjVrIMtyhJQIz/O0b6CRzz//HDk5ORg1ahQARIwnjaU2brrpJixYsAB79+7F9u3bsXTp\n",
              "Umzfvp3GM0FeeuklvPXWWxg3bhwefPBBnHvuuejbty+Npw6am5sxY8YMPPXUUygrK4s5dskcU77L\n",
              "rSbiUlRUFCIZwjAMeJ5HaWkpDh8+HHi+tbUVbrcbhYWF6WhmxvH73/8+MBsEgNLSUmzbti3w9+HD\n",
              "h1FaWpqOpmUMDQ0N2Lx5Mz799FMAwKmnnoqpU6fi3Xffjbg/aTy1MWTIELz77rsAAEVRMHr0aIwc\n",
              "ORJffPEFjacGXC4XrrjiCtx111245JJLACBwLw4dOhSAOnYjRoyAoihJ+8zTjNBgpk2bhmXLlgEA\n",
              "nE4nXn75ZUydOhVVVVXYu3dv4EK+8MILuOiii2AymdLZ3Izg22+/RV1dHS688MLAc5dccgk+/fRT\n",
              "HD16FACwYsUKTJs2LV1NzAjy8vLAcRw+++wzAOqX0CeffILTTjsNV1xxBd566y04nU4oioI///nP\n",
              "NJ4aaG5uDvz30qVLMWbMGBQXF9N4aqCtrQ3Tpk3DnDlzcM011wSenzZtGl544QUAqrP79NNPcckl\n",
              "lyT1M08zQoOprq7GrbfeioqKCgDA3LlzMXnyZADAypUrMWfOHABASUkJnnvuuTS1MrN45JFHcPfd\n",
              "d4c8169fP/zxj3/EZZddBp7ncfrpp2P58uVpamFmwPM83n77bfzmN7+Boihoa2vD9OnTMWPGDADA\n",
              "vHnzcO6554LneUyaNAm/+tWv0tzi7s+zzz6L1157DYqiYOzYsYEfwWeffTaNZyf8+c9/Rk1NDdra\n",
              "2gLfhaNGjcLDDz+Mn/3sZxg7diwA1eH5Z37J+sxT0W2CIAiiV0NLowRBEESvhhwhQRAE0ashR0gQ\n",
              "3ZgjR47gsssuw49+9KN0N4UgeizkCAmiG/PQQw/h/PPPD6Q4dMYDDzyA++67z+BWEUTPghwhQXRj\n",
              "du3ahdGjR8d8/bPPPsM555yTugYRRA+EHCFBdGN8Pl9EBSKCIJILpU8QRDflxhtvxDvvvIP+/ftj\n",
              "/PjxaGxsDMjS/OIXv8CwYcNwyy234NChQxg2bBiWLFmCL774Avv378exY8dw/PhxnHLKKXjzzTdh\n",
              "s9mwadMmLFiwAIIgQJIkLF26FD/60Y8wZ84csCyLHTt2oKioCKtXr0531wkipVBCPUF0U1566SVM\n",
              "njwZ9913H8rKyuDxeDBixAi4XC6cccYZOHToEJ566incd999+OKLLwAAX3zxBf7xj3/gq6++Qmlp\n",
              "Ka644gq8/fbbuPzyyzFv3jx88MEHKC0txcGDBzFx4kQcOHAAALB792589tlnsFgs6ewyQaQFcoQE\n",
              "kQEMGDAAzz33HJYsWYLW1lY0NjbGPHbmzJmByhsVFRXYu3cv1q1bh0OHDmH69OmB41iWDaidXHPN\n",
              "NeQEiV4LOUKCyADmzZuHvn374umnn0ZeXh769esX89jgIu8cxwXU08eNG4cPPvgg6ntsNltyG0wQ\n",
              "GQQFyxBEBrB582ZceeWVyMvLwwcffIAjR44AUOuF+nw+AAg4vGhMmDAB33zzDb7++msAqjLCv//9\n",
              "b+MbThAZAM0ICSIDWLBgAWbPno3CwkKcc845KCoqAqAKwXo8HpxxxhmYO3duzPfn5+fjjTfewK9+\n",
              "9SsIggBRFHHllVfi3HPPTVUXCKLbQlGjBEEQRK+GlkYJgiCIXg05QoIgCKJXQ46QIAiC6NWQIyQI\n",
              "giB6NeQICYIgiF4NOUKCIAiiV0OOkCAIgujVkCMkCIIgejXkCAmCIIheDTlCgiAIoldDjpAgCILo\n",
              "1ZAjJAiCIHo1/x+LaGjh9qlKqAAAAABJRU5ErkJggg==\n",
              "\">\n",
              "      </div>\n",
              "      <script type=\"text/javascript\">\n",
              "        (() => {\n",
              "          const chartElement = document.getElementById(\"chart-bcf8dc4c-9c54-41a0-8a42-669f8161681d\");\n",
              "          async function getCodeForChartHandler(event) {\n",
              "            const chartCodeResponse =  await google.colab.kernel.invokeFunction(\n",
              "                'getCodeForChart', [\"chart-bcf8dc4c-9c54-41a0-8a42-669f8161681d\"], {});\n",
              "            const responseJson = chartCodeResponse.data['application/json'];\n",
              "            await google.colab.notebook.addCell(responseJson.code, 'code');\n",
              "          }\n",
              "          chartElement.onclick = getCodeForChartHandler;\n",
              "        })();\n",
              "      </script>\n",
              "      <style>\n",
              "        .colab-quickchart-chart-with-code  {\n",
              "            display: block;\n",
              "            float: left;\n",
              "            border: 1px solid transparent;\n",
              "        }\n",
              "\n",
              "        .colab-quickchart-chart-with-code:hover {\n",
              "            cursor: pointer;\n",
              "            border: 1px solid #aaa;\n",
              "        }\n",
              "      </style>"
            ]
          },
          "metadata": {}
        },
        {
          "output_type": "display_data",
          "data": {
            "text/plain": [
              "<google.colab._quickchart_helpers.SectionTitle at 0x783523d31930>"
            ],
            "text/html": [
              "<h4 class=\"colab-quickchart-section-title\">Values</h4>\n",
              "<style>\n",
              "  .colab-quickchart-section-title {\n",
              "      clear: both;\n",
              "  }\n",
              "</style>"
            ]
          },
          "metadata": {}
        },
        {
          "output_type": "display_data",
          "data": {
            "text/plain": [
              "from matplotlib import pyplot as plt\n",
              "df['father'].plot(kind='line', figsize=(8, 4), title='father')\n",
              "plt.gca().spines[['top', 'right']].set_visible(False)"
            ],
            "text/html": [
              "      <div class=\"colab-quickchart-chart-with-code\" id=\"chart-91f7bd10-5d23-441d-90ea-90b5186ab551\">\n",
              "        <img style=\"width: 180px;\" src=\"data:image/png;base64,iVBORw0KGgoAAAANSUhEUgAAAp0AAAFwCAYAAAD658D/AAAAOXRFWHRTb2Z0d2FyZQBNYXRwbG90\n",
              "bGliIHZlcnNpb24zLjcuMSwgaHR0cHM6Ly9tYXRwbG90bGliLm9yZy/bCgiHAAAACXBIWXMAAA9h\n",
              "AAAPYQGoP6dpAAA9D0lEQVR4nO3deXiU9b3//9csWUhCNhKysCSErewgkKK4VSiiJbaKFatdrC1i\n",
              "lYMtP20vbL/fqkeLRyueqpWq8fitXU5ti1ZKaw8VaKsIUo4LFFAhgQAhkH2dLLP9/phkck8y2Wcy\n",
              "k+T5uK5cnbnnXj6hI758fzaT2+12CwAAAAgic6gbAAAAgOGP0AkAAICgI3QCAAAg6AidAAAACDpC\n",
              "JwAAAIKO0AkAAICgI3QCAAAg6AidAAAACDpCJwD0ktvt1vr16zV+/HjdeeedoW4OAAwphE4A6KXX\n",
              "XntNO3fu1NGjR/Xss892ed4HH3ygZ555xudYdna2fvOb3wS7iQAQtgidANBLx44dU25uruLj42U2\n",
              "d/3Xp7/QCQAjHaETAHrJbrfLarWGuhkAMCQROgGgFz73uc/pxz/+sV555RWlp6frlVde0YoVKzRx\n",
              "4kSNHTtW1113nWpqarR+/Xrdc889OnHihNLT03XTTTd571FcXKxrr71Wqampmj59unbt2uXz2U03\n",
              "3aSMjAyNHz9e11xzjY4dOyZJeuCBB3TppZfqG9/4hsaOHas77rhj0H9/ABgoQicA9MKf/vQn3Xvv\n",
              "vVqzZo3Onz+v4uJi3X///Tp58qROnz6tqqoqPfvss3rmmWf0k5/8RFOmTNH58+f129/+1nuPxx57\n",
              "TPfee6/Kysr0/e9/X7fffrskqbm5Wddff73WrVunkpISnTlzRtddd51Wr17tvXbv3r3Kzc1VaWmp\n",
              "nnrqqUH//QFgoOgnAoB+2LhxoyoqKvTmm2/q5MmTstvtOnHiRLfX3HHHHbrqqqskSTfeeKO+9rWv\n",
              "qbKyUm+88YY+/PBD3Xrrrd5z3W63bDabampqJEkzZ87UunXrJEnR0dFB+q0AIHgInQDQD3fffbd2\n",
              "7dqlG264QVlZWcrKypLT6ez2mpkzZ3pfx8TESJJqa2tVVFSkRYsWae/evV1eO2HChMA0HABChNAJ\n",
              "AH20Z88e/epXv9LZs2cVFxcnSfrwww9ls9m6vc5kMvk9npGRoWPHjslms3nDKAAMN4zpBIA+ampq\n",
              "ktPpVEVFhSRpx44d+sUvfuH9PCYmRrW1tWpqalJBQUGP97vxxhsVHx+vu+66S3V1dZKk48eP67nn\n",
              "ngvOLwAAIUDoBIA+WrFihb785S/roosuUkZGhl555RV95Stf8X6+bNkyjR8/XomJibruuuvkcrm6\n",
              "vd/o0aO1a9cu1dbWaurUqUpPT9eNN96o2NjYYP8qADBoTG632x3qRgAAAGB4o9IJAACAoCN0AgAA\n",
              "IOgInQAAAAg6QicAAACCjtAJAACAoCN0AgAAIOgInQAAAAi6sA6dP/nJT0LdBAAAAARAWIfOoqKi\n",
              "UDcBAAAAARDWoRMAAADDA6ETAAAAQUfoBAAAQNAROgEAABB0hE4AAAAEXZ9CZ0tLi37wgx9o/vz5\n",
              "ys3N1dVXX63S0lI1NDRozZo1mjVrlmbNmqUdO3Z4r9m+fbv3+M033yybzRbwXwIAAADhzdqXk0tK\n",
              "SpSWlqb33ntPZrNZ9913n5588km5XC6lpKToyJEjKiws1CWXXKKjR4/K5XJp7dq12r9/vyZNmqS7\n",
              "7rpLDz/8sH70ox8F6/cBAABAGOpTpTMrK0v/9m//JrPZc9mYMWNkt9v12muvad26dZKknJwcXXzx\n",
              "xdq5c6d27typpUuXatKkSZKkdevW6dVXX/V77+bmZtXW1vr8OJ3OgfxuAAAACBP9HtN5+vRp5efn\n",
              "a/369SoqKlJ2drb3s6ysLJ06darL4/5s3rxZCQkJPj8HDhzob/MAAAAQRvoVOmtqarR69Wo9++yz\n",
              "ys7OlsvlksVi8X5utVrlcrm6PO7Ppk2bVFNT4/OTm5vbn+YBAAAgzPRpTKck1dfXa9WqVbr33nu1\n",
              "YsUKSVJmZqaKi4s1bdo0SVJxcbFmz54tt9utI0eOeK8tLi5WZmam3/tGRUUpKirK55gxsAZbaW2T\n",
              "nG63931STKSiIwbv+QAAAMNZn0JnY2Oj8vLydNttt2nNmjXe43l5eXrppZe0efNmFRcXa8+ePXri\n",
              "iSfkdrt1//33q6SkRBkZGcrPz1deXl7Af4lA+OJz+1RU0T6zPj7aql+vXaLZ4xJC2CoAAIDhoU+h\n",
              "88UXX9SBAwfU2NioF154QZI0b948Pfroo/r617+uRYsWSZLy8/O9Fc0nnnhC1157raxWq6ZPn66t\n",
              "W7cG+FcIjtomh/58uITQCQAAEAAmt9vQpxxmNm7cqC1btgzKs374+r9UVt+saptd7xRUSJJuXzpJ\n",
              "/zdv5qA8HwAAYDjr85jO4erBz8+WJP2ruEarnn5bktTCkk0AAAABwTaYHURY2v9I7I6wLQIDAAAM\n",
              "KYTODiKt7X8kLU7/yzsBAACgbwidHURYTN7XhE4AAIDAIHR24FPpdBA6AQAAAoHQ2UGkcUwnlU4A\n",
              "AICAIHR2QKUTAAAg8AidHRgrnYROAACAwCB0dmAxm2RqnUtE9zoAAEBgEDo7MJlM3mpnM5VOAACA\n",
              "gCB0+tEWOql0AgAABAah04+2yUSs0wkAABAYhE4/2rbCZBtMAACAwCB0+kGlEwAAILAInX60bYVp\n",
              "ZyIRAABAQBA6/Yi0WiRJzVQ6AQAAAoLQ6Ye3e93hktvNuE4AAICBInT6EdnavS5JDhehEwAAYKAI\n",
              "nX6w/zoAAEBgETr9iDDsv84C8QAAAANH6PQj0kKlEwAAIJAInX5EGLvXqXQCAAAMGKHTjygqnQAA\n",
              "AAFF6PTDOJHI7mT2OgAAwEAROv2IoNIJAAAQUIROP3yWTHI6Q9gSAACA4YHQ6YdvpZPudQAAgIEi\n",
              "dPoRyex1AACAgCJ0+mHcBtPOmE4AAIABI3T6QaUTAAAgsAidfrANJgAAQGAROv0wVjqb6V4HAAAY\n",
              "MEKnH+y9DgAAEFiETj98dyQidAIAAAwUodMPKp0AAACBRej0g4lEAAAAgUXo9MNnySQqnQAAAANG\n",
              "6PTDZxtMJ9tgAgAADBSh0w8qnQAAAIFF6PQjkjGdAAAAAUXo9INKJwAAQGAROv1g73UAAIDAInT6\n",
              "EWExeV8TOgEAAAaO0OkH3esAAACBRej0g4lEAAAAgUXo9INKJwAAQGAROv1gG0wAAIDAInT6YTWb\n",
              "ZGqdS/T+6WqCJwAAwAAROv0wmUzeaqfD5daqp94meAIAAAwAobMLOSmx3tcfX6jTRyV1IWwNAADA\n",
              "0Ebo7MIztyzwdrFLUkFZfegaAwAAMMQROrswZexoPf+VRd73hYROAACAfiN0diMntb2LvaCsIYQt\n",
              "AQAAGNoInd2YmBwjq9nTx073OgAAQP8ROrsRYTFr4pgYSdLJ8ga5XO4QtwgAAGBoInT2ICclTpLU\n",
              "7HCpuLoxxK0BAAAYmqyhbkC4mzw2Vm8e87xe/9/vK2FUhN/zLp0yRndcPnkQWwYAADB0EDp7MDk1\n",
              "zvv6wzPVXZ73j0/KdMnkFM0elzAIrQIAABha+ty9Xl9fr7Vr18pkMsnhcEiSTp48qWuuuUaLFy/W\n",
              "okWLtHPnTu/5zz//vGbMmKGZM2dq/fr1crmG1s4+V89K12TDLPbunKpghjsAAIA/fa50Pv7441q5\n",
              "cqXy8/O9x77+9a9r7dq1uvXWW1VVVaVly5bpiiuu0IkTJ/TII4/o/fffV1JSkvLy8pSfn6877rgj\n",
              "oL9EMCWMitCbG69QbZPD7+fbPyjW/3n9iCSpqqFlMJsGAAAwZPQ5dD744IOdjh08eFA7duyQJCUl\n",
              "JWn27Nnau3ev9u/fr9WrVys5OVmStHbtWm3dutVv6GxublZzc7PPMafT2dfmBYXJZOpyLGdm4ijv\n",
              "6yqbfbCaBAAAMKQEZPb63LlztW3bNklSYWGhdu/erQsXLqioqEjZ2dne87KysnTq1Cm/99i8ebMS\n",
              "EhJ8fg4cOBCI5gVVYkyk93UllU4AAAC/AhI6X375ZW3btk25ubl65JFHdNlllyklJUUul0sWi8V7\n",
              "ntVq7XJM56ZNm1RTU+Pzk5ubG4jmBVVybHvorLIROgEAAPwJyOz1KVOmaPv27ZIkt9ut+fPna+7c\n",
              "uXr77bdVXFzsPa+4uFiZmZl+7xEVFaWoqCifY8bAGq6SqXQCAAD0KCCVzpqaGu/rzZs3a+HChUpL\n",
              "S9OqVau0bds21dXVye1268UXX1ReXl4gHhk2Rkdb1bpTpqq7GdNZbWshlAIAgBErIKHz+eef10UX\n",
              "XaQFCxbo5MmTevrppyVJixcv1rp163TZZZdp8eLFysjI0IYNGwLxyLBhNpuU1Frt7CpUFlU06NM/\n",
              "2qUlP9qlE6V1g9k8AACAsGByu91hu6H4xo0btWXLllA3o0fLt/xdJ0rrFRNp0dGHVnb6fMN/v6/t\n",
              "H56TJH12Zppe+OqiwW4iAABASLH3egC0jeu0tTjVZO+8zFORYdH4k+UsIA8AAEYeQmcAJMa0r+Hp\n",
              "b1ynK2xryQAAAIOD0BkAxmWT/I3rLKlp9L4urW1SGI9oAAAACApCZwAkGUJndYe1OmtsdpXXtx+r\n",
              "bXKoglnsAABghCF0BkCSoXu9skPoLCiv73R+QWnnYwAAAMMZoTMAkgwLxFd1qGIWlnWeOFTIZCIA\n",
              "ADDCBGRHopHOOKbzhbdO6k+HS7zvi6sbO53/0z0n9PoHxZ2Ot4mLitDdn5msBROTAttQAACAECF0\n",
              "BkBKXPv2nacrbTpdaev2/LNVjTpb1TmMGlU0NOu1u5YGpH0AAAChRvd6AMwZl6ArpqV2+bnJJN2w\n",
              "YJxuXjxBJlPv7nmmh+AKAAAwlFDpDACz2aSf356rZodT/lZDMpmkKKtFkvTQ52fL1c2SSTc8+46O\n",
              "ltSqymaX2+2WqbcpFQAAIIwROgOoLVh2J9LafXF5TJxnfKjT5VZtk0MJoyK6PR8AAGAooHs9zHQ3\n",
              "Ex4AAGCoInSGGeNM+CoboRMAAAwPhM4wY9zHndAJAACGC0JnmPHdx90ewpYAAAAEDqEzzDCmEwAA\n",
              "DEeEzjDjEzrpXgcAAMMEoTPMJMUyphMAAAw/hM4w4zumk9AJAACGB0JnmPHtXu/bRKJqW4taHK5A\n",
              "NwkAAGDACJ1hJjrColERnp2N+jKR6M2jF7Tg3/+qlf/5DzXZncFqHgAAQL8QOsNQWxd7X8Z0fvPl\n",
              "g3K7pcLyBh08VRWspgEAAPQLoTMMtU0mqrLZ5Xa7ezz/6Llan/enKhqC0i4AAID+soa6AeisbVyn\n",
              "0+XWF559R2ZT9+eX1TX7vC8sI3QCAIDwQugMQ6lxUd7XH56p7vP1heX1AWwNAADAwNG9HoZuXZKl\n",
              "jIToPl0TZW3/v7KgjNAJAADCC5XOMLQwK0n7Ni3r83XXPfO2Dp2t0dmqRjXZnYpunQUPAAAQalQ6\n",
              "h5GclFhJktvNZCIAABBeqHQOI5NT47yvN716WCmGsaEpcZG668opmpAcE4qmAQCAEY7QOYxMHtse\n",
              "Ot8/Xd3p88YWp/7z5gWD2CIAAAAPuteHkSunp2qKIXh29MkFJhgBAIDQoNI5jMREWvXX71yu8nrf\n",
              "nYw+/8zbOlfTpPO1TUF57sfn61RcbZMkjY6O0EUTk1Ra16RjJZ5F6yMsZi3OTmZiEwAAIxihc5gx\n",
              "mUxKHR3lcywzcZTO1TSpsqEl4LPat394Thv++32fY5dNTdG+ggo5XO27Kc0dn6DX714qk6mHle4B\n",
              "AMCwRPf6CJBuWPPzfE1gq53/c+R8p2NvHS/3CZySdOhsjS7UNnc6FwAAjAyEzhHAuNB8SYBDZ9uW\n",
              "mxazSRP9zIzPSY01nMuYUgAARipC5wiQnjDK+/p8bWPA7utyuXWydcvNrOQYfXpScqdzvrhwgvc1\n",
              "OyUBADByETpHgGBVOs/VNKrJ7pIk5aTGKSfVd+Z8SlykFkxM9L4vKGPBegAARipC5wiQEaQxnYWG\n",
              "EDk5NVaTDV3pkpSTEuezYD2VTgAARi5C5wiQYeheD2Sl0zhGMyc1tlOlMyc1VilxkRodbW09n0on\n",
              "AAAjFaFzBEgdHSWL2bNUUSArnQU+lc64ThOJJqfGyWQyecNocXWjGlucAXs+AAAYOlincwSwmE0a\n",
              "OzpKJTVN+uh8ra79yVsBue+ZKpv3dU5qnCKtvv8NMynF090+OSVWH56pliRd98zbirB4zrtyeqru\n",
              "u3o6a3cCADACEDpHiHGJo1RS0yS7062jrTsFBUpybKSSYyO9rysbPDsiZad4Kp9T0tq73Y+XtnfJ\n",
              "Hy2p1TWzMzRnfEJA2wMAAMIP3esjxLeunKy0+ChFWs0B/UmMidDGz07zPue5ryxU1pgYfXnJRE0Z\n",
              "O1qSZ9mkWZnx3mvauvolebfPBAAAwxuVzhFi2Yw0vTsjLejPWZydrL/f9xmfY6mjo/SnDZd537/y\n",
              "z9P63rbDkqTKBnvQ2wQAAEKPSicGXWJMpPd1la0lhC0BAACDhdCJQdc2/lOSqhoGL3TW2Oz6P3/4\n",
              "l57/R4HcbnfPFwAAgIChex2DLslQ6awcxErnrw+c1i/2F0mSJibHaOXsjEF7NgAAIx2VTgy6pJgI\n",
              "7+tq2+CN6fzNP097Xz/2Px8P2nMBAACVToRAwqgImUyS2y3v8kp95Xa7deRcrdLio5U6OqpX16TH\n",
              "R6uowjNbvrCsQa9/UKzI1jVDs1NiNSMjvl9tAQAAPSN0YtBZLWYljIpQtc3e74lE2z88p3t+84ES\n",
              "RkXoH9/9jBJGRfR4TVl9s8/7e37zgc/7l2/P1eXTUvvVHgAA0D261xESbeM6+zuRqC0w1jTa9Zd/\n",
              "lfR4vtvt7nEL0D+8X9yvtgAAgJ5R6URIJMVE6KSk2iaH7E6Xd2vM/ujNWp+1TQ7ZWvd9Hx1t1Yar\n",
              "psotzwz2LX/9RE12l/YVVsjtdrMtJwAAQUDoREgYZ7BX2+y9HpcpSS6X73JHpyt73tXIWOW8ela6\n",
              "1l6e433/1vFyvXW8XCU1TTpVYfPuGQ8AAAKH7nWERFJs/xeIP1/r201eWFbfxZntSmoava8zEqJ9\n",
              "Prt48hjv62f3nFCT3dmn9gAAgJ4ROhESA1kgvqBDyCwoa+jxmhJDpTO9Q+i8ZHKK9/Xv/vesPv/M\n",
              "XrU4XH1qEwAA6B6hEyGRaFirs6+VzsIOIbO8vlk1jd2P6zSGzo6VztmZ8UqLb+/e//hCnXZ/VNqn\n",
              "NgEAgO4ROhESycZdiXoxEcioY6VT6rmL/byhez09fpTPZ1aLWT+/PVdzxiV4j/3u4Jk+tQkAAHSv\n",
              "zxOJ6uvr9Z3vfEf5+fmy2+2yWq1688039f3vf19ms1mNjY36whe+oAceeECS9Pzzz+vJJ5+UyWTS\n",
              "VVddpaeeekpmM1l3pDOO6Xxi58d68e3CXl/rb+mjb/3yPcVGWXp1TWZidKfPP5Uerz/cvVSX/sdu\n",
              "ldQ0ac/HpVr2xN963ab+mjI2To/eMNfnzwMAgOGoz6Hz8ccf18qVK5Wfn+89dsstt2jHjh3Kzc1V\n",
              "Y2OjPv3pT+vSSy9VRkaGHnnkEb3//vtKSkpSXl6e8vPzdccddwT0l8DQM9YwW72ioUUV/Vyvs03H\n",
              "yUVdiYuydrmQvMVs0o0Lx+vp3SfkcvdurOhAFZQ1aHH2WX3zspyeTwYAYAjrc+h88MEHOx1LT09X\n",
              "aalnDFx9fb0cDofGjBmj119/XatXr1ZycrIkae3atdq6dSuhE5o/IVFfmJ+p3R+Vyt3z6Z3ERFq0\n",
              "YdlUvfVJufYWlPfqmugIi/7tqindrsN5+9JJ2l9YoY/O1/WjVb3ndLm964aeq+5dYAYAYCgLyDqd\n",
              "O3bs0LJly7RhwwaVlpZq69atWrBggX72s59p1qxZ3vOysrJ06tQpv/dobm5Wc7PvNoVOJ0vXDFcm\n",
              "k0n/efOCAd/n1k9nBaA17ZJiI/W7Oy8J6D39KSir17In/i6p7xOpAAAYigIyuPJrX/uaNm3apMLC\n",
              "Qh09elSbN2/W0aNH5XK5ZLG0j7OzWq1yufwvRbN582YlJCT4/Bw4cCAQzQPCju9EKkInAGD4G3Do\n",
              "LC8v13vvvafbb79dkjRx4kRdc8012r59uzIzM1Vc3L6fdXFxsTIzM/3eZ9OmTaqpqfH5yc3NHWjz\n",
              "gLAUPypC5tZefiqdAICRYMChMzExURaLRX/7298kecZ07t69W1OnTtWqVau0bds21dXVye1268UX\n",
              "X1ReXp7f+0RFRSk+Pt7nx1glBYYTi9mkxNZqJ6ETADASDHhMp9Vq1Wuvvabvfe97crvdamxs1A03\n",
              "3KDVq1dLktatW6fLLrtMVqtVS5cu1YYNGwbcaGA4SIyJUGVDi6r6uE4pAABDUb9Dp9vdPuf4iiuu\n",
              "0P79+/2et3HjRm3cuLG/jwGGreSYSBWqQfXNDrU4XIq0Bmb92rK6Zu0rrJDL5bsuQEykRZdNTdWo\n",
              "yND0IBRVNOj909WSJLPZpEsmj1FKXFT3F/lRY7Pr7RPlcrndWjolxWdLVSO3262DRVUqrvJsDBAb\n",
              "ZdVlU1MUHeH5/VscLh04Wak54xKUEON/GS0AQOAEZPY6gL4zLghfbWvR2PjOi9b3VZPdqeueedtn\n",
              "20+jq2el6bmvLBrwc/rqXHWjPvvkP3z2tM9MiNae+65UlLX3IdjtdutLL+zX0ZJaSVL2mBi9ufEK\n",
              "WS2dA/vv//es7vv9IZ9jefMy9fSXPKsmPPyno3p5X5GmjI3Tzm9fLrO566W0AAADx9ZAQIgkGapr\n",
              "lQEa1/nJhbouA6ck/e3jsk4V0MGwr6DCJ3BK0rmaJh2/0P32pR2V1jV7A6cknaqw6VSFze+5f/u4\n",
              "rNOxPx06p/M1TapptOvlfUWSpBOl9Srp5eYCAID+I3QCIWKsdAZq2STjvvTXzknXA3kz9UDeTM3K\n",
              "jJckNTtcKq5u7OryoDG261Ppo/0e79V9Sjuf39U92o5bzSZdMztdkuRyS9veO6vtHxT7nuvnvgCA\n",
              "wCJ0AiFiXKuz2haYyUSFhq07b1gwXrctnaTblk7SpVNT2s8pD/72nt2168aF472v+7rVaIGfthf6\n",
              "uYfL5dbJ1nOzxsTo/mtneD97YufH+uH2Ix3uQegEgGAjdAIhkhSEBeKNVb/JY+PaX6e0vw5FwGpr\n",
              "V6TFrCumpXY63lv+2u7vHsXVjWpu7c7PSY3ThOQYLZ0yRpKn2tlxhEFfwy8AoO8InUCIGLvXqwIU\n",
              "OtuqfhEWkyYkjfIez0mN7XTOYHG63CpqHXeZNSZG2SmxsrZO2ulrW/yd7y+IGqu5bb/7D/NmaemU\n",
              "MfpU+mh9Kn20pqUZgng5lU4ACDZmrwMhkhzbPpGoKgDd605Dl/LE5BifGd2TU9sDVl+riwN1tsqm\n",
              "FqfL244Ii1kTk2NUWN6gk+X1crncvZ453tb20VFWxUVbVVLTpIKyBrndbplM7fcwjtFs+92npY3W\n",
              "r765xOd+8x/aqWqbfdCDOACMRFQ6gRBJNHSvB2JXonOGLmVjyJQ8VdW22fKDHbCMIbet6pjT2r4m\n",
              "u0vnano3sanJ7vROgspJjfXeq6bR3ml4grFyOdlQ5e0oJ8XzWUlNkxqaHb1qBwCgf6h0AiFinEj0\n",
              "xr9KdLCockD3a7a3L0mU0yF0Sp4gerCoSudrm3TZY7sH9Ky+aGh2+rTB87+xevOY59gNz76jqIie\n",
              "//vX6XSrbU+Kyalxiou2au+JCknS5556WxHW9kpneV17CM1J6fxnYWzPe60L1i/f8ndZLV1XXKek\n",
              "xmnLTfN9hkUAAHqP0AmESMKoCEVHmNVkd6nJ7tKZysAtZWQcr9hmatpoHSyqkqSAPqsvpqWN9ral\n",
              "TWldc5/vMzVttOKi2//6Ot/FOpupo6O6DYnTDO3obn1TyfNn9ur7xfrGpZP62FoAgEToBELGbDZp\n",
              "0zUz9Pw/CtXscPZ8QS/NHZ+oa+dkdDr+jUsn6ci5Gp0LwTqdkkkrZqVp9jjPeqGfm5OhPx06p8PF\n",
              "NX2+U05qnNYsnqBIq1k7j5zXMcNi8UajIi36zvJp3d7ri4vGa/dHpTpeWtflOXanWzWNnjG353s5\n",
              "FAAA0JnJbdxEPcxs3LhRW7ZsCXUzAIxgJ0rrtHzLPyRJqy8arydumhfiFgHA0MREIgDoRpLPIv6B\n",
              "WdoKAEYiQicAdCNhVPvSVpWETjU0O/Td33+oH/35mFwdV9kHgG4wphMAumG1mJUwKkI1jfaALeI/\n",
              "lP10zwn99uBZSdKccQnKm5cZ4hYBGCqodAJAD9rWOA3UdqVD2cv7iryv/3r0QghbAmCoodIJAD1I\n",
              "io3UqQqbapsccjhdPrs9DcS56ka9U1ChCItJV04bq4SYiE7nVDa06B+flKmldeH/GRnxmjM+odfP\n",
              "OFZSq8NnfVcJmJkZr9njen+P/qqob9Y/jpfJ7ZYunZqisaOjg/5MAOGL0AkAPTAu5F/daFdKXNSA\n",
              "79nY4tR1z+xVeb1nndKFWUna9q1LfM5xu936cv67OtphWag/3L1U8yck9viM4xfq9Lmn3lLHoZdm\n",
              "k7R9/aUDDp7ObhY/cbncWvP8fp1o3ZI0a0yMdm28ImCBHcDQwz/9ANADny1LA9TFfrSkxhs4Jel/\n",
              "i6pU32ErzvL6lk6BU5Le+qSsV89463h5p8ApSS639OfDJX1rsB/l3Szsf66m0Rs4JamowqaiStuA\n",
              "nwlg6CJ0AkAPkmPbu72rbPaA3LOgrKHTsZMdjhUa9q2fmRHffry887X+GPegX/+ZKXrwulne9/sK\n",
              "K3rd1jYtDpcaWtqDcVc7QUlSoZ/fz98xACMHoRMAemDcSjNQk4n8hjJDSPS8bz/nhovGyWRqu9b3\n",
              "vN484xuXTtLXLsnW1LGeLVIPna1RXVPfAnRpXZOMPeolNU3qan8Rf23sbbsBDE+ETgDogXGB+KoA\n",
              "rdXpL4AVlNZ3+X5GRrzGJ43yHC9r6DLs+Vzf+ozk2EhvcL5k8hhJktPl1pN/PS5bi6PL6zs632F/\n",
              "+haHq8vKr79KLpVOYGQjdAJAD4IROgv8hc4O3ebGSufk1DhNTvVUKeubHSrrZjxl2zkXaptbr431\n",
              "Hr+4NXRK0n/tPamv/deBXgVYyVPZ7HzM/370Hau2kv/fGcDIQegEgB4kGZYyCsREIofTpdOtk2om\n",
              "p8bKavb0m3eqdLaGtNhIi9Lio5STEuf97EQPAc5YSTVed3FOikZHty9c8s9TVfrgTHWv2t2x0ilJ\n",
              "JdX+x3UWlHoCc2JMhNLiPbP9ezsWFcDwROgEgB4k+4zpHPhEojNVjbI7PdXFT6XHa+KYGEnSqYoG\n",
              "79aSzQ6nzrQG05zUOJlMJk0e216x7Kmr2vi58bqEmAi9csfFyjFUP3978Eyv2n3OT1WzxM9kooZm\n",
              "h3eSkbFCW9nQwq5OwAjGOp0A0APjRKI/Hjqnt473bsmirtidLu/rnNRYNTtcKixrUJPdpdwf7ZLZ\n",
              "JLncbu9yR20B0Vix3PznY3pq1/Eun2FrcbY/w3Cd5Fkc/o/rL1XuI2+qocWp3x48q13HSntsd01j\n",
              "58D96J+P6ekO7XAa1mnKSYlVVIRZ7xR4Zssv2/J3b2XXyGSSls9I08NfmC2TqfPnAIY+QicA9CBx\n",
              "VISirGY1O1xqcbhU2sN4yr6YljZaLrdbbx7zbClpXLvTeI4kTU2Lk8kkud1SQ4tTDYZg2dMzOoqN\n",
              "smrV3Ey9cvCMnC53v3+nntoxPX20oqztnWrdzf7/1bun9fn545Q7KblfbQEQ3gidANADq8WsH6ya\n",
              "qf96+6R3O8pAmD8hUVfPStfi7GS9f7paRRWdF0/PSY3Vl3InSpJS4qJ074rpeuWfZ3yqiV0xm6XP\n",
              "zxvn7b7v6DufnaaTFQ0qrvI/GcifSKtZty/N1rmaJv3xw3Pqbg7SlLFx+uLCCbJYTPrbx2X66Hyd\n",
              "3/Oa7E5VtIbRdwrKCZ3AMGVy93baYghs3LhRW7ZsCXUzAABBdLbKpkv/Y48k6dOTkvXKuotD3CIA\n",
              "wcBEIgBASI1PitHEZE819v3T1Wrs5bABAEMLoRMAEHJti9a3OF3636KqELcmOJ7ZfVxrXz6os1Xs\n",
              "QY+RidAJAAg546L1bZOqhpNDZ6v1452f6K9HL+ihPx4NdXOAkCB0AgBC7sppYxXZOsv9Dx8Uq9kx\n",
              "vLrYjdXbnUeHX6gGeoPZ6wCAkEuIidDKWena/uE5Vdvsuv3//VOP3jBXE5L9z7x3udz6+/Eyna1s\n",
              "76o2mUy6dEqKslNi/V4TSMcv1Km4ulGXT02V2c+6ox1Vd7FHPRAIthaH/nr0gmoNa+nOyIjXouzw\n",
              "WgmC0AkACAtrFk/Q9g/PSZL2nqjQDVvf0Vvf/YyiIyydzn31/WLd+7sPOx1PjInQW9/9jEZHR3T6\n",
              "LFBKa5uU98zbarK79NiNc3XTogk9XnOSLUARRPe/elh/+OCcz7FvXDop7EIn3esAgLBwcc4YfSq9\n",
              "fSH7srpmfXLB/9qeb3exK1S1za5/FdcGpX1tXv/gnJrsnvVav/v7Q726prC83uc9M/QRSIeKa0Ld\n",
              "hF4hdAIAwoLZbNJ/r12iOeMSvMe62mO+sLVyaDZJP/7iPK0xVBs7BrxAq2vqW1e52+3u9Huc97Nn\n",
              "PdBfrtbNImIjLdpy0zxtuWmePj8/M8St6ozQCQAIG0mxkdqwbKr3fWFZ5wDpdrtVUOo5Pj4pRjcu\n",
              "HO/zL9iugmqgnOmwg1NPe6ycr22SrUNls6Sm97tAAT1xtn4HR0VadMNF43XDReM1d3xiaBvlB6ET\n",
              "ABBWJqe2TwQq8BMgS+uavfu957Sem5MaZ7gmuJXOjkG4p6qlvxB8voZKJwLH1bo7r9nU86S2UCJ0\n",
              "AgDCyoTkGFlbZ4T7C5BtVU5JyknxhM20+CjFRnomHAWz0ul2uzsF4YLS7p933M+41BJCJwLI0Zo6\n",
              "Lb1YSSGUCJ0AgLASYTFr4hjPUkmnKhq849XaFBhmgk8e66l0mkwmb7XzbJUtaOt8ltU1q77Z4XOs\n",
              "pzGkf/7X+U7HqHQikJytlU5CJwAAfTS5NUA22V0612H8o7F7u63S6bnGE0BdbqmoIjhbTfrr7u+u\n",
              "snqyvEEHTlZKkkZHt69SyJhOBJKrdUxnuIdO1ukEAISdHMO4zpX/+ZbPv0xtLe2VRuP4T+O4zut/\n",
              "uldWS+DrKva2kpLBr94t0mvvF/s9v8XRfv5dV07Rj3d+LKfLrT0fl2negzv71YaJyTF66ksLNGkQ\n",
              "FsHH0OBo/V5awnxMJ6ETABB2jOt1duzObpMUE6HU0VHe99MN13gmGg3OWph2p1s1jd0vo2Q1m3Tj\n",
              "wvH67cEzOlneIKer52u6cri4Rv994LTuv3ZGv67H8NM2AoVKJwAAfXTtnAzt+ahM/+pi0euoCIu+\n",
              "deVkmQyVnWWfGqsbF47Xe4Z9zoPCJF0+NVULs5K09W8FarJ3H24jLGZ99ZIspY6O0vevnaGf7Dqu\n",
              "hi6CdHfsLpfOVHq65UtZ5xMGThfd6wAA9EuU1aKnvrSgT9dYLWb9+IvzgtQi//Lm9W0B7uUz07R8\n",
              "Zlq/nlVta9H8h/4qSapkL3cYtK3TyZJJAABgwOKjI9RWyKpqaAltYxBWhkqlk9AJAMAQYDablBQT\n",
              "KUmqshE60Y7QCQAAAioxJkISlU60M65jS+gEAAABkRzrqXQ2tDiDtgA+hhaHMXSG+ZhOJhIBADBE\n",
              "tHWvS1K1za60eEu/7lNa26T/OXJezY7O6476kzspWXPHJ8rudGnXsQuanBqnqWmje74QQde2MLwk\n",
              "mcO8lEjoBABgiDCGzsqGFqXFR/frPt/4+UEd7mI5Kn8iLCbt/v+u1P8cOa+H/3RMsZEW7bt/meKj\n",
              "I/r1fASO01DptIZ56gzv1gEAAK+k2PbQ2d9xnbVN9j4FTsmzAP4/T1Xq4T8dk+Tp3v/fYK+Hil5x\n",
              "+lQ66V4HAAABkBzbXlms7OcMduNe8ZdPS9WaRRO6PPej87V6eveJTtdJUmQQthlF3zmdxjGdIWxI\n",
              "LxA6AQAYIhIN3etV/VwgvqC03vv6sikp+tzcjC7PnZUZ7w2dx0pqfT7rz65KCDxjpdNC9zoAAAiE\n",
              "5JiBd68XlreHzsljY7s9d3zSKEW0ls/2fFzq81k9oTMs+C6ZFMKG9EKYNw8AALQxjums7G/oNHST\n",
              "56TEdXuu1WJW9hhPMDVkG0lUOsOFg3U6AQBAoCXHGpdMGljojLCYND5pVI/n56T6r4bWN7NOaDgw\n",
              "zl4fVnuv19fXa+3atTKZTHI4PP+Fs2TJEp+fjIwM/fznP5ckbd++XbNmzdKsWbN08803y2azBf43\n",
              "AABghEiKMU4k6vuYTqfLrZMVntCZPSZW1l70x+ak+q+GUukMD8Z1Oq1hXuns00Sixx9/XCtXrlR+\n",
              "fr732P79+72vXS6X5s6dqyuvvFLl5eVau3at9u/fr0mTJumuu+7Sww8/rB/96EeBaz0AACNIfHSE\n",
              "zCZPV/dbx8v0qf/zRp+ud7ulltYF4buqYHaUk9JVpZPQGQ58Kp1hHjr7VOl88MEHtXr16i4/f/31\n",
              "1zVv3jxlZWVp586dWrp0qSZNmiRJWrdunV599dWBtRYAgBHMbDYpM9HTJe52S012V59+jDsQfSo9\n",
              "vlfPnJHh/zwqneHBOVK3wXzsscf0s5/9TJJUVFSk7Oxs72dZWVk6depUl9c2NzerubnZ55jTyXgR\n",
              "AACMfpg3S1v/dkK2lv7/OzJrTIy+enFWr86dPS5B6z8zRbs+KlWNrUXnapokSQ0thM5w4Ltk0ggJ\n",
              "nX//+98VHx+vefPmSfJ0tVss7XvCWq1WuVxd7/G6efNmPfjggz7HlixZEqjmAQAwLHx2Zpo+OzNt\n",
              "UJ9579XTde/V01XTaNe8B3dKYiJRuHCOxNnr//Ef/6Hvfve73veZmZkqLi72vi8uLlZmZmaX12/a\n",
              "tEk1NTU+P7m5uYFqHgAAGKDYyPZiUn1T/xanR2CNuNB56NAhlZaWatmyZd5jK1as0J49e1RSUiJJ\n",
              "ys/PV15eXpf3iIqKUnx8vM+PsVIKAABCy2oxKzrCEx0aqHSGhaG0ZFJAutcfe+wx3XfffT7Hxo0b\n",
              "pyeeeELXXnutrFarpk+frq1btwbicQAAIETioqxqsrcwez1MDNslk9q43b7bEvzyl7/0e94tt9yi\n",
              "W265pT+PAAAAYSg2yqry+hYmEoUJp2G6TLh3rwd09joAABjeYiM90SGQSya53W7tOlaqjy/U+RzP\n",
              "nZSsxdnJPsfOVNr0l3+dV4uz68nJkhRlNWvV3EylJ0QHrJ3hyGGYpB3u63QSOgEAQK/FRXmig93p\n",
              "VrPDqSjrwOdf/ON4ub758sFOxy1mk3ZtvELZrQvUu91uff3//VMnSut7dd8dh0r0h7uXDrh94cy4\n",
              "MFC4r9PJ3usAAKDXYqPaQ2agJhPtK6jwe9zpcuufpyq978vrW3odOCXpgzPVahzAeqZDwYhcpxMA\n",
              "AAx/cdHt+7/XNzmUHBs54HsWlrUHycdunKsLNU164q+fSJIKyhq8nxUYzlsxM01fXDTB7/1e3ndK\n",
              "bx0v99y7vF6zMhMG3MZw5TSUOgmdAABg2IgzVDoDNYO9LUxGWs1afdF4natu9IZOYyAtNATQy6am\n",
              "dLlI/icX6tpDZ1nDMA+d7a/DPXTSvQ4AAHqtbSKRFJitMB1Ol05X2iRJOSmxsrTuLx9l9USUwvL2\n",
              "oGkMoJNT47q8p/EzY1AdjobSOp2ETgAA0GuxUe2hMxCVzjNVjbI7PcEpJ9UzYchiNmlS6+ShoooG\n",
              "OVrLecbu9ZxuQ2es97XxmuFoKK3TSegEAAC9FmcInYFYNqmg1H/1su213enWmapGSe1Vz9hIi9Li\n",
              "o7q858QxMd6u5sLy4R06HcZKJ6ETAAAMF7EBDp3GUJhjqFAaXxeU1qvZ4dSZtm741DiZuulKjrJa\n",
              "NCFplOf+ZQ2dNrUZTlzGvdfDO3MykQgAAPSeccmk7207rE2vHh7Q/QyZSTkp7ZVOY+j85ssHZTJJ\n",
              "bdnR+FlXclLjdKrCJluLUzn3/1k95bGxo6P1nzfP15KcMX1pfsgZx3RaLOFdSwzv1gEAgLCSkTDK\n",
              "573LPbCfNpEWs0+YnJER7/McY7Gy42f+zDSc4+5FO87XNunlfaf69ocRBnxCZ5hPJKLSCQAAem1x\n",
              "dpLWXZGj/V0s6N4fVotZNy+eoNGGNUA/lR6ve1dM01+Plfokzkkpsbrl0xN7vOdtS7N1qqLB2yXf\n",
              "FbekQ2drJEnldS39+wVCyHdx+BA2pBcInQAAoNdMJpM2XTNjUJ61/qqpWn/V1H5dmxIXpWduuahX\n",
              "5878v3+RrcWpStsQDJ0smQQAADA0JMV4dlWqahh6odNnyaQwn0lE6AQAACNa21ae1Y12n9ngQ4HD\n",
              "SaUTAABgSEiM8YwldbrcqmsKzNaeg8XlM6aT0AkAABC22iqdkobcuE7jmM5w35GIiUQAAGBEaxvT\n",
              "KUlVthZNUs/rgPZXbZNdr71XrIqGFs0dl6DlM9MGdD/HEJpIROgEAAAjmrHSGezJRD/+n4/18r4i\n",
              "7/tt37pEC7OS+n0/nx2JwrzSSfc6AAAY0ZJi2tcHrbLZg/qsAycrfd4fK6kd0P2M63Sy9zoAAEAY\n",
              "SxqkSqfT5VZheYPPsYHuX+8aQmM6CZ0AAGBES44ZnIlE56ob1eJw+RwbaOh0DKFtMAmdAABgREs0\n",
              "hM7qIIbOE2X1nY7VNzsHdE+61wEAAIYInyWTgti9XljW0OlYILvXmUgEAAAQxhKNE4kagjeRqNBv\n",
              "pTOA3ethHjpZMgkAAIxo0REWxURaZGtxqtLWIrvT1fNF/XCiNPCh0zWExnQSOgEAwIiXFBMpW0uj\n",
              "TpTWa+r33wjqs+Kjrapt3W5zoN3rTrbBBAAAGDomJscM2rPmTUhUpNUTwQZa6TQWZcM9dFLpBAAA\n",
              "I979187QT3YdV21jcBeHT4iJ0HeWT9OXX3xXlY4WNbQMNHS2p05CJwAAQJibMz5B+V9bNGjPi42y\n",
              "qLJBahjokkmGSme4771O9zoAAMAgi4vyzJgf8EQixnQCAACgK3FRFklSi8PVaZeivnCyDSYAAAC6\n",
              "EhvVPsJxIDPYjaGTHYkAAADgwxg6B9LF7hxC63QSOgEAAAZZXKSh0jmAGey+e68PqElBF+bNAwAA\n",
              "GH6C0b1uDfPUGd6tAwAAGIbaJhJJUv0Alk2iex0AAABdClSl00X3OgAAALoSFx34iUR0rwMAAMBH\n",
              "nHH2elP/Q6fDRaUTAAAAXYiNDFD3OmM6AQAA0BWfdToDtGRSuG+Dae35FAAAAASSsXu9xmbv07jO\n",
              "SItZkVZP3bBtTKfZJJnCvNJJ6AQAABhksYYlk37zzzP6zT/P9PrauCirfvzFuVo5O8MbOsO9yinR\n",
              "vQ4AADDoUkZHeauVfVXf7NCvD3hCanulM/xDJ5VOAACAQRYfHaHHb5yr194v9ln2qCdvHS+XJNU3\n",
              "2SW1r9NpHQKVTkInAABACHx+/jh9fv64Pl0z7ftvqMXpUpPdJal9ySTzEAiddK8DAAAMEdERnujW\n",
              "ZPdsneliTCcAAAACbVSkZwJSY2vobFsyKdzX6JQInQAAAEPGqIgOodNJpRMAAAABFt0WOls6VDoJ\n",
              "nQAAAAiUttDZ7HDJ5XLL6ZlPNCSWTCJ0AgAADBFt3etSa/Ck0gkAAIBAa5tIJHnGdTpaS51DYZ1O\n",
              "QicAAMAQYax0NtqdaltXnnU6AQAAEDDRxtDZ4mzfe50xnQAAAAiUtsXhJc8C8U4WhwcAAECgdexe\n",
              "H7ZLJtXX12vt2rUymUxyOBze4x988IGWLl2qRYsWaeHChfr4448lSfv27dOCBQs0Z84crVy5UqWl\n",
              "pYFtPQAAwAhinEhkrHQOuzGdjz/+uFauXOlz7PTp09q0aZO2bdumgwcPat++fZo4caIcDoduuukm\n",
              "Pffcczp8+LCuuuoqffvb3w5k2wEAAEYU45jOhman97Ul/DOnrH05+cEHH+x07Omnn9by5ct16623\n",
              "qqGhQbfddpvuvPNOvfPOO0pNTVVubq4k6Y477tC4cePkcrlkNnfOus3NzWpubvY55nQ6O50HAAAw\n",
              "Uhm71+ub23udrX6yVbjpU+j055133lFOTo7eeOMN1dXV6fLLL9eUKVNUVlam7Oxs73mJiYmKiIhQ\n",
              "aWmp0tPTO91n8+bNnULtkiVLBto8AACAYcPYvd5gCJ1DIHMOfCJReXm5Nm7cqMjISI0ZM0Zf/epX\n",
              "9cYbb8jlcslisfica7Va5XK5/N5n06ZNqqmp8flpq5ICAACg60rnUJhINOBK59ixYxUfH+99bzKZ\n",
              "ZLValZmZqeLiYu9xm82mhoYGpaam+r1PVFSUoqKifI51DK0AAAAjmXHJJGPoHBF7r+fl5enpp5+W\n",
              "JNXV1ekXv/iFrrnmGl188cUqLCzUkSNHJEkvvfSSli9froiIiIE+EgAAYEQyTiSy+YzpDP/QOeBK\n",
              "58aNG/Wtb31Lc+bMkSStXbtWV155pSTpl7/8pW677TZJUnp6ul544YWBPg4AAGDE8u1eN8xeH66h\n",
              "0926EKnkGafZVZhcvny5li9f3r+WAQAAwEeXE4lGQvc6AAAABkeXSyYNgYU6CZ0AAABDRHQXoZNK\n",
              "JwAAAALGGDrrmuze10NhTCehEwAAYIgwjuksKGvwvk6Ni/J3elghdAIAAAwR0Vb/0W3y2LhBbknf\n",
              "EToBAACGCKvFrEhL5/iWkxIbgtb0DaETAABgCDHuStSGSicAAAACyjiuU5Lio60aExsZotb0HqET\n",
              "AABgCDGu1Sl5qpwmlkwCAABAIEV3CJ05KeHftS4ROgEAAIaUTqEzNfwnEUmETgAAgCFlYnKMz/t5\n",
              "4xND05A+soa6AQAAAOi9+66ervhRVlU2tOiiiUlaOmVMqJvUK4ROAACAIWRCcowe/sKcUDejz+he\n",
              "BwAAQNAROgEAABB0hE4AAAAEHaETAAAAQUfoBAAAQNAROgEAABB0hE4AAAAEHaETAAAAQUfoBAAA\n",
              "QNAROgEAABB0hE4AAAAEncntdrtD3Yiu3HDDDcrOzh605zmdTh04cEC5ubmyWCyD9lyEF74HkPge\n",
              "oB3fBUh8D7qTlZWle+65p8fzwjp0Drba2lolJCSopqZG8fHxoW4OQoTvASS+B2jHdwES34NAoHsd\n",
              "AAAAQUfoBAAAQNAROgEAABB0hE6DqKgo/fCHP1RUVFSom4IQ4nsAie8B2vFdgMT3IBCYSAQAAICg\n",
              "o9IJAACAoCN0AgAAIOgInQAAAAg6QicAAACCjtDZavv27Zo1a5ZmzZqlm2++WTabLdRNQhDV19dr\n",
              "7dq1MplMcjgckqSGhgatWbPG+z3YsWOH93y+H8NPS0uLfvCDH2j+/PnKzc3V1VdfrdLSUr4HI5DD\n",
              "4dA999yjOXPmaMmSJVq2bJk++ugjOZ1O3X333Zo5c6ZmzJihF1980XvNvn37tGDBAs2ZM0crV65U\n",
              "aWlpCH8DBNqWLVsUEREhSbpw4YKuvvpqzZkzRwsWLNC7777rPe/555/XjBkzNHPmTK1fv14ulytU\n",
              "TR4SCJ2SysvLtXbtWu3YsUNHjhxRcnKyHn744VA3C0H0+OOPa+XKlT7HHnroIaWkpOjIkSP64x//\n",
              "qG9+85uqrKzk+zFMlZSUKC0tTe+9954OHDiguXPn6sknn+R7MAK1tLRo/vz5Onz4sPbv36+bb75Z\n",
              "999/v55//nkVFRXpyJEj2rt3rx566CEdO3ZMDodDN910k5577jkdPnxYV111lb797W+H+tdAgBw4\n",
              "cECHDh3SuHHjJEkbNmzQ8uXLdfjwYf3sZz/TTTfdJIfDoSNHjuiRRx7R3r17deTIEZ06dUr5+fkh\n",
              "bn14Y8kkSb/+9a/1+9//Xq+++qok6cMPP9SaNWv00UcfhbhlCDaTySS73S6r1app06bp97//vebO\n",
              "nStJuv7667VmzRq5XC6+HyPAo48+qvLycm3fvp3vwQjmdDp1//33y+l06tChQ1q/fr2uu+46SdJ3\n",
              "vvMdpaWl6fLLL9f69ev13nvvSZKqq6s1btw41dXVyWymljOU1dTU6Prrr9drr72mefPmqaCgQPHx\n",
              "8SouLlZiYqIkacGCBdq6dat2796t8vJybdmyRZL0+uuva+vWrfrLX/4Swt8gvPFPh6SioiJlZ2d7\n",
              "32dlZenUqVMhaw9Co6vvAd+P4e/06dPKz8/X+vXr+R6MYK+99poyMjK0d+9ePfDAA73+LiQmJioi\n",
              "IoIu9mFg3bp1euSRR5SQkCBJKi0tVVRUlDdwSvydMBCETkkul0sWi8X73mq1Mi5jBOrqe8D3Y3ir\n",
              "qanR6tWr9eyzzyo7O5vvwQh2/fXX6/z581q1apW+9KUv9fq7YPwMQ9ezzz6r2bNn6+KLL/Ye6+7/\n",
              "a/5O6DtCp6TMzEwVFxd73xcXFyszMzOELUIodPU94PsxfNXX12vVqlW69957tWLFCkl8D0Y6s9ms\n",
              "O++8U7t37+71d8Fms6mhoUGpqamhaDICZM+ePdq+fbuWLFmiJUuWqKSkRHl5eaqsrFRjY6P3PP5O\n",
              "6D9Cp6QVK1Zoz549KikpkSTl5+crLy8vxK3CYMvLy9NLL70kyfOXx549e7RixQq+H8NUY2Oj8vLy\n",
              "dNttt2nNmjXe43wPRp53331Xb775pvf9H//4Ry1YsMDnu1BbW6vf/e53ysvL08UXX6zCwkIdOXJE\n",
              "kvTSSy9p+fLl3tnOGJp+97vf6cCBA9q/f7/279+vjIwMvffee7rmmmv08ssvS5IOHTqkkydPasmS\n",
              "JVq1apW2bdumuro6ud1uvfjii/yd0ANrqBsQDsaNG6cnnnhC1157raxWq6ZPn66tW7eGulkYZP/+\n",
              "7/+ur3/961q0aJEkT6ho+69Wvh/Dz4svvqgDBw6osbFRL7zwgiRp3rx5evTRR/kejDCTJ0/Wt7/9\n",
              "bX3ve99TRESEEhIS9POf/1zjx4/XnXfeqYsuukiStGnTJi1cuFCS9Mtf/lK33XabJCk9Pd37HcLw\n",
              "89Of/lS333678vPzZbVa9frrrys6OlqLFy/WunXrdNlll8lqtWrp0qXasGFDqJsb1pi9DgAAgKCj\n",
              "ex0AAABBR+gEAABA0BE6AQAAEHSETgAAAAQdoRMAAABBR+gEAABA0BE6AQAAEHSETgAAAAQdoRMA\n",
              "AABBR+gEAABA0BE6AQAAEHSETgAAAATd/w8gI7lhDe+iswAAAABJRU5ErkJggg==\n",
              "\">\n",
              "      </div>\n",
              "      <script type=\"text/javascript\">\n",
              "        (() => {\n",
              "          const chartElement = document.getElementById(\"chart-91f7bd10-5d23-441d-90ea-90b5186ab551\");\n",
              "          async function getCodeForChartHandler(event) {\n",
              "            const chartCodeResponse =  await google.colab.kernel.invokeFunction(\n",
              "                'getCodeForChart', [\"chart-91f7bd10-5d23-441d-90ea-90b5186ab551\"], {});\n",
              "            const responseJson = chartCodeResponse.data['application/json'];\n",
              "            await google.colab.notebook.addCell(responseJson.code, 'code');\n",
              "          }\n",
              "          chartElement.onclick = getCodeForChartHandler;\n",
              "        })();\n",
              "      </script>\n",
              "      <style>\n",
              "        .colab-quickchart-chart-with-code  {\n",
              "            display: block;\n",
              "            float: left;\n",
              "            border: 1px solid transparent;\n",
              "        }\n",
              "\n",
              "        .colab-quickchart-chart-with-code:hover {\n",
              "            cursor: pointer;\n",
              "            border: 1px solid #aaa;\n",
              "        }\n",
              "      </style>"
            ]
          },
          "metadata": {}
        },
        {
          "output_type": "display_data",
          "data": {
            "text/plain": [
              "from matplotlib import pyplot as plt\n",
              "df['daughter'].plot(kind='line', figsize=(8, 4), title='daughter')\n",
              "plt.gca().spines[['top', 'right']].set_visible(False)"
            ],
            "text/html": [
              "      <div class=\"colab-quickchart-chart-with-code\" id=\"chart-3d065851-98fe-4266-9276-b3f3623a4d45\">\n",
              "        <img style=\"width: 180px;\" src=\"data:image/png;base64,iVBORw0KGgoAAAANSUhEUgAAAp0AAAFwCAYAAAD658D/AAAAOXRFWHRTb2Z0d2FyZQBNYXRwbG90\n",
              "bGliIHZlcnNpb24zLjcuMSwgaHR0cHM6Ly9tYXRwbG90bGliLm9yZy/bCgiHAAAACXBIWXMAAA9h\n",
              "AAAPYQGoP6dpAADAa0lEQVR4nO2deZgcVb3+36runp6ZzJLMZLIvww6BJASyRxAhQkCiF1A2N1Qi\n",
              "qFxE7hWN93cVXFgVFxQEAoIgqIhcUETZkS0ECEsIWyAkk4Qkk0ky+0zvvz96qvucU+dUnequ3ma+\n",
              "n+fJk5me7qrq6uqqt97vZqRSqRQIgiAIgiAIooCYpd4AgiAIgiAIYvhDopMgCIIgCIIoOCQ6CYIg\n",
              "CIIgiIJDopMgCIIgCIIoOCQ6CYIgCIIgiIJDopMgCIIgCIIoOCQ6CYIgCIIgiIJDopMgCIIgCIIo\n",
              "OCQ6CYIgCIIgiIJDopMgCELCH//4R7S2thZ0HU8++SSqq6uVf+/s7MSll16K3t7egm4HQRBEMSDR\n",
              "SRAEUaZ0dnbisssuI9FJEMSwgEQnQRAEQRAEUXBIdBIEQQB4/vnnMWvWLDQ1NeHII4/E66+/DgBI\n",
              "JpP44Q9/iFmzZmHixImYOnUqfvGLXwCQh8effPJJLiz/+9//HgcffDDGjh2Lo48+GpdccgmOOeYY\n",
              "7jX33XcfDj74YIwbNw7Lly/H3r17cdddd2HevHkAgFmzZmHKlCkAgEQigZ/+9KfYd999MWnSJBx6\n",
              "6KG47bbbAACbNm2CYRi45pprsO+++6K+vt7/HUUQBJEjwVJvAEEQRKnZsWMHli5dilWrVuHMM8/E\n",
              "hg0bcNJJJwFIi7xdu3bhwQcfxNSpU/HGG29g9uzZ+MxnPuO63GeffRZf+9rX8Mgjj2Dx4sV47rnn\n",
              "8MlPfhKHHXZY5jmxWAw33ngj/v3vf6OpqQmf+MQn8Itf/AKXXXYZFi9ejH322Qevv/46JkyYAAD4\n",
              "8Y9/jN7eXrzxxhuora3Fxo0bsWTJEhxyyCEYP348AODRRx/Fa6+9hlAoVIC9RRAEkRvkdBIEMeK5\n",
              "4447MGfOHJx11lkwDAMHHnggvvWtbwEAQqEQrrvuOvT29uLee+/FP//5T4RCIWzcuFFruZ/5zGew\n",
              "ePFiAMDixYvxn//5n9xzkskkfvOb32DcuHEIBoP41Kc+hVdeeUW6vGg0iquvvhq333479t13X0yY\n",
              "MAGLFy9Gf38/Xn755czzfvzjH6O+vt6xSIkgCKLYkNNJEMSI54MPPsD+++/PPdbc3Jz523/8x39g\n",
              "2rRp+MhHPoJJkyahsbERiURCuqxUKpX5ua2tDQsWLOD+Pn36dO73qqoq7Lfffpnfa2tr0d3dLV12\n",
              "R0cH+vv78eqrr+KAAw6w/X3Tpk0AgKlTpyreKUEQROkg0UkQxIhnzJgxNufyww8/BABceumlmDt3\n",
              "Lm655RYA6XD7N77xDQBAfX09otEoYrFYJpT97rvvZpbR3NyMbdu2SZdrYRiG9nY2NTWhqqoKL7/8\n",
              "slR0EgRBlDMUXicIYsRzyimn4NFHH8VDDz0EAFi/fn2mWGhwcBCdnZ2Ix+Po7+/HN77xjUwLo4MO\n",
              "OggNDQ344x//CAB44403cNVVV2WWe8YZZ+Duu+/GCy+8AAB488038dvf/lZ7u2prawEA7e3t2LNn\n",
              "DwYGBvCf//mf+N73vofXXnsNANDT04Nf//rX2L17d347gSAIosCQ6CQIYsQzd+5c3Hbbbfja176G\n",
              "lpYWfOlLX8KnPvUpAMBll12Gbdu2Ydy4cZg1axbmzZuHlpYWAEBdXR3uvPNO/OhHP0JLSwsuuOAC\n",
              "XHTRRZnlnnzyybjyyivxuc99Di0tLTj33HNx9tlna7ub48aNw+c//3ksWrQIhx56KLZs2YLLL78c\n",
              "55xzDk477TS0tLTgsMMOw2uvvYZRo0b5vl8IgiD8xEixCUgEQRBEQfnZz37GuaoEQRAjBXI6CYIg\n",
              "isjrr79uK1oiCIIYCZDoJAiCKBAdHR3405/+hGg0imQyiQcffBD33HMPzjrrrFJvGkEQRNGh6nWC\n",
              "IIgCYZombr31Vvznf/4notEopkyZglWrVmX6dhIEQYwkKKeTIAiCIAiCKDgUXicIgiAIgiAKDolO\n",
              "giAIgiAIouCQ6CQIgiAIgiAKTlmLzl/+8pel3gSCIAiCIAjCB8padG7evLnUm0AQBEEQBEH4QFmL\n",
              "ToIgCIIgCGJ4QKKTIAiCIAiCKDieRWdvby9WrFgBwzAQj8cBAI8++igWLFiARYsW4fDDD8ell16a\n",
              "ef5NN92EQw45BDNmzMAFF1yAZDLp28YTBEEQBEEQlYFn0XnNNddg2bJl3GNnn302rrvuOjz//PN4\n",
              "/vnn8de//hWPPvoo1q9fj5/85Cd49tlnsX79emzatAmrVq3ybeMJgiAIgiCIysDzGMzLLrvM9tiE\n",
              "CRPQ3t4OIO2ExuNxNDc34/7778dpp52GpqYmAMCKFStwww034Ktf/aptGZFIBJFIhHsskUh43TyC\n",
              "IAiCIAiiDPElp/Pvf/87vvWtb2HffffFPvvsg5UrV2LOnDnYvHkzWltbM8+bPn06Nm3aJF3GFVdc\n",
              "gcbGRu7fmjVr/Ng8giAIgiAIosT4Ijq/+MUvYuXKldi4cSPefPNNXHHFFXjzzTeRTCYRCAQyzwsG\n",
              "g8qczpUrV6Krq4v7N3/+fD82jyAIgiAIgigxnsPrIh0dHVi7di2eeOIJAMC0adNw4okn4oEHHsCk\n",
              "SZOwbdu2zHO3bduGSZMmSZcTDocRDoe5x1jBShAEQRAEQVQueTudo0ePRiAQwJNPPgkgndP5+OOP\n",
              "44ADDsDJJ5+Me++9Fz09PUilUrjllluwfPnyfFdJEARBEARBVBh5O53BYBD33XcfvvOd7yCVSmFg\n",
              "YACnnnoqTjvtNADAeeedh6OOOgrBYBBLlizBhRdemPdGEwRBEARBEJWFkUqlUqXeCBUXX3wxrr32\n",
              "2lJvhicGYwlUhwJIpVKIxJOoDg2vFAHr/REEQRAEQXghb6eTyHLXC234wQNv4NQ5U/BBRx/Wf9iF\n",
              "m78wF4v3H1vqTfOFf63fgQvvfgWL9mvG786ZB8MwSr1JBEEQBEFUCDQG00e+d986xBIp/OmlLViz\n",
              "aQ/6ogmcveqFUm+Wb5x3x8uIxJN48p1deGVLZ6k3hyAIgiCICoJEJ5ET77X3lnoTCIIgCIKoIEh0\n",
              "Ejmxde9AqTeBIAiCIIgKgkSnTySTZVuP5Rs1TAHR1r39JdwSgiAIgiAqDRKdPtEzGC/1JhScqU01\n",
              "mZ/J6SQIgiAIwgskOn2iayBW6k0oOOPqqzM/byPRSRAEQRCEB0h0+sRIEJ0s2zoHUMYtXgmCIAiC\n",
              "KDNIdPpE50C01JtQcJKCyNzVGynRlhAEQRAEUWmQ6PSJcnE632vvwT/WbUc0nvR92QmhWKptNxUT\n",
              "EQRBEAShB4lOnygH0dkfjeOU3zyHr/9hLW5+eqPvyxej6W17SHQSBEEQBKEHiU6fKAfR+cIHe9AT\n",
              "SVfRX/Ovd3xfvhheHwkV+wRBEARB+AOJTp/o6i+96GyoDhZ0+QlBdMYS/ofwCYIgCIIYnpDo9Ily\n",
              "cDqrmebthUDsfx8fAQ3xCYIgCILwBxKdPlEOorPQHYzEFklxcjoJgiAIgtCERKdPdDqE14vVz1LM\n",
              "uSz08mMJcjoJgiAIgtCDRKdPODmd0SI5gmK02+958OLbiCfJ6SQIgiAIQg8SnT7hJDqL5QgWurrc\n",
              "Hl4np5MgCIIgCD1IdPqEo9NZgEbtMkRn0+8pSaKopUIigiAIgiB0IdHpA/FEEr0RtatYNNEpaEC/\n",
              "i5vEiURUSEQQBEEQhC4kOn3ALYxdPNHJi0K/RadYpxQjp5MgCIIgCE1IdPqAW5g5mkgUZTts4XWf\n",
              "G9bbwuvkdBIEQRAEoQmJTh9wa1UUGS7hdSokIgiCIAgiR0h0+oCb6Bwu4XWxQxKF1wmCIAiC0IVE\n",
              "J0PXQAxvbe/2/DqxwEakWKJTdCL9z+mk8Ho5UKxhAwRBEAThJyQ6AcQSSZx7+4uY++NH8K0/ver5\n",
              "9W4aoFjN4UUx0uVzTqcoamkiUfH59j2vYfGVj+OFjbtLvSkEQRAE4QkSnQBCARN7+qKIJVJ4e0cP\n",
              "3mvv8fT6cgmvi9rW9/C68DZpIlFxeXtHN+55eSu2dw3ijJtWl3pzCIIgCMITJDqH+MSsSZmf//76\n",
              "dk+vLZfwuih+/W4OTxOJSsueXn8/T4IgCIIoJiQ6h/jEzImZn69/4n1PoWm3epqShdcH/B2DKb7P\n",
              "GOV0+kLPoN6xVqq6rcFYoig3TrFEEoOx4rQXIwiCIIqPJ9HZ29uLFStWwDAMxONpQbNw4ULu38SJ\n",
              "E3H77bcDAFpbW7m/XXrppb6/Ab+Y0FiNea1jAKRF4uwfPox/rd+h9dpyDa93F3oiEVWv5821j7yL\n",
              "mZc+jJ88+Kbrc1Mo/v7esqcfC694DIuvfBy7eyMFW09XfwxHXfUE5v/kUWzc1Vuw9RAEQRClw5Po\n",
              "vOaaa7Bs2TLusdWrV2f+Pffcc2hubsYxxxwj/Xs5i04A+I85k7nfH9QMs7uKziI5guJ27OqJ2BrG\n",
              "+7l8ql7Pn189tgEAcPPTH7g+txTO8g8eWI/O/hg6eiO4/B9vF2w9v3p8A3Z0D6J7MI6L//xawdZD\n",
              "EARBlI6glydfdtlljn+///77MXv2bEyfPh0AYJomFi1ahP7+fsyfPx8/+tGPMGHCBOlrI5EIIhHe\n",
              "SUkUaZKPxZnzpuGdHT34/fObAeg7lOWa0xlNJLGzZxATG2t8Wb5tDCbldPpKMpmCaRrKvw/Gii86\n",
              "P+wckP7sNx2Mi7plT3/B1kMQBEGUDl9zOq+++mpccsklmd/feOMNPP/881izZg3Gjh2L008/Xfna\n",
              "K664Ao2Njdy/NWvW+Ll5rgRMAxced0Dmd93qbNeWSSUSnQCwebd/F3B7eJ2cTj/pGXTOwR2IFj/f\n",
              "sSqYPUUU0rE3jazYdoscEARBEJWJb6LzqaeeQkNDA2bPnp15rLa2FgAQDofxox/9CC+99BK6urqk\n",
              "r1+5ciW6urq4f/Pnz/dr87QJmdldouvklY3TKVlNm4+ukT28TuLAT9y6DfSXoMimKsB+Hwp3HDOa\n",
              "s2QFUwRBEERh8RRed+Kqq67iXE7pyoLBjBAVCYfDCIfD3GOBQMCvzdMmGMhe/XSdvELldLZ3D2Jb\n",
              "5wAOnzoahqEOu1qIzdsBoM1Hp9MWXien01fc+qoOlsDpZL8PhUynYJ1OmrhEEAQxPPHF6Xz99dfR\n",
              "3t6O4447LvPYunXr8NJLL2V+v/LKK7F8+XKEQiE/VlkwcrnIFqJ6vTcSx3HXPoVTrn8O97/6odZr\n",
              "ZBdrP51OUdQmyOn0FTfROVACpzNULKeT+Zk0J0EQxPDEF6fz6quvxre//W3usbq6OlxyySXYsWMH\n",
              "4vE4jjzySFx//fV+rK6gsOF13epst3BgJAfR+cCrH2Zy/C7606u2ynrd7dhcwPB6jOKgvtLp0htW\n",
              "FJ2pVErLAc+HYoXXKaeTIAhi+JOT6BQdtTvvvNP2nH322QcPPfRQbltVQkzTgGmkBZxuH0rXnM4c\n",
              "Lta5FOnItqNtd5/n5chIpVI2B4paJvmLq9MphNcj8SSqQ4VNQeHSTQoZXmdiLnQvQxAEMTyhiUQS\n",
              "gkPuTinD67mYPbLw+t7+GLoHYxiMJXDvy1ux/kN5IZcbMiFAhUT+4prTKTidkSK0UGLD64WsXmcd\n",
              "21I0wS81qVQKj7+9E0+83V7qTSEIgigYvhUSDSdCpoEoPITXXZ6Wm+j0fuFlhWFVwMyIhLbd/Xjy\n",
              "nXb89OF3URU0seZ7x2F0bZXHZdu3hwqJ/MVtglS/zelMAChsjnSxcjrNEV69vuaDPfjybekc+LvO\n",
              "XYDF+48t8RYRBEH4DzmdEiynUze8XhCn0/Mr+PD6PmNHZX7esqcfP3343cy2PPaWdzdF9h7J6fQX\n",
              "rzmdxWgWH2IL6wrY+mukV69f8693Mj9f/tBbJdwSgiCIwkGiU4J1odV1dmStilhKMQazdWy2NZVY\n",
              "TLSje9DzsmVvMZ5MjUiBUCi8htcH44WvZuedzsJ91mw51Eh0OkeFs0GnvkjxuxQQBEEUAxKdEgJD\n",
              "sT5dJ89NeOUSlsxFy3GisznrdIptk3Z0eRedqmIpXTeYcMdzIdEwzekcidXrddVZ0ek2mYogCKJS\n",
              "IdEpIWha4XV/cjpzaZmUywWe1X+tTHi9bXc/xjdkG+/n4nSqhACF2P3Da5/OYjidxYIPr5dwQ0pE\n",
              "PeN09kacjwOCIIhKhUSnhGx4XbNlUgFyOnNxsVhh2DSqKnMh27ynD+MbqjN/y8XpVBmaVEyUO6JD\n",
              "7ll0FqFZvFs7ML8wC9tutOxhw+vFyNUlCIIoBSQ6JWQKiTTdRrfwei6iMxcXK8kIhIBhYFpzOq/z\n",
              "w85BTjxs6xzIa9ks5HTmjrhLyzG87nZD5RfmCFedrOgkCIIYrpDolBC0cjq1m8M7/z2XUHkuLha7\n",
              "uQHTwPQh0ZlIprCpI9skfk9fFL0Rb3lj6vA6uTK5IrqIvZG4Y/5vKcLrqpsNvynwYKWyZ4RrboIg\n",
              "RggkOiWEyqBlUi55oOx2GAYwtSlbwd4nuGSbPU4qUofXyenMFdlx49SrU3Q6ixGGLV54fWSrrmLt\n",
              "Z4IgiFJColOCNfovMdQS6Kp/vo1zb38RHyrC0l5E5/u7evHFW9fghiffd3xNTk4nc+EyDQPTm0Yp\n",
              "n7vF40x2v5zON7Z14fO3vIA7nt/k6XVOPPteB069/lksvfYp/PBvb1ZMGyfZPlWF2JPJlO1GJKJw\n",
              "Ov+6dis+u2o1Xty0J+9tLFZ4fWRLzpHXBSIST+C//vwavvWnVz2f6/70Yhs+t+oFvNK2t0BbRxBE\n",
              "oaBEIgkhZhD06o17MgKxZ/BV/Om8Rbbnu4pORphdcNcreGt7N556dxc+PmM89h9XJ32NmK+XSqW4\n",
              "tjIyxPD61KYa5XO37vWW16l6j157N55502r0RuJ4ekMHls+e5HkykoyfPvwOXmnrBAC8196LT8ya\n",
              "gCOnN+W93EIj0xndinY5slC6yum8+M+vAQCefe95bLryE7lvIOzh9UQylWkp5ifkdPL7eTCWQHUo\n",
              "UKKtKTyrnv4A967dCgCYPLoG/33CQVqvi8aT+M696wAAz7zXkffxTRBEcSGnU0KQmcLy1vbuzM8v\n",
              "fCB3jtzMvghzJ88u7/1dverXCCJDxwkRw+t1DsUJe/ujrsvjly1/XLetlAWbS7rXZQKPLuIkn/fa\n",
              "1fu1nJCFVMUQutPjMqfT7xxMcXEqdzX/9Ywsp09EPBbcplNVOk+9uyvz85Pv6k9IozQEgqhsSHRK\n",
              "CDINsdkxgCrcLpiDivxMp7CS6GLp5IWyoVDTMBydErdKaZFCVK8nfGq3JF6INu/2ljpQKmRpACpR\n",
              "J85dB+ROp9/hcHF5hcojHelaQjyGvX4/Rwoj/eaEICodEp0SQkz4kBWgKtzcpUQyJa1KlgkJC1GQ\n",
              "6hQWpYTwurPo9Kl6PQ+14Ffhu7ht4gSmckXm2qhEnewGJSJ5zG8nSDy2C9UbdKSLCTFiMJJEp5eP\n",
              "vlg5xgRBFAYSnRLY8LqOw6hznZeJRlUoVfZ8nbBmgiskAsJB9cfb6Vd4PQ/l6DU0r0IURpUiOmX7\n",
              "VPU5i+2S0s+17z+/C1JEEZtLVwUditWaqVyxh9e9fT8rDTZ+5EVHpqhDG0FUNCQ6JbDuZl/U3RHU\n",
              "ufuWOUQyIaF6vk4j8KSH8LpTax63ZbN4LSTy67Us4v6vlPC6bJ+qPmfZDYrsmEr43Kxf3MZCOZ0j\n",
              "3cES01RGktPphZF+nBBEpUOiUwIbXhcv9rI8PJ0WPbKLtZPwE6uVvYbX06JT/fH6ltOZh1spCw/n\n",
              "gmi2dg3E0FUBhRgy0alq+C67QZEdU36PJZVVVReCka4lRlpOZ67NCqiQiCAqGxKdEjinM+LekFvn\n",
              "RCgTjU4VqqLj5T28biAc9LGQSBlez/0ikMukJhky8VYJIXZ5Tqf8c5bmdEqOKb8vyuLHW6jw+kgX\n",
              "E6KD5zUSMVIQb/ArpScvQRBpSHRKYCvW+4Xwukys6VwvLdHA5lk6Cb9cCom48LqZLiZSVd93DcQ8\n",
              "5dGpw+tJdA3EXEXxYCyBnkH+/fo1O1wmWHIRnbt7I35sjjayXaraJ/Lqdftjfud0lnshUTSeRPdg\n",
              "5Qs08XPrLKLo7I/Gbee5ckUU536l6BAEURxIdEoImmxOJ3+RlYpOjQu95ZDWVGXdR0fRKRYSaeV0\n",
              "Zn+2mm2r3M5kCuj1cKFROVHrP+zGoisew8LLH0N796D0OZ39USy58nEsuPwx7nHfnE7Jtm3e423M\n",
              "5xUPvYUjf/woLn1gvS/bpIPU6cyzkKjwOZ2Fapnkfbv7InEcffUTmP+TR7Fua1cBtqp4iJ9bscLr\n",
              "27sGsODyx7Dg8sewTTFxrZywpXsUqG8sQRCFgUSnBHbiSn+EF2ayqlKdC6blBAaYZCaVm5FKpWxV\n",
              "89GE+8lVHIMJwDmv00Peo+otXvf4BvRHE9jbH8Olf5MLtl88ugG7+6I2t86vRuOy4oIdXXIBrOLG\n",
              "pzYCAG57bpMfm6SFNKdTIepkXRTkTif/vHzD1vbq9QI5nTlo2Vue+QA7ugcxGEvi/Dtf9n+jiojo\n",
              "dBYrvH7ZA2+iZzCOnsE4fnB/8W64ckX8yvgVLSEIojiQ6JTAhqTF6vVcw+vWyZEVD6oLi8zB8lq9\n",
              "bqWl+pXXyS/bYB7PPueJt3dBxi5F2FqnHZUOljDSTV0oF6TV6wpRp9vTU3yerD+sF8RtLNRFPpeq\n",
              "ZHaqViW4dE6IgxKcevj6CfvdVH1PC42XT75YhW0EQRQGEp0S2EIi8eQvF5361esRRgSohJHswq6T\n",
              "08leuK057WGfKtjZZbPibkJDdeZnVQsoVfqBX0Up1qY1jcrOca8M0Wl/TOV0SvM/JQJVdMzyTWEo\n",
              "Vjgzl/A6+5JKH90ufm5O7dT8hCvEKWJRjsF06vRSDCTenBTKeScIojCQ6JTAtkzqi2g4nZrV62LY\n",
              "vDcSlzpRsgu7zslVbJkEANWC08lenL0IM/bCUMWITjGcu1OS16kSFL45nUPLH11baaJTv3pdNxQv\n",
              "isR8ugsAkur1Ajmd4tsbaVXJ4ucmnneGG7neJIjHRaFyjAmCKAwkOiV4dTp1m8PLKi1lIXbd9jgi\n",
              "XAhckdM5rj6c+dlbeD37cxWzf8ST/trNe22vVZltfjmd1gW7KmCgPhwE4C1fVaRYgkcWMlftE9kx\n",
              "puN05h1eL1I4U9wXXnNRK9zotL1fp2llfmKw6q8C7GLxcCankyAqCxKdEoJcyySd8Lr7MiPxpDTU\n",
              "KVterjmd7IXLun6IOZ0tjOh06hMqwooP1ukURcjLEtGpcjr9EJ1c8ZRpoKEmBCA/p7NYbVhku0Ul\n",
              "6uTPlTmdQgFanvu4VOF1ndZPKUk6SaViczqLJDpLFV7PFVthGzmdBFFRkOiUEDJZp1OsXs+1ZVJC\n",
              "KgBk4kjudHoLr1vFPqLT2VKXm9OpyukUxcH7u3ptr1WLzvwvrAnB3W1kRGeujmW+7qAuUqdTcRGV\n",
              "HWOy9AwxnF4phUTiekZas3hbTmeRRGelYWvhRU4nQVQUJDolsE6n6HrlXkiUlAoAWdskmYOl41iJ\n",
              "s9cB2Oavj6vPFv54y+nM/lzlUBG/WdKUXSUg/MjpTAhO5+jatOiMJ1M5VwAXS3R6ql5X5NR2CBXH\n",
              "tpxOn1smFczpFHa5Ti4q+4zK9jnt+zmakJ8v/KbSwuvF6htLEERh8Cw6e3t7sWLFChiGgXg87QIu\n",
              "XLiQ+zdx4kTcfvvtAIAHHngAhx56KA499FCceeaZ6O8v//GEbE6nSK45nZG43On8+SPv2np/yoSH\n",
              "VvU616cz/T/rSgJ8eL1rwN5zVEVSIXpEtu4ZsF1AVaJ8bVsnrn34HVz9z7cz/+5Yvdnm9PZG4rhz\n",
              "9WZpA3Axj9VyOgG7oE+lUvjHuu345xvbHV1Qv5rWu+GlTye7S9mOAe3dvOi0Va97EPb90TjueqEN\n",
              "r23pVG6j20Xe+qze2OatWbv4HRIL1GQM5+p1oDhtk8oxvL6zexC3PfsBtmjcwFJOZ/nw3Hsd+MvL\n",
              "W6U3S8lkCg+89iEeeXNnCbasMkkkU7j/1W14/O3htc+CXl9wzTXXYNmyZVi1alXmsdWrV2d+TiaT\n",
              "mDVrFo455hh0dHRgxYoVWL16NfbZZx98/etfx49//GNcfvnl/mx9gWCr10VkolPnXD0YS0qF4+tb\n",
              "u3DlQ2/jytNmcc8V0Sskyv5smnKnsyXHQiL2ZC8KWZZoIomd3YOYNLomu12KTX9tSycncCx6B+P4\n",
              "2jH7ZX7/+SPv4pZnPgAArLv0eNRXZ4Ulu10BkxedXf0xTGa245n3OvD1P6wFAPz+y/Nx9IEt0u3K\n",
              "t+JbF5kJqbqIsuJgQkN1Zsxne4+z0+nFLfv5I+/i5qfT+/m17x+PxtqQbRvdComueih94wAAb/7w\n",
              "BNRW6Z1ixJuAkRZeF3NxgfRNAHs8jxTOvf0lrNvWhZv+vRHPrTyO+5v9eCSnsxzYuKsXZ696AQDQ\n",
              "MxjDl5bsw/39qQ27cOHdrwAA7jp3ARbvP7bo21hpPLhuO775x1cBAPd+bTGOnD6mtBvkE56dzssu\n",
              "uwynnXaa8u/3338/Zs+ejenTp+Phhx/GkiVLsM8+6QPwvPPOw1//+lfp6yKRCLq7u7l/CY0pPIXA\n",
              "yemU5VrpXCAHFU4nALy1vZt/bs45nfbwuigQR9eGMvmeuYbXnUQnAGzezTsUXnswrm3ji5EswQmk\n",
              "RTq/7OzPpmmgsZYRncL7+9nD72Z/fiT7syh4SpnTqXY6s88d38g4nT18iyp79br+vrcEJwC83LZH\n",
              "uo1uuYaW4ASAd3b0aK/bJpZ1ComYALtR4QF22bFQDKezVOF1dlXi6WHdkEv+oWSqmN15J6ezHPjr\n",
              "2m2Zny/725u2v//qsQ2Zn6/61ztF2aZK5/IH38r8fMszG0u4Jf7ie07n1VdfjUsuuQQAsHnzZrS2\n",
              "tmb+Nn36dGzatEn6uiuuuAKNjY3cvzVr1vi9eVqwE4lEZKFXrTGYMb56/ZQ5kzM/i2HgnKvXOdGZ\n",
              "/l90OsNBM+OeeKpeZ8PrDqIcgC0s5rZ/lh4yHneduyCz3Lbd6hSMXqF/YVJIKeCcTiF9gC2qijAX\n",
              "K/F6X8qcTlXOJLtJExnRucvmdPLbnut7sdxeUQyJ+99xGR7cSvGpOjPkud1X2ZpTLjojwze8nutN\n",
              "gj28Tk5nOWA6RAcB/py1bW/5p9iVA6Fgdp9G48Mn8uOr6HzqqafQ0NCA2bNnA0iH2gOBrOgJBoNI\n",
              "KmKtK1euRFdXF/dv/vz5fm6eNkHTIXwsOclpVa8LTmdLfRjTm2sB2B253Pt0Zn+2TgJhQXRWMaIz\n",
              "1/C6U04nAGze06fcLhn7tYzC4v3HYsqYdCi8bU+/MudSbJqtql4H7O+PFeDs/hTzB4v1BZd9FVQ3\n",
              "F+z+GM/mdPY453TmLDqHliMKY0+i04PLam+ZNLLEhDync3g3iM8FcjrLk4CLSz5lTG3m545e/VqC\n",
              "kQzbRadYRkgx8FV0XnXVVRmXEwAmTZqEbduytvu2bdswadIk6WvD4TAaGhq4f6xgLSZBJ6dTJjoV\n",
              "11bRWWNfWxXIir/ugRgnXHMNr/Ounzy8XhUIZNbbMxjXzp3jmsN7DK+7rWPUUEP3aUMifCCWUM6B\n",
              "FkWn2KfTSXSGFf1FbZXTRRI8KqdTJri58HpDNi9XLCSy53Tm1zYqn0k5Xk6UOfXpZH6ucKNzxIXX\n",
              "c0X8alJOZ3ngYnRmuooQ+oQCJDodef3119He3o7jjssmfh9//PF44oknsH37dgDAqlWrsHz5cr9W\n",
              "WTDcwuu2ogeFKzeKKaJIN4fPXkRCjOhMpoAe5mIuDa/nPJFI7XQC6aRvHVIFDK9nRGdT9m5YFWLv\n",
              "FUKOotM5uiY7ClNMH1A5neLnV7ScTsl+SaXkKRzsQ+PqqzP6YJeY0+lTn05rOXanU18IeZkfnsv4\n",
              "zjIptvYFql6XI0aRaPZ6eeIWXhcPrZFWKJgLbHidRKeEq6++Gt/+9re5xyZPnoyf/exnOOmkkzBv\n",
              "3jxs37697CvXAefwOmB3j1Sh4JqqrMgRm8OL4o8dhxnxYQymkcnpFJxOYb26eZ2qPpEslljfundA\n",
              "uV0y6mWiU9IuBZCE152q1zWdTluPxCKF11XHjeyzFltWNY9Ki2t7Tqdf4XW509kb0U/J8NLg3JbT\n",
              "OcIuSrL32zdCwuspqD/rmGBtUp/O8sR0ccnF43t714DimYQF73QOn/Oh55ZJFuIF884775Q+7+yz\n",
              "z8bZZ5+d62pKglN4HUg7UazwUl0gq4ImTCN9QRVbJonir2sghqlDP8scIi3RyTwlG14XnM6AyYU6\n",
              "dPM62bcoLtNidG0VdvVEbNvvpnssp3N686jMY2KI3sJeSJT92S28zm4Huz9FN6V41evyxwdjCTRU\n",
              "8+EovjMBMLYujI7eKHb1RpBKpTJh0nyq12Wvk7WoiSeSjh0eLLyIJttnoJXiYL/JqlRk55BiTCUq\n",
              "9/C6reevbQwmOZ3lgNvpQLxZaNvdz+V5EnYovD6CcHM6xbxOlSkTMIxMSFdsDu/kOEpFp8bJlQuv\n",
              "K8ZgysSuDikNp7Nm6L3a9o9rTmf6dazTyYboRzGOsU1IcuF1OLZMYkNx7MUsl8bkfqAcDyqbqS60\n",
              "wxo3VEwUS6Swlzl2/Kpet/aP7LPTnQvuzekUwqgaTicbgh+OLZOK4XSWrHpd8+MSb5qoer08cXM6\n",
              "xfOIbHIdwcOm+RWrd3QxINEpwdXpjCfxxzVt+PQNz+H593crxUPANDIh3UGhZVLYwXEciKrHYP7p\n",
              "xTacdsNzeO69DttzkoIbBgDVQXXLJEA+hlOGzkSi2iFxGE+muJOMW3i9ThJeZ09KlhMKyNxLvpCo\n",
              "PhzMXNCe3tCBq/75dubvqlBcqcLrKjEuy1Njn2oYwDimyT/bq9Ov6vVMIZHks7NSHP6xbjtOvf5Z\n",
              "/PONHdJl9HnI/xTPqTon2eEUgpfd6Fii/eH1O3Dq9c/i769/CAC49+WtOPX6Z/HUu7uKuo2Fwun0\n",
              "kEim8H+vbMOp1z+LJ95p9zysgCgOrqJT+NxU6VNEFnI6RxAhDafzu39dh5c278VZN69WigeTcToH\n",
              "YwnEXMLrFrITqfXYd+5dh5c3781Mf2BJcMLEaplkdzobcnA62WNe1RyeLdRhBbabOKirTovKmqpA\n",
              "ZmISG16vcxCdYkN80zTQUpcVZDc8+T7e39ULwC7mrH3qVx6kV1S7RSaOU4KLzYrOHUwTbbuAzu29\n",
              "RBXV60A2xeHrf1iLtW2dOP/Ol6XL8NLyR0zX0XGb2QbyZRgZ9oTU6RwS7T97+F2sbevEFf9I30D9\n",
              "1z2vYW1bJ754a/59jMs9vB5PJHHRn17F2rZOfOl3L9puYMnpLA8CLoVE4s2rmPdP2GFFZ7FGMxcD\n",
              "Ep0S3JxOMfytEg+mCSa8zjudtvA608icXb4VWo7Ek67izbpwsycAW/V6wMRoRQGTE+zJXiU6a5h1\n",
              "scLN7cLAVvlPH3I7O3ojUtHiHF5Pv+9vn3AQ95yNu9J9Q8WwtbWs0olOuzMNyG86OEfXMDCVTUVg\n",
              "TuCi0+mlQTuLta9kLrVur04v1de5tEyKM59T+cklb1jvl02HGYil97N1bmjvGVQWn+VKuVevi8eB\n",
              "+F0lp7M8cKteF7/fnf3Uq9MNCq+PIJxaJgH2XCtVy6SAwYbX7X06VY4jK7bGDFUpR+JJVzFknZDZ\n",
              "77+tT6ctl1Tvy6+T08leMNlcLLe7NNbJtHp1AtkQDHvhEavtxfA6AHxm7lRce/rszOObd6dFpzjt\n",
              "x1qWeEIsheisFdpr2Z+b/dk0xPZS2Wb8NgGdoxNk7Su5AxeXjg4VH/OSkyjucp2JRMOlojOZTGX0\n",
              "Xj1TQGY5ndYFJ5ZIeRroUInYHG/hM7ZVr1PLpLLA7aZPjAYO9+PYD8jpHEG4FRKJ4+lU7oNpGpmJ\n",
              "QJG4vXqd7SnJOo4DjCNnCcTBWMJVDFnfazZkJu3TmUP1OrtqWZ9O0+Cr2lmB7bbdbM6mrFcnK3y6\n",
              "B2Lc/majsOxmTW+2FyWJroja6SxSTifzPsT2Wk7PNQ1D2V7Krz6dkVhaRMoMx97BuE0Ydw3EbPvN\n",
              "SyFRLuF19jlGGYaGdWFvquqrs98FyylmP0NxAlW+fSpLFV5nv3MpxeOAPapkKySilkllgVvevnge\n",
              "IdHpDpfTOYzSSEh0SnALr9ucTqecTsYVZMOSovhjHbzBoYtNTSiQEY3xZMq12XYmvM6KTqGQKGjy\n",
              "DdT1WyZl32MwYNomUARNk3NA2QulW14h+7rpEqeTW1YiyeU8ysLrALjws1WUJBNKQOmcTnY1tZzo\n",
              "lOV0Zn82DQMTG6sRHPoQ2PxXsXo9mqOAjsQTyrSR3kjcFjrvGojZ7sZ1q9wBSXN4z9XrlQt7/LFO\n",
              "pxXxYPcFm78L5H/xTpYovK46Z4pRIzHFRuzTS05neeCW+iWeY0l0uhNkLrJ6LeQqAxKdEkIuTcfE\n",
              "E6FTyyR29nn3gCA6FeF1S1zWVAW4kHXvoHO4UhpeFwqJDJf55CrEPpFin8aAaXD7jRV4TqIzKKhX\n",
              "roJd4nQCfP6rLLwOAC114YyQsxxTtdPJb1Mpwus13LQk95zOYMCUzqq35XTm+F4GY+oc4r5I3Hbx\n",
              "7+yP2e7GB7z06cyhZRL3OVWw6mQ/s7pwIGM4WsKeFdc7uwXRqTncQbluZtm55v/mgsoZEz938eam\n",
              "WzgHUnP48sBVdAp/F0c/E3bYfTpcUokAEp1SRCEkIraCUVavm+Cczm5m5GRVwMSoqkBmXVLRGQpw\n",
              "IWu3Ag7rRM6KL9HpBNK5l1aIXHsikSB6QsI+CpqG1OlMJlOOFzNR4E9ryjaIl+V0Avy+ko3+BNLi\n",
              "2hKwW/cOIJFM2S5QVj6rGMotWnideV9uTicXXh/aZdOGmun3RxPY3Zd+L/kURbEfadrplO+H3kjc\n",
              "5rp3y5xODy2TxENEJ3G+mCKpkLD5q6GAmbkBsW5uWZdDDK/n6xix+7CYLaiUTqfwuHhzIxY+UnP4\n",
              "8sBreF0c/UzYYV3/4dQejkSnBLdpK3an0yG8zjhY7JzzqqDJuY6y8Hp1yOSczh4Xp9PaDLZnmuh0\n",
              "AmlBZhUx6VevZ382TcO2j0zTQBWTlmCJHbcEaLFoa2xdVdahtESnsIwurhk6IzoFIWyF2KOJJHZ0\n",
              "D9ocROu9i5GLUrRMYguJZDmdYngdAKY11WQes1xhUYh5Ca+zn+lgLKmsru+NJGxioGsgZnO0vcxe\n",
              "t1eva+R0sp9TBZ+T2fcaNI3MsdAfTSDBFBkBEqczT9HJpmMUU8SzhyX72Ysfu+3mZpB/v4PDKNet\n",
              "knE7ZcqKbXWvPSOV4eoEk+iU4Fa9LoZ8VNd1tjk8ALy/K1tlbDmNjYL4S6VS6GfD60FWtAp3/YMx\n",
              "7qJjfbGdqtctrMb0sotWJJ5Au3BxEwWIuI+CQni9ZzCOjt6Ia7sksRKedyj7kZA4peu2dcm3SxCd\n",
              "07lQfZ/NQcyE14UTYvdAHLt7eUepELDrZZ1Oa5/1RuIZgS06zQAwnXGFH397J1KpVF5OJ+teD8YS\n",
              "3LLYTgt9kbitSKizP2r7rEVh6kQuOZ2sI12onKcPOwcyqQupVAobdvbg1S2dvrbqET9b61joj9qL\n",
              "B0XRqRupUMGF1xNJbO8a8OVi19EbwStte23nEQu+GJBxdGw5neKNIn9MReNJX7Y3lkjitS2deHtH\n",
              "t7IwNJlM0czwIfb2RTnzxc3plO3T93f1avXyTSRTtlzmkcAwiqhz5Dx7fTgjq14fVRXIFEaIJ0L2\n",
              "C2UYvOPIOp27mNCYJbasi3lPJI54IolkKnsRqg0FOadSDK8vuvwxJFIp/OuiozG9eVTmi886fqqq\n",
              "Xkvs9g1d2CzBOBhLYOm1T+HDzgGs+uJcHHvweAD26mlxHwWE8PpnV72AgGng52ccLl2/hWxfT2uq\n",
              "xds7ehBLpE/yoiD58YNvIWgaOGfJPsK8eWE5TFHS++29tvV0KqrXb332A/z++U3441cXYm5rk+P2\n",
              "50NKIToHYwm09wziuJ8+hWgiiQcv/Ig0vM4WS/3miffRF0lIUgX0xVja6Uwf25F4ktu3DdWhjMDp\n",
              "i8RtRUJdA3G70+mpep3/XWsMJrOBhQg//eqxDbj2kXdxwqHjcePn5+Kyv72J257bBACYPLoGj178\n",
              "Ua7rQK6wAjsYYEVn3Pa+Chle37S7H4uueBxLDxmPVV+cm/MyX968F2fe9DxiiRQCpoFbvjgXxxw0\n",
              "jnuOagytePzaczrt7zeaSKLazP1zSCRTOOmXT2PD0Dni1CMm49rTD7c97yu3v4gn3tmF7510ML56\n",
              "9H45r6/SeWNbF069/jnUhgN46r8/hsbakGs6jOz7ec7vXsTYuio88d/HcAV0LKlUCmfc+Dxe2rwX\n",
              "l58yE2cvmObLe6gEyOkcQciczjqulYm6ep0NbZsGsF/LKMiwBBrbIqUvmuDCSdVVfE5nj3DC7Ysm\n",
              "MBhL4nv3rQOQDU2JQrNhaB2HTGzIPNY0KlvBzl7I1m7ei617B5BMAY+/3Z55XOwTKYayRacTSO+X\n",
              "C+9+RXzrHKGgfV9PGp0NG7f3RKSu10NDoxdV1esAX5T0zs4e2zIs51h2lx5PpnDeHfJJO37BHjc1\n",
              "bHg9nsDPH9mAnki6NdHFf35N2P/p9zlzSiOXf/yv9TvsjqGH22VWBA/GEty+bajJbl9PJG77Dsir\n",
              "1+39PFXk0raq0EUw1z7yLgDgX+t3Ip5I4uH12XGf2zoHsLZtry/r4VNEzIyQHYzZe/Pu9Ll6XSYG\n",
              "Hn1rZ14i/sl32jOfXyKZ4s4jsvWyOa2iYd3vktMJ5N82adPuvozgBICH1tnHug7GEnjinfTY0cv/\n",
              "8bbt7yOJb9y1FtFEEp39MVz/1HsA1L2qLVSHU0dvFH9du035uu1dg3hpc/p7Zl3nRgrid9DvwRCl\n",
              "gkSnBMMwbKKKbWAu9ulU5b4FTANnzp+GC4/d37YOS3Sy4e9oPMmF7WpCJueUqqrXrdBDUhJeB4D7\n",
              "vrEE3z3xYNzCuBeyfpgA3/MxxswgF51OUZgHAoayabwTsk4BrOunymPNtDtSVK8DwPTmrOB/d6fd\n",
              "6bSEk+oCaxXnFAo+p5MJr8eS3MV1R9egbf8DabftlnPmZR4fiCVsItNLU2F2P4jh9UYhvC46UJ0D\n",
              "UZvTmUzpjym0V6/rjMHMPieVKozbadE9GLftS7/mR7PbLd68iSkhfjudKic8n30p3jDI1sF+3gnF\n",
              "zwAyqUYWYvU6oJf/64T4nRmIJWz538OlaM0P2FC3dU1yc+Wc/u6lu8lIwt7Kb3gcgyQ6FYgHex07\n",
              "KUQsJOJCvAb3c3UogG99/EBOVADZnE5WqEUTSS4kma5eZ/IkFTly1sUwE14XHL/9Wupw/kf34xxE\n",
              "vh9mNtd0Mys6E/xFnX1fYiFR0DSlTePdkL2GbRbPursL923KzGaXNXYX3/fk0TUZAb5B4nRa+7pU\n",
              "YQxV9XoknuB6xSaSKeWNzUcPbMHBE+oBpN9PPjmd7IU1EucLiUZVBTOtfGQtk7olhUSA/ijM3MZg\n",
              "ei8+ypXOfruoZvuj5kOcczr5GzrRUXbq5JALKnGZz74UC/+icfs6OKeTebo4iUrH6cz3ZkP2HRH3\n",
              "a66tx4Yj7FfVOieINwviOdUp59OtL/ZIZbhO3yLRqUB04OrD9kkhFuwJWhSdAF8cY5ERncLUATa8\n",
              "nu7T6e76WRfDhCK8LmOqpB8mwLs3rLPD98O0i3JZcZEOshNOjaK3adDM9jaVFQGJTmdV0MTExrTQ\n",
              "3ispuLDyEkvlYqgnEiU5pz2e5CcDie+zmpl6JbpxXkQn73TyfTqDAQN1QykAPZJConR43X5S1CkU\n",
              "AHJrmSTe+RfS6ZRNXNpSBKfTTbT7mdOp83guy5Q7nezPHgqJJDmd+X5/ZceNKG6H0xjCfEkxrSKM\n",
              "oQa5osgUC/ucvs5icRjLSDaYxePSz+LFUkKiU4EohtjwuujysBcjViywP4ui0xIOotPJnmSrQ0Jz\n",
              "eJXTOSQ6MxOJNEIS0xVjFNlQO3uxsIfXJU6npCeoG7Lw+qgwIzqZi0zAzLaY6o8mbJWrsvct7ncW\n",
              "Szi55SMVioTgJFpE4glO1MeFueamIYpOtUjxEpLhnM4Y36fTMIyMAy0vJMrP6cxpIlER+6umRafg\n",
              "dDIRgnxg34c4ZMGt7VTeolMVXs9jX+q47bzTKf8Z0Due873ZkB1r4n4dLqFNPxDz+wH3nGwnp9Pp\n",
              "GBZfN1yLa2SIh9xwGflKolOBWFVdJ5mJbMFebFk5wDpSbDibhb3AiDmdtS6FRBbWF1yV0ylj8pia\n",
              "TGiEE52KOd5iIYsoysWwoC6smLdgi2pYxyEUMDBamKbkVEgEqPc7kE2TKNWJjD2f2p3O7HERT/Kt\n",
              "kMTPl3WGxRsTXadT3Adi9XrAMDI3A72Dcdu0oc7+mDR/M9fwuk5Op+iGFtrpFMVJm0/hdbHXLBv9\n",
              "cOsAYA04yBWVuM+nBZXOzQD7ntljTzwOdJzyfPvqyoS32IqKwutZUsLNKGC/cRenkzmdY72ITrde\n",
              "1cMJ+zmZnM5hjS2nk3U6o/ILu+i0sb9Oa3auYgfSF3oxp1OnOXw2vG6JTnfxFw4GMKkxO0YRSDdd\n",
              "Z08AbEiJK9gxDIQEUR7MsZDo+yfPsD02qsrd6QSGRKdDIRHAt00SsQrCSjXtgateD/Etk9jjz57T\n",
              "yb9PVrCKxWa6F2R7U/kkJzwCpsGF8bWdTs1eneIJVm8iUdLxdz/Z1WPv29o9GM9b9AH2nM4gl9Pp\n",
              "5nTmdxHWnQzkBfGz81JIJL5WPM5k5Pv9lb3e7nSS6LRg95ahdDrFokIn0an+DokvG0kz2+3h9eFx\n",
              "DJLoVCA6eWxrI7F63XJ4RM3DOm+qMG+VUL3OtUwKBbSq1y1xmOkPqlnxZ21T55DYFMOFyvC6ad8/\n",
              "okPjxnlH74vH/uujOGB8ve1vrIgSczobBNHJFzjZ1+MUXo8m0i1pnE6IhXQ42PWKzeHZ/WvL6RTD\n",
              "6w6jUmOSIg4ZsgsvewPEFo/FkymbAxWJJ6U3RfpOJ/97ToVEBQyBdvTKL4x+FBOxglvM6RyIOYvK\n",
              "7oFYzq1UUin1iNp89qVOeJ099uN5Op355nTqhNdlxVAjFa6QaCi2Z/vMhd+dTqNenM4RJTqF905O\n",
              "5zBHzDV0cjot0SeKAS68rhA/4QCf0ykWErHV69qz1zWj3Kwg27Kn39YCJuYYXhdzOu15nk4cPLEe\n",
              "+7XUSf/G5jeyKQXBgJGZpASkL7hOYzABfmqPjPSoQfXfZS1a/ILdp6GAmUlPEJ1OQHSa+eVUM4LV\n",
              "lm+s6f7JXEJ2WQGTn1gkE5gdkilO7HflhY27ccszH0gnFdnD684XeZlgKqRjLXtvgLxtUiKZwp9e\n",
              "bMPfX/9Qa9m802l6KiSKJpK4/blNOaWIOO2vfIScKDjkOZ3Zn7mJRC45nTK89qK9/9VtuPflrZn1\n",
              "yo59Mbwuew9r2/Zi1dMbSyKE2rsHceNT7+PdnT147r0O3PrMB5xAf6+9F1f/82385ME38fLmPQXb\n",
              "DuuSZ2vvI0Q9nG6MnEWn/nNLzT/WbcefX9zi+Ty0YWcPbnzqfdu0MfE7PVycTppIpEDMT2RzOsUP\n",
              "PxqXi072N7ZdEYvN6bSF191zOi2yYzA1nc5mvoJddG0cC4lMidPpIbwekEwisuALiVjhw4fXOwei\n",
              "fPW65H07OZ3AUJshhxNiZ3+Ua6TvJ2LKQjgYQCwRx2AsYds/7P4XxTU3KjXHnE7ZiZLtkRgw+d61\n",
              "stY1Yg9JICsaugdjOOvm1UimgI27evGTU2Zyz7P3pHPebpko8rMLgXjC9yI6H31rJ75zb7qRddOo\n",
              "Kizeb6zjusTq9Srm3KMz1enSv72JCY01WHbYBNfnsjjtL52cWt3XynI6tft0RjREp4dtffLdXfjm\n",
              "H18FkI4kfWLWRKlodQuv90fjOPX65wCkJ/T84sw52tvgBxfc/QrWfLAHVzz0NqoC5lARahwXHHsA\n",
              "AODrf3g505v47jVbsOZ/jkNtlf+Xe3UhkVi97nSOVV/XxOV2OoTiS8natr34+h/WAkgf22fO15+c\n",
              "9KnfPIv+aAIPvbED//eNJZnHyekcYRw/I3sCH1sXxoJ9mpXPVeV0shqoKmhi+exJAICvHbMf97iF\n",
              "GF7X7dNpYX0/tUUn2zZpT5+tBQzndHJujDy87sXplBX9WKgKiYJiTmd/zLV6vbE2xL1GpC8ad7zA\n",
              "FvLOWkxZsPJ3I/EkxF3JnnvFllg1VfwxxKIbXpcJEPaCL3YskDnA4p06uz1vb+/JvIc/vNBme564\n",
              "eje3QCYU/EyFEB1iVnRyPW4l4fWf/uudzM+/emyD67rsOZ36hUQWr27p1Hqear1e/ua6XI2cTvbz\n",
              "TaWyTpjd6dSbza3Lzf/emPn5usc3KF8v3lSJwpm92fi/V/UcbT9Z80HWvbQiba+0dQJI78v3mAlL\n",
              "vZE42rvlN035Yl1rxI9YbDHF7uLPL5zO/c3pHCs6pOXqdN7FnNN+8uBbnl5r3ZiL32HxsBwuTieJ\n",
              "TgX/fcJBePTij+KvX1+MZ77zMYypVQsX68LqpvV+debheOY7H8N3lh2ceayKC68neKdT6NPplrpl\n",
              "CTAHE5GDvXhu2ePmdGYfNyTh9YBpokoy0lKFU1snVSFRMGAKhURx1+p1wF7Bzi5jwCW8XsiTnOjS\n",
              "Wp0KBmNJ20XfKXWCLUISybV6HeBD42KBi8zp/LBzQLl+NidahteWSbK0AT+dTlFkdPRkHRY2LUTW\n",
              "Nqm5LuuMq3JBWRIOLZPEiTws154+O/NzWw7tm5zaIuWT06nVp1ORGpFLeN1LOyP2FGF9/cR0AADo\n",
              "dHE6q3NoD1dorMEesUTKJlgK1mdUEV4Xjx9WPH7nxIPxzHc+hvmtTQDSN9mqHpSVEl5nz29u5hCL\n",
              "U1qMPbxOTuewZ/9xdThi2hhUhwKOoWPrJOvWH9MwDEwZIzSJZ05e9jGYfPW6G6qJRCqmCQ3i7Tmd\n",
              "+uH1dFhQ/0TsNN5MXUjE53R2DkQdx2BaTBVC7Gy4vC8Sz7mdR76w5+mAaSBsOZ2xhE0QZD5byXus\n",
              "dhCduhcbmWCzFRKx4XVJqseOLrvTyc7g5h9np115dy1losjPnE4xJ411OptGVWWOQ5nTObYuLH2d\n",
              "Cva9BDyE1z9ywNjM8ZBLQZNTWNrf5vCSz0rM4R363dbFQGM7vHzuBpP0ZDU5l0U63MLrTsWHpaJt\n",
              "Tz+SyZQ0DOs0ajIflIVEYnhdyEmfMqYWjUJ+vgxbIZFDKL6U1FerTSknnHLuxX2qO1K43CHRqYlO\n",
              "6Ng0DK6dhM55yTG8LvTpdCLJVDjrTCQCgNG1VWgYukN7f1cvPuzinSr2wiuOYbQ7nQZCXpxOh56e\n",
              "VQEzI3AGhLxCp5ZJqo9ILOJiRWd/zDmns6BOp3AittyTSFzidDpMm3ISnbqOlTSn0yY6melZkuXK\n",
              "2ttYFx/x4rG9MytQZet2ExsyUepnWxtxWez2hAJm5pja3j1ou8iznQic8tUs2H1jq153EJ114SAm\n",
              "D+WKt+3u91zFXrycTufwOpA9vnMZ1OAlp1PmdOaS01mOs9ij8STaeyLSMGyhBIuqZZI9vM6bFgCE\n",
              "/HxN0VmuTqek37QOTudn2xhMcjpHFjrtgHRzKbnluvTpDGs6nWwoVLd6HcgWE+3sjthEMht2sk8k\n",
              "kjmd+oeTk9NpGAbndlqEAnzLpL+u3YYf/v1NbrtkiMVEY2oZ0RmxzytnKeSdtbhPLVc7mrCPs3QK\n",
              "rzuJzlz7dALgGsDL8nh1sNYv7mM2LC3b/W7ulSwk6qvT6bCsqoCRcc9TKWDrXv5mbSCmdnlkOOV0\n",
              "OoXXw8FA5tjuicSVAve3T72Pi//8qs11dRJO+UzgEV/r1jIpvS1J121S4SUVgL1ps7ZBtk579brz\n",
              "eyqXSTmbd/dJxUmhnE5VWoRtIhGzeus8LQ76kFEpfTrrXNKHVNjbvslHTwPkdI44TI2JO6bBV6zr\n",
              "aNAqoWVSv0OfTid6I3z+nS5OLYVUOZ2i62Wt01Mhkcs2jpJUWopOp7hdqmWKDeKbRmWX0R+N5zyi\n",
              "LV9k1esWYluhrOh0nlUvEk+mtC6IMmeLdS5Nxec7WdGVwSKqcDrZVA7Z/ncTPTKn09ecTocTfChg\n",
              "8sVEQlqK2BBfVmDFYp+9zobX5flhoUC6mwDXgUJSSf/Gti5c+dDb+OvabbjkL6/z63XYx/kIeDcB\n",
              "InuOdfjlIt68fO7st8d6lez1Yv9TUWSKAsBLHl8hadvTLxUnhWpub4km0aEWv5+y7htiUaiMSnE6\n",
              "vRg9LGJ4nb3+i/uUnM4RiJuTFzC9h9fZ6vRYPIVB5kJfK/TpdIJtHK8bXgecJ/Zw4XUud9Iu8Ly2\n",
              "TBJFq0itxOkMmmlhphJZ2k4nG16POjudqrCPH4iCmc3f7RNaxVjbKMvXZavXZej06pRWr7NOp2FI\n",
              "Rf2UMc6iM3NREjaBzYWUiU638K5MyPjZHN7pIh0MmNwxJeZ1isUvbvmWXE5nwOS+R6rZ69YNCrcd\n",
              "EtH5zo6ezM+Pv93O/c3puPA1p1MigmzdChTV6zp4yumUqM6E5LOOJpJcmFo8HkQBoMpJLDZte/qL\n",
              "7HQO3VR6aJlknUbYnE6VmBQ/Wp10lVKQq6YXz1lsx5Dh2qfTk+js7e3FihUrYBgG4vHsBenVV1/F\n",
              "kiVLMHfuXBx55JF45510y5BjjjkGc+bMwcKFC7Fw4UKcd955/m59kXETVfmG16OJhC2nsypgajmm\n",
              "7J22p/C6Qx9Lvjk8c2GUhNe9TiRye2ptWCY60y9SXYhV+39iYw23vU21+qKzWNXrhsGHyUWn03IM\n",
              "ZW/RrZJWR4y55XQGFE5/c10V121AxLr4iHl3rBDLKadTWr3u30nZqQCrKmBgGhMhEEWl2ObHrbKc\n",
              "y0sWWlOpqretG5TpnPi1r6epTt1j1rE5fB7OmPhaUdzK3ExVmFZrfV5yOpmfnZxOgP/uR4XvUEQQ\n",
              "AOXiwG3e3S8vJCqQ02mloYiunLi/svUGWVNkOOV0itupm18t6/9qMVz7dHpKRLjmmmuwbNkyrFq1\n",
              "KvNYW1sbVq5ciXvvvRcTJkxANBpFIpHdOffddx9aW1t92+BS4iY6jRzC6+wFxjYGMxiAYRioDgaU\n",
              "QsuidzDX8LpddLbUh7GrJ4JoIonTbngOh01qcG2ZFDQNhHxqDg8AtSH7oemWU6h63wHTwNQxtdjY\n",
              "kb4o805nnJs2JbKrJ4IVv38Jr27pRPOoKlz2yUOxYF91z1YvpISQk9P0KSvXV1ahX+0g+gC90Jrs\n",
              "Yn8/039QllIBADWhIJrqqtC3x94uiV23qAs27+nHt+95DZt39+PSTx5qe52bUNapXt/TF8U3//gK\n",
              "6sJB/OqsOdL0gFgiiYv++Cq6BmI4Z3ErfvbIu+jotec3s4jh9Vuf/QA1VSa+fUK6FZpYUNW2J13k\n",
              "87373sB77T342WcO5yIMrOgJmgZ33lAVEllOJ9uZYd22Lnz+lhdQEwrgurPnIBwMcBPPWG5/bhOX\n",
              "Dy1y2d/exG+eeA9XnTZLOqrWCbfwuqxYyLpo51RIxCw/lUrh+/evx5vbu/HTz8zGPmP59CE2CpSS\n",
              "5HQ21oQywuakXz2N0TUhXLLsYJuQFgVAIcXQ7579AKue/gCpVApnL5iWaQAvo21Pv00QAwV0OlXd\n",
              "KeLyGw3WGBCLQmWI4s1ylB9atx3X/Osd9EbiOO6Qcbj8lJmOEb6f/usdPP1eB37yH4fhsMmNyue9\n",
              "vrUT/3v/ehxzYAu+9fEDub9d/o+3cP+r2xAOBnDhcQfg00dOyb4/YTsHYgmtZvziDQ97kymeM0ek\n",
              "03nZZZfhtNNO4x677rrrsHTpUnz2s5/FwoULceutt6KmJh1yMwwDn/70pzF79mycddZZ2LBB3Sg5\n",
              "Eomgu7ub+8eK13LATXTmEl5XTSSqCpoZgaFTTNTLOZ36onOfFv6kXFsVwFQmZPry5r24/fnNWL1x\n",
              "N7N8SCYSmb4VEgFyp9MSlXOmjZa+xmn1+w71VgyYBsY3VGce73eZSPTqlk488uZO7OqJ4O0dPfjt\n",
              "U+87brcX+Op1g3c6BbfMOhlJw+sueb86LoebsyhOJLKorQqgeVRY8oqhdcflYuKt7d245+WtWLNp\n",
              "Dy64a63nbZYJaVHcPLhuO57e0IGH3tiBp97ZJV3OXS+04cF12/HMex049/cv4a3t3djVE3FsdRQK\n",
              "mhjfUM05vL95IjvGThSKH3YO4sl3d+HuNW14cdNefPNPr3B/Twg3H1rh9aFzAite/7V+J57e0IGH\n",
              "39yJ3z27CYC6IOoHD6x3dBXb9vRjbVsnvnz7i8rnqJCNJ2XXJVtvPk4n+5r3d/XhjtWb8fLmvbhz\n",
              "9Wbbc2VOJ/t6Nkd5T18UGzv68ItH35WE1/nfCxX2TSZTuOqfb2Nb5wA+7BrEzx/d4DgOuW1PPwaL\n",
              "2DLJ+qzdJorJ2vmxRaHqlkn87z2R9MS2Xz62ARs7+tDeE8Hda7bgze3dym3c3RvBr594D69t6cQt\n",
              "z3zg+H7Oumk1XtvSiV8+tgFb92YjGB92DuCmf2/Ezu4I2vb0cwMgAPtxq3sTIt7McKJTFLIagxIq\n",
              "gbxzOp977jm8+uqreOihh/Dggw/iuuuuw6OPPgoAePDBB/HSSy9h7dq1WLJkCU488UTEYvIP44or\n",
              "rkBjYyP3b82aNflunq+4iaqcwutCIZGVBM4KCZ1GxLnmdE5srMHFHz8Q05pqsW/LKHz/5BnS4iW2\n",
              "QlessAXsBRAW+4+rw9Qme96fmxuryukEgO8yzfVZnPb/hcftj3mtY/DtEw7CuPqsSOqPOvfpFJGN\n",
              "eswVsTiLdTrF8Lp1MvLaMgnIPbzOogqvVwVNjHUI4cYVOV8slgPN4jbyVSaSxffALkP1ub2xrctx\n",
              "PTKCQwL8B8t5h3bX0DrEG4bBWALvMxNirMkxme1mLjzBgGZ4feicUB8OSm/gXtqUnlgj5sZ6Pd63\n",
              "KBxsJ9zaWclzeOXiRQc2fM8KMtlnLm0Oz2zb5xZOx5L9mzF5dE1mv7b3RGw3NGLeZKGczngyxQnc\n",
              "RDJlK1Rj2dMX5QYZWEQKVUhkdR0Qq/sVzf/Z/c/VMyi2T3asbt07YBOpTl1G2O9Qe49zUR8bpdjJ\n",
              "THEShb7YpzjXJvbiccWeO8TzmWwKXCWSt+js6OjAxRdfjKqqKjQ3N+MLX/gCHnroIQBAbW36LjwQ\n",
              "COCCCy6AYRh46y35iKiVK1eiq6uL+zd//vx8N89XqlzEX07V60LLJOtkxn4hdRrEc9XrHrXvhccd\n",
              "gH9f8jE8/l/H4Mz502yCUsQ0DOkYTEPI9TxofD0evfijePqSY/HtEw7inu/qdEpCE9ZrFuzbjN9+\n",
              "7gjb352E7Kwpo3HP+Ytx/kf34wRtv8tEIhE/Ly589bqY06nKW7U/5uZ06ohO9jlfO2Y/WwGbIenN\n",
              "CqRDzU6z6VUtk9xwc45kFykxt4+tzlZ9bm7HugzrO3v6vKk4/6PZkbbWhVAUitF40vGGSGyZpNOn\n",
              "0zonGAY/MMFC1YNyV0+k4D0mZcuPazqduRSD8S5q9hiQfeaylkns66c21eAP5y7Es989FgdPrM8s\n",
              "R6wIF38vlOiU7Sundl4AsKG9x/ZY0Z1OYX3Wn9lzNGu4KEWn5K1u2dNv2wcyd1fcRsDb58TuM3tr\n",
              "IyFnVdgeXedbPGcNODid5ZrP6pXcmksxjBs3Dg0NDZnfDcNAMChfbDKZ5J7LEg6HEQ7zYbqAhwk3\n",
              "xUCnkMhreD0shNetkxkrQHQaxOcaXpdR5aJaDQMISVomAWkREhtKi2DFsigy3VsmScLrAXZ59s9C\n",
              "dxITK2j7Is7hdRE/+3aKbUTCDuF19nkibjclOtXrYjFLdSjAXVgDwkQii6qAgeY69/C6V6HjdoKV\n",
              "z15Xuy2dA/JxlG5t0OSvye5vfkJWDPFE0naBj8STjjegYssk9oaODa8bRvacwp4TGmpCynGbomhp\n",
              "74lw6SWFQCqU4klg6DCRHY6ZiUR55nSy2qWr375PuPC6Jcy5/Z/9bK2cw0QyZVuW6HSqjq98kZ2b\n",
              "nNp5AcC7O3ttjxU9p1NRvc5em9gbPtXNhqwgZ/PuPnsLK4d8R3bbvKRBOLnz0UQSqVQqcxMjfk45\n",
              "O50RtdM5XERn3k7n8uXLcd111wEAenp6cMcdd+DEE0/E1q1b8cgjj2Sed8cdd2DChAkVXVSkSsq3\n",
              "8FLAYyHmdPrhdKrGQeri1m9TnMMNZEUle1JhL4yyFktO1EicTjaPVFa0pPu+WadzIOYt3NgTifvW\n",
              "hJw934jhddW1V3ZD4Ud4nb3jFouarMdkQj8YMNGs4XR6FRNO85jF7bUQPxfW9VLljLm17pLBfj/E\n",
              "YghZM3dvTiefG82+J7brAntOEHvXAtkoiyj227sL73TK2lmxF3BpIVEmp9P7+th9FHdxOmXEhfQG\n",
              "i9E12f0tinoxp7NQLZNkvVTd8p037Cyc02kfUzoUyRA2U5XTyZ6i2Rs+1XuSHaptewZswtvJ6Uz4\n",
              "4XS6uPe5upJOOZ3i+axc20V5JW/RefHFF6Ovrw8zZ87E4sWLsWLFChxzzDGora3FTTfdhMMPPxyH\n",
              "H3447r33Xtxzzz1+bHPJcK9eN/JuDm9daL06nT2DubVMkuEmOk1J9bolItkvClsAJS4zJ6eTFZ2S\n",
              "1+s6vDVCGNvrRdivCwx7ohJbJqmQvcVw0Lmtlk71ujiKUdwWWUoFkP5cm4WcTlawZi5KOQgdpxO3\n",
              "1Om0XRDdLza5OZ3qCtx+SVpEJJ5w/E6Ko1xV3z92P7Ofj0x0WosU9/uunkFfJzfJkPVYjbrldOZR\n",
              "vc46+eyq5eH17M+y6nX2HMMWuuwSCsuKVb0u2x9Orh4AfNhlz1uM+lSUK0ZNMuF1l44Fmep1z+F1\n",
              "+/tv29MnybHVczp7BvVNA/aYlbr37DEtupLa4XX+dXwhEf9ccWBBpZJTeJ1948FgEDfffLPtOU1N\n",
              "TRUvMkXcLlA5pIdxQrY/ksgcaKyTUcjqdRlurYkMSfW65XSyJwn2wiiKTDeHSTYGk90uWS6e7v43\n",
              "TQO1VQH0RxMYiCY8u3CdAzGu7VKuiC2TdBxt2Wfr1lZLR1TzDcrt25J2OmWi08DERr5QrC4cRCSe\n",
              "doZi8dzDpl0DMWUoWO48CBdE5j2pXIJcRnty4XVRdErSIiLxpOMdqOh0qs4z6S4B6dApK+xHS0Sn\n",
              "dT6wOZ09kYKLTulnw/b8dapez8HqZN1A0elMJlOc0GFtAetV7P4IScLrAGzdDESRU7hCIvv+cHL1\n",
              "VPjldNraXym6DtidzvT/bApUiBOd8mNSdt7YvLvfJn4jDlERWYHh6Fr383fMVXTK0zoAL+F1hz6d\n",
              "wjqtgQWya2MlQROJPFDo5vBsRRzrbuo4YL3Ma/MNr+tU6dudzvTv7DmCvTB6zumU9M5kharswuxl\n",
              "/1sh9r6o93C5XxcYsWWSjqOt2m9OJyKdRt9iXqG4LaakYwGQPn6PmDaGu0CzxRrRHAuJAOf9LC0k\n",
              "UlwQnZaVb3iddcM6+2PSavNoPOnoUCSFfe+H02k5LaLrWBTRmVN43fpbDutThDmTKaBXuAmQV6/L\n",
              "nU42X7dDqIQXhV/hWibZH1P3blUfy76JTmE5qvQZW05npnqdNQ4M5fMtZF+bTbv7bI8POrw/8XjT\n",
              "/azYfebqdOYYXheXy4XXJW++ULnDxYREpwfcq9e9iz22GTQbIuecTo2m62y1c75Op2tOp2QikXUC\n",
              "SSicTlmLJSecWiapttFLTq1VTLR174BnESk+f3vXAOc0b1GMogPS7ubGXb2IJ5K2lkk6Tqfqo612\n",
              "OEbYi2p79yB3c/Nh5wD6o3Gb22ZzOiWfOZAWbVVBEyccOj7zWEdvJPPc7EQi72pCdXFIpVJ4V5K3\n",
              "Jp7AdfL7vIxutVCF17sH5KIzErcXF2W2MZHkqo3F6nWWsUzBlqvoHHq/ooO0qwiiU7Z8t1BlppAo\n",
              "h21jP2dR8IphTk50wnLp5Dmd3GcrtKvJZSLR3r6oY/9XGTKnUxXRsHoRyxAnBOWK6DBmug64hNdT\n",
              "0pzO3MLrMlfUKf9bvPHSPd97Cq/7VEjEOp2yG9XhUExEotMD7g6g92UaRnZ8JJsryFYy6ziduY7B\n",
              "lKGV06moXufD6w5Op0tYU9YyKeAiOnNxOgHgLy9vlSxL/Vr2i//c+x1YfOXjOOqqx9EzGMM/1m3H\n",
              "UVc/gY///CnpifQXj27AsT97Cuf87kV7yyQNp1P1Hp2mElkXrte3dmLxlY9j0eWPoaM3giffaceS\n",
              "qx7H0Vc/aWu5JR5zAVMu6i0B9olZk4TH059PdiKRf07nd+9dh988YW/Sb8s302mZlEvxH1tIJMyP\n",
              "lnUdiDBdKUS+dNuL+Nf6ndz2qMPrWaeTvRFtlIQKrfcrq17PJW/SCzKhxI3UlVWvZwpSchGd+gUd\n",
              "/EQi++vZ40Em5i1Ep9NNDGzrHMDCKx7Doisew3uSlkYqZPtKJrCqgiZam9UjjQsVXlfndCrC64pz\n",
              "uDq8rrddqu8XkEfom3U6pV0E2PC64KbqFhLZ+uiqC4kAf7unlAoSnR5wc6JyqV4Hsm4LKxzZi4rM\n",
              "9RNp784mj+u2DlLhlrtqmPZcOGud7HezKqDO6XTbRtl7Zk9Sslw8L/v/oAnOo/1OmTNF+Te2fcqX\n",
              "b3sRqRSwtz+GP724BV//w1oA6abaj7/dbnvtLx9LT+V65r0O7sSUbpnk/nVU7TenXp2W+PqvP7+G\n",
              "eDKFvmgCv3x0A875XXrbO3oj+OOLW7LrCJg2d900DFubLCB77C7erznTr/MTMydmPitr3bpign0f\n",
              "qovDn17aIn1crPRlxYSqgCCXrwrr2teHg5njrmsgJg19RuMJ6UU/nkji6Q0d3GNOTudhkxszN0Ps\n",
              "aEqZOBqIJRCJ24vkdvVEcroB0CWZTEmFQtwlvG79OaeJRF5y61L2H9mbE1nLJBliDmHPYFyaz2tx\n",
              "xT/eQiSeRCyRwnfvXad8nohsX8lEZzhoYtJo+xAOC79mr4vhddX3W6dlEjvlTMfpdLwJ8JDTqSsI\n",
              "ueI3F/de/LNTA38W0Zm3IpaplPx7RE7nCMNN/HmZBMQiC5+zTpOsUEBkd19WCOW6HRa5hNdlgo9d\n",
              "jM7zWWT7mq9ezy+8/v2TZ6Cl3t5f8ktLWvHn8xZhv3GjJK9Kw37x2YIC8cTu1qpoEzOJxzDsFeMy\n",
              "lOF1J9E5dPZiT7Z7hL6D7PSeoNAzFHCuXrf+//N5i/D9k2fgh586NPN5Rz06nWyjeVmfRSdk4xdZ\n",
              "ZF0Hcgn7s8eyYRhoqE678p0DUdskKQBDYkPWzN6+bifRuW/LKPz+ywvw08/MxqcOzzrLqotx10DM\n",
              "Flrc2x/V6maQK6r96RpeVxSkeF2n6ByJF2n275ae4boHKMLrIjJnrW1Pv+SZadjw/F4Px7WsE4Cs\n",
              "Urs6FHC8TkRzKD6SIR47ccXnpgyvC4d2Ng1H/rmzIWanG2tnpzO30Ld7yyR1eF33vCLuz4FYfGh5\n",
              "8ufrCuZyhkSnB2QhX5ZcHUbZRaZaaP7shVyq6N22h0UWXpcJEv6u1mtOp3oiEQCEgvkVEjXXhXHB\n",
              "x/a3PX72/GmYv08TRjl81qqTlq34xmVz2BuFgGnkFV53djrTJzauPZeiIEC1LarZ6+xnsv+4Onz5\n",
              "I/uguS5sC6/rionRQrjaC24VtLLl5eL6id8PS5x0KQqJVDmdMvGnGjcKpB3WjxwwFp8+coqyVyhL\n",
              "90BMKsS9iB5ArxCNXb4MLrwuKySSTAfSxeniL37m/PKtfMTs60Oa4XVZ26K23WrRyX6iXt6hbNfL\n",
              "cjqrQ6Z0MpVF4arX5TeV4g24td/F85dlHuhMJHKKNDo6ncIxodvyzrWQyCG8rnsci99Py+lUvb5Q\n",
              "/WCLCYlOD7g5nTkUwgKQFzOEXZo/O25Hvk6nRNCxGIZeNTpXqeixel1aSOQ2kchjeoNsv1uV/06f\n",
              "tarAxT46Un97TEOvNZbqPTqdkK3JPOIgAu45zAk0KAn1mwoHTtakH2BzOuWFBio4p9PjCVZV5GAh\n",
              "cwlycTrF48bKqeyJxG0zmi3EXM9UKiV1woOmqd6nis9eJTa6BmLS5uLsTGkdnCqDRVTTr2IuF/B8\n",
              "Zq9zzeGF9yt+V9nPWzYqlP1+NTqIOFnbIienU1Y1r4O0kEhyYxMOBhzNCd/C64pojijsxBsVWcsk\n",
              "IHv+0AmvO0VznCcS8X/r1Lzpirgcs069Z3XPK/bm8JbTKX89hddHGLWSNj4suYo9WYES6zR5FZ15\n",
              "h9dd1HNA0j5H5lyyD4lOqNs2ylomqeb2ytang2wZ1klRdFrHMaF43S++l+0xDV2nU/64Y3h96MQW\n",
              "cmhRIk4ksjmdyjGYKtHJ52rpiokxTFGM11CSU04n4J/TKe4H6/uZSgE7u+2NuQG+MwUwFHKXCIqA\n",
              "aSj3qWpOvOr80NlvdzoBPv9bBycXSUQmcgFnNxLIihbVxdrphtLJRXVyOpOSdbI3s2y+rohsnziK\n",
              "TuZnL8JaWkgkEbzVIdPxOuGf05lbeN36nomn/cx5QrF97GKduriIzfpZci0kYj9jaSGRQ86nbnTA\n",
              "Xr1udzrrq7PXouEwlYhEpwdqXXLuchad0pxOpvmzRiNblvzD687vQ5bfJ4bP048Z0p91cGuZ5BbO\n",
              "10G2363trA3z65/YmG1SrjppiXlFXrZHv2VS7oVETk4n+7usUX1AUjwGqFMx7OF15eZxuIXXnfpd\n",
              "2iYSaYTXc8vplIfXAeDDzqygY9+LTHTKnU65uAfUjeydczolorPHm9PplC8nos7pZMSeZHHWRVt1\n",
              "E+AUeeDHYDqLTnafWz9xPWoV+boisn2y2SG8zp4L8nU6Za5edTBgOw7Yc65folMVNndvDp+ybROQ\n",
              "/S6pWjqx33cxz5zFeSKRfssk9trHO52yQkAmvC58qPrhdXn1Oru85jyiP+UIiU4PjAq7ic7clisN\n",
              "r7MtURzuYGViLv/wuntrKNENlWkPPrzu7VALB03b/gy4iE5fw+vCCa5pVFXm+aovvuh+iG/ZSTAF\n",
              "JA3ZVc+T0VTnMP88aTmd6r54Ma6CV9IcXpLHC6iFkBhe13V3qgIm6odcbtl+djqZ2yYSaTidubTo\n",
              "EY8btoBjR/dA5md2VroYdo/EElLRaeXOyr7CqgiEyuXuGohJ3VSvotOL0ykTSYB7+xmVY2bhlGPN\n",
              "tUxyKR5jl59tDs/fcLGozr2enU42vO4hq1P2vZGG10OmzZyoDpqZY9XLjYMT4jGrytkWRa6seh3I\n",
              "nidUx41ueN25ep3/3Vl0Zr9jnNMp2Ty+Tyf/N/1CItHpTJ8nUsz62M+VROcIw7WQKNeWSbLwukvz\n",
              "Z4v9WuxV1oVuDm9oOp1O4XU3DMOw7W92u/KtXgcUTufQvhPD+7XhYLZgZOiLL4Z0xDYqBvjtcTrx\n",
              "6+Z0qt7itCa+Rx/73jJOJ7P/xG3hw+uS5vCmvHrdLbyeSKaQTKa07/xN08jkpsl60jmdzN2S+WXV\n",
              "8KpwsBNOTud2pdPJv5fBWFJ6oQ0GDBiGPH/W63eos1+e0+nZ6XSZ9c2i6tjgNlLQEouqz9fJ6WQd\n",
              "bfH14gQXVvBaN4HiNC4WWQ9UQO6sbd3brzzOZf1BdZDtT2khkcTpDIcCCGecxMKE17O5uM7Ps/5u\n",
              "F50u4XXmYacBGE7nVvF75hSiZs+b7GcsczqdWirphtfFz3cwlkQimeKO09G1ocxNy3CoXs9p9vpI\n",
              "pVAtk+ThdaZlkkNC+/iGamzZM8CdiPIXnerXW8LONpHIxXHNpQl3bVWAb1rOLMMccoTEUZJeCMvy\n",
              "QoceEsdK1obSJ/VdPZGM6BTvOsUT3+tbu/DUu7syJ6fpTfLmzYaRPnZ0Jk+pjrHpTfzNR3XQzLgN\n",
              "1gWAPc7cnE7RVTBNudPpFl4H0k6r7p2/aRhorAlhW2d6UlQqleLes9NyxBO4+PvO7ghu/vdGTG2q\n",
              "wbLDJgLIzekUxR97sWc7ErD5qb228HpC6ndZNz1VAdPmFnn9DqlcEc85nR7a7Sir1x0auAPMRCLF\n",
              "5+E45pVZtlt7HL6RvP0xXaeTveGc2FiN7V2DiCVS2N41gClj0t/zv732IXZ2D+ILi1r56nUPh5zs\n",
              "+JRXrwdsqQDVQTO93og8vL5lTz/+8EIbugdjOGr/sThx5kTX7dHN6Vzb1onn3uvA4v3HAsiKMnvL\n",
              "JD4iIuKH0ykeU04V4CHuxtyL0yk4vYkU7nqhDW982IXx9dX4wqLpGDPKfgOjmjjF3wiloz/dg3G8\n",
              "tqUT/1q/AyccOsH2uo7eCO5+oQ2L9mvG3NYm5XssNSQ6PaDTMmlCYzV62nsB6OdiysQG+5jTly0U\n",
              "MDGtqRbvMGMBCzmRyFq2aiJRfXUwk7/GiuVcXGBR5IsX3VCAF51+OJ3W+xLDeaMYp7M/mm72LZ68\n",
              "xBPfzx99V2s7LLFsCU83R1SG6HRWhwKZ3oDWhYE9ppycj3So394cXp7T6RxeB9IXFN2CHdPIHjfx\n",
              "ZArdg3Huwu/kINhyOoUT+h2rN2d+/udFR+HgCQ1aDmxVkBeAorurqnJmv/9iTudgLCnvdmF9vyQ3\n",
              "dV5varsGYqiTFOTtKmh4ncnBY45l3er1XMLrCQ+ik3WsxNCwbB+rw+vZ5ezbMgrbu9JCvm1PP6aM\n",
              "qcW7O3vwn3e/AiB9M5qrDyDbH6rm8MGh1BRryEh1KJC5sZGJzu/f/waeeGcXAOCuF9rwxH8fg33G\n",
              "qvsTA/bcy8znJhHHX7n9Jaz5n+NQXx3K5nQqwuvRRNJ2gwmoJ9yJON0Y2UajOojOqoC+08nldAp/\n",
              "7uiN4Hv3ZYcA9EZi+J9PzLAtQya2+yNx7oY0YKbPJdb5/Pw7X8a/v/0xTBXO+b949F3cuboNjc+E\n",
              "sHrlcY43aqWEwuse0GmZ9Kuz5qAmFMDYuip8Q9IHUoab0wmom4IHTQNj63lxa+apOp1Ep3VSkF0U\n",
              "AeDWc+ahKmhiypganD53qtYyVYgiX1ynLa/U45ldOr99aBniF7amim++3DUQs4VpnJLZnWC3261B\n",
              "vEpYTxpdzf3OLscSauyNAtsiSUTmdAYUE4nUTidTKR9PajuKAdNAK3PhW7+ti/u7eJJmLxJuzeFZ\n",
              "7h0afaojOuvD6jQPADjmwBabODnu4HEYw4bXhZzOwbg9p3Phvk0YV18tXYdbaP1HnzoUADCvdUzm\n",
              "sW17B6TOMOvG6uCtkCj7XPY75FTpC2TFhcrpbJK4RNl1qgs6bC2TmH1uvc7aNtl3S2cwx8TG7CSg\n",
              "vX3p9f1j3fbMY9f86x0u1cZL9bq26Bz6vrJtk6qYnE7ZTeYHzHAKAHhvyCxxQgyDO425HYgl0N4T\n",
              "4abriKKSPU9I0y6Yhxybwzuce8X93RdNKFs0sdszyDmd9m1zapkk8v6uPunjsptoK8RuETANbhhE\n",
              "KgVs2WvPH27bk84n7xqIYdNu+frKAXI6PSBWNIuYhoFDJjZgzf8ch6qgqVUYAsjz4sT8vlFVQWkP\n",
              "wFDAtLkA+YbXnWbMWwJJvChaJ+x5rU148XtLURsOcM/xx+nk1xkKmgBj2njtkyovJJKve1QVnzPV\n",
              "NRCThNdzm/rBflxuIXbVZyu202FdAUuosRdkN6dTdBVMUzV7XSO8nkhqO52GYeDIaWNw1wttAIC1\n",
              "bXszITqAFzWL92vGVafNwlFXPwHA7kaoQnaAeja5jPrqYEaoGYZ9P4xrqMbqlcdlLuJVQQP7tdTh\n",
              "mn+9o1xmJJbkXOtT50zGTz8zO/O7+B10a2P2+UWtOHHmRDSPqsLcHz+K3X1RtO3pR+tY9TxuXcRc\n",
              "ZSdYUVcbCqAT6f3M5XQ6jMFU5YSOb+Cnh1UFzMwxzI3YFF5vjT+1PjPRFU2lsvnGsmNZp10dW11s\n",
              "5ZCOb+BvAtmPz1N4XSHmRKxNbxhKTQHSN57W62U5k+JNsk6Rihg9sJZvCfjZUxoxKhzEc+/vHlpH\n",
              "gnu/qup1IP19FS+ZfoTXZTdeXQMxjK2zT6RjYYWsbBlO4XUR1YhU2XIH4wnUGNn3ahoG/uv4g7B1\n",
              "7wDue2UbAPlxwRaqtu3pxyETGxy3qVSQ0+kBt/C6JQjqq0PaghNQVa8LOYUKlzVgGqirFkWn9qql\n",
              "6IXXRaeTqbavDdmdmlxEp+AwiScscZl+tkwSt7+mKsi5CDLRmavTaXpwOp1CrKxQYSfjWBcK9uKs\n",
              "StwH5JX0stGngEN4XQjlaxcSGcAR07Nu3cub93J/Z0VJc12YuzmzT0vJTXSKhyr7/VJdW2qqApgx\n",
              "qQEzJjVg/3H1Q6kSzhdJdntbGsJchMKWM61RRDS2LgzDMDCtOS00d3QPZiac5IOX45rdn+yxzPfS\n",
              "lL1uKNSt2MHjBBHHFco5OJ0AX8Ql6ydpPSa7qdISnXX26mLx/ME6nV6q1+VOp/rzqGG+D8lUytHp\n",
              "FEPSOqJTDK/Hk3zqTMA0cNCEem5b2c9E3MXsfpJtI9en00l0OpzPZDe8qvfKPpXdPzJR6ZYywiKb\n",
              "VAbIm+IPxhLc+qzjsrU5GwGSiVX2NU7TsUoNiU4PONn7QB7V6y59OgG16AwGDFveVq7bwS5ThZkJ\n",
              "r9udMOdl5hBeF/a3eCFWua26yBvMy5cxqiog9JCMajudsrw6Fna73Xp1OmmPyWOyYT62QtkSauyJ\n",
              "KuKW0ymtXpeE1zWm58QTKe1CooBhoLW5NhNOXdvWyV002JN0yORD/uKJX9WGBQD2DDmXMpEiCg23\n",
              "z0+F7HttIYbXRSfTNnzBw/eHLVhjQ6hOIWonvDj47D7nRadzeN36s8oRn+AgOrmG75LXsyF22+Sc\n",
              "ZLZJv+zGWM/ptA+OEPcZK6i8OJ26LZMs2BudSCyZ2U+yvGoxJC3r7iAiu1ll31tASM2JxHkBpWqZ\n",
              "lN5G+7JTmjmd0XhS2ZJOJgjVopM5R3I5nfbn8kVpuYlOmbMfiQvhdUlKm+x17Guc2neVGhKdHnCa\n",
              "iwyo8y7dqArYBaXd6ZRf+EKmaWvvk/dEIienU1m97nwo5eZ02ud/s4jb4Ll63cHpFKmRhNd1czrd\n",
              "Llx8eD33AQRsXidbOGC5TOxJXZXTBKQ/S1ufTkXTcnXLJCG8rnmlNYeKOY6YNhpAej9vZIQTNz0m\n",
              "YCDAHAOPv92OW5/5QPpckS1D+U+yC5JddHqbCGbhOEElxk8ksuUr28Lr+sf2NIXoZKdqecE6rv/5\n",
              "xg58+bYX8cLG3crncuF1RU6ntJDIal+k+MjEcHXANDKumVPLJIAXGLYOB8lUJiQvu9l2GoVpwfbI\n",
              "tdp8ieeCDzuz/Vs9aE7p+3G6CWCFWSSe4L6fvPBN5eR0ys4bbM6vKXThiMSSXNsjVcskQC6kWKHs\n",
              "NrFNlXssPSYUbZPY9fHV624tkxw3Df2K8bjS8LrgdFrXXPb8K9sedlGbSXQOH5wEmddClswyJbPO\n",
              "dZ3OgMTpzDe87pTT6Va9riIX91XMVRXXKbo/fvbplG0LJzr7JeF1xcWgXjHVJLNOD06n0w3FEib3\n",
              "cV+mf2siE17PnpWcNKB0IpGiel11M5F7eD29vDnTsiH217d2Zn5mL3rBgGlb/w///mZmtrIqPxBI\n",
              "h54HhdYkFmJvRrcCQhWenE7hWK6yhdf1T9XTmDAcm//XkrPoTC/j/DtfxuNvt+OMm1Yrn8vuT76Q\n",
              "yDkEbl3sZRdTwJ7TGWCGFbiF19nvqc0NZ1x42Y2z15xOa11ijuEmRvw7DYkQkeZ0OjidrMs4yDid\n",
              "AC+S0tXi/Gv1cjolBTW2aWbsNogCin+tm9PJrs4t9UiV1ym74dUKr7s4nWwxpluhZL9i22TRmMFY\n",
              "ktsO6xTHXiek4XXmsS0kOocPTheSXAt4ZP0ixS+Yqv1ByJSE1/OeSOQeXtfp0+nl7zJshUQubpDX\n",
              "VYifpWGoK/9rbU5n3NYySVVB2VDtfOHyktPppD3O/ci+OOqAsThkYgNWnnhI5nGrR2JMU/gFA5Lq\n",
              "dUmfTllRjUWVUCCg7XQOLe7A8dm8sE1MfhIfkjak68+Ezl3er6qZtyg0dMaTynByOgdjSc6hs7cD\n",
              "81a9ziK2z7LINU3AS/U6e4x5C6+nuP9FRMcxwHz2XHGQ5EaDczolTbytx3LP6ZSF1/l91scIxUIU\n",
              "Elmwx9xgPMG3SWO2SfaZ6jQel7VesoXXWaczntQOr8tzOvXC69a6ZLi536r18ROJ7Mt2O6ZZ+hW5\n",
              "1fLwOn8zHJA4nVJXmNl2p0EFpYaq1z2iE3r2itsYTEDdpy4YsIfX822Z5BQqt5ZtGHxzdjeXMaec\n",
              "zipnMc0KX9PwnlYgOrpOYt00DS6ns3MgajtJq+60G2r0CtCA3KvXgfRxdMdXFgAA3mX6tlriRndK\n",
              "hrJPp0QYqfY5HzbTdzqt42h6c1Y4sXft8STvdMqquq2LslNOJ5Cela0nOv13OiPxBCfQ7Dmcwr72\n",
              "0JqB3Xcsub6PdAWykA8YT0hTQdiLc41CdEqdzsx0IPv6g6a9XZdhDO2jmPuyOzmnU+hwkExlW4pJ\n",
              "hL3TYA6L+uogQgEDsUQqk3LjVPHvRQq4tRES4fIpY0le1DGiTHauyjm8LgwmCYtOp0N4vYoxOOQ5\n",
              "ndmfZcdbbVUgky+pdDpd8ny55zJPjQ8dG8GAKT2uvFSvRxNJxBJJm36QFxLx50tZHYVMSLM6VBxU\n",
              "UE6Q0+kRndCz52Vq9OlUtWsKSpzOPI1O7ffIihA3JyaXfcM6nabEhWTXn4vLHAzw893dxLpbyyRZ\n",
              "SyvA3WFiV+tUoZl+rt77lN0VO4WbWQKGbCKR/TN2Ok6CgoOhW0hkidipzMlyM9NzjpucFDCkn9lg\n",
              "RnQ6r7Ntj1x0ir0ZdSZFyXCuXuedTj+L5Frqwq4DJ7wwGEvaOgN09Kbd5Ofe68DSa5/CL4YGIbDH\n",
              "GCs6B2JJfPX3L+GU65/lRoVaZMcpym8C7GN3szdBTs3hAX4CjczpZJvDy9btRsg0bSNynVr47OmL\n",
              "Yum1T+HXj29wXbZXt4oLbccTfHiddTolURk30XnVP9/G9U++b3ucdRiDQmqO6HQ6tkyS9A7mX2v/\n",
              "nrCpSx+95kk8+Pp2iHhxOu03V0nlMviUEeniONhiovfae3DSL5/Gw2/utD1PVb3ultMpbnu5VrCT\n",
              "6PSIk3uRa9W4WBWfLlji17Nkv7GQIa1eL0J4HeC/BG7rzKk5PCO0pZXTzGNeGi6zsJ+n+B5aGcdo\n",
              "8ugarmVS90AsE8a1UInOUMB07HzA5XS6FRJpHmP8GEorvK7vdEqbw3sI+eY6kchaZE1VIFP4wlZi\n",
              "yiq+xV0yEB1qv+NyJXh3Z69W9XquDqFzIRGf0ylGF2x9Oj2E103TwBSmk4FFru8jErc307ZGaf7m\n",
              "yffwXnsvfvXYBvRF4tzFmU0J+ttrH+LhN3filbZO/OQfb9nWYb1OdnFvrLG3YDMNAwFZTqeLwJC1\n",
              "TIplojX2z6smFHDd9wHTyBwz3Yrwush77b346cPvonvQWejpDlWYO70JADB/n6bMY5+aPUlZSCQr\n",
              "RlIV1wDpKVY3SAQnwItZ0zS4c9hgLOHYMokbWOFSHGMYhu17IV77vnHXWvsycgyvA9mbB9kyvITX\n",
              "AT4X98u3vYQ3t3dLnydWr1vXXPY6IetBLB7b5VpMRKLTI84uYG5ib9Jo/gIhu1idMmcyPr9wOj56\n",
              "YAv3eNA0MUpwQfOfva73Hlkh6Ca4QwETV396Fj6y/1jc+7XFWtvBOp0yF4IXnVqLtFHl8B5WfXEu\n",
              "jj6wBd898WBMbarlxMievii2ClMhVG0x0ikQ6gs+F153yVvSva8JCuHt9P/6OZ228Lqket3pOGEL\n",
              "YdITibRWzYlqK0zc0RtF35Cgl1V8X/Pp2dwyrPC6m8h+pW2vVng9d6fTKbzurXrda3qKrNuF6tj6\n",
              "/skz8IPlM3DUAfIb27TTye9La5TmxqFJK8lU+jvBCkAvIte6aMsu3g01Idt30zSyQpwfRygLpUaV\n",
              "f48nsxd4mbg0DAONNc6tpoKM6OyJxBFPJLVHh27dM+D4dx2n83MLp+GTs9MTa048bALOWdyK42eM\n",
              "x/98YobS6ZR12ugaiCmLnPoUN9QAL7ADBt9uLV0U45DTGeTPEyLia0XTp84lXx5QOZ3y9lDi/nZ2\n",
              "OvXD6wDQxzSId2pppHI62XOCTtpFubZNopxOj+i6gF4Qc7BkJ2vTNPCj/zgM0XgSB/6/hzKPB03D\n",
              "Vh2d9xhMx5xO5nnMSdqtZRIAnD53Kjca0w32wimfhpNnHgGAqmAAQPpkIK5i/3H1+P2X52d+DwcD\n",
              "qAkFMBBL4J0dPY4Tb1iCpuE4B5fdda5Op3Z4nXcaAW85nbbwrmEv2nG6AWNfH0/qTyRi39/Uplq8\n",
              "uGkvgOyEDd4dTD/3tCOnoHMghh/9/U0AWdHpdsF+Z2ePNHIhFq3kko8MuFSv25xOsVrdW6GeiOy7\n",
              "IQv3/+wzs3HakVMAAF9asg8O/+HD9lZg8YStgKS9J4LBWAI7urOh8q6BmDKn041MyyTFTYD4/tlC\n",
              "onyczrhLc/j0+oPo6JXPq7fSftgble7BuHbxVduefsyYpJ4c43YMX/PpWfgMc041DAOXfvLQzO9V\n",
              "QlFP9me7KI4nU+iPJmw1AoBz8ZKtep3tFRp3yekM2M9TLCnBJRW/Uw2SziDiDHe3jgb8a/nfnZxO\n",
              "1jnWuTlw6jrAknY6s79bx6WX6nWAwuvDhkLkdIrJvtUOFyv7xUlSSJSnFtMPrzMuoQ8CUIR1OmWu\n",
              "Wq5igIV15HSWZ11c+jRPIED6ZKEqBAPE6nW3lkl66+QKeYbO+trV65IbiMBQ/0z2+HMS/XxOZ0o7\n",
              "N43dF9Obsq1/rLt2ruKbWQcrcAajzjmd1oUrlQJe39pl+7tf6SruE4nk7wWQhde9Hevixdk07G2Y\n",
              "0ut1F7eRWNJWWdzeE8HWvQPcRbp7IMYJh5oq/W3OtkyS5NjWhmzHHlvYxgpdJ9GZStmHFLCOpErY\n",
              "O+V1Wt8VMd9b1+ls2+M8I9vte+OWS+/F6QTUFeyqMY4AEE0whUSmWEjkIafTpWWSzOmUtaMTBbJb\n",
              "RwN+feLxoXY62ZtGLadzyC2WdQBgiQit3DKFRFyevrMrDJSv00mi0yOFyOmsDgW4iRtOxSSiixkK\n",
              "GBLRWazwujy/0y+K43Rm36vOftOpZhUJBZydTlbUuDWH1xVAXKVjDk6nSKZBcYAVnfrhde2JRMwi\n",
              "pzVn006su3au4pvZTlbg9EfjQ3O1h7ZdeDvHHTzOcRvsc+dzO86cq9f5fSI2f8+nZVJ63UK7MdOU\n",
              "3lSJx7zshiMicTp39URsvQA7B2JCn079QFq2Obw63SEgiM6M0+nSA9RybmWH4AAnOuWf1+hadXjd\n",
              "+lzY56RFp77T6YSb6HQ7Z4UVok4lilV5narUIYAvSgoY9rZN7HsQN5c9ruWik3+tW04nYBeUXpxO\n",
              "cXdbjrB0DCYXXpcujsPq1bmt0zmlQuwWYb1lN6dTfJ9sAWY5QaLTI+LJnCWfSUBsbz23Vi8sMhct\n",
              "/5ZJTk5n9ueQQz6kH3jJ6cwVrpBIY3ENEtfDvTG+6eh0soeNm9OZS/W6dXLUFX6yfZ0ZxcZcmJ2c\n",
              "4VwnErHfoWmM07l5yBFiXa0Q53Rm9+9ALMl9h8Txjx9zE522ufM6W27HuU8nfzEW96UYbdBJX2Gx\n",
              "tQOT5OSml2sPW8u2VQx97uoZtF3UugZifE6nh1xY6/otE1lWn1vxfGP9zq5TdoxbxT2qRtwWKmHv\n",
              "5HRa+4s9L3T2R7VHh252CYG6fWfdjgtl9boQErdQibE+RZ9JgA8zm0IRYiTGN6F3StGRhdftTif/\n",
              "3ayX5HSK6SHyPF+PTqdk29ymbIlYvTrdxGAkLs6r18vpFE+x3YNxx+KwUkGi0yOyEJVFPrprKiM6\n",
              "d3bL84dkBAOmNMk+H5zEc67V67nACjX5NByfRafGe5BdgNhG5jLccjr5iURu1esuGzgEn1NpOZ26\n",
              "bqPM6Uz/z34OTt8FsXpeu08nl9OZdTo/HGqzI7ZMsmD374Ag6NjZ2ABw2KRGxylR4vvP9YbKOacz\n",
              "KYTXnUWmV1dfFLxBhei0tSGTrCcST0pzOtuEIpiugRjnplcF7ecmFdbFXnZzcuLMCbZtM43s56Ka\n",
              "vV4/5IJZQkp2DLKOnzqn0ym8btie46fT6ZYL7bZ/VROJ2PfNjkdVic6BmEMhESvchZZJg3Gxet1b\n",
              "eD3lVkik43RKjolIXF7sZcvpHLp5kLmlUY/hdStFwe0zF29IZdXrsqiV7Pje7JK+UQo8XbV7e3ux\n",
              "YsUKGIaBeDx7EL766qtYsmQJ5s6diyOPPBLvvPMOAOD555/HnDlzMHPmTCxbtgzt7e3+bn0JKER4\n",
              "HQAmNGa/+G45Hyyymcz5htedUFavFyCns4ZzOu37vcoh91QXpxxdGeIFyDCA/ZiRkzKCAQOjnAqJ\n",
              "fGoOz5LOwUz/nKle99AyyfbY0MLY9Ts5zUEhvK4/ez37c/OocOYGqr0nLTplLZMAIaczluAcItHp\n",
              "bKwNOYp7UYjlGsFwrl5PKN8LYD/PeM1ftr/ekC5D1+kUczp39URs+YhdQng97Ubq7TtZL9mLP34g\n",
              "rjtrDg6d1JheHvM5sN0UYoqcTmsmel80nT8rcw0HNHI6ZdGNzGuG9ulooZ2aaiSuyLa9A45pL24t\n",
              "k9zSmriWSYqcznFMapeqqtvJ6WRd3fRgCdbpTDhXr3uYSGQa9ul9sptHUXSyy7COCQC2iXLic9Pb\n",
              "n94mmfiPe6xet1IU3Ap8VHmwXE6ntHpdIjrLsJjI05nsmmuuwbJly7jH2trasHLlStx777146aWX\n",
              "8Pzzz2PatGmIx+M4/fTTceONN2LdunU49thjcdFFF/m57SXBSaTkE14fz3zxveAkEAoBe0EOFTin\n",
              "k20zJHuffjudOj3xxMbhkxprXGerB00DtcIdOSuSvIzB9HJDYQmZWCKFVCqlXW0vO36sY5s9sTnn\n",
              "dPIORi6FRAHTwNihEYNWi564os0Q14g8ygs60WUeXROS3qyx62XJ9dh2dTodWyYJv3vcBnt43ZQK\n",
              "QKeBC9y2SkTnJuGC1tnPh9eDpqmdAiM6ndUhExcedwCWD7UCErc1YGRFdColL0RibzbWbeuSCoeI\n",
              "Tk6nR6ezsz+mHIkrEk+msL3L3izfwu1743azz4aj17btzTiHrFAczzidr7R14ol32jP/1rbtRTKZ\n",
              "cqy8ZkP1piFpDp/khSML39rNObxuSJxO2flQFJ3scscwubeyoinxGvDKlr147r0OqXPNh9dtf7bR\n",
              "F42jZzCGO1Zvtv2N/W6mx2Bm/5YRnW4tkySPlWMxkaeWSZdddpntseuuuw5Lly7FZz/7WfT19eGc\n",
              "c87B+eefj+eeew4tLS2YPz/dcuarX/0qJk+ejGQyCVOWrB6JIBLhw8qJhH6FcLFwOonmI/bG1ecm\n",
              "OqXbUzjNqZxIVIiczupgAIaRvqhI89F8a5mURkcYiU7ntKZa9+If00StICZH14Yw0JU+vrmWST71\n",
              "6QTS+yea4HsRumG1gBGxxB57TtZvDq9fSCReRMY1hNHeE0FHbxSJZEoIrzNOJ1dIlODEqXhs1lYF\n",
              "EHKKWAjbkGuOtGP1uuh0uvbp9Cg6JeF1WfNz8Xslu++SFRLFkym8197LPdYthNeDpr2Ztwpx9rrs\n",
              "XMpuqmkY3HkunkyhyjQ40dDMiM5Tr38Ovzn7CNsyWTGhEnA6OZ1sm62ugZh2TieQdqPY9CoW1+p1\n",
              "D+H13z+/GRMaq/H1Y/bn3jdrePzxxS3444tbuGWcd/S+julBttnr4hhM7ZxOd6dTPK57Bu1hfzGP\n",
              "UXVMiOI0lUrZjv8bn9qIG5/aaFsHIITXNc5vnf0xHPuzp6TttEaFg5k8U9UYTLfm8LJNKMe2SXlb\n",
              "Rc899xxeffVVPPTQQ3jwwQdx3XXX4dFHH8XmzZvR2tqaed7o0aMRCoWUIfYrrrgCjY2N3L81a9bk\n",
              "u3m+c+5R+yr/lo/uWrJ/c6Zw5sJj99d+nexiJPvyemX21NEAgDG1Ia7Q5YBxdZmfD5qQ7i/X2lzr\n",
              "OUytg2kaOGRoHbK8ST/WWeVy9yhy2JRG7vd5rWNc3clQwO50shcyPrzuz0QiIHtBiifsrWLUr8nu\n",
              "j9OOSPdvHFUVQNOQQ8DmWDn26eRyyfQnEtlE59DNWCKZSjcfZ0dHKnJhxZyoUMDIVKzPnNxoa7/D\n",
              "snz2JBw0oT5zgv/ykn24avdLlh2k9T6s9aoQ34vosh08gT/e3fKGRcSLsyrULYo7WYiuL2KfSCRD\n",
              "LCQKBOyTrVSI1euy49zkwuviWEC70zl7ymju9Y+9bR85qBNenyl851msm4NcczoBYHefOoff1el0\n",
              "MTrE4+iZDR0A+JzOmVMaHb/Lj7y109npjPFOZ9A0MtdCUUCJ0UD3nM7sz6bkJmb57Ik2IeuU08m6\n",
              "36I49TrUjm1mrxNef6VtbyZiI8LWLwzGxebw6f/dxmBar2EjbxXvdMro6OjAr3/9a1RVVaG5uRlf\n",
              "+MIX8NBDD+GII45AICC07QgGkVTkla1cuRIXX3wx99j//u//5rt5vnPQhHrcvWIhOvuj+OnD7+D9\n",
              "Xdm8pnyqxuurQ7j3a4vxxrYunDxrkvsLhpCdKHWb0Dpx8xeOxGNvteO4Q8bhg119eH7jboyuCeE/\n",
              "5kzOPGflSQfj8KmNWLhvc16pBU7c9IUj8cyGDpxw6ATb3/xwOtm8Ox3RecyBLfjt547A2zt6ML6h\n",
              "Gv9x+GT89in5eDiLgGlwlfgAL5LYd+E+kchDeJ2p7tW9EWFP4Jd+cgYW7NOEua1jsqFMyfKl6xaS\n",
              "3nXH+YmLbKnLhv7aewb58C3zZLa91oDQeD1gmrjq04fh4fU7ccxBLcptv/LUmThx5kRUhwJ46JtH\n",
              "4dUtnTh51kTUVgXxtws+gvd29eCkmRO13geQvsCGg6bU2ejsj2E3M0ZVPJY/PmMCrv/sEXh3Zw+m\n",
              "jKnF8tn66wUUOZ2K/qsssk+pNxJ3bJlj0TkQ5cW+aaKhJuTaIgawh8elRU9C6gXr3MaSSdQgwK3/\n",
              "C4tbsac/it89uwkAbGNrAbFPp/x4PnB8Pe46dwH29sdsYxat/ceG4Ds9Op1OjeRdRafLNeewyY24\n",
              "9Zy5+PJtLwHICjt2nVPH1OKP5y3E0+92IMUcAXe90Jbux7pnAD3MRKLPLpiGRDKVcURFp9Mw0jcb\n",
              "/dFEujm8REBZsDdC0pxOITQvHtfTmmrxp68uxD/f2IFVz3wAwEV01qmdTlE4XrT0ANy7diu2KKZG\n",
              "ceF1jfPbXodK8nDQRFXARDSRREThdHKpCA45naNrQzhlzmSMb6i23XSUA3mLznHjxqGhITtRwTAM\n",
              "BINBTJo0Cdu2bcs83t/fj76+PrS0tMgWg3A4jHCYrzIVRWu5sGi/ZgDArx5/j3s83wKeQyY24JCJ\n",
              "6ukUMmQnSp0LhBvj6qtx1vxpmZ8X7Ntse05DdQhnzJuW97qcmDKmFmfOl6/D75ZJOqLTMAwsO2wi\n",
              "lh2WFQFubk7QNBAURCe7XjZU4up0egyvA2nRl0vlen11CKfPEyZIMYtxClGHgryDoet0ijcv4xqy\n",
              "54RdPRFlxbctp1Po5zm2LoyzF2SPI/HYGVsX5o6zA8fXc+7izCmNjo6XiiqF6ASyIyRl2xMwDZw0\n",
              "c6InkcutV7I8af63+JjiY1JN5GHpEprDp2eS611ibOF1ybayh4YpuNVWA3B+DKeJLy/Zx0V08ukA\n",
              "KhbvP1Y6ItJ6DVtstLcvqp0/DfB5pSKuLZM0brw/dlDWqbdCwqzYDodMHDFtDI6YNoZ73RvbuvHo\n",
              "WzsRTSTxAXOsfuUj++DhN7OuMdenc2h/WKLTfQwm02Ujh5zOgGlgbmsTWurDGdEp5mpyotMhp5Nd\n",
              "1/x9mnDR0gPxSlunUnSyn41ueN3inMWtuO25TZnfrdHD0URS4nRahUR6+8o0DPzwU4e5bk+pyPuq\n",
              "vXz5clx33XUAgJ6eHtxxxx048cQTsWjRImzcuBHr168HAPzud7/D0qVLEQp5b65drtgrP0uwDZKT\n",
              "jh+isxLwRXRKWgt5xa3iPGCatkbZYUUrE9ecTk/h9aFComTKdQ65hZtzwjmdDs/lw2YpfafTFl5n\n",
              "nc6IsuKb3Z/plknOYiLfMZO6iDcR4xkRvbEjmxPp9/plOZ3S8LqwXlWYUEt09vNjMIMBA6Nd5pZb\n",
              "WMeHdfGW3cBz4XVhLKv13U1yNxsml2spFZ1s5bWLgDMko2Ct46g6FMgcg+2KEKoKp1A8+3nIzg2y\n",
              "PF0Rw8iGpeMZpzP7vlWjd9ne0W/t6M78XFsV5I5XsXodyH4fxZxOm+g0+ZtTEVGwiud86yZVTG9g\n",
              "UYbXHZxO6+3JrjHW5xDlwuu2p9no7M8ef2KecNA0M0NhIgqh7toc3iEfupzI+6p98cUXo6+vDzNn\n",
              "zsTixYuxYsUKHHPMMaiursadd96Jc845B/PmzcM///lP3HzzzX5sc9lg749Z/A/bEhbstgw4jCwb\n",
              "TvhxofbqdMpwdTolLZNUuUx+Vq/n4nS67VP2ZOhcSMSHzXTXL15DW5gCu109EWXFt8n0BxSbmcu2\n",
              "U+YsFgLxhuSAcVn3lBUbftxAOa03oJhIpBNeB6DMRQOyvQ97InHuQhw0DcciHJaM05lSO518IZF8\n",
              "1GtcCMfWh4OZZbmF13U6BNiNhuw+taaV7exWV6PLcArF886t/dygew609lUmvB5zv9Gd3pwVnaxL\n",
              "VxsOcOvlZq8bWREODFWvO7ZMcg6vi7PXVTf49dXZ2gMn0dns0DJJtp2ytnzWe9NpDs+mVbGfZThk\n",
              "CmOes+cvsXrdMhrYfeWU01nmmjO38Dp7IASDQaWYXLp0KZYuXZrbllUAonNQEtE5tA3j6sOZ1hv5\n",
              "TiSqFPy4ULvlyejg5k7KmsOzxw6bkC6eVE1DnMqhv11cIVEejeFVOB3vnIPsYSKRuMyWej68zm6f\n",
              "+P2rCQUwGEuiP8oXEumMUPWh+5YU8fPcf1wdnnmvw/Y8P/KTWUSnMxRQNIfXKCQCnEXnjEkNeOGD\n",
              "PUil+Lw10Wl0Qie8zm5rCrzgs47vJCNaLResoTqIvf0xaQSIDw27HwRB00BE+N2isSaEnd0RxxxN\n",
              "GY5OJzfhKQCAF0q639f0DUf2Zox1eFVjl6c1yyvqa0MBBBT9Na1rD+d0OrRM4tJw4s7hdVlzeIuA\n",
              "aaA+HET3YNwmJtkoC9cyqZ+/CZFV2UudzqHPgR+DKf/e1FcHpcddVcDMpCAA6c8nu8/4dKSAxOmM\n",
              "Sa5VSYfvTjlRgoDw8MHvSUC5YF08b/jckTCG7gS/dsx+xd+QEuDH7HU/QhHuLZMMjBKq19lWTWzr\n",
              "DdHNEH/PpZAolkxqh9fdnBP23Oq0KUExvJ5z9bpQSORQ8W3ldQ7ExJxO+2nO1pKoQKpzn7H84ID9\n",
              "me4PhVy/zMnVSTNQ3Rt09MqbhjePquKai7OV2AEPTqd10dbN6Uym5NXrlvhkv9dO28BVr2ucT5x6\n",
              "uOq+VxHVHHSAvxGWtS3SFRjW8WC5kqzQVY0rnSZp41QVTDvmXHg9Znc6w4zT6XQD6KVlkmz2Oot1\n",
              "gyOKSdV0MqfwunXDIvteWp8DeyOvEp2hgGkrIgXS12mxz7V1rh+M8VOcstXrTFTOJaeznCHRmQfi\n",
              "AVmKOwzr7vzwqaPx9CUfw7PfPTbnnp+Vhh+Orh+TlNyczhBzF5t9jLlrdQiv5yM6s+F1D06ny/7g\n",
              "T6764XWV5hRPyOJ3iHU627sj3B2+KBKsi8FgNGHrFykifncL9dU9USgEaqkPo0EyTMCPGygW8eIc\n",
              "NOUTicSbLpXoVDmdAdPgKrd3M+I0FMghvO7Yp5NxOlMpYULL0OQYSXjeaRsGNVomsTj1T23UzF8V\n",
              "cXJGWcdLFlrWveZYI2ut/cTldCqcziljamw3ltb3lQuvc9XrQ8sUcqwtxELBoCRFgkXX6QSyn3P3\n",
              "YJyLxrKic8wode5nig1pD22WLLxufQ5RLrwu36a06LR/36uCJvdeQkPOJ2DvNqJbvZ5pN1bmojPv\n",
              "6vWRjHjRK1TbICfYc86UMfJwyHDFD5fSj7xQtzxMWeWw6g5fvLDYw+0eRKeZQ8skl+VzktPhqdz7\n",
              "i6ub09dWBbjwk7jM6lAAjTUhdA3EsKs3gn0TWedQFACW6BSdTpmQFkVeoZzOj88Yb1vvtOZavLGt\n",
              "m3vc65hLN2RVvrJj3ZbTyU2cMjLhWLaQSEz5YEXd2zt6uGXri870/xm3xmVbk6mU9CIsc0oba9Vi\n",
              "8Ln3d2d+1jkXiPuLDckXwulMcIVEeeR0Dh0PmfB6TH3OyT4ewMSGanzITEyy+kmy+57N6bQ+t2qh\n",
              "m4SFvWUSE6aPp3DPS1vQ0RvFl5a0ojoUEELzzqLTKlpLJFO46E+vpnvTmiae35j9jKuCJurCQfRG\n",
              "4i6FRPLwOtu2SSe8HpS0y7O2g122aRrc59AftRdnyW6yWKzvbqFShfyCRGceiAek324F4Ywfd3Q6\n",
              "eVxuuFWvp088/FdNVUgUCpgImEbm4ml3OvW3Sxytpvcal/3Bhtc1l+M0BtMWLZB8pi31YXQNxLCz\n",
              "e5AvWhB2Rg3jFPAFIu7h9ULlQcuEyPSmUXbRWfDqdVMaPnYqJGqsqcqITVbEHzyhAW9uT2//oZMa\n",
              "MgU0IkHT9CA6rUKg5NBrXRz3pFDNm3AQnZrboJvTyRJyWY8o0GU4OZ1iCygR7ZzOoedZ+ePW+UDl\n",
              "gFtMa67lRKd1Y8fuK6563QqvKwSUeM5mb06ffa8D967dOrR84KtH72efSKQRXgeA+1/9UPoc65h0\n",
              "F53p/2VpKtZjyVT6eAuYhlp0Dp3PRaoCAduNOZs+0c/0RbVezy5Hdj4dMdXrI5nlsydlLuxNo6rw\n",
              "0QPHubyC8BM/hIIfF/v6aueLWjBgorW5Fkcf2IKgaeCXZx5uaynEwoambE6nh+1lBd1AVM/pZJv/\n",
              "y2CbRzuJfu4EKhT2sNjyoiXvz5qCNRhLZsQOYBeTrEBnx+PJTvrFapkEAH85fxGqAiamNdVi0b5j\n",
              "uRBfodYvn0ikUb3OfExNku0EgAuPOwBj68KoDwfxvyfPwPEzJkgdqGDAUApSEUsAWAaOW8ukZCrF\n",
              "9y10qH7X7RWqk9MpCjQ3cet2bgCcnU7W6auROp16l/BMTmeCz+l0i9JMb+Jzkq0uHKzYjkhuBNnl\n",
              "9sfUopM9JncwVf+/eHQDAPc+nSyfmj3JdUqdaWQ/p66BGB+Gl+V0CseEONnLMgxU57eQYiqXGF6P\n",
              "JZLcTYVMqLP7yqlPZykirl4gpzMPPjl7Eo7afyz29kcxaXSN9sg3PzEKOWi9zPEjIulHHq6bkxIc\n",
              "qqS9/Uvz0BuJo746xIknkXAogL6hk45YWZpLTifA51VZ4WqLx//rozAMA6PCAdd8YN1ConAwXWwQ\n",
              "T6bQG4kr+3TqtB07cvoYPPTGDgDAuzuZ3paS6nULVnTKBJ14cSpkx4e5rU14/dLjhwr9AtzIOwu/\n",
              "88HDkpxOnebwrGMzWhGWnthYjee+eywSyVTm5uL1HxyPg//3n7Z16rqM1nQmp5ZJ7GMpWyHRkFOa\n",
              "sOe16fYK1RH+4nPYY1AmsBtqgjZHTWRQ2+nMvZDIEjjW8iyh6xalESvYs06nPLyeFZ3sDW/2uyh+\n",
              "v1VC33LrUlxBjbPoPP7QCXjxf5Zmitl+8MB6PL0h2ynCNNKCzDomY4kUBmKJTBSKPUVZ67cNWRB6\n",
              "habFYkDZHD6o2OaqoQlEFtFEkitI7ZOE1/k+nfwx49QhoNwg0ZknY0ZVYcyo3BLI/aDMb2oKih/h\n",
              "dT8cJrcLq3WyMAwj43yIooCFdTrFylJv4XV5Mn9zXRV3IaypCmBiY43WMvXKiDAkYtMX3L5I3PGk\n",
              "zCJ7f3OESSmZ1yoKiQCgN8K07pHs62I6nQAvGGTts/x2J6ROp8YYTPZjGq04rkMB07b86lAA81rH\n",
              "4MVNe7ll64rOPb1RpFIpD9XrKS5XV2yZlEtVuY6As1evO+d0NlSHADiPAXWaSJR0EZ36fTrT25lI\n",
              "pvex5U66GSViBbssp1PmdLICql8zp5PFugkUQ95uKWyNtaFMmF3WgF18vLM/lhGd3LpM+faJEYNY\n",
              "5riTb0+6FZLE6QyYQj5r0kGoW9tvz2G2kE0wKlcovF7h1EsqYUcK/uR05r+M6pD9IswiO1E65U6y\n",
              "FwLxouBle9mTFBvCG1vHj5t1C0mxpCQhKBV1Q22ieiMJpdMpOoyy93fY5AbpNooiik3Yd3M6dXJJ\n",
              "C4XodBaiiEk6e12W02l737zIkTlhsopeAJgqCJRgwHQNL1vuYE8kzhW3yEUnH14PScLr8TxyOnX6\n",
              "/oo3MG7iVuf8rO902rdP16FntzOWSGadTpfOG6LorMlUr/OCKbM9mebwrIBSV6+rzj3W5orV617O\n",
              "+eJ3wNpk1pFmb77FUD6gEp2S8LqyZZIh/dyqgrwDKjqdsvA6OxFLDOfLUgPKFRKdFcgfzl2ACQ3p\n",
              "2ejTm0e5v2CYUi6ikw3ZyNchEUwOIrXKIafTywmFPWHyopN35p0Es4he46U0WdEZy/SVk7XyYZF9\n",
              "puFgQDr3XBRRXnI6ZU5gsagN8zcSfjeGBxSFRBriW0yfkIWMqwJyd0zM/1OF9FnGCc3/LWQ3Aexu\n",
              "SqbkYwFlDbIbfHQ67ROJGNEp2Vc6OZ2OTqdP1eti/qDVW9Otx/D0ZoXT6SGnsy+q/i6qnEvreWKf\n",
              "Ti+I506Z08mJTqFSXrZ9AdO0hdfF14rPl+Z0BgK25YQVOZ3sPrN+FusAZKkB5QqJzgpkyf5j8fzK\n",
              "Y3HFqTNLvSklxQ+d4FdY1Ul0ytaRq9PpZXO5nE7mJMY2SAY8ik7NnE4AGBW2mh0nMwUMblO8VH0i\n",
              "50wdbXvM1jIpxIbX48zzZGLL3WEtFGILFb9HYAL6fTrF+yGxbYzsuA4pnM5pzXyKhs4+bRGa/6u2\n",
              "C+BvuMQ+nQlhDCa7bt1iplxaJrH7VB1ed8axet1hcIRse1Swx1gknv0+uvUYbqwJcW6tLKfTW/W6\n",
              "3vZb54WU4HR6uem25W0PvbRBCK9b8OtK/293OsV2d3xah0jINBTRAr53czSeHJp0lIYV6qybbR2j\n",
              "4hhM1vks95ZJZb55hIpyt9CLgS/N4X36hjqKTonoqXJwt9gLgXhR8BZel+d05hNeZ3ErYmOnMFkX\n",
              "VjeHMZqQuz7jG+wFTqJI4AuJshcTqdNcxEIiEbF9ViHySaV9Oj22TDIgP65Vx8s0wenUEdNs4Vo7\n",
              "43TKUg7YTU2m7FOvALnT6WdOp72/a+7hdSsSoNunUyZevM5eB4A+5oas2sXpNAyDczutG8mgkI9o\n",
              "4danU7zJNAxDejzJnE7T8FY2a08xsTud7MjMRErmdNrTcIJCeD2VSjnkdKqr17kBGvGkurepYRed\n",
              "Tjmd5d4cnkQnUbH4EUbwy2RSFV0A3p1ONuQlhr+8hdfZnM7shUF0fnK9gXF7meyCK8uRYolK5i+r\n",
              "lmXr0+khp9NJPBSaojidspxOner1JBvONKRTdlSpIWIoVmeX8hOnWKfT/mJ7yyTW6RRyOjXHYLKw\n",
              "x4wKe3N45/U4hfat5zuKTpeWSd5mr6dh36dbTifAp03UuoTXrcfZrhtOfToBeSTCep5YSOTlVGXL\n",
              "6Rx6sTqnUyO8HjBsBUBOfViDAUV4XWiZFI0nuZsKVUqC9TmKOZ1i7ms5Q6KTqFj8CIkWw+mUrcMp\n",
              "pO3kdOYaXueapfskctw2RdYayM3pVE1OqqsWm+vbQ22s6OQmzcjC67bQWwmdzgLkdIaFvMv0RCKJ\n",
              "oySmNzA/G4Y3p7NZ6OKhczPTUseG19mcTvtzxdnrspxOWcsl3fD6h53OVeaA3YFlRUkoYGb6WFrI\n",
              "Rp5aWK6hU3idFRei0xkw9cPN7Gd28nXPZH52czoBvkCsVhJeZ7FuFthtHVDkJ1rIbmKyTmf2McMw\n",
              "PLUIFHOPLUGsyulMCQIXkJyvhJZJJ1/3DDbuYtq4iTmrqvB6QMwNTXHidMue7LHInpus/RJPpPD6\n",
              "1k4c+9MncclfXuNuFql6nSAKxD5js3fgB0+oz2kZh0zMvm5e65ict8XJ0ZA5TAdPaMj8PHc6v17L\n",
              "/TENoEnIv8xlDCbAn/jzETmnMs3j57Y2OT6XDa9byEQn+9mJFdAWdWH3iu8WIW2AXYeIbYZ2CZ3O\n",
              "YoTXVYVE4r751OGTMj8v3q9ZntOpEJ0qAbRgH/lxEgrwoVtOdLo4nalUii+8GAoZy1ou1YQCWtPi\n",
              "VK25WOzCj/990mg+r3XyaHUrMktkDMYSnOBhYd+P2LPXS6RH9f5Zp1nFgePrMj9b6RBNijaB1jbx\n",
              "zeHt7X9YnMLrohA8gNmWwyV53txyFTe4XMukgWjmZ5lbaOtyYRq2Qsw/vrhFuU4np3PJ/mMzv58y\n",
              "Z7Lys2CPZaspfzyZxFdufwkbO/rw55e24qXN2VZlZa45qU8nUbm0jh2F/z15BtZ8sBsrTzwkp2Uc\n",
              "OqkR31l2MNZt68T3TsptGYD3nM4Zkxrw3RMPxmtb7Os99yP7YldPBAv2sV/0c73QDHBOp4G7zl2A\n",
              "m5/eiM8tnK69PAD435NnIJFKYUJjNU44dLzjc2UhcVmz5Zs+PxeX/+MtzG0dw91I8MsSeu5J9unH\n",
              "Dh6HsxdMw10vtPHPleZ0qsOkhUZ0gAsRXpe9P9M0uLGM6XAl/7xvn3Aw+iMJjBlVhf84fDLnuFjL\n",
              "cdpX95y/CDc8+T4+c+SUzGPXnnE4fvz3NzFzSiOmNdXi1mc+QCKZwmfmTuW6b7iJTnH2Oivwtuzt\n",
              "ByAXnVZ3iY7erMA4YtpoNI2qwteO2R9/WL0ZddVBLDtsgvJ9WYiiUhTy/3vyDPz6iffQH43jhBkT\n",
              "OJEkYgnYZCrtdMlaUbGjDcWiJC/HrOoY+8pH9nF97cmzJmHNB3uQSgFLZ6Sn7k0aXYPvnngwrnzo\n",
              "bWGb0v+z/YX7I+qWSUD6hp397IFsFEUUggeOr8f3TjoYr7S5n69VopMdFtA1kBXE8j6d9u/R6fOm\n",
              "4v9e/RDvtacdzp1MWkhV0OTSCUIBudMZDpo48bAJOO/ofbGjexDfPfFg1FUHpecv9mO2etMmkinu\n",
              "eN68u495fnmrThKdREXzlY/so3XidOJrx+yX93Y4hfBUF4fzPypfb+vYUbjx83MBAPe/uo37m5fz\n",
              "SUBRSBQ0TSzefywWM3fauowZVYVfnjlH67k6TmcwYGBacy1++/kjHZclCljZRTQUMHH5KTPx0Lrt\n",
              "2NvPNod3dzqLKTrF5vCFCK+r+kkGA2am8EMmxhtrQrj2jMMzv4vHtVvR2bzWJsw7h3c2J4+uwQ2f\n",
              "y36+J8/KuqnWbHdAaJnk8nkkU8B0xhXfvLvfMcQois7PLZyOU49IC+MjhUiDE2LeqvjZHX1gC44+\n",
              "sCXze9vufuWyWAcsEk9IU26STLqAvdl5fqLzjq/MR6viJo+lKmjiytNm2R4//6P7YfPuPty9Juv0\n",
              "WYKHdWXZc4/sc5XdsFspB7I8y68erXe+1nE6+ZZJ2edm+nRKnO1x9dW48ysLsPCKxwAAe/uzx5W9\n",
              "a4Rpc6it5xmGgZWCcJadv/jq9fTyxZZJbnmz5QSF1wnCB5ycTtkkGF1EYeDlhBJS5nQW56QkFZ05\n",
              "5lKKotPpgqtzcS5ly6RRYp/OIvQ4scQROzNbZ7XivvT72BlTW5W5kdrFtkzSmL0+eUxN5rVb9vRz\n",
              "Fb1iRMAWMcjx87Y1wHdZjlPuNlskyBb6sbAtoMQbgICHz0L2ubn16NRB3B+ZPp2aLZMAlehMv4bL\n",
              "6fT4NRGnvlnrrq8OZo6brn42vC7J6ZS0TBK3eW9fViDKbqrFqXLBoaiDCqfoVrZlklp0Uk4nQYwA\n",
              "HAuJ8rhQO1XLuqHM6SxSI7d6HadT8/2IOZ1OIWkdgVFKp1Ms3ijGTYDlegckrokT4r6s8kGo8Ntl\n",
              "YMzQjHfWidSZvR4OBjBpaHzr5j39jqMAVSMRvSI6nW6FiI6ik8lJVVWwsy2g/HY63Xp06iAOBJC1\n",
              "TOp3mL0OyDt/WCI8lUcrIFles7WNVqqCe/W6PIe3OpSdnc45ncI6Q5KcTre+yE7nr0whkdCnkx2b\n",
              "WeZGJ4lOgvADp/B6PoUi4mu9nFCCipzOQoRzZciczlz7Y46qCnLv3ek9iEVdqlA8SzGneFi5lRZF\n",
              "cTpN+0VUZ9eLU3ac+svmilj1DshFJ/uIJRCsMY2d/THu4u8mOnO9yRDHQubjdLI3H6oKdtbpFI/r\n",
              "fHM63eau62BLN8i0TLL3UAXkwlFWhGmJcJn7qIt9DGZ2AdbxoBqDmSkkEnM6h341DCPz3djT5xRe\n",
              "t+d0uolOcX+w+8zanrgQXnebwFZOkOgkCB9wnkiUR3jdZYKPE+pCouJ87cUwMiCZ6KJ5gjRNA3VM\n",
              "AY7T60bX8iJGdhK2XUyKJMQt2M+gGDcB1j5g1yWbUCRiC697mF6lyxiJ6JTljoqz1wFeBH6wK1tM\n",
              "IX7m4jGR642g13ZXKhf7qAPGck6jyulkC6Pqw8KNl4fzikzoyApcvGILr1vV6wpHXDenM55MIZ5I\n",
              "cnmWXp1Opw4VrOi03GSZ0ynL0RSXwd4w2EZvSpxOt/Ov0/nLWr/YHH4Pc8NFOZ0EMQLw2jJJF1nL\n",
              "jlxeO1iCnJ/6sH2fiCdEL5OA2LxOpwtuY417/qesir6YsCKgGO2aMoVEJut0uq/XFl4vwA2LLA1D\n",
              "TKcA+EEOlhiZxjhtGzvUojMfl9AJVV9ZC3F/nbO4Ff/18QNx7emHczmVKqeTrV43hRC7l3tZ2THm\n",
              "h9MpHh+y8DqL7JBT3bBH4sm8Zq/rOJ3JFNA7FJqW9em0R2act9sWXpc5nS7fIfH8xT5dda5gC4/K\n",
              "XHNS9TpB+IGT05nPiEXx4uhlUU4tk4qB3Onkf/ciuOqqg0DX0Osc3oMt901ykrc5nUUOSVVxTmfh\n",
              "7/2lTqfGe7YXEhVAdEpaa4ktsgB+7GpK5nQ6iE6/wusiH3YOOv5dbBE0r7UJn5g1EQCfUxlROZ1C\n",
              "s/vGmlBmXrgXp1MaXvc5PxfI5qCqXFTZflelJqX7l2Z/95zT6eR0slOJ+mNoqA7x4fVMOooYmcku\n",
              "U5aLanNXJU6nm8NsE/KS5vAie5kQf7FvoL1CTidB+IAflaAyRHHkZWQlK2b6S1BIJHOrbM6th/fD\n",
              "Ls/pZaNr3EOppSwkAnhHpBirzjqd7hcwFnHKjls+Wi6I06ZUj7GHjiUQ2JxCTnQKB4goEPJxl8cx\n",
              "TbzZfD4d2O8zV70edw+vA7wg8aItZGkROiMwvbJrqAWWyumUCUddpzPfQiLVaFQrr5MfAZv+3ykH\n",
              "XbbdoqAMSWavu32HxPMX1xxecdPHik4KrxPECMFLvz9dxIujlxMK6yBx85GL5HTKhUPu4XW2v2VE\n",
              "0WIG0K1eL63TKY7AKzRZ54YRu5pnf3Z/FiS8LnE1Ze7nhccdkPn58lMPA+DgdAqfr59O58+ZPqbn\n",
              "HrWPp9eyxx3vdLqE1yWik02ZcUNWAOZHTicAXLp8RnodQRNHHdDiuGwvonMwlsirkEg2NlS2Tkt0\n",
              "JnSq15ltkKVUybpzeC0kysXp7IkwHQLKvJCIwusE4RO//dyReHrDLtz+3Ca8trXLl2Xaczr1XytW\n",
              "2loUq5CoJhTgJuAA9pnaXhynGkXDaRF79bqkkCiPXFk/YC88bnmBfpCUTOrRdbwbakL4sCsdRg5J\n",
              "pubki8wRl+V5HjyhAX85fxF6I3F8dKgB++jaKjRUB9E9GHd0OsUq/HxuvJbsPxZ3fGU+AqaBWVNG\n",
              "e3otu89ZBywXp7OXERpe1gukBZmXqIkTn1s4HRMaqzG1qTYzHtM0DVQFTESFY1u3TyeQbpskzl73\n",
              "gqo5PMA735boTHHnKXl4PSApJGLRCa+73bjZqte576z7PihzzUmikyD8oqU+jFOPmIK/v77dt2WK\n",
              "YsjLiVfsoWdRrDnjhmFgVFXQ8S7cy105d5F2cDptTbSlYzBLXEjErF9VROInlpnKplzo7np2fxbG\n",
              "6dQLrwPA3NYm22PTm0dh3Tb+Jk88xsXwult/TTcsR88rfHidrV53LyQCchedYnjdL5cTSB9Tyw6b\n",
              "aHs8HLKLTmn1uiKnMxLPzqTP5ZRlb+zuEl6XFRLZhGv2Z1kuqszpFPuhuobXxfOXhtPJb2N5q04K\n",
              "rxOEz/j5pRfvtL2E1xtrQ2iQXLyL5XQCdvEgirtcnU5VixlAbyJRqcPrpXI62YlEujcw7P4sZSGR\n",
              "CpmjL97MOE15KSbs/uPGYGq0TAJ4FyzpIStDDK/7Ubnuhmwd3sLrWaczlzxFJ6eTXadVmCVzVXVa\n",
              "JvF/F85vAdOW7+85vM48Xef7RzmdBDHC8NNJtE0k8nhCmd5sdzuLldMJ2BvE59N3tDpX0Vlms9cB\n",
              "/sITLYrTaQ+vsy1inOByOgtRSCRprSULuauY1mwXneL3pFAtk7zCnhu4Pp2qlknC5yYT6DqIx3sx\n",
              "RKfMTZVFNlRFmIPxbE6nH6KTXQZXvS51Ou2Fd4B7IZG4naFALi2T8nM6SXQSxAjDzwuaffa6t9fL\n",
              "LsjFql4H7KJTPCF6cjqZQiKxOTKLTtFIObVMKobTaTlmrPjQ1JxFKCSyCymZQ69C5nSKhUTVoQB3\n",
              "8S/mjRcL+93jZ6/bb6JSqZTN6fQixllE0elneF2F3OnUf32EcTpz0VFOI3dl4XVZn06nYRay8Loo\n",
              "qoOmaXssnzGYwyGn09OR19vbixUrVsAwDMTj6XyS2267DVOmTMHChQsz/7Zu3QoAOOaYYzBnzpzM\n",
              "4+edd57/74AgyowgF8LMc1l5tEwC5BfkYvXpBOziIZ9Z8tWaF8raKv5iJxPZI83ptMLr7PGkG51l\n",
              "J6QUIrwuE1KqnE4Z02WiUzbjmxEJ5ZD3xrYskuX1cgV4eYpO8TxSnPC6/VjxEqnhczpzcDo1czq7\n",
              "rep1dvrR0HPF8y3nlkqcTlv6kORc6yY6xfMXV0ikce4uh2PbCU9H8DXXXINly5Zh1apV3OPnnnsu\n",
              "Lr30Uulr7rvvPrS2tua6fQRRceRbpMAi3tl6PaHILsjFaEZu0SDk5okXDy/vJ6x5oRQvFDrh9WIV\n",
              "V2XXn11fMVomJSQXb93wekOBw+ui0xkwDS5/1w1xFKO1DJHGmhB2dqf7SBb787ZgQ7hu6SIJRnVa\n",
              "70eMHOgiCjCZIPQbWdjcy01z2uksfCFR50C6x6VOT1D2uJG1TBK3U3aD7+Yyi/uID6+7f25+dSUo\n",
              "FJ6OvMsuuwynnXaa7fFbb70VRxxxBI4++mj88Y9/zDxuGAY+/elPY/bs2TjrrLOwYcMG5bIjkQi6\n",
              "u7u5f4mEfh8ygigX/NR0+UwkAuROZzEvuA22kW65i04vQoRF9n7zyS31gyqNEYh+Yjmd7K7QlbqF\n",
              "LyTiL9514aCnC+ek0TVahWHs+yiVG8QKG1Z8/O7ZTXilbS/3XE50Gn6H10vjdHrZ7YPxRGYf5PL9\n",
              "FMPa7GdeFw5mfncKrzstU5rTKQmvi3j9DrHvXefcXURPISfy3rwzzzwTmzdvxtq1a3H99dfjkksu\n",
              "wWOPPQYAePDBB/HSSy9h7dq1WLJkCU488UTEYjHpcq644go0NjZy/9asWZPv5hFE0WHvRvO9tImu\n",
              "pOfwupDTaRjFrV4XBUU+zu2ExurMz6Oq9C+asnXYqlKLnOM3dUxN5udWSd6tH0wenV2H1T8R3ChJ\n",
              "veWMYcLShXDIxHGpXoVVwDQwZQy/D2UXZzZNoBC5qTqwecmjqvj3+V9/fo37nW1Wbh2fY+vCyAV7\n",
              "IVERcjolwtbL950dg+nHPSG7bsPIzrHPFhJln6vjdIaDAduNsFZ43avoZJ6uc54a9oVE1dXVmQvh\n",
              "YYcdhvPOOw8PPvggAKC2Nn0iCAQCuOCCC2AYBt566y3pclauXImuri7u3/z58/PdPIIoOkHh5ObX\n",
              "sgDvDs3k0TVYesi4zO9nzJ1aVJdHzOm0uQ8e9s8Jh07A7KmjURcO4tZz5jk+9+rTZiEUMHDaEVOk\n",
              "rk4+k5784Osf2x/Tm9PNtK/69KyCrOOmLxyJxpoQDhhXh7MWTAPAX7xTml7nvNYmHDi+Dg3VQZw0\n",
              "096PMV/CwQAXts+lQntsHT86UFYl/ekjpyAcNPGxg1owrqHa9vdCcfMX5qI6ZOKYg1pw0Pj6zOPT\n",
              "m2uxeL/mzO8f7O7jRjEmEvZw74Hj67D0kHEIB0389nNHaG+D6AQXw+mUjdlUnQ/vWrHAlsvIhtf9\n",
              "OGfZBgYMic5syyT7GEzbMoTtcMq/BOQ3+DopKqrzl14hUXmLTt+bwyeTSTQ0NHj+WzgcRjjM38UF\n",
              "AoX/YhCE3/ip6fINrxuGgVVfnIf27kGYppGzU5IrtlY1YmK+hzcUMA3839cXIxJPuhZCnD5vKj55\n",
              "+CTl85yqUotBXTiIJ/7rGMSSyYIJgEMnNWLN/xyHEFNBy77LpGZUvzoUwL8uOlprv+dKOGhmCqpy\n",
              "EZ06vVlPOHQCXvvB8UWp3Gb5+IzxePX7x9v2nWEY+MO5C7DsF0/jnZ09SKXS4wyt98I6ndbxan2f\n",
              "B2MJT5+FLbxeZk7n4v3GYu3/fhwvb96Lz656AYDVMin9dz+ElGo0as9gHIlkSsvpFLdf/Ax0unPo\n",
              "CGjV+Usnp7PcRWfeR97dd9+NwcH0iLRt27bhtttuw+mnn46tW7fikUceyTzvjjvuwIQJE6ioiBhR\n",
              "5Pv1Fy8WuZ5QxjVUF11wAnYBYZtI5PH9GIahfbF1ep6tKrUEOX6maRTccQoHA9x7y/V65GW/57R8\n",
              "5mcvjeEtGmsEp1PxRqtDgZIUWqj2nWEYOHBC1v20KqkBIM7cFbiJHTfEyTpF6dPpsWVSdSjA9y5l\n",
              "nE4/PjOV0wkAPYMxzmVWbaf4OYjiXTQ2ZU6nblqL7DPS6TxS5sXr+TudO3fuxIIFCxAKhRCPx/HL\n",
              "X/4SM2bMwJ49e3DTTTfh29/+NgCgtbUV99xzT94bTBDljp+1yOIJpMxvYm2I1eviiV83xFtoSjWh\n",
              "ptgYXE5neex7kVyKZXScznKlkSm26+yPYerQpE/Wic73+LSH14tRvS4rJHJ+H2GuwC6b0+nHxykK\n",
              "RrFXZ1LiLIuI2y/eNNqcTolITObxvdNqDl/mx35OopM9WV100UW46KKLbM9pamoikUmMSPy8ltva\n",
              "Z5T5CUVEDK+Xqim3G+W6XX7DRue8jFEsJrkIRrFRd7lfeFlkjcoBwenM8/gMmcV3OnXHYKpeM8i1\n",
              "TPLB6RSOCfaY6eyPScdg2pfB/y4WZNnD6xKnU2djFQyHnM4yL64niMrG7+9/uZ9QRNz6dBp5JyD4\n",
              "Q6Xt11zhnM4ycZn9QGcKVbmiEp2+Op1ieL1ELZPcPhfWHR2MJfLq0+m2bienU/d8IO5HcR2ycHg+\n",
              "TqdOj+Vh3zKJIAge9mLut6iqoGspAFnj7xJtiAuVFI7NC7Z6vVw1Zw4fRSWH10cz+ahWo3JAaJmU\n",
              "5/uxhddL1Bze7W2wTmckzo7B9P/zFEWnTp9OMTog7kfxdTLxms/3jpxOgiCKSrmfUETE8Hq5bn8l\n",
              "hWPzgZtIVMLtEEkpf9GjUQyvl+lxJqNB4XQmGKsz3+PTFl4vyux1SU6nm9MZ4p3OzBhMHzY3ISjG\n",
              "Bm4qUUyrel10KUWnU+dzyieXWiuns8yPfd9bJhEEwTDCw+tiE/dyDXtWkjOWD+y7LNdColywOZ0V\n",
              "lKOrCq+zs8DzPT5FMVS2OZ2MiHt6Q4f261QETCMjNkXROVqYv85+DqrViV8ZW/W6xnbmk0utE14v\n",
              "91MZOZ0E4TOFvJZXmui0zUEv0zPiSHE6uebwZaQ5z54/LfPzMQePc3imHFF0VtL3hC1o6eqXFxL5\n",
              "fXwWJ7wuyel0+VxCAYObgGWRj+i0EEWnU3hddXMsLsPmdBoGxjdkW9NZn+1ZzPG9aN9m5IreGMzy\n",
              "PvbJ6SSICsKPMFMpKVdxV65i2G84p7NkW2HnwuMOQPdgHKNrQ1g+y/vUo9EVnNOpU0jk9/spTiGR\n",
              "fR1u2tEwDFx52iycd8fLnl6nghW5cVF0CmKfHRurHV4XczrNdMP/Xzy6AUsPGZ/pOfvdEw9GMpnC\n",
              "+IYwjjvE+02VhY6gLEUfWi+Q6CQIn2FPS35//SvJwZFRrv0wy3W7/Ia9IJVTeH1UOIgrTp2Z8+tt\n",
              "ucPDQHRyTqfPx2dRmsPLnE6Nz+WEQyfgU4dPwv2vfph5LNf3z4r1pC28zhdwqcZgmkY2JG4Pr4uz\n",
              "14H9x9Xj12fzI0oba0K+jLvVaQ5f7k5nhfsmBFF+UHhdTSyhOXuxyJSP/Cos5ep05os4+aWSnM7a\n",
              "qkBmezuZ8HrSx+p1kWI0h88lp9PCPoktt21gbz5sTqetZRK7PkP6s72QyO50FhK9MZgF3YS8IdFJ\n",
              "EAXE9z6dFf6N7YsmSr0JUsrI9CsovNNZwg0pMOXu9rAYhpHJ/eOczoR7jmGuyEZU+o28el3vtX6N\n",
              "/2X3myw0XjW0nq6BuNAySS46xZxOcT8W2hSglkkEQTjif5/O8j6huNEXiXO/l0uD8sRwVmAM7OGT\n",
              "T5PqcqfSvidWegA7e509Jv120GSC0G/kfTr13keVEEbONU/RdMjpNAwjs9+7+qOcoGR3t9MUL9Ex\n",
              "LvTNDolOgiCKSrmfUNzoFURnuTCcBRgLd/QM47dcrmkcKqxQb08kjvjQtrMiyP/weomcTs3zl9ga\n",
              "KNe375TTCYBzmFVjME2HPGgxhaDQBrtOK7Byd/lJdBKE7xTual7epxM5bK/O/ki5hteHsQJj4Fom\n",
              "lW4zCk653tyo4HpGDqa3nXfehofTqVuwV4jwOluYZWGJ/b5oAtF4Uvq6gEN43S46i5vTWSXp21nu\n",
              "vgSJToLwmRR3x+zzsv1dXFG48rRs1eZXjtqnhFuiRnI9GpY4FUUMJ3oGK0t0skUtf127FY+9tROD\n",
              "sewNmt9OZ1URColkvUANzdWK4fVc375Tn06A3+97+7MjSNn18Skp/OuLHV4PCcuvDUuEfZk7ndQy\n",
              "iSAqiEoUCp+YORGhgIGG6hAOHF/P/c3vnNdcqby9mhvl2hzeb1jBVgmw4ufHD74FAKgPZy/Pfud0\n",
              "imMxC4Gsej1XpzPXnM6gi+hkHeZOTnQy4XVmGe7h9UI7nfzyR1UFuY4HxdiGfCGnkyB85hsf2z/z\n",
              "86/PnpP38r68JO0OTm2qQVNtlcuzyw/TNLDssIlYvP9YAMDPPjM7/bgBnD53Ssm26/994hAA6Yv7\n",
              "R4a2bbjz9WP8PTbLiRs+m+6NGDANnL1gmsuzy4sjpo+xPdbDpAj44XRa55F9W0bZJjgVgrqqIPYd\n",
              "Oyrz+75jR6FGs2o+JLYiyvHts1GW7554iH0bq7PCnk3JYHXbL844PPPzhccdwL1e1hy+kBwwvp5z\n",
              "qQ+fOtomRMvc6CSnkyD8ZmpTLf5x4VHoHIjmNfLM4pJlB2HBvk2YM3V0RTW9VnHKnMloqQ9j0uhq\n",
              "NNeF3V9QIM5Z3Ip9xo7CAePqUVNV+MKKciBzbPZHsWi//I/NcuKEQyfgzq8sQHNdFSY21ri/oIxY\n",
              "PmsSGmtC2NTRh589/C4nOAG9mdtuXLLsIMzfpwlzphXnPGKaBv741YV45K2dAICPHzJee72iyM7V\n",
              "vZvXOgb3nL8IoYCJgybU2/7Ohsf7mXZu7Po+emAL7l6xEPXVQbQyIjr9erE5fGH3a9OoKvzjwo/g\n",
              "2fd2oy4cxPGHjscjb+0saP6v35DoJIgCMGNSg2/Lqg4FcMKhE3xbXqkxTQNHH9hS6s1AMGDiuEPG\n",
              "l3ozio6fx2Y5YZoGPnJAZTrWpmngmIPGAQcBN/17o110+iASq0MBLDusuOeRcQ3V+OyC6Z5fJ+ac\n",
              "5iqkDMPAvNYm5d/Z8HifQnQahqG8QbM5nUXQe/uPq8f+47ICOmgaiDJ/L3fRSeF1giAIgigTApK2\n",
              "OOVeHOI39pzOwqyHFZ2DrOjUVEa2nM4SfE7iDUm5HyskOgmCIAiiTJAV+ejM3B5O+NUyyQ0uvB7L\n",
              "usu667NVr5fAZRRTL8rc6CTRSRAEQRDlgsyp0pm5PZwQRXah3j47xnJAEV53wu50+rNdXhCPF3I6\n",
              "CYIgCILQQiYa/O7TWe6UwunkRafe66uDxW2ZJEPs3Uk5nQRBEARBaCEKLkBv/OFwwq8+nW6wTmU/\n",
              "09tVd31iA/xSuIxiDjCJToIgCIIgtCCnUxJeL1QhEeN0sn3fddcn5nSWQvAFzeJX0OcDiU6CIAiC\n",
              "KBNkAnPk5XQWKbyuaFav61iKjmhpRCfldBIEQRAEkQOyUPrIczqLIzqrFTPoc11fScLrwjoLlYrg\n",
              "FyQ6CYIgCKJMEMOlwEjM6SxSeF3hdOaq20pxbyAeG+R0EgRBEAShhbxlUnkLCb8pXnjdX6ezNM3h\n",
              "KaeTIAiCIIgckDWCl7mfwxmb6CzQ2xdbHmXWl2t4vQxyOql6nSAIgiAILaTV6yM8vF6MlkksubqF\n",
              "pRB84vEyrERnb28vVqxYAcMwEI+nR0bddtttmDJlChYuXJj5t3XrVgDA888/jzlz5mDmzJlYtmwZ\n",
              "2tvb/X8HBEEQBDFMkOZ0lnvM1GdK0RyeW1+O+zuFlPuTfKZYrrBfeNq8a665BsuWLbM9fu6552L1\n",
              "6tWZf1OmTEE8Hsfpp5+OG2+8EevWrcOxxx6Liy66yK/tJgiCIIhhh8zVHGk5nVW2/peFWY/a6cxt\n",
              "hdF4Mp/NyQnbGMwydzqDXp582WWXSR+/9dZb8cADD6Curg5f//rXceaZZ2LNmjVoaWnB/PnzAQBf\n",
              "/epXMXnyZCSTSZgSKR6JRBCJRLjHEomE7XkEQRAEMVyRCUzZlKLhTMmdzhxXF00UX3SKLni5t0zy\n",
              "JDplnHnmmfjiF78IwzDwxhtv4KSTTkJLSwva29vR2tqaed7o0aMRCoXQ3t6OCRMm2JZzxRVX2ETt\n",
              "woUL8908giAIgqgY5M3hy1tI+I3o9hZKR5mmgaqAaROLuYrceKL44XWb01nmx0ret0/V1dUZZX3Y\n",
              "YYfhvPPOw4MPPohkMolAgLeug8Egkkn5ncDKlSvR1dXF/bNcUoIgCIIYCcimD420nM6qIjmdgLxt\n",
              "kpfVzW9tyvy8z9hRfmySJ+yucNE3wRN5O50iyWQSDQ0NmDRpErZt25Z5vL+/H319fWhpaZG+LhwO\n",
              "IxwOc4+JopUgCIIghjPSlkkjPrxeuHVVhwLoGYwL69Nf4S/POhy/eGQDjpw+BlObav3ePFeGdfW6\n",
              "jLvvvhuDg4MAgG3btuG2227D6aefjkWLFmHjxo1Yv349AOB3v/sdli5dilAolO8qCYIgCGJYIm2Z\n",
              "VO72lc8UU0jJ8jq9hKgnNtbgqk/Pwunzpvq5WdrY+nSW+bGSt9O5c+dOLFiwAKFQCPF4HL/85S8x\n",
              "Y8YMAMCdd96Jc845BwAwYcIE3HzzzfmujiAIgiCGLZTTaaeQxTGyCvYyNws5bGMwy3zjcxKdqVQ2\n",
              "Wfaiiy5StkJaunQpli5dmtOGEQRBEMRIQxZKD5V788UCU0jNLXM6yz1EzSLmAJf7/cnIPpIJgiAI\n",
              "ooyQOp0jbCKRSCFFoMzprCTRWWnhdRKdBEEQBFEmUE6nncIWEsmczsKtz2/E8Hq5C2YSnQRBEARR\n",
              "JsgawY900VnInM5wUJbTWTn7Wzw2yj2nk0QnQRAEQZQJMqdzpBcSFTa8nl/1eqkRczqNMld1Zb55\n",
              "BEEQBDFysDlXplFRzlshKGh4XeJ0VpDmtPV1JaeTIAiCIAgtRNE50kPrQGGLY2QTico9L5JlxDWH\n",
              "JwiCIAjCHwJCTieJTqCQe0Ce01nAFfqMeHyU+7aT6CQIgiCIMkEWXh/ppNyfkjMV3zJJuEkp9+OF\n",
              "RCdBEARBlAmi6JRVs4804onCyc5Kbw5v69NZ5ttORzNBEARBlAm2sYZl7lwVCvZ9J1OFE51yp7Ng\n",
              "q/Mde05niTZEExKdBEEQBFEmiC1wRmpOJyum4slkwdYjtkwyjArr0xkQt7+8t51EJ0EQBEGUCSGx\n",
              "en2EhtfZ1j+JZCHD67zTWe7haZFKuykZmUczQRAEQZQhYri00kSFX3BOZwFzOkWns9J2d6WlX5Do\n",
              "JAiCIIgygXI607DvO1HEnM5yD0+LiM3hyx0SnQRBEARRJgTFnM4RGl5nHd5Chtcr3+msrOOjsraW\n",
              "IAiCIIYxNJEojVkk0VkXDvHrrTCns9KODxKdBEEQBFEmiOH0kRpeL5bTObqWF53lPrtchEQnQRAE\n",
              "QRA5IYbTKy1nzy/4lkmFE52NNbzorDDNacsBLndIdBIEQRBEmUBjMNOw+yFZRNFpVtj+ppxOgiAI\n",
              "giBywt4yaWReps0iOZ3VoQA3CrPScjrFvq7lzsg8mgmCIAiiDBFnrVda+NQvipXTCfBuZ4VpuIpz\n",
              "wkl0EgRBEESZQM3h07Bh40KOwQR40VlpfTor7aaERCdBEARBlAmU05mGz+ks7LpY0VnI/NFCUGnp\n",
              "F5W1tQRBEAQxjBGdq0oTFX7BV68XVnWybZN6BuMFXZffVNpNycg8mgmCIAiiDLFPJKosUeEXnz5y\n",
              "SubnU46Y4vDM/GlgnM5oosC2qs9U2vERLPUGEARBEASRhprDpzlr/jTs7o0imUrhrHlTC7ousW1S\n",
              "JVFpTjiJToIgCIIoE2gMZpqAaeCbSw8oyrpG11QVZT2FoNKOj8qSyARBEAQxjLHldAboMl1oGmsq\n",
              "13+rNCecjmaCIAiCKBNsOZ0VJioqkcbayg2vi31dyx3PW9vb24sVK1bAMAzE43yV1969e7H//vvj\n",
              "0ksvzTwWDoexcOHCzL8bb7wx740mCIIgiOEI5XQWn0rO6ay048Ozp3zNNddg2bJlWLVqle1vX/va\n",
              "1/CpT32Ke2zixIlYvXp17ltIEARBECME0dmsNCerEmmknM6i4Vl0XnbZZdLHf/nLX2Lx4sVoaGjA\n",
              "pk2bMo/v3LkTCxcuRCQSwbHHHosf/OAHaGhosL0+EokgEolwjyUSCa+bRxAEQRAVi0lOZ9GpZKez\n",
              "0lom+XIL9fLLL+Opp57ChRdeaPvb7t27sXr1avz73/9GR0cHLrjgAukyrrjiCjQ2NnL/1qxZ48fm\n",
              "EQRBEERFUmlOViVSyaKz0m5K8hadPT09uOiii5S5mrW1tQCA+vp6XH755fj73/8ufd7KlSvR1dXF\n",
              "/Zs/f36+m0cQBEEQFUul9WGsRCpZdJqVNis+3wW88cYb2LVrF5YvXw4A2LVrFyKRCLZv324Toslk\n",
              "UhpaB9IFR+FwmHssEAjku3kEQRAEUbFUWvi0EqkKmjhy+hi8vHkvvrBoeqk3xxPhoImZkxuxblsX\n",
              "vnr0vqXeHFfyFp2LFi3C22+/nfn9tttuw6ZNm3DppZfi2WefRUtLCw488EAkk0n86Ec/wmc/+9l8\n",
              "V0kQBEEQI4JKC59WKrd/eT7Wbe3CvNYxpd4UTxiGgbu/uhBvbOvCvNamUm+OKwXtiFpTU4OvfvWr\n",
              "6OnpQSQSwQknnIDvf//7hVwlQRAEQQwbKKezONSFg1i0X3OpNyMn6sJBLNy3MrY9Z9GZSqWkj59z\n",
              "zjmZn4844gg8+eSTua6CIAiCIEY0JDqJ4QRlKBMEQRBEmRKgPp3EMIKOZoIgCIIoU0LkdBLDCBKd\n",
              "BEEQBFGmUCERMZwg0UkQBEEQZQq1TCKGEyQ6CYIgCKJMoebwxHCCjmaCIAiCKFOoep0YTpDoJAiC\n",
              "IIgyxaiwMYcE4QSJToIgCIIgCKLgkOgkCIIgCIIgCg6JToIgCIIgCKLgkOgkCIIgCIIgCg6JToIg\n",
              "CIIgCKLgkOgkCIIgCIIgCg6JToIgCIIgCKLgkOgkCIIgCIIgCg6JToIgCIIoI048bELm58MmN5Rw\n",
              "SwjCX4Kl3gCCIAiCILL8+D8Ow7TmWsyaPBpTxtSWenMIwjdIdBIEQRBEGdFcF8bKEw8p9WYQhO9Q\n",
              "eJ0gCIIgCIIoOCQ6CYIgCIIgiIJDopMgCIIgCIIoOCQ6CYIgCIIgiIJDopMgCIIgCIIoOCQ6CYIg\n",
              "CIIgiIJDopMgCIIgCIIoOCQ6CYIgCIIgiIJDopMgCIIgCIIoOCQ6CYIgCIIgiIJDopMgCIIgCIIo\n",
              "OEYqlUqVeiNUnHrqqWhtbS3a+hKJBNasWYP58+cjEAgUbb1EeUHHAWFBxwIB0HFAZKFjQc706dPx\n",
              "zW9+0/V5ZS06i013dzcaGxvR1dWFhoaGUm8OUSLoOCAs6FggADoOiCx0LOQHhdcJgiAIgiCIgkOi\n",
              "kyAIgiAIgig4JDoJgiAIgiCIgkOikyEcDuMHP/gBwuFwqTeFKCF0HBAWdCwQAB0HRBY6FvKDCokI\n",
              "giAIgiCIgkNOJ0EQBEEQBFFwSHQSBEEQBEEQBYdEJ0EQBEEQBFFwSHQSBEEQBEEQBYdE5xAPPPAA\n",
              "Dj30UBx66KE488wz0d/fX+pNIgpIb28vVqxYAcMwEI/HAQB9fX0444wzMsfB3//+98zz6fgYfkSj\n",
              "Ufy///f/cPjhh2P+/Pk44YQT0N7eTsfBCCQej+Ob3/wmZs6ciYULF+K4447D22+/jUQigW984xuY\n",
              "MWMGDjnkENxyyy2Z1zz//POYM2cOZs6ciWXLlqG9vb2E74Dwm2uvvRahUAgAsHPnTpxwwgmYOXMm\n",
              "5syZgxdeeCHzvJtuugmHHHIIZsyYgQsuuADJZLJUm1wRkOgE0NHRgRUrVuDvf/871q9fj6amJvz4\n",
              "xz8u9WYRBeSaa67BsmXLuMd++MMfYuzYsVi/fj3+9re/4dxzz8WePXvo+BimbN++HePHj8fatWux\n",
              "Zs0azJo1Cz//+c/pOBiBRKNRHH744Vi3bh1Wr16NM888E9/73vdw0003YfPmzVi/fj2effZZ/PCH\n",
              "P8Rbb72FeDyO008/HTfeeCPWrVuHY489FhdddFGp3wbhE2vWrMHrr7+OyZMnAwAuvPBCLF26FOvW\n",
              "rcNvf/tbnH766YjH41i/fj1+8pOf4Nlnn8X69euxadMmrFq1qsRbX95QyyQAd911F/7yl7/gr3/9\n",
              "KwDgtddewxlnnIG33367xFtGFBrDMBCLxRAMBnHggQfiL3/5C2bNmgUAOOWUU3DGGWcgmUzS8TEC\n",
              "uPLKK9HR0YEHHniAjoMRTCKRwPe+9z0kEgm8/vrruOCCC/DJT34SAPCtb30L48ePx9FHH40LLrgA\n",
              "a9euBQB0dnZi8uTJ6OnpgWmSl1PJdHV14ZRTTsF9992H2bNn4/3330dDQwO2bduG0aNHAwDmzJmD\n",
              "G264AY8//jg6Ojpw7bXXAgDuv/9+3HDDDfjnP/9ZwndQ3tC3A8DmzZvR2tqa+X369OnYtGlTybaH\n",
              "KA2q44COj+FPW1sbVq1ahQsuuICOgxHMfffdh4kTJ+LZZ5/FpZdeqn0sjB49GqFQiELsw4DzzjsP\n",
              "P/nJT9DY2AgAaG9vRzgczghOgM4J+UCiE0AymUQgEMj8HgwGKS9jBKI6Duj4GN50dXXhtNNOw/XX\n",
              "X4/W1lY6DkYwp5xyCnbs2IGTTz4ZZ511lvaxwP6NqFyuv/56HHbYYVi0aFHmMafPms4J3iHRCWDS\n",
              "pEnYtm1b5vdt27Zh0qRJJdwiohSojgM6PoYvvb29OPnkk/Hf//3fOP744wHQcTDSMU0T559/Ph5/\n",
              "/HHtY6G/vx99fX1oaWkpxSYTPvHEE0/ggQcewMKFC7Fw4UJs374dy5cvx549ezAwMJB5Hp0TcodE\n",
              "J4Djjz8eTzzxBLZv3w4AWLVqFZYvX17irSKKzfLly/G73/0OQPrk8cQTT+D444+n42OYMjAwgOXL\n",
              "l+Occ87BGWeckXmcjoORxwsvvIBHH3008/vf/vY3zJkzhzsWuru7cc8992D58uVYtGgRNm7ciPXr\n",
              "1wMAfve732Hp0qWZameiMrnnnnuwZs0arF69GqtXr8bEiROxdu1anHjiifj9738PAHj99dfxwQcf\n",
              "YOHChTj55JNx7733oqenB6lUCrfccgudE1wIlnoDyoHJkyfjZz/7GU466SQEg0EcdNBBuOGGG0q9\n",
              "WUSR+dGPfoQvfelLmDt3LoC0qLDuWun4GH7ccsstWLNmDQYGBnDzzTcDAGbPno0rr7ySjoMRxn77\n",
              "7YeLLroI3/nOdxAKhdDY2Ijbb78dU6ZMwfnnn48jjjgCALBy5UoceeSRAIA777wT55xzDgBgwoQJ\n",
              "mWOIGH785je/wZe//GWsWrUKwWAQ999/P6qrqzFv3jycd955OOqooxAMBrFkyRJceOGFpd7csoaq\n",
              "1wmCIAiCIIiCQ+F1giAIgiAIouCQ6CQIgiAIgiAKDolOgiAIgiAIouCQ6CQIgiAIgiAKDolOgiAI\n",
              "giAIouCQ6CQIgiAIgiAKDolOgiAIgiAIouCQ6CQIgiAIgiAKDolOgiAIgiAIouCQ6CQIgiAIgiAK\n",
              "DolOgiAIgiAIouCQ6CQIgiAIgiAKzv8HZ9XunEo4xwMAAAAASUVORK5CYII=\n",
              "\">\n",
              "      </div>\n",
              "      <script type=\"text/javascript\">\n",
              "        (() => {\n",
              "          const chartElement = document.getElementById(\"chart-3d065851-98fe-4266-9276-b3f3623a4d45\");\n",
              "          async function getCodeForChartHandler(event) {\n",
              "            const chartCodeResponse =  await google.colab.kernel.invokeFunction(\n",
              "                'getCodeForChart', [\"chart-3d065851-98fe-4266-9276-b3f3623a4d45\"], {});\n",
              "            const responseJson = chartCodeResponse.data['application/json'];\n",
              "            await google.colab.notebook.addCell(responseJson.code, 'code');\n",
              "          }\n",
              "          chartElement.onclick = getCodeForChartHandler;\n",
              "        })();\n",
              "      </script>\n",
              "      <style>\n",
              "        .colab-quickchart-chart-with-code  {\n",
              "            display: block;\n",
              "            float: left;\n",
              "            border: 1px solid transparent;\n",
              "        }\n",
              "\n",
              "        .colab-quickchart-chart-with-code:hover {\n",
              "            cursor: pointer;\n",
              "            border: 1px solid #aaa;\n",
              "        }\n",
              "      </style>"
            ]
          },
          "metadata": {}
        }
      ],
      "source": [
        "# 1. 데이터 확인\n",
        "import pandas as pd\n",
        "\n",
        "cm = 2.54  # 키데이터를  inch --> cm로 변환하기 위해\n",
        "df = pd.read_excel('./Galtons Height Data_딸.xlsx')\n",
        "df['father'] = df.father * cm\n",
        "df['daughter'] = df.daughter * cm\n",
        "\n",
        "df"
      ]
    },
    {
      "cell_type": "code",
      "execution_count": 78,
      "id": "e52ffbea",
      "metadata": {
        "scrolled": true,
        "colab": {
          "base_uri": "https://localhost:8080/",
          "height": 311
        },
        "id": "e52ffbea",
        "outputId": "0ceb9f94-60b5-4c32-f1d6-5267fec39180"
      },
      "outputs": [
        {
          "output_type": "display_data",
          "data": {
            "text/plain": [
              "<Figure size 500x300 with 1 Axes>"
            ],
            "image/png": "[encoded data removed]"
          },
          "metadata": {}
        }
      ],
      "source": [
        "# 2. 산점도(추정된 회귀직선 표시) 확인\n",
        "# 방법: seaborn 사용하기\n",
        "import matplotlib.pyplot as plt\n",
        "import seaborn as sns\n",
        "\n",
        "sns.regplot(x=df.father, y=df.daughter)\n",
        "plt.xlabel('father')\n",
        "plt.ylabel('daughter')\n",
        "plt.show()"
      ]
    },
    {
      "cell_type": "code",
      "execution_count": 79,
      "id": "96166c8f",
      "metadata": {
        "scrolled": true,
        "colab": {
          "base_uri": "https://localhost:8080/",
          "height": 505
        },
        "id": "96166c8f",
        "outputId": "232b10bb-60fd-4d35-d00e-04b7bebcee8b"
      },
      "outputs": [
        {
          "output_type": "stream",
          "name": "stdout",
          "text": [
            "결정계수:  0.2105\n"
          ]
        },
        {
          "output_type": "execute_result",
          "data": {
            "text/plain": [
              "<class 'statsmodels.iolib.summary.Summary'>\n",
              "\"\"\"\n",
              "                            OLS Regression Results                            \n",
              "==============================================================================\n",
              "Dep. Variable:            df.daughter   R-squared:                       0.210\n",
              "Model:                            OLS   Adj. R-squared:                  0.209\n",
              "Method:                 Least Squares   F-statistic:                     114.9\n",
              "Date:                Tue, 16 Apr 2024   Prob (F-statistic):           6.36e-24\n",
              "Time:                        04:29:28   Log-Likelihood:                -1340.1\n",
              "No. Observations:                 433   AIC:                             2684.\n",
              "Df Residuals:                     431   BIC:                             2692.\n",
              "Df Model:                           1                                         \n",
              "Covariance Type:            nonrobust                                         \n",
              "==============================================================================\n",
              "                 coef    std err          t      P>|t|      [0.025      0.975]\n",
              "------------------------------------------------------------------------------\n",
              "Intercept     90.3865      6.764     13.362      0.000      77.091     103.682\n",
              "df.father      0.4116      0.038     10.719      0.000       0.336       0.487\n",
              "==============================================================================\n",
              "Omnibus:                        0.354   Durbin-Watson:                   1.440\n",
              "Prob(Omnibus):                  0.838   Jarque-Bera (JB):                0.410\n",
              "Skew:                          -0.067   Prob(JB):                        0.815\n",
              "Kurtosis:                       2.931   Cond. No.                     4.63e+03\n",
              "==============================================================================\n",
              "\n",
              "Notes:\n",
              "[1] Standard Errors assume that the covariance matrix of the errors is correctly specified.\n",
              "[2] The condition number is large, 4.63e+03. This might indicate that there are\n",
              "strong multicollinearity or other numerical problems.\n",
              "\"\"\""
            ],
            "text/html": [
              "<table class=\"simpletable\">\n",
              "<caption>OLS Regression Results</caption>\n",
              "<tr>\n",
              "  <th>Dep. Variable:</th>       <td>df.daughter</td>   <th>  R-squared:         </th> <td>   0.210</td>\n",
              "</tr>\n",
              "<tr>\n",
              "  <th>Model:</th>                   <td>OLS</td>       <th>  Adj. R-squared:    </th> <td>   0.209</td>\n",
              "</tr>\n",
              "<tr>\n",
              "  <th>Method:</th>             <td>Least Squares</td>  <th>  F-statistic:       </th> <td>   114.9</td>\n",
              "</tr>\n",
              "<tr>\n",
              "  <th>Date:</th>             <td>Tue, 16 Apr 2024</td> <th>  Prob (F-statistic):</th> <td>6.36e-24</td>\n",
              "</tr>\n",
              "<tr>\n",
              "  <th>Time:</th>                 <td>04:29:28</td>     <th>  Log-Likelihood:    </th> <td> -1340.1</td>\n",
              "</tr>\n",
              "<tr>\n",
              "  <th>No. Observations:</th>      <td>   433</td>      <th>  AIC:               </th> <td>   2684.</td>\n",
              "</tr>\n",
              "<tr>\n",
              "  <th>Df Residuals:</th>          <td>   431</td>      <th>  BIC:               </th> <td>   2692.</td>\n",
              "</tr>\n",
              "<tr>\n",
              "  <th>Df Model:</th>              <td>     1</td>      <th>                     </th>     <td> </td>   \n",
              "</tr>\n",
              "<tr>\n",
              "  <th>Covariance Type:</th>      <td>nonrobust</td>    <th>                     </th>     <td> </td>   \n",
              "</tr>\n",
              "</table>\n",
              "<table class=\"simpletable\">\n",
              "<tr>\n",
              "      <td></td>         <th>coef</th>     <th>std err</th>      <th>t</th>      <th>P>|t|</th>  <th>[0.025</th>    <th>0.975]</th>  \n",
              "</tr>\n",
              "<tr>\n",
              "  <th>Intercept</th> <td>   90.3865</td> <td>    6.764</td> <td>   13.362</td> <td> 0.000</td> <td>   77.091</td> <td>  103.682</td>\n",
              "</tr>\n",
              "<tr>\n",
              "  <th>df.father</th> <td>    0.4116</td> <td>    0.038</td> <td>   10.719</td> <td> 0.000</td> <td>    0.336</td> <td>    0.487</td>\n",
              "</tr>\n",
              "</table>\n",
              "<table class=\"simpletable\">\n",
              "<tr>\n",
              "  <th>Omnibus:</th>       <td> 0.354</td> <th>  Durbin-Watson:     </th> <td>   1.440</td>\n",
              "</tr>\n",
              "<tr>\n",
              "  <th>Prob(Omnibus):</th> <td> 0.838</td> <th>  Jarque-Bera (JB):  </th> <td>   0.410</td>\n",
              "</tr>\n",
              "<tr>\n",
              "  <th>Skew:</th>          <td>-0.067</td> <th>  Prob(JB):          </th> <td>   0.815</td>\n",
              "</tr>\n",
              "<tr>\n",
              "  <th>Kurtosis:</th>      <td> 2.931</td> <th>  Cond. No.          </th> <td>4.63e+03</td>\n",
              "</tr>\n",
              "</table><br/><br/>Notes:<br/>[1] Standard Errors assume that the covariance matrix of the errors is correctly specified.<br/>[2] The condition number is large, 4.63e+03. This might indicate that there are<br/>strong multicollinearity or other numerical problems."
            ],
            "text/latex": "\\begin{center}\n\\begin{tabular}{lclc}\n\\toprule\n\\textbf{Dep. Variable:}    &   df.daughter    & \\textbf{  R-squared:         } &     0.210   \\\\\n\\textbf{Model:}            &       OLS        & \\textbf{  Adj. R-squared:    } &     0.209   \\\\\n\\textbf{Method:}           &  Least Squares   & \\textbf{  F-statistic:       } &     114.9   \\\\\n\\textbf{Date:}             & Tue, 16 Apr 2024 & \\textbf{  Prob (F-statistic):} &  6.36e-24   \\\\\n\\textbf{Time:}             &     04:29:28     & \\textbf{  Log-Likelihood:    } &   -1340.1   \\\\\n\\textbf{No. Observations:} &         433      & \\textbf{  AIC:               } &     2684.   \\\\\n\\textbf{Df Residuals:}     &         431      & \\textbf{  BIC:               } &     2692.   \\\\\n\\textbf{Df Model:}         &           1      & \\textbf{                     } &             \\\\\n\\textbf{Covariance Type:}  &    nonrobust     & \\textbf{                     } &             \\\\\n\\bottomrule\n\\end{tabular}\n\\begin{tabular}{lcccccc}\n                   & \\textbf{coef} & \\textbf{std err} & \\textbf{t} & \\textbf{P$> |$t$|$} & \\textbf{[0.025} & \\textbf{0.975]}  \\\\\n\\midrule\n\\textbf{Intercept} &      90.3865  &        6.764     &    13.362  &         0.000        &       77.091    &      103.682     \\\\\n\\textbf{df.father} &       0.4116  &        0.038     &    10.719  &         0.000        &        0.336    &        0.487     \\\\\n\\bottomrule\n\\end{tabular}\n\\begin{tabular}{lclc}\n\\textbf{Omnibus:}       &  0.354 & \\textbf{  Durbin-Watson:     } &    1.440  \\\\\n\\textbf{Prob(Omnibus):} &  0.838 & \\textbf{  Jarque-Bera (JB):  } &    0.410  \\\\\n\\textbf{Skew:}          & -0.067 & \\textbf{  Prob(JB):          } &    0.815  \\\\\n\\textbf{Kurtosis:}      &  2.931 & \\textbf{  Cond. No.          } & 4.63e+03  \\\\\n\\bottomrule\n\\end{tabular}\n%\\caption{OLS Regression Results}\n\\end{center}\n\nNotes: \\newline\n [1] Standard Errors assume that the covariance matrix of the errors is correctly specified. \\newline\n [2] The condition number is large, 4.63e+03. This might indicate that there are \\newline\n strong multicollinearity or other numerical problems."
          },
          "metadata": {},
          "execution_count": 79
        }
      ],
      "source": [
        "# 3. 결정계수 구하기\n",
        "# 방법: statsmodels 사용하기\n",
        "from statsmodels.formula.api import ols\n",
        "\n",
        "model = ols('df.daughter ~ df.father', data=df).fit() #ols('종속변수명 ~ 독립변수명', data=데이터프레임객체)\n",
        "\n",
        "print(f'결정계수: {model.rsquared: .4f}')\n",
        "\n",
        "model.summary() # 모델 요약"
      ]
    },
    {
      "cell_type": "code",
      "execution_count": 80,
      "id": "95f9e573",
      "metadata": {
        "colab": {
          "base_uri": "https://localhost:8080/",
          "height": 311
        },
        "id": "95f9e573",
        "outputId": "68265886-f878-480c-fd19-81a4dd3f2bbf"
      },
      "outputs": [
        {
          "output_type": "display_data",
          "data": {
            "text/plain": [
              "<Figure size 500x300 with 1 Axes>"
            ],
            "image/png": "[encoded data removed]"
          },
          "metadata": {}
        }
      ],
      "source": [
        "# 추정된 회귀직선 표시\n",
        "# 방법1: 직접 그리기\n",
        "target_pred = model.predict()\n",
        "\n",
        "plt.scatter(df.father, df.daughter, marker='o', label='$MEDV_i$ 실제 관측치')\n",
        "plt.plot(df.father, target_pred, color = 'g', label='$\\hat{MEDV}_i$ 회귀선')\n",
        "plt.hlines(df.daughter.mean(), df.father.min(), df.father.max(), color = 'r', label='$MEDV_i$ 평균선')\n",
        "plt.legend()\n",
        "plt.xlabel('df.father')\n",
        "plt.ylabel('df.daughter')\n",
        "plt.show()"
      ]
    },
    {
      "cell_type": "code",
      "execution_count": 81,
      "id": "ff1be3da",
      "metadata": {
        "scrolled": true,
        "colab": {
          "base_uri": "https://localhost:8080/",
          "height": 332
        },
        "id": "ff1be3da",
        "outputId": "59f67d94-901f-4731-f2d7-5e91d5e5d59d"
      },
      "outputs": [
        {
          "output_type": "display_data",
          "data": {
            "text/plain": [
              "<Figure size 500x300 with 1 Axes>"
            ],
            "image/png": "[encoded data removed]"
          },
          "metadata": {}
        }
      ],
      "source": [
        "# 추정된 회귀직선 표시\n",
        "# 방법2: seaborn regplot()함수 사용\n",
        "sns.regplot(x=df.father, y=df.daughter)\n",
        "plt.xlabel('아빠')\n",
        "plt.ylabel('딸')\n",
        "plt.title('추정회귀직선')\n",
        "plt.show()"
      ]
    },
    {
      "cell_type": "markdown",
      "id": "2c95c8aa",
      "metadata": {
        "id": "2c95c8aa"
      },
      "source": [
        "-------------------"
      ]
    },
    {
      "cell_type": "markdown",
      "id": "ca78f79c",
      "metadata": {
        "id": "ca78f79c"
      },
      "source": [
        "## 사이킷런을 이용한 선형회귀 모델"
      ]
    },
    {
      "cell_type": "markdown",
      "id": "784e8552",
      "metadata": {
        "id": "784e8552"
      },
      "source": [
        "### 사이킷런(Scikit-learn)\n",
        "- **대표적인 머신러닝 라이브러리** : https://scikit-learn.org/\n",
        "- 2007년 구글 하계 코드 프로젝트 모임에 참여한 개발자들 중심으로 시작된 오픈 소스 개발 방식 라이브러리\n",
        "- 딥러닝 프레임워크는 제공 안함\n",
        "\n",
        "#### 머신러닝을 위해서는 필요한 것 5가지\n",
        "- 1.데이터준비(데이터셋): 특성과 테이블(optional)로 이루어진 데이터\n",
        "- 2.모델선정: 데이터를 바탕으로 동자기 결정되는 모델\n",
        "- 3.하이퍼파라미터: 모델 설정 위해 학습에 사용되는 파라미터 (ex: learning rate, 훈련반복횟수, 가중치 초기화 값 등)\n",
        "- 4.학습:  학습을 위한 훈련단계\n",
        "- 5.검증: 검증의 여러 단계"
      ]
    },
    {
      "cell_type": "markdown",
      "id": "a9b33ef6",
      "metadata": {
        "id": "a9b33ef6"
      },
      "source": [
        "#### 선형 회귀분석 모델의 예측력 향상에 좋은 **4가지 기본 가정**\n",
        "- 1.**선형성**:   독립변수와 종속변수 간의 분포 관계가 **선형의 관계**를 가진다.\n",
        "- 2.**독립성**:   독립성은 다중 회귀분석의 중요한 기본 가정으로 독립변수와 다른 독립변수 간의 **상관관계가 적을 경우** 선형 회귀 모델의 예측력이 좋아진다.\n",
        "- 3.**등분산성**: 분산이란 데이터의 분포 정도에 대한 척도인데, 데이터가 특정한 패턴 없이 **고르게 분포**하는 것이, 특정한 좁은 구간에만 집중해서 분포하는 것보다 더 나은 예측을 보인다.\n",
        "- 4.**정규성**:   잔차(residual)란 회귀직선과 관측값과의 차이인데, 오차(error)라고도 한다. 이 **차이(오차)가 정규성을 만족**해야 한다."
      ]
    },
    {
      "cell_type": "markdown",
      "id": "2f06dd42",
      "metadata": {
        "id": "2f06dd42"
      },
      "source": [
        "### [실습문제] 사이킷런으로 선형회귀직선(추정회귀직선) 구하기\n",
        "간단 데이터를 이용하여 선형회귀직선 구하기"
      ]
    },
    {
      "cell_type": "code",
      "execution_count": null,
      "id": "992e4973",
      "metadata": {
        "id": "992e4973"
      },
      "outputs": [],
      "source": [
        "import pandas as pd\n",
        "import numpy as np\n",
        "from sklearn import linear_model\n",
        "\n",
        "# 1. 데이터 준비\n",
        "data = {'X':[1, 1, 2, 3, 4, 4, 5, 6, 6, 8],\n",
        "        'Y':[2, 3, 4, 5, 7, 8, 10, 11, 12, 15]}\n",
        "df = pd.DataFrame(data)\n",
        "\n",
        "# 2. 학습모델 선정\n",
        "model = linear_model.LinearRegression()  # 선형회귀모델\n",
        "\n",
        "# 3. 하이퍼파라미터\n",
        "\n",
        "# 4. 학습\n",
        "X = [[i] for i in df.X]  # 사이킷런에서 독립변수(X)값은 2차원 형태로 만들어줘야한다.\n",
        "Y = df.Y\n",
        "model.fit(X, Y)\n",
        "\n",
        "# 5. 검증\n",
        "# y = ax + b\n",
        "coef = model.coef_               # 직선의 기울기(a)\n",
        "intercept = model.intercept_     # 직선의 절편(b)\n",
        "score = model.score(X, Y)        # 추정된 회귀직선의 정확도(결정계수 r2)\n",
        "print(f\"선형회귀직선: y = {coef[0]:.2f}x + {intercept: .2f}\")\n",
        "print(f\"선형회귀직선의 관계점수(R2): {score: .2f}\")"
      ]
    },
    {
      "cell_type": "markdown",
      "id": "449c833c",
      "metadata": {
        "id": "449c833c"
      },
      "source": [
        "### [실습문제] 키로 몸무게 추정하는 선형회귀 모델\n",
        "- 167cm 남학생의 몸무게는?\n",
        "- 167cm 여학생의 몸무게는?"
      ]
    },
    {
      "cell_type": "code",
      "execution_count": null,
      "id": "dd1a1870",
      "metadata": {
        "id": "dd1a1870"
      },
      "outputs": [],
      "source": [
        "import pandas as pd\n",
        "import numpy as np\n",
        "from sklearn import linear_model\n",
        "\n",
        "# 1. 데이터 준비\n",
        "df = pd.read_excel('./data/키와몸무게.xlsx')\n",
        "df\n",
        "\n",
        "# 2. 학습모델 선정\n",
        "model = linear_model.LinearRegression()  # 선형회귀모델\n",
        "\n",
        "# 3. 하이퍼파라미터\n",
        "\n",
        "# 4. 학습\n",
        "X = df[['키','구분']]  # 구분: 남자 0, 여자 1\n",
        "Y = df.몸무게\n",
        "model.fit(X.values, Y)  # X 대신 X.values (warnings.warn 메시지 안나오게 하려면)\n",
        "\n",
        "# 5. 검증\n",
        "# y = ax + b\n",
        "coef = model.coef_               # 직선의 기울기(a)\n",
        "intercept = model.intercept_     # 직선의 절편(b)\n",
        "score = model.score(X, Y)        # 추정된 회귀직선의 정확도(결정계수 r2)\n",
        "print(f\"선형회귀직선: y = {coef[0]:.2f}x + {intercept: .2f}\")\n",
        "print(f\"선형회귀직선의 관계점수(R2): {score: .2f}\")\n",
        "print(f\"167cm 남학생 추정 몸무게: {model.predict([[167,0]])}\")\n",
        "print(f\"167cm 여학생 추정 몸무게: {model.predict([[167,1]])}\")\n",
        "print(f\"167cm 남학생, 여학생의 추정 몸무게: {model.predict([[167,0], [167,1]])}\")"
      ]
    },
    {
      "cell_type": "markdown",
      "id": "c3d77ca2",
      "metadata": {
        "id": "c3d77ca2"
      },
      "source": [
        "--------------------"
      ]
    },
    {
      "cell_type": "markdown",
      "id": "4ac233c6",
      "metadata": {
        "id": "4ac233c6"
      },
      "source": [
        "### [실습문제] 사이킷런으로 상관분석하기 :  국가별 기대수명\n",
        "- Data : https://www.kaggle.com/datasets/kumarajarshi/life-expectancy-who\n",
        "- WHO 데이터 : 2000 ~ 2015년 나라별 기대수명과 보건 예산, 질병 통계, 비만도 등"
      ]
    },
    {
      "cell_type": "code",
      "execution_count": null,
      "id": "4645b2ae",
      "metadata": {
        "id": "4645b2ae"
      },
      "outputs": [],
      "source": [
        "import pandas as pd\n",
        "import numpy as np\n",
        "import seaborn as sns\n",
        "import matplotlib.pyplot as plt\n",
        "from sklearn import linear_model\n",
        "\n",
        "# 1. 데이터 준비\n",
        "df = pd.read_csv('./data/life_expectancy.csv')\n",
        "df.head()"
      ]
    },
    {
      "cell_type": "code",
      "execution_count": null,
      "id": "14339cd7",
      "metadata": {
        "id": "14339cd7"
      },
      "outputs": [],
      "source": [
        "# 컬럼간 상관관계 확인\n",
        "df.dropna(inplace=True)   # 결측치 제거\n",
        "# df = df.query(\"Year==2015\")\n",
        "df\n",
        "correlation_matrix = df.corr(numeric_only=True).round(2)\n",
        "sns.set(rc={'figure.figsize':(22, 20)})\n",
        "sns.heatmap(data=correlation_matrix, annot=True)\n",
        "plt.show()"
      ]
    },
    {
      "cell_type": "code",
      "execution_count": null,
      "id": "cdead940",
      "metadata": {
        "id": "cdead940"
      },
      "outputs": [],
      "source": [
        "# 기대수명과 피어슨 상관계수 높은 컬럼 선택\n",
        "print('기대수명과 상관계수 높은 변수')\n",
        "c = df.corr(numeric_only=True).round(3)['Life expectancy']\n",
        "c = np.abs( c ) # 상관계수 절대값\n",
        "\n",
        "c.sort_values(ascending=True, inplace=True)  # 오름차순 정렬\n",
        "c = c[:-1]   # 자기 자신을 제외\n",
        "\n",
        "# 시각화\n",
        "plt.barh(c.index, c.values)\n",
        "plt.title('Correlation Coef with Life expectancy')\n",
        "plt.xlabel('Features')\n",
        "plt.ylabel('Correlation Coef')\n",
        "plt.show()"
      ]
    },
    {
      "cell_type": "code",
      "execution_count": null,
      "id": "db9ac4d0",
      "metadata": {
        "id": "db9ac4d0"
      },
      "outputs": [],
      "source": [
        "# 기대수명과 피어슨 상관계수 높은 컬럼 선택\n",
        "# 조건 검색\n",
        "c = c[c.values > 0.5]     # 상관계수 0.5 이상인 값 추출\n",
        "c.sort_values(ascending=False, inplace=True)  # 내림차순 정렬\n",
        "print(f'기대수명과 상관관계 높은 컬럼 : {c.index.to_list()}' )            # 컬럼명\n",
        "\n",
        "# 시각화\n",
        "sns.pairplot(df[c.index.to_list()])\n",
        "plt.show()"
      ]
    },
    {
      "cell_type": "code",
      "execution_count": null,
      "id": "05f5725c",
      "metadata": {
        "id": "05f5725c"
      },
      "outputs": [],
      "source": [
        "# 선형회귀모델 점수 확인\n",
        "X = df[c.index.to_list()]\n",
        "Y = df['Life expectancy']\n",
        "\n",
        "from sklearn.linear_model import LinearRegression\n",
        "from sklearn.model_selection import train_test_split\n",
        "\n",
        "X_train, X_test, y_train, y_test = train_test_split(X, Y, test_size=0.2)\n",
        "\n",
        "model = LinearRegression()\n",
        "model.fit(X_train, y_train)\n",
        "print(f'선형회귀모델 점수 = {model.score(X_test, y_test): .3f}')\n"
      ]
    },
    {
      "cell_type": "markdown",
      "id": "a4c9300a",
      "metadata": {
        "id": "a4c9300a"
      },
      "source": [
        "---------------------------"
      ]
    },
    {
      "cell_type": "markdown",
      "id": "fede246a",
      "metadata": {
        "id": "fede246a"
      },
      "source": [
        "THE END"
      ]
    }
  ],
  "metadata": {
    "colab": {
      "provenance": [],
      "include_colab_link": true
    },
    "kernelspec": {
      "display_name": "Python 3 (ipykernel)",
      "language": "python",
      "name": "python3"
    },
    "language_info": {
      "codemirror_mode": {
        "name": "ipython",
        "version": 3
      },
      "file_extension": ".py",
      "mimetype": "text/x-python",
      "name": "python",
      "nbconvert_exporter": "python",
      "pygments_lexer": "ipython3",
      "version": "3.12.1"
    },
    "vscode": {
      "interpreter": {
        "hash": "b41e41bff03a930185ac2cbea60ce521f7c8c2f5401ceb5c30214081f77ab4f5"
      }
    }
  },
  "nbformat": 4,
  "nbformat_minor": 5
}