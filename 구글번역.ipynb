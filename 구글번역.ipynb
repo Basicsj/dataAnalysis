{
  "nbformat": 4,
  "nbformat_minor": 0,
  "metadata": {
    "colab": {
      "provenance": [],
      "include_colab_link": true
    },
    "kernelspec": {
      "name": "python3",
      "display_name": "Python 3"
    },
    "language_info": {
      "name": "python"
    }
  },
  "cells": [
    {
      "cell_type": "markdown",
      "metadata": {
        "id": "view-in-github",
        "colab_type": "text"
      },
      "source": [
        "<a href=\"https://colab.research.google.com/github/Basicsj/dataAnalysis/blob/main/%EA%B5%AC%EA%B8%80%EB%B2%88%EC%97%AD.ipynb\" target=\"_parent\"><img src=\"https://colab.research.google.com/assets/colab-badge.svg\" alt=\"Open In Colab\"/></a>"
      ]
    },
    {
      "cell_type": "code",
      "execution_count": null,
      "metadata": {
        "colab": {
          "base_uri": "https://localhost:8080/"
        },
        "id": "PhgsmYTlh9Ue",
        "outputId": "12974639-3b12-4ebd-eaf1-14a71d66360a"
      },
      "outputs": [
        {
          "output_type": "stream",
          "name": "stdout",
          "text": [
            "Requirement already satisfied: googletrans==4.0.0-rc1 in /usr/local/lib/python3.10/dist-packages (4.0.0rc1)\n",
            "Requirement already satisfied: httpx==0.13.3 in /usr/local/lib/python3.10/dist-packages (from googletrans==4.0.0-rc1) (0.13.3)\n",
            "Requirement already satisfied: certifi in /usr/local/lib/python3.10/dist-packages (from httpx==0.13.3->googletrans==4.0.0-rc1) (2024.2.2)\n",
            "Requirement already satisfied: hstspreload in /usr/local/lib/python3.10/dist-packages (from httpx==0.13.3->googletrans==4.0.0-rc1) (2024.4.1)\n",
            "Requirement already satisfied: sniffio in /usr/local/lib/python3.10/dist-packages (from httpx==0.13.3->googletrans==4.0.0-rc1) (1.3.1)\n",
            "Requirement already satisfied: chardet==3.* in /usr/local/lib/python3.10/dist-packages (from httpx==0.13.3->googletrans==4.0.0-rc1) (3.0.4)\n",
            "Requirement already satisfied: idna==2.* in /usr/local/lib/python3.10/dist-packages (from httpx==0.13.3->googletrans==4.0.0-rc1) (2.10)\n",
            "Requirement already satisfied: rfc3986<2,>=1.3 in /usr/local/lib/python3.10/dist-packages (from httpx==0.13.3->googletrans==4.0.0-rc1) (1.5.0)\n",
            "Requirement already satisfied: httpcore==0.9.* in /usr/local/lib/python3.10/dist-packages (from httpx==0.13.3->googletrans==4.0.0-rc1) (0.9.1)\n",
            "Requirement already satisfied: h11<0.10,>=0.8 in /usr/local/lib/python3.10/dist-packages (from httpcore==0.9.*->httpx==0.13.3->googletrans==4.0.0-rc1) (0.9.0)\n",
            "Requirement already satisfied: h2==3.* in /usr/local/lib/python3.10/dist-packages (from httpcore==0.9.*->httpx==0.13.3->googletrans==4.0.0-rc1) (3.2.0)\n",
            "Requirement already satisfied: hyperframe<6,>=5.2.0 in /usr/local/lib/python3.10/dist-packages (from h2==3.*->httpcore==0.9.*->httpx==0.13.3->googletrans==4.0.0-rc1) (5.2.0)\n",
            "Requirement already satisfied: hpack<4,>=3.0 in /usr/local/lib/python3.10/dist-packages (from h2==3.*->httpcore==0.9.*->httpx==0.13.3->googletrans==4.0.0-rc1) (3.0.0)\n",
            "나는 한국인 입니다. => I'm a Korean.\n",
            "I like burger. => 나는 버거를 좋아한다.\n"
          ]
        }
      ],
      "source": [
        "!pip install googletrans==4.0.0-rc1\n",
        "\n",
        "import googletrans\n",
        "\n",
        "translator = googletrans.Translator()\n",
        "\n",
        "str1 = \"나는 한국인 입니다.\"\n",
        "str2 = \"I like burger.\"\n",
        "result1 = translator.translate(str1, dest='en')\n",
        "result2 = translator.translate(str2, dest='ko')\n",
        "\n",
        "print(f\"나는 한국인 입니다. => {result1.text}\")\n",
        "print(f\"I like burger. => {result2.text}\")\n",
        "#출처: https://blockdmask.tistory.com/540 [개발자 지망생:티스토리]"
      ]
    },
    {
      "cell_type": "code",
      "source": [
        "translator = googletrans.Translator()\n",
        "\n",
        "str1 = \"스타벅스 tall 종이컵 안에 귀여운 기린이 앉아 있다. 배경은 숲속 \"\n",
        "\n",
        "result1 = translator.translate(str1, dest='en')\n",
        "#result2 = translator.translate(str2, dest='ko')\n",
        "\n",
        "print(f\"스타벅스 tall 종이컵 안에 귀여운 기린이 앉아 있다. 배경은 숲속  => {result1.text}\")\n"
      ],
      "metadata": {
        "colab": {
          "base_uri": "https://localhost:8080/"
        },
        "id": "4RB72YyCAQYF",
        "outputId": "873b03a6-5b28-4bd2-8e8c-630c70d4e0fa"
      },
      "execution_count": null,
      "outputs": [
        {
          "output_type": "stream",
          "name": "stdout",
          "text": [
            "스타벅스 tall 종이컵 안에 귀여운 기린이 앉아 있다. 배경은 숲속  => A cute giraffe sits in the Starbucks Tall Paper Cup.The background is in the forest\n"
          ]
        }
      ]
    },
    {
      "cell_type": "markdown",
      "source": [],
      "metadata": {
        "id": "TOGXOPQsiInX"
      }
    }
  ]
}