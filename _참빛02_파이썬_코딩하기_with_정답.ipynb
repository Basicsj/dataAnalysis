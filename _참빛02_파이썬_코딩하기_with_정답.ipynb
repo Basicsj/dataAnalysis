{
  "nbformat": 4,
  "nbformat_minor": 0,
  "metadata": {
    "colab": {
      "provenance": [],
      "include_colab_link": true
    },
    "kernelspec": {
      "name": "python3",
      "display_name": "Python 3"
    },
    "language_info": {
      "name": "python"
    }
  },
  "cells": [
    {
      "cell_type": "markdown",
      "metadata": {
        "id": "view-in-github",
        "colab_type": "text"
      },
      "source": [
        "<a href=\"https://colab.research.google.com/github/Basicsj/dataAnalysis/blob/main/_%EC%B0%B8%EB%B9%9B02_%ED%8C%8C%EC%9D%B4%EC%8D%AC_%EC%BD%94%EB%94%A9%ED%95%98%EA%B8%B0_with_%EC%A0%95%EB%8B%B5.ipynb\" target=\"_parent\"><img src=\"https://colab.research.google.com/assets/colab-badge.svg\" alt=\"Open In Colab\"/></a>"
      ]
    },
    {
      "cell_type": "markdown",
      "metadata": {
        "id": "Wb95H_oW0D_v"
      },
      "source": [
        "#파이썬 문법(Python Syntax)"
      ]
    },
    {
      "cell_type": "code",
      "metadata": {
        "id": "u7XCaAXU5DBR"
      },
      "source": [
        "print(\"hello world!\")"
      ],
      "execution_count": null,
      "outputs": []
    },
    {
      "cell_type": "markdown",
      "metadata": {
        "id": "Ia0eyXfzV5b7"
      },
      "source": [
        "### 들여쓰기(Indentation)\n",
        "\n",
        "* 코드 라인의 시작 부분에 들여쓰기\n",
        "* 파이썬은 들여쓰기로 코드의 블록(문단)을 표시"
      ]
    },
    {
      "cell_type": "code",
      "metadata": {
        "id": "kUJDlFda0dfj"
      },
      "source": [
        "print(123)\n",
        "  print(345)  # error 단락의 의미가 없으므로 들여쓰기 사용하면 안됨"
      ],
      "execution_count": null,
      "outputs": []
    },
    {
      "cell_type": "code",
      "metadata": {
        "id": "ZqMn3A27Bqeh"
      },
      "source": [
        " a = 10\n",
        "\n",
        "print(a)"
      ],
      "execution_count": null,
      "outputs": []
    },
    {
      "cell_type": "code",
      "metadata": {
        "id": "6XZP8ZoS9vt5"
      },
      "source": [],
      "execution_count": null,
      "outputs": []
    },
    {
      "cell_type": "markdown",
      "metadata": {
        "id": "XmkeU7cUWy2A"
      },
      "source": [
        "### 주석(Comments)\n",
        "\n",
        "* 코드에 대해 설명하는데 사용하고 가독성(이해하기 쉽게, 한 눈에 보기에 편리하게) 증가\n",
        "* 일부 코드를 주석처리하여 실행 방지 가능"
      ]
    },
    {
      "cell_type": "code",
      "metadata": {
        "id": "JRpq1BVz1e9T"
      },
      "source": [
        "# 여기는 주석문(설명문)입니다"
      ],
      "execution_count": null,
      "outputs": []
    },
    {
      "cell_type": "code",
      "metadata": {
        "id": "lRwOiVyymDRG"
      },
      "source": [
        "a = 10\n",
        "# b = 20\n",
        "\n",
        "print(a)\n",
        "print(b)  # Error  위에서 b에 할당된 20은 실제도 사용되지 않음"
      ],
      "execution_count": null,
      "outputs": []
    },
    {
      "cell_type": "markdown",
      "metadata": {
        "id": "zXZHKmWZyBir"
      },
      "source": [
        "#표준 출력 함수"
      ]
    },
    {
      "cell_type": "markdown",
      "metadata": {
        "id": "ogfU4MlCASx4"
      },
      "source": [
        "## print()\n",
        "\n",
        "\n",
        "* 화면에 출력한다\n",
        "\n",
        "\n",
        "```\n",
        "print(\"오늘은 파이썬 하기 좋은 날\")\n",
        "```\n"
      ]
    },
    {
      "cell_type": "code",
      "metadata": {
        "id": "AfbVm4xqApkg"
      },
      "source": [
        "print(\"a = \", a, 8749238,387)"
      ],
      "execution_count": null,
      "outputs": []
    },
    {
      "cell_type": "markdown",
      "metadata": {
        "id": "mnZgmQo8_Gid"
      },
      "source": [
        "#표준 입력 함수\n"
      ]
    },
    {
      "cell_type": "markdown",
      "metadata": {
        "id": "RcBhDJcYAbWu"
      },
      "source": [
        "## input()\n",
        "\n",
        "* 입력되는 값은 문자열로 입력된다\n",
        "\n",
        "```\n",
        "name = input('너의 이름은')\n",
        "english = input(\"영어점수는? \")\n",
        "```"
      ]
    },
    {
      "cell_type": "code",
      "metadata": {
        "id": "IpkKA9ZBA30o"
      },
      "source": [
        "name = input('너의 이름은')\n",
        "english = input(\"영어점수는? \")"
      ],
      "execution_count": null,
      "outputs": []
    },
    {
      "cell_type": "code",
      "metadata": {
        "id": "5moA16KeA4JU"
      },
      "source": [
        "print(name,english)"
      ],
      "execution_count": null,
      "outputs": []
    },
    {
      "cell_type": "markdown",
      "metadata": {
        "id": "pKraed_Lcyor"
      },
      "source": [
        "### 3 과 5 덧셈과 곱셈하기\n",
        "\n",
        "![image.png](data:image/png;base64,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)"
      ]
    },
    {
      "cell_type": "code",
      "metadata": {
        "id": "KxgIO8ZrdxmB"
      },
      "source": [
        "a= 3; b =5 # 한줄에 두개이상의 명령문을 사용할 때는 세미콜론 ; 으로 분리한다"
      ],
      "execution_count": null,
      "outputs": []
    },
    {
      "cell_type": "code",
      "metadata": {
        "id": "Qd4bw4KUdxwu"
      },
      "source": [
        "add = a+b"
      ],
      "execution_count": null,
      "outputs": []
    },
    {
      "cell_type": "code",
      "metadata": {
        "id": "HbDi4r2TKB6u"
      },
      "source": [
        "mul = a*b"
      ],
      "execution_count": null,
      "outputs": []
    },
    {
      "cell_type": "code",
      "metadata": {
        "id": "nsuJWLxDKC4k"
      },
      "source": [
        "print(add, mul)"
      ],
      "execution_count": null,
      "outputs": []
    },
    {
      "cell_type": "code",
      "metadata": {
        "id": "K8yXimjm0nR2"
      },
      "source": [
        "#좀 더 친절하게 출력하기 (for 사용자)\n",
        "print(\" a+b = \", add)\n",
        "print(\" a*b = \", mul)"
      ],
      "execution_count": null,
      "outputs": []
    },
    {
      "cell_type": "markdown",
      "metadata": {
        "id": "vcFKKgRbd0L_"
      },
      "source": [
        "###입력받은 두 수의 덧셈과 곱셈하기\n",
        "![image.png](data:image/png;base64,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)"
      ]
    },
    {
      "cell_type": "code",
      "metadata": {
        "id": "uump6rqmeNlg"
      },
      "source": [
        "a = int(input(\"a =\"))  # int()를 사용해야 숫자로 입력 받는다\n",
        "b = int(input(\"b =\"))"
      ],
      "execution_count": null,
      "outputs": []
    },
    {
      "cell_type": "code",
      "metadata": {
        "id": "9Bq78boHeOBj"
      },
      "source": [
        "print(a+b, a*b)"
      ],
      "execution_count": null,
      "outputs": []
    },
    {
      "cell_type": "code",
      "metadata": {
        "id": "JfGP5MlM1bDt"
      },
      "source": [
        "print(\"a+b = \",a+b, \"\\na*b =\", a*b)"
      ],
      "execution_count": null,
      "outputs": []
    },
    {
      "cell_type": "markdown",
      "metadata": {
        "id": "Zk-EzQj1A2aT"
      },
      "source": [
        "## int()\n",
        "\n",
        "* 입력되는 값은 문자열로 입력되기 때문에 연산을 할 수가 없어요.\n",
        "* 숫자로 사용하기 위해서는 int()함수를 사용해야 합니다\n",
        "\n",
        "```\n",
        "korean = int(input(\"국어점수는? \"))\n",
        "english = int(input(\"영어점수는? \"))\n",
        "```"
      ]
    },
    {
      "cell_type": "markdown",
      "metadata": {
        "id": "UtQfLUK3hcGW"
      },
      "source": [
        "### 총점과 평균구하기\n",
        "![image.png](data:image/png;base64,iVBORw0KGgoAAAANSUhEUgAAAREAAAHxCAYAAABK0IgMAAAgAElEQVR4Aey9d3AVV77ve+vVu1Xvr/fqnnvPnTln8njOuXPOzJkZj8lgPLYxDhgbG2NjTDI5iJxzjsoJIQlJIBBBOecslHPOOee8tRX2/rxaLTAgCyOkvRWgu6prx1691nd1f/u3fvG/IW8yAjICMgJjQOC/jeFY+VAZARkBGQFkEpEvAhkBGYExISCTyJjgkw+WEZARkElEvgZkBGQExoSATCJjgk8+WEZARkAmEfkakBGQERgTAlOKRFQqFf3KXnq7e+jtVjx6Fe/lXcZgKl8DCnoVPfT39qEaGBjTDT0RB08JEulVKOhsbKG5opaarCLKE7MpS8yiPClb3mUMpvw1IK7lipRcanNLaCqrpqOhWXpIqlWqieCElz7npCOR/r4+OhpaqC8opyw2kzz/ONJdwkhxCCDe1osoU0fCdO8QqnuHMD15lzGY+teAuJbDDe7y0NyZOBtPku74keESRn5wAhXJudQXVtDR2MLAQP9L3+DjccCkIBEhxinaOmkpr5VAy/J+SMwNdwLO3MBjtxEee4zxPmSO71EL/E5YEnDqBgGnrOVdxuAVuQZu4H/SGr/jltI1Lq51z30meB++RtClW8RYu5PlE01VWj5t1Q30tHVKy/rxIIiRnGPCSaS7rUNaomR5RRJt7kzwhZsSmB77jHHboY/nfhOCL90i+roLibd9yPSKpCA0icKwJApCEuVdxmDKXwOFYcnkBsaT7hZG4h1foi1dCdW9jfeRa7ju0Md9txF+J6wIvWJPzHUXMtzCqUjLo6ulfST3uNb/M2EkIpYsVan5ZHlFEWXuhPdhc5y3XMFjrzEhV24TbeFKsoM/OX4xlMVlUptTTGNpFR1NrSgVPfT29KDsVsi7jMGUvwZ6e5QoOrpoq2+isbSa2txSSe+X6xdL8h1/Yq65EHLZHu/DZrhsu4p4wEYY3yfDI4LK5Fza65pRqydOfzKuJKJWqxno7aO5rIYs7yhJr+Fz2BzP/aaSGBdy6RZJ9wIoS8qmpbJOWuIIa8xAX7+ktZ4qiiatU798glcSAXF/iGtcNaBioL9/0BLZpaC1qp6yhCzSXIIHJZSDZnjtN5Xum6ALdqS7h9NUUkVfjxJQjzs240oi7XVNFEWkEGPpJpGG2y4DfI9fl9Z8eYHxVKcVSOQhJAx5kxGQEXiCgLJLQVtNAzUZhZJ0Hm3hgsd+Yxw3XJT0hXE3PCiMSKazoeXJQeP0blxIpK+nl6bSakn6CDh9A6fNlyXFUZSZIzn+MdQXltPb0ztOQ5ZPIyMwtREQD1lhDs7wCCfC8L5EIu67DQk8b0umR4RkoBDGivHatE4i/co+qrOKSLzti/8pa9x09CTpI8nBT/pe0d4piW7jNWD5PDICrwICYonf094luUIIhWzQeVs89pngddCMeFtP6nJLx81xTaskouzspjwxhxgrNzwPmuK221CyhxeEJNBUVoPwCZE3GQEZgbEh0FbTSFFEMtHXXCRrjrBqxlp7UJVWgKKtQ+t6Eq2RiHDDLk/IIsL4AR57jfA5ck0y0wovU+HiK28yAjICmkNAWCurMwqIt/OSpBGhbww3uk9pXAbiYa7NTSsk0qfooSw+iwiT+5Kfh/cRc8n+LVzWBbnIm4yAjIDmERDWGeHpnXQ3AK8Dpjhvu8rDa87UZhcj4s60tWmcRPqUvZLSJ8bSFdcdengfMiPprj8NRRWy7kNbsyi3KyPwCAFBFo3FVSTfC5Ae4ELhGmvtTl1eKQP92gnu0ziJNJfXkPIgEN+j1yWxKk4oefLLEDZweZMRkBHQPgKCLBpLqiWJRLjPCx1Jwk1vKYBVG75WGiURYcsW7ugi5sV9jxFCGqnJLJpUfv7an0L5DDICE4+AcFarzSkh1soN912G+B6zIMvnoRTcquneaYxEhF26MjVfsr647zCQvFHLk3JkAtH0jMntyQiMEAFhwKhMzSPS5AFuuwwJuWJPeUI2/X2ajQbWGIkIb7r4m944b72KzyFzcv1j6enoGuFw5b/JCMgIaAOBno5OcgNi8TtpJSlbk+8GSF7hmlS0aoREhAedCJILPGeLy3Y9YqzcJeWONkCR25QRkBF4OQRaKmtJuOWDx25DKZVGfmgSwoKqqU0jJNJQXEn8LW9JkRp65Q4lcZn0aNk2rSkA5HYeI6BioKedzsZa6hpaaOjso2+sVkH1AAOKVjqa6qipb6O5sw/t2Acej0F+HQ4BkcyoLF485G1w2a4rOaK1VdVrzNgxZhIRChyhTPU7aSkpcFLuBtDZ2KqxDg4HivydNhDopbMkmhSX69jc8+NechN13WO0qKm66S4IItbdDnOHCDxSGmkfKzFpY+ivQZutVXWSq4XwHxE5e0rjMhGGEE1sYyIRtUpNZ1MrYp3lvsdQssqUPEyTQpk10Tm5jbEi0E5LbiQJrvdwDkggolxB53N1at00J9zC8/i3rD2gy26vKgrbBYm00lWVRmJ4AJ6u7nh4eOLp7YdfQCAhIUEEB/rh5+2Jt6cH7q5e+PpHE19QT20fDAy00RVrisO5jXy55wanPcqok0WRsU7qqI4XjmiVafmE6zlIaQQS7H2lfK6jamzIQWMiEeFYVp1VLGl/hTJVBNmJmBh5mywIlFHgcATdT97mow26HAhuoPq5S+EumqOv4bhzAZ9uOcEqlypypcRZ5TQmOmB98QjbN25l+7Zt7Ny+ha0bN7BuzXrWb9jCNh0ddujosHX9DvYeMsTCP4eMHugbaKU76iJWh75i7joTdt4vplomkQm7OLqb26QkR2479Qk4a0NpTIZGVgxjIhER3JMXHI//aWsCTlpLyxo5LmbCrpEhJxZSRBE5Vts4Me0/ePOLk2zwrqHiuRJsF80PzXmg8y4fbzrGd06V5LSJNmppy/HBzdaEy+evoHvpPIant6LzzafM//snfLBkGzvPXuairi5Xzl7BwMQBx+gSCvuFJNJMV+QFLA9+yay1xujIJDJkjsb3o4j8zQuMw+uQGR57jMjyiHyUyGhs/RgTibTXNJJw2wf3vYaEXr1NbXbJ2HojH61BBAQBFJNns4ez895izvJzbPOrpfKnSCTaAqddH7B460lWO5WTK5GIgr6WMkrzMklLzSAjNZ7cMHOu713JO3/+msXrTbEKTyUuI4OM5FQyMgspqu1ACDHqgSY6Ii5idfgb5m2+wUHvJmSjvwan+CWbEuqHipQ8QvUdJBJJvOVDe71IrSiuldFvYyKRxsJKybnMdZcIPXanrbJ+9D2Rj9QwAo9IxHYv596extxvz7P9pUikjJxW0YYaVAMM9PfR19dPf187A2UuuJ9dzwdvrmDJ7vu4lvbQLNL59T36z4B6MEnfQBNtEZewPryUeWv12GqXRl5LB21dPSh6VajGdu1qGK9XvzlBFk3lNYhcPiKqPsrMibq8Mqlo1lhGP2oSUakGpCSxgWdtpQSyGe7hdDdPjuzTYwHk1TlW3KEl5Nnu5fz8acxbcQEd/zqqRiyJPCaRoYgoofA2zocWMe+/FjB3iy3Wef2S5DH0n6haaHtowK197zP/nQ946/1lrNY5xBZdD2yja6nvlVnkR5hp+QtRXUE4n4mSKyFXb0u5W8dqpRk1ifT391EclSp1RqRlE/kdZQ9VLV8BL9W8uEGLJRI5N2/a4HLG9wU6kWeWM88hkb4yKt1OoPv5v/PmH/7ILz46xpY7BWS1DdM5QSLRRtzZO4/5b/0Xv33jP3lr/qfM2XKd056lVPTIJDIMalr9SkiLIk1H0FlbyYs1NzBuzA//UZOIKNuQH5IgkUio3h0pQ7usVNXq/L9k4ypQ55FltZNjM99i2qcn2OhURtFzfT+EdeZpnchwJNKJsiIQn2Nr2Dbt3/nHjL/zu9nr+GC7I/dTm2gd2sOBZtqidLE78DFvL1rPJ9uuYnzbmbvBaUTnt9LRL5PIUMjG43NdVjEhF25JqQLSnILpqGse02lHRSJibSUUMiK3o/9xy8HEJ3mlcrrDMU2Fpg/uA0UiccYb2fDnv/Jv0/eyyiKTzM7neXsNRyJP90mFqiaS5Fv72fHlCpYu28WZK6c4tPV7li3ayPorHtzPbnuWSFRCJ3IR60NLmbdGn223Milo70bR20dv7wCPNCdPn0R+Pw4INBZUEnrJHpFrJPmuP8JAMpZtdCQiEp+UVJFg74PvEQsp8K65sk6r2ZPGMsjX89guqPHC+8wXvP/LP/A/fvYtnx0JIrRWyfCZbYeQiHM5OdISRbiuN9NWFk3MzWOcX7+Uz9aeZ79DMsnluRQGGWKxYylffruD1ececDcyn9yaVloVA/QLxWrkJawOL2PeejN2O5ZSKwsfE345NhVVEXrZXkrXkXI/kPbapjH1adQk0lBUSfxNL4lEkm770VbXJD9ZxjQVGj64r47uJFOsdObyn//8r/w//30O76y0wDqlidphT/U0iZxijWsFuW390F9FZcxdnM6sY+Pnn/HJylMcuBVHdEMfShEJ05FDob8BRjpfsmT+QhZ8eYBtej545rbT2NNIR8wVrI8sY64gEacy6oY9t/zleCIweUhECrrzkopQiXKX7Q0tMomM55XwgnOpmlLIvbGV46vm89a7C5n5n7P5/HMdtttnENY4nDjwNImcYZ17Kbn11XRkPcD19GrWf7yQBcsOsfNGPJEVPc8G0nXkU+RrgOmmL1j2yUqWHnTgRkoHdd0NdEefx2LvYv6+0oAtDoVUyR6rL5g57f88aUhE1MUVjma+Ry1ItPeltbZRJhHtz/8Iz9BIQ6I9Nzd+zrpVm9lgaInRqfUcX7mURTtuoRtSQ9OPeOQRiexeyOJtZ1nvXkRuZR41AUZY7lnHpr26nHVKI7mhn2HDb/obaEgPIsr1Hvf8U4mqBWV/O/2Jxtw+vZoPt1/nkEspNTKJjHAOtfe3yUEiajWt1Q2kOgbje+y6VBazXk7ErL1Zf6mWVVAbTLTFDla9v5wlO25in1ZAacZtnA8v5/O317HipBc+lX08W0jgaUnkNGtdS8ipb6KjKIm0sGBCE4vI+ZH5ZZiO9bbToRjgB3eUynCSvGwxcQjDNbmBtufpdYdpSv5KOwg0F1cP6kR2G5Fyb6J0Iqjpam4jyytKSnISYfKAqsxCRECevE0kAr2oWtPJun2E099+wT++usjOm3nkd/WBuph85/Oc//RjPvloF1uvxRJW1v2UG3r3syZe57JHitXH41Ez0FlHXW4muSkppKalSXtaWhpiT09PJyMzi6zsbLKzMslKTyM9LYmkCF+CvLxwDkgjobgNxY8koMfty6/jhUBjQYVknfHYaywlVZ8QxaoYbE9XtxR8JwLvwvQdKE/OkYtSjddV8KPzqEGtRtWUToHHRc4vW8zCdzaxVj8Ez9I+Bql9gL6KUOKv7UDnw0X848PD7LWIJKRMQbeoRk8PLUP9RJ5xIGujKcMPv6unuLpvLwcPH+bQ4cMc+WE/wtGjxzh2/Dgnjh3l+NEjHD18kMP7drLn0Dn2G/njltSAlF3gR/2XvxhPBKozigi+eFMKxEt3D6OzfmxFwEdlnREDFsmISmMzCDh1g4DT1uSHJSLq6srbBCDQ30x7STTRNsc4tfR93pm1nMW77+OQ2sgzHgCqFrpL/AnQ3c7WBQt59/1NrLnoiVt+G42qHjrjr+MidCJSAN5QZ7MGalO98b5yiit793Dg4CEOHjrEkWH3wxw9dowjB/awf93nfP3VN7y7zZYr/pU0yJLIBFwgT04p3bdxmQSds5Wi7/OC4+huGVu4yqhJRHSrRjDaebtHTisBdDaMZNH8ZEDyOw0h0FNGXdR1bHYuY/HbX7FomyXmD2upGDZ3SCfKIj+C9XXY/NFXfLHFDJOEBioHeuhOsMR1z/NIpIvOugIKoiOIDgwgODhY2kOCg/nxHkJYRAShAa546q9n78pFvLnKhL3OJdTIOhENTfromulubSfHPwb/k9YIT3OprO0Yq1KOiUSaiquIMLqP46ZLRBjeo7Vc9gIY3dSO8ShlLS0J9/CyuMIpQ2duhJZR3q3muferqo3Wgniind3w8ksguVlJl7qHttjrOO9+nApgqCSiYqCvh57ODjrb2mhvb//JvaOjk/aWUip8TmC0ewkz1xizQ84nMsaJHtvhwtNcVMdLuOWNz2FzySAinEZVA2MzmY2JRIRCRpTIFMWDg87aSFXINV3TYmywvSZHDyhQ1uZRnp9NakUHtcNKIMNg0dPDQG/vI7JRPKtYdRpKIsMc/8KvOlDEXMH22Ne8vd6UXQ/kzGYvhEybf1AzWJXhvI2UTyT1QTCK9rFneBkTiYio3aKoVILO2+F3/DpZPlF0NMlLGm1eB89tW6WSwg6eK30898DHPwzJbPaglGwpn8jj30fxqm6mPeL8k8xm94pkZ7NRwKipQ/p7esnyjJTyIXsdNCM/KGHMCYlE38ZEIkIMaiqtItbSXYoIjBIVyHNLNTVmuZ1xRaCTpkhT7m99mw/WH+Gb+6VktYxRCzrQSGvYGa7t+4xpqwzZ6iCTyLhO6VMnUw2opKJVcTc8JR2msKiKxM2a2MZEIqIDyq5uMlzD8dhnjO/x6+QHx2skb6MmBie38TIIdNOa8gD/ixvZfsaUo/5VFI/VHqtqpSPBGif9Paw6fofLfhU0jF5UepnByP8dgoBYNUipO87ckOLdhGm3re4Z292QI0b+ccwkIpQ1pbGZiMREot5nnK0nzeW1qNTy1TLyaZgM/+xFUZNJfrgH3sGxhOS10jLWpEHqHnoqksiK8MElMIWHBa10jVG4mQxITcU+NBZX8tDcCZdtVwm5dIuq1HzJTUMTYxkziYhOtFbVI0KKvfab4n/KmvzQRLkCniZmZ1zbUDGg7KK7pYmm5nZau/roH/NzQIWqp4OuliYamzto7+5/NnBvXMf3+p5MVKMsCE+SvMsFicTZeo05h8jTaGqERPp6e6lKyydU945kqXlo4SIlgNVk0eCnOy2/lxGQERgZAkJvWZNdjNBXeuwxlqrfFT9Mo1dD1e9ELzRCIqIhUToz1SlYqjwugvIyPCMfpaMf2WDlf8kIyAhoHoHOxhbSnENw222Ix24j0l1C6Wpp04hV5nFvNUYiojBObW4JD6+5SNKIKGglLWs6no0VfXxi+VVGQEZAuwgoWjukcJTAsza4bL1KuOFdajKLNH5SjZGI6JlY1pTEpEtKVqfNlwm9eofyxBx6e5Qa77jcoIyAjMDzEehX9kplMkN0b+O224CQy/YURibTNcY4meHOqFESESfobG4l2y8an6MWuGy5ItXprcooYGCMrrXDdV7+TkZARuDHCIggu+qMAoRuUrhe+By3INMzErG00YaeUuMkIoLK22obyXALx/ugGa46ekSZO1GdUSinCvjxfMvfyAhoFAFFWycVKblSRUqP/cZ4H74mZXRvKq0erGao0bMNNqZxEhHNCrYT2d/TnEPxOWIxSCRmjpQn5UjOacK3RN5kBGQENIuAsLiIMBThjeqxzwSvg6bE3vCgLqcE4bGqrU0rJCI6KxFJWa1EJF4HzCTFTpjuHfKDE2itlmv2amtC5XZfTwQ6GpopCE0k9OptXLbrSY6fsTfcqc0qpk+hXZ2k1kjkMZG0VNaR7houudo6b74sObxkuIVRX1Auld2UpZLX86KXR60ZBEQd3aaSakQtbP/TVrju0MPvpLVUC6o6s1CrEsjjEWiVRMRJhBjVVt1AtvdDAs7a4LpdD7/jlsRYuVMUkUxLdb3G3G8fD0p+lRF45RFQqyUjRmlcBjFWbpK3uNtOfQLP2UhK1JayWoSFZjw2rZPI40EIcasoMpUoMyfJIU3E2QSesyXpjj8lMRlSvI1cy/cxWvKrjMDwCAg3ipaKWspiM0h1DJKWL85br+K6Q18qZ1sUkUJbTcPwB2vp23EjEdH/PqWSmqxiku8GEHzxFp57TXAXZHLelqR7AZTGZdJSXodwkunt7pElFC1Nutzs1EFgoH9AiooXVpfmslrKErJIvh8gSRwee43wPmQu5ThOuuNHbU6xdI+N9+jGlUTE4ISI1VbTSHlCtrRu8zl6Dbcd+ngfNCf4/E2ir7lIbrpFD9NoKKygu7VjvDGRzycjMOEICF8P4XPVUFxJWVK2tER5aO5M0FlbvA+Z4bZLH/9TViQ5+EvZytqrG+jvHb7KsrYHM+4k8nhAA/19NBZVkhcYR7ytF6FXbks2bZftupJmOfCCHXE2HmS6RVAYlkx5fDY1GYU0FJQjwppFrsi26nopDqC7rUPKWC2yVsu7jMGkvwZa2xEJk7uaWqUHanNZDU0lVdI1LZKfl0Znkh8YT4ZrmJRaQ5hsBXGIZYuoFSOsnIn2PhSGJdFcVj3hEvuEkYggE7VK9YNkItg2zTWUMD0HfA5fk8Q0UaLT94iF9FkoY4Mv3ZJ0KjHWbgjzlVgT5gbHSfEBecHxUh0c+VUzOIgENgVhieSHJsi4avraComXEgTlBsSQ5hJKvL0PsTYekoOYIAjhWyUkc58j1364/kVQa8gVe5LuB0jOZB31LQwo+1CrJt7nakJJ5LFUIl6V3QqJlYVduzgiRRLfEm75SNnkhVVHuO+KeBznLVdw22kg6VIG14M3EAFGAWduyLumMDh9Q6pLEnL5llTkSML2tIyvJq+xwDM2Uu4dQRRCuhDXtLCuuO82wOOACX4nLaWSDiLJV7prmCR1CElc5O7p7RlpJu6n7zDtvZ80JPL0EIXrvKKjk6ayGikPZFFUCsK3JNbKnYcmTkSbORNl7Ei4/l1pGSSWQvKuIQyu3iFcz4GA0zek0HEhFQpsw3QdZIw1fJ2FCaz17xJl4shDU2fpuhbLlEyvSEkCLEvMknQiInR/YGDYMupP3zYT9n5SkshjNERClX5lnxRz09PeRVdTG50NLXTWNdNSXislhRbJkCpT8ySyEYln5X1sGFRlFFKXW0qmRyR+x60kRbfAV2j+ZWzHhu0z+KXmU5VeIGHdWlkvFX7ramilu7ldcsLs7VbQ19OLsM5M9m1Sk8iLwBMSS39/P/19fYOv4r28jwkDEW0tVtlVaQWSGT7tQTB9fX38gLWM75jw/eH67OuXFKIC16m+TWkSmergT+b+12WVEHLxFunOoZO5m3LfJgECMolMgkmYjF14QiJhk7F7cp8mEQIyiUyiyZhMXanNLB6URJxCNZqPczKNUe6LZhCQSUQzOL5yrcgk8spNqdYGJJOI1qCd2g3LJDK15288ey+TyHiiPYXOJZPIFJqsCe6qTCITPAGT9fQyiUzWmZl8/ZJJZPLNyaTokUwik2IapkQnZBKZEtM0/p2USWT8MZ+qZ5RJZKrOnJb7LZOIlgF+hZqXSeQVmkxNDkUmEU2i+Wq3JZPIqz2/ox6dTCKjhu61O1Amkdduykc2YJlERoaT/C+QSUS+CoZFQCaRYWGRvxwGAZlEhgFF/gpkEpGvgpEiIJPISJF6zf4nk8hrNuFjGK5MImMA71U+VCaRV3l2NTs2mUQ0i+cr05pMIq/MVGp9IDKJaB3iqXkCmUSm5rxNRK9lEpkI1KfAOUdMIlM/RegUmI3J3UWZRCb3/Gi/d2o1iH3INhISEdn4VQOqIUfKH183BGQSed1mfMh422saqcspoaOh5ZlfniaRoSTTXtsolX0UZSBV/ZO3HsozA5I/aA0BmUS0Bu3UaLg6o5AUp2Dyw5Jora5noG+QFOqySwm5ZE+G85NEzeK3loo6qbhShnu4VAdWSCPy9nojIJPI6z3/NJZUkeocTKSpIwm3vClPzKZPqaQhr5ywK3fI9oiSEOrpVlCelCMVkg44Z4MocSqkGPUwS6HXHNLXbvgyibx2U/7sgEUN5JLYdALO2OCy9SqRpg8oi8skzz+W4HN2pN4LRFStL4nNINz4Pp4HTPA9aUm2bzS9XYpnG5M/vZYIyCTyWk77k0ELSaKxuJIIw3s4bbiIxx5jqYh30DkbvA+aEW5wl8TbvoRevY3rNj089hghikzX5pXK+pAnML7W72QSea2nf3Dw3a3tpDmH4H3ITCIK561XcdXRw323IaKgt89RC9x3GPBg9Tm89puS4x+LorMLXoESkPL0jx0BmUTGjuGUb6FP2UtpfCYRpg/w3GuM6zZd3HcZ4rHbCI9dhrjvHNxdtlzB/9QNyuKyUKlk0+6Un3gNDUAmEQ0BOZWbEYTQWFpF8r0AvA6Y4bLl6iCB7DaSyMRNxwD3nQZ4HjAl+roLDQUVU3m4ct81jIBMIhoGdCo2J/QiPZ3d5AXFS0sX581XfiARIY2IpYzYgy7Yke0XTWdj61QcptxnLSEgk4iWgJ2KzVal5BF8+RZuOvqDy5ldRhKZuG3Xx3WrHlGmjlRlFtLbo5yKw5P7rCUEZBLRErBTsVlhyk2w98Hn6DXcdoolzKBeROhIXDZfId7Gi476Ftk3ZCpOrhb7LJOIFsGdak0r2jopjEgm9Ko9rtv1fpBI3HYY4H3YjCzPSPoUshQy1eZV2/2VSUTbCE+h9gcGBmgoqiDG0k0iEeEXIshEKFujrztTmZYnB9xNofkcr67KJDJeSE+R8/S0d5LmGIKHMPVu10MoWf2OXSfDM4K22sYpMgq5m+OJgEwi44n2FDiXiMotCE0i4JytpFx1XH+RgNM3KInJoLe7ZwqMQO7ieCMgk8h4Iz7Jz6dWq6jJKib2hjteB0x5sOEiYXoOkm+IHGw3ySdvgronk8gEAT9pT6tW093STo5fDL7HruO2y4AkB3/JKjNp+yx3bEIRkElkQuGfvCevySwi9Io9oXp3pBQA/b19k7ezcs8mFAGZRCYU/sl78taKeilaN9Up+EdZzyZvr+WeTQQCU4JERIBYW3UD1WkFlMdlURGfTUV8DhUJ8q4tDHJ9Y4kwvk/sDQ+KwlOoTJSx1hbWE9buo3uoMjGXquQ8KpNypfurPq/spZTok55ERCLgxpJKUh2DCTxjg/cBM8nk6HfcEnnXHga+Ry0k/xDvQ2DM+AYAACAASURBVOYy3q/wteZ/3BL/41bSHPsesZDuqZT7QXTWP5tz96cknElPIsouBTm+0fgcuYbT5iu47dDH+4g53kev4X3YXN61hIHPMQv8T1vjd9JKcoOXsX71rjUxx+K+EommHDdcxGnjJQLP2ZIfkkhPh8gXM7JtUpOIqn+AhsIKoowdcdmmS8BZG5Ic/Mjxjxnc/aLJkXctYhAjWWlkjF/N6yw3MI5U5xBCrthLqTG9D5qT5R1FV3PbS8VHTWoS6WxoIdvnIX4nLCXGFEq+xqJKiSUFU/a0y7uMgXwNjOoa6Oiiq7WDsoRswvUcJM/k4Eu3qEzLfykCEbLKpCYRYWYM03fAdYc+kcb3qckqQkgn8iYjICMwdgREDhkhjQSctJJ0jeIh3V7X9NINT1oS6enqJts7SsrpKTKMZ3hEIHKBypuMgIyAZhCoSisgzOCulEs3ysSRmuxihCX0ZbdJSSL9yj4q0/OJMLqH5z4THlq4UJtbgogylTcZARmBsSOgaO8kyzNKCm3wOGBCpkeEpB4YTcuTkkQ66ptJuR+I+x5DyfU6PzgBIZnIm4yAjMDYERjo76c6s5BI4wd47DaUCpfV5BQPrZY64hNNOhIR4lRFcg4hV24jShcIh6e63LIRD0j+o4yAjMBPIyDqLqe7hOJ10Az/k1aDJt0xPKQnHYm0VNYNZh3fbypJISIxcFeLrAv56ctC/lVGYGQIiPy4Fcl5hOndkVJgPrzmIlk8R3b08P+aVCQiSheUxmQQeN4Wj71GxNt60VRWjRC/5E1GQEZg7Ag0ldeQeNsPr/0mkhSSFxSHSIs5lm3SkIgaNR0NzaTcC5SUqaJodGFEyqi0xWMBRD5WRuBVRUC4RxRFpkheyMLzO87ak6bS6jEXIps0JNKr6KH4Yarkduu1z4SkO360VNa/qvMpj0tGYFwREAmlxEM66Y6/lCPG98R1SRcyGpPu0I5PChIRAxTlCkQ2LdcdegSfv0lZfBZyDouh0yV/lhEYHQIiBq04Jo3gi7cks27ibR8aS6pG19iQoyYFiQgX9qKIFCk2xm23IfE3vWmtrBvSVfmjjICMwGgREMsW6SGto0fQOTuNJpqaFCRSl1cqOZS57zIi+OJNSmLSEcsbeZMReBUR6OlR0tzcTm1tC3V1LTQ0ttHZ0Q1qzTtTqgFlVzeF4UlSVLbbTn0SbvkgfLE0tU04ifT39EmRol6HTKWQZJHLQPjvC0WrvL0iCKgHUPcp6OnqoqNLibJfhUoTQ1OrUPUq6OnuoqO7l54+1aS8agb6B2hrV1BS0URKRgXBUbk4eSZx634Mtx1jueuSgHdABvEppZRVNNPeoaCvTzMWSXHu2txiYixd8dxvIhUmK4nL0OhDekJJRLixN1fUEnfDQ/JOfZzPU3Zv18Qdps02lAx0NtBUX0dVTRONbUp+MuKirxlFaRRR3t7cdU0hsawNjfgf97bSmR9GjL8Hd/0ziS/tZLJlghV6vazsCmwcYth1ypMVOx6wbNtdPlt/i09W27FojR2ffn+TJRtv893OB+w57YnlrYckpZSg0IA0ruxUSOH9nvuMEZUMU0XCoaYW1CrNPaQnlES6mtqkUH/fYxaITFpZPg/pbHpFK84PKOlXdNLZqaC7px8NzqE22eLZtvuaaS+KJt7tBrb6F7h89iynT1/gooENlq6xRBW10DLcA7S7hLYYM4wOHGHF1nvYxdQwOMu99DfkUJTgg6+7E/fuOeLk6ISzkxPOjo44i/fOrrh4hOIfnk9uVTfPLHL7amgJ0+P62b2sOOWOVXS9Zsjp2VGP8pOa6tpW3P0yOXrRm4+/s+a3c3X5p79d4mfTr/CvM3X5xVO7+O5nb13m93OvsuDr6xw464mzVyoFRXUolaOjRtXAAE0lVTy85ix5fwdfuElFYs5Lh/q/CIAJJZGqtHwpIYrjxkuE699F6EY0yZAvGvz4/a6G9lLq8+OJiMshobCVzgHNPQnGZRzqVlpzfAjQ38aOxfOZ9+ZbzHjzLWa+9TemzXiHmYt3sdnAF4+cFhqHEklXPs2h5zm2cjNzF1tjGFT5iEQ66E62w/XsUr5aOJc3/z6LebPnMH/OXObPncf82bOYP/PvvPnWEuZ9boaeWxGVarV0EwiLnrqjkGrPA5zdsYK52+9wObiGsblNaQpJNdXVzdxwiOWjVTf5wzuG/OEdA34zR49fzdbl13P0+PVsXX456xGRzNLjl7PFb3r8Zq4eb7xtwH8uMObjlTZcMPQjOb1sVMGnXU2t5AbGSsXHRE4ekXBIk7qQx2hNCImIC0BkT8r0iJTMTe67DUlzDpHqnTzu2Kv1OgCVoSR7mHBA35nL3iVUKzWiFRgfmPpbUZb64meyhw2fLuHjxWtYs/sEx8+eR/fiCU7tXsu6Lz7lgy/3sOpyMJ45rc/ezF15NIec4dA3G5i20BJd/woGM3gq6M3zIeLmcU7u12Hjpm3s0NFhp84Odu/ay+5t69mxfB5v/3U+v/7zCXaZxZDZVkNFZQmF+fnkJfkTab6W7au+5M1Nt7k0KUhETXVNM5a3Y1i40pZ/nXFVkj5+NUePN+Yb8m//MOSNt/X49Ywr/OxvF/mff7vIP711lX+ZbcDv5wuyMeTXc/T52bQr/GrmFd75yoKTV3yISShCofjJReOQa0GNyMcTYXxPyscTZepIY2GFVry/J4RExDqxIilHymXgud+UKHMnKapQpAB4Nbc+KHxA4PVdvLfJhFXWWRQqpookomKgNYOSu/s4vvwzZn1+ih0WkURXtNKoUDLQ20ZbcThJt/ex64svmbfwJEfvpJOt5Iny9JEkcvS7zcxeZI1BYAWDtgE1KFroaKigqqKM0rIyysvLKS+voKK6lsqSDEoDL6G3bR2z3z7Pfn1PorODcHe9xXVTM8yunODCpg9Y9MnnvLnZAf3wOkaeGVQ7V1p1TaskgSz8zoafT7sqSRdvSJLII2lklj6/mWfCX7+0Y+Hm+3y17R7Lvr/BgiUm/Ok9Q373tqFENoJwBJn8dq4eMxaZcOKyDzl5VSOSSMRDWuTekR7Sh8zw2G9Chns4ypfIm/oy6EwIiXQ3t5P6IAi3PYb4HLUg1z+Wns4uRh2L/DIjnpD/ChK5T6DFTt7daMxKq2yKnlncT0inRnhSJV0lvgTtW8LGj77m8/MB3M3qelY3oW6jt8oL50PrWDNzOZvOeeJRpXqin+geXM48TSIjyp+lakWdZYXdke3M/8cFDly9T3C0PaZ6x9m1eRs6679j3aLpzJy/mL9ucsAosn5CSUTZ04uzTzofrrTjl7OuSjqP379tIEkfYjnzxnwDfjHdmP9YfJ91Zmk4ZjeQUVhDTmAoFicteWeRAT+fpf+DRCKOFUucX8y8yierbLl5P4bqmhcj16cQQXa5RBjek2JkIs2cqM4o0FpWwHEnkf6+PmqziyUdiLBZi4RD9fmTKdS/m+7mWmoraqiu76BdI8JRHxQ5EWy1jw+3XWODfREVj2/hng7aW9po6ej7aQvH4/+P6rWPge4WWpqbaWrv4eWEoE5asu5z/5uFbPhoIzudi0joGK4TBaSZ7eP0nAWs2mvHtaw+Wh8LWz9BIuqeLrpbGmiqq6GmuoqqKrFXU11TS01FFpXBl9DbsoYZs8+x2yCQ+LJkHob54ebkjKvDNWyPfsm3S79k2pY76IXVPruMGq6bWvpOmGQzs8rZf9ZTkh7+55uXH+lCBiWQ380z4HfzzPjb165sMMvGr6jnyXxXpBBqeoOPPjfgf03Xl6SRQT2KIYJIfjFLj3//hyFfb7mDb0j2CxWjIjdxsoO/5P3tc/ia9JBWtIlJezwhmgVh3Emktbpe0n/4HLEg6LwthRHJDA5QswN7udYGGFDU01iYQHKIO+537bltZ8/N2044+UYTlVVNZUc/o3cFekQi1vv5cLsZ660TyaosoCovklBnB+7a3cbOwQvvyCyyqjvpGKqYfLnBPPl3fyddNbnkR/sS4HgTe1sbbO+44xSYSmJxCy29I/HG6aItxwnnlR+x8cN1bL6Ty8NhS5JkkmCwg0OzPuDbvTexyOql7bHaZxgSGVzO9NJXnkhm0F0e2NtidcOOmzdvYn/rFvZ37nLb7ho3L65n0+dfMX3eBQ5aJZGr7KS9vZXmpmaay5PIubuDI5u/Yda2O1wOmTjFalNzJ9dvRvHhCitJ4vjVHP0nJDJfn1/PMeY3793hm8tJOOW3UtbcQ2ePigGUKPMT8Daw5oPPDPjnGc+SiCATsbT5+bQr0ut5kxAamjpQPce8J+o0VacXEHLJHsdNlwg3ukd9bumTa0IL78aVRIT/R0l0Ov6nrHHepiv5h4j8ISIFwMRtKlCWURZ5A7tDK1nz0SIWLV7Od9+vZOVXi1i88BuWbDZF1zOP/M6R3HTDjUSQiAuhNvv5ZNsllp+25J7NSa7s+prP5s1h/ow5zJn5Hh8u28N20xC88zqfLAWGa24k3w0005nrhb/xHnYtWchHs2fy9qyZzJnzHnM/2ML3JxxxTG/gxcEFfXSV+BC4bxFrP/iSj84Ecz9fOaQHCqj3xfXQGr598ytWn3LHuVJF1+MH349IpPKRYrWNrjhrnM5/x3crvuOzbzexbdt2durooKOzgx3bNrF93TKWLdnA5yvMMXOMJqMyg4S4cAL9AvB3teHemWWs/nop07Y4oBtaO2HLmbyiejYfduV3c6/y23lPliRiGfOHt3X55dvX+M3nXuyxSyWiqBDvyFJ8Y1pp6OymtzARr58gEaGM/fn0q5I1Z+NBZ2ITCunuHjoHg1PSXttIumsYQgIR91leSMKYQ/2HTPaPPo4biQiGbKtpINHeF9ftelLRqbygeMT6beI2Nf2d5dRGWHP35BrWLf2Sz5ZsZvO+M5zTu8DFYzrsWPY5iz/8li93X0c3sITclt5RCIX9UOJJhNUWPv16OX//dBXfr1/L+rVrWbVyLevXrGbdN4v58qNFLPxiNztN/fEv66RltEspVSvtef74XtRhx6cf8eHCr/jimzVsWLeWDWu+Y8XipSz5chfrTrtxJ7aaeqX6J6QsNX2t6RQ6HuT0d4uYv2gvW/Q98EsvpqCyhrqqfAriXfAz3MamT77gvU/PceZBJjndPHH8GoZEJD8RdQNtgScx3/0+s5ZtZvEuPUzNzLlucY1r5uaDu8V1rlk5c9sxjpS0BPJSXLljqcfZE6c4eWAre7+Zx7vvf8bfNjlgGDExitX+/n4iYotYvP42//S3i/xmrj7/9pQy9Q/CGvPONX77hSvrznhjfNOLjXrRHHeqp7S1C3Vp0k+SiJBGhG5E6FSWbbrFA9d4mpp/nKhLGCzEQzroop3k/Z1g70tbXZPWH9LjRiLKjm5p6RJ03k4qzxhv50VDUQWCXCZu66OrPJSIc99zZOUaNlx141Z0GRVNLbS0tdLaUkN1qhtBBhtZt3wjH+xyxS6hYRRPuwEo9yXKZAWL5/6Ff/7zZyzYYYWpTzpZVXXU1VVRVxRF1K3TXPz2I774Zg9bbqYRVd03CsIaQN30kOTbR9j24dd88uUZzjkm8rC4jvq6Oupr8iiLvsnt0zv5+pN9bDrtTVBlD+2PpYbhJkPVQX9VMKHGO9i+cAEfL17PutPmGNvd5r69IYaH1rD23fnMX7idNfoR+Bd10fd0e5KJ9yyHv93IjI+s0At45CeiqqfV/zhmJ1ew4JwjF8Lq6VQoUEh7NwpFN93S+16Uvf2oFOU0ZPnjcccKEyNTjC4f4/zGBSz6eNA6YzBB1pm2tk5cfdL4aPVN/vdblyVJ5LFOY/DVgN+/Y8IbH1gx73NzPlptyZt7QtDxbKSkQwElLyYRQUxCP/L+19cxsAimourZ2BdhkRFSfeItHyljmahuVxCaiHB71/Y2biTSWlFHrJU7Ltt1CbpgN0mC7LppK/TD+8BmTm09i25oDTk/4rQGSDXm8vr1zHpfl9NOeZSrnzJfjmiGBqDCmwj9lSz62zz++N4R9jvlkfrMw0TFQEUIyabfs+HT5cxb68C1yNpHYv+ITjL4J3UrbfHm3Dv2FR8uPcxq/VgSmob0V11BWag1Rhu3sH2vOWax9RS/0DYqnM0CCLl2jLPbv2ftdytZ9c23rFr5LctXrWPFhhMcu+aPd14rjUMlqM5cmoJOsm/pWv763jUu+z7yE1HVSSRifn4Dn1yL5saLlu6qZjoqskhPTCAuJZOUWB9Czdehs2YZM7be4WroxChWa2ubsbsXywcrbPiXGVf53byn9CE/SCRCwWrEv8++zO/fNeGXm4LZ5tdESefISOT38w343dtiaaTHun2OpOfWPHNRiEj4grAkAs7ckKSQWBtPGos1E+r/zImG+TAuJNLXo6T4YZq0RnPbZUDiHV9aq168Gh+mvxr+SkFXXRZpLu6EeMaS3qR6JGUMMNCnRNndTntDJtXhBpxbsYb5M45z2C6VLBU/If4P18V+KHMn1GATH8/fwqe73PGt7kUx9K/9NSjTLTFav473557k6M00svtf5lwq6Csm/+YBdFd9xtJT99FP7BpWv9LXnEuhnz1ujp44pzRQNqzFZWgHe+hryqMw1hMPKz0Mjx3myNFznLnuzJ3wfHIanhNDoyijPcEa82Pn+H6XK3fi6pBOp6qnxf84pgcWMXfzWdYbeRAYFEzID3sAgd7ueLo8wPGeA3dvWWJjeRMLu3BC8zpo7iqlPvgI53W+YcZWe84HVU+IdaaishEr+yje//bGC0jEgN/Pusyv3jXnl5tC2OnXROkISURINIJE/t8/n+e9FXbEJP9g35MmSRBGjJUbrjv1pUj40rhMlN0/usKGTqhGPmufRNRQX1Am5TIQUYRheg6UJ+dqNIpw9EioUfX30NPWRmdrK10dLTTXllJemE12VhqpCZFEuFtw+9R3LJu2gGlvHeawfToZAy9zY4ve9UGJMyFmO/noq3OsuBJH6g9ax6d73wENfrgc2MaqaZvZaxBOeBuMXGukRN2RSOTZrRxd8DXbDINwrnpOX9V99Hc20dbSQlNnHz0jlnr76e9upbW2kqrSUkrLKqlsaKNFMfB8Yu1tpqckiihPbxxEAF55++CYVI20hF3mxs65zJ01nX9/cz7vv/seH7z3aH/3PRb84x3emz+fd9+exz/mTGPWrMXMXWzARdcyijvKaIg4waWd3zJ7220uBk2MdaaismGEJGLI72dd4deCRDaPjkT+v/+6wIKVdsSmPCGRXoWSoqhUyb3dbZc+CfY+tFU3vNAU/PSVN5b3WicRkVFJFIQWVeVFHZk0pxC6WzsmWah/DfXpbrgbn+Skzi527TzM0TMXuKBnjMHFY1ze/RWfT1/IjOlHOHp7lCRS7ESw5V4+3GTK91ZZFPb8aN0EQmboiCLgxE62T1vJ7kv++NbzY4nluTPejqo+CLddG9g6ay1HrkcT1vocEnluGz/1gxpVTw2Vkf7EeIUQXdrNi12fBIc20JPnjavNTS6aRxCY2zw4JnU3ijxfouxOcHbfFjas28DmjZvZsknsm9givd+Ojs4e9h04yKHDhzh0TJ+zRkH4pLTQ3FNNS7Qe107osPSoC+aRE6NYLa9o4PrNSN5bbv0CScSQN2Zf4TfvmfOrlyQRYeYVkshvZl3lO517pGVV/zBRTSXVxNl64rHHWIpFK0vMHtesgFolERFFWJ9fTvQ1Z8kiI5Ivl8Vmasvn5QdQR/6ml77WIspD7Lhz/HvWL17Ae/M+5ZMl69m89zgn9G5w3dYWd7sT7Fu2mndmHuOoXeroJBHhbCZIZIsZ398QHqvPIZH2SPyO72DrtJXsueSPX8PLkEgbA7X+OOtsYPPM9Ry1iiWyfYg+ZOTgDPPPXpT1kQQfWM2Rz75n7+1UQp/V7w1zjCCRUjpj9Di9aSfzl93ENLTqUQCeCnVnHc3lOeRnpZKSnERS0uM9kcTEJBIT00nPyKOgtJzSqjpq6ltp6+5BqVSibK+kPu4ubrbXuHTzIX5ZrS8htQ3f1dF8O6gTiWHBCht+Pv3KT+hERk8igkCEYvWtj405cs6TwuIGqasDPUqEldPvpKUUhybMu10tbaNQyI9m5IPHaJVERKi/iBwUof7eh8xJcQyWxKzRd1fDR/YWURlhi9nGLWz4Ygf7Lttw3TWEoIh4ElIzycwvo6Qih8YUW4y3bOX9Wcc4bJMskcjL+YP1QbEzIdd289EKXVYZpZDVNRyJdEJzCJ5HdrB++nr26QUT0sKzLuY/CYECVWsU/oe3sn/eKg6ZRxDQqElJRElPbTC+mz9n++zFrDYIxrFw0JrSr1TQ3d397C4sK30D9DakUeVznD1freOtDy3RC6h4IsGoVaj7uxloL6cyP4WEmGiiH0YTExPzaI8jLi6RpOQUklPTSUvPICsrjfSURJJiInkY4IG3bzCeMaXk1yufxOv8JE6a/VHRrcA7MJNFa28NWmfmPk+xOnoSeWydWfitFWY3wqmubZM8UJuKKoi+7irV0w25Yk9FUu64LWMeo6g1EhEWvrrsEiKN7kkmp0iTB1RnFo2rmPV4kMO/qqAxmHi7A3z9sQ6fb72Pe34HzxhMpAO7oNAOi83f886soxy4kULmaHQipW6EGm3l4wW7WXIkgLBGFT8momYovssNnU0smn2QQ1YJpCpfhgQGQJlFiuEOzi36nNUXPLiRr3rir/E0EN1VNCQGEB/5kIfF7dSPKJZHibI+nOC937Djr2/x4ZdbWHvkElcuXUb/8iUuX7w4ZL/Mlat66J7ey8lNi3h/2tfM+sQa89DqJyQi9akDqkMIsjnL3rXf8/2K1axft44Nj/fvv5d8aoRfzbo1a/h+9WrWin3VWjZs0kHnog16/oWkNfwY0aeHrLX3ahUpGVUs336Pn/39Ir/VAon8Ypau5H/y7bY7eAdm0KnopbejU6qhKx7QYk9zCZWyAmptnM9pWGsk0t3WSY5vtJRsyOfoNbJ8oiZZqL+wmLgSen0XC1dc5Bu9RDJ/lG6rn4HmFIqcD7H/o0VMn36EAzfTyVK/7IqsH8o9CddfwyfTFjHrayOMY+opf0aZqUbdmkGF+3EOr1jL/KXX0fUr46WLZgxUU+V1lutbPmPRRkP2OxVTqhjSX3ULDcn3cdq3mgN7z3MxpJps8WB74dZLb2MkIQeXs/2NX/HW//kzf5o2m7mzZvP27MFX8f7pfd7sucyb8Vdm/eWP/PZXi5n5yQ0sI2uGkEgz6mJX7p9dz+IZM5jxl78ze+Ys5sycxdyn9jkzZyLtM2YyZ8ZMZr35F6b/8Q3+Y+EqFhhG4Vw4chX0C4f6kn+orGnj0Hlv/vSeiLzVR8TKPOsrMhjm/4NOZEsouwNbqVL2QmUKfkbWLHyO27to519nXpWczfad8SK7oEZarjTklBCmeweXrVcJN7wnPaQH+oba119yIKP4u1ZIRD2gojItnzB9Bzx2GxF9zYX6gnLUE+rePhSdAaj2JspyN4sWHWLJoSAiG5++2TpQlD0k4f5pLqx6l1m/mM1/vXWEo3ezJBPv4DNPuME/7VU19ByPPz9yNjNYzuK//Qc/+8tyllzwxTmrkRaJSPqhp5TSUCtubVnC14u3slw3Cp/C7ketP0rE87i5n3ztQVnhSZjJVr57fw1frLfCPrGWsh8Iq42+Im/8DHey4r1v+HKbJbYZrdSM6P57IonsfHMmn3y7m81njTE1McHC1BgToyG7sQmmZhaYXz3G5Z1L+GjWcmYtGk4S6UHdVkhebADuDg443LrN3bt3ufeC/bbFaS5/N5OPPl7MzAtB2GaPSJz6SfRG+2NXlxInj2SWbbaXkgqJrGU/SSLbwtkX1kmTWIDVpxFidoMPhwnAE22IPCO/maPLrMVmWN6OpUuhRK1Ukusbjc9hczwPmJDuJnQhP5ajRzuelzlO4yQibiqRcEjoP9z3GOFz5Bq5AXHjZrMe+eDV0JVFkb8Rp1as46vFu9mna4u1qxvubk442VthZ3IJvVPb2f39Et77tw+Y+6edHL8ZSXhpAWn+XgTd9sA7KIvsesULvFiF27s74SYreO/dufzLzC/4bPMxjlwyx9zqJrduWnHT7DRnt67iu4Xfsnq/LTaJNVS01tCQE46/myv2rtGEZDZQPxJbrLqS2jgHbmz5nvUffce6fVe4YH2X+8Lf4qYxlqc2s2XVOj5ca8apuzkUdv2U2/vTiAqdSCgBO75h74Lv2GaTTOBIzDMD5XQ/vMTJVU/yiYzksKfPPOz7nkzyLdZw6PtlLNANxiZr4khExIWVltVjaBXOzE/N+Zfpg56rwqryNJm8MVeX375rym++c2e5WToPwvIIcw/kyiEL5n5i8ExyIhEzIySa//3WFf70vhE7j7mSklklZYVvyiuVgus89xpL6Q9rc0u0knBoWNyHfKlxEhGlHipT8gjTv4v7LkMiTR2pyS4ectpJ8lGlQFEVQ4z1UU5+vZAPZs1h1ozZzJs5j/nzFvHp6pMct7yPZ+BtLPccZceCQ+jbe+Dmb8v1rz9h+e8/YclKK2zi63hicBtubGLp5EnUnSN8sfssXx/VxUJ/L0dWf8rCadOZN306M/82k7lvL2fpTkvMQyup6O5ioCWKKIutfL3gPf6w4BDrLFJIaBhJdqsBVF1lVEbYcfvISta+N4d3Zsxg7uyZzJ01i+lvL+GjTfqcc84kqbZvGN3McGMQ3wkSCcF/+zJ2/2MZm649xLNSJcVmqEXmddUwu1j6deTSGHyGQ8s3MvNjK/SfVqw+71Qj+b4zlWzTlexfs5T3rgZhkzlxJCK6K1zMo+OL2HLgAX9daCSlOhTBeM8QyXwD3njHiDcWmPOXz6yZ9/UN/rHUghkfG/PHdweljsekI6wxv56tx8+mXeazdfZ4BWRK7v+K5lYyXUMHH9KHr0nWGeHQOVGbxklEFJ1KvO0rLWP8jluSExAr+YVM1ABfeF5VO92lD0lwMcH4xH72bdmGztZ9MACUCQAAIABJREFUHDimj/6tMEKyq2nqrqMqJYloxzASMxKJDzLFdNEc3vm/pjFz7mUMwisp/8kTqaCtgMrcaFyjswhOy6Esw48Q+6tc2qvDns3b2aZzgpMGTtyNKqFAcufslRS/YQbfsGj6H/m//7Kedy/GEjmydcdg7ghlOZWJrpL/y7ndW9i+cRNbdA6x78JNrPwyyXyeh+lzx6JEWReM/7bFbPjdvzH3gxUs1TnC0cOD+7HDR/jxfpij+zaw59v5TP8/n/Knd8ylHKuNzz3HyH/oa4gh+eqXbP/mU+ZcCMAyY2JJRPS8tbUb/5Asthx05C8fGEoJhX41e6i1xoB/m6fLr6df4p9FesS/X+Xnswz43XxDKW+ItIR524D/9ffLUgoAkSXN9kGClAJA1KapTM0lXN9B8k4VaQ+FG8VEbholEfEkEuUvA87a4KqjR6yVG43FlajUw5kzJ3LYw5xb1Y2itY6asnLKyuuob+9hWFcO2mjJvI/b4VV8O301S1c7cD+1cYiicJj2f/SVGvra6agvp6KwhOKKJhoU6qekgj5oTSbd4SCHl3/MjBVnWO+QT3rzy1ogVKiVLbRUFVOUX0h+aT317S8jfTzd8T76WhKIubqLE29P48Pp05guFKmzZzPvp/ZZ0yVl69+nrePL9Q94kNjw8jFBT3fj0fu+5hQyrXU4vXMTy69Fcj9v4p7GT3evq1uJT2AG2w45Meszcykps8i1+stZIhHzoNJVROT+Yf6g74fwAZEcyebqS9G6IoHz7+bq8X/eNeCTNTexdoilrmFQ891eXS/VqfY6YCp5qIpQ/4nShTwes8ZIREQRttc3k+oUgtdBMwLP2VAQniRV33p8slfjtR9loQ9RZnvYqXMBHdNEYioVw5tRxzTgflAWkuduhNnWTew4e4trKW1U9YxEkfucE7+0VWloOwMMKGupTAwmwsGOezZWWFtbYWVlhfVP7pZY37Djhp03bv7Z5NYNKf0w9DQj/DzQXUlVtDM+jve5FV5Iau34Wyae19X2dgUR0fkcv+TN3CUWCBOtKBMhljdCzyGWKoJIxC7eCxIRv4ms76K0xIxPTNh+2BlX33Rq65+Yzkqj0/E7YYXT5svEXHejubx2giPhQWMk0tutoDA8Gf/TNxDKnuR7AbTWjp///vMmU/Pfq+ity6Ik0hm3gEg8slqoe7l8gyPskgrUTdSmRRJ514WA8Ayy21QvmdpwhKca8d+Elaif3p4uutrbaG9vp629/YdX8f55e3tbG23tHXR09WisAp56QIGiWeQ0qaayoZP24UXHEY9O039UKntJTivlun0MO056snSjPQu+sZS8Tn858woiDuZ//OUCP3/rEn/8hz7/+MqCpZvs2X7MFSOrCB7GFtLV9SSIrrOxhSQHf0nX6Hv8OvkhifQJE/EEbxohESGFNJfVEG3hgqgh43/SitLYDK0nQ5kY7NT093TT3dpCR5dCuqm1s1gTEoeSnu5OWps66eoeTW6RiUFIPusTBMS90dnZQ05+NS5eyRhcC2LvSVc+XXuT6Z9bMvtLKz741oY1u+5xycgfZ49EUtLKJN3K0ykQlZ3dlMSmE3z5lmTxTL4fKFWPHJmLwZP+aOOdRkhE0d5JUWTyYBThTgMpGKi5/Nl8B9ro/ES1qR7DiuLl+jwZLpGX67H87+cgoFbR0tJBaVkDmTlVRMaX4B9RSEBkEWExxSSmllNUUi8V+u4fpg6veEiLIDsR6i/y8YiSKyLp+WTYNEIionKdVDB4nzGhuncQuQx6On/k/jkZxiv3QUZgyiEgIuGFqiDgjA0iH0/8Le9JFYM2ZhLpV/aSFxCL9xFzPPYakeoYREdD87gHAU25K0PusIzACBAQS5ranBKiLV2lKN3Qq7cpjcug9yldyQia0epfxkQiItS/uaJWytrusceIML07lCfnjEteR62iIjcuIzBJEBBOZDk+D/HcZ4zbDn1S7gUiFKyTKYRkTCTS3dJGjn+MZHLyO3adbFEwuHHYoiSTZErkbsgITB0EhN+V0IXEWLjgvOWK5H9VFpc5qQhEoDkmEhGV7EQUobDICF2I+Dyx2dunzgUi91RG4EUIiORCeUFx+J+ywvfodTI8IuioH0kWqBe1rNnfR00iwksuyysKr/2mUkKUVMdgOpukaiKa7aHcmozAa4iAVMkus4gI4/tSOcxI4wfUF4gSKz+EY08aVEZFIqr+AcnEFGZwF5F8+aG5E9WZBfQpJ4fb8aRBV+6IjMAoEehobCXdLVyq0SQMFumuoShaO0fZmnYPGxWJCL+QNMdg3HYb4i1C/X2jUXZ0yhYZ7c6V3PprgsBAbx/liTmSisB9txGRJo5UZRZOWoPFS5OIMOlWZxYSpuuA6w59osydqNNyweDX5NqRhykjICHQ1dRKyv2gwVD/oxZSPh5Fexfj5+T4chPx0iQiSvWJuJjBIDtbCiNSEAOUNxkBGYGxIzDQ3091egHheoMP6UgzR+ryykaUP2/sZx9dCy9FIqJgsIiJCTxnK5XDjLX2mFSec6ODQD5KRmDyINBe1yTVZhKh/v6nrKV6uj2dk/shPWISeVwwWEQReu4zkcpACB8R4ZIrNhHlIf4j7zIG8jXwEtfAoyy9IueOcCwriUkn5LK9ZPGMt/WitUqk6h63YK1RsemISWQw1D+JoPO2UqWtCKP7FD1Mpbmijva6ZlqrG+T9FcOgraaBVrG/YuOaVOOpaaCtrpHmyjopuXmcjYfkNuF/2poCEeqvmPwWzxGRiPDflzznLN1w3nwZl626BJy2IdrClXg7bxJv+ZJg5y3vrwgGj+c02cGfpNt+0ryK7+Q51gIGN71JuOWDkDrEg1mUwhS5iRNuetNUWj1plalPiywjIpFeZa/EklEmD/DYa4zP4Wv4Hrs+uB+1kGrL+Mqvrw4Ox67jfdBcuqC9xNJVzK2Yb3mOtYqBqIwg7q/QK/ZSJPxEJl9+miRe9H5EJCL8QqoyC8j0iiT5rr8UqZvyIFB6n+Tgh7y/OhiI+U1xDCLS9AGCQALP2pB0xxcx3/I8j8M83/MnLzh+QirZvYgsnvf7iEhE2a2gXazbymtoKqumuaxaehXv5f3VwqC5ooaWqnrJKiAIRIjZTaVVtFTVyXOt5etduq/Ka2hvaGZgmMREz7uJJ/r7EZGIpG1XqVCrXkLrLFtqprSlqiajiJCLt0h3DHlUV0ae+/GyOk12a8xQ0hoRiQw9SP786iNQn1NGyKVbZLiEv/qDlUc4JgRkEhkTfK/uwbWZxYOSiFOoHBP16k6zRkYmk4hGYHz1GpFJ5NWbU22NSCYRbSE7xduVSWSKT+A4dl8mkXEEeyqdSiaRqTRbE9tXmUQmFv9Je3aZRCbt1Ey6jskkMummZHJ0SCaRyTEPU6EXMolMhVmagD7KJDIBoE/RU8okMkUnTtvdlklE2wi/Ou3LJPLqzKVGRyKTiEbhfKUbk0nklZ7e0Q9OJpHRY/e6HSmTyP/P3ntHVZVs+7/v7/fG74037r0ndu4+557TJ3U0K+acc86KiCLmDCIgORsQBVEEVECCSkZABMkSJUnOsMl5bzZ83lhboQHFRjE1rMWosVesqvmdVV9mzZqr1nDT+ADlFUlkgECJtw3uC3gifkMXAZFEhq5u37ZkoiXythEdIvmJJDJEFPkexBBJ5D2A/FssQiSR36LWPkydRRL5MLh/9KWKJPLRq+ijqaBIIh+NKj6uiogk8nHp42OujUgiH7N2PmDdRBL5gOD/xooWSeQ3prD3VV2RRN4X0r/9ckQS+e3r8J1IIJLIO4F1SGYqksiQVOvghRJJZPAYDpccRBIZLpp+TTlFEnlNwIbx7SKJDGPlC6I3SmqpLiijvVXaC4lXkYjwHaIGSQ0tdQ10tLf3ek48GH4IiCQy/HTeS+KKrAIy7sdQkpRFS01D90eTKtLzCdZ3INktpPv+Drmcpqo68qJTyHmUSF1JBXKprPu6uDM8ERBJZHjqvVvqqtxiEt1DiLjoTqLbfcqz8hXXKjMKCDG83otEhC8gpt4NI9jEiXhnfxoqquns6OjOS9wZngiIJDI89d4tdXNdA5n3Y/HTusydA5ZEX/OmJPkpWUExBOnak+h6n8aqWsrT84hz9sNf25a7R8+RcCuQ1vqm7nzEneGLgEgiw1f3Csk7OjuoyMonzPwGrtv0uXPAijCrWzwwv4HPcWsi7bwUH5iOsL6Np7oFd/ZbKq7nx6Qi6+NHGeZQDlvxRRIZtqr/RfCmqlpi7O9xW9WY2ypGeO235O6hs9zZb4W/li1Bele5e/AsNzfrKs4le4TQUCkOZX5BcHjviSQyvPWvkF7a3EpGQBQBulfw2meBu6oJnnvM8VK3wFPNDI9dJnjuNsNthyF+GpfIe5SMXC4XkRMRUCAgkojYEBBmXQSHaoyDt8ICEawRT3VzvPZaKMjEY7cpHgKZqJsRauZMWVquiJqIQDcCIol0QzGcdzppaWwi3S+Se4fO4brdQEEgAokoiEQgEDUzfDUvkeASRF1p5XAGS5S9DwIiifQBZLgeCg7W/OhUhQ/k9k4jxVCmi0Q8dpkqhjihZjcoiH1CW1PzcIVJlPslCIgk8hJQhuupyqeFingRwanqucese0gj+EjcdxoTZXeH2pIKMTZkuDaQfuQWSaQfYIbjaSEe5InvIwLP2CscqoJT1UvdHMEnIszYJN0ORtrcMhyhEWV+BQIiibwCnOF2SdYmpSQ1m4dnXRSWh4cwS6NmpogNCTJyIDs8AXm7OCsz3NrFr8krksivITSMrnd2dtJQWUO03V1u7zBE8I24qxorgs7ibwUiySuBzmEEiCjqgBAQSWRAMA2fm4Qo1NS7D/E+eh733Sa4bNVTxIbkhCfS1tw6fIAQJR0wAiKJDBiq4XFjh7yD4qRMImxuc+egFbc26RJ05iplT3JFI2R4NIHXllIkkdeGbOg/UFcuIdkzVDGMEawRYVamrliMDRn6mn8zCUUSeTPchvRT0pZWssMS8Dt1GV+ty2QEx9BS1zikZRaFe3MERBJ5c+yG7JOCg1UYvoSYOBFu7UZ5Zn73YkVDVmhRsDdGQCSRN4ZuaD9YV1JJ4u1gxapnz9YNEadlhrbG31w6kUTeHLsh/aSstQ1JXrFiyndICyoKN2gERBIZNIRDN4NOcT5m6Cr3LUo2KBIRzNyy5GzyH6VQGJNGUayYhgwGcemUPM6kOD5D1OsQbNdCfxX6rdB/W+sGt8zloEhE8rSIB6Y3FG98eh+9gPeRC9w7fF5MQwAD7yPnEXU6NNuy0E8F3QqLTgn9V5JVOCi7ZFAkUv4kD98TNjit1uTWljPcWH8apzWnxCRiILaBj7gNCP1U6K9CvxX6b1nq4BaZGhSJCJ8VCNSxV0Q13j10jlATZyLO3xaTiIHYBj7iNiD0U6G/CtHIQv8VvjE0mG3wJKJ9RfFfR/i8QPHjTJoqa8UkYiC2gY+4DQj9VOivwqghUPvKx0Ei11dqEGLkSENZ9WAITXxWREBE4D0gIPRTob8K/fajIRHHVZoEGzhQk1f2HiAQixAREBEYDAJCPxX6q9BvPzoSqc4tHYxs4rMiAiIC7wEBoZ+KJPIegBaLEBEYqgiIJDJUNSvKJSLwnhAQSeQ9AS0WIyIwVBEQSWSoalaUS0TgPSEgksh7AlosRkRgqCIgkshQ1awol4jAe0JAJJH3BLRYjIjAUEVAJJGhqllRLhGB94SASCLvCWixGBGBoYqASCJDVbOiXMMDgc5O2tvbkcnaFb899zs6Ot4LBiKJvBeYxUJEBN4+Ap1yOaWl1SSnFvA4KY+klHxFSkjKU5zLzS2noaH57RfcJ0eRRPoAIh5+YATaW5G1NNDQ2ExTazvv53/pB5b5NYrvkMspLK4mIjoHlzuJmF96wElDH47p3eWkgbciHde/pzinfzaIKzejCX2URUFRFTKZ7DVKGvitIokMHCvxzjdGQFiieSDLNHdAbS6l6VEER6YR87SGpo639WmJgdbhjYV85w+2tkpJflLEObtQ1qg6MnbxRf4z6xz/nnmW//RJwrnvZp1l1IILrFZ15KxtKPFJedTVN0Pn28L0mcgiibxz1Q/nAjrokDfRUFFCWVEZFXVtNMlfhYcMCgKJcrdgn7Ebxt55lMkG2+CF59toqaugsrCIMkk9dTJ4ZTVeVcUPdK2qqh7f+6kc1L7LpOU2/K+SCb//SZ/f/WjAH0cY8aeRvZNw7vc/G/KHn/T5q5IJ01ZfZr+WFzfdY8nPFz5hOlhcfwFCJJFfsBD33joCMtpb8sjw8SDgmhfBSeXktb6qkDbIdMb73B4mKZ9li10auW2vun8g14TOUkVp3H3C7G/iF5xKSh28shoDyfY93dPZ2UF1dQOePgls2neTv00yV5DDV+NN+WaCKV+ONebTkYb88WcD/vDT8/SzEX8aZcJn4834SsmcL8aZ8ukYY76dbM7y7VexufqQp9nldLwli0QkkffUGIZnMa1Ia2IJ1TqG2brjnLubRtwrvyYgkIiTgkQmKp9l85V08qSDRU7wqhSQ5mzJ5ZW7MLLwwbcMGgab7Xt6vqq6gTu+zwjk75Mt+GSUEZ+OMeHrCWZ8o2Sm+BX2v1Yy45uJ5opzvc+b89UEMz4fa8Kno435doo589bbcuFKGGUVdW9FCpFEBgRjK601ZZTl55BXUEKRpJnGd2EPyxpprq2lul5KS1+PYkcLLbVVCGZtbWvne3I4dkJrDTWlRRQVllNW0/aa/8FbkUoe4qu6FY1J29C9kUj4K3tvG2TdxNd6P9NVbVBxzqNrWaqOljrqqgRsZLwerwhAZpNorYXxuGUcO+WCWzG8dveR1lFfLaGyuoF66dscDPTfAOVyOQ8is9ly4Bb/O8lMMWz5crwpf51kxpcTzPl08nl+WHuL9Tqh6F2N47LrY+xdYrC28eXYQXsWzTPn3+OMFdbIVxPN+Wq8mYKAvhhjxEoVB+76J1Fd80qF9F+5HldEEukBxou7UqSSDHIi73HvxlWuXLLB1tYeu2teeASnklzWQqPQRtsbaK3IJic/n/TyFurb+o43O6GjibrCPIrScimSNNLQXEeTJJ+svCLS8/IofRpFQuAtbl2xx/a6D3ei88iplyFrb6alNJmUoNu429lwycYRB89wIjIrqJT2IJOONtpqS6jIyyArI40naemkp6eT0W9KI+1JOulpueSX1lLb1kl7FwCdrbRWZZMXH0Swxw2c7a9w5YoD15y88LyfSFxuLTUvyNj1cM/fVqRVj/Dfp4r2rF0YuiQT2djzet/95yRy8QDTd1mz40ocaUUZFKSG4H/zGg6Xr2LncIc7D1JJKWmksbvCffPpeSwoKJfky2ewmLoWTd3beJRAfc9b+tvvbKGtOpeC+GBCbl/D0e4Sl+wccfAI435CEYV1sl8w6y+PNzwvfAS9uKQKY+sQ/jXjrML3IVgcf1Ey55vxJnw5+TzfbvBgu+0TvNNrKKtsoKKohvziWooLC0gNDeOq1lVWLTDnb4IlMt6cvwhEMsGMT0eb8MNsK9ROuBEe9RShrMFsIon0i56MztoUUlzOYLxtEYsXLWfR+s1s37SKNbPns3DFMfZejia0REZrTTL5/oaYX7LhhE8eiZV9zZR2OluzSLA9h+Nhcxz900jNTSQjyJozFmfZfdqQc6e3sn/dVCb8PIrRY+Yxf88FDO8kkPQkhEgnDY4unsbMH39k5A/jmTBlI1vOuOKYXEtF16xdWwEFfhZcPbicTcsXMnf+YpYtXsLyJf2lhSycvYyli/ZyzMoP/4J2ahVYtCArjyLquian1y9g0bQFLFixjvWbVrBy9ixmzt7BBk13bsVXUNUvdl0XnpFIwP5d6MzZjZHrr5GIFLJcCLh8gJmqBqw9bc2NSyfQVV3K3DGjGT9iNGNGTmbG8n3sOheMT2YTvx4F8ZxEbPWwnL6OU2fc8RwQibTSXvqIuBun0d64kAVjR6E0aiRjRo9llNJKFmyzwsI7g/QW3olV2Nzchl9QMpvUnRH8H38YYcRfJgokYsYXI435duF1llim4JrdSFVNKXmBj7DR8uawXiR2YaXkSMopjnnIpRNXmCiQxyhTvlYMd8z5crwZn4w24ue557hwNYLGhpYuhb3Rr0giL4Wtk/baDIpCrbA+upE1KzayTu0UJ00ssTLVRn/vejbMWsL8lVqcdntMZKI/kTZrUD64j5k2Sdwv7PsvUkpHUyz3D6qgNXELWnYRhKWEEmWnwrIFC/iL0mo2qiijvl+VbZvWs23VfBYtXM+iNUc4cuQYpw6pobxhK9s3bGLb6kWsnT6ZiYsPsc4ymtDCFhQ8Is0n/54xl9UWsHr+LKbNmMP8OXOZP7e/NItZU+Yxb/ZO9pt541PUTh1SWkoiSbmhib7KcpYuWM2qDQc5rG2AkelptPdvZvPcecxZtIvNhne5kVyNRPor/8Wa4gk9tAf9eeqYeWXyuC80vfCXQo47wdbbmb1sBT/OXcfmrZvZunkLGzduRXnLZravXsDS2fOYuWQv6uf88ctvpKaLSHvl1fOghMxrRlyYuREdw3v4VPMrQ6JmpJVxxNifRmvlfOZPW8S8ZZvYtm0bKts2s3nFMpbN38yKXdYYeaSTVtX2K/n1rMvA9guLqjll7MuIuVZ8M8FM0fEFEhH2P/3JnB9XurHPJYeYskqKH0dgd8SG0f88w59H2bLIMoPAGhlyWSEpt+6wZ4EFP4w25nMlcwWR/HWiOX/42ZDPxpiwT+su6ZnFiojXgdXsxbtEEnkRE4QJwMbU24QYrkZ1z2G2Xooi+Gk19Y2NNDZUU18eTYTNSXRWrkJV5zrn7ngRcGET+zSPsvBKCqFFfXuKlI7meEKPq3NmpgpnrkURkR5OjK0KayZN49spBzng8IiHeRIqK/ORpN3G7fgqVv/jB777YT3LNdy4FVdAXmUlktxQntw4yu7lO5iy+io2D0upEWTobKK5MJXMqGDCgu8TdD+Y4OBXpfvcD7zP/eBIYtJKKJF2IKeG0vsXcNq5BGXlkxxyjCUsS0JNXT31DXXU1TwlO8CSK4fXMHv5SdaaRBFd2fYsBkQuQyZto7W1lba2tuepjoaSULzVVTg1ayd6znE8qOq61kZb173SdmQdQhyHDPLvEGK+ktmj/8P//Hsxs/bZczEglYzySiSSEiS54YRf0+LMqpksWnUQlatJhJe2P4tC6WinXSZV5PtLPVpoa8sg7qI2ptPWcPL0LVxz26jsqqNQh9ZWWqUypPKOZ1ZFSwalIWacWbeaWVPUUTP3415aOWUSCRJJGRWp3oRePsHOxSos32qLfVQZRX2Nz5e2q4GdFGZkIuPyWKF6gz/+bKiYXRGGIl0k8tlIK35YcoPtZuFc9XjINasbrF9jxaf/1OeTMdbM1H2MQ14bDdRQHngfi3VWTJxgxCfjzflS6dmw5pNRxgoLZ/0eZ3wDk6gX4kfecBNJ5KXAtVH16BK31aazUV2PAyEtlPe6r4O21LuEWJxA/+Itzrq44nduMwe1T7D0aioPil9GIo95oLEfg7m7MbgexaP0MKLt97J2wXYmKTvhlNbcwzTPJdN2J8cnfMdPc4+jfDOP7O5GWgNZ17HatIsFSvoYe2YhfLRQEcolb6ddKkUmdAiZTBGhKPz2l2QyKVIhtQudRzD7S8m5cxa7Lds4oeeCUza8MJkijSH71hHWztjJ1I0uuGfU0dJZT0NRIvFhQfje88bP1w9/P38Cg+5wz9UCgxWL2Tx2CcoaNlh6BODv70+gvx9+3vfw9Q/CLzqT5DIZrXIpFN/hvtEaZn43kX/M0OC4ZzbJvfwoHcgLg4i13MTmuWuYsOkGlx5JaKQNWU0WWbEPCPD2wdfbFz8/fwICfAnwv4bNwW3sGjWTDVtOcdrJHw+/AIL8/fD3Ferri09YApG5dVTLZLQXeBN1dgPrV2xj1gEvXJIb6VUFGmjN8cbl5F72btHk9O0UHkkE/N7OJoSqe/gkMX2dPf/9vYGCRATrQUEkSoKD1JJ/zLiI0rprLN5mx7yV5/h+uhm//86Iz8deZI5uPA65LdR1SCi+F4DxUksmjDHi0wnmfPk8n8/HmipmdhZutsPeKZyKymeD2TeRQCSRl6ImpT71Nvd1VrNryx42G/rjGZNPvuAQ7fLMyyQ05cYQm5zGwxBPHl7YiPqp4ywZKImkBhN1/TCrtumzxCCa2JqexFNGnpsGF7fNZc1pB4zjWmjoHjVU01nsjdPOwyiPO42ZyxOe8DbG5UInqKYsMZxHN+7xUJC3q0odMmRtzTTXSajK9SPS9jDrxm1kxlI7HBIk1MlLqYh3xfmsAaeOaXBa6zTap3XQN9RE66gymydPYOZ/JjB7jRo7Tuihra2NvvZpTmscR0vHkNP2QXg8aaFBKoUSDwJMlJkxYReLDt4jsFz+4oyQvISWBGtMNm1m6vjTaN5II1dWT3N+MMFOluhqaHJK4xSnT+ugp6eFns5+1JbPYf6/RjJt1jrWHdDm5GldDHROo31Kg9OnTqF51hXb8EIKmmuojbDh1s65rFHVRd27jMwXmFQwVispj/Ik+NYNboQ9Jb787ZFIWVk1V29GMm2NHX8aYYQwI/PMEnlOJM+ncr8aZ8LnY0z5bIwpn4825tMxZ/lupQd7nQuIqW1BWp9FhK0rW6ab868RxnzxfDijcLCOfzY9PHLeWU4Y3ONprhCA9mabSCIvxa0TeV0yud766G9czcLpKuw8dQmbuw8IfZxJenEtkkYZ7e1ttEqlNGYHkWi3mV0nj7HYfoCWSMp9opyOsmqPGcstE0iq6+qxQoUqyPfQ4erupaiaumKd0k5TdxutobPcn1u7j7N7vDaWLqlviUSEcuW0tzbTXFtHU30t9dXllOVnkpmWTFJiDDGh3vhe0cBgyxwm/HUh01Zc4VqihFp5OZWJXrhdssBARw8jQyOMjUwwt9TDQEuNHdMmMff7SSzPicGJAAAgAElEQVTYeJA9OmYYGxtjbmyEkZ4uhiaWGDk/4F5GK43SNih0w99KjelLz7DBLJaUl/r86qHcm1v7VFg3QpXD5x4RU1NPQ/5Dwm9fxFRPHwM9A4yMTDAzM8TM5BgH1yxgyX/GMGveZracMEbXyBQLEyOMDfQwMjBE//JdHKMLKG7MJdfdEIvZ81FWO49VUgtl3VZgz8bSSWdrPc211VQ3tNI06MjaX/IuKpZw+Xo4U1fbKiJRBcfqS0lkvClfjBVIxIRPR5nyz2W3WGv1BM9sKS1tNTQmPuCixiVGTzLj85HPHKtd+QgxJcJMjRCktkjZkdjk4l8q8Jp7Ion0C1gT0op4op3PY3XgAEcPHebo8UMc2beXXbs1OGrqgVu8hHKhgUkiyHDYyq7jR1+fRPaasczqMYm9vIPl5Lnrck1tOXvMXbmU0k5Dd0OuoeM5iahN0MHK9QnpCkukk05ZK63NjTQJvpvGJhqbGvtJz68J9zU10dQqRfCPPjN22qE+iRQfa6xP7GXfDnX27D+Opr4R+kYmWJ3ezZH1cxj/tyXMWGnHtcQqJB1NNFc8JTMxjqiISKKjoomOjiE27iERAXacW7+SnUqr2GPgzJWQWKKjo4mNjiY68hFRMXFEpxWSXd2OVN4GObfwu7CP6crn2X4ljdyXOm6boO4B3sdUUR2xkQMm97lf0UZTXRHFmQnEREYSFRn1rA6xkcTGeOCssZuDY+ehvMsIk3vRhETHEBcTTXSUUN8oIpOyeVJaTWNLIo8vaXJs1DJU917jZq6c6m4rsN/G8lYvFBZJuOTw8JUk0k0GQhyIYFXMdmCx3mMcU5uoRoa86AkhVjfYvPhZUNon48x6EdFfJz0jkf/7Wx0mrLAjPK7gjWUQSeTXoGspR5L2gHBPW+yNDnJs23IWT57J1Flb2HraAfvIPFKSAom128oezeMsvfqEsBd8IjI6WhJ5qHkAo3m7MRR8Il2WiLopyyzjSXiBRARLZBm7TV24mCzrTSJlftwULBEFiaSRKYSqdNTTkPGQ2LvOuDk74nDdCWcn536ScM0RRwcnnJy88HmUQWZ9O23tLbTkPyLOQQcD5cUsmjKNKVNWsHy9Gvu1jNA7e52bzudxNFZnxbjNzFl6kauPq+j/Y6dtyKojCXw+xWvslkLUy4YG3Tp4HidyYT/TVS6gbJ9Ofn8kUhPK3SOqqIzYwH6TIAKqhDdkXrYJDJBHip0eVoopXg+8SvuLWJVBewLRF05yaMQKVPc54prX8cxx/bKs39G5wqJKbK49ZMqqy/1aIs9IxJRPRxnz5bTLTDoSwdmIOkpkUtobcom55cXB1ecYMdJI4fvo8oV0kY/wK1giQqj8ou3XiU0SLZG3qE7hX7KMdpmMVtmzNz+FQLGmqiKKn6aQGhdKqMcVbDVU2L95Das0bNC4fA13y43s1dVgmUMaD0u6zYbn9ZLR2ZrIw1Nvm0R0OeuWTjYga8slz/UUluuVmKc0lhGjxjNx3AQmjn9ZGs/E8WMZ+/MElMatRvmMF17Z1VRL4omz0+X44q1s3aaFtp0nrgGPeBSdQFJaFhm5xZQWhfPEQw+V6crMWnQB+3hJd1Tpi0rogIZYQg6poTd3D6Ye6cS9Mty0DZ7exNdKnelrTNh8LpH01peZAQ1QGYD7gV1sHqHMIctQQuteNW1bTPpVQ87N2IC2wR3uSfp7d0bQ/VOSr+lyRmkJu/bacjVTxlv0mb4I0UvODIhElIR3Z0z43dgL/HOdDye8SslqltPZWkK6jz+6yueZMNGEz4X4ECFArcsx+/xXIBAheO37GRYcPO1JxtOKl9RkYKdES+QFnNpBlk9+ZAh3LwdyP7yoz8yM8EATTfH23NFewcwtR5m65wyWp1egqqvJkmsZRJT3bfgyaIjA9/AuDk3fzelr0US9FUvkGYk8FSwRaQllQdY4n9zCni0bWbtuM1s3CTEW/aWNbFyzhS2bjqN7NYKHuYVUpTpw9dgOps48xd7zUX1mRbqAekLZXS1Upm5i6iJr7OIlr7BEXjfYrA1yXfE32cGMqftYejKIsJqXvXFbRUemAxd2bGfO2KOcuPqY5LaX3SfUWXAm5ZI84GAzCQXeZlxeNosNKkacelhHQU93VRcM1NPw5AGJwX4EpxST9dpx9N0ZvbBTU9uIy53HzFhnr4hU/XJcb5+IEPb+xRgT/vyzBX9f7sl2+xzCKztAXkNVeAjW+22YPNGIL8ea8NlLCESwQoSX8gQSmbHahnOXgykuUQQKvFCXgZwQSeQFlKQgTSDW1oBjU3Zx8IQ73mWdL76wVRxE0vW9rN2nw3R1A87qrUH1yH5m6T3gTmZTjyjGTjqluVRFXsR05WIWTlDj8LVYYlPvEy04Vt/CcEbhE+mU09FQQVVRNnnZ2Tx9mk129qvT06xssnOKKKmV0txQSFO0OSZHdzNq0zX0fIv7TGsKftdGWtJd8NNdz/zvlzJp2SXsE6peQrJdoAokEoG/ugqnZ+zE4FYSj3rPlXbd+PxXCvkeBBquZ+aPcxm92oqzURIKexl2nXRUPybH9Sj7V25m4vJLWAYVUtGXt7tzFkgkh6RLuphPXo2GjtuvhL23UpfgiM/JJaxZu5fVFlGEFLb2CW9vpa30IcEGu9DcvovDTrEEvPlooLumXTtdcSLLVJz5/Y/Ppnh7DkO+UTLli3FW/O9MZzaZp+Bb3EpDaxOS+GhunbjEoukG/FlYCmCkCZ+Ne/Ymb19LRAh9/3KCKStUHHDzjKW65pWK6araS39FEnkBFjnIi3jqYYzZvJmsWXuCY15ZxFf0bMk1SCLs8NRex+oDxuw474av0zG0lDcyboER2i7JpDUKoVNykBZRFH0NlyOLWfi3f/PD+D3sdUrgcep9YhyPsHKPCUstXuYT0cZ+11J2mbhg/YJPxJebu46xS5idcX1C2tuY4pWX0Z5wDsv9Oxgz15Qj19Mp7IlNcz5l8W54GW1h+8SR/P13s5myyhaH5Br6N4SFF/DC8d29Hc0pypy5kUjEK9vq82Az4+XM/s+3/OH7NSzR98PjiTADJDh+pXQ2Z5MdeAHbbQtZumA3a80e4Z/b+ixqt2d9u/efkUjixdOYTFjOcS0Xbr/yBbxO2uviyLmjwZGlq5g19zS6txJJqO+ydDqgPIqU29rsW7SMWYtPoeuTRerg32PrrrGwk1dQhbqmJ39TMlEEhX094XmwmZIZn48y4x9zr7Nc/zE3MxqplTfTlhaPu+EV5k/X5/f/1OH//U6f//rBkD8KSwJM+CVStYuMhPVHPh9nws5j7kTHZSNte+U4s1fd+h6IJNIXEcVxO815QcRe3MVJ5TWsUNbgiMEl7G644OLigJONCUb7d6C+TYU9VndwS8ylOM0HX311Nk1dwZKNRzloeomLtpe5Ym2GmbY6+zfOZdb/fseU8SocdIwnJjmAyGv7WKCizxyTWOKre8Zul5ProoHt9rlsN3DmbKKM+m4Oq6aj1BvHbQfZ/uNJTG+kkPo2SKSzAUqDCLA8hvLsTazZpMnpyze47urG7ZvXcbxowQVDDbSPbGLzgtmM/sNc5sw153JMZW+y6YVnG7K6BCKMdbiw8wy2/lkkvNKxKoS9uxFovpKJk8bzyZhlLNl5guP6Vpy1tuOKrTW2FifR3L6W1TPWsenIFa48llD8ysVBBBIpItPdBgflI5y1CSKoghetrF71rqOt8D5+Zw6wb/Zy1m06wiEzO2ydb+DieAk7/X0c2b6B2atOo2wWwcOi5n6cur0yfa2DuvoWrt6IZN4GWwWJfDLahL9MfDYE+eOP5xi90R/TqPrnVqAMclIJdvLnmL4vKqf9OKTnz2H9O+zcfZX5cy34bqKp4m1ewT8iDGOEJQX+M8MSw/PBlFcIgWb9mnK/Wm+RRPqBqLNdQmPWXfwsdqM2fwKTRo9ixKgxjBs1mnE/KzFxtjKbddy4GVeGRNqOXFZNbfwt3LU2snbqOH769w+M/HksI8cuYYnqSU7anMNQVQ2d1UexdE8kLuMBcW5abDp2nvU2yaTU9hx4Syi4a8yNIxs5fMGTq+ntPZYeqKWjIgT3gzocmWnEZc9Mst4GiQgDsPZKKuNccdfawvaZSoz7eTRjR41l3IgJTJ62ltUHzmLt6YG323nOLN6D2jILrkWVk9cPhtCOvK2EvPBgHt0NITqripKXT6E8z0EKuZ6EOBxj0T491miacslsH0fWzWX6Tz8x7ucRjPxuNOOU1rBi/xVsQnLJaxXC9V+1CZ2jlsq0KOK8/AiPySarob+ZnK58OkFeS326H0GW+zi4aDLTR/zM2FGjGDdqBCPGzEBp+TH2XAjF72kj9fI374BdJfb9FZYBSE0rQtPIl39Ot+KPIwz5eoIJX48XYjsuMX5rMBeiaijq6EQuk9FW30BFaQ05hTVkF9aSXyy80ZvHQ2cftNdYMUHJmE/Hm/PF87VF/jHFnDU7HfAJSkUuF4j2zTeRRF6FnbyKqieB3Lc3wPTEPtR37kRVZQ/qB3TRtb6He1w5RT1fOWgrRpLohecFHU6p70Z99xH2n7zAeY9wHubmkR4dTarvQ5KeVlBWU0R5ViR+4Yn4JEuQtPVUZAsNObFkPPQjLDGbJ9Ud/BLL1EZncxFPH0Tx0C2WlOwaxRTkW2vGzUVUJNzB+7IBugf3sX/XXvbu1UDL2AF7n2RSK6qpr80jIzCMMM8YUosbn7/9+zIgO+nsaKOlvobaqlrqmmX0EvOFR+RQl0VheiSekemEJmdQkOLHfQcTDA7u4aCqOmp7tdG28sA1soCcekWw/wu5vHhChrS5jvqqKmrrW2huH2iEbw31OQ8IdzLH6vgeDqjuRFV1P3tPncPs5iMe5tQNbEmBFys0oDOtLW3c9U9h0RZ7vhpvzGdjjPlqnBmfjzvP94ucWXsqgJPnQjlzLgw9m0eY2kdz/noMFx1jsHaMxvp6KGc0b7BhoSU/CTM14835bJwJn4w0YMaaS9g6RlBW9uYO1S4hRBLpQuJVv7JGmioLKXqaRdbTfPLK66lp688AlCNvllBVUkB+fhmlNS0vLjD0qrI+imuCM7iB+soSivOLKS6vU6yR8taI6nVllDXQUFlEcU4+eSW1VLUOlARet6B+7u9sprm6iKLsp2Rll1BS3cKAllPpJ7vXOZ1XIFEszDxnvS1fCgQgxIWMM322qpkiYtVEsWqZMNsiJCFEvmcSpnKFJRKF1/8/HWWkIKPxiy9wxiKAzOzeb4S9Tr163iuSSE80fnV/oP/5fjUj8YbfKALvm0hlMjlPc8oxPhfIlOXWfD1eCHMXiMSEz0YZ8qefhfVV+0tG/Gm0CZ8qrBdThBXNxi06j65FAKlpwuv/rx4IDlRFIokMFCnxPhGBD4ZAp6LTC8OPbQdd+M9MK/5LmH35Xp8/jxKGOSZ89vwdGsW+8C6NEEcy0pj/+cFAQTLfzbBghbIDJhfuk/ykGN7i1/FEEvlgDUMsWERg4AgISxjW1TcRHJaG+ikvRi204T8zz/HdzLP8Y6oF306x4Fvh9/n+P6ZZ8J8Zz75HM3H5ZcVSiG5eceQXSugYpCO1b61FEumLiHgsIvARI9DU1EJiajEud5OwuPyA/VoerFF1YLmyPat3XmOVyjVW7rjKBjVH9p1yx/BcEDc9HxOfVKD49ER/nrzBiCySyGDQE58VEfhACMjb2ykprSIiOgv3u/Hc8ozh9t143O7E4+oZyx2fBCKiMsnNK6el+ZWBNIOWQCSRQUMoZiAi8KEQ6FSsjdrSIqW5pQ3h99m+lJZWqeKaEEL/rjeRRN41wmL+IgJDHAGRRIa4gkXxRATeNQIiibxrhMX8RQSGOAIiiQxxBYviiQi8awREEnnXCIv5iwgMcQREEhniChbFExF41wiIJPKuERbzFxEY4giIJDLEFSyKJyLwrhEQSeRdIyzmLyIwxBH4OElkpQYhRtepL5EMcfhF8UQEfvsICP1U6K+OKzUI1L5CRXr+oIT6vwbzdGVGgaISjqs0CTZwoCqnBOHtRTGJGIht4ONtA0I/Ffqr0G8/DhLRsefmBh18T1zksZM/ad4RYhIxENvAR9wGhH4q9Feh3wbq2H9YS6QiLR9/TVturD+Nm4oht1WMcNthKKYhgMFtVWM81Mxw32Ui6nMI6LNnv1T0UxVDRb8V+m/5k/6X7h7ISGVQwxlhLBWgZcfNjTq4qRjhul0fl616YhoCGLhu01eQh6uygajPIaDPnv1S6KdCfxX6rdB/PyiJNJZXk+4TSbyjH4ku90lyDRbTEMEg0sYTn2PWBBtcJ0nU7ZBr10J/Ffqt0H8byqoHYnD0e8+gLJFOxTc02mlvkyGXimkoYVCSkEXQmask3gqivU0q6ncItm9Fv5W1I/TjwWyDIpHBFCw++3EjIMkqUnjwUzwefNwVFWv3wREQSeSDq+DjrEBZSg739a4pzHhhulbcRAT6Q0Akkf6QGebnRRIZ5g3gNcQXSeQ1wBpOt4okMpy0PThZRRIZHH5D9mmRRIasat+6YCKJvHVIh0aGIokMDT2+DylEEnkfKP8GyxBJ5DeotA9UZZFEPhDwH3uxIol87Br6eOonksjHo4uPqiYiiXxU6vioKyOSyEetng9XOZFEPhz2v7WSRRL5rWnsPdVXJJH3BPQQKEYkkSGgxHchgkgi7wLVoZmnSCJDU6+DlkokkUFDOGwyEElk2Kj69QQVSeT18BrOd4skMpy1/wrZRRJ5BTjipV4IiCTSCw7xoAsBkUS6kBB/fw0BkUR+DaFhel0kkWGq+DcQWySRNwBtODwikshw0PLbkVEkkbeD45DLRSSRIafSdyaQSCLvDNrfdsYiify29fc+ay+SyPtE+yMsq62xmaaqOuQyWa/avYpE2mUyWhuaaGtqoaNd3us58WD4ISCSyPDTeS+JK58W8jQsHklOEXJZe/e18tTc7jVWu0+CYtX3iqwCCuLTqC4oRdrS2vOyuD8MERBJZBgqvafI5Rl5PHYJJP6mP7kRidRXPvsGibDae4jhdZJvh3bf3iCpIScikUe2XopnagrKaJf2tmC6bxZ3hg0CIokMG1W/XND68ipSvcMJ0LlC4JkrpPlH0lBZTWFsGsH610hyC1YMWxoqqnjiG0GQ0XXuHD5LnKMvLTUNL89UPDusEBBJZFip+0VhBf9GUUKG4hszbjsM8D9tx+NbgcRc88ZP8xKxDt7kRSUT5+iH9zFrvPZbEnjGnsz7MUib217MUDwz7BAQSWTYqfxFgevLJETZ3eH2TiPFR9m9j17A56QNdw+dVZBLmNUt7h06x4312njttSDe2Y+q/BLkolP1RTCH4RmRRIah0vuKLMzQpPpE4Kd1GU91czx2myrIQiCMO/ssFclzj7nig+3C93mzgmORtooO1b44DtdjkUSGq+Z7yC3MyhQlZfLokgd3D1oprBHPPWZ4CYSiZobHLhPFr/suE4L0rlKcmNXjaXF3uCMgkshwbwFAZ2cHDZJqkj1DuXvwLG7Kht2WiGCNCITiqWbGvSPnib5yl+q8EhE1EYFuBEQS6YZieO+0y9rJDkvA5/hF3JQN8FK36CYSYXjjscuU+wYOiqFMc0398AZLlL4XAiKJ9IJjeB+Up+Xx8KyLYgZG8IEIwxnBEnFXNVEMcSKsb1OZXdgrKG14IyZKLyAgkojYDroRqK+oJuXuA/y17fDcbaoYwggWifsuU4XD9fHNAFrqxNiQbsDEHQUCIomIDaEbgbbmFvJjn/DA/IZi+CI4UgXHqte+Z7EhWSFxCHEl4iYi0BMBkUR6ojHM9zvkcmoKy4m2u6MgkduqxrirGiPEjURf86Y8M5/Ozs5hjpIofl8ERBLpi8gwPxZiRlI8HyhmYtx3mypiQ3w1bMgIiKZRdKgO89bxcvFFEnk5LsP2rPBqvxDmHmrujNc+C25u1CFAy5aihEwES0XcRAT6IiCSSF9EhvmxMFypyi9WvNUrxIW47TAk/Lwb1fllwxwZUfz+EBBJpD9khvH5lvpGMoKi8dO8jK+mDel+j2iuFWdlhnGTeKXoIom8Ep7heVGwRkqTswkxdebhBVdKn+SIszLDsykMSOpBk0gn4t/QQuBZuxFmaeJvBZByLwxhzZGODrmo6aGGQOezljsgpnjFTW9MIh3yjmeL1VRWU1taSV2ZhLpSMf3WMagvq6Khsoay9FyeBDziaXgCNUXl1FVUifodKu1b6KtlEuorqhTBgx3tvyyL+Qqu6PfSG5OIrE2KsNZmitcDxQI2cdd9iXXwIfaat5h+yxg4+CDoMsrWi4fnXXl0yVOxIJFCv79lucS6K/plzFWhf/oQ7+yveOGyIPYJLXWN/RLEQC68MYkI0Y3ZYY/xP3WZ2zuNFQvYeB+7gM9xazENGQwuKl7IE3U6hNr0iYvcO3RW8U6Uz8mLJLgEIVifg9kGRSLCEnk+xy7gsceMEFNHou3vEOfsS6yjL7HXfcT0W8bA0Yc4J19FEnU5NNqyoE/BzyW8ZHlnv6XiRcs4Jz/FMPXDkUhwrMISERb5feIbTllGruIzAsLSeVV5YhIxENvAx9QGqgtKqCkuJyc8gUDtK9w5aMXjm4Ef3hIRhjMhJk7kxz1ROFqF6cHODiF1iEnEQGwDH1Ub6FS8+yR5WqRYO9dznwXCm9kffDgjkEiomTNFiRliLMFgbELxWRGB94RATV4ZwYbX+ahIJMTUSfFFNPFraO+pFYjFiAgMAoGq7OKPzxIRSWQQGhUfFRF4zwiIJPKeAReLExEYagiIJDLUNCrKIyLwnhEQSeQ9Ay4WJyIw1BAQSWSoaVSUR0TgPSMgksh7BlwsTkRgqCEgkshQ06goj4jAe0ZAJJH3DLhYnIjA20SgQ95OU1MLdXVNz1MjtbWNNDQ0I5O+n89xiCTyNjUq5jUEEJAjl8tok7YjkwuL7HyMWydSaTtlFXUkphRw/0Ea3gGJ3PUTUgJevgn4BqUQHZ9LcVktMpmcjo53J4lIIh9jGxHr9GEQkDfSUfyA8KDbWNyOJyCtlrYPU5N+SxU+9vU0uxT3ewloWwSy46g7G/fdYq2aM2t2C8mJ1bucWLvnBspHbnPc0A875yiiYrNpamzpN9/BXBBJZDDoic8OKQQ6G7OpuHsCo0PbmX7cE8uIaqQKCeXIm6uoKs4lLyuTjMxccookVDa1834GDNDe3k5JaS0BoekYnA1gufJVvp1izp9GGPHZWBO+GGfaK3021pTPxpjw1ThjJiy+wAEtD7x8kygoqkYqG9zKY32VLpJIX0TE42GKgJTWkjDCtTZwZNUmNllH4pnfTqdAI3VZZEfcxsPGCBNtTU6eMsLgvBs3QzN4Iml7TjTvErZOhfVhffUhS5Ud+WHOOQWBfDbGmD+NMOSTUUZ8Msr4lzTamE9GG/NnxTkjvhxnwvezrFi89RpG5wJJTSt+q5UVSeStwilm9ttFoILqhBtYr9yA8sJTmIcWkd0pozn/ETF2epjt34X63v3s2XeAg/vV2Lt7D8oqZ9A6F0BwTh0170jwzg45+YWVnLd/wPTVtvx5pBH/9b0+n48x4ZtxJnwxypA//KjPf3+nx391pR8M+f1IEz6bYM7XE80VFsqfRhrx6ShDJi+7gOHZAAWRyN6SRSKSyDtSvpjtbwyBlsfk3DNEfd5eVm52wTNDQkNbKqku2pxcuozlS9U5fPYm17z8CPS+xg2rIxxYtIwlC4+w72osISUy3u4g4Rl+RSXV2DpFMGfDFT4dbaJIX08w5SslM76aZMnfZ1kzcukVpqy7xqyNDszacJXpq2wYM9eSfyqZ8ZdxZnyjZM7XSmaK4c03SqZMWmaNoVUgT3PK6ejoGLSiRBIZNIRiBr99BOR0FHgRcWkXS9adZqVJPDFlpTSm2nHr1DoWrj2BsmkAYVmlFElqqK0qojQrjBi7Y2hu2cYs5SucuZNH6eD7Yy8oW1ra8PBNZv6Wa3w+VhiumPDVeFP+OsGELyZb8uWy68w79QBzj6cExRUTk1JCbFI+ESER2Bo7sX6+Bd+PMOabCWZ8PcmcryaYKfwnn48xYuFmexxdoygtq+5V5psciCTyJqi9jWc6WmitlVBVXk5FVQN1rbyb6URZCy3NbTS/zAMob6W1sZHGZtlbHtd30tFaT72knMoKCZX1bbS85Q72TAXtyFuaaWppR/rCDKacjtYmxYyEIPsLl3vpsIHaB2dxObKUJfutOBBYRm5NDmVeGliqrWel3l2sE6T0FqEdSt25Z6jGlEnH2XTmAXHNnW/N0Spvl5OWXsQxfW++UTLjf34w4C8TzfmLkhlfjjLlb/OuMlMvmotxEgqq66nOKSUhqoCIVAnZZSXkx8VwW8+RdQueWSGfjjdXPP/1BDOFv+TvU8xZp+aEX/AThLIGs4kkMhj03uTZzlZk1dnkPQ4h5K47Hq4uuHn4cS84kYS8Gqrbnzd4aT3NNeWUVjcgaepA/kIv6EAubaKhvJyqilrqWqXI2upprKuiRFJHTW0FdYVJpIb743c3EL/wdFJLm2ju7ITOZprL0smICCDozh28fMJ5mFxEUb100CZ5Z1sVdfmPSXjgg/dtF9xvu3P77gNC4nLJqW6jVZCjU0ZHo4TqKgklta00PpsC6YOmjLa6GmpKK6iua6FZ2oasqRpJVQ2lVbU0VOdT+iScR/4+3PONICyllOImOR100NlcTmVGNDH+d7jn6YdPaBJJhbXUtb8s7qMDOnNJvaqB6dKl7Dh9gys5rVQ3FlDsbY2zoSEWXomEvfDp4A6oDyLE4iBzflZj9aG7BFd30NxHijc9rK1t4vqtKBZuvqKwJD4ZbcJfJpqhIIGfrBix5i4nvUtIa6qn+mk8bno3WDLfjimqgej4l/BUUkXV44dc1LTl58lmfDrKlG8mmiuSMLT54whD/j7FEv2zwVRU1iE0izfdRBJ5U+Te6LlWWosfEX3lBNrKa1i1biubd2xn58a1rF+uzJUABfIAACAASURBVHYNZ+yiJRS3yugoDib+3jlM3UJwSKyn/gVLopnGglgiz1rjanOP++kllOSEEeV3DR0bZ6yszbmmv53dq+cwbcJM5q06hPrFUPzS8ijJ8iPw/CH2LpjBgkmTmTx5Oat2GmF0N4XH1Z288f8leTlljxxx0dqOyoZ1rNysjIrKFratWMP6TZocvRJFSLGcttYS6uIdcLtlj6F/FpElfYUT/ueXkxfgjo+BDbd9kkkuyqP4sRuON66jdf4qDudPYnZgBUtnzmDqlGWs3G+NiW86aYVPyH5gg/XedaybMpEZE2czc/4Odhm6cTO5irIXCKsJah/gfeogO8erctQqhLCWTtraG2jISyM7MZXM4jqqXniuE+oDuG92gNk/7mXtEV8e1HfytiIxsvMkqGt68bdJz4YwXysJloRAIsK0rjVjN/pi6JtDUnY6Ebfc2L3KlN99rcf/jHNg/aUcohpldLZk8+iKG+unm/OPEcZ8KfhGJprz10nm/OFnI4VFsuPobWLic2htfUHAAbdwkUQGDNUgb+yUIa2O44mXHvo7lrJ4/kqWqxzhoKYGWvu2oLJgFjOmbmGDljsuSXnkRF7AXX85czUussu7nPLWvuXXIklwxXnJao6v08c6JJ0nMVe5obuOUbPWMnHxevbsXM3aVYuYPW0yc6fPYdqKw6ietOC8qQaaO9ezYtYcFs2azdzxY5iqtJBpe+wxul9GWdvL/mP3Lb/3cWdbJY3p7twzVUVlyQLmrdjO1kMaaGoe4tjWJayYOp+Zy7XQdEkkJiuOtFuqaBzbzlSLcJye9BVOoLEs4iw1MJm8Dg1jX3xT4knxOIb61pX8Y+p61m5aw67tK1g8bw5zp05kxpx1LFDWR8fIGCvtPexcvoQlM2ayYMZU5owei9L8Pay1iMAvu6X30E1ejDTVlrPqe5k92wID1wwKBWOpt3h9jtppb8ynPMSCi3uVmb3QlMO2yWRJGbQlJxQkl8uJiM1j0XYn/vt7PcXsimIo85xEPht3gR+X3WTLGT/0LDw4pHaBCTMM+X++NeL3ExzYZJ1FWL0MWXsBCY5eqM+w4McRRnyuZM5XwpBoojmfjjFRWDWrdl7n9p1Yamre/APrIon0aR7v7FAuoTLUgpun1rL+gAEHr0YQkZZHbkE+BTmPSb1vi7XKWlTX7uPI9WC8PK1w1V/OQi2bgZGIELMQ68CNw/MZ8f0cRqzSxcgzktCkFJISAwlz0uLUkulM/vtklOYdRt3cA4/oJBKTEkn2tcT+2GZmzj3BWt0wIiXS3h1tAKBISyNJtVfj1F5lVmvf5FJAKlm5BRQU5JKXeZ+gixpoLl3OjmMXsfAJIvjKTrRP7mC6ZX8kktmbRNISSLl9mD3zJ/PNz5tYo+3EjYhUEpPjSY5ywvnUFjaOGs/o75eyaJcVpq5hPExMIiXWl2j7g+xfuwWllTYYeefSa2RSm0TJnSMc3b2Lyfu8sI2S9OPXaKdD1khjTSkV+XEkBNhxafcati7cyiZ9P26lNNIijBQHgNWv3SK89+Lll8zsDVf53Y8GfDne9Jk/5DkBfKNkyd+mneOH+daMWnCOH6eb87eJJvxh/Hn+vsqLw25FpNQ10lScxD0LJ5ZNMefvI0348vlwRiARIThNGBrNWnOJ87YhlJS++SS1SCK/ptG3db09n6fX9mC2eS7LDLyxye6bcSG5t/SwPXmUY3Y+XHc0x9V4HSv1rrDPr4KKvv+sqaMqyZ1bqzdyaosJl8MySY+/zo0Ta1GarMZynSBCe7aL4jt4757Mgm9H8f26SxiG1fLLxw4TyXHTZvuk3Szb5IxXbhN1fav3yuNOmjK9uH98Dio71NnqXkZyn/lOeW4ADwzV0dG/gO5Nb3xsdqGvrcb8C4+4ld5XOMESecrj89pYzNqCtkUAAWkJpHqcZN+ylfy80IQzfoX8EjJVQbHHCfQn/5MfflrHPKMoQiVdFZZCqSuOB9SYO0aTYzZxPJHzfMgmpy0vkCj9NexR3s1q2wT8CvsOrZ7nIytCkuiOg8kJ1DcvZe38qYz611xmrjbHOqqMot5e167C3+i3vKKGa7eimLHWDiG+Q5iReWaJPLMi/qqwSEz4bJQRf/jBgD8rneVfmz1Ya/GYy4EFROU3UFmaR4KTFyc3WfGDkhmfjzVT+EO68hEIRJit+ccUM1SPu5Oa2YtaX6veIom8FlyDuFleTP7tU9ioLmHtoYvo3s0lt6qJRqngChQ2OfLiODKjA7n36DGht01wM1rLUt0BksiDdNJjr+J4Zg+TNtpw5NbTXv9xZRUPiTyzigNr17DyfDi3c3u2+qcUBV5Ea9oelFfb4ZZRT8VridpBc14gjwzXcmjbDjaah+CZJKGqSUpbVzHSCuqeBBEeGcm94CDCbVXQ1lJj3kBIxDyAgNRYUjxPoaZylKkHfPHMaugxW1JP2X0LHLdPZ5WaHgf8K8nt9nC2QF0IPqc0UB55FC3LCGJlPLc2qqmIcuTquuXs3qjJmZASUn9h1t4ItGZQGGyBxpZFjP/u34z8/ie+/X45c3dewS62jOK2t2GDPCuyqFjC5evhTF1t+1IS6SKCbyaYKoLNvp5uzc8HQzh6r4yEkmaqmttoKMwg2MSJHfON+dt4M7pmZ7qeFX4FEvn//n2G6euuEvm4qLe8r3EkkshrgDWoWzsbaU53xc9YmS1z1rNkgx6GTv74xGWSUfrccSfMWrTVU1NfRWmoFR5Ga1iobTcwS+RBGunR9lw3PsBkNSe0vIvoOcqVVsYQb7oFnd072H0jicDSntLkURJqj+GMfexZZYtben0vAup558v3O5E3ZFDkp4+58moWzNqNisYVrvjHEJVRRGGtjGaBTDqaaG5upCo/lnRnVTQ1dzHn3AAsEYFEUmJI8dJi935tZmo/JLCgpwuziYoHF3Hft4jdWufRi2qktPvNuRZojiBIV5u9o46iaxFOjPw5ibSnku5uxuGpymzbfgXX7CYqu0ivr6DyahqK4onw98L1uh3Xzumgq7qG9WtV2aB/D8c4yWtab30L+OW4sKiSSw4Pf5VEhOner8eb8s1kS/6xxJ4Jqt7ssIzHOa6aIkk5+SFBWOy3YZySOV+ONlU4VYUZGoFA/vqcRP7PP3WZvPoKEfGCJ+jNNpFE3gy3N3tKWkBR5E2uHT3Avo2qqB/T5NQZXXR0jNA1c+SafxopVSimKUmy4Y7xGhactn09EjE9wOS9TpzyLqS+Ry3bKmKIN9uGvtpO9t9KIqgXieRS/OAqRjP3s3e1He4Z9ZT3eHZgu03IK2OIdDBFb+tO1HYe4NBpHXTOnEFb1wpTuwB8kiWUCyOVlgzKPPageXIXs1+XRA7pMEP3IQH5TT2q1Uh5qA0e+5eyT/sCxlGNlHRzTHM3iewbfZwzVhHEdwoO0A6ouEPIhQMsmqPJJq0HxNXJB/jWbjvttVnkh1pgfXADi+YfQM3sPuGVUpr6I6Eetf213YLCSi5eDWPKqssvtUS6hzOKd2RM+HSsKV+ONuC/fzDijzMdWX8pi9DKFloasom+7sFOIehsjLHCsSrMzggkIsSeCJbIl2ONWLfnJglPejWIX6tir+siifSC4z0cyGqpy47lsa8jN85ro39gIxvnzWDyuIXM3XQG3dsJRBZWUBZ1EU+TtSzS6c8Sqacq2QOXNRvREnwiXZaIyQEmqzuiea+g13/Gtopo4ky3cma3CvtuJBJY0lPWXIoFS2TmftTfmESE/OS01+ZTGOtH0I0LXNTbz5GtS1mgNJWJ07ey6bQz1+PLyM5P4KnrHrRO7WLO+f4skWwSLuhgNWsLOj0tkYPazNAJwz+vL4kIlsgS9mqdxyiygeKeJNIUTqBgiShI5BEJCJZIE9IoS5y1NjBD1Zq9Lnl0zzR3dtDZLqWtVUpLm/wlMTrPZKU9ndRbZ9CetoDNW804G1dL4ZvPlHYrpKS0ClvHCIUl8scRL/pEvplowV8nW/LtdCv+Oc2CbyeZ8ZcJJvzpJ0O+mHiROXrxXMtpo66jhvKgYKw2WDFJyYhPxpsrpnkFEhGctYJfZOyCc2gbe5OT1+1E6q7HQHdEEhkoUoO6T3Dbd/k+hIykyOuLKcmIUwRl+dy8hI3uEQ5vXs1WteOo2frg7GiEs/FalhvYs9+/ksq+vkcaqE714vbaTWhvfT0S2fu2SUT4XrIwWunCqKOehtIsnsY/INzPFVcbE4z2K7N7w3o2a19G19kL70s70dbdw7yLUbhk9BVOyCmXJGtdzs3egu5rkIi61nkMX0kikSQDbR1FFFw7iuWWVWw08sI6pfWXGI/2KtqK4gjzC8MjIIPMqpZ+ZmzqqQixxnbmFDatOIHG/Qoyu30xXWC8/m9jQxPuPonM7JqdGdflWH32Hszn487x/WIHVh51Z88xR9atsuTnaSb84UdDvppwnhla0VzMbKOaRuofhmG/1YrpE434cw8S+XysieJ9mnkb7bBzCKOsvPb1K/r8CZFE3hi613mwBXl9DukPogjzTSWzvO/r451QnUT6dXW0VFYwUsWUnScOcUFvFUsMr3EgoFoRydq7xBpqEm5yZdl6Dm405VJoGhkx9lwfgCXy9kmkiprcZKLuRRMZXUTFC9Fq9dQn3MBHexnLtuxh4j4LTHXWc/KMOnMvxuD29GUzIunEWGmgM20zJ80CCOzyifyKJfJqEjnJmbPRPEFGc300QSfUOTJnF6edYnhY14ME24tpeuLK5cO67N99ndsJlVT1Bv/5UQ1lwee5NHMqm1acfGskIry5G5tQwFq1m3wy0oAvxz2LNlUEm40350+jLjN+iz+mPumER0Vzy/QqaxYY8bv/1eN3E2xZYJaKZ6mMVnk5uff80F5pyZhxRnw6wZyvFEFr5oplAz4fZ8o6NWd8ApIUyym+VMQBnBRJZAAgDf6WatqL/HE7pMHhpUZYez8l84VM62mPP4+z0S7G7zBh08F9WOmuZMGJC6i6FFDYbZ4/f7AthSxPfY5OWcyqtRZcCM3g/2/vu7/iuvI89w/Yn3b3zOzM6Zne6Z7eydvBbbstW5ZlK1jBQZZkybJysjJKIAmEUJZARJFzBomcQ5FzzjlWQQFVBUUuoALw2fO9JTCShVqCAiG475x7qurVS/dz3/u8+81NRboikaE3sM7QHKQRLfGuMNtxFYb6QYhrVz8nSrEr7itGW5g+zly+ilUnzXD/5o+4ZnIK6x8kwbv8RZPIACY7YhFy5Qj2fXQAZ8xTkFpdiJqomzgzHxJZZYz79sWoVcrQ1/AUjscuY88WKzgmtaJtpnFlshdjwhg8OXkaZ9br4+7TChTOlJ6mx64JdcH3cXvNZuzbZwbL/D60TSt0pzea05eOzn6YmMXjvS+t8U+rLfB/PrHEP39qgd98Yom//bMbPj2eAZciOaTKbrTlpcP+oitWf2KP3/8YhUthYlT1DWG4vRzR1v7Yvt4K//rh834ilFKAooEv3YlBdZ0Y45oXbPJvcNWcRN4ArLlvqsB4TwbirxzCmVXbcOh2KLzrFM8pPqESQxZ3G47Xj+JLA3eYONoixPoItu/Qw9ZLkYhpHHr2YI4Diha0pFjC6ch6rP3nT/DZfnvYZzaghUjk0UWsPef7cp2I+WHcPf0T9AJephPxwEOyzvzgjtD64TckkS6IUxxhs2ULfvzqAq6E1yP/ORF7AqpWAUocj+HExevYdtcf/h7XYH75AD75zhRXfCrQODLluzGEYVEK8p1O49THf8af//AjDlpnIr26ELVEIpduYcPtWXQi57fhnIkdHs4mzhCJOBajorsSrcl3YHDiKr48G4uwyn48L1CRuFmJCtuLuPn1dnx9xhX3ktrROfM500jRV+YBb4P92LLqCPYZhSO+Q4mhaZlu7ncL7TkyokR4TCnIo5QUoH/3wSPm9k4Rub/6wA5/3BUGPf9GZEiGMTDch86KRgii6xCe3YEKsQyd9VVIcQnBuR9s8ftPLPHrZ34iZJ2h2BnKePbxN/Zw9snB4BC9oWay6JtdOyeRN8Nr7luPd0KcYA6fSztx4Nhl/HTfH77R6cgqKEBhXhIETx1gf+kg9M5cxHnPTAjKi1Afb4nbP+zF5o1ncMbMFx4xyUhJikZckCOcbh7B8XXv46N/eB9fHrSFXWY9mgtc4fnwHD465Y1rkaLnZgNKaR4KTffh1k+HcdqvDAk/e2oBaIE41Q33PjuLs7uc8LRChJq2BtSlZyIvsxKVrb3o00w95C+DYBwj7ZkosjsJk6M/YPd5c9xyjUZcRh7yCrOQlxqGYJvruPvTjzhu7ADzpCrUVsQgyfIC9n++B98dvou7vrGISBQgjelQbuHeia+w5V//HR/+fheO2GQgpSof1eFGOK53A5+apCO+debUYBiSVDsEn9mCU9dtcC9nCOLpmdsIoMhEgokJzr53FfccspFdK0CW41GcvnQDuz1qkPPLgBpgoh8jlf6IMP0J3+86hR16tnAITUZyfiGKCtOQFuYED8MDOLx9D9Yddcb96Ga0zySZl8H0BuvI9b2lVYpHjmn481Z7/P37Zmw2QsrQ36wyx+/WO+AvJyKh516J8CIZqlrlaBRSk6KurBThLsE4s9MWH3z4iClQyVt1SqH6t382xf/bYIPzxqEsmfMbXNZLN+Uk8lJYFmKlGuq+UjTEmsH85DZ8u2Y11ny2DuvWb8Smzz/HegoU23EJejZxiG3oxcDoCMakxSjzMsaN3Ruw9i+f4C8frcbazzZh/eb9OGR0A9dMruDy+h3QP2ULt5wGNBV7wsfyMj69EADjF0y8KmbiPYIH58jEW/mCn0grOjN88GiDPq4edUJQQSpiXG/gzmdbsGuDEYzcClA8iBfe1s9jNKmWY6QhAomPz+Dst+uwbvUafPbFBny5YT02rlmLdet2YccZK1hEV6FmYBTK0V70FQch1PgA9q3/FB++/wnWfPo5Plu7Dd/sOws90zu4euQILq4/DBPHNKTUFKEm+iZOXbmDdXezXzDxKiDNcEb4pdlMvLlIuvsA+h8bwdItHnFpfvA9sxuX9M1xJ1uOppGXvYUnAGUnJGVBeHL3BI5tXY91n36BL77YgM0bPsOGNZ/ikzU78e0pW5jFNqCib/4R0M8jClDmsay8JhzXf4r/Wm/NcoFMiTU0o/jdenu8t9MLXx4Pwu4LoTigH4aDl4Kx96QXNu2wxR8/tcBvP7IABe+xCN5PrdgxKDPal/s8Wc5VheL5OdiL1/A6vzmJvA5KOttGBXV3BcrDrGFvcBjH9uzEjm+/w/Zte7D3iCGu2iUioqIfvdOKyVFMdGaj4MkD3Dl5APu2bcfO73/C4QvWeByXg7SKUhQEBCMzLBNFwm50iwtRnBkN+6gyJNQNPOfzMD4sRkdGEFIjQhFVLkHjTCcS9GKwpQTpLjGID81CaUMiYu7vx5H/9Vv8+3//HruNEpDSj78e5j4pR09lDOIfX8X1n/Zgz3bq207s3HkExw1sYRlRg1Ip5S19tijFkJc8wRPTCzizeyd+2P4Dvt93BfqWTxFUUoG89FTkegYjI7cRDVIxJLWJCI1NhlOyEA19M22pKgy15KE62htRSblIb1PNiHom91QRGpNTEWsXjezsBMT5WeH6xqMwuOqP8A41+l4lgqgl6C0JQZTlZVzevwu7v/0W323bjl17T+G4kTuc4uvRMDjxc5+m+qajz96+YUTFl+OgXgD+ZY0Fy6n6Dx9ZsLwiv/nYHL/64CH+5o/3WaDe//jDfVD7n9PpEbXJiCizGSlnKRfrbz8xx2c7nWHpnIFOydwtMjO7x0lkJhqL8n0cE8p+DHY2obmyCEV5+cgrrkZlixRdgzPcxKevRQONQobu1hrUlJahpKIJTR396FOOQzMxgQm1GuNqDcYnJkFa/XGNGkr1OKuZMn0I+kImZo0aVHJAPT6B58uQaPfVKOl/JVSDZSj3uwbj9Vuw7k8GuGiVi9JRPEdKzx175o8JJVQDEkibq1BVmIf8/GIUVragsWsA/WOTP5uBp/YZV2CkRwhRTTnKiitR0dCBjv5RjI5PsGjWCZWaJc0Zp+sfV7O3s1Lz4vVT9zQYV6ug1migoRQhU8dnn9R3DdRj/VC1RyDa7Cq+//wWLptno0JJBve/skyMQdkrRmddCcoLcpGdX4LiaiFapUMYUr95xPNfOdsv/iYiCQwtxL7TfvjTZlv8epUFS5NIiZrJVEv5Vunz15Rz9WML/OOqZ42+s9/adAL/ud4a3x3xgoNnJhqbJQzfX5xsDis4icwBNN3tQg/GODTP3/GvPPwbbPrK47zyT2Uz2mPuw+b8Cew65QWLaBFkEzNMoK/cecaf9GCPv0F+kgXv3ACURRZwuXYEa494wiS8jSVYfv3TTgITb6eolVQ2gMTUatwwi8XH2xxZdC9F+FJIP5HGlPMYzTr+6RMKuNMSzd+8Z4pffWiGD7Y8xlnDEFavRtwpZ/fdjJGa11dOIvOCb3nuTLlBeksjkBTiDYe4SqS1js49UdFSgkjVg8GSQMQEOuJOWAlim0d/OTNaStf7wrWolCqUV4lg7ZqBfReCsfWQN9bucsEHW+3wX+us8OuPzPC37z3E79ZY4KOv7ZnYsnGvB/aff4oHj5OQkVOP4SEdeMO9cF2cRF4AhP8EJsdVGOuVQS6RQDo8hmEdWh3eKr6TlJN1AEODfehRKKF4B/ul0Yyjp3cY5TViRMSVwdIxGfq3wnBIzx+ff+/CatJ8e8QLhvciYW4ngG9QAXIKWtApGYBS+TKnvvmPCCeR+WO4LI/wvM5kWXbxne/U4OAwmlukKCkXIjO3EeHxVfCPKEd8Wh2r0dvULIFM1g+NjurLzAYYJ5HZkOHrOQIcgddCgJPIa8HEN+IIcARmQ4CTyGzI8PUcAY7AayHASeS1YOIbcQQ4ArMhwElkNmT4eo4AR+C1EOAk8low8Y04AmDFr6kANjXy/FUqRjDSP6RtA0MYedZGB4cx0j+IQakcfe1S9Iq60CvsYp/9YimGunvZtqODP+/D9u0fZOtVo2PsHJPMS3cck/MpT7cIA8dJZBFA5qdYmgjQwznJwgW0nsNUk5Y1lRrqMSXUo9o2NqTAQFcPupvFkDW1o7upHV01LRDmV6IhrYi1xvRiTLWmjBI0pBaiIjINRb5xyPeMRr57FPK9olHsH4+q6Ey2bVPGz/vQvrQPfbaX1rFz9bSKIWtsQ09rB0Z6B6avRzOmwjiFA6g1mNCMM+/TyYkJRjZvg3A4iSzN+5tf1QIhoFGpMTo8gmF5P/o7ZegRdjBi6KhohDC/Cq15VWhIKkDZkyQUe8eh1C8RxT5xyHeJQLZdMLJsg5FtG4wM6ydIeegNwW13JN52Z5/0nbU7Hki85YZYQwdEXrRBuJ4lws9Zsk/6HWfkOL3d9D50nFtuENxxR9ojP3aubPsQZNkGIcc+FIWeMSjxSWDXUxmahnpBPlqyyiEqqEZ7WT1kjSL0tnehv6sbiv5BqJUqLHxUj3aQOIks0M3KD7s4CNCDMiVeqEZGwUSJvkEMd/ex2UNfmwQ9TWJIalohLqlDS3Y56pMLUR2ThbKgZO1MwSMKGY+fIum+FwT3PBF33Yk99GFnzNlnhJ4VovVtEX/dCfHXnRFn5IR4Y2cIbrkj+b4XUh54P9eS79NvH6SZ+SHDMhBZNk+RZRPEWqbVE0YStI92uxf2veeFxJtu7Fx0HmqxV5+R0QwiijF0QOJtNyQ/9Ea6dSDy3CNRHJiAspAU1MbnoiWzDO1FtZBUNaOnUYz+dikGJXKGy+jAMEhkIpGMYrfmu3ASmS+CfP+3hgDpJAa6utHb1gVpgxBtRTVMHKCHqDw0FYU+sch2CEGqqS+S7ngi6bYHe/ATTVyRYOyifUCvObKHNFrfjs0aIi9YI/aaAyOTNEt/pFkGsIe0wDMKlRFpqIrKQEVYKvsk8YPNBIrr0F5Si/ZibWsrqkV7SR0TeeTCTgx29WCoS84aPczSOiHblm33bB/t/nUQ5lWiPimfnasiPA3USgISke0Yyq4jzSoAiXfcEX3FDpGXbBB10YYRHBFNnKEj61PCDRcIbrqz/lKfqf+5zuEo9k9AeWgKGlKLIC6rg6ReyGZiQ9198/Jq5STy1h4BfuJXIUCzCyIJJnZ0daOnpQNdVc1oK6xBc0Yp6uLzUBGcgiKfOBS4RyHbMQRp5n4Q3PVgs4Woy48Rds6CtYgLVqDfsYaOSLrrwbYjcYQerALPGBR6xaDsaTJqorJYa0jSkgOJOB3ljSz1YHdzOwYkPUxZSsQ1KO1hSlC1Usne6PRWn2pqFX2nvCmzxwfTttrtft6P1tEMQdE3yM5F59GSpIQRT2dlE5jYlVuJBkEBamNyUBWWhtJAAcMhzzUCmY+DkGbhz2ZINKOK0rdFxAVrhJ21YI1wILEp3TKAEWyeayRK/OJRFZHBjtmaXcFmbLJ6Efo7uzE6MATqI43HbEufsAuppj7sPKVPBGzGM9u2r7P+v73ORi/bRjkyioaUQtBbIt0qAOLyBjYoL9uWr3u3EWAiCKVAeKbAVCpGMdo/BEV3P3try1s62MPSnFWGGppVhKWiwCsGGTZPp8UNehiiLj1GjIEdmzmQqJFww5XdP/QWTr7nhZSHPkynUOwXj4qwNFTHZqM5qxRtJbUQVzaiu0XM9CKkRxgdVABL3AryslHXKFVQ9A0wcusRdaKjupkpZltyKlCbkIOKyHQUBySCxCgBzcRIb3PLneHERDNDR4YhYRltYIcEE1ekmPogxykM5SEpaEwhQq1CZ0UTepo7MCTtxUjfIGjMSO9C4lBPYztSHy41ErHkJPKyG2Y5rKMbb0jehx5hJ7pqW9BWXIvG9BI2bS/wiNIqLS0CkfqQRBAPdlOTXoB0EhHnrZmOIsrAFgm3XNkbl2YgBV7RqAhNRV1CHhpTiyDMq4K0RshubjKtMl1ATz8UvQMgSwu97cn6QpYYZqF5xYzhYzSW6QAAIABJREFUXcKcHmjCl/qnHB5hDzvN5Kj/va2dkNQI0VFaj9acCqaYJVGJRJxcl3CkmPki7rojIi4+w5gUwIaOENxyY7MaEonSzPyZkpd0SY1pxUyhK2/rgjC3komLRESlT5Pe4kxEMYKG5ELEGzkzpRV1sLOqGf0dMja9I2AmJuavBHqXbop37VpphqEaU2J0SKH1k5D1MjGEpuHthbUQZpWjITGfveHowSc5P80iAAk33Zi4QeJH6BlzppsguZ6Uj+nm/si0eYo8pzAUecWiLDAJ1dFZaM4sfaZ3aIZW1Ohm4sWYYoSRw7uG3WJeL4lNo0PDGJDKIRd1Md0I6Wfo+asITWOiUb5rJLLtQpgSOPGmK2Ku2jPRMPT0I0RcskE8kxgCUeAdyyxJ0ZdtGdGXvG1xpjmzjL156ELjTVyQaReE0qcC1KcUoK24BtIGrZxGDj4qxSiYvZxs5ePjz5xzZpdBF3OQluu5yBeB/BJYOkYmiqigUoxhbFCBYWkveprFbCrdnF3GfB5ICZnnFolkU2+mp4i9Ys+UmFMKQGZ9MHRCnKETEkzckPrID1kOIcyXoi4xl/lhkFgrrReCnLRI5CHfDZrC/+wjMYEpH4nlivtC9WvKT4b0HWxcn4mXhPOARM5eAOSzQopeEm3yvWOQafsUgjseWiWuoSPijZy04tDFx4i/4cIsXjTzmc8yZ50Iyccd5Q3ItA0CKcLojUTKIJJ5SRFE0yl6I+U6hoFYsixAgPqkAvY2opuMGHVQJge9iV6l0JpP51bivtopshIjA8PobZdAUtcKcVm91oogyEd5UAqKvGOR7xyBrMfB7M2VRGbK2+7sRos4b4WQ02YIOvYAwccfsnVZ9iEo8otHWXAyamKy0ZJRBnFxPTPDdjeJGWEoevuZYlUrdryD2YOWwc1CHrNaRe8AM5f3tkmY81tHWSNaM8tQHZONksBE5JJC1y4IWQ7BqInNxpCsb169nzOJ0NtkUNIDUqaVBSWhwCOaTZPSLfzZtJZs5/QGi7pkg5CTZqDZSqyRI5sO57qGs5uSRCByFBLlVaGrogndDW3M1ZiYkZRB5ENAGn+azq3kheZr9Bai2iZa3woFRvqGMCTrRb9YBnlrJ2R1InSWNUCYU4GmtGLUxuWiJCABOc5hyLAJRPIDL4Y/0/yfs0DkeWvEXLFnbyNS3pEokmERwGRosp5kWD1hs5A8lwgmpvaS34JMzkSflTwW73LfSWwlC46EzOvFNWjNrYCkpoXpnebTrzmTCJ2UplSqkTGMDQwzJRjd0GRTFxVWs1kH2f7zPSKRau6H+BvOINs+tSkbuVZD76LV0N9y12qZHUNRGpSEOkEemjJLISyoYtNjMteR+UozpsTE+M9T4rfhNjwfwGfdl1y6p9rEJOsj9VM5PMoGvk8sZboEGnzChWZ1WitINHurEAkQcSfecGFWD+ZXYah1fKLZIcnAsVftmcMTjQeRC8nDVbFZzA9BVFQDWYOIWQ1GegcZsSff9UL502QmjtAUetlgPesgLP8/6OVPJThJoTslatK6+SzzIpGXnVirrHtmO++UsRufSgYKcyvQmFSIqohMFPvGI8c5nLkiJz/0YfI3uRoHn3iIkJOmiLz0GKSoS7rniVQzX2TbBzM34tKARFQEpTDfgMYU0upXMtMyxUbQ1I25EPcNQDk6CrVKteQUu3RNNHjK0bHpgC9SRDNlWW0rEw/FpfXMr6I6IhNVoekof5KMAo8Y5LtFIccxjPlMkPhBys1oA1s2wwv+6SETJek3c9G+64FMmydMv0F+GeSXUB2VhaaUIkYO5EtB+ioSdwZlvVCQzmrs+aK05DVKFpfK0PSXDTNfxxGYRkDnJDJ95Fm+0ENEswppUxvEFQ1ozatEXWI+eyvmkJefuT+7eZPveLI3K/kSkH2cZi/0NiUPxaiL1oi+Yj9tNqRgKZL1ykJTUJuYi5bsMhZXIS6ph7ROxCIy+9uk6G+Xae3mvYNM6TcV0UluxcyOTkFcxNBjf6U924bNwoYU2mP1DbFP5j9BZrquHgy0y6A9r5TpD7SxHpVaV24BeTmmM1GQ9A2koCSno9RHvkzECNezQsQ5S61vBSk4rzky12ryyyG/AfLoJFs/E0PM/ZmegxSj5GtAM5XOykb0iDrQ3yVjDmBvmrdTUt2KlPveqAhO5TqrWe5lvlqLwKKTCJ2WpsV0U5MSjjkuDQxrYyc6utEnkrDYAYojINt2bUIu80koJE2znda7T3Dbjcn0oSfNEHneatqBiawH5HxD/gpJdz3ZQ0AKXiKmdDN/ZFoGIt8jmokBFJlZFZXJIjRr43NAFgpxeT06mJdhAzoqXtEqG9n/5NRDrtTkFFUZmcFMmRTjQbb3XOcwdr4M8wCma2B+FHc92XXR9WnjLZyZ3ogIkpyxKOaDxX1csUP8TVcI7nsiw+YJCjyjURyQwK6bxBjyACX37e56EXpbOhlmQ6RH6h1kYe5jwyOMDEmHQsq2uSySqpafSeQddOqaS5/5PnND4K2QyOtcKsng9DCQdx/NXHpaxOisagJN91uzy1ETmYXyJ0koCxQwpW6uUzhyHEKRbhHAxCBylyYT1rTTEz2g57WRmcytWt+WefxRTAMpfCmYK8M6EJmPn7IHlx7e2drUNjRrICeqmGv2zF2ZjkUt4pI1s9GHn7NAhJ4lyOJBdnuyWhG50bVRRCkdJ9cpDHnO4Sj0ikWpv4DpIGpjc1jEp7CgmnmCkrhGTkLkUk16IfIW1mgW1gLCSeR17lK+DSGwZEnkxeFhSsfpXBITz3wftLOZQWkv0ytQHgeaTdCsoimrFLWJeSgLTmKWIHqT02wm3TwACcbOSDDWulyz4C5SRhq7MKc5ivb8a23mtvSdjsHaDVem1CSiIILI94hCkU/sM0tUOpu1kDWrKbNEqxmvbYVc1MlCwod6+piSelw1lXNCm0xnyqdisZWanERevAP579kQeGdIZLYOTK2foKxSExNMRCLTMDVymybdBFmNSIFJYeayWnIlbkBHSYP2s7geotxKkKK2Ni6H2c3p85UtVvt/XWIeWjJKIS6uQycd89lxuyqb0d2oNVdTFCidn4huymxNswly5yZfG7ruxSaIKcxe9clJ5FXo8P9mIrBsSGRmp+bynRSq9GCTezF9vk4jsYKcu5bjwklkOY7qwvSJk8jC4PrOH5WTyDs/hIvWAU4iiwb1u3UiTiLv1ni9zavlJPI20V/C5+YksoQHZ4ldGieRJTYgS+VyOIkslZFY+tfBSWTpj9FbuUJOIm8F9nfypJxE3slhW/iL5iSy8BgvlzNwElkuI6njfnAS0TGgy/hwnESW8eDOp2ucROaD3sral5PIyhrv1+4tJ5HXhmrFb8hJZMXfAi8HgJPIy3Hha3+JACeRX2LC1wDgJMJvg9dFgJPI6yK1wrbjJLLCBnwe3eUkMg/wlvOunESW8+jqtm+cRHSL5zt3NFbD5CWJel+HRCYpvwvPevbOjbmuL5iTiK4RfceOR2UEhrp7oVE9nyntVSQylbeFcsxSUSq+rGwEOIms7PFndX4oExxVrx/pH5xGQ1rzc6Lm6ZUAS/RE9XgpxyulraT6uHxZ2QhwElnZ488qpJU8FSDPMwqNaUWMJKjejaS6BSkPfFAZmsYQouRLNGNpTC9GmnUAS3hNZTqWSW3tFX4XzK/7nETmh987vzfNJqpispD0wIslkqZqht1NbWgrqmGlO6ojM1lpRmm9iNVtTTH1ZYmtqTr9cM/8yi++8+DxDjAEOIms8BuB0kJ2VTcj7ZE/nhy6ywqHFfvFo8Q/gZW1KPCMQUtOOas8H3XZFuFnLVl9HCocRoW6+cIR4CSy0u+BSUDR08/KboSeeoSw0+aIvWKPOCoWxioRuiL5gTdiDR0RctwUURdsUBIoQG9bF0uMvdLh4/1/h0pG8MFaOASoJisV8Eq85YqIc1YI/ckUYScfse9UTCvsjAXCTlsg6NB9xFy2RWNyEcuqT4XG+cIR4DMRfg8w825HZSPyXMJZ2U4ikEg9a1ZlkD6JWBi5nHrEim9RaQy+cASmEOAkMoXECv4kh7HB7j5URWYgxsAeIT+Z/kwi560RcdaS6ULirjuxcp597dIVjBbv+osIcBJ5EZEV+ptqI5OyNNHEDSFU43hqJnLeGuHPxJk0cz+mZCUHNb5wBKYQ4CQyhQT/hKxehMzHQYi8oBVhIvWsmEgTftocYacesbrBZP7VaNQcLY7ANAKcRKah4F8GunpQFpKCBBMXJr5EnLOcJpHwsxYoDRRgdGAYk9zDjN8sMxDgJDIDjJX+VakYQVtJLTKsApl1hsy9jEj0rJgjGtUrXq5lQ1f62M+n/5xE5oPeMtuXKVilchR6xiDslLmWSE49QswVexR4xUBaL8Tk5MQy6zXvznwR4CQyXwSX2f7qMSWqojIRbWAH0oUEH3uABGMXNKQUYnRgCDxYZpkNuA66w0lEByAup0OQuNKaX4lUS39EXrDB08P3kHzPi0X5UgoAvnAEXkSAk8iLiKzw3yTSyEWdKAkSIPaqA/MZybYPZikDVjg0vPuzIMBJZBZgVvJq5cgomjNLEX/dBdFX7FiU70jfz7lGVjI2vO+/RICTyC8x4WsAyGqFSDcPQLZDMCQNIm6V4XfFrAhwEpkVmpX9x2BnDyi3SG1iLkYHh1c2GLz3r0RgyZMIKfOUilGWcWtQKgfFbfQKuyAXdrJP+s6b7jEQlzWgIioddUn5kDWImE6E46x7nKcwlbfS/dwJcvgb6R8CiZTj4+9G6sklRyJEGuMqNVTDIxiW9aG7sQ3CgirUCfJQEZEOSpiT7x6FPPdI5HtE8bZAGOS6RiDLIQTZTmEc4wXCeOb9m+cWgXz3SJSHpLA0laKiakjqhaAXp0oxyp6Jperot6RIZGRgCNIGEZrSS1D+JAn5LhHIehyElIc+SDBxRew1B0ReskH4OUtt07NEOG8LgkHEeSuGdeRFG9B3jvMC32vnLBjG5NgnuO2OVFNfZFo/Rb5rJMqDiViKWQa6YXn/knP4e+skohoZxUBnNzorGlGXmIc81wgk3HSdvmljrjlAcMsdKQ+8kfbID5lWT5D9OAjZj4OffdJ33nSPQTCybQnjqcYx1j3GMzENRpbNU6RbBCD5vjcSTVwRc9UBjMT1LBF73QnZDiGojs6CuLiOifVjQ4olUffnrZEIuU8revtZQuBCnzgkP/BC/HVnRF+2RbS+LSOSTLtglAYloyG1CFSmQFLTgj6hBEOSXt44BsvuHhgQy5j4LiqqYS/U0qAkZDuFIu66M4thomcj7pojku96MRGzObMM/V3dmHjLZTsWnUQoApQyjAvzq1D6RADKURF+3gohp80YceS5RKA6KgvC3EpIalvR1yHDyOAQNCoVjx59pY6c/7lcEFCrVMyQ0NchhbROiJascla6g0SbxFtuCDtrjnA9CwjueDAdYWtOBfo7uzHxluKaFpVEqGJad3M7KiPTkXTPk8nalBSYwMh1CUd9UgGzuqhGlcvlfuD94AjoBAGyUJJFsiGtiBkWku97sVl75EVr9iyVh6WyAEmy6iz2smgkMjY0zLJi5TqHIf66E8LOWiD+hjOK/eIgyq9CX5sEo/1D3Klpse8Afr53BgGyzpDPTn+HDOLSehQHJCL+pisizlszo0OWbRComqGinwIlF29ZcBKhWIx+sQx18blIMfV5poG2Y0qihpQiyIUd0Kh5pqzFG3J+puWAALlC9LZLmNUmzzmC6RGDfzKF4K4H6hLz0dcuWbQSpwtKIpMTE0yLXPJEgBgDO1D5ATJflT4VsKkXhZ0TyfCFI8AReHME6Nmh4mPkS1UWJEDCDReEnjBDvLELyoOT0dPSgXHNwhdcX1ASoQJHpDyNuvSYJf+lEoyk9yCTLq8m/+Y3Dd+DI/AyBIgo6JmioMlUUx+EnDBl4k2xXwLzLVGPjr1sN52tWxASIdmNij2XBiYiSt8W4XpWyHYIRUt2OXg0qM7Gjh+II/AcAjSzFxVUsTKnLLXleWuWka67qX1BdY06JxEy4ZJpamoGQt6O5ELdWd0M5fDia46fQ5n/4AgscwRUo6MQFVYhzdwfpCOJM3JCRXga+jtlC6Y60DmJUKX46thsxBk5sjIDGTZP0F5aB7J984UjwBFYeAQo4TZZPFPN/VhtZSo6VpeQxwL7FuLsOiURmk615pQj+aHWCpNu4Y/W3AoeSr4QI8ePyRF4BQL0LArzK5lFNPSEKUtxSQ6eC+FHojMSochbab0IeW6RzNwUf9MFtQm5z3Qg3ALzivHmf3EEFgSB0WEFmjJKWOxZ2OlHzK1CUteq83PpjERGegdREZrGAoaiLj5GSWAic4rR+RXzA3IEOAKvjQBF/VaEpiLq8mPEXLVHdUyWVjLQoWuFTkiEHF8kNa1IM/ND0LEHSDXzQ2dV02t3lG/IEeAILAwCFJwnqROysJJofTukWwWgvaQGah2GluiERAZlvaiKymDZwSkSl4kxrEbJwgDDj8oR4Ai8PgIUi0b5SMhSE3r6EQq9Yphfyesf4dVbzptEaBYiKqxGipkPKwRN1dPIxEvr+bLICNAUdUKDiXENNJo5tvFxjE/yaruLPHILfrqe1g6mEwk+YYqkOx5oL6mDRqWbcJN5k8jY0AiTuSLPWzGZizxSeSzMgt8TLz+BRgF1TzOENUXIzclBdnYOcnNzn7U85OUXoKCwEEWFBSjMz0N+3tR/tF0OsrJLUFAqgqh7BM/7OE5icmIc4xo11Oo3aRpoiJQmJjDBienlY7ZIa6l6YWNaEQs7iTN0RGVEOgalPTo5+7xIhBLJykVdyHUOZ7OQLPtgLIT2Vyc9XQkHUbShL98VbrePY8e2bfj6q234fvt27Ny+Azt37MYPe/bj0OEjOHb4AA7v3Y09O3fg+++24/vvtmHnd99g69ZT2HvCH77pHZDOxEs9jJGOajQWpyE9NQWCpBSkpry6paSkIjUlHWlpOcgvq0eDbBj9Cx/GMfOq+fcZCJAXeb9YijzncISftWS6kc5K3egt50UiY8MjaM4pR9J9bVay2vhcKPp5kaMZY7e4XxVCyLPtYHv1B6xf+zk+Xb0WG9dtxKaNX+KrTWvxxfv/jv/8+7/D3//d/8Vv/7AGa9ZtxFebN2LTus+x8fM1+GT1fnz9oydck9rRNfPKR6WQl4RB4PkApvdu44bJbdy7c2eWdhf37t7F/bs3ceeGEa6euwqT+57wz29HE3dYnonqon8nZWpVeAbL40O5XBuSCnSSFW1eJDIokaMkMAERF6yRdMcT4pJ6rgtZ9Ftjxgk1w1B116O+NBNJSUlITExCSmomMtISkRVrD8eLX2Hrb3+N//2P6/CXIzaweJqAtNxMpKUmIzUpEYmJ2UjNaUaTVPGcODM5JkNvaSSSfR7BwvQ+bt+5D9MHD2ZpD2H60AwWZsa4e/Uo9n62Gdu26ON2aA1KePmaGYO1+F8nxicgKqhG8kNvloS7NFCAER289OdFIr2tnciwCkTwSVNkPn4Kqp3BlyWIwEQ7ujMew1VvIzb++U/4zT9vxMYD1rBNbYfoNS53UqPAqKQBwso85JPuJCuH6VxI7/LLRnqWPBTkxSI96B6ubdiMr98/hqveZcgfBrjb4WsAvkCbkN69R9SJQt84pr/MdQpDj7Bj3rOROZMI5TKQVDVDcNsDEResUPJUgOHuvgXqPj/snBAYH8GIvAb1Sc5wOfc9Dnz3Nb45fgYHdv+IU9/uxfErzrCOq0albATDOtdX9GO8LQo+hw/g0KoTMPYuRR4nkTkNoy53oqxntQl5LPcI5TduK6mdtyv8nEmEkqG0ZpUj4YYrS7BMGdnHBhW67C8/1nwQGG2HpCwa0dYXcWXXFmzesA97jX3gkVWKsoJwxJudwPmvN2PTtjM4ZRWN4AIxOkd0adqVQ9kaAe9DB3Do45Mw9uEkMp/h1NW+ZDmleDZKDpZ42w0NaYXzDsybM4mMKUZYgqEEY1dWaIcF9yi45kxXg/3mx1FgtKcJjQVJSH7qDDczI1w/dwwHv/0OO787iiMmPnDJbEdz/ygmJmSQloYg4s4xnNu+FV9tP4IfTxjB6KETHIMEiCtsRp10DKNTVRzV/RhuzkJxrCe8nG1hY2nFmrWlFaytXmw2sLa2hZPtHZgbHsauP3yMte8dxWWfMuQNcXHmzcdVt3vQa6KrsokF5JEbPCVNn68EMWcSIStMTWwOEoxdkEGutGX1UI3xLO26HfI3OVo3equjEGV2Bue2rsaa9z/BB58fwK7z9rALy0dheyfa2mpRk56KvPxaVHX2Qt5eirp4OzgZ7MWPX6zCh3/6FKu/PY0jFrEIKhtA75SIo2iGOOY6LI+uwofv/RH/9p/v4S8ffIiPWPsAH30ws2nXr/rgPXz4hz/gP/7PB/hssz5MwutQxhWrbzKgC7atvEmM1Ic+zCBCqUrJQDKfZU4kwpIvd8hQGiRAvJET8l0jQB5x4+NTd918LonvOzcERqFoy0Werymsr+nDwNgSD93jEV3YBtEAqTNHMVAajKhLerhzNwC+9eNgz/RoOzpK4pHoZQlLo6swNDKF6ZNcpIjUmBZOB6rRGvgTrux8D7/54Bus2XUG+tcNYWR0DYZXruLaL9oVXGXrrsPQ8CEsXSIRVyWDmL9j5ja0Ot6rt6WTkQjVe6JA2bdDIhMT6G4Ro8A7GuT9VuKXAIqf0aVErWPclvHhiCAmmGldOShDd0MZaitrUNPeB/lzD20XWsIe4PFnq/Hjnlu4kS5Hy8gMWDQDGGyvR1NFOapbu9ChmIRyKnShvxqikLO4dvx7fHjcFfeiqiGSd0PWI4VUIoFkttbVha4uKWTyAQwqx6EbJ+sZ18y/zgkBeXPHzzORJ29rJsJJZE6DtzA7qTGhkqNb1IT60hKUFxWiuKQUpZU1qK6rQ319PRoaqlDfkIp4mwsw/PB9fLX1DE56ZiG+qBZN9fWoq69HfV0NaivLUF5ShJKSEpRUNqCypRvdY4CmvxrtoWdx5cRefHQuBHY5cvA8dQszmotx1KVDIs1iFHhFaWci/gkY7O7jPgCLcQf84hxDUHZlIfWxCUx27cHRvQdw8PBhHD14EIf378fBfQdw6MA+HDm8Ezs+fx8f/+pX+JffvYc/f7kbO/YcwLEDtM1+HNh/EIcOHsaRQwdxlFzij+nj0KNEhNSPYGigBp2R53D18Hd474ADTELK0dzVBYm0C10dYojbRGgTUWtDW1s7xJ2d6KQmboe4TQihSAxhZy96h1WY0tX+oht8xaIhsGRIhMpBFPvHMxKh0GIWufuWaoEuGvpL8kSDGGtPQtytMzjz8WpsWr0Ga79Yjw3rNmDTxk3YsmkLvtqyFV9v3oyvNm3C1k2bsfXLzeyTrd+yBV/T+o0bsGn9emz8/DNs+HQVVm89iI2GYXArHcLAYAO6Yg1w+8hmfPjVWey7YgEHNxe4uDjD2ckZLi6ucHV1hbubC1xdnOHi6AgnB0c4OTnBxdEBjm4BcAsvQm5TP2ZKUEsSzhVwUfJnOhGqnEcVGd6KTgSTkxjq6UNVZAYofwiV76Ns7uQ7wpfFRkCN8REpuqpLUJKcjIzkFKSmpSM9IxNZmdnIoUjenCxkk2u7IBGC5CQIEgVITkxGSkYWMsnrNDsbOVmZyMpIR0ZaKtJTkpCckY/0SjFa+tRQKdogSbGEm+E+7Nq9F7t278Te7Vvx5eebsfmbPdh3/DROnjkLPb0TOHn0R+zZvB5bv/gSW3bsx75DR3D83HWcexSLoAIZmI53sSHi53sOgSnF6tslEdL1DytYuT4y8aY98mM5RVRvoZjwc+jwH88jMCxGR0UmcuKDEerrBg8nBzja28PBzgFOju7w8A5FSGwWsirb0TJA6tlZFtUABptyUZ4chGB/F3ha6uHijvX4/T+txaotetC3cYejuwe8vBzgaHYeZz/9Iz7/t4/w2f7ruPjIEc4eT+ARVYrcpgGMcL/3WUBevNWyOiFSHnizmlDloSkYkvXO6+RzMvHSGVWjY2hKK2Eeq0n3PNGcVQblMJ+szms0dLXzWBfk1UlI8bWA+aVDOLptHTau+RirP16NNZ+sxtrVn2DNqtVYs2ojNn1zGEcMHuGOWwKii8XomNVfUJvwaFwzBHVnNGLun8emP53EjwaREEhVGFCpoFINYKA5GuGHv8apz/fgJ+c8xLUroVSpodJMzk5Suuo3P85fRYDcMNoKq1liovgbzqhNzIWid+Cv7veqDeZMIpSfoKOkHokmbogysENlVAYoWTNf3iYCSkz2VaI8yAxWP+3BwT2HsffkZVy8eh3Xbz/AAzMr2Ng8hoOdNR6bm8LM5AbuGF6C/pkj2P/dD9h78gHuhVWjRKZ+9QM/kYtcO2Ns+4s+jt3JRunMLg/nIOPMLuhvPoqLT5uRz+26M9F5699HBodQl5iHBBNXVk6iJa8CY8PTHkFzur45kwidraexnbm8h5wyY4lg+8WyOV0E30lHCIyJ0FvoALtTO7Dp4x3YqWcF89AcpFcJ0SLtR9/wGJRqNcbHlVCNDmBAKoK4NgvZoY/hcPZb7Fz3Db447AjzRCHEIyooFXL0S0RobWlBc3MLWluFELbWQVTkAS+Dw1jzH3vxzUl3+Je2okYoRFtbDWqzPeD6/RfY+9HX2PMgEt4FrRC2altLczNahWK09wxhQDmJCS7a6GjgX/8wve0SFAcmsFq9WXbBkNQL550mcV4kQqSR7x6JsDPmSHnog67qltfvDd9S5whMynJR53cSJ3b+gFU/uuBxSgs6RtRQzarsADCphnpICHmWFayPfYdVHxzHAbM0pHfIIW/NRVm8L9xcnOHg4ARXNw+4uzjAy+ICLv+wBR/+x5f4bNsF6Fu7wt7dAz4+9nAwuwi9dR/hyz+twcbDN6BvTlYbV3i4usDZ3gGuXkF4mtWAiu5xqF91XTpHhx9wcmJ1dqfkAAAIsUlEQVQSHZWNyHj8hJWQKPKOw5BMPu/ymvMiEYqfqRXkId7YGYkmrmjKKGW6Ej5cbweByY4UlDnsxvcbduAP+0PgXfe6YQgaQOQNn1Pf4s+/2YVvjeKR0CaFrCYGad73ccPIEAZXrsHY+Ab7fvPKWZw/fhA/fn8A+4+cg97V6zA0voFbNw1hZHAO5w7swcHd+3DwxEWcN7iOG8bXYWJkBMPLBjC+aw2ryFJkizVQchJZ1BtlXD2O+sR8RF+xYyRSE50FjQ4sqvMiEbVKja66VmTaBiHGwA6FvrGQtz2XWG9RQVrxJ+urgDDaGMb7duCzTZdx1ioaUWVNaBLLIO0bxMDQMIaHh6FQDGN4aAADvVJ0tzeipTASAls96H27A2s33cI1nwpU9Q1iUFyEytRgBPj5wsvbB/5+fs+aPwICAvAkMACBAf4ImF5P/9N/gQgMDHz+P19f+Hp6wT8oClEFLaiVT/CZyCLesBTvpujpR7FXHKvPK7jrgbaCap1cwbxIhC5sWD7AYmfCz1ki4ZYry1UwyZ3OdDI4b3wQzSDGxGnIcDHA5W1f4otPt2PrQSNct/WFV6QACSmZyMjMRHZWBjLSEpAQ7g1/yyswOfgNvvloPdZuNcBZx2wktyqg0GgwrhzCcJ+Mxcd0SSTP4mSkkEhlkPX0QN7bA3mPDDLpz/9JpTJ0y+WQU+vW/jcdW9PVBamsBz2Do1CoeaTVG4/vPHZQjYxBXFqHNHN/UBGrIt84yIW6yUQ4LxKhPo2rNWhKK0a8sRNLAFv2NJkna57HYM9/1yEomlOQ6X4TJscOY/8Ph3HsjB7OXroCAwNDGBkawfj6NRhe04f+xXPQO7ofR3fvxQ8HbuCaYyqSRQrMz+A3/x7wI+gegYGubhT7xSNczxKJN90gzK2EUqEbl4x5kwh1l9IAkCgTrW/LSmiKimq4bkT398EbHFEFzWA7OiqzkBPpDT/7B3hgfBVXL16C/qXL0L98CZcNrsLgxkPcs/SEV3AqUivaIRrQ8EjbN0D5XdmUEjS3F9dCcMcDQcfuI9suGP1tEp1dvk5IRD2mhLCgGoJbbgg9qTX39oq4bkRnozTXA02OQtnXia6WGtSUFaO4oACFBYUopOJVRcUoLq9FdWMHOuQj3JN0rhgv9f0mJ9Hf2Y3Sp0lMjEkwcUFDcgFUOnQM1QmJEI4UxFPkE8tqfVLaNapBMzrIU1kt9XuMX9/yRoDyHtcnFSLhlhuiDWxZwN1AlwzkLKqrRWckQrMRcVkdMmyeIOrSY6bAoRoXtJ4vHAGOwOIjQAGx4rJ6ZFg9QegZc1Zvhp5JXRII9UpnJEIpeMl9tj65AOSTH65nhXy3SEiZRxyP7l38W4ifcSUjQLYvaaMIuc5hCDv1CFTxriY2G8Pyfp3DokMS0V5bb5sERf7xzJmFFK2kEe5pEfPKeDofOn5AjsDLERjXaCBv7UCRbyyrkR2hZ4VivwT0iaULksJU5yRCHZA2iJDjEILQk48Qe9WBVSDv7+rBBA+WePmo87UcAR0hQDOQnlYxinziWDb3yIs2yHWNQFdNCzTq1/VgfrOL0TmJ0OmpQA6Txay1sliskSPKQ1MhrRfxxEVvNj58a47AayPACKRFjEIf7Qwk+PhDpFsHor2kdkHLuSwIiVCvNSo185CjGr0UoBdtYId8j2h0VjSCvOfI25UvHAGOgC4QmGTPVHdTOwq9Y5gIE6lnxepkN6WXYKRvYVN0LBiJEDTq0bHpGUnISTNmtcm2D0ZTRgmGuueXTUkX0PNjcASWAwKkLG3OKEG2XQgizlqCQlDoORMV1mB0YGjBX9gLSiI0QBQlSKINFbiKvebA3G4pE1pleBokdcJnLMlnJcvhZuZ9WFwEFH2DLP0G5TpOuueB4BOmIB1IoVcse+aUi1TWdsFJhGCd0IyDPFgrwlJB0YPkRxJzxY5F/5L3HGWOV4+Mse0Wdxj42TgC7xYC5OOhHlOBYmHqkwqQZuHPnqXIi9aIv+GCspAU9Ag7oVEtnlvFopCIdpgmMdDVg5bsMuS4hCPy8mOmK0m85cayotXEZDN9yUj/0Ls1qvxqOQKLhAA9G1RVoTYhDwUe0Ui44YLQU2aIvGyDbMcQNKYVY0DSvejuFItIIlqk1Uolumpb2Kwk3SKAlZwgGS7KwBZZdkGojctBR1kD5K2dzJWe3HZJScvTCyzSncpP89YRmJiYYJ7eY0MKDPf0sWdBXFyH2rhcZDkEg8JKKBo3Rt8O6eb+KA9JYeSifEvVFhadRGiEyAQ82jcIaV0rqqMzkfLId9o5jQqEJ93xQIb1ExQHJrJsaV21rcxRZljeB/WokimKyLrDG8dgudwDJKaQDoMyr1MeVEpj2JRZynyssmyDWebAeEMnpgogdUDyAy+UBSWjo6IRCnn/vPOkzoc53wqJTF0w2bWp5kV7aT0oVVu+RxTLQE2zElISEdtS+DKBmO8ehWLfeFQEp6ImMos3jsGyugeqIzLZvV3in8jCReglSvd+9BV7UCJ0cpMg0T/fNRIk+rcX1aK/Q7ZgDmRTz+jrfL5VEpl5gSrFKORtnWgtqAIV1KGgIcFNd5ZAharskecrpWAkFiYNNG8cg2V1D1zQjidlHYszdGR5ixNuuCLprifz9yjyjUdDWhHLRrbUglqXDIkQobAp3cioVg5sFqOjtIHZvysj0pkTTbZTKNLM/ZB0zwuCe55Iuu/FG8dgWdwDgnseSL7vyfSCxQEJrERtQ2oxxKX1kLd0MP0gpdbQdQTuzBf5XL8vKRJ5WSeo0t6gVI6elnbm/08uvMK8KgjzKiHMr+KNY7A87gG6n/Mq0VnVxFweBrt7MaYYwbvgQbXkSWSKWJgCbWKCMTH5nfDGMViW98D4xIJ7mE49U7r6fGdIRFcd5sfhCHAEdIsAJxHd4smPxhFYcQhwEllxQ847zBHQLQKcRHSLJz8aR2DFIcBJZMUNOe8wR0C3CPx/BCwEaMRe+CAAAAAASUVORK5CYII=)"
      ]
    },
    {
      "cell_type": "code",
      "metadata": {
        "id": "Yl6YTguOdwjg"
      },
      "source": [
        "a = int(input(\"a = \"))\n",
        "b = int(input(\"b = \"))\n",
        "c = int(input(\"c = \"))"
      ],
      "execution_count": null,
      "outputs": []
    },
    {
      "cell_type": "code",
      "metadata": {
        "id": "B9eOBQPe16Rk"
      },
      "source": [
        "sum = a+b+c"
      ],
      "execution_count": null,
      "outputs": []
    },
    {
      "cell_type": "code",
      "metadata": {
        "id": "0Z_OOYK116i7"
      },
      "source": [
        "print(sum, sum/3)"
      ],
      "execution_count": null,
      "outputs": []
    },
    {
      "cell_type": "markdown",
      "metadata": {
        "id": "3mtxuDklBaJi"
      },
      "source": [
        "* 총점과 평균을 구해 보세요"
      ]
    },
    {
      "cell_type": "code",
      "metadata": {
        "id": "IAYM4VPp2Lgy"
      },
      "source": [
        "print(\" 총점은 \", sum, \" 평균은 \", sum/3)"
      ],
      "execution_count": null,
      "outputs": []
    },
    {
      "cell_type": "markdown",
      "metadata": {
        "id": "1akWpWGyySff"
      },
      "source": [
        "\n",
        "# 섭씨 온도를 화씨 온도로 변환하여 출력하기\n",
        "섭씨 온도를 화씨 온도로 변환하는 공식: F=(C∗1.8)+32\n",
        "\n",
        "1. 현재 온도(섭씨온도-> C)를 입력 받는다  (힌트 input)\n",
        "2. 정수형으로 변환한다      (힌트 int)\n",
        "3. 화씨(F)를 구하는 식에 넣는다\n",
        "4. 화씨 값을 구하여 출력한다\n",
        "\n"
      ]
    },
    {
      "cell_type": "code",
      "metadata": {
        "id": "VRk9emPD3Eo6",
        "colab": {
          "base_uri": "https://localhost:8080/"
        },
        "outputId": "2d66c548-534f-4dbf-eb1b-0b5dae0482c6"
      },
      "source": [
        "c = input(\"섭씨 온도를 입력하세요 :\")\n",
        "c = float(c)  # int  float  str\n",
        "\n",
        "#c = float(input(\"섭씨 온도를 입력하세요 :\"))  # 한 줄로 다음과 같이 코딩할 수도 있습니다"
      ],
      "execution_count": null,
      "outputs": [
        {
          "output_type": "stream",
          "text": [
            "섭씨 온도를 입력하세요 :34.5\n"
          ],
          "name": "stdout"
        }
      ]
    },
    {
      "cell_type": "code",
      "metadata": {
        "colab": {
          "base_uri": "https://localhost:8080/"
        },
        "id": "D4hHYUngspoJ",
        "outputId": "20e23718-a0b2-4b9b-aa80-ed3af159ac94"
      },
      "source": [
        "c"
      ],
      "execution_count": null,
      "outputs": [
        {
          "output_type": "execute_result",
          "data": {
            "text/plain": [
              "34.5"
            ]
          },
          "metadata": {
            "tags": []
          },
          "execution_count": 12
        }
      ]
    },
    {
      "cell_type": "code",
      "metadata": {
        "id": "-0spwwZb3FG-"
      },
      "source": [
        "f = (c * 1.8) + 32"
      ],
      "execution_count": null,
      "outputs": []
    },
    {
      "cell_type": "code",
      "metadata": {
        "id": "CQtfKsyk2OBc",
        "colab": {
          "base_uri": "https://localhost:8080/"
        },
        "outputId": "06d571cc-e628-4518-9125-9e0f295e0d37"
      },
      "source": [
        "print(f)"
      ],
      "execution_count": null,
      "outputs": [
        {
          "output_type": "stream",
          "text": [
            "94.1\n"
          ],
          "name": "stdout"
        }
      ]
    },
    {
      "cell_type": "code",
      "metadata": {
        "id": "iFHEhwOS2OOd",
        "colab": {
          "base_uri": "https://localhost:8080/"
        },
        "outputId": "d687ff5e-2917-4d64-85e6-f27b2c9f8ee1"
      },
      "source": [
        "print(\"섭씨온도 \",c,\"도는 화씨온도로 바꾸면 \",f,\" 입니다\")"
      ],
      "execution_count": null,
      "outputs": [
        {
          "output_type": "stream",
          "text": [
            "섭씨온도  34.5 도는 화씨온도로 바꾸면  94.1  입니다\n"
          ],
          "name": "stdout"
        }
      ]
    },
    {
      "cell_type": "code",
      "metadata": {
        "id": "2LeHDzoGVT3d",
        "colab": {
          "base_uri": "https://localhost:8080/"
        },
        "outputId": "a6778e84-e80b-40ca-95de-12b19d552e71"
      },
      "source": [
        "print(f\"섭씨온도 {c}도는 화씨온도로 바꾸면 {f} 입니다\")"
      ],
      "execution_count": null,
      "outputs": [
        {
          "output_type": "stream",
          "text": [
            "섭씨온도 34.5도는 화씨온도로 바꾸면 94.1 입니다\n"
          ],
          "name": "stdout"
        }
      ]
    },
    {
      "cell_type": "code",
      "metadata": {
        "id": "UvGRdoFvXhFZ",
        "colab": {
          "base_uri": "https://localhost:8080/"
        },
        "outputId": "a551c911-86aa-4964-fd2d-36d41404919e"
      },
      "source": [
        "print(\"섭씨온도 {0}도는 화씨온도로 바꾸면 {1} 입니다\".format(c,f))"
      ],
      "execution_count": null,
      "outputs": [
        {
          "output_type": "stream",
          "text": [
            "섭씨온도 34.5도는 화씨온도로 바꾸면 94.1 입니다\n"
          ],
          "name": "stdout"
        }
      ]
    },
    {
      "cell_type": "code",
      "metadata": {
        "id": "d7GcOLCdWf6A",
        "colab": {
          "base_uri": "https://localhost:8080/"
        },
        "outputId": "4468743a-ace9-4f41-a374-faba8c8037f2"
      },
      "source": [
        "print(\"%s 섭씨온도 %4d도는 화씨온도로 바꾸면 %6.1f 입니다\"% (\"온도구하기\\n\", c,f))"
      ],
      "execution_count": null,
      "outputs": [
        {
          "output_type": "stream",
          "text": [
            "온도구하기\n",
            " 섭씨온도   34도는 화씨온도로 바꾸면   94.1 입니다\n"
          ],
          "name": "stdout"
        }
      ]
    },
    {
      "cell_type": "code",
      "metadata": {
        "id": "6eTPQ8zfWcoH"
      },
      "source": [],
      "execution_count": null,
      "outputs": []
    },
    {
      "cell_type": "markdown",
      "metadata": {
        "id": "hWJa-JBNyfNl"
      },
      "source": [
        "#구구단 중의 하나의 단을 입력받아 출력하기\n",
        "1. 출력할 단을 입력받는다  (힌트 input)\n",
        "   \n",
        "```\n",
        "      단 = input(\"출력하고 싶은 단을 입력하세요:\")\n",
        "```\n",
        "2. 정수형으로 변환한다     (힌트 int)\n",
        "3. 원하는 형식으로 출력(print)한다\n"
      ]
    },
    {
      "cell_type": "code",
      "metadata": {
        "id": "06TIZrrkytPD",
        "colab": {
          "base_uri": "https://localhost:8080/"
        },
        "outputId": "3b432557-f204-4770-cdc7-04e11532499d"
      },
      "source": [
        "단 = input(\"출력하고 싶은 단을 입력하세요:\")"
      ],
      "execution_count": null,
      "outputs": [
        {
          "output_type": "stream",
          "text": [
            "출력하고 싶은 단을 입력하세요:2\n"
          ],
          "name": "stdout"
        }
      ]
    },
    {
      "cell_type": "code",
      "metadata": {
        "id": "JucGqEt63h0z",
        "colab": {
          "base_uri": "https://localhost:8080/"
        },
        "outputId": "16844b10-3028-4565-940c-12be90e75698"
      },
      "source": [
        "단 = int(단)\n",
        "단"
      ],
      "execution_count": null,
      "outputs": [
        {
          "output_type": "execute_result",
          "data": {
            "text/plain": [
              "2"
            ]
          },
          "metadata": {
            "tags": []
          },
          "execution_count": 37
        }
      ]
    },
    {
      "cell_type": "markdown",
      "metadata": {
        "id": "2I1SpBMjytqi"
      },
      "source": [
        "원하는 형식으로 출력"
      ]
    },
    {
      "cell_type": "code",
      "metadata": {
        "id": "Odzzd_dLyvLJ"
      },
      "source": [
        "print(단*1)\n",
        "print(단*2)\n",
        "print(단*3)\n",
        "print(단*4)\n",
        "print(단*5)\n",
        "print(단*6)\n",
        "print(단*7)\n",
        "print(단*8)\n",
        "print(단*9)"
      ],
      "execution_count": null,
      "outputs": []
    },
    {
      "cell_type": "code",
      "metadata": {
        "id": "M4v2ZxcY1JNz"
      },
      "source": [
        "for 수 in range(20):\n",
        "    print( 단*수)"
      ],
      "execution_count": null,
      "outputs": []
    },
    {
      "cell_type": "code",
      "metadata": {
        "id": "qaBPMJ9bCVFe",
        "colab": {
          "base_uri": "https://localhost:8080/"
        },
        "outputId": "f866501e-4040-4ca9-b9ac-b0254759d5d9"
      },
      "source": [
        "for 수 in range(1,10):\n",
        "    print(단,\" x \",수,\"= \", 단*수)"
      ],
      "execution_count": null,
      "outputs": [
        {
          "output_type": "stream",
          "text": [
            "2  x  1 =  2\n",
            "2  x  2 =  4\n",
            "2  x  3 =  6\n",
            "2  x  4 =  8\n",
            "2  x  5 =  10\n",
            "2  x  6 =  12\n",
            "2  x  7 =  14\n",
            "2  x  8 =  16\n",
            "2  x  9 =  18\n"
          ],
          "name": "stdout"
        }
      ]
    },
    {
      "cell_type": "code",
      "metadata": {
        "id": "1OzEJeB_5vyi"
      },
      "source": [
        "for 단 in range(10):  #0~9\n",
        "    for 수 in range(0,100,5):    # 0,5,10 ~95\n",
        "        print(단,\" x \",수,\"= \", 단*수)\n",
        "    print()"
      ],
      "execution_count": null,
      "outputs": []
    },
    {
      "cell_type": "code",
      "metadata": {
        "id": "ojBZkoKq6gu-",
        "colab": {
          "base_uri": "https://localhost:8080/"
        },
        "outputId": "a507d706-3fcf-4784-c4bc-f68f8e2eaa14"
      },
      "source": [
        "for 수 in range(1,10):\n",
        "    for 단 in range(2,10):\n",
        "        print(단,\" x \",수,\"= \", 단*수,end =\" | \")\n",
        "    print()"
      ],
      "execution_count": null,
      "outputs": [
        {
          "output_type": "stream",
          "text": [
            "2  x  1 =  2 | 3  x  1 =  3 | 4  x  1 =  4 | 5  x  1 =  5 | 6  x  1 =  6 | 7  x  1 =  7 | 8  x  1 =  8 | 9  x  1 =  9 | \n",
            "2  x  2 =  4 | 3  x  2 =  6 | 4  x  2 =  8 | 5  x  2 =  10 | 6  x  2 =  12 | 7  x  2 =  14 | 8  x  2 =  16 | 9  x  2 =  18 | \n",
            "2  x  3 =  6 | 3  x  3 =  9 | 4  x  3 =  12 | 5  x  3 =  15 | 6  x  3 =  18 | 7  x  3 =  21 | 8  x  3 =  24 | 9  x  3 =  27 | \n",
            "2  x  4 =  8 | 3  x  4 =  12 | 4  x  4 =  16 | 5  x  4 =  20 | 6  x  4 =  24 | 7  x  4 =  28 | 8  x  4 =  32 | 9  x  4 =  36 | \n",
            "2  x  5 =  10 | 3  x  5 =  15 | 4  x  5 =  20 | 5  x  5 =  25 | 6  x  5 =  30 | 7  x  5 =  35 | 8  x  5 =  40 | 9  x  5 =  45 | \n",
            "2  x  6 =  12 | 3  x  6 =  18 | 4  x  6 =  24 | 5  x  6 =  30 | 6  x  6 =  36 | 7  x  6 =  42 | 8  x  6 =  48 | 9  x  6 =  54 | \n",
            "2  x  7 =  14 | 3  x  7 =  21 | 4  x  7 =  28 | 5  x  7 =  35 | 6  x  7 =  42 | 7  x  7 =  49 | 8  x  7 =  56 | 9  x  7 =  63 | \n",
            "2  x  8 =  16 | 3  x  8 =  24 | 4  x  8 =  32 | 5  x  8 =  40 | 6  x  8 =  48 | 7  x  8 =  56 | 8  x  8 =  64 | 9  x  8 =  72 | \n",
            "2  x  9 =  18 | 3  x  9 =  27 | 4  x  9 =  36 | 5  x  9 =  45 | 6  x  9 =  54 | 7  x  9 =  63 | 8  x  9 =  72 | 9  x  9 =  81 | \n"
          ],
          "name": "stdout"
        }
      ]
    }
  ]
}