{
  "nbformat": 4,
  "nbformat_minor": 0,
  "metadata": {
    "colab": {
      "provenance": [],
      "toc_visible": true,
      "authorship_tag": "ABX9TyOvFybhybVv4dF1hi0PJjgp",
      "include_colab_link": true
    },
    "kernelspec": {
      "name": "python3",
      "display_name": "Python 3"
    },
    "language_info": {
      "name": "python"
    }
  },
  "cells": [
    {
      "cell_type": "markdown",
      "metadata": {
        "id": "view-in-github",
        "colab_type": "text"
      },
      "source": [
        "<a href=\"https://colab.research.google.com/github/Basicsj/dataAnalysis/blob/main/3%EC%9D%BC%EC%B0%A8_%ED%8C%8C%EC%9D%B4%EC%8D%AC%EA%B8%B0%EC%B4%88_%EC%BB%AC%EB%A0%89%EC%85%98%EC%9E%90%EB%A3%8C%ED%98%95.ipynb\" target=\"_parent\"><img src=\"https://colab.research.google.com/assets/colab-badge.svg\" alt=\"Open In Colab\"/></a>"
      ]
    },
    {
      "cell_type": "markdown",
      "source": [
        "# 3. 컬렉션 자료형"
      ],
      "metadata": {
        "id": "A1OBuBoETU1I"
      }
    },
    {
      "cell_type": "markdown",
      "source": [
        "## 3-1. 리스트(List)"
      ],
      "metadata": {
        "id": "Q16ObMI7TtWH"
      }
    },
    {
      "cell_type": "markdown",
      "source": [
        "#### 리스트 생성"
      ],
      "metadata": {
        "id": "qI3nidMhTzFy"
      }
    },
    {
      "cell_type": "code",
      "execution_count": 3,
      "metadata": {
        "colab": {
          "base_uri": "https://localhost:8080/"
        },
        "id": "HPf-0K3gTTBd",
        "outputId": "7ee9b40c-30a4-40e1-c2a6-8f5bf5f9627c"
      },
      "outputs": [
        {
          "output_type": "stream",
          "name": "stdout",
          "text": [
            "<class 'list'>\n",
            "[]\n"
          ]
        }
      ],
      "source": [
        "# 빈 리스트 생성\n",
        "a = []\n",
        "a = list()\n",
        "print( type(a) )\n",
        "print(a)"
      ]
    },
    {
      "cell_type": "code",
      "source": [
        "# 초기 데이터 넣고 리스트 생성\n",
        "import math\n",
        "a = [1,2,3,4,5]\n",
        "a = [1, 'apple', '딸기', 3.14, math.pi, max([10,30,20])]\n",
        "b = [1, 2, a, ['사과', '딸기'], {'k':'kiwi'}]\n",
        "print(b)"
      ],
      "metadata": {
        "colab": {
          "base_uri": "https://localhost:8080/"
        },
        "id": "G5yGBEfzURy9",
        "outputId": "ea2a5a88-72a3-4feb-8f8c-140ac2272a63"
      },
      "execution_count": 9,
      "outputs": [
        {
          "output_type": "stream",
          "name": "stdout",
          "text": [
            "[1, 2, [1, 'apple', '딸기', 3.14, 3.141592653589793, 30], ['사과', '딸기'], {'k': 'kiwi'}]\n"
          ]
        }
      ]
    },
    {
      "cell_type": "code",
      "source": [
        "# 반복문 사용\n",
        "numlist = []\n",
        "for num in range(1,21,2):    # for 반복문, range(): 정수를 순차로 발생시키는 함수\n",
        "    numlist.append(num)      # 리스트에 데이터 추가\n",
        "print(numlist)"
      ],
      "metadata": {
        "colab": {
          "base_uri": "https://localhost:8080/"
        },
        "id": "8p3V7A1GVLnO",
        "outputId": "0a3f9c08-4950-4861-d2ca-ca19184376ec"
      },
      "execution_count": 10,
      "outputs": [
        {
          "output_type": "stream",
          "name": "stdout",
          "text": [
            "[1, 3, 5, 7, 9, 11, 13, 15, 17, 19]\n"
          ]
        }
      ]
    },
    {
      "cell_type": "code",
      "source": [
        "# for문\n",
        "print(b)\n",
        "for i in b:    # for 반복문, b란 이름의 리스트안에 있는 요소를 하나씩 출력하는 코드\n",
        "    print(i)"
      ],
      "metadata": {
        "colab": {
          "base_uri": "https://localhost:8080/"
        },
        "id": "ovFTOhutVgBA",
        "outputId": "54d916b4-da18-456d-8f04-44898f79fa87"
      },
      "execution_count": 12,
      "outputs": [
        {
          "output_type": "stream",
          "name": "stdout",
          "text": [
            "[1, 2, [1, 'apple', '딸기', 3.14, 3.141592653589793, 30], ['사과', '딸기'], {'k': 'kiwi'}]\n",
            "1\n",
            "2\n",
            "[1, 'apple', '딸기', 3.14, 3.141592653589793, 30]\n",
            "['사과', '딸기']\n",
            "{'k': 'kiwi'}\n"
          ]
        }
      ]
    },
    {
      "cell_type": "markdown",
      "source": [
        "#### 리스트 요소에 접근"
      ],
      "metadata": {
        "id": "zvOKIpBFXcKT"
      }
    },
    {
      "cell_type": "code",
      "source": [
        "colors = ['빨강', '초록', '파랑', '노랑', '검정']\n",
        "print( colors[0] )\n",
        "print( colors[2:4] )\n",
        "print( colors[::-1] ) # 거꾸로 정렬\n",
        "for color in colors:\n",
        "    print(f\"나는 '{color}' 색상을 좋아합니다\")"
      ],
      "metadata": {
        "colab": {
          "base_uri": "https://localhost:8080/"
        },
        "id": "K0SBdkihXf0h",
        "outputId": "8d3d1a07-eefa-4193-8a5c-de24f09f972e"
      },
      "execution_count": 16,
      "outputs": [
        {
          "output_type": "stream",
          "name": "stdout",
          "text": [
            "빨강\n",
            "['파랑', '노랑']\n",
            "['검정', '노랑', '파랑', '초록', '빨강']\n",
            "나는 '빨강' 색상을 좋아합니다\n",
            "나는 '초록' 색상을 좋아합니다\n",
            "나는 '파랑' 색상을 좋아합니다\n",
            "나는 '노랑' 색상을 좋아합니다\n",
            "나는 '검정' 색상을 좋아합니다\n"
          ]
        }
      ]
    },
    {
      "cell_type": "markdown",
      "source": [
        "#### 리스트에 요소 추가하기"
      ],
      "metadata": {
        "id": "_Vkdqy1rYoID"
      }
    },
    {
      "cell_type": "code",
      "source": [
        "print(colors)\n",
        "# 인덱스 2위치에 '분홍' 넣기\n",
        "colors.insert(2, '분홍')\n",
        "print(colors)\n",
        "\n",
        "# 맨 뒤에 추가하기\n",
        "colors.append('보라')\n",
        "print(colors)"
      ],
      "metadata": {
        "colab": {
          "base_uri": "https://localhost:8080/"
        },
        "id": "pLxPkM7GYq3E",
        "outputId": "c9b36196-a7ed-4460-bd3c-8316d974cc5f"
      },
      "execution_count": 22,
      "outputs": [
        {
          "output_type": "stream",
          "name": "stdout",
          "text": [
            "['빨강', '초록', '분홍', '분홍', '분홍', '분홍', '파랑', '노랑', '검정', '보라', '보라', '주황', '보라']\n",
            "['빨강', '초록', '분홍', '분홍', '분홍', '분홍', '분홍', '파랑', '노랑', '검정', '보라', '보라', '주황', '보라']\n",
            "['빨강', '초록', '분홍', '분홍', '분홍', '분홍', '분홍', '파랑', '노랑', '검정', '보라', '보라', '주황', '보라', '보라']\n"
          ]
        }
      ]
    },
    {
      "cell_type": "markdown",
      "source": [
        "#### 리스트 특정 위치의 요소값 변경"
      ],
      "metadata": {
        "id": "KQiqyc-PZgCT"
      }
    },
    {
      "cell_type": "code",
      "source": [
        "colors[3] = '주황'\n",
        "print(colors)\n",
        "colors[1:3] = '갈색'\n",
        "print(colors)\n",
        "colors[1:3] = ['갈색', '고동']\n",
        "print(colors)\n",
        "colors[1:4] = '갈색'   # 주의! 인덱스 개수가 다르면 대체가 안되고 없어짐.\n",
        "print(colors)"
      ],
      "metadata": {
        "colab": {
          "base_uri": "https://localhost:8080/"
        },
        "id": "YvlVqDczZk-S",
        "outputId": "c450349e-66b4-462b-fbd1-f6fa1eaa686c"
      },
      "execution_count": 26,
      "outputs": [
        {
          "output_type": "stream",
          "name": "stdout",
          "text": [
            "['빨강', '갈색', '고동', '주황', '분홍', '분홍', '분홍', '파랑', '노랑', '검정', '보라', '보라', '주황', '보라', '보라']\n",
            "['빨강', '갈', '색', '주황', '분홍', '분홍', '분홍', '파랑', '노랑', '검정', '보라', '보라', '주황', '보라', '보라']\n",
            "['빨강', '갈색', '고동', '주황', '분홍', '분홍', '분홍', '파랑', '노랑', '검정', '보라', '보라', '주황', '보라', '보라']\n",
            "['빨강', '갈', '색', '분홍', '분홍', '분홍', '파랑', '노랑', '검정', '보라', '보라', '주황', '보라', '보라']\n"
          ]
        }
      ]
    },
    {
      "cell_type": "markdown",
      "source": [
        "#### 리스트의 요소 삭제"
      ],
      "metadata": {
        "id": "mpketvATbZSb"
      }
    },
    {
      "cell_type": "code",
      "source": [
        "colors = ['빨강', '초록', '파랑', '노랑', '검정', '노랑']\n",
        "# 맨 뒤에 있는 것 삭제(꺼내기)\n",
        "colors.pop()\n",
        "print(colors)\n",
        "\n",
        "# 요소값과 일치하는 것 삭제\n",
        "colors.remove('노랑')\n",
        "print(colors)\n",
        "\n",
        "# 전체 요소 삭제\n",
        "colors.clear()\n",
        "print(colors)"
      ],
      "metadata": {
        "colab": {
          "base_uri": "https://localhost:8080/"
        },
        "id": "Ww83ILwvbbg6",
        "outputId": "229d3398-4fc6-4cb2-e84b-10112f124308"
      },
      "execution_count": 33,
      "outputs": [
        {
          "output_type": "stream",
          "name": "stdout",
          "text": [
            "['빨강', '초록', '파랑', '노랑', '검정']\n",
            "['빨강', '초록', '파랑', '검정']\n",
            "[]\n"
          ]
        }
      ]
    },
    {
      "cell_type": "markdown",
      "source": [
        "#### 리스트 자체 삭제"
      ],
      "metadata": {
        "id": "xPUP9hrVcunn"
      }
    },
    {
      "cell_type": "code",
      "source": [
        "del(colors)\n",
        "print(colors)"
      ],
      "metadata": {
        "colab": {
          "base_uri": "https://localhost:8080/",
          "height": 166
        },
        "id": "oCmLfdYDcPbV",
        "outputId": "d8f83954-cef8-46f3-a1b4-2b83539648e4"
      },
      "execution_count": 36,
      "outputs": [
        {
          "output_type": "error",
          "ename": "NameError",
          "evalue": "name 'colors' is not defined",
          "traceback": [
            "\u001b[0;31m---------------------------------------------------------------------------\u001b[0m",
            "\u001b[0;31mNameError\u001b[0m                                 Traceback (most recent call last)",
            "\u001b[0;32m<ipython-input-36-90ee9471d91d>\u001b[0m in \u001b[0;36m<cell line: 1>\u001b[0;34m()\u001b[0m\n\u001b[0;32m----> 1\u001b[0;31m \u001b[0;32mdel\u001b[0m\u001b[0;34m(\u001b[0m\u001b[0mcolors\u001b[0m\u001b[0;34m)\u001b[0m\u001b[0;34m\u001b[0m\u001b[0;34m\u001b[0m\u001b[0m\n\u001b[0m\u001b[1;32m      2\u001b[0m \u001b[0mprint\u001b[0m\u001b[0;34m(\u001b[0m\u001b[0mcolors\u001b[0m\u001b[0;34m)\u001b[0m\u001b[0;34m\u001b[0m\u001b[0;34m\u001b[0m\u001b[0m\n",
            "\u001b[0;31mNameError\u001b[0m: name 'colors' is not defined"
          ]
        }
      ]
    },
    {
      "cell_type": "markdown",
      "source": [
        "#### 2차원/3차원... 리스트요소 접금"
      ],
      "metadata": {
        "id": "PIPYiWyPc5M9"
      }
    },
    {
      "cell_type": "code",
      "source": [
        "animals = ['사자', '호랑이', '곰',\n",
        "           ['고양이', '강아지', ['돌고래', '범고래'], '햄스터']]\n",
        "\n",
        "print(animals)\n",
        "print(animals[1])\n",
        "print(animals[3])\n",
        "print(animals[3][1])\n",
        "print(animals[3][2][1])\n",
        "print( len(animals) )"
      ],
      "metadata": {
        "colab": {
          "base_uri": "https://localhost:8080/"
        },
        "id": "cHHtGQzrc-7i",
        "outputId": "a3d68586-142f-4dad-fc48-708572345e57"
      },
      "execution_count": 46,
      "outputs": [
        {
          "output_type": "stream",
          "name": "stdout",
          "text": [
            "['사자', '호랑이', '곰', ['고양이', '강아지', ['돌고래', '범고래'], '햄스터']]\n",
            "호랑이\n",
            "['고양이', '강아지', ['돌고래', '범고래'], '햄스터']\n",
            "강아지\n",
            "범고래\n",
            "4\n"
          ]
        }
      ]
    },
    {
      "cell_type": "markdown",
      "source": [
        "#### 리스트 길이(요소의 개수)"
      ],
      "metadata": {
        "id": "7Gl2FFVSfYrx"
      }
    },
    {
      "cell_type": "code",
      "source": [
        "print(animals)\n",
        "print( len(animals) )\n",
        "print( len(animals[3]) )\n",
        "print( len(animals[3][2]) )"
      ],
      "metadata": {
        "colab": {
          "base_uri": "https://localhost:8080/"
        },
        "id": "ObA0XlPbfcF3",
        "outputId": "28849af6-bf29-4df5-caa3-0b3f7857a3e8"
      },
      "execution_count": 49,
      "outputs": [
        {
          "output_type": "stream",
          "name": "stdout",
          "text": [
            "['사자', '호랑이', '곰', ['고양이', '강아지', ['돌고래', '범고래'], '햄스터']]\n",
            "4\n",
            "4\n",
            "2\n"
          ]
        }
      ]
    },
    {
      "cell_type": "markdown",
      "source": [
        "#### 리스트 함수"
      ],
      "metadata": {
        "id": "aqmQCJulgDu2"
      }
    },
    {
      "cell_type": "code",
      "source": [
        "colors = ['빨강', '초록', '파랑', '노랑', '검정', '노랑']\n",
        "\n",
        "# 리스트 요소 정렬(가나다 순)\n",
        "print(colors)\n",
        "colors.sort()   # 순차 정렬(가다다 순)\n",
        "print(colors)\n",
        "\n",
        "colors.reverse()   # 역순 정렬\n",
        "print(colors)\n",
        "\n",
        "# 리스트의 특정 요소 위치 찾기\n",
        "print( colors.index('빨강') )\n",
        "print( colors.index('노랑') )    # 여러 개 있을 경우 맨 앞의 인덱스 나타내기\n",
        "\n",
        "# 요소 값 개수 세기\n",
        "print( f\"요소 값 개수세기 : {colors.count('노랑')}\" )\n",
        "\n",
        "# 리스트 정렬해서 새로운 이름을 저장해서 사용\n",
        "new = sorted(colors)\n",
        "print(new)"
      ],
      "metadata": {
        "colab": {
          "base_uri": "https://localhost:8080/"
        },
        "id": "umy4JuuEgJHI",
        "outputId": "9decf39d-e9be-4b29-c761-219285cdc0b6"
      },
      "execution_count": 58,
      "outputs": [
        {
          "output_type": "stream",
          "name": "stdout",
          "text": [
            "['빨강', '초록', '파랑', '노랑', '검정', '노랑']\n",
            "['검정', '노랑', '노랑', '빨강', '초록', '파랑']\n",
            "['파랑', '초록', '빨강', '노랑', '노랑', '검정']\n",
            "2\n",
            "3\n",
            "요소 값 개수세기 : 2\n",
            "['검정', '노랑', '노랑', '빨강', '초록', '파랑']\n"
          ]
        }
      ]
    },
    {
      "cell_type": "code",
      "source": [
        "colors = ['빨강', '초록', '파랑', '노랑', '검정', '노랑']\n",
        "newColors = ['red', 'green', 'blue']\n",
        "print(colors)\n",
        "print(newColors)\n",
        "colors.extend(newColors)\n",
        "print(colors)\n",
        "\n",
        "colors = ['빨강', '초록', '파랑', '노랑', '검정', '노랑']\n",
        "newColors = ['red', 'green', 'blue']\n",
        "colors += newColors\n",
        "print(colors)"
      ],
      "metadata": {
        "colab": {
          "base_uri": "https://localhost:8080/"
        },
        "id": "lYGb2_rqiBkW",
        "outputId": "8ef426c7-bfa9-490d-a954-34fbd39ded0e"
      },
      "execution_count": 62,
      "outputs": [
        {
          "output_type": "stream",
          "name": "stdout",
          "text": [
            "['빨강', '초록', '파랑', '노랑', '검정', '노랑']\n",
            "['red', 'green', 'blue']\n",
            "['빨강', '초록', '파랑', '노랑', '검정', '노랑', 'red', 'green', 'blue']\n",
            "['빨강', '초록', '파랑', '노랑', '검정', '노랑', 'red', 'green', 'blue']\n"
          ]
        }
      ]
    },
    {
      "cell_type": "markdown",
      "source": [
        "## 3-2. 딕셔너리(Dictionary)"
      ],
      "metadata": {
        "id": "hwnNOY_LnjCc"
      }
    },
    {
      "cell_type": "markdown",
      "source": [
        "### 딕셔너리 자료 생성"
      ],
      "metadata": {
        "id": "8O-BHznon5NS"
      }
    },
    {
      "cell_type": "code",
      "source": [
        "dic = dict()    # 빈 딕셔너리 생성\n",
        "dic = {}        # 빈 딕셔너리 생성\n",
        "print( type(dic) )"
      ],
      "metadata": {
        "colab": {
          "base_uri": "https://localhost:8080/"
        },
        "id": "FSb1xAhTtUji",
        "outputId": "1c3487c9-9b4b-475d-bc5d-e1e46df43c4d"
      },
      "execution_count": 65,
      "outputs": [
        {
          "output_type": "stream",
          "name": "stdout",
          "text": [
            "<class 'dict'>\n"
          ]
        }
      ]
    },
    {
      "cell_type": "code",
      "source": [
        "# 딕셔너리는 Key:Value 구조\n",
        "members = {1:'이승철', 2:'박정현', 'bts':['진', 'RM', '뷔', '지민']}\n",
        "print(members)\n",
        "print(members[2])    # 2는 Key이다.\n",
        "print(members['bts'])\n",
        "print(members['bts'][1])\n",
        "print( len(members) )"
      ],
      "metadata": {
        "colab": {
          "base_uri": "https://localhost:8080/"
        },
        "id": "3QScOYyxtq60",
        "outputId": "9b1a775a-6169-4de2-a4ed-78ee2d2863b4"
      },
      "execution_count": 71,
      "outputs": [
        {
          "output_type": "stream",
          "name": "stdout",
          "text": [
            "{1: '이승철', 2: '박정현', 'bts': ['진', 'RM', '뷔', '지민']}\n",
            "박정현\n",
            "['진', 'RM', '뷔', '지민']\n",
            "RM\n",
            "3\n"
          ]
        }
      ]
    },
    {
      "cell_type": "markdown",
      "source": [
        "### 딕셔너리에서 Value에 접근하기\n",
        "     - key를 통해서 Value에 접근할 수 있다."
      ],
      "metadata": {
        "id": "F2JriP_jv54X"
      }
    },
    {
      "cell_type": "code",
      "source": [
        "members = {1:'이승철', 2:'박정현', 'bts':['진', 'RM', '뷔', '지민']}\n",
        "for key in members:\n",
        "    print(f\"Key->{key}, Value->{members[key]}\")"
      ],
      "metadata": {
        "colab": {
          "base_uri": "https://localhost:8080/"
        },
        "id": "uDdXvKAivKKL",
        "outputId": "96300f3c-d30e-4f14-df11-27ba1957b1b7"
      },
      "execution_count": 74,
      "outputs": [
        {
          "output_type": "stream",
          "name": "stdout",
          "text": [
            "Key->1, Value->이승철\n",
            "Key->2, Value->박정현\n",
            "Key->bts, Value->['진', 'RM', '뷔', '지민']\n"
          ]
        }
      ]
    },
    {
      "cell_type": "markdown",
      "source": [
        "### 딕셔너리에서 자주 사용하는 함수"
      ],
      "metadata": {
        "id": "GRvZTaSJwG0z"
      }
    },
    {
      "cell_type": "code",
      "source": [
        "members = {1:'이승철', 2:'박정현', 'bts':['진', 'RM', '뷔', '지민']}\n",
        "print( members.keys() )      # key만 모아둔 것\n",
        "print( members.values() )    # value만 모아둔 것\n",
        "print( members.items() )     # (key, value) 쌍으로 튜플로 모아둔 것"
      ],
      "metadata": {
        "colab": {
          "base_uri": "https://localhost:8080/"
        },
        "id": "UdVMoa-nwMcP",
        "outputId": "89bf1b78-ca0d-4acf-b688-78791b688786"
      },
      "execution_count": 78,
      "outputs": [
        {
          "output_type": "stream",
          "name": "stdout",
          "text": [
            "dict_keys([1, 2, 'bts'])\n",
            "dict_values(['이승철', '박정현', ['진', 'RM', '뷔', '지민']])\n",
            "dict_items([(1, '이승철'), (2, '박정현'), ('bts', ['진', 'RM', '뷔', '지민'])])\n"
          ]
        }
      ]
    },
    {
      "cell_type": "code",
      "source": [
        "# for (key, value) in members.items():\n",
        "for key, value in members.items():\n",
        "    print( key, value)\n",
        "\n",
        "for key in members.keys():\n",
        "    print( key, members[key])\n",
        "\n",
        "for key in members:\n",
        "    print( key, members[key])"
      ],
      "metadata": {
        "colab": {
          "base_uri": "https://localhost:8080/"
        },
        "id": "kf5sZ-T6wtuX",
        "outputId": "1efc87ee-14be-4b5a-fd6f-238c5c7ff0f4"
      },
      "execution_count": 86,
      "outputs": [
        {
          "output_type": "stream",
          "name": "stdout",
          "text": [
            "1 이승철\n",
            "2 박정현\n",
            "bts ['진', 'RM', '뷔', '지민']\n",
            "1 이승철\n",
            "2 박정현\n",
            "bts ['진', 'RM', '뷔', '지민']\n",
            "1 이승철\n",
            "2 박정현\n",
            "bts ['진', 'RM', '뷔', '지민']\n"
          ]
        }
      ]
    },
    {
      "cell_type": "markdown",
      "source": [
        "### 딕셔너리에 요소 추가/수정/삭제"
      ],
      "metadata": {
        "id": "HISRp14zx8oo"
      }
    },
    {
      "cell_type": "code",
      "source": [
        "members = {1:'이승철', 2:'박정현', 'bts':['진', 'RM', '뷔', '지민']}\n",
        "print(members)\n",
        "\n",
        "# 요소추가\n",
        "members[3] = 'NCT Dream'    # 3은 key이다.\n",
        "members['소속사'] = ['하이브', 'SM기획']\n",
        "print(members)\n",
        "\n",
        "# 요소 수정\n",
        "members[1] = '세븐틴'\n",
        "print(members)\n",
        "\n",
        "# 요소 삭제\n",
        "del(members['소속사'])\n",
        "print(members)\n",
        "\n",
        "# 딕셔너리 삭제\n",
        "del(members)\n",
        "print(members)"
      ],
      "metadata": {
        "colab": {
          "base_uri": "https://localhost:8080/",
          "height": 257
        },
        "id": "VnqC1hvGyBmo",
        "outputId": "0e3f6184-1d51-4ebc-bcc1-8ddc37c7bd9b"
      },
      "execution_count": 93,
      "outputs": [
        {
          "output_type": "stream",
          "name": "stdout",
          "text": [
            "{1: '이승철', 2: '박정현', 'bts': ['진', 'RM', '뷔', '지민']}\n",
            "{1: '이승철', 2: '박정현', 'bts': ['진', 'RM', '뷔', '지민'], 3: 'NCT Dream', '소속사': ['하이브', 'SM기획']}\n",
            "{1: '세븐틴', 2: '박정현', 'bts': ['진', 'RM', '뷔', '지민'], 3: 'NCT Dream', '소속사': ['하이브', 'SM기획']}\n",
            "{1: '세븐틴', 2: '박정현', 'bts': ['진', 'RM', '뷔', '지민'], 3: 'NCT Dream'}\n"
          ]
        },
        {
          "output_type": "error",
          "ename": "NameError",
          "evalue": "name 'members' is not defined",
          "traceback": [
            "\u001b[0;31m---------------------------------------------------------------------------\u001b[0m",
            "\u001b[0;31mNameError\u001b[0m                                 Traceback (most recent call last)",
            "\u001b[0;32m<ipython-input-93-dad8f3c364a9>\u001b[0m in \u001b[0;36m<cell line: 18>\u001b[0;34m()\u001b[0m\n\u001b[1;32m     16\u001b[0m \u001b[0;34m\u001b[0m\u001b[0m\n\u001b[1;32m     17\u001b[0m \u001b[0;32mdel\u001b[0m\u001b[0;34m(\u001b[0m\u001b[0mmembers\u001b[0m\u001b[0;34m)\u001b[0m\u001b[0;34m\u001b[0m\u001b[0;34m\u001b[0m\u001b[0m\n\u001b[0;32m---> 18\u001b[0;31m \u001b[0mprint\u001b[0m\u001b[0;34m(\u001b[0m\u001b[0mmembers\u001b[0m\u001b[0;34m)\u001b[0m\u001b[0;34m\u001b[0m\u001b[0;34m\u001b[0m\u001b[0m\n\u001b[0m",
            "\u001b[0;31mNameError\u001b[0m: name 'members' is not defined"
          ]
        }
      ]
    },
    {
      "cell_type": "markdown",
      "source": [
        "## 3-3. 튜플(Tuple)"
      ],
      "metadata": {
        "id": "zTI9R8iMzaLf"
      }
    },
    {
      "cell_type": "markdown",
      "source": [
        "### 튜플생성"
      ],
      "metadata": {
        "id": "bSEGQ9FDziCh"
      }
    },
    {
      "cell_type": "code",
      "source": [
        "tup = tuple()   # 빈 튜플 생성\n",
        "tup = ()        # 빈 튜플 생성\n",
        "print(type(tup))\n",
        "\n",
        "a = [1,2,3,4]\n",
        "print(a)\n",
        "print( tuple(a) )   # 리스트를 튜플로 변환"
      ],
      "metadata": {
        "colab": {
          "base_uri": "https://localhost:8080/"
        },
        "id": "5KiwpKYUz7IH",
        "outputId": "0cf9addb-cae4-4ea7-9270-60014c651163"
      },
      "execution_count": 96,
      "outputs": [
        {
          "output_type": "stream",
          "name": "stdout",
          "text": [
            "<class 'tuple'>\n",
            "[1, 2, 3, 4]\n",
            "(1, 2, 3, 4)\n"
          ]
        }
      ]
    },
    {
      "cell_type": "code",
      "source": [
        "tup = ('사과')     # 요소가 하나일 경우, 괄호는 묶음의 의미로 해석\n",
        "print(type(tup))\n",
        "tup = ('사과',)    # 튜플에서 요소가 하나일 때는 반드시 맨 뒤에 \",\"(쉼표) 추가\n",
        "print(type(tup))"
      ],
      "metadata": {
        "colab": {
          "base_uri": "https://localhost:8080/"
        },
        "id": "ga_4X7Jw0fkD",
        "outputId": "8d1d0401-ba8c-44f4-91a6-ab303de5d6b2"
      },
      "execution_count": 99,
      "outputs": [
        {
          "output_type": "stream",
          "name": "stdout",
          "text": [
            "<class 'str'>\n",
            "<class 'tuple'>\n"
          ]
        }
      ]
    },
    {
      "cell_type": "code",
      "source": [
        "help(tuple)         # 튜플에서 사용할수 있는 함수 등 나옴"
      ],
      "metadata": {
        "colab": {
          "base_uri": "https://localhost:8080/"
        },
        "id": "lT-krK8R1CjK",
        "outputId": "69dbd3a5-d2c3-4d96-af18-f7242a1059f3"
      },
      "execution_count": 100,
      "outputs": [
        {
          "output_type": "stream",
          "name": "stdout",
          "text": [
            "Help on class tuple in module builtins:\n",
            "\n",
            "class tuple(object)\n",
            " |  tuple(iterable=(), /)\n",
            " |  \n",
            " |  Built-in immutable sequence.\n",
            " |  \n",
            " |  If no argument is given, the constructor returns an empty tuple.\n",
            " |  If iterable is specified the tuple is initialized from iterable's items.\n",
            " |  \n",
            " |  If the argument is a tuple, the return value is the same object.\n",
            " |  \n",
            " |  Built-in subclasses:\n",
            " |      asyncgen_hooks\n",
            " |      MonthDayNano\n",
            " |      UnraisableHookArgs\n",
            " |  \n",
            " |  Methods defined here:\n",
            " |  \n",
            " |  __add__(self, value, /)\n",
            " |      Return self+value.\n",
            " |  \n",
            " |  __contains__(self, key, /)\n",
            " |      Return key in self.\n",
            " |  \n",
            " |  __eq__(self, value, /)\n",
            " |      Return self==value.\n",
            " |  \n",
            " |  __ge__(self, value, /)\n",
            " |      Return self>=value.\n",
            " |  \n",
            " |  __getattribute__(self, name, /)\n",
            " |      Return getattr(self, name).\n",
            " |  \n",
            " |  __getitem__(self, key, /)\n",
            " |      Return self[key].\n",
            " |  \n",
            " |  __getnewargs__(self, /)\n",
            " |  \n",
            " |  __gt__(self, value, /)\n",
            " |      Return self>value.\n",
            " |  \n",
            " |  __hash__(self, /)\n",
            " |      Return hash(self).\n",
            " |  \n",
            " |  __iter__(self, /)\n",
            " |      Implement iter(self).\n",
            " |  \n",
            " |  __le__(self, value, /)\n",
            " |      Return self<=value.\n",
            " |  \n",
            " |  __len__(self, /)\n",
            " |      Return len(self).\n",
            " |  \n",
            " |  __lt__(self, value, /)\n",
            " |      Return self<value.\n",
            " |  \n",
            " |  __mul__(self, value, /)\n",
            " |      Return self*value.\n",
            " |  \n",
            " |  __ne__(self, value, /)\n",
            " |      Return self!=value.\n",
            " |  \n",
            " |  __repr__(self, /)\n",
            " |      Return repr(self).\n",
            " |  \n",
            " |  __rmul__(self, value, /)\n",
            " |      Return value*self.\n",
            " |  \n",
            " |  count(self, value, /)\n",
            " |      Return number of occurrences of value.\n",
            " |  \n",
            " |  index(self, value, start=0, stop=9223372036854775807, /)\n",
            " |      Return first index of value.\n",
            " |      \n",
            " |      Raises ValueError if the value is not present.\n",
            " |  \n",
            " |  ----------------------------------------------------------------------\n",
            " |  Class methods defined here:\n",
            " |  \n",
            " |  __class_getitem__(...) from builtins.type\n",
            " |      See PEP 585\n",
            " |  \n",
            " |  ----------------------------------------------------------------------\n",
            " |  Static methods defined here:\n",
            " |  \n",
            " |  __new__(*args, **kwargs) from builtins.type\n",
            " |      Create and return a new object.  See help(type) for accurate signature.\n",
            "\n"
          ]
        }
      ]
    },
    {
      "cell_type": "code",
      "source": [
        "help(list)   # 리스트에서 사용할수 있는 함수 등 나옴"
      ],
      "metadata": {
        "colab": {
          "base_uri": "https://localhost:8080/"
        },
        "id": "f8KVsDsb1uR_",
        "outputId": "d38f90cc-d3cf-4d5b-af08-dbbd26da83d9"
      },
      "execution_count": 101,
      "outputs": [
        {
          "output_type": "stream",
          "name": "stdout",
          "text": [
            "Help on class list in module builtins:\n",
            "\n",
            "class list(object)\n",
            " |  list(iterable=(), /)\n",
            " |  \n",
            " |  Built-in mutable sequence.\n",
            " |  \n",
            " |  If no argument is given, the constructor creates a new empty list.\n",
            " |  The argument must be an iterable if specified.\n",
            " |  \n",
            " |  Methods defined here:\n",
            " |  \n",
            " |  __add__(self, value, /)\n",
            " |      Return self+value.\n",
            " |  \n",
            " |  __contains__(self, key, /)\n",
            " |      Return key in self.\n",
            " |  \n",
            " |  __delitem__(self, key, /)\n",
            " |      Delete self[key].\n",
            " |  \n",
            " |  __eq__(self, value, /)\n",
            " |      Return self==value.\n",
            " |  \n",
            " |  __ge__(self, value, /)\n",
            " |      Return self>=value.\n",
            " |  \n",
            " |  __getattribute__(self, name, /)\n",
            " |      Return getattr(self, name).\n",
            " |  \n",
            " |  __getitem__(...)\n",
            " |      x.__getitem__(y) <==> x[y]\n",
            " |  \n",
            " |  __gt__(self, value, /)\n",
            " |      Return self>value.\n",
            " |  \n",
            " |  __iadd__(self, value, /)\n",
            " |      Implement self+=value.\n",
            " |  \n",
            " |  __imul__(self, value, /)\n",
            " |      Implement self*=value.\n",
            " |  \n",
            " |  __init__(self, /, *args, **kwargs)\n",
            " |      Initialize self.  See help(type(self)) for accurate signature.\n",
            " |  \n",
            " |  __iter__(self, /)\n",
            " |      Implement iter(self).\n",
            " |  \n",
            " |  __le__(self, value, /)\n",
            " |      Return self<=value.\n",
            " |  \n",
            " |  __len__(self, /)\n",
            " |      Return len(self).\n",
            " |  \n",
            " |  __lt__(self, value, /)\n",
            " |      Return self<value.\n",
            " |  \n",
            " |  __mul__(self, value, /)\n",
            " |      Return self*value.\n",
            " |  \n",
            " |  __ne__(self, value, /)\n",
            " |      Return self!=value.\n",
            " |  \n",
            " |  __repr__(self, /)\n",
            " |      Return repr(self).\n",
            " |  \n",
            " |  __reversed__(self, /)\n",
            " |      Return a reverse iterator over the list.\n",
            " |  \n",
            " |  __rmul__(self, value, /)\n",
            " |      Return value*self.\n",
            " |  \n",
            " |  __setitem__(self, key, value, /)\n",
            " |      Set self[key] to value.\n",
            " |  \n",
            " |  __sizeof__(self, /)\n",
            " |      Return the size of the list in memory, in bytes.\n",
            " |  \n",
            " |  append(self, object, /)\n",
            " |      Append object to the end of the list.\n",
            " |  \n",
            " |  clear(self, /)\n",
            " |      Remove all items from list.\n",
            " |  \n",
            " |  copy(self, /)\n",
            " |      Return a shallow copy of the list.\n",
            " |  \n",
            " |  count(self, value, /)\n",
            " |      Return number of occurrences of value.\n",
            " |  \n",
            " |  extend(self, iterable, /)\n",
            " |      Extend list by appending elements from the iterable.\n",
            " |  \n",
            " |  index(self, value, start=0, stop=9223372036854775807, /)\n",
            " |      Return first index of value.\n",
            " |      \n",
            " |      Raises ValueError if the value is not present.\n",
            " |  \n",
            " |  insert(self, index, object, /)\n",
            " |      Insert object before index.\n",
            " |  \n",
            " |  pop(self, index=-1, /)\n",
            " |      Remove and return item at index (default last).\n",
            " |      \n",
            " |      Raises IndexError if list is empty or index is out of range.\n",
            " |  \n",
            " |  remove(self, value, /)\n",
            " |      Remove first occurrence of value.\n",
            " |      \n",
            " |      Raises ValueError if the value is not present.\n",
            " |  \n",
            " |  reverse(self, /)\n",
            " |      Reverse *IN PLACE*.\n",
            " |  \n",
            " |  sort(self, /, *, key=None, reverse=False)\n",
            " |      Sort the list in ascending order and return None.\n",
            " |      \n",
            " |      The sort is in-place (i.e. the list itself is modified) and stable (i.e. the\n",
            " |      order of two equal elements is maintained).\n",
            " |      \n",
            " |      If a key function is given, apply it once to each list item and sort them,\n",
            " |      ascending or descending, according to their function values.\n",
            " |      \n",
            " |      The reverse flag can be set to sort in descending order.\n",
            " |  \n",
            " |  ----------------------------------------------------------------------\n",
            " |  Class methods defined here:\n",
            " |  \n",
            " |  __class_getitem__(...) from builtins.type\n",
            " |      See PEP 585\n",
            " |  \n",
            " |  ----------------------------------------------------------------------\n",
            " |  Static methods defined here:\n",
            " |  \n",
            " |  __new__(*args, **kwargs) from builtins.type\n",
            " |      Create and return a new object.  See help(type) for accurate signature.\n",
            " |  \n",
            " |  ----------------------------------------------------------------------\n",
            " |  Data and other attributes defined here:\n",
            " |  \n",
            " |  __hash__ = None\n",
            "\n"
          ]
        }
      ]
    },
    {
      "cell_type": "markdown",
      "source": [
        "### 튜플은 변수를 정의할 때/함수의 파라미터의 정의에 사용"
      ],
      "metadata": {
        "id": "EAy5xSjm2Ei9"
      }
    },
    {
      "cell_type": "code",
      "source": [
        "a, b = 100, 200\n",
        "a, b = 100, [1,2,3]\n",
        "print(a, b)\n",
        "print(a)\n",
        "print(b)\n"
      ],
      "metadata": {
        "colab": {
          "base_uri": "https://localhost:8080/"
        },
        "id": "19iGYRdM2Bxy",
        "outputId": "a6b5f749-3681-49c8-9dd8-51252e065add"
      },
      "execution_count": 105,
      "outputs": [
        {
          "output_type": "stream",
          "name": "stdout",
          "text": [
            "100 [1, 2, 3]\n",
            "100\n",
            "[1, 2, 3]\n"
          ]
        }
      ]
    },
    {
      "cell_type": "code",
      "source": [
        "def nSum(a, b):     # 이안의 변수들을 parameter라고 한다\n",
        "    return a + b\n",
        "\n",
        "nSum(100, 200)   # argument"
      ],
      "metadata": {
        "colab": {
          "base_uri": "https://localhost:8080/"
        },
        "id": "QhMaAqkn2mZv",
        "outputId": "d5665c55-a4ce-4b55-eb3e-6cb62445b505"
      },
      "execution_count": 106,
      "outputs": [
        {
          "output_type": "execute_result",
          "data": {
            "text/plain": [
              "300"
            ]
          },
          "metadata": {},
          "execution_count": 106
        }
      ]
    },
    {
      "cell_type": "markdown",
      "source": [
        "## 3-4. 집합(Set)"
      ],
      "metadata": {
        "id": "QbTgmzne6Aq_"
      }
    },
    {
      "cell_type": "markdown",
      "source": [
        "### 집합 생성"
      ],
      "metadata": {
        "id": "0Baw1Z_t6Vhw"
      }
    },
    {
      "cell_type": "code",
      "source": [
        "a = set()   # 빈 집합 생성\n",
        "print( type(a) )\n",
        "\n",
        "a = {1,2,3,4,2,2,4}   # unique한 데이터만 남는다.\n",
        "print(a)"
      ],
      "metadata": {
        "colab": {
          "base_uri": "https://localhost:8080/"
        },
        "id": "HOSItb036Y8q",
        "outputId": "6885e596-e994-416b-94ba-87d62f24b3aa"
      },
      "execution_count": 110,
      "outputs": [
        {
          "output_type": "stream",
          "name": "stdout",
          "text": [
            "<class 'set'>\n",
            "{1, 2, 3, 4}\n"
          ]
        }
      ]
    },
    {
      "cell_type": "markdown",
      "source": [
        "### 집합은 중복된 데이터는 배제한다.\n",
        "    - unique한 데이터만 남는다.\n",
        "    - 순서는 없다."
      ],
      "metadata": {
        "id": "biCcLVGx6wqP"
      }
    },
    {
      "cell_type": "code",
      "source": [
        "a = [1,2,3,4,5,6,7,2,2,3,5,6,7,5,2]\n",
        "print(a)\n",
        "a = list(set(a))\n",
        "print(a)"
      ],
      "metadata": {
        "colab": {
          "base_uri": "https://localhost:8080/"
        },
        "id": "Pnau0L9D64UY",
        "outputId": "a2546506-5142-41d0-c8c2-3d0858bc18df"
      },
      "execution_count": 111,
      "outputs": [
        {
          "output_type": "stream",
          "name": "stdout",
          "text": [
            "[1, 2, 3, 4, 5, 6, 7, 2, 2, 3, 5, 6, 7, 5, 2]\n",
            "[1, 2, 3, 4, 5, 6, 7]\n"
          ]
        }
      ]
    },
    {
      "cell_type": "markdown",
      "source": [
        "### 집합에 요소 추가/삭제"
      ],
      "metadata": {
        "id": "v3WHSFf07aKx"
      }
    },
    {
      "cell_type": "code",
      "source": [
        "S = {1,2,3,'a','b'}\n",
        "print(S)\n",
        "\n",
        "# 요소 1개 추가\n",
        "S.add(4)\n",
        "print(S)\n",
        "\n",
        "# 요소 여러 개 추가\n",
        "S.update(['c', 'd', 5])\n",
        "print(S)\n",
        "S.update('apple')    # 문자가 쪼개 들어가므로 보통 요소추가시에는 리스트형식으로 넣는다.\n",
        "print(S)\n",
        "\n",
        "# 요소 1개 삭제\n",
        "S.discard('a')\n",
        "print(S)\n",
        "S.discard('apple')   # 삭제시에는 추가시와 다르게 문자하나를 그 문자 그래도 인식하여 삭제한다.\n",
        "print(S)\n",
        "# S.discard(['p','l'])  # 여러개를 삭제할 수 없어서 error 나며, 그래서 요소는 보통 1개씩 삭제한다.\n",
        "# print(S)\n",
        "\n",
        "# 특정 요소 삭제\n",
        "S.remove(1)\n",
        "print(S)\n",
        "\n",
        "# 임의의 요소 1개 삭제\n",
        "S.pop()\n",
        "print(S)"
      ],
      "metadata": {
        "colab": {
          "base_uri": "https://localhost:8080/"
        },
        "id": "IgI9WJTB7iTS",
        "outputId": "0daab605-b46c-43f9-8a36-9457baf24b55"
      },
      "execution_count": 125,
      "outputs": [
        {
          "output_type": "stream",
          "name": "stdout",
          "text": [
            "{1, 2, 'b', 3, 'a'}\n",
            "{1, 2, 'b', 3, 4, 'a'}\n",
            "{1, 2, 'b', 3, 4, 5, 'd', 'c', 'a'}\n",
            "{1, 2, 'b', 3, 4, 5, 'p', 'l', 'd', 'e', 'c', 'a'}\n",
            "{1, 2, 'b', 3, 4, 5, 'p', 'l', 'd', 'e', 'c'}\n",
            "{1, 2, 'b', 3, 4, 5, 'p', 'l', 'd', 'e', 'c'}\n",
            "{2, 'b', 3, 4, 5, 'p', 'l', 'd', 'e', 'c'}\n",
            "{'b', 3, 4, 5, 'p', 'l', 'd', 'e', 'c'}\n"
          ]
        }
      ]
    },
    {
      "cell_type": "code",
      "source": [
        "# 집합 전체 삭제\n",
        "del(S)\n",
        "print(S)"
      ],
      "metadata": {
        "colab": {
          "base_uri": "https://localhost:8080/",
          "height": 166
        },
        "id": "7QfoiFdn-A8f",
        "outputId": "6a34d95c-806a-483e-c500-73e74450695f"
      },
      "execution_count": 126,
      "outputs": [
        {
          "output_type": "error",
          "ename": "NameError",
          "evalue": "name 'S' is not defined",
          "traceback": [
            "\u001b[0;31m---------------------------------------------------------------------------\u001b[0m",
            "\u001b[0;31mNameError\u001b[0m                                 Traceback (most recent call last)",
            "\u001b[0;32m<ipython-input-126-59287c1ae037>\u001b[0m in \u001b[0;36m<cell line: 2>\u001b[0;34m()\u001b[0m\n\u001b[1;32m      1\u001b[0m \u001b[0;32mdel\u001b[0m\u001b[0;34m(\u001b[0m\u001b[0mS\u001b[0m\u001b[0;34m)\u001b[0m\u001b[0;34m\u001b[0m\u001b[0;34m\u001b[0m\u001b[0m\n\u001b[0;32m----> 2\u001b[0;31m \u001b[0mprint\u001b[0m\u001b[0;34m(\u001b[0m\u001b[0mS\u001b[0m\u001b[0;34m)\u001b[0m\u001b[0;34m\u001b[0m\u001b[0;34m\u001b[0m\u001b[0m\n\u001b[0m",
            "\u001b[0;31mNameError\u001b[0m: name 'S' is not defined"
          ]
        }
      ]
    },
    {
      "cell_type": "markdown",
      "source": [
        "### 교집합/합집합/차집합"
      ],
      "metadata": {
        "id": "bVniGYDb-kxg"
      }
    },
    {
      "cell_type": "code",
      "source": [
        "from os import SF_MNOWAIT\n",
        "S1 = {1,2,3,4,5}\n",
        "S2 = {3,4,5,6,7}\n",
        "print(S1)\n",
        "print(S2)\n",
        "\n",
        "#교집합 : &    /     intersection\n",
        "print( S1 & S2 )\n",
        "print( S1.intersection(S2) )\n",
        "\n",
        "#합집합 : |   /      union\n",
        "print( S1 | S2 )\n",
        "print( S1.union(S2) )\n",
        "\n",
        "#차집합 : -    /    difference\n",
        "print( S1 - S2 )\n",
        "print( S1.difference(S2) )\n",
        "print( S2 - S1 )\n",
        "print( S2.difference(S1) )\n",
        "\n"
      ],
      "metadata": {
        "colab": {
          "base_uri": "https://localhost:8080/",
          "height": 404
        },
        "id": "TpI1w1Ci-o2h",
        "outputId": "0e976a22-4567-4aed-807e-a3dc3dabe671"
      },
      "execution_count": 134,
      "outputs": [
        {
          "output_type": "error",
          "ename": "ImportError",
          "evalue": "cannot import name 'SF_MNOWAIT' from 'os' (/usr/lib/python3.10/os.py)",
          "traceback": [
            "\u001b[0;31m---------------------------------------------------------------------------\u001b[0m",
            "\u001b[0;31mImportError\u001b[0m                               Traceback (most recent call last)",
            "\u001b[0;32m<ipython-input-134-66fb6ec25020>\u001b[0m in \u001b[0;36m<cell line: 1>\u001b[0;34m()\u001b[0m\n\u001b[0;32m----> 1\u001b[0;31m \u001b[0;32mfrom\u001b[0m \u001b[0mos\u001b[0m \u001b[0;32mimport\u001b[0m \u001b[0mSF_MNOWAIT\u001b[0m\u001b[0;34m\u001b[0m\u001b[0;34m\u001b[0m\u001b[0m\n\u001b[0m\u001b[1;32m      2\u001b[0m \u001b[0mS1\u001b[0m \u001b[0;34m=\u001b[0m \u001b[0;34m{\u001b[0m\u001b[0;36m1\u001b[0m\u001b[0;34m,\u001b[0m\u001b[0;36m2\u001b[0m\u001b[0;34m,\u001b[0m\u001b[0;36m3\u001b[0m\u001b[0;34m,\u001b[0m\u001b[0;36m4\u001b[0m\u001b[0;34m,\u001b[0m\u001b[0;36m5\u001b[0m\u001b[0;34m}\u001b[0m\u001b[0;34m\u001b[0m\u001b[0;34m\u001b[0m\u001b[0m\n\u001b[1;32m      3\u001b[0m \u001b[0mS2\u001b[0m \u001b[0;34m=\u001b[0m \u001b[0;34m{\u001b[0m\u001b[0;36m3\u001b[0m\u001b[0;34m,\u001b[0m\u001b[0;36m4\u001b[0m\u001b[0;34m,\u001b[0m\u001b[0;36m5\u001b[0m\u001b[0;34m,\u001b[0m\u001b[0;36m6\u001b[0m\u001b[0;34m,\u001b[0m\u001b[0;36m7\u001b[0m\u001b[0;34m}\u001b[0m\u001b[0;34m\u001b[0m\u001b[0;34m\u001b[0m\u001b[0m\n\u001b[1;32m      4\u001b[0m \u001b[0mprint\u001b[0m\u001b[0;34m(\u001b[0m\u001b[0mS1\u001b[0m\u001b[0;34m)\u001b[0m\u001b[0;34m\u001b[0m\u001b[0;34m\u001b[0m\u001b[0m\n\u001b[1;32m      5\u001b[0m \u001b[0mprint\u001b[0m\u001b[0;34m(\u001b[0m\u001b[0mS2\u001b[0m\u001b[0;34m)\u001b[0m\u001b[0;34m\u001b[0m\u001b[0;34m\u001b[0m\u001b[0m\n",
            "\u001b[0;31mImportError\u001b[0m: cannot import name 'SF_MNOWAIT' from 'os' (/usr/lib/python3.10/os.py)",
            "",
            "\u001b[0;31m---------------------------------------------------------------------------\u001b[0;32m\nNOTE: If your import is failing due to a missing package, you can\nmanually install dependencies using either !pip or !apt.\n\nTo view examples of installing some common dependencies, click the\n\"Open Examples\" button below.\n\u001b[0;31m---------------------------------------------------------------------------\u001b[0m\n"
          ],
          "errorDetails": {
            "actions": [
              {
                "action": "open_url",
                "actionText": "Open Examples",
                "url": "/notebooks/snippets/importing_libraries.ipynb"
              }
            ]
          }
        }
      ]
    },
    {
      "cell_type": "code",
      "source": [
        "# 세 개 이상 집합에서 사용\n",
        "# A.intersection_update(B, C) --> 계산결과를 A로 변경\n",
        "S1 = {1,2,3,4,5}\n",
        "S2 = {3,4,5,6,7}\n",
        "print(S1)\n",
        "print(S2)\n",
        "S3 = {5,6,7}\n",
        "print(S3)\n",
        "S1.intersection_update(S2, S3)\n",
        "print( S1 )"
      ],
      "metadata": {
        "colab": {
          "base_uri": "https://localhost:8080/"
        },
        "id": "5LB9Vw84Bj_D",
        "outputId": "0c558d1b-fa50-42ff-85c5-87b6002b98c4"
      },
      "execution_count": 136,
      "outputs": [
        {
          "output_type": "stream",
          "name": "stdout",
          "text": [
            "{1, 2, 3, 4, 5}\n",
            "{3, 4, 5, 6, 7}\n",
            "{5, 6, 7}\n",
            "{5}\n"
          ]
        }
      ]
    }
  ]
}