{
  "nbformat": 4,
  "nbformat_minor": 0,
  "metadata": {
    "colab": {
      "provenance": [],
      "toc_visible": true,
      "authorship_tag": "ABX9TyOcANaFOo+ZvBZI/Fep3sXC",
      "include_colab_link": true
    },
    "kernelspec": {
      "name": "python3",
      "display_name": "Python 3"
    },
    "language_info": {
      "name": "python"
    }
  },
  "cells": [
    {
      "cell_type": "markdown",
      "metadata": {
        "id": "view-in-github",
        "colab_type": "text"
      },
      "source": [
        "<a href=\"https://colab.research.google.com/github/Basicsj/dataAnalysis/blob/main/4%EC%9D%BC%EC%B0%A8_%ED%8C%8C%EC%9D%B4%EC%8D%AC%EA%B8%B0%EC%B4%88_%EC%A1%B0%EA%B1%B4%EB%AC%B8.ipynb\" target=\"_parent\"><img src=\"https://colab.research.google.com/assets/colab-badge.svg\" alt=\"Open In Colab\"/></a>"
      ]
    },
    {
      "cell_type": "markdown",
      "source": [
        "# 4.파이썬 조건문"
      ],
      "metadata": {
        "id": "DuK-DIKPch9I"
      }
    },
    {
      "cell_type": "markdown",
      "source": [
        "\n",
        "## 4-1. if조건문(if만 사용)"
      ],
      "metadata": {
        "id": "jhLiWWphcpbR"
      }
    },
    {
      "cell_type": "code",
      "source": [
        "a = 99\n",
        "if a < 100:  # 만일 a가 100보다 작으면\n",
        "  print(f\"{a}는 100보다 작군요.\")"
      ],
      "metadata": {
        "colab": {
          "base_uri": "https://localhost:8080/",
          "height": 0
        },
        "id": "90RrwZMEdN99",
        "outputId": "a41c55ff-bdb2-428c-82d2-7a2128476a8e"
      },
      "execution_count": 6,
      "outputs": [
        {
          "output_type": "stream",
          "name": "stdout",
          "text": [
            "99는 100보다 작군요.\n"
          ]
        }
      ]
    },
    {
      "cell_type": "markdown",
      "source": [
        "##4-2. if ~ else ~ 조건문"
      ],
      "metadata": {
        "id": "IaMO0F5icw8Q"
      }
    },
    {
      "cell_type": "code",
      "source": [
        "a = int( input(\"숫자를 입력하세요: \") )\n",
        "if a < 100:  # 만일 a가 100보다 작으면(참이라면, true)\n",
        "  print(f\"{a}는 100보다 작군요.\")\n",
        "else:  # 그렇지 않다면(거짓이라면, false)\n",
        "  print(f\"{a}는 100보다 작지 않군요.\")"
      ],
      "metadata": {
        "colab": {
          "base_uri": "https://localhost:8080/",
          "height": 0
        },
        "id": "mYTkBNQbdn3Y",
        "outputId": "cdbd9784-7ca1-4cea-d2dc-9f746b6ab1cd"
      },
      "execution_count": 5,
      "outputs": [
        {
          "output_type": "stream",
          "name": "stdout",
          "text": [
            "숫자를 입력하세요: 30\n",
            "30는 100보다 작군요\n"
          ]
        }
      ]
    },
    {
      "cell_type": "markdown",
      "source": [
        "##4-3. 중첩 if조건문(if문 안에 if문)"
      ],
      "metadata": {
        "id": "tTugfQ_7c284"
      }
    },
    {
      "cell_type": "code",
      "execution_count": 9,
      "metadata": {
        "colab": {
          "base_uri": "https://localhost:8080/",
          "height": 0
        },
        "id": "_wQuF4EBaWN_",
        "outputId": "96c8c135-5811-46ed-9df0-cf52000d7b72"
      },
      "outputs": [
        {
          "output_type": "stream",
          "name": "stdout",
          "text": [
            "숫자를 입력하세요: 100\n",
            "100는 100과 같군요.\n"
          ]
        }
      ],
      "source": [
        "a = int( input(\"숫자를 입력하세요: \") )\n",
        "if a < 100:\n",
        "    if a < 50:\n",
        "        print(f\"{a}는 50보다 작군요.\")\n",
        "    else:   # 50 <= a < 100\n",
        "        print(f\"{a}는 50보다 크거나 같고 100보다 작군요.\")\n",
        "else:\n",
        "    if a ==100:\n",
        "        print(f\"{a}는 100과 같군요.\")\n",
        "    else:\n",
        "        print(f\"{a}는 100보다 작지 않군요.\")"
      ]
    },
    {
      "cell_type": "markdown",
      "source": [
        "### [실습문제] 짝수/홀수 판별하기"
      ],
      "metadata": {
        "id": "02wZNLeJgKmS"
      }
    },
    {
      "cell_type": "code",
      "source": [
        "x = int(input('숫자를 입력해 주세요: '))\n",
        "if x % 2 == 0:\n",
        "    print(f\"입력된 : {x} ==> 짝수\")\n",
        "else:\n",
        "    print(f\"입력된 : {x} ==> 홀수\")"
      ],
      "metadata": {
        "colab": {
          "base_uri": "https://localhost:8080/",
          "height": 0
        },
        "id": "upsk4v0kgRl7",
        "outputId": "c18c54af-82f1-40d8-9865-8fa4f17f687e"
      },
      "execution_count": 12,
      "outputs": [
        {
          "output_type": "stream",
          "name": "stdout",
          "text": [
            "숫자를 입력해 주세: 44\n",
            "입력된  : 44 ==> 짝수\n"
          ]
        }
      ]
    },
    {
      "cell_type": "code",
      "source": [
        "x = int(input('숫자를 입력해 주세요: '))  # 조금짧게 표현한 방법\n",
        "if x % 2 == 0: print(f\"입력된 : {x} ==> 짝수\")\n",
        "else:          print(f\"입력된 : {x} ==> 홀수\")"
      ],
      "metadata": {
        "colab": {
          "base_uri": "https://localhost:8080/",
          "height": 0
        },
        "id": "NQqCm7R1hRJ9",
        "outputId": "d96f3ebd-687b-451b-f0be-82d64f034591"
      },
      "execution_count": 14,
      "outputs": [
        {
          "output_type": "stream",
          "name": "stdout",
          "text": [
            "숫자를 입력해 주세요: 43\n",
            "입력된 : 43 ==> 홀수\n"
          ]
        }
      ]
    },
    {
      "cell_type": "code",
      "source": [
        "x = int(input('숫자를 입력해 주세요: '))\n",
        "print(f\"입력된 : {x} ==> 짝수\") if x%2==0 else print(f\"입력된 : {x} ==> 홀수\")  # 한줄표현시, 참은 앞에 거짓은 뒤에"
      ],
      "metadata": {
        "colab": {
          "base_uri": "https://localhost:8080/",
          "height": 0
        },
        "id": "7_Gb16qkhbkX",
        "outputId": "817b257e-19cf-422a-baec-ec52eb8997fc"
      },
      "execution_count": 17,
      "outputs": [
        {
          "output_type": "stream",
          "name": "stdout",
          "text": [
            "숫자를 입력해 주세요: 43\n",
            "입력된 : 43 ==> 홀수\n"
          ]
        }
      ]
    },
    {
      "cell_type": "markdown",
      "source": [
        "### [실습문제] 가위/바위/보 게임"
      ],
      "metadata": {
        "id": "UVed6oBeiJ2R"
      }
    },
    {
      "cell_type": "code",
      "source": [
        "import random           # 난수(임의의 수) 발생 모듈 => 모듈은 import로 우선 불러온다\n",
        "# random.randint(1,10)    # randint 1(a) 부터 10(b) 사이의 임의의 정수 선택\n",
        "computer = random.choice(['가위', '바위', '보'])  # choice 는 컬렉션형태로 입력하면 그 중에 임의의로 선택\n",
        "my = input('가위/바위/보 중 하나 입력: ')\n",
        "print(f\"computer:{computer}, my:{my}\")"
      ],
      "metadata": {
        "colab": {
          "base_uri": "https://localhost:8080/",
          "height": 0
        },
        "id": "EY5XzxdriEGx",
        "outputId": "bb582823-3cb9-496c-a98f-2f17f95e5a79"
      },
      "execution_count": 27,
      "outputs": [
        {
          "output_type": "stream",
          "name": "stdout",
          "text": [
            "가위/바위/보 중 하나 입력: 가위\n",
            "computer:바위, my:가위\n"
          ]
        }
      ]
    },
    {
      "cell_type": "code",
      "source": [
        "import random\n",
        "print('가위/바위/보 게임을 시작합니다.')\n",
        "print('-'*30)\n",
        "computer = random.choice(['가위', '바위', '보'])\n",
        "print('컴퓨터는 정했습니!')\n",
        "my = input('가위/바위/보 중 하나 입력: ')\n",
        "print('-'*30, '게임 결과는?')\n",
        "print(f\"computer:{computer}, my:{my}\")\n",
        "\n",
        "# 결과 판단하기\n",
        "if computer == my:\n",
        "    print('서로 비겼습니다.')\n",
        "# 컴퓨터가 이긴 경우\n",
        "else:\n",
        "    if (computer == '가위' and my == '보') or \\\n",
        "        (computer == '바위' and my == '가위') or \\\n",
        "        (computer == '보' and my == '바위') :\n",
        "        print('컴퓨터가 이겼습니다.')\n",
        "    else:\n",
        "        print('내가 이겼습니다.')\n"
      ],
      "metadata": {
        "colab": {
          "base_uri": "https://localhost:8080/",
          "height": 0
        },
        "id": "fMk7Bl0ljn3o",
        "outputId": "e3158837-ba7c-4cec-96b7-2e8e1d3309ea"
      },
      "execution_count": 33,
      "outputs": [
        {
          "output_type": "stream",
          "name": "stdout",
          "text": [
            "가위/바위/보 게임을 시작합니다.\n",
            "------------------------------\n",
            "컴퓨터는 정했습니!\n",
            "가위/바위/보 중 하나 입력: 가위\n",
            "------------------------------ 게임 결과는?\n",
            "computer:보, my:가위\n",
            "내가 이겼습니다.\n"
          ]
        }
      ]
    },
    {
      "cell_type": "markdown",
      "source": [
        "###[실습문제] 직각삼각형 판별하기"
      ],
      "metadata": {
        "id": "Ntd_G9HUphW_"
      }
    },
    {
      "cell_type": "code",
      "source": [
        "a = int(input( '변 a의 길이: '))\n",
        "b = int(input( '변 b의 길이: '))\n",
        "c = int(input( '변 c의 길이: '))\n",
        "print('-'*30)\n",
        "if a**2 + b**2 == c**2: print('직각삼각형 입니다.')\n",
        "else: print('직각삼각형이 아닙니다')"
      ],
      "metadata": {
        "colab": {
          "base_uri": "https://localhost:8080/",
          "height": 0
        },
        "id": "qqfSwlNkpmeC",
        "outputId": "3c86b695-4a82-4c56-aa19-06adce150f7e"
      },
      "execution_count": 38,
      "outputs": [
        {
          "output_type": "stream",
          "name": "stdout",
          "text": [
            "변 a의 길: 4\n",
            "변 b의 길: 5\n",
            "변 c의 길: 6\n",
            "------------------------------\n",
            "직각삼각형이 아닙니다\n"
          ]
        }
      ]
    },
    {
      "cell_type": "code",
      "source": [
        "print('삼각형의 세 변의 길이를 입력 받습니다.')\n",
        "a = int(input( '  변 a의 길이: '))\n",
        "b = int(input( '  변 b의 길이: '))\n",
        "c = int(input( '빗변 c의 길이: '))\n",
        "print('-'*30)\n",
        "if a**2 + b**2 == c**2:\n",
        "    print('직각삼각형 입니다.')\n",
        "else:\n",
        "    print('직각삼각형이 아닙니다')"
      ],
      "metadata": {
        "colab": {
          "base_uri": "https://localhost:8080/",
          "height": 0
        },
        "id": "ouyIY8S_rGcM",
        "outputId": "92ef61cc-83b5-4a71-b09e-ffbbf34b351f"
      },
      "execution_count": 41,
      "outputs": [
        {
          "output_type": "stream",
          "name": "stdout",
          "text": [
            "삼각형의 세 변의 길이를 입력 받습니다.\n",
            "  변 a의 길이: 5\n",
            "  변 b의 길이: 4\n",
            "빗변 c의 길이: 4\n",
            "------------------------------\n",
            "직각삼각형이 아닙니다\n"
          ]
        }
      ]
    },
    {
      "cell_type": "markdown",
      "source": [
        "## 4-4. 다중 조건문\n",
        "        if~else~ if --> if~ elif~"
      ],
      "metadata": {
        "id": "A9aq8rjwwf_r"
      }
    },
    {
      "cell_type": "code",
      "source": [
        "# 나이별 학생 구분하기\n",
        "age = int(input('나이를 입력하세요'))\n",
        "if age < 8:\n",
        "    print('미취학 아동입니다.')\n",
        "elif age < 14:                    # else+if 를 줄여서 elif\n",
        "    print('초등학생 입니다.')\n",
        "elif age < 17:\n",
        "    print('중학생 입니다.')\n",
        "elif age < 20:\n",
        "    print('고등학생 입니다.')\n",
        "else:\n",
        "    print('성인입니다.')"
      ],
      "metadata": {
        "colab": {
          "base_uri": "https://localhost:8080/",
          "height": 0
        },
        "id": "ogWv0kgryYgW",
        "outputId": "6ac3a11e-eb85-424e-ca1a-48da84367a98"
      },
      "execution_count": 46,
      "outputs": [
        {
          "output_type": "stream",
          "name": "stdout",
          "text": [
            "나이를 입력하세요25\n",
            "성인입니다.\n"
          ]
        }
      ]
    },
    {
      "cell_type": "markdown",
      "source": [
        "## 4-5. 조건부 표현식"
      ],
      "metadata": {
        "id": "50BEZp71z18f"
      }
    },
    {
      "cell_type": "code",
      "source": [
        "score = int(input('점수를 입력하세요: '))\n",
        "if score >= 80:\n",
        "    message = 'Success'\n",
        "else:\n",
        "    message = 'Failure'\n",
        "print(f\"당신의 점수 {score}점은 시험에 {message} 하셨습니다.\")"
      ],
      "metadata": {
        "colab": {
          "base_uri": "https://localhost:8080/",
          "height": 0
        },
        "id": "ILoQcdR7z5ng",
        "outputId": "e85f1a92-4916-4caa-fd0e-d3a4a6152fc6"
      },
      "execution_count": 50,
      "outputs": [
        {
          "output_type": "stream",
          "name": "stdout",
          "text": [
            "점수를 입력하세요: 70\n",
            "당신의 점수70점은 시험에 Failure 하셨습니다.\n"
          ]
        }
      ]
    },
    {
      "cell_type": "code",
      "source": [
        "score = int(input('점수를 입력하세요: '))\n",
        "message = 'Success' if score>= 80 else 'Failure'\n",
        "print(f\"당신의 점수 {score}점은 시험에 {message} 하셨습니다.\")"
      ],
      "metadata": {
        "colab": {
          "base_uri": "https://localhost:8080/",
          "height": 0
        },
        "id": "ejTxDIVT0qZz",
        "outputId": "378ff526-a738-413f-a03b-50d0eeb982c5"
      },
      "execution_count": 53,
      "outputs": [
        {
          "output_type": "stream",
          "name": "stdout",
          "text": [
            "점수를 입력하세요: 70\n",
            "당신의 점수70점은 시험에 Failure 하셨습니다.\n"
          ]
        }
      ]
    },
    {
      "cell_type": "markdown",
      "source": [
        "### [실습문제] 일상생활의 상황을 조건문으로 표현하기"
      ],
      "metadata": {
        "id": "bSVIt8aP12mX"
      }
    },
    {
      "cell_type": "code",
      "source": [
        "\"\"\"기온 조건 상황\n",
        "- 온도가 30 이상 에어컨 켜기\n",
        "- 온도가 20 미만이면 내복 입기\n",
        "- 온도가 10 이하이면 난방기 켜기\n",
        "\"\"\"\n",
        "\n",
        "degree = int(input('온도를 입력해 주세요: '))\n",
        "\n",
        "if degree >= 30:\n",
        "    print('에어컨을 켜세요!')\n",
        "elif degree <= 10:\n",
        "    print('난방기를 켜세요.')\n",
        "elif degree < 20:\n",
        "    print('내복을 입으세요.')\n",
        "else:\n",
        "    print('쾌적한 기온입니다.')\n"
      ],
      "metadata": {
        "colab": {
          "base_uri": "https://localhost:8080/",
          "height": 0
        },
        "id": "VDSEjUq25U6C",
        "outputId": "20bb6b6d-8059-48f0-987b-64ea1ea70283"
      },
      "execution_count": 102,
      "outputs": [
        {
          "output_type": "stream",
          "name": "stdout",
          "text": [
            "온도를 입력해 주세요: 36\n",
            "에어컨을 켜세요!\n"
          ]
        }
      ]
    },
    {
      "cell_type": "code",
      "source": [
        "degree = int(input('온도를 입력해 주세요: '))\n",
        "\n",
        "if degree >= 30:\n",
        "    print('에어컨을 켜세요!')\n",
        "else:\n",
        "    if 20 <= degree < 30:\n",
        "        print('쾌적한 기온입니다.')\n",
        "    if degree < 20:\n",
        "        print('내복을 입으세요.')\n",
        "    if degree <= 10:\n",
        "        print('난방기를 켜세요.')"
      ],
      "metadata": {
        "colab": {
          "base_uri": "https://localhost:8080/",
          "height": 0
        },
        "id": "XGVl5cAW68s3",
        "outputId": "ecbc6ef3-1223-46c3-edb6-23fed80ac22a"
      },
      "execution_count": 113,
      "outputs": [
        {
          "output_type": "stream",
          "name": "stdout",
          "text": [
            "온도를 입력해 주세요: 8\n",
            "내복을 입으세요.\n",
            "난방기를 켜세요.\n"
          ]
        }
      ]
    },
    {
      "cell_type": "code",
      "source": [
        "temp = random.randint(0,60)\n",
        "if temp >=30:\n",
        "    print(f\"{temp}가 30도 이상으로 에어컨이 켜집니다.\")\n",
        "elif temp <=10:\n",
        "    print(f\"{temp}가 10도 이하로 난방기가 켜집니다.\")\n",
        "elif temp <20:\n",
        "    print(f\"{temp}가 20도 미만으로 내복을 입으세요.\")\n",
        "else:\n",
        "    print(f\"{temp}가 {temp}도로 쾌적한 날씨입니다.\")\n"
      ],
      "metadata": {
        "colab": {
          "base_uri": "https://localhost:8080/",
          "height": 0
        },
        "id": "AnFnj1RJ171l",
        "outputId": "8120acec-06dd-4e27-8c14-3d32fc19d1c0"
      },
      "execution_count": 109,
      "outputs": [
        {
          "output_type": "stream",
          "name": "stdout",
          "text": [
            "6가 10도 이하로 난방기가 켜집니다.\n"
          ]
        }
      ]
    },
    {
      "cell_type": "code",
      "source": [
        "# 요일을 입력받아서 뭐하는 날인지?\n",
        "\n",
        "day = input(\"오늘은 무슨요일 인가요?: \")\n",
        "if day == \"일요일\":\n",
        "  print(f\"{day}은 쉬는날 입니다!\")\n",
        "elif day == \"화요일\":\n",
        "  print(f\"{day}은 쓰레기 버리는 날입니다.\")\n",
        "elif day == \"수요일\":\n",
        "  print(f\"{day}은 맛있는걸 먹는 날 입니다.\")\n",
        "elif day == \"금요일\":\n",
        "  print(f\"{day}은 SQL을 공부하는 날입니다.\")\n",
        "else:\n",
        "  print(\"특별한 일은 없어도 오늘 하루도 화이팅!\")"
      ],
      "metadata": {
        "colab": {
          "base_uri": "https://localhost:8080/",
          "height": 0
        },
        "id": "j753C0YK4b8q",
        "outputId": "15c96d50-02fb-46ba-b95e-5daafcb1fe21"
      },
      "execution_count": 80,
      "outputs": [
        {
          "output_type": "stream",
          "name": "stdout",
          "text": [
            "오늘은 무슨요일 인가요?: 일요일\n",
            "일요일은 쉬는날 입니다!\n"
          ]
        }
      ]
    },
    {
      "cell_type": "code",
      "source": [
        "# 모닝 커피\n",
        "time = int(input('센터 갈 시간까지 남은 시간을 입력하세요'))\n",
        "print(f\"{time}분이 남았군요\")\n",
        "print('#'*30)\n",
        "if time < 30:\n",
        "    print('오늘 오전에는 커피 마실 시간이 없습니다.')\n",
        "elif time < 45:\n",
        "    print('센터 원두커피를 마셔야겠네요. \\n빈 텀블러와 1000원을 챙기세요')\n",
        "else:\n",
        "    print('시간이 여유있네요.집에서 커피를 내려서 마실 수 있습니다~')"
      ],
      "metadata": {
        "colab": {
          "base_uri": "https://localhost:8080/",
          "height": 0
        },
        "id": "SgXCnqln4zg8",
        "outputId": "e7d2c140-33c8-420d-ee58-9ccbc61b0655"
      },
      "execution_count": 82,
      "outputs": [
        {
          "output_type": "stream",
          "name": "stdout",
          "text": [
            "센터 갈 시간까지 남은 시간을 입력하세요30\n",
            "30분이 남았군요\n",
            "##############################\n",
            "센터 원두커피를 마셔야겠네요. \n",
            "빈 텀블러와 1000원을 챙기세요\n"
          ]
        }
      ]
    },
    {
      "cell_type": "markdown",
      "source": [
        "###[실습문제] 커피 주문 머신 만들기"
      ],
      "metadata": {
        "id": "2sH4Fo0z8kkp"
      }
    },
    {
      "cell_type": "code",
      "source": [
        "from gtts import gTTS\n",
        "from IPython.display import Audio  # 오디오로 읽어드리는 모듈\n",
        "import time\n",
        "\n",
        "def speaker(stmt):\n",
        "    kor_wav = gTTS(stmt, lang = 'ko')\n",
        "    kor_wav.save('kor.wav')    # 파일로만 생성되므로 아래의 display부분을 실행해줘야함\n",
        "    display(Audio('kor.wav', autoplay=True))\n",
        "\n",
        "menu = ''' [커피 주문 머신 메뉴]\n",
        "--------------------------------\n",
        "- 아메리카노: 2500원\n",
        "- 카페라테:   3000원\n",
        "- 카페모카:   3000원\n",
        "--------------------------------\n",
        "원하시는 커피종류와 잔수를 입력하세요.'''\n",
        "print(menu)\n",
        "speaker(menu)\n",
        "\n",
        "time.sleep(14)  # 14초 기다리기\n",
        "\n",
        "speaker('아메리카노 몇잔')\n",
        "coffee1 = int(input('아메리카노 몇잔: '))\n",
        "speaker('카페라테 몇잔')\n",
        "coffee2 = int(input('카페라테   몇잔: '))\n",
        "speaker('카페모카 몇잔')\n",
        "coffee3 = int(input('카페모카   몇잔: '))\n",
        "\n",
        "\n",
        "total = coffee1*2500 + coffee2*3000 + coffee3*3000\n",
        "print(f\"지불할 총 금액 {total:,}원 입니다.\")\n",
        "speaker(f\"지불할 총 금액 {total:,}원 입니다.\")\n",
        "money =int(input('돈을 넣어주세요: '))\n",
        "change = total-money  # 잔돈\n",
        "if total > money:\n",
        "    print(f\"입력한 금액이 부족합니다. {change:,}원을 넣어주세요.\")    # 숫자 , 찌는 법은 \":,\" 로 한다.\n",
        "else:\n",
        "    print(f\"거스름은 {abs(change):,}입니다. 커피 맛있게 드세요~\")\n"
      ],
      "metadata": {
        "colab": {
          "base_uri": "https://localhost:8080/",
          "height": 635
        },
        "id": "l0JXCO_O8pmw",
        "outputId": "3165e783-8558-4aa8-af58-11be421ffbad"
      },
      "execution_count": 133,
      "outputs": [
        {
          "output_type": "stream",
          "name": "stdout",
          "text": [
            " [커피 주문 머신 메뉴]\n",
            "--------------------------------\n",
            "- 아메리카노: 2500원\n",
            "- 카페라테:   3000원\n",
            "- 카페모카:   3000원\n",
            "--------------------------------\n",
            "원하시는 커피종류와 잔수를 입력하세요.\n"
          ]
        },
        {
          "output_type": "display_data",
          "data": {
            "text/plain": [
              "<IPython.lib.display.Audio object>"
            ],
            "text/html": [
              "\n",
              "                <audio  controls=\"controls\" autoplay=\"autoplay\">\n",
              "                    <source src=\"data:audio/x-wav;base64,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\" type=\"audio/x-wav\" />\n",
              "                    Your browser does not support the audio element.\n",
              "                </audio>\n",
              "              "
            ]
          },
          "metadata": {}
        },
        {
          "output_type": "display_data",
          "data": {
            "text/plain": [
              "<IPython.lib.display.Audio object>"
            ],
            "text/html": [
              "\n",
              "                <audio  controls=\"controls\" autoplay=\"autoplay\">\n",
              "                    <source src=\"data:audio/x-wav;base64,//NExAAQ8JYwABpGTACgbvFA3hC5+iB26gKgbFDAe6IiIXBECIfL1vyijhQEAfHg+Jz4IAgGBAD58Tg+DgIAgCAYE97RJdZ//nFOIQ+uU8+lAwD8IIjQTYacisVirwyM//NExA8ReJ5YAU9IAJSIn2d5HtFQxcKhORPeLpHiMQBjm0GJUxEMIpm2NICdZd5x9qz7SjpomJwICYgEr/ub/+Ur5dBkbmCrQyBJEHWh+mT7TqBxFMJmLl9VKh04OOS5//NExBwZmcKkAZiQAZm4AIAQEMeAx0B4AFoRc4mmAKAbCQYiwNYAVgWeLCrzNBFJZWIIWCiV2+tBM2JA3Ny4iQQpkT6+kicOGapPlBicMz5v/3Qu3mBk9WQ3yAFAil25//NExAgT0W7MAY94AKgeOa5WoaTURzHMX4nA/DQG+n2InhLh/C5mm70JPaK/Q4Y0al96ve98febZrqn8CmqYx5tUzLG3W/977+fq+/vG92hGvS/llSuFIah0pAWXnXSa//NExAsUmXLUAYx4AG6UegLkoDBLHY8ySnsPQZrM3jjOcSJdsj0NNEQYo1ErPE1bG621XdM71ffrJSeur0hTR/fcN/HrrGN6znGa7pjV9+Hdz+3ySsShpSowi2tDIp3L//NExAsUAWbAAc94AQnUevl4iBJVeIoBbQsL6ZQoMvpCDCAYg5CZLuMdUSSb3pJnM+r0tn2r72v8VretMQqwn+7V1S2cWz9zbgYzPHgYUVLSJ/umQM86RFKiY3gzByZI//NExA4UQWK0AMYMlbNlyOihb6hCXdeF2JeqtL4ypq3IcOlg3Zoc7HZNalVzK/jvmeu461sm5tN2+5MUaSBh5FGqtKi5mqWoUW6tONFM2tqUptGT2CTR/jth3ZC45Vjx//NExBAUwU6YANPGlKNLgw7OryHkYowlQkzpcZtpw/hZRNRUkmcnFjYXja+jxo1d3m1CtsNCFDhBpTFIGdAqjEtXv/rqUAiw4OsKu///+yiefIzOUPeFzzgCA4mh4Al8//NExBASKPqQANPScJF5JnwYTHH7ht8/fPolEzscRsx1DEY0yxAmcZg9acJqabXSYMFXiQq2jUSUXCT/SMaj///+UuSorcb4WanGBSEGhjTh2hqCg5HT8JJTQ+DgsrIm//NExBoSES6kANPScVqZKQ4barmRlVrlMkXDYoGwNidASHnwckSIF1pwGzCELk7SCs3f4Z6+wQWnb8PV5TuoPhHspwoKlsQCw0v3cWCcvI6EVW0bOZC5VnP919mJ+x0x//NExCQSiUq0ANMSlViJxwdDSqSxiQcFVDBlEKBGKAubHhJK1JSt/yd0lUdYUtKD1S3dKsrrPjnGD7DDkoIyn6NG6oJMaRjENayVzrZ/JyHH/1beS7SRSFB+03lHnOaT//NExCwSSTa8AMNYcCzS8350vf11+9bUrScjcoDIfBhQnCv//////yv1Vf+uDMTmL4kRLLMQdSEZ1YRUAueCn5HevwXfB9QLGKCm3sAMHhocxRR9o4NA8DAE+0SIZKWE//NExDURYVbAAMIQlJSbtEQe7D0vM//////+/6Kl/7AJmqGNpbg4tRwGJscewPOJHfhWuVv1HsbE3o7sZNZXAColzYiu0SqefPcdMmXbmNct/zfqzXNatfHtYG5KwiT1//NExEIPmUK4AMGYcYhyX+zYULHimVUqddoDCR4081/0QdzSIn3Ud2gahxm05wtOo9Jx5Y0BMVouVGCAMBA5Fw+o4UWnkFn8SAB3/8pV1XmxSOhFHhGdDnURgtbkKyt3//NExFYQyOqcAMoWcC11lvxROsxzZu1vpMuZ7Tj1xSH6lYByKdm/HZSOokLhoDEVSedEDF1G6IHXRH+Ud2W///////QquZcEUKFcC7dRidpU5qT5uKsslsmJ5ces21tQ//NExGUSSVKoANMSlHrMkpPLx8TwPQwp5MilBONtsxXerSMFSURgUKeVIkRGRTtGcJkB1NGFdpSxNJQyrZyNhTFz84fRge3sM11DGXwfXY+a7uojiJ5qaYfYGQMnyIAg//NExG4RMUqsANNSlYr6Zv+WbJw3sC/mXKy1HeCLtte7Vn+A1/////+l3/YqzamnscOjAoqVTUBGQBe6g5hAGs0RIgsPkLFbGtZizUb/jlmo/rWBcdPxGUB0CQfHoqJR//NExHwSMUqsAMrYlGt1m2plUsH1GnrS09tZt7S7+Pnga0/1nv/p/yrv/3/zNUrAMRAFFOGbhaJIQMyIdAwK4sVd11u2pUmChOPJuO+zTfK/qf//n1kTSICosCkPmJYS//NExIYU2UaQANpYcJqs3CrS01rEfxwVdEk1PF/F///0pR1HrG+/YGun+n/6vuyqJSIWUjMhI9W3KRlIoKAA0fUbAmbWKCzayypMN1Mu//+Sr2/fnY8tRURZIdQ7kiS3//NExIUVKapgANmQlKIlV5n9t87j4+xrOokwweBp7lJOuUGzZxTvsf0JnYtL/7f/rhgEHIPGJMySEy/GmyiQ4lj9iwcBBe9Fbk4mVwJHQuaAyg7oH0S+RMDYgxkBAMNm//NExIMU8T5EAVswAP3QuA0ALIGHChYuXv+2IBl8nyqOel//iUyXLhQMSDjIf+6HvLhFBNQsID3CeNSD////zA0KBUTLRfd0JU///6CF9/L5uXBZg4BWguAnxwJub125//NExIIf+yJgAZmgAD06nZiwC3HkcJogwo7KqmZunMxhzxWXS8gTTQ8JKEWHAViSg3R0YScJ+JaPAtPqSC8l83OrOjuL5HKFnTU9KinOtc+7IJLrWzuim71siglc8Sx8//NExFUfqtqkAY9oANDJlKcvHi8eMEGTnVqNNGt3/1qUiqvWrfpKa1fst1spf9ldzxdQ6TJYyoDaqYwpfAZDHHYch/Ja2kdicUey7I5iB6karXKn35g7Pj4JS+BFEPbo//NExCkXYXqUAdhgAHQMgIj7dRAcmP/Zlb62lsx/q26n/N7W75yvZM9M5sztd+ubj0YNCVzCQFg1//hzILYQ6G6qoZwgGiYZ/bAMBOLmgw5M40cSDxlIAAxhsRgaiuO8//NExB4YWWqoANPQlHHAYh6Gl8Xw+tH+IfR8X8+4OHmbv7Zhz0QY+L3IudQSB4SjL91CTkLvdEGJAorSfAuZE///+uUBBRACC2//n1UWijkVqzBIcB0lMNgo8mph0Fp///NExA8V+WawAMPMlMRnj1QPwucC5L3FcGjbRdH9k4lniIHizm+faFR3ytgt8lqUjXWjBp1XDKWRkIShFLad3h/O2VmF65aFFJmht3///RsIX///WhLG07pP4vQlHJg3//NExAoRyQKsAMvQcL2uIUyxiI4o7YQpmwinKiejWlZYSYRzc0nS9D0pywWiqlXnMsNszOvDMWDUPTDlaGg7KiJJYTB063////RVsNbBjAE9qFg4ZiAYaTbHlmBJSZCp//NExBURcQKMANvScIZ4/Ip7O/mf7YY8ZTMFGs4Hqux7pW6FqOtDPoV7hOJ1SwVT4i1xNz9tv///9Aqz/6GJM9EdYxzdhw6BNIfTzXmKmjPCFeD4AwGQkHagyiIuzkQy//NExCIRuQKYANPGcSs68XNHIy7W4BBAyixQxsIJhVwRYIoDiqCARAIhEfw/7B9I9yjt5iQnfWfCAomhqGx0YLMZY7QVLI48hOX5cwVgwl6AeD5IjXF5TGaTDwE2IX1C//NExC4RwTqoANYGcWV1IWahENRCkBuAsIV0JtyMmqIOIym0fyXGsoqcJk6seCooeMPMKgjKh3+0IAQNtniQM/EwClv5SjJA1LDLzcxmeeYfjO2TV8T5KjKhElhRpmqf//NExDoRgUKoANYKcBV0EhRQfQ9H////l/7UNLDr9boHXJa+prTze3B0EIqwUJPmILUEFp4vs9/dRHP93vleh9Gomx82rSjoiBQIRm10PMHhQgcnhR/////qMJoq3ls1//NExEcQ0T6oANYKcNGo7AqADMt1WQ6hNZrhnxCJkeCKCmsBbAJ8bx2JsUU8/q/+rZDUZqlkM4wEDtjOjNOWotiIeGg0v////sESGlmpfR5GNGdltcY2YlOJSV/hYsEe//NExFYRAUakANSKcKVUT9ubfgBnNrorZEaZiTNf+Ud/G16j2rVNobmH57KQLuRDT1bOf7ZtGGwUO/////acVDv/0U3lNjBTc4FuL1q4NWB1hVFwuUBhk0lSqHEc6mJT//NExGUR+UKgANYOcJGQrWRtbWVqmiSPGaP5Rz19z/d97UHc8tibBSSLP4sKgiM///+l2mMUkt/qVmV+YvlproXjQsMGIQWEJdIZCsKX07plMxoHgMRCMiWWFYViYEKE//NExHASQPKQANvMcMqPk82jUlSAkKDuY1MFCp2pepfd2fTY7/0FvuQsOpMXeOcYzCgkw5IM4NQMSGAERe5Q8iF4GEnbZlO+gxmfEjZFrpyf7viLe7pozXv7zi850FkG//NExHoRONZ8AOJGcANNlsfpkHFF6gwUAVDXJ859NYwoudGfRQwiCNFIwuJmxsIiBjHysw8CQcRUf9Ps+C7Q25d0WUq5J9kViuZGhnV8CAy7o+eUQt+KceAEgCfKceCk//NExIgRmPZ8ANvMcD/htzb0NQarEIZgwJEyj4qj6kmis1XjxsVrtbVCIaFeaD1jc4DysuZ7rcoVY3trl4qpLkSjXyCzYOODHB85EG9psMPS9al9mCj8wtaZ+0LAjHwx//NExJQhsWp8ANvelGmsAORMC48BL4CVVlxLE8fiWVaFuDKvJzbAroj9WNC8fjfc/iEHS5vgb48xKkyQk808n2NKzopkkL2xCIqkXKx7vYaVYVVhTwYqqXKuZkPVqaVy//NExGAhUVqMANPelCmVSTaeXDwff//+KnyJeWAFwJDBYNJMsbStwFChNLC6DQupM+TV2SBCQrdANjFR4WQDCAGVETJSUwpm8FCOmWwl6jSxceRnkB+0ZqiGfIHAHEIC//NExC0Y2UqkAMsSlKVURPoveYrAwsoiQaToguPGRkkZQTVmzPzk2qo5Eo0QEMWgTDAICAXv//+oRqBKKxjqqv//8srFmQkOND159tpCjM35VWPKqJZ1zqhp5+3xbzYc//NExBwVOVawAMPQlF4w9SSHIzCSLRRQ21YtEtEtneK0ej89VOLD4eGyR6q02+8dyywpFEFFi0hU4EAsFkf//dtaoR9CVeMzB3rBE1k6jbyqOF+kP0qmvT9sZHWRqzN2//NExBoSuVasAMJGlGUmpEONJAMJmgaUKw3JP6276aw1KCqhiWClirDX1vqWsbAcG4JPDRL//7fAOuCrZJa+VNRKlwgaYYoSu0HVMV2eoak2lFdhcYVa4yhZrVdtVmRE//NExCIRAJqMAMvSTEwhAlFqhEVGjDzqYweGyrj35GIj2lZ0S88Vq/ln9btR46sLhZpxeLpibBgwWJCTTWQQChDIGTjTUpT9S2iL9SoYBg6HS4lEoxmJQ0JQnoXPNqDV//NExDEP6J5YANpKTB9CPh2oNLrDd6v/1DzstQsjmiaxjdeYgCAUKAyUhizVnsPx6OuCRhkCihYx5DwlxywRklnLC9+Gxa6+/pcKkVHgKoWDa3nnrAocPAQaGUmULT55//NExEQR6QY8ANjGcKw5/1oGOTOWjrjC/UCqiCq0hQ5OcLMdyCCFEAu4qDJUWBBRp7W2l1vVhE+21fWXTnxZ0MRwxbJy9dH3E7TblvqKLXvY+XXMbehdEeoloEVPM/0W//NExE8RaF48ANJGKJLP1BeSPrI8MVr0maleHIMVx6pyp961bX7GdAoVkkY441qam9YgMObFD9NBMEUlk1sEAZIMmHio6ciAaByCCCxZBPbK6dStflOMz/fIAOirweD///NExFwRqJJIAMmGTP3x8Sx96v/v4/9Pne4l8RId8Zmfx7x8+HCc3mqUlV79XsmrwkMmjwHivZ2BkgIYhjaxJcfBwPHA/1GW9Hv046Y52xk/bEMiq9+r48ktYDx43ubA//NExGgiAxZkAJBeuaRUE/EzWk4hiGNaHuR1saHoeq38dOGgh62wHIaD1zyXC///////1n///xkseYgadMzO3/73y8HZWq9+FfdZsCOdbfkcDQQwo18cBILBUAQIhbXv//NExDMdWxqYABBYvQSB4SxDBublybgoWQQOS2OBbPiIvoZn/awnM5YPP2E84uAcWpkqEFBmkQhAEg9BNdiwlnZ+OC2New+nH9QfmEJ/ePX4/P////3//z/xXMd196Hi//NExBAUGwq0AAgQueMIGXBIweIMvMW4ofAlFyrQ1lJFUkSmjBHgTiL2KBYwO0qiSUc2C7VJFkUsVNVw+JURpUcJxFWFYeHsNcWprNqqxMMMWMv443yvXh/5L+hcefVI//NExBIVSe6wAU8QAJf/4xTXQiUU5xZCNK7qnX/6WR2b9O693PqgM4kpUfysyPugEDAUMaxUOQCcssJGgqvRaFRoaIwVThI8p4SH4oOutRVVVUjpYISie4YCz1VJYIsi//NExA8ViXq8AZh4AJ6uO79VPmCw6LvRX8el47KqYTyBEUbyMeTS3q0fDhHvrO71j7tChatalNXvu+/vGvbb62aY1e+Ym8SRXGLS1pWJtcINE830KstQGFOiEg6lcTfY//NExAsVUWq4Ac94ALIoiZBelxCQC+KI6I5e4sZZgqyi8/bXKyFPBZ4sheYjBPiH4N/NWJuTdoNLarE8mNz7vmD62xq9r7zms9YnhZu43bkDj7f///9Cav0HC9qhMfbS//NExAgTGXq4AMPMlT19QiPKiwQ5C/bgY/Lqhd0JjwVRCUkVWqtEj8P0WEvcBX2fYtG1imJdqKvznndhnRUTekct79f7jO2L0w5xw8WbSJG6tfulqZPaJt243OR5idOL//NExA4RIQa4AMPWcS9PAfkNBQsPPFLp4x8rl5htjsLMigNjooQMrH3PpGJa/uLY2eY7Zscq8MNZmamY600CAJYeLlXdAQOmmypyXWy2bjKLbd3sqg4UCwjG9zis27ow//NExBwQWW64AMPGleLwrpGaKW1x0ltYt4v9saPX1i5LxdeiTpdOl0vLLpbjBATcAHHKypTPXbVwCM1vGs9Y09sMqlfmsVI4Cy6oR8dXTPSt1mOgTKjk6+B79yXcaytR//NExC0R2YqkAMsKlNNtG2IYLFWTev3/Q1zDBZyjijmEJ3///0PDteM+G2CzzBRjXE29EIhkyhg8LlhyT8rq1ZU+T5pY4rHG3SNhStCslRiLnbeItjXbroW+DFARVoQH//NExDgREQ6MANPMcNBhqNOOfe2ukFRzptWUsqA7NhQjwEQxngcRqjAxWKUEpGFiYyGkYMsB+J1J+bUHSbeMrImsags33pq6nBzD4sSLyRsWegag0zBv/rIsIgotKZIM//NExEYRARKMANJScKUw5BuwBkhBEyIFzGIF8U5HFrznUxKAoOqxcvEo+ZW7+T2wLT2HoWYqR2alrNYZYSiQsVxMCgQygCAoN3///7VUyEFjlaqaKrsa6M7O6AEYkwQC//NExFURyY6IANMKlB8SJRBIeWPzes4K1LejQfIfHD21nplix2hIaul77WP/s6riRyoUUMHw6GGD44Pjxjnt///teSPYQZlNyIIJTYKqcW/CFKLYYJW87g8atVKtGqDQ//NExGAR6ZKEANMKlKxMsOoQmicm1GP2qXTYaap6ueWLQmrIGKJZaIc5AQgEDVr2///sRTyKDF3////6lchQ5HxAgJwUzCAvGlh4yICbsTD1JIeVG9HNpHuOrp6sHxKV//NExGsR0Y58ANJElLRvvVKvN51Xdqy5vpplGmVGQWZhIweAYOkO9f1/29JXMyyiy3W+VEUH4AKAUJxhDGBpBJRGsvMTAcpimUhB0XDgWYwOwaiAcpt3X8Kog26Mqs0N//NExHYR8ZZ4ANvKldVQ0ea7ENKKsgafT/2/PdSmHuOVGqLSzhwCgE/naDeBSkKC0yMXzKAZLsA4DKZKXQ9tpFHjwb2aBo71Zr/xyLQIGo0hmcvrqYVV9SgNAIUVdUn7//NExIEReYZsANoKleu712vxBYU/G1eVMADszUxzjSBpTCwLQeTRfZlsrcWUkMSVJoaGRLZx9sxyvcbtSjVRKp9OlD+6qsMswwVVKH1b7MfRL3unvals8cgGmy0JylPq//NExI4RWRJYAOGGcbtFrlbdn+kHMmcsd8xQM3RqTTYLlgSR58LA6l4qh+JVU/3W+aupK0APB1JYCkAqDQMD2JGhUVaIlkT3+NTQNLXhtwndCo0SKhqmaJsHqwKde+rj//NExJsTwUY8AOJGcKYXlXqeIgpAEThlmtTOel/K+H3IcKErFGEglISBOmDnIqM07JJbiiKY40NInXuNXrNBGli6J8KqWQa6su009SwJTaHaSduhD2l9imuK0rVRI0ID//NExJ8UgKYsAMmMTBAMJs96mybWhVUlqtZLsOs/rdZNkTcfMzkN49+FlD0Vo07jfobu1tb33281I52vpp5/2/76+3uq/zujHS31sb+3rP1v5f+01QZKu/6+QJoZtOrx//NExKAS6NIkAMDEcBx5nYSpjI6yK7pUZQif98O6GUrety3HOnkpVhjMjr3/0m/9Qaqi5z34mv9//5v2Y0bUu/+Ya7vin3diBmf3rWzhlZnVvQKBVv5KYOyojBFHiyjZ//NExKcSGGYYAMDGKWV+gwD5vxrGrbd66kax9+r7r7364zOlXr/b/+b//+Kn5f++2NkxZ1ez/V7odQZLXb+Resud9ioOiyOhaLYx7+klmdpmd2W5QwmLoasDGRQMCZaT//NExLEReJ4QAJjGTe8eOBAD4REw1DFZ0AkVMFpjQeUHr2d4kgKRaIGHtTIuCqlxEvpsykwAtkQ4N+yXQ8zjvDUrhHCb2PEAdERNKnCIcBo0AqLlSiAanAoMGniCR6g5//NExL4RKHYUAJCESW+1Qo51SqHfY4XhKty1s4VsxipcCoBUR0ZetWyytJmNVoUSUaqv//rqpezNV2FHSgUBURP1DwmE3KPBoSuWdKnQ7lRsFcRA0DQKhr8Gp4Sgq6Cp//NExMwReRoQAJiEcN+IXeWUHZY9rBVxGgbBKHQpGoaxQHY4FROmEigMQLBDHaTiyjzGdnZ5ZLLLLIrUEDBBwUrUEDBB5TTTTRVVVVTTTTRVVVVTTTTRVVVVb//7//00//NExNkRcLIUAJBGTNP0VX/lNNNNFVVVX//////1VVVMQU1FMy4xMDBVVVVVVVVVVVVVVVVVVVVVVVVVVVVVVVVVVVVVVVVVVVVVVVVVVVVVVVVVVVVVVVVVVVVVVVVV//NExOYS4OYAAGDGcFVVVVVVVVVVVVVVVVVVVVVVVVVVVVVVVVVVVVVVVVVVVVVVVVVVVVVVVVVVVVVVVVVVVVVVVVVVVVVVVVVVVVVVVVVVVVVVVVVVVVVVVVVVVVVV//NExO0WaP0IAGGGcVVVVVVVVVVVVVVVVVVVVVVVVVVVVVVVVVVVVVVVVVVVVVVVVVVVVVVVVVVVVVVVVVVVVVVVVVVVVVVVVVVVVVVVVVVVVVVVVVVVVVVVVVVVVVVV\" type=\"audio/x-wav\" />\n",
              "                    Your browser does not support the audio element.\n",
              "                </audio>\n",
              "              "
            ]
          },
          "metadata": {}
        },
        {
          "output_type": "error",
          "ename": "KeyboardInterrupt",
          "evalue": "Interrupted by user",
          "traceback": [
            "\u001b[0;31m---------------------------------------------------------------------------\u001b[0m",
            "\u001b[0;31mKeyboardInterrupt\u001b[0m                         Traceback (most recent call last)",
            "\u001b[0;32m<ipython-input-133-d0c60c4044f5>\u001b[0m in \u001b[0;36m<cell line: 22>\u001b[0;34m()\u001b[0m\n\u001b[1;32m     20\u001b[0m \u001b[0;34m\u001b[0m\u001b[0m\n\u001b[1;32m     21\u001b[0m \u001b[0mspeaker\u001b[0m\u001b[0;34m(\u001b[0m\u001b[0;34m'아메리카노 몇잔'\u001b[0m\u001b[0;34m)\u001b[0m\u001b[0;34m\u001b[0m\u001b[0;34m\u001b[0m\u001b[0m\n\u001b[0;32m---> 22\u001b[0;31m \u001b[0mcoffee1\u001b[0m \u001b[0;34m=\u001b[0m \u001b[0mint\u001b[0m\u001b[0;34m(\u001b[0m\u001b[0minput\u001b[0m\u001b[0;34m(\u001b[0m\u001b[0;34m'아메리카노 몇잔: '\u001b[0m\u001b[0;34m)\u001b[0m\u001b[0;34m)\u001b[0m\u001b[0;34m\u001b[0m\u001b[0;34m\u001b[0m\u001b[0m\n\u001b[0m\u001b[1;32m     23\u001b[0m \u001b[0mspeaker\u001b[0m\u001b[0;34m(\u001b[0m\u001b[0;34m'카페라테 몇잔'\u001b[0m\u001b[0;34m)\u001b[0m\u001b[0;34m\u001b[0m\u001b[0;34m\u001b[0m\u001b[0m\n\u001b[1;32m     24\u001b[0m \u001b[0mcoffee2\u001b[0m \u001b[0;34m=\u001b[0m \u001b[0mint\u001b[0m\u001b[0;34m(\u001b[0m\u001b[0minput\u001b[0m\u001b[0;34m(\u001b[0m\u001b[0;34m'카페라테   몇잔: '\u001b[0m\u001b[0;34m)\u001b[0m\u001b[0;34m)\u001b[0m\u001b[0;34m\u001b[0m\u001b[0;34m\u001b[0m\u001b[0m\n",
            "\u001b[0;32m/usr/local/lib/python3.10/dist-packages/ipykernel/kernelbase.py\u001b[0m in \u001b[0;36mraw_input\u001b[0;34m(self, prompt)\u001b[0m\n\u001b[1;32m    849\u001b[0m                 \u001b[0;34m\"raw_input was called, but this frontend does not support input requests.\"\u001b[0m\u001b[0;34m\u001b[0m\u001b[0;34m\u001b[0m\u001b[0m\n\u001b[1;32m    850\u001b[0m             )\n\u001b[0;32m--> 851\u001b[0;31m         return self._input_request(str(prompt),\n\u001b[0m\u001b[1;32m    852\u001b[0m             \u001b[0mself\u001b[0m\u001b[0;34m.\u001b[0m\u001b[0m_parent_ident\u001b[0m\u001b[0;34m,\u001b[0m\u001b[0;34m\u001b[0m\u001b[0;34m\u001b[0m\u001b[0m\n\u001b[1;32m    853\u001b[0m             \u001b[0mself\u001b[0m\u001b[0;34m.\u001b[0m\u001b[0m_parent_header\u001b[0m\u001b[0;34m,\u001b[0m\u001b[0;34m\u001b[0m\u001b[0;34m\u001b[0m\u001b[0m\n",
            "\u001b[0;32m/usr/local/lib/python3.10/dist-packages/ipykernel/kernelbase.py\u001b[0m in \u001b[0;36m_input_request\u001b[0;34m(self, prompt, ident, parent, password)\u001b[0m\n\u001b[1;32m    893\u001b[0m             \u001b[0;32mexcept\u001b[0m \u001b[0mKeyboardInterrupt\u001b[0m\u001b[0;34m:\u001b[0m\u001b[0;34m\u001b[0m\u001b[0;34m\u001b[0m\u001b[0m\n\u001b[1;32m    894\u001b[0m                 \u001b[0;31m# re-raise KeyboardInterrupt, to truncate traceback\u001b[0m\u001b[0;34m\u001b[0m\u001b[0;34m\u001b[0m\u001b[0m\n\u001b[0;32m--> 895\u001b[0;31m                 \u001b[0;32mraise\u001b[0m \u001b[0mKeyboardInterrupt\u001b[0m\u001b[0;34m(\u001b[0m\u001b[0;34m\"Interrupted by user\"\u001b[0m\u001b[0;34m)\u001b[0m \u001b[0;32mfrom\u001b[0m \u001b[0;32mNone\u001b[0m\u001b[0;34m\u001b[0m\u001b[0;34m\u001b[0m\u001b[0m\n\u001b[0m\u001b[1;32m    896\u001b[0m             \u001b[0;32mexcept\u001b[0m \u001b[0mException\u001b[0m \u001b[0;32mas\u001b[0m \u001b[0me\u001b[0m\u001b[0;34m:\u001b[0m\u001b[0;34m\u001b[0m\u001b[0;34m\u001b[0m\u001b[0m\n\u001b[1;32m    897\u001b[0m                 \u001b[0mself\u001b[0m\u001b[0;34m.\u001b[0m\u001b[0mlog\u001b[0m\u001b[0;34m.\u001b[0m\u001b[0mwarning\u001b[0m\u001b[0;34m(\u001b[0m\u001b[0;34m\"Invalid Message:\"\u001b[0m\u001b[0;34m,\u001b[0m \u001b[0mexc_info\u001b[0m\u001b[0;34m=\u001b[0m\u001b[0;32mTrue\u001b[0m\u001b[0;34m)\u001b[0m\u001b[0;34m\u001b[0m\u001b[0;34m\u001b[0m\u001b[0m\n",
            "\u001b[0;31mKeyboardInterrupt\u001b[0m: Interrupted by user"
          ]
        }
      ]
    },
    {
      "cell_type": "code",
      "source": [
        "# gTTS사용하여 소리 나오게 하기 - 선생님 코딩자료\n",
        "from gtts import gTTS\n",
        "from IPython.display import Audio\n",
        "\n",
        "def speaker(stmt):\n",
        "    kor_wav = gTTS(stmt, lang = 'ko')\n",
        "    kor_wav.save('kor.wav')\n",
        "    display(Audio('kor.wav', autoplay=True))\n",
        "\n",
        "menu = '''[커피 주문 머신 메뉴]\n",
        "-----------------------------\n",
        "- 아메리카노: 2500원\n",
        "- 카페라테:   3000원\n",
        "- 카페모카:   3000원\n",
        "-----------------------------\n",
        "원하시는 커피종류와 잔수를 입력하세요.'''\n",
        "print(menu)\n",
        "speaker(menu)\n",
        "\n",
        "\n",
        "speaker('아메리카노 몇잔')\n",
        "coffee1 = int(input('아메리카노 몇잔: '))\n",
        "speaker('카페라테   몇잔')\n",
        "coffee2 = int(input('카페라테   몇잔: '))\n",
        "speaker('카페모카   몇잔')\n",
        "coffee3 = int(input('카페모카   몇잔: '))\n",
        "\n",
        "total = 2500*coffee1 + 3000*coffee2 + 3000*coffee3\n",
        "print(f\"지불하실 총 금액은 {total:,}원 입니다.\")\n",
        "speaker(f\"지불하실 총 금액은 {total:,}원 입니다.\")\n",
        "money = int(input('돈을 넣어 주세요: '))\n",
        "\n",
        "change = total-money   # 거스름돈\n",
        "if total > money:\n",
        "    print(f\"돈이 부족합니다. {change:,}원을 더 넣어주세요.\")\n",
        "else:\n",
        "    print(f\"거스름돈은 {abs(change):,}입니다. 커피 맛있게 드세요~\")"
      ],
      "metadata": {
        "colab": {
          "base_uri": "https://localhost:8080/",
          "height": 635
        },
        "id": "YfLRlYf4EcZw",
        "outputId": "ac29579c-4bd0-4abb-fa98-a153c3a24239"
      },
      "execution_count": 130,
      "outputs": [
        {
          "output_type": "stream",
          "name": "stdout",
          "text": [
            "[커피 주문 머신 메뉴]\n",
            "-----------------------------\n",
            "- 아메리카노: 2500원\n",
            "- 카페라테:   3000원\n",
            "- 카페모카:   3000원\n",
            "-----------------------------\n",
            "원하시는 커피종류와 잔수를 입력하세요.\n"
          ]
        },
        {
          "output_type": "display_data",
          "data": {
            "text/plain": [
              "<IPython.lib.display.Audio object>"
            ],
            "text/html": [
              "\n",
              "                <audio  controls=\"controls\" autoplay=\"autoplay\">\n",
              "                    <source src=\"data:audio/x-wav;base64,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\" type=\"audio/x-wav\" />\n",
              "                    Your browser does not support the audio element.\n",
              "                </audio>\n",
              "              "
            ]
          },
          "metadata": {}
        },
        {
          "output_type": "display_data",
          "data": {
            "text/plain": [
              "<IPython.lib.display.Audio object>"
            ],
            "text/html": [
              "\n",
              "                <audio  controls=\"controls\" autoplay=\"autoplay\">\n",
              "                    <source src=\"data:audio/x-wav;base64,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\" type=\"audio/x-wav\" />\n",
              "                    Your browser does not support the audio element.\n",
              "                </audio>\n",
              "              "
            ]
          },
          "metadata": {}
        },
        {
          "output_type": "error",
          "ename": "KeyboardInterrupt",
          "evalue": "Interrupted by user",
          "traceback": [
            "\u001b[0;31m---------------------------------------------------------------------------\u001b[0m",
            "\u001b[0;31mKeyboardInterrupt\u001b[0m                         Traceback (most recent call last)",
            "\u001b[0;32m<ipython-input-130-26baf9cbc862>\u001b[0m in \u001b[0;36m<cell line: 21>\u001b[0;34m()\u001b[0m\n\u001b[1;32m     19\u001b[0m \u001b[0;34m\u001b[0m\u001b[0m\n\u001b[1;32m     20\u001b[0m \u001b[0mspeaker\u001b[0m\u001b[0;34m(\u001b[0m\u001b[0;34m'아메리카노 몇잔'\u001b[0m\u001b[0;34m)\u001b[0m\u001b[0;34m\u001b[0m\u001b[0;34m\u001b[0m\u001b[0m\n\u001b[0;32m---> 21\u001b[0;31m \u001b[0mcoffee1\u001b[0m \u001b[0;34m=\u001b[0m \u001b[0mint\u001b[0m\u001b[0;34m(\u001b[0m\u001b[0minput\u001b[0m\u001b[0;34m(\u001b[0m\u001b[0;34m'아메리카노 몇잔: '\u001b[0m\u001b[0;34m)\u001b[0m\u001b[0;34m)\u001b[0m\u001b[0;34m\u001b[0m\u001b[0;34m\u001b[0m\u001b[0m\n\u001b[0m\u001b[1;32m     22\u001b[0m \u001b[0mspeaker\u001b[0m\u001b[0;34m(\u001b[0m\u001b[0;34m'카페라테   몇잔'\u001b[0m\u001b[0;34m)\u001b[0m\u001b[0;34m\u001b[0m\u001b[0;34m\u001b[0m\u001b[0m\n\u001b[1;32m     23\u001b[0m \u001b[0mcoffee2\u001b[0m \u001b[0;34m=\u001b[0m \u001b[0mint\u001b[0m\u001b[0;34m(\u001b[0m\u001b[0minput\u001b[0m\u001b[0;34m(\u001b[0m\u001b[0;34m'카페라테   몇잔: '\u001b[0m\u001b[0;34m)\u001b[0m\u001b[0;34m)\u001b[0m\u001b[0;34m\u001b[0m\u001b[0;34m\u001b[0m\u001b[0m\n",
            "\u001b[0;32m/usr/local/lib/python3.10/dist-packages/ipykernel/kernelbase.py\u001b[0m in \u001b[0;36mraw_input\u001b[0;34m(self, prompt)\u001b[0m\n\u001b[1;32m    849\u001b[0m                 \u001b[0;34m\"raw_input was called, but this frontend does not support input requests.\"\u001b[0m\u001b[0;34m\u001b[0m\u001b[0;34m\u001b[0m\u001b[0m\n\u001b[1;32m    850\u001b[0m             )\n\u001b[0;32m--> 851\u001b[0;31m         return self._input_request(str(prompt),\n\u001b[0m\u001b[1;32m    852\u001b[0m             \u001b[0mself\u001b[0m\u001b[0;34m.\u001b[0m\u001b[0m_parent_ident\u001b[0m\u001b[0;34m,\u001b[0m\u001b[0;34m\u001b[0m\u001b[0;34m\u001b[0m\u001b[0m\n\u001b[1;32m    853\u001b[0m             \u001b[0mself\u001b[0m\u001b[0;34m.\u001b[0m\u001b[0m_parent_header\u001b[0m\u001b[0;34m,\u001b[0m\u001b[0;34m\u001b[0m\u001b[0;34m\u001b[0m\u001b[0m\n",
            "\u001b[0;32m/usr/local/lib/python3.10/dist-packages/ipykernel/kernelbase.py\u001b[0m in \u001b[0;36m_input_request\u001b[0;34m(self, prompt, ident, parent, password)\u001b[0m\n\u001b[1;32m    893\u001b[0m             \u001b[0;32mexcept\u001b[0m \u001b[0mKeyboardInterrupt\u001b[0m\u001b[0;34m:\u001b[0m\u001b[0;34m\u001b[0m\u001b[0;34m\u001b[0m\u001b[0m\n\u001b[1;32m    894\u001b[0m                 \u001b[0;31m# re-raise KeyboardInterrupt, to truncate traceback\u001b[0m\u001b[0;34m\u001b[0m\u001b[0;34m\u001b[0m\u001b[0m\n\u001b[0;32m--> 895\u001b[0;31m                 \u001b[0;32mraise\u001b[0m \u001b[0mKeyboardInterrupt\u001b[0m\u001b[0;34m(\u001b[0m\u001b[0;34m\"Interrupted by user\"\u001b[0m\u001b[0;34m)\u001b[0m \u001b[0;32mfrom\u001b[0m \u001b[0;32mNone\u001b[0m\u001b[0;34m\u001b[0m\u001b[0;34m\u001b[0m\u001b[0m\n\u001b[0m\u001b[1;32m    896\u001b[0m             \u001b[0;32mexcept\u001b[0m \u001b[0mException\u001b[0m \u001b[0;32mas\u001b[0m \u001b[0me\u001b[0m\u001b[0;34m:\u001b[0m\u001b[0;34m\u001b[0m\u001b[0;34m\u001b[0m\u001b[0m\n\u001b[1;32m    897\u001b[0m                 \u001b[0mself\u001b[0m\u001b[0;34m.\u001b[0m\u001b[0mlog\u001b[0m\u001b[0;34m.\u001b[0m\u001b[0mwarning\u001b[0m\u001b[0;34m(\u001b[0m\u001b[0;34m\"Invalid Message:\"\u001b[0m\u001b[0;34m,\u001b[0m \u001b[0mexc_info\u001b[0m\u001b[0;34m=\u001b[0m\u001b[0;32mTrue\u001b[0m\u001b[0;34m)\u001b[0m\u001b[0;34m\u001b[0m\u001b[0;34m\u001b[0m\u001b[0m\n",
            "\u001b[0;31mKeyboardInterrupt\u001b[0m: Interrupted by user"
          ]
        }
      ]
    },
    {
      "cell_type": "code",
      "source": [
        "!pip show gTTS"
      ],
      "metadata": {
        "colab": {
          "base_uri": "https://localhost:8080/"
        },
        "id": "WNYzSBxCA7kM",
        "outputId": "77c1b05a-20fe-45cd-bc68-0d69c36ed322"
      },
      "execution_count": 122,
      "outputs": [
        {
          "output_type": "stream",
          "name": "stdout",
          "text": [
            "\u001b[33mWARNING: Package(s) not found: gTTS\u001b[0m\u001b[33m\n",
            "\u001b[0m"
          ]
        }
      ]
    },
    {
      "cell_type": "code",
      "source": [
        "!pip install gTTS"
      ],
      "metadata": {
        "colab": {
          "base_uri": "https://localhost:8080/"
        },
        "id": "A_KtIlrzBJlO",
        "outputId": "bbcd89d4-dfa1-49d9-b688-0401f8b348dc"
      },
      "execution_count": 123,
      "outputs": [
        {
          "output_type": "stream",
          "name": "stdout",
          "text": [
            "Collecting gTTS\n",
            "  Downloading gTTS-2.5.1-py3-none-any.whl (29 kB)\n",
            "Requirement already satisfied: requests<3,>=2.27 in /usr/local/lib/python3.10/dist-packages (from gTTS) (2.31.0)\n",
            "Requirement already satisfied: click<8.2,>=7.1 in /usr/local/lib/python3.10/dist-packages (from gTTS) (8.1.7)\n",
            "Requirement already satisfied: charset-normalizer<4,>=2 in /usr/local/lib/python3.10/dist-packages (from requests<3,>=2.27->gTTS) (3.3.2)\n",
            "Requirement already satisfied: idna<4,>=2.5 in /usr/local/lib/python3.10/dist-packages (from requests<3,>=2.27->gTTS) (3.6)\n",
            "Requirement already satisfied: urllib3<3,>=1.21.1 in /usr/local/lib/python3.10/dist-packages (from requests<3,>=2.27->gTTS) (2.0.7)\n",
            "Requirement already satisfied: certifi>=2017.4.17 in /usr/local/lib/python3.10/dist-packages (from requests<3,>=2.27->gTTS) (2024.2.2)\n",
            "Installing collected packages: gTTS\n",
            "Successfully installed gTTS-2.5.1\n"
          ]
        }
      ]
    },
    {
      "cell_type": "markdown",
      "source": [
        "### [추가]windows에서 pywin32 모듈 이용하여 tts  기능 사용"
      ],
      "metadata": {
        "id": "f2nLtTb1FqqP"
      }
    },
    {
      "cell_type": "code",
      "source": [
        "# 윈도우 pc에서 설치해야 됨\n",
        "!pip install pywin32"
      ],
      "metadata": {
        "id": "LU3GXmOzF3JP"
      },
      "execution_count": null,
      "outputs": []
    },
    {
      "cell_type": "code",
      "source": [
        "# 윈도우 PC에서 사용해야함\n",
        "import win32com.client\n",
        "out = win32com.client"
      ],
      "metadata": {
        "id": "AKq016WYHNAd"
      },
      "execution_count": null,
      "outputs": []
    },
    {
      "cell_type": "markdown",
      "source": [
        "#"
      ],
      "metadata": {
        "id": "I91n5lwfGx2d"
      }
    },
    {
      "cell_type": "code",
      "source": [
        "import time\n",
        "for i in range(1, 11, 1):  # 뒤의 1은 생략가능 ( 1부터 10까자 1씩증가 )\n",
        "    time.sleep(1)    # 1초 기다리기\n",
        "    print(i)"
      ],
      "metadata": {
        "colab": {
          "base_uri": "https://localhost:8080/"
        },
        "id": "BaYipOiGIyP7",
        "outputId": "58a5ba9c-8563-402b-ff7b-6724550df99f"
      },
      "execution_count": 134,
      "outputs": [
        {
          "output_type": "stream",
          "name": "stdout",
          "text": [
            "1\n",
            "2\n",
            "3\n",
            "4\n",
            "5\n",
            "6\n",
            "7\n",
            "8\n",
            "9\n",
            "10\n"
          ]
        }
      ]
    }
  ]
}