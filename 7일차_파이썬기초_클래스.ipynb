{
  "nbformat": 4,
  "nbformat_minor": 0,
  "metadata": {
    "colab": {
      "provenance": [],
      "toc_visible": true,
      "authorship_tag": "ABX9TyPnyS23R2tbpkqiktnHyjzm",
      "include_colab_link": true
    },
    "kernelspec": {
      "name": "python3",
      "display_name": "Python 3"
    },
    "language_info": {
      "name": "python"
    }
  },
  "cells": [
    {
      "cell_type": "markdown",
      "metadata": {
        "id": "view-in-github",
        "colab_type": "text"
      },
      "source": [
        "<a href=\"https://colab.research.google.com/github/Basicsj/dataAnalysis/blob/main/7%EC%9D%BC%EC%B0%A8_%ED%8C%8C%EC%9D%B4%EC%8D%AC%EA%B8%B0%EC%B4%88_%ED%81%B4%EB%9E%98%EC%8A%A4.ipynb\" target=\"_parent\"><img src=\"https://colab.research.google.com/assets/colab-badge.svg\" alt=\"Open In Colab\"/></a>"
      ]
    },
    {
      "cell_type": "markdown",
      "source": [
        "# 8. 클래스"
      ],
      "metadata": {
        "id": "a7C0IDeW-bKf"
      }
    },
    {
      "cell_type": "markdown",
      "source": [
        "## 8-1. 클래스의 이해"
      ],
      "metadata": {
        "id": "-rrpyPRG-eC7"
      }
    },
    {
      "cell_type": "code",
      "execution_count": 2,
      "metadata": {
        "colab": {
          "base_uri": "https://localhost:8080/"
        },
        "id": "FZ5oHqv2-VWp",
        "outputId": "0ada0cde-e27e-4bca-aa9d-055e30725cee"
      },
      "outputs": [
        {
          "output_type": "stream",
          "name": "stdout",
          "text": [
            "<class 'list'>\n"
          ]
        }
      ],
      "source": [
        "data1 = list()    # 인스턴스(클래스를 불러와서 사용하는 경우)\n",
        "data2 = list()    # type()\n",
        "print(type(data1))\n",
        "# help(list)  #--xxx--- 매직매서드 : 이미 정해져있는 것\n",
        "\n",
        "data1.append(100) # 리스트에 사용할수 있는 method -> list class입장에서 보면\n",
        "data1.append(200) # 리스트에 사용할수 있는 method -> list class입장에서 보면\n"
      ]
    }
  ]
}