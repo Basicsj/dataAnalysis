{
  "nbformat": 4,
  "nbformat_minor": 0,
  "metadata": {
    "colab": {
      "provenance": [],
      "toc_visible": true,
      "authorship_tag": "ABX9TyOLPp3ernRyJAdTe6OY9BTe",
      "include_colab_link": true
    },
    "kernelspec": {
      "name": "python3",
      "display_name": "Python 3"
    },
    "language_info": {
      "name": "python"
    }
  },
  "cells": [
    {
      "cell_type": "markdown",
      "metadata": {
        "id": "view-in-github",
        "colab_type": "text"
      },
      "source": [
        "<a href=\"https://colab.research.google.com/github/Basicsj/dataAnalysis/blob/main/my_study_1.ipynb\" target=\"_parent\"><img src=\"https://colab.research.google.com/assets/colab-badge.svg\" alt=\"Open In Colab\"/></a>"
      ]
    },
    {
      "cell_type": "code",
      "execution_count": 4,
      "metadata": {
        "colab": {
          "base_uri": "https://localhost:8080/"
        },
        "id": "FpUtxdDiRLFH",
        "outputId": "f6503804-2004-4342-92b4-feb0dbee0ae7"
      },
      "outputs": [
        {
          "output_type": "stream",
          "name": "stdout",
          "text": [
            "숫자를 입력해 주세요: 1\n",
            "홀수입니다.\n"
          ]
        }
      ],
      "source": [
        "a = int(input('숫자를 입력해 주세요: '))\n",
        "\n",
        "if a % 2 == 0:\n",
        "    print(\"짝수입니다.\")\n",
        "else:\n",
        "    print(\"홀수입니다.\")"
      ]
    },
    {
      "cell_type": "code",
      "source": [
        "2**3 + 5**4 + 3**4"
      ],
      "metadata": {
        "colab": {
          "base_uri": "https://localhost:8080/"
        },
        "id": "EEo4016kdzJG",
        "outputId": "1c519203-1eac-4642-d0e4-27f5bc9efc17"
      },
      "execution_count": 5,
      "outputs": [
        {
          "output_type": "execute_result",
          "data": {
            "text/plain": [
              "714"
            ]
          },
          "metadata": {},
          "execution_count": 5
        }
      ]
    },
    {
      "cell_type": "code",
      "source": [
        "d1 = 123\n",
        "d2 = '123'\n",
        "d3 = [123]\n",
        "d4 = (123,)\n",
        "d5 = {'key':123}\n",
        "d6 = {123}\n",
        "d7 = True\n",
        "\n",
        "print(f'{d1}의 자료형: {type(d1)}')\n",
        "print(f'{d2}의 자료형: {type(d2)}')\n",
        "print(f'{d3}의 자료형: {type(d3)}')\n",
        "print(f'{d4}의 자료형: {type(d4)}')\n",
        "print(f'{d5}의 자료형: {type(d5)}')\n",
        "print(f'{d6}의 자료형: {type(d6)}')\n",
        "print(f'{d7}의 자료형: {type(d7)}')"
      ],
      "metadata": {
        "colab": {
          "base_uri": "https://localhost:8080/"
        },
        "id": "m1PY2YRpfnAl",
        "outputId": "b607970e-ff18-4f91-9586-422e2c358e23"
      },
      "execution_count": 7,
      "outputs": [
        {
          "output_type": "stream",
          "name": "stdout",
          "text": [
            "123의 자료형: <class 'int'>\n",
            "123의 자료형: <class 'str'>\n",
            "[123]의 자료형: <class 'list'>\n",
            "(123,)의 자료형: <class 'tuple'>\n",
            "{'key': 123}의 자료형: <class 'dict'>\n",
            "{123}의 자료형: <class 'set'>\n",
            "True의 자료형: <class 'bool'>\n"
          ]
        }
      ]
    },
    {
      "cell_type": "code",
      "source": [
        "a = input('키보드로 숫자를 입력해 주세요 ')\n",
        "print('변수 a에 기억된 값은 ', a , '입니다.')\n",
        "\n",
        "a = input('키보드로 숫자를 입력해 주세요 ')\n",
        "print('변수 a에 기억된 값은 %s 입니다.' %a)\n",
        "\n",
        "a = input('키보드로 숫자를 입력해 주세요 ')\n",
        "print(f'변수 a에 기억된 값은 {a} 입니다.')"
      ],
      "metadata": {
        "colab": {
          "base_uri": "https://localhost:8080/"
        },
        "id": "utQTwWeAgW0j",
        "outputId": "e5f79d69-d4e9-4686-b511-528c2c8d7f3a"
      },
      "execution_count": 9,
      "outputs": [
        {
          "output_type": "stream",
          "name": "stdout",
          "text": [
            "키보드로 숫자를 입력해 주세요 1\n",
            "변수 a에 기억된 값은  1 입니다.\n",
            "키보드로 숫자를 입력해 주세요 2\n",
            "변수 a에 기억된 값은 2 입니다.\n",
            "키보드로 숫자를 입력해 주세요 3\n",
            "변수 a에 기억된 값은 3 입니다.\n"
          ]
        }
      ]
    },
    {
      "cell_type": "code",
      "source": [
        "a = int(input('첫번째 숫자: '))\n",
        "b = int(input('두번째 숫자: '))\n",
        "\n",
        "print(f' 덧셈: {a} + {b} = {a+b}')\n",
        "print(f' 뺄셈: {a} - {b} = {a-b}')\n",
        "print(f' 곱셈: {a} * {b} = {a*b}')\n",
        "print(f' 몫: {a} // {b} = {a//b}')\n",
        "print(f' 나머지: {a} % {b} = {a%b}')"
      ],
      "metadata": {
        "colab": {
          "base_uri": "https://localhost:8080/"
        },
        "id": "VVUzmu2shIYd",
        "outputId": "8b678047-340d-471e-f292-b25382440116"
      },
      "execution_count": 10,
      "outputs": [
        {
          "output_type": "stream",
          "name": "stdout",
          "text": [
            "첫번째 숫자: 50\n",
            "두번째 숫자: 3\n",
            " 덧셈: 50 + 3 = 53\n",
            " 뺄셈: 50 - 3 = 47\n",
            " 곱셈: 50 * 3 = 150\n",
            " 몫: 50 // 3 = 16\n",
            " 나머지: 50 % 3 = 2\n"
          ]
        }
      ]
    },
    {
      "cell_type": "markdown",
      "source": [
        "교안 40page부터 공부하자!!"
      ],
      "metadata": {
        "id": "LDABQvhWh8Oi"
      }
    }
  ]
}